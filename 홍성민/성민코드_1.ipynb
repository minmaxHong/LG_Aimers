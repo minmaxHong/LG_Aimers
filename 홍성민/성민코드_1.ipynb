{
  "nbformat": 4,
  "nbformat_minor": 0,
  "metadata": {
    "colab": {
      "provenance": []
    },
    "kernelspec": {
      "name": "python3",
      "display_name": "Python 3"
    },
    "language_info": {
      "name": "python"
    }
  },
  "cells": [
    {
      "cell_type": "code",
      "execution_count": null,
      "metadata": {
        "colab": {
          "base_uri": "https://localhost:8080/"
        },
        "id": "X2XQhIrGWC87",
        "outputId": "bbc6b680-c9b4-455d-bc85-53944f9e5352"
      },
      "outputs": [
        {
          "output_type": "stream",
          "name": "stdout",
          "text": [
            "Mounted at /content/drive\n"
          ]
        }
      ],
      "source": [
        "from google.colab import drive\n",
        "drive.mount('/content/drive')"
      ]
    },
    {
      "cell_type": "code",
      "source": [
        "import os\n",
        "import random\n",
        "import pandas as pd\n",
        "import numpy as np\n",
        "from sklearn.metrics import (\n",
        "    accuracy_score,\n",
        "    confusion_matrix,\n",
        "    f1_score,\n",
        "    precision_score,\n",
        "    recall_score,\n",
        ")\n",
        "from sklearn.model_selection import train_test_split\n",
        "from sklearn.tree import DecisionTreeClassifier"
      ],
      "metadata": {
        "id": "s9tLODZXWIuI"
      },
      "execution_count": null,
      "outputs": []
    },
    {
      "cell_type": "markdown",
      "source": [
        "### seed값 고정하기\n"
      ],
      "metadata": {
        "id": "xrf5-TEsXurL"
      }
    },
    {
      "cell_type": "code",
      "source": [
        "def seed_everything(seed):\n",
        "  random.seed(seed)\n",
        "  os.environ[\"PYTHONHASHSEED\"] = str(seed)\n",
        "  np.random.seed(seed)\n",
        "\n",
        "seed_everything(42)"
      ],
      "metadata": {
        "id": "BscXvICOXSYF"
      },
      "execution_count": null,
      "outputs": []
    },
    {
      "cell_type": "markdown",
      "source": [
        "### Dataset 읽어오기\n",
        "\n",
        "1. 중복되지 않는 열은 'id' column임"
      ],
      "metadata": {
        "id": "4tjimDhgYI1_"
      }
    },
    {
      "cell_type": "code",
      "source": [
        "df_train = pd.read_csv(\"/content/drive/MyDrive/BITAmin/LG/lg_aimers.csv\") # 학습용 데이터\n",
        "df_test = pd.read_csv(\"/content/drive/MyDrive/BITAmin/LG/lg_aimers_submission.csv\") # 테스트 데이터(제출파일의 데이터)\n",
        "\n",
        "df_train.shape, df_test.shape"
      ],
      "metadata": {
        "colab": {
          "base_uri": "https://localhost:8080/"
        },
        "id": "eyyk62vjYDXZ",
        "outputId": "4df68893-48dd-425f-f662-55be4e17a0ca"
      },
      "execution_count": null,
      "outputs": [
        {
          "output_type": "execute_result",
          "data": {
            "text/plain": [
              "((59299, 29), (5271, 30))"
            ]
          },
          "metadata": {},
          "execution_count": 7
        }
      ]
    },
    {
      "cell_type": "markdown",
      "source": [
        "### Data 전처리"
      ],
      "metadata": {
        "id": "gHsthZozYYh7"
      }
    },
    {
      "cell_type": "code",
      "source": [
        "# == 컬럼별 NA율 90% 이상 컬럼 제외 ==\n",
        "df_train_drop_col = []\n",
        "for col in df_train.columns:\n",
        "  if df_train[col].isnull().sum() / len(df_train) * 100 > 90:\n",
        "    df_train_drop_col.append(col)\n",
        "    print(f\"삭제된 column : {col}\")\n",
        "    df_train.drop(col, axis = 1, inplace = True)\n",
        "    df_test.drop(col, axis = 1, inplace = True)\n",
        "\n",
        "# == 중복되는 행 처리 ==\n",
        "df_train = df_train.drop_duplicates()\n",
        "\n",
        "print(f\"\\n중복 처리 난 뒤의 train shape : {df_train.shape}\")\n",
        "\n"
      ],
      "metadata": {
        "colab": {
          "base_uri": "https://localhost:8080/"
        },
        "id": "E0KCdmVoYMbn",
        "outputId": "4e23c50a-8702-4285-cec2-93ad8afb2220"
      },
      "execution_count": null,
      "outputs": [
        {
          "output_type": "stream",
          "name": "stdout",
          "text": [
            "삭제된 column : id_strategic_ver\n",
            "삭제된 column : it_strategic_ver\n",
            "삭제된 column : idit_strategic_ver\n",
            "삭제된 column : business_subarea\n",
            "중복 처리 난 뒤의 train shape : (55779, 25)\n"
          ]
        }
      ]
    },
    {
      "cell_type": "markdown",
      "source": [
        "### bant_submit\n",
        "\n",
        "[Encoding]\n",
        "* one_hot_encoding"
      ],
      "metadata": {
        "id": "s0ssClJGZqYn"
      }
    },
    {
      "cell_type": "code",
      "source": [
        "df_train['bant_submit'].value_counts()"
      ],
      "metadata": {
        "id": "FXufP2OwZZmS"
      },
      "execution_count": null,
      "outputs": []
    },
    {
      "cell_type": "markdown",
      "source": [
        "### customer_country\n",
        "\n",
        "* 나라별 국가별로 나누기\n",
        "\n",
        "* 확인 결과, 상대적으로 적은 개수에서 상위 20개의 속한 나라가 많은데, 코딩하기 너무 어려워서 일단 패스\n",
        "\n",
        "* 이건 빼박 one-hot-encoding"
      ],
      "metadata": {
        "id": "rO7RyC3IaBNe"
      }
    },
    {
      "cell_type": "code",
      "source": [
        "# == 결측치 확인 ==\n",
        "print('결측치 ratio : ', (df_train['customer_country'].isnull().sum() / len(df_train)) * 100)\n",
        "\n",
        "# 결측치의 비율이 1.7이니 제일 많이 나온 값으로 대체할 수 있을 듯"
      ],
      "metadata": {
        "colab": {
          "base_uri": "https://localhost:8080/"
        },
        "id": "JKfIMY14azDn",
        "outputId": "3c499dc2-8c1f-43b5-9dc9-6c8e40c4d537"
      },
      "execution_count": null,
      "outputs": [
        {
          "output_type": "stream",
          "name": "stdout",
          "text": [
            "결측치 ratio :  1.7461768766023056\n"
          ]
        }
      ]
    },
    {
      "cell_type": "code",
      "source": [
        "cus_cty = pd.DataFrame(df_train['customer_country'])\n",
        "\n",
        "# == 결측치 없애기 ==\n",
        "cus_cty = cus_cty.dropna()\n",
        "\n",
        "# == mode값 구하기 ==\n",
        "cus_cty['customer_country'] = cus_cty['customer_country'].apply(lambda x : x.split('/')[-1] if '/' in x else x)"
      ],
      "metadata": {
        "id": "0tDSf8ivb4wG"
      },
      "execution_count": null,
      "outputs": []
    },
    {
      "cell_type": "code",
      "source": [
        "# india가 가장 많음\n",
        "cus_cty_mode = cus_cty['customer_country'].value_counts().idxmax()\n",
        "cus_cty_mode"
      ],
      "metadata": {
        "colab": {
          "base_uri": "https://localhost:8080/",
          "height": 35
        },
        "id": "e4wtCx8LcQHC",
        "outputId": "5f262dbb-e549-4f04-cdf0-961f00148974"
      },
      "execution_count": null,
      "outputs": [
        {
          "output_type": "execute_result",
          "data": {
            "text/plain": [
              "'India'"
            ],
            "application/vnd.google.colaboratory.intrinsic+json": {
              "type": "string"
            }
          },
          "metadata": {},
          "execution_count": 21
        }
      ]
    },
    {
      "cell_type": "code",
      "source": [
        "df_train['customer_country'] = df_train['customer_country'].fillna(cus_cty_mode)\n",
        "df_train['customer_country'] = df_train['customer_country'].apply(lambda x : x.split('/')[-1] if '/' in x else x)\n",
        "\n",
        "df_train['customer_country'].value_counts()"
      ],
      "metadata": {
        "colab": {
          "base_uri": "https://localhost:8080/"
        },
        "id": "omc7TjaWaCyS",
        "outputId": "2181e6e6-833f-4da2-c31a-782b4f62c238"
      },
      "execution_count": null,
      "outputs": [
        {
          "output_type": "execute_result",
          "data": {
            "text/plain": [
              "India                             17326\n",
              "Brazil                             8174\n",
              "United States                      3058\n",
              "Mexico                             2511\n",
              "Philippines                        2436\n",
              "                                  ...  \n",
              "7673 HEMPSTON CIR                     1\n",
              "5555                                  1\n",
              "PO Box 112292CarrolltonTX75011        1\n",
              "1808 Lithgow RdCelinaTX75009          1\n",
              "Manaus                                1\n",
              "Name: customer_country, Length: 582, dtype: int64"
            ]
          },
          "metadata": {},
          "execution_count": 22
        }
      ]
    },
    {
      "cell_type": "code",
      "source": [
        "pd.set_option('display.max_rows', None)\n",
        "df_train['customer_country'].value_counts()"
      ],
      "metadata": {
        "id": "tPHFqratdB5y"
      },
      "execution_count": null,
      "outputs": []
    },
    {
      "cell_type": "code",
      "source": [
        "cus_cty_val_counts = df_train['customer_country'].value_counts()\n",
        "\n",
        "threshold = 20\n",
        "df_train['customer_country'] = df_train['customer_country'].apply(lambda x : 'others' if cus_cty_val_counts[x] < threshold else x)\n",
        "\n",
        "df_train['customer_country'].value_counts()"
      ],
      "metadata": {
        "id": "u5mSxn0bfFNj"
      },
      "execution_count": null,
      "outputs": []
    },
    {
      "cell_type": "markdown",
      "source": [
        "### business_unit\n",
        "\n",
        "* 결측치 없음\n",
        "\n",
        "* one-hot-encoding\n",
        "\n",
        "* cm은 1개이므로 해당 행 지우기"
      ],
      "metadata": {
        "id": "unmujp4RkDvO"
      }
    },
    {
      "cell_type": "code",
      "source": [
        "df_train['business_unit'].value_counts()\n",
        "\n",
        "# == CM 삭제 ==\n",
        "bus_condition = df_train['business_unit'] == 'CM'\n",
        "df_train = df_train[~bus_condition]\n",
        "\n",
        "df_train['business_unit'].value_counts()"
      ],
      "metadata": {
        "colab": {
          "base_uri": "https://localhost:8080/"
        },
        "id": "B2c612gmkDUW",
        "outputId": "861ace84-93c5-4c8f-cd58-65c833bfa41e"
      },
      "execution_count": null,
      "outputs": [
        {
          "output_type": "execute_result",
          "data": {
            "text/plain": [
              "ID          24863\n",
              "AS          22649\n",
              "IT           7979\n",
              "Solution      287\n",
              "Name: business_unit, dtype: int64"
            ]
          },
          "metadata": {},
          "execution_count": 31
        }
      ]
    }
  ]
}