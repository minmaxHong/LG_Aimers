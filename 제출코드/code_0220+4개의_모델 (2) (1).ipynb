{
  "cells": [
    {
      "cell_type": "code",
      "source": [
        "from google.colab import drive\n",
        "drive.mount('/content/drive')"
      ],
      "metadata": {
        "colab": {
          "base_uri": "https://localhost:8080/"
        },
        "id": "NruXLLjJbfny",
        "outputId": "840a656a-6360-4e2f-cc69-40287777d57e"
      },
      "id": "NruXLLjJbfny",
      "execution_count": null,
      "outputs": [
        {
          "output_type": "stream",
          "name": "stdout",
          "text": [
            "Drive already mounted at /content/drive; to attempt to forcibly remount, call drive.mount(\"/content/drive\", force_remount=True).\n"
          ]
        }
      ]
    },
    {
      "cell_type": "markdown",
      "id": "017e9265",
      "metadata": {
        "id": "017e9265"
      },
      "source": [
        "# 영업 성공 여부 분류 경진대회"
      ]
    },
    {
      "cell_type": "markdown",
      "id": "acdab431",
      "metadata": {
        "id": "acdab431"
      },
      "source": [
        "## 1. 데이터 확인"
      ]
    },
    {
      "cell_type": "code",
      "execution_count": null,
      "id": "a315cc58",
      "metadata": {
        "id": "a315cc58"
      },
      "outputs": [],
      "source": [
        "from sklearn.model_selection import StratifiedKFold\n",
        "from sklearn.preprocessing import MinMaxScaler\n",
        "from sklearn.metrics import f1_score\n",
        "\n",
        "import lightgbm as lgb\n",
        "\n",
        "import matplotlib.pyplot as plt\n",
        "import pandas as pd\n",
        "import numpy as np\n",
        "\n",
        "import warnings\n",
        "warnings.filterwarnings('ignore')"
      ]
    },
    {
      "cell_type": "code",
      "execution_count": null,
      "id": "7ada941e",
      "metadata": {
        "id": "7ada941e"
      },
      "outputs": [],
      "source": [
        "df_train = pd.read_csv('/content/drive/MyDrive/BITAmin/LG/lg_aimers.csv') # 학습용 데이터\n",
        "df_test = pd.read_csv('/content/drive/MyDrive/BITAmin/LG/lg_aimers_submission.csv') # 테스트 데이터(제출파일의 데이터)"
      ]
    },
    {
      "cell_type": "markdown",
      "id": "af526c13",
      "metadata": {
        "id": "af526c13"
      },
      "source": [
        "## 2.1 데이터 전처리 - 데이터 정제"
      ]
    },
    {
      "cell_type": "code",
      "execution_count": null,
      "id": "cd64b902",
      "metadata": {
        "colab": {
          "base_uri": "https://localhost:8080/"
        },
        "id": "cd64b902",
        "outputId": "db4971a3-fa62-438f-8bd6-c6a95c537eda"
      },
      "outputs": [
        {
          "output_type": "stream",
          "name": "stdout",
          "text": [
            "(59299, 29) (5271, 30)\n"
          ]
        }
      ],
      "source": [
        "## 정제 전\n",
        "print(df_train.shape, df_test.shape)"
      ]
    },
    {
      "cell_type": "code",
      "execution_count": null,
      "id": "e7152bcb",
      "metadata": {
        "id": "e7152bcb"
      },
      "outputs": [],
      "source": [
        "## 복제된 행 제거\n",
        "df_train.drop_duplicates(inplace=True)\n",
        "\n",
        "# 무조건 converted하면서 test에 없는 회사인 25096은 삭제\n",
        "del_cus_id=[25096]\n",
        "df_train=df_train[~df_train[\"customer_idx\"].isin(del_cus_id)]"
      ]
    },
    {
      "cell_type": "code",
      "source": [
        "## 복제된 행 제거, 25096 제거\n",
        "print(df_train.shape, df_test.shape)"
      ],
      "metadata": {
        "colab": {
          "base_uri": "https://localhost:8080/"
        },
        "id": "2J_CkiSC3Pzr",
        "outputId": "5445ef2b-1e64-47d4-8912-8168e78c3dbe"
      },
      "id": "2J_CkiSC3Pzr",
      "execution_count": null,
      "outputs": [
        {
          "output_type": "stream",
          "name": "stdout",
          "text": [
            "(53376, 29) (5271, 30)\n"
          ]
        }
      ]
    },
    {
      "cell_type": "markdown",
      "source": [
        "### 결측치 채우기전 파생변수"
      ],
      "metadata": {
        "id": "pjwFnWKMitzc"
      },
      "id": "pjwFnWKMitzc"
    },
    {
      "cell_type": "markdown",
      "source": [
        "#### 파생변수 1. bn_submit: band_submit에서 customer_position이랑 expected timeline 작성한 경우 제거\n"
      ],
      "metadata": {
        "id": "Dg2oyAmWb88I"
      },
      "id": "Dg2oyAmWb88I"
    },
    {
      "cell_type": "code",
      "execution_count": null,
      "id": "b5ad443c",
      "metadata": {
        "id": "b5ad443c"
      },
      "outputs": [],
      "source": [
        "df_all = pd.concat([df_train, df_test])\n",
        "df_all['bn_submit'] = 0\n",
        "\n",
        "\n",
        "for i in range(len(df_all)):\n",
        "    tt = 0\n",
        "    if df_all.iloc[i]['customer_position'] != 'none':\n",
        "        tt += 1\n",
        "\n",
        "    if pd.notnull(df_all.iloc[i]['expected_timeline']):  # 수정된 부분\n",
        "        tt += 1\n",
        "\n",
        "    df_all.iloc[i]['bn_submit'] = df_all.iloc[i]['bant_submit'] - (tt / 4)  # 수정된 부분\n",
        "\n",
        "df_train = df_all.iloc[:len(df_train)]\n",
        "df_test = df_all.iloc[len(df_train):]\n",
        "df_train = df_train.drop('id', axis=1)"
      ]
    },
    {
      "cell_type": "markdown",
      "source": [
        "#### 파생변수 2. num_missing: 각 행별로 결측치의 개수 count"
      ],
      "metadata": {
        "id": "JF3mJ9RwcO3p"
      },
      "id": "JF3mJ9RwcO3p"
    },
    {
      "cell_type": "code",
      "execution_count": null,
      "id": "31e0e06a",
      "metadata": {
        "id": "31e0e06a"
      },
      "outputs": [],
      "source": [
        "df_all = pd.concat([df_train, df_test])\n",
        "df_all['num_missing'] = df_all.isnull().sum(axis=1) - 1\n",
        "\n",
        "df_train = df_all.iloc[: len(df_train)]\n",
        "df_test = df_all.iloc[len(df_train) :]\n",
        "df_train = df_train.drop('id', axis=1)"
      ]
    },
    {
      "cell_type": "code",
      "execution_count": null,
      "id": "e44e159f",
      "metadata": {
        "colab": {
          "base_uri": "https://localhost:8080/"
        },
        "id": "e44e159f",
        "outputId": "9aa41669-5a8a-4ae8-b709-8d4a7d40b554"
      },
      "outputs": [
        {
          "output_type": "stream",
          "name": "stdout",
          "text": [
            "<class 'pandas.core.frame.DataFrame'>\n",
            "Int64Index: 53376 entries, 0 to 59298\n",
            "Data columns (total 31 columns):\n",
            " #   Column                   Non-Null Count  Dtype  \n",
            "---  ------                   --------------  -----  \n",
            " 0   bant_submit              53376 non-null  float64\n",
            " 1   customer_country         52488 non-null  object \n",
            " 2   business_unit            53376 non-null  object \n",
            " 3   com_reg_ver_win_rate     14072 non-null  float64\n",
            " 4   customer_idx             53376 non-null  int64  \n",
            " 5   customer_type            14422 non-null  object \n",
            " 6   enterprise               53376 non-null  object \n",
            " 7   historical_existing_cnt  12297 non-null  float64\n",
            " 8   id_strategic_ver         3328 non-null   float64\n",
            " 9   it_strategic_ver         1108 non-null   float64\n",
            " 10  idit_strategic_ver       4436 non-null   float64\n",
            " 11  customer_job             37123 non-null  object \n",
            " 12  lead_desc_length         53376 non-null  int64  \n",
            " 13  inquiry_type             52562 non-null  object \n",
            " 14  product_category         36407 non-null  object \n",
            " 15  product_subcategory      8186 non-null   object \n",
            " 16  product_modelname        8320 non-null   object \n",
            " 17  customer_country.1       52488 non-null  object \n",
            " 18  customer_position        53376 non-null  object \n",
            " 19  response_corporate       53376 non-null  object \n",
            " 20  expected_timeline        26064 non-null  object \n",
            " 21  ver_cus                  53376 non-null  int64  \n",
            " 22  ver_pro                  53376 non-null  int64  \n",
            " 23  ver_win_rate_x           17745 non-null  float64\n",
            " 24  ver_win_ratio_per_bu     14842 non-null  float64\n",
            " 25  business_area            17745 non-null  object \n",
            " 26  business_subarea         5180 non-null   object \n",
            " 27  lead_owner               53376 non-null  int64  \n",
            " 28  is_converted             53376 non-null  float64\n",
            " 29  bn_submit                53376 non-null  int64  \n",
            " 30  num_missing              53376 non-null  int64  \n",
            "dtypes: float64(9), int64(7), object(15)\n",
            "memory usage: 13.0+ MB\n"
          ]
        }
      ],
      "source": [
        "df_train.info()\n",
        "# pd.set_option('display.max_columns', None)\n",
        "# df_train.head(5)"
      ]
    },
    {
      "cell_type": "markdown",
      "id": "d9141fc5",
      "metadata": {
        "id": "d9141fc5"
      },
      "source": [
        "### 2.1.1 오타 제어(customer_country)"
      ]
    },
    {
      "cell_type": "code",
      "execution_count": null,
      "id": "f1ff31fb",
      "metadata": {
        "id": "f1ff31fb"
      },
      "outputs": [],
      "source": [
        "## 2. customer_country 오타 제어 함수\n",
        "def extract_country_name(x):\n",
        "    if pd.isnull(x):\n",
        "        # !!!!!!!!!!!!!!!!!!!!!!!!!!!!!!!!!!!!!!!!!!!!!!!!!!!!!!!!!!!!!!!!!!!!!!!!!!!!!!!!!!!!#\n",
        "        return np.nan\n",
        "    else:\n",
        "        idx=-1\n",
        "        a = x.split(\"/\")[idx].strip()\n",
        "        while a=='':\n",
        "            idx-=1\n",
        "            if idx == -4 :\n",
        "                return 'others'\n",
        "            a = x.split(\"/\")[idx].strip()\n",
        "        if idx != -1:\n",
        "            if a in ['Richmond Hill', 'Vancouver', 'Pickering', 'Winnipeg']:\n",
        "                return 'Canada'\n",
        "            elif a in ['ROURKELA', 'Guna mp', 'MADURAI', 'KOLKATA', 'Ahmedabad', 'Madurai'\n",
        "                       'Mathura', 'Delhi', 'Solan', 'Bengaluru', 'Kanchipuram', 'Erode',\n",
        "                       'NEARAMBEDKAR HOSPET', 'Bhubaneswar', 'LATEHAR', 'Malur', 'Ackerman',\n",
        "                       'Faridabad', 'Vasal', 'Ballia', 'Ludhiana', 'Rajkot']:\n",
        "                return 'India'\n",
        "            elif a in ['Bergdietikon']:\n",
        "                return 'Switzerland'\n",
        "            elif a in ['Lagos, Nigeria', 'Ikoyi', 'Abuja', 'Windhoek']:\n",
        "                return 'Nigeria'\n",
        "            elif a in ['Monrovia']:\n",
        "                return 'Liberia'\n",
        "            elif a in ['Malvern', 'Cambridge', 'Danbury', 'Dundee', 'Boulder', 'Liverpool', 'Winston']:\n",
        "                return 'United Kingdom'\n",
        "            elif a in ['San Jose', 'Bulacan', 'Makati City', 'Manila', 'Cebu', 'Pasig',\n",
        "                       'CALOOCAN CITY', 'dasmarinas city', 'Mandaluyong City','Angeles' 'makati', 'Angeles City',\n",
        "                        'Bataan', 'TAYTAY', 'Las Piñas - Muntinlupa', 'Quezon City' ,'Valenzuela City',\n",
        "                        '314 G. Araneta Ave., Quezon City', 'PASIG CITY', 'Manila', 'San Fernando City, La Union', 'Valenzuela'\n",
        "                        'CAINTA', 'Quezon City', 'Camarines Sur', 'Mandaluyong', 'San Juan city', 'Qc', 'Meycauayan City, Bulacan',\n",
        "                        'Parañaque','Rizal', 'Makati city', 'CITY OF IMUS', 'laGrange', 'Sanford', 'Chilhowie', 'Chesterfield', 'Amherst',\n",
        "                        'Paranaque', 'Cavite', 'CITY OF MARIKINA', 'Bocaue, Bukacan, Philippines']:\n",
        "                return 'Philippines'\n",
        "\n",
        "            elif a in ['Atlanta', 'Tbilisi'] :\n",
        "                return \"Georgia\"\n",
        "            elif a in ['Oslo']:\n",
        "                return 'Norway'\n",
        "            elif a in ['Arroyo Hondo Viejo'] :\n",
        "                return 'Dominican Republic'\n",
        "            elif a in ['Midrand']:\n",
        "                return 'South Africa'\n",
        "            elif a in ['Olsztyn', 'Przemysłowa 4, 37-450 Stalowa Wola']:\n",
        "                return \"Poland\"\n",
        "            elif a in ['San Juan']:\n",
        "                return 'Puerto Rico'\n",
        "            elif a in ['Berlin', 'Weikersheim', 'Herdwangen-Schönach']:\n",
        "                return 'Germany'\n",
        "            elif a in ['Nassau']:\n",
        "                return 'Bahamas'\n",
        "            elif a in ['Sapphire', \"Mission Hills\", 'North Haven', 'Melbourne']:\n",
        "                return 'Australia'\n",
        "            elif a in ['Madrid, Spain', 'Madrid', 'Barrio Viejo De Callosa De Segura']:\n",
        "                return 'Spain'\n",
        "            elif a in ['Kuwait city'] :\n",
        "                return 'Kuwait'\n",
        "            elif a in ['Esch-sur-Alzette']:\n",
        "                return 'Luxembourg'\n",
        "            elif a in ['Tashkent']:\n",
        "                return 'Uzbekistan'\n",
        "            elif a in ['Taipei city']:\n",
        "                return 'Taiwan'\n",
        "            elif a in ['Tokyo']:\n",
        "                return 'Japan'\n",
        "            elif a in ['Thai Binh', 'Hai Duong']:\n",
        "                return 'Vietnam'\n",
        "            elif a in ['Buengkum']:\n",
        "                return 'Thailand'\n",
        "            elif a in ['Gardabaer']:\n",
        "                return 'Iceland'\n",
        "            elif a in ['Riyadh', \"Makkah\", 'Riyadh'] :\n",
        "                return 'Saudi Arabia'\n",
        "            elif a in ['Králův Dvůr Levín']:\n",
        "                return 'Czech Republic'\n",
        "            elif a in ['Cairo', 'Bloch']:\n",
        "                return 'Egypt'\n",
        "            elif a in ['Maseru']:\n",
        "                return 'Lesotho'\n",
        "            elif a in ['Colombo 03']:\n",
        "                return 'Sri Lanka'\n",
        "            elif a in [\"Tirana\"]:\n",
        "                return 'Albania'\n",
        "            elif a in ['70']:\n",
        "                return 'others'\n",
        "            elif a in ['Jakarta'] :\n",
        "                return 'Indonesia'\n",
        "            elif a in ['Paramaribo'] :\n",
        "                return 'Suriname'\n",
        "            elif a in ['Kampala']:\n",
        "                return 'Uganda'\n",
        "            elif a in ['DUBAI', 'Dubai']:\n",
        "                return 'U.A.E.'\n",
        "            elif a in ['Paradera']:\n",
        "                return 'Aruba'\n",
        "            elif a in ['上海', 'Shenzhen']:\n",
        "                return 'China'\n",
        "            elif a in ['Suva']:\n",
        "                return 'Fiji'\n",
        "            elif a in ['Budapest']:\n",
        "                return 'Hungary'\n",
        "            elif a in ['Amman']:\n",
        "                return 'Jordan'\n",
        "            elif a in ['QURUM']:\n",
        "                return 'Oman'\n",
        "            else:\n",
        "                return 'United States'\n",
        "        if a in ['5555', '48201', 'country', 'A'] :\n",
        "            return 'others'\n",
        "        elif '@' in a:\n",
        "            return 'others'\n",
        "        else:\n",
        "            return a\n"
      ]
    },
    {
      "cell_type": "code",
      "execution_count": null,
      "id": "9d2bc09d",
      "metadata": {
        "id": "9d2bc09d"
      },
      "outputs": [],
      "source": [
        "def cus_cty(df) :\n",
        "  replace_values = {'US' : 'United States',\n",
        "                    '700 Patroon Creek BlvdAlbanyNY12206' : 'United States',\n",
        "                    '239 Court St, Brooklyn, NY 11201, United States' : 'United States',\n",
        "                    'Little Rock, Arkansas, United States' : 'United States',\n",
        "                    'CA 91915-6002' : 'United States',\n",
        "                    '430 N Hamilton RdWhitehall, OH 43213, USA' : 'United States',\n",
        "                    '1110 Morse Rd, Columbus, Ohio, 43229, United States' : 'United States',\n",
        "                    '1755 North Brown Rd. Suite 200 Lawrenceville, GA 30043' : 'United States',\n",
        "                    'Miami, Florida, United States' : 'United States',\n",
        "                    '1100 Lee Ave, Lafayette, LA 70501' : 'United States',\n",
        "                    '85 W Main St Suite C, Canton, GA 30114' : 'United States',\n",
        "                    '101 MetLife Way, Cary, NC, 27513 – MET1' : 'United States',\n",
        "                    '7105 Northland Terrace N, Minneapolis, MN 55428' : 'United States',\n",
        "                    'CA 95814' : 'United States',\n",
        "                    '1275 Sister Grove Rd Van Alstyne, TX 75495' : 'United States',\n",
        "                    '100 Vestavia ParkwayBirminghamAL35216' : 'United States',\n",
        "                    'CA 92618 United States' : 'United States',\n",
        "                    'Rio de Janeiro' : 'Brazil',\n",
        "                    '1605 Ave. Ponce de León, Suite 400 San Juan, 00909, Puerto Rico' : 'Puerto Rico',\n",
        "                    'IL 60069' : 'United States',\n",
        "                    '28001 238th St, Le Claire, IA 52753, USA' : 'United States',\n",
        "                    'Grapevine, Texas, United States United States' : 'United States',\n",
        "                    '700 District Dr, Itasca, IL 60143 United States' : 'United States',\n",
        "                    '6398 College Blvd, Overland Park, KS 66211, United States' : 'United States',\n",
        "                    '3804 W Broadway St, Ardmore, OK 73401, United States' : 'United States',\n",
        "                    'New York City Metropolitan Area, United States': 'United States',\n",
        "                    '2529 W Busch Blvd Suite 1000, Tampa, FL 33618, United States' : 'United States',\n",
        "                    '1100 ITBProvoUT84602' : 'United States',\n",
        "                    'Telangana' : 'India',\n",
        "                    'Jeffersonville, IN United States' : 'United States',\n",
        "                    '6564 Headquarters DrPlanoTX7505' : 'United States',\n",
        "                    '1817 S Washington AveTitusville, FL 32780, USA' : 'United States',\n",
        "                    '63 Flushing Ave Bldg 303, Suite 804, Brooklyn, NY 11205, United States' : 'United States',\n",
        "                    '717 General Booth BlvdVirginia Beach, VA 23451, USA' : 'United States',\n",
        "                    '2877 Prospect Rd, Fort Lauderdale, FL 33309' : 'United States',\n",
        "                    'bangalore' : 'India',\n",
        "                    'MI 48827' : 'United States',\n",
        "                    '810 N KINGSTON DR PEORIA, IL 61604-2145' : 'United States',\n",
        "                    'OH 45215, USA' : 'United States',\n",
        "                    '3801 E Willow St, Long Beach, CA 90815, EE. UU.' : 'United States',\n",
        "                    'Clinton, OK 73601' : 'United States',\n",
        "                    'Ha Noi' : 'Vietnam',\n",
        "                    'ARGENTINA' : 'Argentina',\n",
        "                    '3100 Shore Drive Virginia Beach, VA 23451' : 'United States',\n",
        "                    'Los Angeles, California, United States' : 'United States',\n",
        "                    'West Caldwell NJ 07960 United States' : 'United States',\n",
        "                    '881 S Division St, Buffalo, NY 14210, United States' : 'United States',\n",
        "                    '12718 Kitten Trail, Hudson, FL 34669' : 'United States',\n",
        "                    'FL 33772' : 'United States',\n",
        "                    '13351 Dovers St, Waverly, NE 68462, United States' : 'United States',\n",
        "                    'Jacksonville Florida' : 'United States',\n",
        "                    'Ohio United States' : 'United States',\n",
        "                    '1100 Lee Ave, Lafayette, LA 70501' : 'United States',\n",
        "                    '6564 Headquarters DrPlanoTX75051' : 'United States',\n",
        "                    'RJ' : 'Brazil',\n",
        "                    'TX 78572 United States' : 'United States',\n",
        "                    '117 Bernal Rd Ste70-422San JoseSan JoseCA95119 ' : 'United States',\n",
        "                    '993 Niagara Ave, San Diego, CA 92107 United States' : 'United States',\n",
        "                    'Four Embarcadero Center Suite 1400 #85, San Francisco, CA 94111 United States' : 'United States',\n",
        "                    'odisha' : 'India',\n",
        "                    'lucknow' : 'India',\n",
        "                    '1036 n nalder st' : 'United States',\n",
        "                    'United States 32901' : 'United States',\n",
        "                    '2100 Engineer Rd, Oakland, CA 94607, United States' : 'United States',\n",
        "                    'Via E. De Amicis, 23 . 90044 Carini (PA)' : 'Italy',\n",
        "                    '136 S IndustrialSalineMI48176' : 'United States',\n",
        "                    '335 League St S, Sulphur Springs, TX 75482' : 'United States',\n",
        "                    'United States 14503.' : 'United States',\n",
        "                    'gurgaon' : 'India',\n",
        "                    '30 Winter Street Boston, MA 02108' : 'United States',\n",
        "                    '275 John Hancock Rd. Taunton, MA, 02780' : 'United States',\n",
        "                    'MA 02062 United States' : 'United States',\n",
        "                    'Pune' : 'India',\n",
        "                    'FL 33025' : 'United States',\n",
        "                    'Bari, Italy' : 'Italy',\n",
        "                    '8 Gay St, Christiana, PA 17509 United States' : 'United States', # 게이 뭐노 ㅋ,\n",
        "                    '500 N Highway 89 North, Prescott AZ 86313 United States' : 'United States',\n",
        "                    '609 Medical Center Dr. Decatur, Texas, 76234'  : 'United States',\n",
        "                    '7703 Floyd Curl Dr MC 7800, San Antonio TX 78229 United States' : 'United States',\n",
        "                    'St Cloud, MN 56303' : 'United States',\n",
        "                    '7581 S Franklin Way, Centennial, CO 80122, United States' : 'United States',\n",
        "                    # '' : 'United States',\n",
        "                    'Honduras' : 'Honduras',\n",
        "                    'CARRERA 11A 94-46 EDIFICIO CHICO 3000 PISO 3 BOGOTA' : 'Colombia',\n",
        "                    'Netherlands Antilles' : 'Netherlands',\n",
        "                    '823 Gateway Center Way, San Diego, CA 92102' : 'United States',\n",
        "                    'Colombia  Cartagena' : 'Colombia',\n",
        "                    'Cuiabá' : 'Brazil',\n",
        "                    'CO 80127' : 'United States',\n",
        "                    'TX 75098' : 'United States',\n",
        "                    'MO 64506' : 'United States',\n",
        "                    '1222 Eastwick CirMurphy, TX 75094, United States' : 'United States',\n",
        "                    '545 West 111th st Suite 7C' : 'United States',\n",
        "                    'P.O. Box 291992, Port Orange, FL 32129' : 'United States',\n",
        "                    'Isle of Man' : 'United Kingdom', # 아일랜드해안에 있지만, 영국왕국과 결합되어 있다함(사실 별도의 영토는 맞긴한데, 일단 영국으로)\n",
        "                    'NY 10566 United States' : 'United States',\n",
        "                    'GA 30039' : 'United States',\n",
        "                    'Centro de Produção Audiovisual - Sesc São Paulo' : 'Brazil',\n",
        "                    'Aparecida' : 'Brazil',\n",
        "                    'Colombia - cartagena' : 'Colombia',\n",
        "                    'Capão da canoa' : 'Brazil',\n",
        "                    'São Paulo' : 'Brazil',\n",
        "                    '1919 Minnesota Ct, Mississauga, ON L5N' : 'Canada',\n",
        "                    '54 Sugar Creek Center Blvd #300, Sugar Land, TX 77478, United States' : 'United States',\n",
        "                    'João Pessoa' : 'Brazil',\n",
        "                    'PerU' : 'Peru',\n",
        "                    'TN 38120' : 'United States',\n",
        "                    'Richardson, Texas, United States' : 'United States',\n",
        "                    'Sao Paulo' : 'Brazil',\n",
        "                    '2367 N 2650 WFarr WestUT84404' : 'United States',\n",
        "                    '4880 Stevens Creek BlvdSan JoseCA95129' : 'United States',\n",
        "                    '3131 BriarPark Dr Suite 200HoustonTX77042' : 'United States',\n",
        "                    '450 Riverchase PkwyBirminghamAL35186' : 'United States',\n",
        "                    '450 Riverchase PkwyBirminghamAL35186' : 'United States',\n",
        "                    '1397 Etowah DriveAtlantaGA30319' : 'United States',\n",
        "                    '3 Nasson Avenue' : 'United States',\n",
        "                    'Largo, Florida, United States United States' : 'United States',\n",
        "                    'FL 33013' : 'United States',\n",
        "                    'Bucaramanga' : 'Colombia',\n",
        "                    '7610 Market St, Canton, MI 48187, United States' : 'United States',\n",
        "                    '116 Village Blvd Suite 200, Princeton, NJ 08540 United States' : 'United States',\n",
        "                    'Dourados' : 'Brazil',\n",
        "                    'Foz de Iguaçu - PR Avenida Tancredo Neves 6731 Jardim Itaipu' : 'Brazil',\n",
        "                    'St Maarten' : 'France', # 프랑스, 네델란드간 분쟁 지역 (프랑스가 더 쌤)\n",
        "                    'Recife' : 'Brazil',\n",
        "                    'São Paulo, Pinheiros' : 'Brazil',\n",
        "                    'Cartagena' : 'Colombia',\n",
        "                    'Firenze, Italy' : 'Italy',\n",
        "                    'OR 97128' : 'United States',\n",
        "                    'Colombia C2: Solo información' : 'Colombia',\n",
        "                    'Ironhorse Customs LLC 4443 Genella Way North Las Vegas, NV 89031' : 'United States',\n",
        "                    'San Francisco, CA 94128, United States' : 'United States',\n",
        "                    '14700 Caribbean Way' : 'United States',\n",
        "                    'Bus Shed, 6501 Red Hook Rd #201, Nazareth, St Thomas 00802, U.S. Virgin Islands' : 'United States',\n",
        "                    '1600 Rosecrans Ave bldg 7 ste 101, Manhattan Beach, CA 90266,' : 'United States',\n",
        "                    'FL 32703' : 'United States',\n",
        "                    'AGOST, ALICANTE' : 'Spain',\n",
        "                    'Ohio' : 'United States',\n",
        "                    'NV 89119' : 'United States',\n",
        "                    'VA 22209' : 'United States',\n",
        "                    'NY' : 'United States',\n",
        "                    'Θέση Πέτσα Βακαλοπούλου ΒΙΟΠΑ Παλλήνης  153 51 ' : 'Greece',\n",
        "                    'SPAIN ' : 'Spain',\n",
        "                    'MADRID' : 'Spain',\n",
        "                    'ELCHE, ALICANTE' : 'Spain',\n",
        "                    '1800 Congress Ave., Austin, TX 78701' : 'United States',\n",
        "                    'CA 92657 United States' : 'United States',\n",
        "                    '9631 Liberty Rd B, Randallstown, MD 21133' : 'United States',\n",
        "                    'Benbrook, TX 76126' : 'United States',\n",
        "                    'SC 29555' : 'United States',\n",
        "                    '6252 E Grant Rd suite 150 Tucson, AZ 85712' : 'United States',\n",
        "                    'MO 64802 ' : 'United States',\n",
        "                    'gujarat' : 'India',\n",
        "                    'IN 46601, EE. UU.' : 'United States',\n",
        "                    'Warren, OH 44483.' : 'United States',\n",
        "                    '1 Hoag Dr.' : 'United States',\n",
        "                    '210 Route 4 East Fl 4' : 'United States',\n",
        "                    '21903 Ranier Ln' : 'United States',\n",
        "                    'NY 11358' : 'United States',\n",
        "                    'CA 95618' : 'United States',\n",
        "                    'New Hampshire' : 'United States',\n",
        "                    'GA 31405' : 'United States',\n",
        "                    'Wyckoff, NJ 07481, USA' : 'United States',\n",
        "                    '750 Florida Central Parkway Suite #100 Longwood, FL 32750' : 'United States',\n",
        "                    'FL 33404' : 'United States',\n",
        "                    '101 Clyde Ave Longwood, FL 32750, USA' : 'United States',\n",
        "                    'CA' : 'United States',\n",
        "                    'IL 61615' : 'United States',\n",
        "                    'Herndon, VA 20170' : 'United States',\n",
        "                    '724 W Business US Highway 60, Dexter, MO 63841,' : 'United States',\n",
        "                    'Square at, 2662 Gateway Rd Suite 165, Carlsbad, CA 92009' : 'United States',\n",
        "                    '1156 W Armitage Ave suite b, Chicago, IL 60614, US.' : 'United States',\n",
        "                    'MO 63103, USA' : 'United States',\n",
        "                    'MO 63103' : 'United States',\n",
        "                    'GRAN CANARIAS PLAYA DEL INGLES' : 'Spain',\n",
        "                    'CACERES' : 'Spain',\n",
        "                    '4278 S Buffalo St  Orchard Park, NY 14127' : 'United States',\n",
        "                    '1775 Liberty Dr, Fort Belvoir, VA 22060, United States' : 'United States',\n",
        "                    '8569 Sudley Rd Ste C Historic District, Manassas, VA 20110, USA' : 'United States',\n",
        "                    'MA 02780' : 'United States',\n",
        "                    'MN 55024' : 'United States',\n",
        "                    'Delmar, NY 12054 United States' : 'United States',\n",
        "                    'IL 60638 United States' : 'United States',\n",
        "                    'MO 64108' : 'United States',\n",
        "                    'CA 92078' : 'United States',\n",
        "                    'IL 60563United States' :  'United States',\n",
        "                    'SD 57751' : 'United States',\n",
        "                    '990 S Madera Ave, Kerman, CA 93630, United States' : 'United States',\n",
        "                    '135 Broadway, Schenectady, NY 12305, United States' : 'United States',\n",
        "                    '1491 Furnace St, Montgomery, AL 36104, United States' : 'United States',\n",
        "                    '1385 N Weber Rd, Romeoville, IL 60446,' : 'United States',\n",
        "                    '463 Industrial Park Rd, Elysburg, PA 17824, US' : 'United States',\n",
        "                    'CA 94555 United States' : 'United States',\n",
        "                    'UT 84116' : 'United States',\n",
        "                    '990 Biscayne Dr, Concord, NC 28027, United States' : 'United States',\n",
        "                    'Nicolosi (CT), Italy' : 'Italy',\n",
        "                    'FL 33442' : 'United States',\n",
        "                    'FL 33716' : 'United States',\n",
        "                    '3440 Rockefeller Ct Waldorf, MD 20602' : 'United States',\n",
        "                    'Arlington, NY 12603' : 'United States',\n",
        "                    '65 Grove Street, Suite 204  Watertown, MA 02472' : 'United States',\n",
        "                    '13854 Lakeside Cir Sterling Heights, MI 48313' : 'United States',\n",
        "                    '9110 Forest CrossingThe WoodlandsTX77381' : 'United States',\n",
        "                    'OK 73601 United States' : 'United States',\n",
        "                    'Hacienda Heights, California, United States' : 'United States',\n",
        "                    'Connecticut United States' : 'United States',\n",
        "                    'Caldwell, New Jersey, United States United States' : 'United States',\n",
        "                    'Gujarat' : 'India',\n",
        "                    'Chennai' : 'India',\n",
        "                    'Jamaica, NY 11417, USA' : 'United States',\n",
        "                    'indore' : 'India',\n",
        "                    'US Virgin Islands' : 'United Kingdom', # 영국이랑 가까워서 영국으로 해놓음\n",
        "                    'KS 66217' : 'United States',\n",
        "                    'NJ 07013' : 'United States',\n",
        "                    'TX 77024' : 'United States',\n",
        "                    '30 Cambria Ave, Pleasantville, NJ 08232' : 'United States',\n",
        "                    '4278 S Buffalo St Orchard Park, NY 14127' : 'United States',\n",
        "                    '723 S Valley Way, Palmer, AK 99645' : 'United States',\n",
        "                    'Zip 98433' : 'United States',\n",
        "                    'bhilwara' : 'India',\n",
        "                    'ND' : 'United States', # 노스다코타주(미국 도시이름) 줄임말 같음\n",
        "                    'VT 05672' : 'United States',\n",
        "                    '800 3rd Ave 3rd floor, New York, NY 10022' : 'United States',\n",
        "                    'BR' : 'Brazil', # 브라질 iso국가부호\n",
        "                    'kerela' : 'India',\n",
        "                    'uttar pradesh' : 'India',\n",
        "                    'Anand Vihar Delhi' : 'India',\n",
        "                    'hyderabad' : 'India',\n",
        "                    \"Via dell'informatica 10 - 37036 San Martino Buon Albergo (Veneto), Italy\" : ' Italy',\n",
        "                    'Belo Horizonte' : 'Brazil',\n",
        "                    '15806 Longship Ct' : 'United States',\n",
        "                    '2350 Airport FrwyBedfordTX76022' : 'United States',\n",
        "                    '1999 S Bascomb AveSuite 1000CampbellCA95008' : 'United States',\n",
        "                    '9716 McFarring DrFort WorthTX76244' : 'United States',\n",
        "                    '200 cabelLouisvilleKY40206' : 'United States',\n",
        "                    '1112 Badger Vine LaneArlingtonTX76005' : 'United States',\n",
        "                    '6111 W Plano Pkwy #2100PlanoTX75093' : 'United States',\n",
        "                    '100 Sabine River Dr.HuttoTX78634' : 'United States',\n",
        "                    '6300 Harry Hines BlvdSte. 1400DallasTX75235' : 'United States',\n",
        "                    '100 first stSan FranciscoCA94015' : 'United States',\n",
        "                    '899 Kifer RoadSunnyvaleCA94086' : 'United States',\n",
        "                    '2217 HOUSTON DRIVEMelissaTX75454' : 'United States',\n",
        "                    '829 Jackson ave' : 'United States',\n",
        "                    '3027 West Bay Villa Ave' : 'United States',\n",
        "                    '126 Diablo Ranch Court' : 'United States',\n",
        "                    '1537 Rolling Hills Dr.' : 'United States',\n",
        "                    '1715 Forest Cove Drive,  Apt 201' : 'United States',\n",
        "                    '410 Baylor StAustinTX78703' : 'United States',\n",
        "                    '9111 cypress waters blvdDallasTX75038' : 'United States',\n",
        "                    '9420 West Sam Houston Pkwy NHoustonTX77018' : 'United States',\n",
        "                    '6 Kimball LaneLynnfieldMA1940' : 'United States',\n",
        "                    '9820 Northcross Center CtHuntersvilleNC28078' : 'United States',\n",
        "                    '9800 S. Monroe StreetSandyUT84070' : 'United States',\n",
        "                    '2475 Washington BlvdOgdenUT84401' : 'United States',\n",
        "                    '400 Centre StNewtonMA2458' : 'United States',\n",
        "                    '400 Centre StreetNewtonMA2458' : 'United States',\n",
        "                    '36 Margin StPeabodyMA1960' : 'United States',\n",
        "                    '77 Massachusetts AveCambridgeMA2139' : 'United States',\n",
        "                    '160 Gould St Ste 300, Needham Heights, Massachusetts 02494NeedhamMA2721' : 'United States',\n",
        "                    '9 Landsdowne StreetBostonMA2215' : 'United States',\n",
        "                    '1209 Derby Run Carrollton, TX 75007CarrolltonTX75007' : 'United States',\n",
        "                    'One Constitution RoadBostonMA2129' : 'United States',\n",
        "                    '252 Beech AvenueMelroseMA2176' : 'United States',\n",
        "                    '5301 Stevens Creek BlvdSanta ClaraCA95051' : 'United States',\n",
        "                    '230 Highland Ave, Suite 531SomervilleMA2143' : 'United States',\n",
        "                    '7700 West Sunrise BlvdPlantationFL33322' : 'United States',\n",
        "                    '602 Saber Creek Drive' : 'United States',\n",
        "                    '11330 Clay RdHoustonTX77041' : 'United States',\n",
        "                    '1 Skyview drFort WorthTX76155' : 'United States',\n",
        "                    '416 Panzano Drive' : 'United States',\n",
        "                    '5501 Headquarters DrPlanoTX75024' : 'United States',\n",
        "                    '2266 Palmer Dr.' : 'United States',\n",
        "                    '1380 Enterprise Dr' : 'United States',\n",
        "                    '6601 Carroll Highlands Rd' : 'United States',\n",
        "                    '275 Mishawum Road' : 'United States',\n",
        "                    '222 Maxine Dr' : 'United States',\n",
        "                    '2900 Highway 280Suite 250BirminghamAL35223' : 'United States',\n",
        "                    '305 John Street' : 'United States',\n",
        "                    'MA 01851' : 'United States',\n",
        "                    '600 5th Street' : 'United States',\n",
        "                    'IL 60191' : 'United States',\n",
        "                    'Cra. 51 #12 sur-75, San Fernando, Itagüi, Medellín, Guayabal, Medellín, Antioquia, Colombia' : 'Colombia',\n",
        "                    '3000 Montour Church Road' : 'United States',\n",
        "                    '9820HuntersvilleNC28078' : 'United States',\n",
        "                    '152 Bowdoin Street' : 'United States',\n",
        "                    'PO Box 112292CarrolltonTX75011' : 'United States',\n",
        "                    '825 Eastlake Ave E' : 'United States',\n",
        "                    '955 Powell Ave SW' : 'United States',\n",
        "                    '2047  w summerdale ave' : 'United States',\n",
        "                    '1560 Chance Ct' : 'United States',\n",
        "                    '8454 Muirwood TrlFort WorthTX76137' : 'United States',\n",
        "                    '1503 LBJ ParkwaySuite 700Farmers BranchTX75234' : 'United States',\n",
        "                    '7673 HEMPSTON CIR' : 'United States',\n",
        "                    '1808 Lithgow RdCelinaTX75009' : 'United States',\n",
        "                    '1001 Main St' : 'United States',\n",
        "                    '1909 Forest Knoll DrHooverAL35244' : 'United States',\n",
        "                    '106 Lakeview DrHomewoodAL35209' : 'United States',\n",
        "                    '24082 Carmel Dr' : 'United States',\n",
        "                    '417 20th St NBirminghamAL35203' : 'United States',\n",
        "                    '594 Howard StSan FranciscoCA94105' : 'United States',\n",
        "                    '594 Howard StSan FranciscoCA94106' : 'United States',\n",
        "                    '31700 Temecula Parkway, Temecula CA 92592 United States' : 'United States',\n",
        "                    '300 East Park Drive' : 'United States',\n",
        "                    'Manaus' : 'Brazil',\n",
        "                    'SPAIN' : 'Spain',\n",
        "                    ', MO 64802' : 'United States',\n",
        "                    'Columbia' : 'Colombia',\n",
        "                    'Canda' : 'Canada',\n",
        "                    'Θέση Πέτσα Βακαλοπούλου ΒΙΟΠΑ Παλλήνης  153 51' : 'Greece',\n",
        "                    '117 Bernal Rd Ste70-422San JoseSan JoseCA95119' : 'United States',\n",
        "                    '6005 Commerce Dr. Ste. 300' : 'United States',\n",
        "                    '17215 Welby Way' : 'United States',\n",
        "                    '45 n 200 wWillardUT84340' : 'United States',\n",
        "                    'Swaziland' : 'Switzerland',\n",
        "                    'Nevada' : 'United States',\n",
        "                    '1100 Lee Ave, Lafayette, LA 70501,' : 'United States',\n",
        "                    'MO 64108.' : 'United States',\n",
        "                    'mumbai' : 'India',\n",
        "                    'Barranquilla' : 'Colombia',\n",
        "                    'UAE Dubai' : 'U.A.E.',\n",
        "                    'COLOMBIA' : 'Colombia',\n",
        "                    'Türkiye' : 'Turkey',\n",
        "                    'EGYPT' : ' Egypt',\n",
        "                    'Democratic Republic of the Congo' : 'Congo',\n",
        "                    'St Kitts' : 'Saint Kitts and Nevis',\n",
        "                    'Antigua' : 'Antigua and Barbuda',\n",
        "                    'Ivory Coast' : \"Cote d'Ivoire\",\n",
        "                    'British Virgin Islands' : 'United Kingdom',\n",
        "                    '85 W Main St Suite C, Canton, GA 30114,' : 'United States',\n",
        "                    'Turks and Caicos Islands' : 'United Kingdom',\n",
        "                    'VALENCIA' : 'Spain',\n",
        "                    'Dominican republic': 'Dominican Republic',\n",
        "                    'UNITED STATES': 'United States',\n",
        "                    'NE' : 'United States',\n",
        "                    'FL' : 'United States',\n",
        "                    'TX' : 'United States',\n",
        "                    'NJ' : 'United States',\n",
        "                    'NIM' : 'United States',\n",
        "                    'NM' : 'United States',\n",
        "                    'Englewood, CO' : 'United States',\n",
        "                    'W126 N7449 Flint Drive Menomonee Falls VA' : 'United States',\n",
        "                    '3 Center Plz Suite 330 Boston, MA 02108' : 'United States',\n",
        "                    'Curaçao': 'Netherlands',\n",
        "                    '5003 Lady Of The Lake Dr  Raleigh NC': 'United States',\n",
        "                    '233 South Beaudry Avenue  Los Angeles CA': 'United States',\n",
        "                    '603 Heritage Drive  Mount Juliet': 'United States',\n",
        "                    'Sandford': 'United Kingdom',\n",
        "                    'BLOOMSBURY': 'United Kingdom',\n",
        "                    'Southfield': 'United States',\n",
        "                    'Indianapolis': 'United States',\n",
        "                    'maharashtra': 'India',\n",
        "                    'Salt Lake City': 'United States',\n",
        "                    'New York': 'United States',\n",
        "                    'Soufriere': 'Saint Lucia',\n",
        "                    'Mumbai': 'India',\n",
        "                    'San Diego': 'United States',\n",
        "                    'Batavia': 'Indonesia',\n",
        "                    'Bangalore': 'India',\n",
        "                    'Houston': 'United States',\n",
        "                    }\n",
        "\n",
        "  df['customer_country'] = df['customer_country'].replace(replace_values)\n",
        "  return df"
      ]
    },
    {
      "cell_type": "code",
      "execution_count": null,
      "id": "2a0d31f4",
      "metadata": {
        "id": "2a0d31f4"
      },
      "outputs": [],
      "source": [
        "## 2. customer_country\n",
        "df_train[\"customer_country\"] = df_train[\"customer_country\"].apply(extract_country_name)\n",
        "df_test[\"customer_country\"] = df_test[\"customer_country\"].apply(extract_country_name)\n",
        "\n",
        "df_train = cus_cty(df_train)\n",
        "df_test = cus_cty(df_test)"
      ]
    },
    {
      "cell_type": "code",
      "execution_count": null,
      "id": "4ee34762",
      "metadata": {
        "id": "4ee34762",
        "colab": {
          "base_uri": "https://localhost:8080/",
          "height": 72
        },
        "outputId": "45405576-993a-478b-8dca-61dd6fd55320"
      },
      "outputs": [
        {
          "output_type": "execute_result",
          "data": {
            "text/plain": [
              "'\\ndf_all = pd.concat([df_train, df_test])\\ndf_c = df_all.groupby([\\'response_corporate\\', \\'customer_country\\'])[\"is_converted\"].count().reset_index()\\n\\ndef get_max_group(group):\\n    max_row = group.loc[group[\\'is_converted\\'].idxmax()]\\n    return max_row[\\'customer_country\\']\\n\\nresult = df_c.groupby(\\'response_corporate\\').apply(get_max_group)\\n\\nzero_indices = df_train.index[df_train[\\'customer_country\\']==0]\\nfor index in zero_indices:\\n    df_train.loc[index, \\'customer_country\\']=result[df_train.loc[index, \"response_corporate\"]]\\n\\n'"
            ],
            "application/vnd.google.colaboratory.intrinsic+json": {
              "type": "string"
            }
          },
          "metadata": {},
          "execution_count": 68
        }
      ],
      "source": [
        "# df_country 결측치 채우기 -> 담당 자사 법인명 기준으로 많이 의뢰한 국가로 채워보자\n",
        "'''\n",
        "df_all = pd.concat([df_train, df_test])\n",
        "df_c = df_all.groupby(['response_corporate', 'customer_country'])[\"is_converted\"].count().reset_index()\n",
        "\n",
        "def get_max_group(group):\n",
        "    max_row = group.loc[group['is_converted'].idxmax()]\n",
        "    return max_row['customer_country']\n",
        "\n",
        "result = df_c.groupby('response_corporate').apply(get_max_group)\n",
        "\n",
        "zero_indices = df_train.index[df_train['customer_country']==0]\n",
        "for index in zero_indices:\n",
        "    df_train.loc[index, 'customer_country']=result[df_train.loc[index, \"response_corporate\"]]\n",
        "\n",
        "'''"
      ]
    },
    {
      "cell_type": "code",
      "source": [
        "df_train['customer_country'].isnull().sum()"
      ],
      "metadata": {
        "colab": {
          "base_uri": "https://localhost:8080/"
        },
        "id": "7k7ePPIz7sKq",
        "outputId": "81919a78-4d94-4fd3-dd99-ee9dd31394ab"
      },
      "id": "7k7ePPIz7sKq",
      "execution_count": null,
      "outputs": [
        {
          "output_type": "execute_result",
          "data": {
            "text/plain": [
              "888"
            ]
          },
          "metadata": {},
          "execution_count": 69
        }
      ]
    },
    {
      "cell_type": "markdown",
      "id": "cd21a8eb",
      "metadata": {
        "id": "cd21a8eb"
      },
      "source": [
        "### 2.1.2 오타제어(customer_position --> 상위 10개만 살리자)"
      ]
    },
    {
      "cell_type": "code",
      "execution_count": null,
      "id": "f32f0bbc",
      "metadata": {
        "id": "f32f0bbc"
      },
      "outputs": [],
      "source": [
        "def position_refine(df):\n",
        "    replace_words={\n",
        "        'other': 'other',\n",
        "        'this is a consume display requirement for home purpose.':'other',\n",
        "        'vicepresident': 'vice president',\n",
        "        'bulgaria' : 'other',\n",
        "        'lider de desarrollo': 'ceo/founder',\n",
        "        'decision-influencer': 'ceo/founder',\n",
        "        'decision-maker': 'ceo/founder',\n",
        "        'architecture/consult' : 'architect/consultant',\n",
        "        'software /solution provider' :  'software/solution provider',\n",
        "        'vp' : 'vice president',\n",
        "        'prof.' : 'professor',\n",
        "        'pgt Physcis': \"post graduate teacher in physics\",\n",
        "        'asst prof.': 'assistant professor',\n",
        "        'ceo/fundador': 'ceo/founder',\n",
        "        'gerente': 'manager',\n",
        "        'tierarzt': 'veterinarian',\n",
        "        'técnico' : 'technician',\n",
        "        'exhibitiontv' : 'other',\n",
        "        'proprietário(a)' : 'owner',\n",
        "        'genel müdür' : 'ceo/founder',\n",
        "        'mindenes' : 'other',\n",
        "        'főorvos' : 'chief physician',\n",
        "        'surgery professional' : 'surgeon',\n",
        "        'research': 'researcher',\n",
        "        'the big boss': 'ceo/founder',\n",
        "        'radiology professional' : 'radiologist',\n",
        "        'associate professor in electornics engg': 'associate professor',\n",
        "        'assistant professor of enlish': 'assistant professor',\n",
        "        'consulting': 'consultant',\n",
        "        'education': 'educator',\n",
        "        'education professional': 'educator',\n",
        "        'english trainer for ielts,toefl,pte,gre,sat exams.' : 'english trainer',\n",
        "        'entrylevel': 'entry level',\n",
        "        'exhibitiontv': 'exhibitiontv',\n",
        "        'founder': 'ceo/founder',\n",
        "        'no influence': 'other',\n",
        "        'c-levelexecutive': 'c-level executive',\n",
        "        'others': 'other',\n",
        "        'none': 'other',\n",
        "    ## 상위 10개로 분류\n",
        "        'leader': 'ceo/founder',\n",
        "        'av management': 'manager',\n",
        "        'business partner': 'partner',\n",
        "        'business unit director': 'director',\n",
        "        'chairman': 'manager',\n",
        "        'chief executive officer': 'ceo/founder',\n",
        "        'commercial end-user': 'end-user',\n",
        "        'decision influencer': 'ceo/founder',\n",
        "        'decision maker' : 'leader',\n",
        "        'leadership/executive office/owner': 'ceo/founder',\n",
        "        'market intelligence/research': 'associate/analyst',\n",
        "        'owner': 'ceo/founder',\n",
        "        'principal & director': 'director',\n",
        "        'product management': 'manager',\n",
        "        'intern': 'trainee'\n",
        "    }\n",
        "\n",
        "    df['customer_position'].replace(replace_words, inplace=True)\n",
        "\n",
        "    return df"
      ]
    },
    {
      "cell_type": "code",
      "execution_count": null,
      "id": "88636c49",
      "metadata": {
        "id": "88636c49"
      },
      "outputs": [],
      "source": [
        "df_train = position_refine(df_train)\n",
        "df_test = position_refine(df_test)"
      ]
    },
    {
      "cell_type": "code",
      "execution_count": null,
      "id": "afa0486f",
      "metadata": {
        "id": "afa0486f"
      },
      "outputs": [],
      "source": [
        "def preprocess_customer_position(df):\n",
        "\n",
        "    # 가장 많이 나오는 변수 상위 10개를 저장\n",
        "    top10_positions = df['customer_position'].value_counts().index[:10]\n",
        "\n",
        "    # 상위 10개에 속하지 않는 경우 'other'로 변경\n",
        "    df['customer_position'] = df['customer_position'].apply(lambda x: x if x in top10_positions and pd.notnull(x) else 'other')\n",
        "\n",
        "    return df\n",
        "\n",
        "# 함수를 훈련 데이터와 테스트 데이터에 적용\n",
        "df_train = preprocess_customer_position(df_train)\n",
        "df_test = preprocess_customer_position(df_test)"
      ]
    },
    {
      "cell_type": "code",
      "source": [
        "pd.set_option('display.max_rows', None)\n",
        "df_train['customer_position'].value_counts()"
      ],
      "metadata": {
        "colab": {
          "base_uri": "https://localhost:8080/"
        },
        "id": "tSwKD73O8pTG",
        "outputId": "55b81e6a-09d7-4d43-e1e1-a722e342fb54"
      },
      "id": "tSwKD73O8pTG",
      "execution_count": null,
      "outputs": [
        {
          "output_type": "execute_result",
          "data": {
            "text/plain": [
              "other                24843\n",
              "manager               7411\n",
              "ceo/founder           7404\n",
              "director              4477\n",
              "partner               2347\n",
              "associate/analyst     2331\n",
              "entry level           2082\n",
              "trainee               1216\n",
              "c-level executive      783\n",
              "vice president         482\n",
              "Name: customer_position, dtype: int64"
            ]
          },
          "metadata": {},
          "execution_count": 73
        }
      ]
    },
    {
      "cell_type": "markdown",
      "id": "c9444cd4",
      "metadata": {
        "id": "c9444cd4"
      },
      "source": [
        "### 2.1.3 오타제어(customer_type) --> 상위 3개 or 5개만 살리자"
      ]
    },
    {
      "cell_type": "code",
      "execution_count": null,
      "id": "7a6a310b",
      "metadata": {
        "colab": {
          "base_uri": "https://localhost:8080/"
        },
        "id": "7a6a310b",
        "outputId": "faa9fdce-8861-4423-9363-67f38bfc2a53"
      },
      "outputs": [
        {
          "output_type": "execute_result",
          "data": {
            "text/plain": [
              "Unknown                  38954\n",
              "End-Customer             10117\n",
              "Specifier/ Influencer     2443\n",
              "Channel Partner           1368\n",
              "Service Partner            474\n",
              "Others                      20\n",
              "Name: customer_type, dtype: int64"
            ]
          },
          "metadata": {},
          "execution_count": 74
        }
      ],
      "source": [
        "def cus_type_typo(df) :\n",
        "\n",
        "  #  == 오타 먼저 전처리 ==\n",
        "  replace_values_typo = {\n",
        "      'End Customer' : 'End-Customer',\n",
        "      'Other' : 'Others',\n",
        "      'Etc.' : 'Others',\n",
        "      'End-user' : 'End-Customer',\n",
        "      'Specifier / Influencer' : 'Specifier/ Influencer',\n",
        "      'Home Owner' : 'Homeowner',\n",
        "      'Corporate' : 'Installer/Contractor',\n",
        "      'Software / Solution Provider' : 'Software/Solution Provider',\n",
        "\n",
        "  }\n",
        "\n",
        "  # == 대체하기 ==\n",
        "  replace_values =  {\n",
        "      'Solution Eco-Partner' : 'Service Partner',\n",
        "      'Engineer' : 'Specifier/ Influencer',\n",
        "      'HVAC Engineer' : 'Specifier/ Influencer',\n",
        "      'Technician' : 'Specifier/ Influencer',\n",
        "      'Consultant' : 'Service Partner',\n",
        "      'Developer' : 'Specifier/ Influencer',\n",
        "      'Homeowner' : 'End-Customer',\n",
        "      'Software/Solution Provider' : 'Service Partner', # 종합적인 solution을 제공한다고 생각하여 SP\n",
        "      'Software / Solution Provider' : 'Service Partner', #\n",
        "      'Manager / Director' : 'Specifier/ Influencer',\n",
        "      'Installer' : 'Channel Partner', # 설치업자는 현장 설치를 전문적으로 수행한다고 생각함\n",
        "      'Installer/Contractor' : 'Channel Partner',\n",
        "      'Architect/Consultant' : 'Service Partner',\n",
        "      'Distributor' : 'Channel Partner',\n",
        "      'Reseller' : 'Channel Partner',\n",
        "      'Dealer/Distributor' : 'Channel Partner',\n",
        "      'System Integrator' : 'Service Partner',\n",
        "      'Technical Assistant' : 'Service Partner',\n",
        "      'Commercial end-user' : 'End-Customer',\n",
        "      'Administrator' : 'Channel Partner',\n",
        "      'Interior Designer' : 'Specifier/ Influencer'\n",
        "  }\n",
        "  df['customer_type'] = df['customer_type'].replace(replace_values_typo)\n",
        "  df['customer_type'] = df['customer_type'].replace(replace_values)\n",
        "\n",
        "  # 결측치 처리\n",
        "\n",
        "  return df\n",
        "\n",
        "df_train = cus_type_typo(df_train)\n",
        "df_train['customer_type'].value_counts()"
      ]
    },
    {
      "cell_type": "markdown",
      "id": "53895a0b",
      "metadata": {
        "id": "53895a0b"
      },
      "source": [
        "# custoemr_job"
      ]
    },
    {
      "cell_type": "code",
      "execution_count": null,
      "id": "96b5cc4e",
      "metadata": {
        "id": "96b5cc4e"
      },
      "outputs": [],
      "source": [
        "def cus_job_typo(df):\n",
        "\n",
        "  # == 오타 먼저 전처리 ==\n",
        "  replace_values = {\n",
        "      'graphic/color art' : 'arts and design',\n",
        "      '3d/vfx art' : 'arts and design',\n",
        "      'clinical specialist' : 'healthcare services',\n",
        "      'radiology professional' : 'healthcare services',\n",
        "      'medical imaging specialist' : 'engineering',\n",
        "      'surgery professional' : 'healthcare services',\n",
        "      'pathologist' : 'healthcare services',\n",
        "      'art and design' : 'arts and design',\n",
        "      'programm-_und_projektmanagement' : 'program and project management',\n",
        "      'engineering & technical' : 'engineering',\n",
        "      'technical' : 'engineering',\n",
        "      'medien_und_kommunikation' : 'media and communication',\n",
        "      'finanzen' : 'finance',\n",
        "      'designer' : 'arts and design',\n",
        "      'information_technology' : 'information technology',\n",
        "      'kreation_und_design' : 'arts and design',\n",
        "      'sonstiges' : 'other',\n",
        "      'arts_and_design' : 'arts and design',\n",
        "      'otro' : 'other',\n",
        "      'computing & it' : 'information technology',\n",
        "      'it director' : 'information technology',\n",
        "      'engineer' : 'engineering',\n",
        "      'program_and_project_management' : 'program and project management',\n",
        "      'surgery professional' : 'healthcare services',\n",
        "      'clinic' : 'healthcare services',\n",
        "      'projektmenedzsment\\tprogram and project management' : 'program and project management',\n",
        "      'information technology​' : 'information technology',\n",
        "      'it' : 'information technology',\n",
        "      'healthcare_services' : 'healthcare services',\n",
        "      'amministrativo' : 'administrative',\n",
        "      'surgery professional​' : 'healthcare services',\n",
        "      'adminisztráció' : 'administrative',\n",
        "      'pénzügy' : 'finance',\n",
        "      'radiology  professional' : 'healthcare services',\n",
        "      'healthcare professionals' : 'healthcare services',\n",
        "      'it - information technology' : 'information technology',\n",
        "      'engineering & technical executive' : 'engineering',\n",
        "      'program_and_project_manager' : 'program and project management',\n",
        "      'administration' : 'administrative',\n",
        "      'tech' : 'engineering',\n",
        "      'it/software' : 'information technology',\n",
        "      'arte_e_design' : 'arts and design',\n",
        "      'program-_és_projektmenedzsment' : 'program and project management',\n",
        "      'others' : 'other',\n",
        "      'medical solution provider' : 'engineering',\n",
        "      'owner' : 'entrepreneurship',\n",
        "      'manager' : 'product management',\n",
        "      'project manager' : 'program and project management',\n",
        "      'curation' : 'arts and design',\n",
        "      'quality assurance' : 'engineering',\n",
        "      'general management' : 'business development',\n",
        "      'architect' : 'engineering',\n",
        "      'gm' : 'business development',\n",
        "      'decision maker' : 'business development',\n",
        "      'ceo' : 'entrepreneurship',\n",
        "      'lead' : 'entrepreneurship',\n",
        "      'director' : 'business development',\n",
        "      'purchaser' : 'purchasing',\n",
        "      'buyer' : 'purchasing',\n",
        "      'arquitecto/consultor' : 'consulting',\n",
        "      'executive' : 'entrepreneurship',\n",
        "      'vertrieb' : 'marketing',\n",
        "      'ceo/founder' : 'entrepreneurship',\n",
        "      'general manager' : 'operations',\n",
        "      'arquitecto/consultor' : 'consulting',\n",
        "      'military and protective services' : 'other',\n",
        "      'community_and_social_services' : 'other',\n",
        "      'installer' : 'operations',\n",
        "      'consultant' : 'consulting',\n",
        "      'revendedor' : 'sales',\n",
        "      'research & development' : 'research',\n",
        "      'procurement' : 'operations',\n",
        "      'coordinator' : 'entrepreneurship',\n",
        "      'integrador' : 'operations',\n",
        "      'integrator' : 'operations',\n",
        "      'operations manager ' : 'operations',\n",
        "      'it manager' : 'information technology',\n",
        "      'advertising' : 'marketing',\n",
        "      'chief engineer' : 'engineering',\n",
        "      'business_development' : 'business development',\n",
        "      'project coordinator' : 'program and project management',\n",
        "      'vendite' : 'sales',\n",
        "      'medical solution  provider' : 'healthcare services',\n",
        "      'media_e_comunicazione' : 'media and communication',\n",
        "      'egyéb' : 'other',\n",
        "      'pm' : 'program and project management',\n",
        "      'account management' : 'accounting',\n",
        "      'quality_assurance' : 'sales',\n",
        "      'associate/analyst' : 'finance',\n",
        "      'general contractor' : 'operations',\n",
        "      'contractor' : 'operations',\n",
        "      'reseller' : 'sales',\n",
        "      'institute & academy' :  'education',\n",
        "      'other stores' : 'other',\n",
        "      'educator' : 'education',\n",
        "      'distributor' : 'sales',\n",
        "      'medical imaging  specialist' : 'engineering',\n",
        "      'sales manager' : 'sales',\n",
        "      'purchasing agent' : 'purchasing',\n",
        "      'művészet_és_design' : 'arts and design',\n",
        "      'av tech' : 'information technology',\n",
        "      'administrative assistant' : 'administrative',\n",
        "      'média_és_kommunikáció' : 'media and communication',\n",
        "      'sales manager' : 'product management',\n",
        "      'purchase' : 'purchasing',\n",
        "      'sales operations' : 'sales',\n",
        "      'procurement specialist' : 'purchasing',\n",
        "      'distribuidor' : 'sales',\n",
        "      'marketing executive' : 'marketing',\n",
        "      'coo' : 'entrepreneurship',\n",
        "      'field marketing' : 'marketing',\n",
        "      'vice president' : 'other',\n",
        "      'technical director' : 'engineering',\n",
        "      'planner' : 'operations',\n",
        "      'producer' : 'product management',\n",
        "      'product marketing' : 'marketing',\n",
        "      'project architect' : 'engineering',\n",
        "      'operations executive' : 'operations',\n",
        "      'operations manager' : 'operations',\n",
        "      'higher education (college & university)' : 'education',\n",
        "      'director of it' : 'information technology',\n",
        "      'design' : 'arts and design',\n",
        "      'project lead' : 'program and project management',\n",
        "      'recommend (you recommend specific products or technologies for the solution)' : 'consulting',\n",
        "      'project head' : 'program and project management',\n",
        "      'medios_de_comunicación' : 'media and communication',\n",
        "      'sales executive' : 'sales',\n",
        "      'solution provider'  : 'consulting',\n",
        "      'üzemeltetés' : 'operations',\n",
        "      'értékesítés' : 'sales',\n",
        "      'influencer' : 'marketing',\n",
        "      'interior designer' : 'arts and design',\n",
        "      'leader' : 'entrepreneurship',\n",
        "      'implement' : 'operations',\n",
        "      # 'hr' : '' 보류\n",
        "      'marketing operations' : 'operations',\n",
        "      'following up' : 'sales',\n",
        "      'supervisor' : 'operations',\n",
        "      'management' : 'program and project management',\n",
        "      'user' : 'sales',\n",
        "      'cliente final' : 'sales',\n",
        "      'president' : 'other',\n",
        "      'event marketing' : 'marketing',\n",
        "      'collaboration & web apps' : 'information technology',\n",
        "      'sales engineering' : 'engineering',\n",
        "      'estimator' : 'engineering',\n",
        "      'end user' : 'sales',\n",
        "      'altro' : 'other',\n",
        "      'project director' : 'program and project management',\n",
        "      'admin' : 'administrative',\n",
        "      'technical marketing' : 'marketing',\n",
        "      'railway & metro station' : 'operations',\n",
        "      'graphic design' : 'arts and design',\n",
        "      'fashion' : 'arts and design',\n",
        "      'account exec/manager' : 'accounting',\n",
        "      'purchasing manager' : 'purchasing',\n",
        "      'details send' : 'operations',\n",
        "      'pacs administrator' : 'healthcare services',\n",
        "      'it specialist' : 'information technology',\n",
        "      'autres' : 'other',\n",
        "      'electronics & telco' : 'engineering',\n",
        "      'medical solution provider' : 'healthcare services',\n",
        "      'emerging technology / innovation' : 'engineering',\n",
        "      'infrastructure' : 'operations',\n",
        "      'designer/ project manager' : 'other', # 너무 애매함\n",
        "      'restaurant display' : 'other',\n",
        "      'test4' : 'other',\n",
        "      'energy' : 'engineering',\n",
        "      'broadcasting & media' : 'media and communication',\n",
        "      'systems administrator' : 'administrative',\n",
        "      'customer experience' : 'other',\n",
        "      'field / outside sales' : 'sales',\n",
        "      'sourcing / procurement' : 'operations',\n",
        "      'chief of engineering' : 'engineering',\n",
        "      'designers' : 'arts and design',\n",
        "      'design/build' : 'arts and design',\n",
        "      'it hardware technician ' : 'engineering',\n",
        "      'electrical contractor' : 'operations',\n",
        "      'systems design' : 'arts and design',\n",
        "      'it admin' : 'information technology',\n",
        "      'property owner' : 'real estate',\n",
        "      'menu' : 'other',\n",
        "      'sme' : 'entrepreneurship',\n",
        "      'design/install/training/support' : 'arts and design',\n",
        "      'electronics evaluator' : 'operations',\n",
        "      'assist in serving food' : 'support',\n",
        "      'underboss' : 'entrepreneurship',\n",
        "      'community theater' : 'support',\n",
        "      'cintractor' : 'operations',\n",
        "      'it support' : 'information technology',\n",
        "      'building owner' : 'real estate',\n",
        "      'teacher' : 'education',\n",
        "      'it project lead' : 'information technology',\n",
        "      'hardware design engineer' : 'engineering',\n",
        "      'it dairector' : 'information technology',\n",
        "      'designer/ engineer' : 'other',  # 경계 모호\n",
        "      'design and install' : 'arts and design',\n",
        "      'designer, creative technologist' : 'arts and design',\n",
        "      'primary end-user' : 'sales',\n",
        "      'it department' : 'information technology',\n",
        "      'designer/installer' : 'arts and design',\n",
        "      'medical solution provider​' : 'healthcare services',\n",
        "      'photographer' : 'arts and design',\n",
        "      'no respoxse on phone will try again ' : 'other',\n",
        "      'product_management' : 'product management',\n",
        "      'solution engineer' : 'engineering',\n",
        "      'reseller/integrator' : 'sales',\n",
        "      'facilitator installation services' : 'operations',\n",
        "      'display' : 'engineering',\n",
        "      'media and communications' : 'media and communication',\n",
        "      'av project manager' : 'program and project management',\n",
        "      'otros' : 'other',\n",
        "      'architect ass interiores' : 'arts and design',\n",
        "      'requirement close' : 'other',\n",
        "      'system designer, integrator' : 'arts and design',\n",
        "      'no requirment' : 'other',\n",
        "      'corporate / office' : 'entrepreneurship',\n",
        "      'colorist' : 'arts and design',\n",
        "      'engineering, design, and install' : 'other',  # 경계 모호\n",
        "      'software solution' : 'consulting',\n",
        "      'serving food' : 'support',\n",
        "      'doctor' : 'healthcare services',\n",
        "      'manufacturing factory / plant' : 'operations',\n",
        "      'waiter' : 'support',\n",
        "      'chief' : 'entrepreneurship',\n",
        "      'contributor' : 'support',\n",
        "      'purchsing' : 'purchasing',\n",
        "      'chef' : 'other',\n",
        "      'designer purchaser' : 'arts and design',\n",
        "      'authorize (you are responsible for making the final decision)' : 'business development',\n",
        "      'a/v project manager' : 'program and project management',\n",
        "      'final approval' : 'other',\n",
        "      'design engineer' : 'arts and design',\n",
        "      'inquiry-to-buy/contact-us test' : 'operations',\n",
        "      'director of lodging' : 'operations',\n",
        "      'lead engineer' : 'engineering',\n",
        "      'design/purchaser' : 'other', # 경계 모호\n",
        "      'technology consultant' : 'consulting',\n",
        "      'project manager/designer' : 'program and project management',\n",
        "      'no respoxse on phone will try again' : 'other',\n",
        "      'consultent' : 'consulting',\n",
        "      'elevator company' : 'entrepreneurship',\n",
        "      'for confrence' : 'operations',\n",
        "      'distributor quotation' : 'operations',\n",
        "      'quoting project' : 'administrative',\n",
        "      'manger' : 'product management', # 임의로 넣어둠\n",
        "      'design consultant' : 'consulting',\n",
        "      'project engineer' : 'engineering',\n",
        "      'conference room' : 'other',\n",
        "      'it hardware technician' : 'information technology',\n",
        "      'designer/pm/gc' : 'other',\n",
        "      'furnish and install' : 'other',\n",
        "      'videowall' : 'other',\n",
        "      'it tech.' : 'information technology',\n",
        "      'projectr mgmt' : 'program and project management',\n",
        "      'facility administrator' : 'administrative',\n",
        "      'software developer' : 'information technology',\n",
        "      'principal' : 'education',\n",
        "      'home theater' : 'other',\n",
        "      'team lead' : 'program and project management',\n",
        "      'serving robot' : 'operations',\n",
        "      'nothing' : 'other',\n",
        "      'cctv view' : 'operations',\n",
        "      'product researcher' : 'research',\n",
        "      'purchase dept' : 'sales',\n",
        "      'instructor' : 'education',\n",
        "      'decider' : 'business development',\n",
        "      'seller installer' : 'sales',\n",
        "      'general manager (decision maker)' : 'business development',\n",
        "      'procurment' : 'operations',\n",
        "      'f&b director for bicycle casino' : 'other',\n",
        "      'supplier and installation ' : 'sales',\n",
        "      'managing director' : 'program and project management',\n",
        "      'sales rep' : 'sales',\n",
        "      'installer/sales rep' : 'sales',\n",
        "      'cctv monetoring' : 'operations',\n",
        "      'department secretary' : 'administrative',\n",
        "      'r&d project manager' : 'program and project management',\n",
        "      'facilities and operations' : 'operations',\n",
        "      'component of video wall' : 'other',\n",
        "      'systems engineer' : 'engineering',\n",
        "      'installer.' : 'operations',\n",
        "      'principal in charge' : 'program and project management',\n",
        "      'fixing tv' : 'other',\n",
        "      'director of engineering' : 'engineering',\n",
        "      'regional director of operations' : 'operations',\n",
        "      'chief eng.' : 'engineering',\n",
        "      'supplier and installation' : 'entrepreneurship',\n",
        "      'sale' : 'sales',\n",
        "      'installation and purchaser' : 'purchasing',\n",
        "      'maintenance technician' : 'engineering',\n",
        "      'purchasing supervisor' : 'consulting',\n",
        "      'we are in iceland' : 'other', # 뭐냐이건 ㅋㅋㅋㅋㅋ\n",
        "      'part of video wall' : 'other',\n",
        "      'mental health' : 'healthcare services',\n",
        "      'technical / decision maker' : 'operations',\n",
        "      'ops mgr' : 'operations',\n",
        "      'research products and prices' : 'research',\n",
        "      'for presentations' : 'other',\n",
        "      'managing partner' : 'program and project management',\n",
        "      'store promotions' : 'marketing',\n",
        "      'owner / project manager' : 'other',  # 경계 모호\n",
        "      'installer/ system integrater' : 'operations',\n",
        "      'office it' : 'entrepreneurship',\n",
        "      'principal engineer ' : 'engineering',\n",
        "      'tradeshow event' : 'marketing',\n",
        "      'serving ' : 'support',\n",
        "      'deputy cio' : 'entrepreneurship',\n",
        "      'project manage' : 'program and project management',\n",
        "      'recommender' : 'other',\n",
        "      'resource manager' : 'product management',\n",
        "      'display screen from control' : 'other',\n",
        "      'general manager - project manager' : 'program and project management',\n",
        "      'sourcing/procurement' : 'operations',\n",
        "      'parts coordinator' : 'support',\n",
        "      'accounts payable' : 'sales',\n",
        "      'main end user of the product' : 'product management',\n",
        "      'ranger 2 ' : 'other',\n",
        "      'pricing ' : 'sales',\n",
        "      'purchasers' : 'purchasing',\n",
        "      'av estimator' : 'sales',\n",
        "      'appliance specialist' : 'consulting',\n",
        "      'consultant,cabinet fabricator' : 'other', # 경계 모호\n",
        "      'director of operations' : 'operations',\n",
        "      'construction manager' : 'program and project management',\n",
        "      'research and developement' : 'research',\n",
        "      'imaging administrator' : 'administrative',\n",
        "      'design/decision maker' : 'operations',\n",
        "      'signage manager' : 'product management',\n",
        "      'planning and installation' : 'operations',\n",
        "      'network administrator' : 'administrative',\n",
        "      'reseorot general manager' : 'program and project management',\n",
        "      'correspondence' : 'other',\n",
        "      'director of finance' : 'finance',\n",
        "      'intergrator' : 'other',\n",
        "      'quote gathering/proposer to owner' : 'sales',\n",
        "      'owner representation' : 'real estate',\n",
        "      'digital display vs signage need' : 'other',\n",
        "      'principal engineer' : 'engineering',\n",
        "      'technical sales' : 'sales',\n",
        "      'producer/project manager' : 'program and project management',\n",
        "      'submitting proposal' : 'operations',\n",
        "      'program directors' : 'program and project management',\n",
        "      'costar av team' : 'real estate',\n",
        "      'conference table' : 'other',\n",
        "      'serving' : 'other',\n",
        "      'genera manager' : 'business development',\n",
        "      'hardware' : 'engineering',\n",
        "      'repair uhd 120 hz units' : 'support',\n",
        "      'recommendation' : 'other',\n",
        "      'equipment and app provider' : 'information technology',\n",
        "      'ranger 2' : 'other',\n",
        "      'pricing ' : 'sales',\n",
        "      'project researcher' : 'research',\n",
        "      'post install support and service' : 'support',\n",
        "      'sign company' : 'entrepreneurship',\n",
        "      'content creation, eq consultant' : 'consulting',\n",
        "      'buyer, coordinating' : 'purchasing',\n",
        "      'project designer' : 'program and project management',\n",
        "      'cloud / mobility' : 'information technology',\n",
        "      'teaching' : 'education',\n",
        "      'equipment planner' : 'purchasing',\n",
        "      'interior stylist' : 'arts and design',\n",
        "      'project sales/manage' : 'sales',\n",
        "      'master mind' : 'entrepreneurship',\n",
        "      'quotation curator' : 'arts and design',\n",
        "      'service coordinator' : 'entrepreneurship',\n",
        "      'creative director' : 'arts and design',\n",
        "      'tester' : 'operations',\n",
        "      'studio manager' : 'program and project management',\n",
        "      'purchase and install' : 'operations',\n",
        "      'asking for quote for client' : 'other',\n",
        "      'general manager- purchaser' : 'other', # 경계 모호\n",
        "      'purchasing authority' : 'purchasing',\n",
        "      'product research' : 'research',\n",
        "      'pricing' : 'sales',\n",
        "      'salesman' : 'sales',\n",
        "      'hotel manager' : 'operations',\n",
        "      'var' : 'sales',\n",
        "      'sho lyrics' : 'other',\n",
        "      'hardware selection' : 'engineering',\n",
        "      'it administrator' : 'information technology',\n",
        "      'replacement tv' : 'other',\n",
        "      'platform administrator' : 'administrative',\n",
        "      'drop, purchase maxhub' : 'other',\n",
        "      'asset management' : 'accounting',\n",
        "      'digital signage' : 'other',\n",
        "      'solution advisor' : 'consulting',\n",
        "      'purchasing director' : 'purchasing',\n",
        "      'facilities' : 'other',\n",
        "      'federal government contractor' : 'other',\n",
        "      'stakeholder' : 'program and project management',\n",
        "      'sourcing & quoting for end user' : 'sales',\n",
        "      'integration' : 'operations',\n",
        "      'contractor/owner' : 'real estate',\n",
        "      'advertising and promotions team' : 'marketing',\n",
        "      'sourcing' : 'administrative',\n",
        "      'photos' : 'arts and design',\n",
        "      'facility manager' : 'program and project management',\n",
        "      'project manager / principal' : 'program and project management',\n",
        "      'managing contractor' : 'program and project management',\n",
        "      'signage subcontractor p/m' : 'product management',\n",
        "      'solutions provider and specifier' : 'consulting',\n",
        "      'informatics, touch capability' : 'other',\n",
        "      'guestroom tv' : 'other',\n",
        "      'application development' : 'information technology',\n",
        "      'developer' : 'information technology',\n",
        "      'profesional de cirugía' : 'healthcare services',\n",
        "      'spécialiste_en_imagerie_médicale' : 'healthcare services',\n",
        "      'chirurgien' : 'healthcare services',\n",
        "      'cirugano' : 'healthcare services',\n",
        "      'media_and_communication' : 'media and communication',\n",
        "      'tierarzt' : 'media and communication',\n",
        "      'digital project manager' : 'program and project management',\n",
        "      'entry level' : 'other',\n",
        "      'si' : 'other',\n",
        "      'director comercial' : 'sales',\n",
        "      'car dealership' : 'sales',\n",
        "      'proprietário(a)' : 'real estate',\n",
        "      'genel müdür' : 'program and project management',\n",
        "      'mindenes' : 'other', # 만능인 ㅇㅈㄹ\n",
        "      'főorvos' : 'healthcare services',\n",
        "      'intern' : 'other',\n",
        "      'the big boss' : 'entrepreneurship',\n",
        "      'strategic communications' : 'program and project management',\n",
        "      'renewable energy' : 'engineering',\n",
        "      'museum / gallery' : 'arts and design',\n",
        "      'profesional de radiología' : 'healthcare services',\n",
        "      'military_and_protective_services ' : 'other',\n",
        "      'project administrator' : 'program and project management',\n",
        "      'radiology_professional' : 'healthcare services',\n",
        "      'signage for an attraction' : 'other',\n",
        "      'equipment selection' : 'other',\n",
        "      'system engineer' : 'engineering',\n",
        "      'designere / budget' : 'arts and design',\n",
        "      'n.a' : 'other',\n",
        "      'commander' : 'other',\n",
        "      'enterprise resource planning' : 'administrative',\n",
        "      'help desk / desktop services' : 'support',\n",
        "      'finance executive' : 'finance',\n",
        "      'senior design engineer' : 'engineering',\n",
        "      'directeur technique' : 'program and project management',\n",
        "      'c-level executive' : 'entrepreneurship',\n",
        "      'programm- und projektmanagement' : 'program and project management',\n",
        "      'kreation und design' : 'arts and design',\n",
        "      'operaciones' : 'operations',\n",
        "      'administración' : 'administrative',\n",
        "      'gestión_de_proyectos' : 'program and project management',\n",
        "      'finanzas' : 'finance',\n",
        "      'arte y diseño' : 'arts and design',\n",
        "      'investigator' : 'administrative',\n",
        "      'marketing coordinator' : 'marketing',\n",
        "      'vendor / reseller' : 'sales',\n",
        "      'maintenance supervisor' : 'consulting',\n",
        "      'head of technology' : 'engineering',\n",
        "      'sliding pictures of beauty salon' : 'other',\n",
        "      'gm/part owner' : 'program and project management',\n",
        "      'project manager / estimator' : 'program and project management',\n",
        "      'managing employee' : 'entrepreneurship',\n",
        "      'designer, producer' : 'other',\n",
        "      'display our products' : 'other',\n",
        "      'lead designer' : 'arts and design',\n",
        "      'architect/owner' : 'other',\n",
        "      'planner/purchaser' : 'other',\n",
        "      'global lead of production' : 'product management',\n",
        "      'liason' : 'other',\n",
        "      'maintenance' : 'product management',\n",
        "      'product owner' : 'product management',\n",
        "      'helpdesk specialist' : 'support',\n",
        "      'the person with the credit card' : 'other',\n",
        "      'projection manager' : 'program and project management',\n",
        "      'need one tv' : 'other',\n",
        "      'gc' : 'entrepreneurship',\n",
        "      'ownner-marketing director' : 'marketing',\n",
        "      'hotel tv' : 'other',\n",
        "      'video wall' : 'other',\n",
        "      'managgere' : 'program and project management',\n",
        "      'engagement executive' : 'entrepreneurship',\n",
        "      'military_and_protective_services ' : 'other',\n",
        "      'solutions architect' : 'consulting',\n",
        "      'project team member' : 'program and project management',\n",
        "      'director purchaser' : 'purchasing',\n",
        "      'head' : 'entrepreneurship',\n",
        "      'reviewer' : 'marketing',\n",
        "      'admin assistant' : 'administrative',\n",
        "      'development coordinator/procurement' : 'operations',\n",
        "      'ordering manager' : 'program and project management',\n",
        "      'facilitator' : 'program and project management',\n",
        "      'sub contractor' : 'operations',\n",
        "      'primary' : 'entrepreneurship',\n",
        "      'retailer/installer' : 'purchasing',\n",
        "      '5% of hotel needs' : 'other',\n",
        "      'av technician' : 'engineering',\n",
        "      'overseer' : 'program and project management',\n",
        "      'business owner' : 'business development',\n",
        "      'display screen' : 'other',\n",
        "      'obtain quotes, process purchase' : 'other',\n",
        "      'tv studio manager' : 'program and project management',\n",
        "      'purchasing coordinator' : 'other',\n",
        "      'it integrator' : 'information technology',\n",
        "      'design and installation company' : 'entrepreneurship',\n",
        "      'replacing tv' : 'support',\n",
        "      'manufacturer' : 'other',\n",
        "      'art installation' : 'arts and design',\n",
        "      'support/facilitator, designer' :  'other',\n",
        "      'supplier' : 'sales',\n",
        "      'design and provide equipment' : 'arts and design',\n",
        "      'director,it' : 'information technology',\n",
        "      'team leader' : 'program and project management',\n",
        "      'purchaser, it and installer' : 'other',\n",
        "      'need 1 tv 55\" edge led 4k uhd' : 'other',\n",
        "      'site manager' : 'program and project management',\n",
        "      \"i'm directing it\" : 'information technology',\n",
        "      'military_and_protective_services' : 'other',\n",
        "      'strategy & operations specialist' : 'operations',\n",
        "      'change tv' : 'support',\n",
        "      'wall mounted screen mirroring' : 'other',\n",
        "      'organizer' : 'entrepreneurship',\n",
        "      'using for window display' : 'other',\n",
        "      'project facilitator' : 'program and project management',\n",
        "      'equipment custodian' : 'product management',\n",
        "      'comanager' : 'program and project management',\n",
        "      'tech service' : 'support',\n",
        "      'requisition' : 'sales',\n",
        "      'engineering director' : 'engineering',\n",
        "      'testing and troubleshooting' : 'other',\n",
        "      'office manager' : 'other',\n",
        "      'requirements and buyer' : 'purchasing',\n",
        "      'research and instalaltion' : 'research',\n",
        "      'vp/gm' : 'other',\n",
        "      'technology designer' : 'arts and design',\n",
        "      'systems designer' : 'arts and design',\n",
        "      'artist, lead on equipment selection' : 'arts and design',\n",
        "      'owning company' : 'entrepreneurship',\n",
        "      'execution' : 'other',\n",
        "      'director it' : 'information technology',\n",
        "      'research' : 'research',\n",
        "      'hr' : 'administrative',\n",
        "      'human resources' : 'administrative',\n",
        "      'hr posting' : 'administrative',\n",
        "      'human_resources' : 'administrative'\n",
        "  }\n",
        "\n",
        "  # == 대체하기 ==\n",
        "  df['customer_job'] = df['customer_job'].replace(replace_values)\n",
        "\n",
        "  # 결측치는 unknown\n",
        "  counts = df['customer_job'].value_counts()\n",
        "  df['customer_job'] = df['customer_job'].apply(lambda x: 'other' if counts[x] == 1 else x)\n",
        "\n",
        "  return df\n",
        "\n",
        "df_train = cus_job_typo(df_train)\n",
        "df_test = cus_job_typo(df_test)"
      ]
    },
    {
      "cell_type": "markdown",
      "id": "bd4b504f",
      "metadata": {
        "id": "bd4b504f"
      },
      "source": [
        "## product_category"
      ]
    },
    {
      "cell_type": "code",
      "execution_count": null,
      "id": "1930dec9",
      "metadata": {
        "id": "1930dec9"
      },
      "outputs": [],
      "source": [
        "replace_pc_words={\n",
        "    'etc.': 'others',\n",
        "    'other': 'others',\n",
        "    'noteboook': 'laptop',\n",
        "    'teto ou cassete inverter': 'ventilation',\n",
        "    'all lg vrf systems' : 'vrf',\n",
        "    'residential air conditioner': 'rac',\n",
        "    'חימום': 'heating',\n",
        "    'idb': 'interactive signage',\n",
        "    'video wall': 'video wall signage',\n",
        "    'lg one:quick': 'one:quick series',\n",
        "    'aio | one quick': 'one:quick series',\n",
        "    'high brightness': 'high brightness signage',\n",
        "    '43us660h0sd.awz': 'hotel tv',\n",
        "    'fhd series': 'commercial tv',\n",
        "    'led 顯示屏': 'led signage',\n",
        "    '酒店電視': 'hotel tv',\n",
        "    'one:quick flex': 'one:quick series',\n",
        "    'ultra stretch series': 'digital signage',\n",
        "    'tv signage': 'commercial tv',\n",
        "    'collaboration displays': 'digital signage',\n",
        "    'oled 顯示屏': 'oled signage',\n",
        "    'meeting & screen sharedirect view leddirect view led': 'led signage',\n",
        "    'window facing display': 'digital signage',\n",
        "    'lg customer care program': 'others',\n",
        "    'led': 'led signage',\n",
        "    'pendingin': 'heating',\n",
        "    'cmulti v 5 air': 'heating',\n",
        "    'ar condicionado residencial' : 'rac',\n",
        "    'مبرد (تشيلر)': 'heating',\n",
        "    'multi v water 5': 'heating',\n",
        "    'single split': 'single-split',\n",
        "    'ahu': 'ventilation',\n",
        "    'multi split': 'multi-split',\n",
        "    'lainnya': 'others',\n",
        "    'lg home bliss air solution': 'ventilation',\n",
        "    'lg paradise air solution': 'ventilation',\n",
        "    'isıtma': 'heating',\n",
        "    'تكييفات': 'multi-split',\n",
        "    'פיצול מרובה': 'multi-split',\n",
        "    'تكييف وتبريد': 'heating',\n",
        "    'אחר': 'others',\n",
        "    'vrf,multi-split': 'vrf',\n",
        "    'vrf,multi-split,chiller': 'vrf',\n",
        "    'vrf,multi-split,single-split,chiller,heatin': 'vrf',\n",
        "    '28mq780': 'monitor',\n",
        "    'computer monitor': 'monitor',\n",
        "    'monitor & pc': 'monitor',\n",
        "    'medical monitor': 'medical display',\n",
        "    'videwall': 'video wall signage',\n",
        "    'ultra stretch signage': 'digital signage',\n",
        "    'digital signage or commercial tvs': 'digital signage',\n",
        "    'onequick series': 'one:quick series',\n",
        "    'education createboard': 'digital signage',\n",
        "    'virtual production': 'others',\n",
        "    'laec015': 'led signage',\n",
        "    '55us660h0sd.bwz': 'commercial tv',\n",
        "    'transparent oled': 'oled signage',\n",
        "    'medical- surgical': 'medical display',\n",
        "    'radiology displays': 'medical display',\n",
        "    'high inch 86 / 98 or 110': 'digital signage',\n",
        "    'leadallin': 'led signage',\n",
        "    'ฯลฯ': 'others',\n",
        "    'taa lcd lfd displays': 'digital signage',\n",
        "    'rac/cac': 'rac',\n",
        "    'حلول التدفئة': 'heating',\n",
        "    'otros': 'others',\n",
        "    'sac': 'heating',\n",
        "    'laec015-gn.awz': 'led signage',\n",
        "    'gscd046' : 'led signage',\n",
        "    '32lq621cbsb.awz': 'commercial tv',\n",
        "    '43uh5f-h.awzm': 'commercial tv',\n",
        "    '49vl5g-m.awzm': 'commercial tv',\n",
        "    '55uq801c0sb.bwz': 'commercial tv',\n",
        "    'tv': 'commercial tv',\n",
        "    '43uq751c0sf.bwz': 'commercial tv',\n",
        "    '32 / 43 pol': 'commercial tv',\n",
        "    'htv': 'commercial tv',\n",
        "    '43uq751c0sb.bwz': 'commercial tv',\n",
        "    '49uh / 49xf': 'commercial tv',\n",
        "    '50us660h0sd.bwz': 'commercial tv',\n",
        "    'tv 60\"': 'commercial tv',\n",
        "    'medical monitor': 'medical display',\n",
        "    'unitario':'single-split',\n",
        "    'cac': 'ventilation',\n",
        "    'vrf,chiller': 'vrf',\n",
        "    'single package': \"single-split\",\n",
        "    'điều hòa trung tâm multi': 'multi-split',\n",
        "    'ogrzewanie (pompy ciepła)': 'heating',\n",
        "    'soğutucu': 'heating',\n",
        "    'điều hòa gia dụng': 'rac',\n",
        "    'نظام التدفق المتغيرvrf': 'vrf',\n",
        "    'chiller/enfriadoras': 'chiller',\n",
        "    '49vl5g-m': 'digital signage',\n",
        "    'lg led bloc': 'led signage',\n",
        "    'uh': 'commercial tv',\n",
        "    '55vm5e-a': 'digital signage',\n",
        "    'laec15': 'led signage',\n",
        "    '55vm5j-h': 'digital signage',\n",
        "    '49vl5f': 'digital signage',\n",
        "    'standalone': 'others',\n",
        "    'corpouh5f': 'digital signage',\n",
        "    'ledallinone': 'led signage',\n",
        "    'monitorindustrial_rmk': 'monitor',\n",
        "    'lg magnit': 'led signage',\n",
        "    '特別顯示屏': 'digital signage',\n",
        "    'signage': 'others',\n",
        "    'videowall_rmk': 'digital signage',\n",
        "    'bu50nst': 'projector',\n",
        "    'comercial tv': 'commercial tv',\n",
        "    'corpuh5f-': 'others',\n",
        "    'allinone_rmk': 'monitor',\n",
        "    'hoteleria_us670h': 'commercial tv',\n",
        "    'retaildigital': 'digital signage',\n",
        "    '標準顯示屏': 'digital signage',\n",
        "    '互動式顯示屏': 'interactive signage',\n",
        "    '軟體': 'software',\n",
        "    '醫院電視': 'hospital tv',\n",
        "    'ctv': 'commercial tv',\n",
        "    'ac rumah': 'rac',\n",
        "    'climatiseur résidentiel': 'rac',\n",
        "    'aire acondicionado residencial': 'rac',\n",
        "    'aquecimento': 'heating',\n",
        "    'khác': 'others',\n",
        "    'lg salang air solution for dream homes' : 'rac',\n",
        "    'เครื่องปรับอากาศเผื่อที่อยู่อาศัย': 'rac',\n",
        "    'calefacción': 'heating',\n",
        "    'rac single cac': 'rac',\n",
        "    'vb.': 'others',\n",
        "    'services': 'software/service',\n",
        "    'autre': 'others',\n",
        "    'آخر': 'others',\n",
        "    'vrf,single-split':'vrf',\n",
        "    'vrf,multi-split,single-split,chiller,etc.':'vrf',\n",
        "    'multi-split,single-split':'vrf',\n",
        "    'vrf,multi-split,single-split':'vrf',\n",
        "    'vrf,multi-split,etc.':'vrf',\n",
        "    'vrf,multi-split,heating':'vrf',\n",
        "    'on or several reversible ac': 'rac',\n",
        "    'vrf,multi-split,single-split,chiller':'vrf',\n",
        "    'vrf,multi-split,single-split,heating':'vrf',\n",
        "    'vrf,single-split,chiller':'vrf',\n",
        "    'error': 'others',\n",
        "    'pantalla led outdoor': 'led signage',\n",
        "    'klimatyzacja multi-split': 'multi-split',\n",
        "    'not specified': 'others',\n",
        "    'single cac': 'ventilation',\n",
        "    'aio': 'monitor',\n",
        "    'kimatyzacja vrf': 'vrf',\n",
        "    '55svh7f-a': 'digital signage',\n",
        "    'tr3' : 'digital signage',\n",
        "    '98uh5e': 'digital signage',\n",
        "    'inne': 'others',\n",
        "    'điều hòa trung tâm vrf': 'vrf',\n",
        "    'vrf,heating':'vrf',\n",
        "    'smart tv': 'commercial tv',\n",
        "    'tv 55\"': 'commercial tv',\n",
        "    'surgical monitor': 'monitor',\n",
        "    'gsca046': 'led signage',\n",
        "    'gscd100': 'led signage',\n",
        "    '50uq801c0sb.bwz': 'commercial tv',\n",
        "    'procentric': 'commercial tv',\n",
        "    '32 pol': 'commercial tv',\n",
        "    'tv 43 pol': 'commercial tv',\n",
        "    '43 pol': 'commercial tv',\n",
        "    'multi v': 'ventilation',\n",
        "    'a definir': 'others',\n",
        "    'điều hòa trung tâm chiller': 'multi-split',\n",
        "    'điều hòa cục bộ': 'single-split',\n",
        "    'lsca039' : 'led signage',\n",
        "    'essential series': 'others',\n",
        "    'parts': 'others',\n",
        "    'multi-inverter': 'multi inverter',\n",
        "    'a thermodynamic water heater': 'heating',\n",
        "    'lg one:quick series': 'one:quick series',\n",
        "    'ur640s': 'commercial tv',\n",
        "    'outros': 'others',\n",
        "    'multi v 5 air': 'heating',\n",
        "    'ur640': 'commercial tv',\n",
        "    'smart tv signage': 'digital signage',\n",
        "    'medical displays': 'medical display',\n",
        "    'uhd signage': 'digital signage',\n",
        "    'digitial_signage': 'digital signage ',\n",
        "    'id': 'others',\n",
        "    'sales inquiry': 'others',\n",
        "    'multi v5 vrf': 'vrf',\n",
        "    'vrf,multi-split,single-split,chiller,heating': 'vrf',\n",
        "    'standard': 'standard signage',\n",
        "    'computer monitors': 'monitor',\n",
        "    'medical monitors': 'monitor',\n",
        "    'signage care solutions': 'signage care solution',\n",
        "    'split tunggal': 'single-split',\n",
        "    'interactive digital board': 'interactive signage'\n",
        "}\n",
        "\n",
        "\n",
        "def replace_pc(df):\n",
        "    replace_pc_words={\n",
        "        'etc.': 'others',\n",
        "        'other': 'others',\n",
        "        'noteboook': 'laptop',\n",
        "        'teto ou cassete inverter': 'ventilation',\n",
        "        'all lg vrf systems' : 'vrf',\n",
        "        'residential air conditioner': 'rac',\n",
        "        'חימום': 'heating',\n",
        "        'idb': 'interactive signage',\n",
        "        'video wall': 'video wall signage',\n",
        "        'lg one:quick': 'one:quick series',\n",
        "        'aio | one quick': 'one:quick series',\n",
        "        'high brightness': 'high brightness signage',\n",
        "        '43us660h0sd.awz': 'hotel tv',\n",
        "        'fhd series': 'commercial tv',\n",
        "        'led 顯示屏': 'led signage',\n",
        "        '酒店電視': 'hotel tv',\n",
        "        'one:quick flex': 'one:quick series',\n",
        "        'ultra stretch series': 'digital signage',\n",
        "        'tv signage': 'commercial tv',\n",
        "        'collaboration displays': 'digital signage',\n",
        "        'oled 顯示屏': 'oled signage',\n",
        "        'meeting & screen sharedirect view leddirect view led': 'led signage',\n",
        "        'window facing display': 'digital signage',\n",
        "        'lg customer care program': 'others',\n",
        "        'led': 'led signage',\n",
        "        'pendingin': 'heating',\n",
        "        'cmulti v 5 air': 'heating',\n",
        "        'ar condicionado residencial' : 'rac',\n",
        "        'مبرد (تشيلر)': 'heating',\n",
        "        'multi v water 5': 'heating',\n",
        "        'single split': 'single-split',\n",
        "        'ahu': 'ventilation',\n",
        "        'multi split': 'multi-split',\n",
        "        'lainnya': 'others',\n",
        "        'lg home bliss air solution': 'ventilation',\n",
        "        'lg paradise air solution': 'ventilation',\n",
        "        'isıtma': 'heating',\n",
        "        'تكييفات': 'multi-split',\n",
        "        'פיצול מרובה': 'multi-split',\n",
        "        'تكييف وتبريد': 'heating',\n",
        "        'אחר': 'others',\n",
        "        'vrf,multi-split': 'vrf',\n",
        "        'vrf,multi-split,chiller': 'vrf',\n",
        "        'vrf,multi-split,single-split,chiller,heatin': 'vrf',\n",
        "        '28mq780': 'monitor',\n",
        "        'computer monitor': 'monitor',\n",
        "        'monitor & pc': 'monitor',\n",
        "        'medical monitor': 'medical display',\n",
        "        'videwall': 'video wall signage',\n",
        "        'ultra stretch signage': 'digital signage',\n",
        "        'digital signage or commercial tvs': 'digital signage',\n",
        "        'onequick series': 'one:quick series',\n",
        "        'education createboard': 'digital signage',\n",
        "        'virtual production': 'others',\n",
        "        'laec015': 'led signage',\n",
        "        '55us660h0sd.bwz': 'commercial tv',\n",
        "        'transparent oled': 'oled signage',\n",
        "        'medical- surgical': 'medical display',\n",
        "        'radiology displays': 'medical display',\n",
        "        'high inch 86 / 98 or 110': 'digital signage',\n",
        "        'leadallin': 'led signage',\n",
        "        'ฯลฯ': 'others',\n",
        "        'taa lcd lfd displays': 'digital signage',\n",
        "        'rac/cac': 'rac',\n",
        "        'حلول التدفئة': 'heating',\n",
        "        'otros': 'others',\n",
        "        'sac': 'heating',\n",
        "        'laec015-gn.awz': 'led signage',\n",
        "        'gscd046' : 'led signage',\n",
        "        '32lq621cbsb.awz': 'commercial tv',\n",
        "        '43uh5f-h.awzm': 'commercial tv',\n",
        "        '49vl5g-m.awzm': 'commercial tv',\n",
        "        '55uq801c0sb.bwz': 'commercial tv',\n",
        "        'tv': 'commercial tv',\n",
        "        '43uq751c0sf.bwz': 'commercial tv',\n",
        "        '32 / 43 pol': 'commercial tv',\n",
        "        'htv': 'commercial tv',\n",
        "        '43uq751c0sb.bwz': 'commercial tv',\n",
        "        '49uh / 49xf': 'commercial tv',\n",
        "        '50us660h0sd.bwz': 'commercial tv',\n",
        "        'tv 60\"': 'commercial tv',\n",
        "        'medical monitor': 'medical display',\n",
        "        'unitario':'single-split',\n",
        "        'cac': 'ventilation',\n",
        "        'vrf,chiller': 'vrf',\n",
        "        'single package': \"single-split\",\n",
        "        'điều hòa trung tâm multi': 'multi-split',\n",
        "        'ogrzewanie (pompy ciepła)': 'heating',\n",
        "        'soğutucu': 'heating',\n",
        "        'điều hòa gia dụng': 'rac',\n",
        "        'نظام التدفق المتغيرvrf': 'vrf',\n",
        "        'chiller/enfriadoras': 'chiller',\n",
        "        '49vl5g-m': 'digital signage',\n",
        "        'lg led bloc': 'led signage',\n",
        "        'uh': 'commercial tv',\n",
        "        '55vm5e-a': 'digital signage',\n",
        "        'laec15': 'led signage',\n",
        "        '55vm5j-h': 'digital signage',\n",
        "        '49vl5f': 'digital signage',\n",
        "        'standalone': 'others',\n",
        "        'corpouh5f': 'digital signage',\n",
        "        'ledallinone': 'led signage',\n",
        "        'monitorindustrial_rmk': 'monitor',\n",
        "        'lg magnit': 'led signage',\n",
        "        '特別顯示屏': 'digital signage',\n",
        "        'signage': 'others',\n",
        "        'videowall_rmk': 'digital signage',\n",
        "        'bu50nst': 'projector',\n",
        "        'comercial tv': 'commercial tv',\n",
        "        'corpuh5f-': 'others',\n",
        "        'allinone_rmk': 'monitor',\n",
        "        'hoteleria_us670h': 'commercial tv',\n",
        "        'retaildigital': 'digital signage',\n",
        "        '標準顯示屏': 'digital signage',\n",
        "        '互動式顯示屏': 'interactive signage',\n",
        "        '軟體': 'software',\n",
        "        '醫院電視': 'hospital tv',\n",
        "        'ctv': 'commercial tv',\n",
        "        'ac rumah': 'rac',\n",
        "        'climatiseur résidentiel': 'rac',\n",
        "        'aire acondicionado residencial': 'rac',\n",
        "        'aquecimento': 'heating',\n",
        "        'khác': 'others',\n",
        "        'lg salang air solution for dream homes' : 'rac',\n",
        "        'เครื่องปรับอากาศเผื่อที่อยู่อาศัย': 'rac',\n",
        "        'calefacción': 'heating',\n",
        "        'rac single cac': 'rac',\n",
        "        'vb.': 'others',\n",
        "        'services': 'software/service',\n",
        "        'autre': 'others',\n",
        "        'آخر': 'others',\n",
        "        'vrf,single-split':'vrf',\n",
        "        'vrf,multi-split,single-split,chiller,etc.':'vrf',\n",
        "        'multi-split,single-split':'vrf',\n",
        "        'vrf,multi-split,single-split':'vrf',\n",
        "        'vrf,multi-split,etc.':'vrf',\n",
        "        'vrf,multi-split,heating':'vrf',\n",
        "        'on or several reversible ac': 'rac',\n",
        "        'vrf,multi-split,single-split,chiller':'vrf',\n",
        "        'vrf,multi-split,single-split,heating':'vrf',\n",
        "        'vrf,single-split,chiller':'vrf',\n",
        "        'error': 'others',\n",
        "        'pantalla led outdoor': 'led signage',\n",
        "        'klimatyzacja multi-split': 'multi-split',\n",
        "        'not specified': 'others',\n",
        "        'single cac': 'ventilation',\n",
        "        'aio': 'monitor',\n",
        "        'kimatyzacja vrf': 'vrf',\n",
        "        '55svh7f-a': 'digital signage',\n",
        "        'tr3' : 'digital signage',\n",
        "        '98uh5e': 'digital signage',\n",
        "        'inne': 'others',\n",
        "        'điều hòa trung tâm vrf': 'vrf',\n",
        "        'vrf,heating':'vrf',\n",
        "        'smart tv': 'commercial tv',\n",
        "        'tv 55\"': 'commercial tv',\n",
        "        'surgical monitor': 'monitor',\n",
        "        'gsca046': 'led signage',\n",
        "        'gscd100': 'led signage',\n",
        "        '50uq801c0sb.bwz': 'commercial tv',\n",
        "        'procentric': 'commercial tv',\n",
        "        '32 pol': 'commercial tv',\n",
        "        'tv 43 pol': 'commercial tv',\n",
        "        '43 pol': 'commercial tv',\n",
        "        'multi v': 'ventilation',\n",
        "        'a definir': 'others',\n",
        "        'điều hòa trung tâm chiller': 'multi-split',\n",
        "        'điều hòa cục bộ': 'single-split',\n",
        "        'lsca039' : 'led signage',\n",
        "        'essential series': 'others',\n",
        "        'parts': 'others',\n",
        "        'multi-inverter': 'multi inverter',\n",
        "        'a thermodynamic water heater': 'heating',\n",
        "        'lg one:quick series': 'one:quick series',\n",
        "        'ur640s': 'commercial tv',\n",
        "        'outros': 'others',\n",
        "        'multi v 5 air': 'heating',\n",
        "        'ur640': 'commercial tv',\n",
        "        'smart tv signage': 'digital signage',\n",
        "        'medical displays': 'medical display',\n",
        "        'uhd signage': 'digital signage',\n",
        "        'digitial_signage': 'digital signage ',\n",
        "        'id': 'others',\n",
        "        'sales inquiry': 'others',\n",
        "        'multi v5 vrf': 'vrf',\n",
        "        'vrf,multi-split,single-split,chiller,heating': 'vrf',\n",
        "        'standard': 'standard signage',\n",
        "        'computer monitors': 'monitor',\n",
        "        'medical monitors': 'monitor',\n",
        "        'signage care solutions': 'signage care solution',\n",
        "        'split tunggal': 'single-split',\n",
        "        'interactive digital board': 'interactive signage'\n",
        "    }\n",
        "    df['product_category'] = df['product_category'].replace(replace_pc_words)\n",
        "    return df"
      ]
    },
    {
      "cell_type": "code",
      "execution_count": null,
      "id": "1680bd05",
      "metadata": {
        "id": "1680bd05"
      },
      "outputs": [],
      "source": [
        "# sub_category랑 modelname 결측치 채우기\n",
        "\n",
        "# subcategory가 비어 있고, product category의 내용이 수정된 단어들에 속하지 않으면 subcategory에 product category를 담는다.\n",
        "df_train['product_subcategory'] = df_train.apply(lambda row: row['product_category']\n",
        "                                                 if pd.isnull(row['product_subcategory']) and row['product_category'] not in replace_pc_words.values() else row['product_subcategory'], axis=1)\n",
        "\n",
        "df_train['product_modelname'] = df_train.apply(lambda row: row['product_subcategory']\n",
        "                                               if pd.isnull(row['product_modelname'])\n",
        "                                               else row['product_modelname'], axis=1)\n",
        "\n",
        "df_test['product_subcategory'] = df_test.apply(lambda row: row['product_category']\n",
        "                                               if pd.isnull(row['product_subcategory'])\n",
        "                                               and row['product_category'] not in replace_pc_words.values()\n",
        "                                               else row['product_subcategory'], axis=1)\n",
        "\n",
        "df_test['product_modelname'] = df_test.apply(lambda row: row['product_subcategory']\n",
        "                                               if pd.isnull(row['product_modelname'])\n",
        "                                               else row['product_modelname'], axis=1)\n",
        "\n",
        "df_train = replace_pc(df_train)\n",
        "df_test = replace_pc(df_test)\n",
        "\n",
        "\n",
        "'''\n",
        "df_train['product_subcategory'] = df_train.apply(lambda row: row['product_category']\n",
        "                                                 if pd.isnull(row['product_subcategory'])\n",
        "                                                 else row['product_subcategory'], axis=1)\n",
        "\n",
        "df_test['product_subcategory'] = df_test.apply(lambda row: row['product_category']\n",
        "                                               if pd.isnull(row['product_subcategory'])\n",
        "                                               else row['product_subcategory'], axis=1)\n",
        "'''"
      ]
    },
    {
      "cell_type": "code",
      "execution_count": null,
      "id": "c00ec2fd",
      "metadata": {
        "id": "c00ec2fd"
      },
      "outputs": [],
      "source": [
        "def cat_pc(x):\n",
        "    if x in ['vrf', 'single-split', 'chiller', 'heating', 'multi-split',\n",
        "             'rac']:\n",
        "        return 'heating'\n",
        "    elif x in ['ventilation']:\n",
        "        return 'ventilation'\n",
        "    elif x in ['control']:\n",
        "        return 'control'\n",
        "    elif x in ['interactive signage', 'video wall signage', 'standard signage',\n",
        "               'high brightness signage',\n",
        "               'one:quick series', 'digital signage', 'ledsignage', 'oled signage']:\n",
        "        return 'digital_signage'\n",
        "    elif x in ['hotel tv', 'hospital tv', 'special signage', 'accessories',\n",
        "               'pro:centric', 'commercial tv']:\n",
        "        return 'commercial_tv' ## digital_signage에 속하긴 함.\n",
        "    elif x in ['monitior', 'medicla_displays']:\n",
        "        return 'monitors'\n",
        "    elif x in ['laptop', 'notebook']:\n",
        "        return 'laptops'\n",
        "    elif x in ['webos', 'software solution', 'signage care solution', 'software',\n",
        "               'technical support ', 'cloud_service' ]:\n",
        "        return 'software/service'\n",
        "    elif x in ['projector']:\n",
        "        return 'projectors'\n",
        "    elif x in ['ess']:\n",
        "        return 'ess'\n",
        "\n",
        "df_train['product_large_category']=df_train['product_category'].apply(cat_pc)\n",
        "df_test['product_large_category']=df_test['product_category'].apply(cat_pc)"
      ]
    },
    {
      "cell_type": "code",
      "execution_count": null,
      "id": "4fa0dff4",
      "metadata": {
        "id": "4fa0dff4"
      },
      "outputs": [],
      "source": [
        "def modify_variables(dataframe):\n",
        "    # 모든 변수를 소문자로 변환\n",
        "    dataframe['inquiry_type'] = dataframe['inquiry_type'].str.lower()\n",
        "    replace_inqury_words={\n",
        "        'other': 'others',\n",
        "        'other_': 'others',\n",
        "        'etc.': 'others',\n",
        "        'not specified': 'others',\n",
        "        'quotation_or_purchase_consultation': 'quotation or purchase consultation',\n",
        "        'quotation_': 'quotation or purchase consultation',\n",
        "        'usage_or_technical_consultation': 'usage or technical consultation',\n",
        "        'technical_consultation': 'technical consultation',\n",
        "    }\n",
        "\n",
        "    # 'inquiry_type' 열의 상위 5개 값을 추출\n",
        "    top_5_values = dataframe['inquiry_type'].value_counts().head(5).index.tolist()\n",
        "\n",
        "    # 'inquiry_type' 열의 값이 상위 5개에 속하는 경우는 그대로 두고, 아닌 경우 'others'로 변경\n",
        "    dataframe['inquiry_type'] = dataframe['inquiry_type'].replace(replace_inqury_words)\n",
        "    dataframe['inquiry_type'] = dataframe['inquiry_type'].apply(lambda x: x if x in top_5_values and pd.notnull(x) else 'others')\n",
        "\n",
        "    return dataframe\n",
        "\n",
        "df_train = modify_variables(df_train)\n",
        "df_test = modify_variables(df_test)"
      ]
    },
    {
      "cell_type": "markdown",
      "id": "acb16590",
      "metadata": {
        "id": "acb16590"
      },
      "source": [
        "### 2.1.4 명목형 피처들 test에 없는 이상 값들 제거"
      ]
    },
    {
      "cell_type": "code",
      "execution_count": null,
      "id": "e924892f",
      "metadata": {
        "id": "e924892f"
      },
      "outputs": [],
      "source": [
        "refin_col_list=[\n",
        "    'business_unit', # -> 버리는거 확정\n",
        "    # 'business_area',\n",
        "    # 'business_subarea',\n",
        "    'response_corporate',\n",
        "    # 'product_category',\n",
        "    # 'product_subcategory',\n",
        "    # 'product_modelname',\n",
        "    # 'customer_type',\n",
        "    # 'customer_job',\n",
        "    # 'inquiry_type',\n",
        "]\n",
        "for col in refin_col_list:\n",
        "    # df_train의 값이 df_test에 없는 행을 삭제하는 코드\n",
        "    df_train = df_train[df_train[col].isin(df_test[col])]"
      ]
    },
    {
      "cell_type": "code",
      "execution_count": null,
      "id": "0a7496f6",
      "metadata": {
        "id": "0a7496f6"
      },
      "outputs": [],
      "source": [
        "nogada_dict = {584: 'less than 3 months',\n",
        " 886: 'less than 3 months',\n",
        " 1872: 'less than 3 months',\n",
        " 1876: 'less than 3 months',\n",
        " 1935: '3 months ~ 6 months',\n",
        " 2084: 'less than 3 months',\n",
        " 2168: 'less than 3 months',\n",
        " 2169: 'less than 3 months',\n",
        " 2280: 'less than 3 months',\n",
        " 2281: 'less than 3 months',\n",
        " 2283: 'less than 3 months',\n",
        " 2323: 'less than 3 months',\n",
        " 2402: 'less than 3 months',\n",
        " 2421: 'less than 3 months',\n",
        " 2430: 'less than 3 months',\n",
        " 2445: 'less than 3 months',\n",
        " 3628: 'less than 3 months',\n",
        " 4238: 'less than 3 months',\n",
        " 4637: 'less than 3 months',\n",
        " 4702: 'less than 3 months',\n",
        " 4706: '3 months ~ 6 months',\n",
        " 6635: 'less than 3 months',\n",
        " 9899: 'less than 3 months',\n",
        " 22792: 'less than 3 months',\n",
        " 23159: 'less than 3 months',\n",
        " 23233: 'less than 3 months',\n",
        " 23256: 'less than 3 months',\n",
        " 23358: 'less than 3 months',\n",
        " 23918: 'less than 3 months',\n",
        " 25093: 'more than a year',\n",
        " 25642: 'less than 3 months',\n",
        " 27032: 'less than 3 months',\n",
        " 27415: '3 months ~ 6 months',\n",
        " 28521: 'less than 3 months',\n",
        " 28599: 'less than 3 months',\n",
        " 29116: 'less than 3 months',\n",
        " 32239: '3 months ~ 6 months',\n",
        " 33141: 'less than 3 months',\n",
        " 35582: 'more than a year'}\n",
        "\n",
        "\n",
        "\n",
        "df_original = pd.DataFrame(df_train['expected_timeline'])\n",
        "\n",
        "# 괜찮은건 일단 빼놓자 보기 편하게\n",
        "conditions = ['less than 3 months', '3 months ~ 6 months', 'more than a year',\n",
        "              '9 months ~ 1 year', '6 months ~ 9 months']\n",
        "\n",
        "df = df_original[~df_original.isin(conditions)]\n",
        "df.dropna(inplace = True)\n",
        "# merge하기 위한 new_index\n",
        "df['new_index'] = df.index\n",
        "df = df.reset_index(drop=True)\n",
        "\n",
        "\n",
        "\n",
        "def categorize_timeline_refined(description):\n",
        "    description = description.lower()\n",
        "\n",
        "    # Explicit matches and interpretations based on train.csv insights\n",
        "    if 'less than 3 months' in description or 'less_than_3_months' in description:\n",
        "        return 'less than 3 months'\n",
        "    elif any(x in description for x in ['3 months ~ 6 months', '3_months_~_6_months']):\n",
        "        return '3 months ~ 6 months'\n",
        "    elif any(x in description for x in ['less then 6 months','less than 6 months']):\n",
        "        return '3 months ~ 6 months'\n",
        "    elif 'more than a year' in description or 'more then 3 months' in description:\n",
        "        return 'more than a year'\n",
        "    elif any(x in description for x in ['9 months - 1 year', '9_months_~_1_year']):\n",
        "        return '9 months ~ 1 year'\n",
        "    elif 'etc.' in description or 'being followed up' in description:\n",
        "        return 'Uncategorized'\n",
        "    elif any(keyword in description for keyword in ['less than 3 months', 'less_than_3_months', '< 3 months', 'short term', 'immediate']):\n",
        "        return 'less than 3 months'\n",
        "    elif any(keyword in description for keyword in ['3 months ~ 6 months', '3 to 6 months', '3-6 months', 'quarterly']):\n",
        "        return '3 months ~ 6 months'\n",
        "    elif any(keyword in description for keyword in ['more than a year', '> 1 year', 'long term','more_than_a_year']):\n",
        "        return 'more than a year'\n",
        "    elif any(keyword in description for keyword in ['9 months ~ 1 year', '9-12 months', '9 to 12 months']):\n",
        "        return '9 months ~ 1 year'\n",
        "    elif any(keyword in description for keyword in ['6 months ~ 9 months', '6-9 months', '6 to 9 months','6_months_~_9_months']):\n",
        "        return '6 months ~ 9 months'\n",
        "    return 'Uncategorized'\n",
        "\n",
        "# Re-apply the refined categorization function to the dfset\n",
        "df['category_refined'] = df['expected_timeline'].apply(categorize_timeline_refined)\n",
        "\n",
        "# df = df[['new_index','expected_timeline'   ,'category_refined']]\n",
        "# df_original = df_original.apply(categorize_timeline_refined)\n",
        "\n",
        "df_original['new_index'] = df_original.index\n",
        "df_original = df_original.reset_index(drop=True)\n",
        "\n",
        "# df와 df_original을 'new_index'를 기준으로 병합\n",
        "# how='left'를 사용하여 df_original의 모든 행을 유지하고 해당하는 행에만 category_refined 값을 채웁니다.\n",
        "df_merged = pd.merge(df_original, df[['new_index', 'category_refined']], on='new_index', how='left')\n",
        "\n",
        "# category_refined의 NaN 값을 expected_timeline의 값으로 채움\n",
        "df_merged['category_refined'] = df_merged['category_refined'].fillna(df_merged['expected_timeline'])\n",
        "\n",
        "df_merged['category_refined'] = df_merged['new_index'].map(nogada_dict)\n",
        "df_train['expected_timeline'] = df_merged['category_refined']"
      ]
    },
    {
      "cell_type": "markdown",
      "id": "6de5343c",
      "metadata": {
        "id": "6de5343c"
      },
      "source": [
        "정제 후 크기"
      ]
    },
    {
      "cell_type": "code",
      "execution_count": null,
      "id": "f2f99b4d",
      "metadata": {
        "colab": {
          "base_uri": "https://localhost:8080/"
        },
        "id": "f2f99b4d",
        "outputId": "6ec95eae-a5d6-436a-9469-e5a70d1f5d70"
      },
      "outputs": [
        {
          "output_type": "stream",
          "name": "stdout",
          "text": [
            "(52796, 33) (5271, 34)\n"
          ]
        }
      ],
      "source": [
        "## 정제 후\n",
        "print(df_train.shape, df_test.shape)"
      ]
    },
    {
      "cell_type": "markdown",
      "id": "6b0e41bf",
      "metadata": {
        "id": "6b0e41bf"
      },
      "source": [
        "## 2.2 데이터 전처리 - 파생변수"
      ]
    },
    {
      "cell_type": "code",
      "execution_count": null,
      "id": "11ddf13d",
      "metadata": {
        "id": "11ddf13d"
      },
      "outputs": [],
      "source": [
        "def crvwr(x):\n",
        "    if pd.isnull(x):\n",
        "        return 1\n",
        "    else :\n",
        "        0\n",
        "\n",
        "\n",
        "\n",
        "df_train['com_reg_ver_win_rate_null']=df_train['com_reg_ver_win_rate'].apply(crvwr)\n",
        "df_test['com_reg_ver_win_rate_null']=df_test['com_reg_ver_win_rate'].apply(crvwr)"
      ]
    },
    {
      "cell_type": "markdown",
      "id": "7c5edcfa",
      "metadata": {
        "id": "7c5edcfa"
      },
      "source": [
        "### 2.2.1 id = 47466이 가장 많이 나와서 이진 분류"
      ]
    },
    {
      "cell_type": "code",
      "execution_count": null,
      "id": "63cde974",
      "metadata": {
        "id": "63cde974"
      },
      "outputs": [],
      "source": [
        "def change_value(x):\n",
        "    if x == 47466:\n",
        "        return 1\n",
        "    else:\n",
        "        return 0\n",
        "\n",
        "df_train['customer_idx_is47466'] = df_train['customer_idx'].apply(change_value)\n",
        "df_test['customer_idx_is47466'] = df_test['customer_idx'].apply(change_value)"
      ]
    },
    {
      "cell_type": "markdown",
      "id": "0c15e60d",
      "metadata": {
        "id": "0c15e60d"
      },
      "source": [
        "### 2.2.2 문의를 한 횟수, 문의하면서 converted 한 횟수, converted한 비율을 회사별로 계산"
      ]
    },
    {
      "cell_type": "code",
      "execution_count": null,
      "id": "2a39db10",
      "metadata": {
        "id": "2a39db10"
      },
      "outputs": [],
      "source": [
        "df_cus = df_train.groupby(\"customer_idx\")[\"is_converted\"].count().reset_index() # 회사가 몇 번을 의뢰했는가?\n",
        "\n",
        "df_real_cus = df_train.groupby(\"customer_idx\")[\"is_converted\"].sum().reset_index() # 회사가 몇 번을 영업전환 했는가?\n",
        "\n",
        "# == 회사 id를 기준으로 merge한다 ==\n",
        "df_cus_ratio = pd.merge(df_cus, df_real_cus, on=\"customer_idx\")\n",
        "df_cus_ratio[\"cus_ratio\"] = df_cus_ratio[\"is_converted_y\"] / df_cus_ratio[\"is_converted_x\"] # is_converted가 2개의 변수로 인해서 x,y로 생성되었다고한다. (위가 x, 아래가 y)\n",
        "df_cus_ratio = df_cus_ratio.rename(columns={\"is_converted_x\": \"cus_query_cnt\", \"is_converted_y\" : \"cus_converted_cnt\"}) # query_cnt가 몇 번을 의뢰, converted_cnt가 몇 번을 영업전환\n",
        "df_cus_ratio = df_cus_ratio.drop('cus_converted_cnt', axis = 1) # 석우가 예시 들어줌\n",
        "df_cus_ratio = df_cus_ratio[df_cus_ratio[\"cus_query_cnt\"] >= 3] # 6323/33762 = 0.1873(2회) ,        전체에서 10%정도가 3회 이상이다.\n",
        "df_cus_ratio = df_cus_ratio[['customer_idx', 'cus_ratio']]\n",
        "\n",
        "\n",
        "df_train = pd.merge(df_train, df_cus_ratio, on='customer_idx', how=\"left\")\n",
        "df_test = pd.merge(df_test, df_cus_ratio, on='customer_idx', how=\"left\")"
      ]
    },
    {
      "cell_type": "markdown",
      "id": "56bdf22e",
      "metadata": {
        "id": "56bdf22e"
      },
      "source": [
        "### 2.2.3 문의를 한 횟수, 문의하면서 converted 한 횟수, converted한 비율을 담당자별로 계산"
      ]
    },
    {
      "cell_type": "code",
      "execution_count": null,
      "id": "717f9975",
      "metadata": {
        "id": "717f9975"
      },
      "outputs": [],
      "source": [
        "df_lo = df_train.groupby(\"lead_owner\")[\"is_converted\"].count().reset_index()\n",
        "df_real_lo = df_train.groupby(\"lead_owner\")[\"is_converted\"].sum().reset_index()\n",
        "\n",
        "df_lead_ratio = pd.merge(df_lo, df_real_lo, on=\"lead_owner\")\n",
        "df_lead_ratio[\"lead_ratio\"] = df_lead_ratio[\"is_converted_y\"] / df_lead_ratio[\"is_converted_x\"]\n",
        "df_lead_ratio = df_lead_ratio.rename(columns={\"is_converted_x\": \"lead_query_cnt\", \"is_converted_y\" : \"lead_converted_cnt\"})\n",
        "df_lead_ratio = df_lead_ratio.drop('lead_converted_cnt', axis=1)\n",
        "df_lead_ratio=df_lead_ratio[df_lead_ratio[\"lead_query_cnt\"]>=10] # 생각보다 lead owner는 cnt가 많음\n",
        "df_lead_ratio = df_lead_ratio[['lead_owner', 'lead_ratio']]\n",
        "\n",
        "\n",
        "\n",
        "df_train = pd.merge(df_train, df_lead_ratio, on='lead_owner', how=\"left\")\n",
        "df_test = pd.merge(df_test, df_lead_ratio, on='lead_owner', how=\"left\")"
      ]
    },
    {
      "cell_type": "markdown",
      "id": "a8b7271f",
      "metadata": {
        "id": "a8b7271f"
      },
      "source": [
        "### 2.2.4 문의를 한 횟수, 문의하면서 converted 한 횟수, converted한 비율을 담당 부서별로 계산"
      ]
    },
    {
      "cell_type": "code",
      "execution_count": null,
      "id": "eb67fa51",
      "metadata": {
        "id": "eb67fa51"
      },
      "outputs": [],
      "source": [
        "df_rc = df_train.groupby(\"response_corporate\")[\"is_converted\"].count().reset_index()\n",
        "df_real_rc = df_train.groupby(\"response_corporate\")[\"is_converted\"].sum().reset_index()\n",
        "df = pd.merge(df_rc, df_real_rc, on=\"response_corporate\")\n",
        "df[\"rc_ratio\"] = df[\"is_converted_y\"] / df[\"is_converted_x\"]\n",
        "df = df[['response_corporate', 'rc_ratio']]\n",
        "df_train = pd.merge(df_train, df, on='response_corporate', how=\"left\")\n",
        "df_test = pd.merge(df_test, df, on='response_corporate', how=\"left\")"
      ]
    },
    {
      "cell_type": "markdown",
      "id": "f4c9de0e",
      "metadata": {
        "id": "f4c9de0e"
      },
      "source": [
        "### 2.2.5 length_ratio: lead_desc_length에 min max scaler 적용하고 bant_submit을 곱해 '정보를 제공한 비율'에 해당하는 컬럼 만듦"
      ]
    },
    {
      "cell_type": "code",
      "execution_count": null,
      "id": "30922c43",
      "metadata": {
        "id": "30922c43"
      },
      "outputs": [],
      "source": [
        "scaler = MinMaxScaler()\n",
        "\n",
        "df_train['lead_desc_length'] = scaler.fit_transform(df_train[['lead_desc_length']])\n",
        "df_train['lead_desc_length'] = scaler.fit_transform(df_train[['lead_desc_length']])\n",
        "\n",
        "df_train['length_ratio'] = df_train['bant_submit']*df_train['lead_desc_length']\n",
        "df_test['length_ratio'] = df_test['bant_submit']*df_test['lead_desc_length']"
      ]
    },
    {
      "cell_type": "markdown",
      "id": "fb3aae99",
      "metadata": {
        "id": "fb3aae99"
      },
      "source": [
        "### 2.2.6 문의를 한 횟수, 문의하면서 converted 한 횟수, converted한 비율을 product_category별로 계산"
      ]
    },
    {
      "cell_type": "code",
      "execution_count": null,
      "id": "33124597",
      "metadata": {
        "id": "33124597"
      },
      "outputs": [],
      "source": [
        "df_pc = df_train.groupby(\"product_category\")[\"is_converted\"].count().reset_index()\n",
        "df_real_pc = df_train.groupby(\"product_category\")[\"is_converted\"].sum().reset_index()\n",
        "df = pd.merge(df_pc, df_real_pc, on=\"product_category\")\n",
        "df[\"pc_ratio\"] = df[\"is_converted_y\"] / df[\"is_converted_x\"]\n",
        "df = df[['product_category','pc_ratio']]\n",
        "df_train = pd.merge(df_train, df, on='product_category', how=\"left\")\n",
        "df_test = pd.merge(df_test, df, on='product_category', how=\"left\")"
      ]
    },
    {
      "cell_type": "code",
      "execution_count": null,
      "id": "633ba5fc",
      "metadata": {
        "id": "633ba5fc"
      },
      "outputs": [],
      "source": [
        "df_all = pd.concat([df_train, df_test])\n",
        "\n",
        "df_cus = df_all.groupby(\"customer_idx\")[\"is_converted\"].count().reset_index()\n",
        "df_lead = df_all.groupby(\"lead_owner\")[\"is_converted\"].count().reset_index()\n",
        "df_rc = df_all.groupby(\"response_corporate\")[\"is_converted\"].count().reset_index()\n",
        "df_pc = df_all.groupby(\"product_category\")[\"is_converted\"].count().reset_index()\n",
        "\n",
        "df_cus = df_cus.rename(columns={\"is_converted\": \"cus_query_cnt\"})\n",
        "df_lead = df_lead.rename(columns={\"is_converted\": \"lead_query_cnt\"})\n",
        "df_rc = df_rc.rename(columns={\"is_converted\": \"rc_query_cnt\"})\n",
        "df_pc = df_pc.rename(columns={\"is_converted\": \"pc_query_cnt\"})\n",
        "\n",
        "df_all = pd.merge(df_all, df_cus, on='customer_idx', how=\"left\")\n",
        "df_all = pd.merge(df_all, df_lead, on='lead_owner', how=\"left\")\n",
        "df_all = pd.merge(df_all, df_rc, on='response_corporate', how=\"left\")\n",
        "df_all = pd.merge(df_all, df_pc, on='product_category', how=\"left\")\n",
        "\n",
        "df_train = df_all.iloc[: len(df_train)]\n",
        "df_test = df_all.iloc[len(df_train) :]\n",
        "df_train = df_train.drop('id', axis=1)"
      ]
    },
    {
      "cell_type": "markdown",
      "id": "00a944c6",
      "metadata": {
        "id": "00a944c6"
      },
      "source": [
        "### 2.2.7 historical_existing_ratio: historical_existing_cnt를 cus_query_cnt로 나눠 정규화"
      ]
    },
    {
      "cell_type": "code",
      "execution_count": null,
      "id": "d41a3d07",
      "metadata": {
        "id": "d41a3d07"
      },
      "outputs": [],
      "source": [
        "df_train['historical_existing_ratio'] = df_train['historical_existing_cnt'] / df_train['cus_query_cnt']\n",
        "df_test['historical_existing_ratio'] = df_test['historical_existing_cnt'] / df_test['cus_query_cnt']"
      ]
    },
    {
      "cell_type": "markdown",
      "id": "b816dfac",
      "metadata": {
        "id": "b816dfac"
      },
      "source": [
        "파생 변수 추가 후 크기"
      ]
    },
    {
      "cell_type": "code",
      "execution_count": null,
      "id": "6eb008a2",
      "metadata": {
        "colab": {
          "base_uri": "https://localhost:8080/"
        },
        "id": "6eb008a2",
        "outputId": "ce2a035f-cc07-4ca1-b6b9-f0a833b1d450"
      },
      "outputs": [
        {
          "output_type": "stream",
          "name": "stdout",
          "text": [
            "(52796, 44) (5271, 45)\n"
          ]
        }
      ],
      "source": [
        "## 파생변수 추가 후\n",
        "print(df_train.shape, df_test.shape)"
      ]
    },
    {
      "cell_type": "markdown",
      "id": "9a676ba3",
      "metadata": {
        "id": "9a676ba3"
      },
      "source": [
        "## 2.3 컬럼 드랍"
      ]
    },
    {
      "cell_type": "code",
      "execution_count": null,
      "id": "4d4377e9",
      "metadata": {
        "id": "4d4377e9"
      },
      "outputs": [],
      "source": [
        "drop_columns=[\n",
        "        'bant_submit',\n",
        "        # 'customer_country',\n",
        "        # 'business_unit',\n",
        "        # 'com_reg_ver_win_rate',\n",
        "        # 'customer_idx',\n",
        "        # 'customer_type',\n",
        "        # 'enterprise',\n",
        "        'historical_existing_cnt',\n",
        "\n",
        "        # == idit가 id,it 포함 ==\n",
        "        'id_strategic_ver',\n",
        "        'it_strategic_ver',\n",
        "        # 'idit_strategic_ver',\n",
        "\n",
        "        # 'customer_job',\n",
        "        'lead_desc_length',\n",
        "        # 'inquiry_type',\n",
        "        # 'product_category',\n",
        "        # 'product_subcategory',\n",
        "        # 'product_modelname',\n",
        "        'customer_country.1',\n",
        "        # 'customer_position',\n",
        "        # 'response_corporate',\n",
        "        # 'expected_timeline',\n",
        "        'ver_cus', # vertical에 대한 명확한 근거 x\n",
        "        # 'ver_pro',\n",
        "        # 'ver_win_rate_x',\n",
        "        # 'ver_win_ratio_per_bu',\n",
        "        # 'business_area',\n",
        "        # 'business_subarea',\n",
        "        # 'lead_owner',\n",
        "        # 'is_converted',\n",
        "        # 'cus_query_cnt',\n",
        "        # 'cus_converted_cnt',\n",
        "        # 'cus_ratio',\n",
        "        # 'lead_query_cnt',\n",
        "        # 'lead_converted_cnt',\n",
        "        # 'lead_ratio',\n",
        "        # 'rc_query_cnt',\n",
        "        # 'rc_converted_cnt',\n",
        "        # 'rc_ratio',\n",
        "        # 'historical_existing_ratio',\n",
        "        # 'length_ratio'\n",
        "        ]\n",
        "\n",
        "df_all = pd.concat([df_train, df_test])\n",
        "for column in drop_columns:\n",
        "    df_all.drop(columns=column, inplace=True)\n",
        "\n",
        "df_train = df_all.iloc[: len(df_train)]\n",
        "df_test = df_all.iloc[len(df_train) :]"
      ]
    },
    {
      "cell_type": "code",
      "execution_count": null,
      "id": "5e689518",
      "metadata": {
        "colab": {
          "base_uri": "https://localhost:8080/"
        },
        "id": "5e689518",
        "outputId": "d73e213f-2f70-48ad-ca5b-24f390205910"
      },
      "outputs": [
        {
          "output_type": "execute_result",
          "data": {
            "text/plain": [
              "Index(['customer_country', 'business_unit', 'com_reg_ver_win_rate',\n",
              "       'customer_idx', 'customer_type', 'enterprise', 'idit_strategic_ver',\n",
              "       'customer_job', 'inquiry_type', 'product_category',\n",
              "       'product_subcategory', 'product_modelname', 'customer_position',\n",
              "       'response_corporate', 'expected_timeline', 'ver_pro', 'ver_win_rate_x',\n",
              "       'ver_win_ratio_per_bu', 'business_area', 'business_subarea',\n",
              "       'lead_owner', 'is_converted', 'bn_submit', 'num_missing',\n",
              "       'product_large_category', 'com_reg_ver_win_rate_null',\n",
              "       'customer_idx_is47466', 'cus_ratio', 'lead_ratio', 'rc_ratio',\n",
              "       'length_ratio', 'pc_ratio', 'cus_query_cnt', 'lead_query_cnt',\n",
              "       'rc_query_cnt', 'pc_query_cnt', 'historical_existing_ratio', 'id'],\n",
              "      dtype='object')"
            ]
          },
          "metadata": {},
          "execution_count": 94
        }
      ],
      "source": [
        "df_train.columns"
      ]
    },
    {
      "cell_type": "markdown",
      "id": "d625a0e6",
      "metadata": {
        "id": "d625a0e6"
      },
      "source": [
        "드랍 후 크기"
      ]
    },
    {
      "cell_type": "code",
      "execution_count": null,
      "id": "23c2d290",
      "metadata": {
        "colab": {
          "base_uri": "https://localhost:8080/"
        },
        "id": "23c2d290",
        "outputId": "90724813-0107-4771-8767-77fe17121b3d"
      },
      "outputs": [
        {
          "output_type": "stream",
          "name": "stdout",
          "text": [
            "(52796, 38) (5271, 38)\n"
          ]
        }
      ],
      "source": [
        "## 컬럼 드랍 후\n",
        "print(df_train.shape, df_test.shape)"
      ]
    },
    {
      "cell_type": "markdown",
      "id": "f69520d9",
      "metadata": {
        "id": "f69520d9"
      },
      "source": [
        "## 2.4 결측치 채우기"
      ]
    },
    {
      "cell_type": "code",
      "execution_count": null,
      "id": "88cd43cf",
      "metadata": {
        "id": "88cd43cf"
      },
      "outputs": [],
      "source": [
        "# df_train = df_train.fillna(0)\n",
        "# df_test = df_test.fillna(0)"
      ]
    },
    {
      "cell_type": "code",
      "execution_count": null,
      "id": "2d56c656",
      "metadata": {
        "colab": {
          "base_uri": "https://localhost:8080/"
        },
        "id": "2d56c656",
        "outputId": "5770810d-cc07-4920-c01f-b913beae7a69"
      },
      "outputs": [
        {
          "output_type": "execute_result",
          "data": {
            "text/plain": [
              "537860"
            ]
          },
          "metadata": {},
          "execution_count": 97
        }
      ],
      "source": [
        "df_train.isnull().sum()"
      ]
    },
    {
      "cell_type": "markdown",
      "id": "8e5d2e24",
      "metadata": {
        "id": "8e5d2e24"
      },
      "source": [
        "## 2.5 데이터 분리"
      ]
    },
    {
      "cell_type": "markdown",
      "id": "3a477f93",
      "metadata": {
        "id": "3a477f93"
      },
      "source": [
        "### 다시 학습 데이터와 제출 데이터를 분리"
      ]
    },
    {
      "cell_type": "code",
      "execution_count": null,
      "id": "ff10c5fb",
      "metadata": {
        "id": "ff10c5fb"
      },
      "outputs": [],
      "source": [
        "df_train = df_all.iloc[: len(df_train)]\n",
        "df_test = df_all.iloc[len(df_train) :]"
      ]
    },
    {
      "cell_type": "code",
      "execution_count": null,
      "id": "7d0e08e6",
      "metadata": {
        "id": "7d0e08e6"
      },
      "outputs": [],
      "source": [
        "df_train = df_train.drop('id', axis=1)"
      ]
    },
    {
      "cell_type": "code",
      "source": [
        "df_train.info()"
      ],
      "metadata": {
        "colab": {
          "base_uri": "https://localhost:8080/"
        },
        "id": "BBUj28WG3rFn",
        "outputId": "d2a9bc4d-0239-475b-8e58-db4a0be0485d"
      },
      "id": "BBUj28WG3rFn",
      "execution_count": null,
      "outputs": [
        {
          "output_type": "stream",
          "name": "stdout",
          "text": [
            "<class 'pandas.core.frame.DataFrame'>\n",
            "Int64Index: 52796 entries, 0 to 52795\n",
            "Data columns (total 37 columns):\n",
            " #   Column                     Non-Null Count  Dtype  \n",
            "---  ------                     --------------  -----  \n",
            " 0   customer_country           51915 non-null  object \n",
            " 1   business_unit              52796 non-null  object \n",
            " 2   com_reg_ver_win_rate       14015 non-null  float64\n",
            " 3   customer_idx               52796 non-null  int64  \n",
            " 4   customer_type              52796 non-null  object \n",
            " 5   enterprise                 52796 non-null  object \n",
            " 6   idit_strategic_ver         4399 non-null   float64\n",
            " 7   customer_job               52796 non-null  object \n",
            " 8   inquiry_type               52796 non-null  object \n",
            " 9   product_category           35946 non-null  object \n",
            " 10  product_subcategory        36264 non-null  object \n",
            " 11  product_modelname          26647 non-null  object \n",
            " 12  customer_position          52796 non-null  object \n",
            " 13  response_corporate         52796 non-null  object \n",
            " 14  expected_timeline          22655 non-null  object \n",
            " 15  ver_pro                    52796 non-null  int64  \n",
            " 16  ver_win_rate_x             17456 non-null  float64\n",
            " 17  ver_win_ratio_per_bu       14735 non-null  float64\n",
            " 18  business_area              17456 non-null  object \n",
            " 19  business_subarea           5155 non-null   object \n",
            " 20  lead_owner                 52796 non-null  int64  \n",
            " 21  is_converted               52796 non-null  float64\n",
            " 22  bn_submit                  52796 non-null  int64  \n",
            " 23  num_missing                52796 non-null  int64  \n",
            " 24  product_large_category     29920 non-null  object \n",
            " 25  com_reg_ver_win_rate_null  38781 non-null  float64\n",
            " 26  customer_idx_is47466       52796 non-null  int64  \n",
            " 27  cus_ratio                  14336 non-null  float64\n",
            " 28  lead_ratio                 51414 non-null  float64\n",
            " 29  rc_ratio                   52796 non-null  float64\n",
            " 30  length_ratio               52796 non-null  float64\n",
            " 31  pc_ratio                   35946 non-null  float64\n",
            " 32  cus_query_cnt              52796 non-null  int64  \n",
            " 33  lead_query_cnt             52796 non-null  int64  \n",
            " 34  rc_query_cnt               52796 non-null  int64  \n",
            " 35  pc_query_cnt               35946 non-null  float64\n",
            " 36  historical_existing_ratio  12278 non-null  float64\n",
            "dtypes: float64(13), int64(9), object(15)\n",
            "memory usage: 15.3+ MB\n"
          ]
        }
      ]
    },
    {
      "cell_type": "code",
      "execution_count": null,
      "id": "d9f50ec7",
      "metadata": {
        "id": "d9f50ec7"
      },
      "outputs": [],
      "source": [
        "# == 나눠서 test하기(Predict) ==\n",
        "df_test1 = df_test[\n",
        "    (df_test['customer_idx'].isin(df_cus_ratio['customer_idx'])) &\n",
        "    (df_test['lead_owner'].isin(df_lead_ratio['lead_owner']))\n",
        "]\n",
        "\n",
        "df_test2 = df_test[\n",
        "    (~df_test['customer_idx'].isin(df_cus_ratio['customer_idx'])) &\n",
        "    (df_test['lead_owner'].isin(df_lead_ratio['lead_owner']))\n",
        "]\n",
        "\n",
        "df_test3 = df_test[\n",
        "    (df_test['customer_idx'].isin(df_cus_ratio['customer_idx'])) &\n",
        "    (~df_test['lead_owner'].isin(df_lead_ratio['lead_owner']))\n",
        "]\n",
        "\n",
        "df_test4 = df_test[\n",
        "    (~df_test['customer_idx'].isin(df_cus_ratio['customer_idx'])) &\n",
        "    (~df_test['lead_owner'].isin(df_lead_ratio['lead_owner']))\n",
        "]\n"
      ]
    },
    {
      "cell_type": "code",
      "execution_count": null,
      "id": "191d2065",
      "metadata": {
        "id": "191d2065"
      },
      "outputs": [],
      "source": [
        "X_train= df_train.drop(\"is_converted\", axis=1)\n",
        "y_train= df_train[\"is_converted\"].astype('bool')\n",
        "X_test = df_test.drop([\"is_converted\", \"id\"], axis=1)\n",
        "\n",
        "X_test1 = df_test1.drop([\"is_converted\", \"id\"], axis=1)\n",
        "X_test2 = df_test2.drop([\"is_converted\", \"id\", 'customer_idx_is47466', 'customer_idx', 'cus_query_cnt', 'cus_ratio'], axis=1)\n",
        "X_test3 = df_test3.drop([\"is_converted\", \"id\", 'lead_owner', 'lead_query_cnt', 'lead_ratio'], axis=1)\n",
        "X_test4 = df_test4.drop([\"is_converted\", \"id\", 'customer_idx_is47466', 'customer_idx','lead_owner', 'cus_query_cnt', 'cus_ratio', 'lead_query_cnt','lead_ratio'], axis=1)"
      ]
    },
    {
      "cell_type": "code",
      "execution_count": null,
      "id": "581b7c95",
      "metadata": {
        "id": "581b7c95"
      },
      "outputs": [],
      "source": [
        "X_train.reset_index(drop=True, inplace=True)\n",
        "y_train.reset_index(drop=True, inplace=True)"
      ]
    },
    {
      "cell_type": "code",
      "execution_count": null,
      "id": "78daff00",
      "metadata": {
        "id": "78daff00"
      },
      "outputs": [],
      "source": [
        "X_train1= X_train\n",
        "X_train2= X_train.drop(['customer_idx', 'customer_idx_is47466', 'cus_query_cnt', 'cus_ratio'], axis=1)\n",
        "X_train3= X_train.drop(['lead_owner', 'lead_query_cnt', 'lead_query_cnt', 'lead_ratio'], axis=1)\n",
        "X_train4= X_train.drop(['customer_idx', 'customer_idx_is47466','lead_owner', 'cus_query_cnt', 'cus_ratio', 'lead_query_cnt', 'lead_ratio'], axis=1)"
      ]
    },
    {
      "cell_type": "code",
      "execution_count": null,
      "id": "b0c109b0",
      "metadata": {
        "colab": {
          "base_uri": "https://localhost:8080/"
        },
        "id": "b0c109b0",
        "outputId": "9723603c-aaa7-4850-974f-50e055ec2839"
      },
      "outputs": [
        {
          "output_type": "execute_result",
          "data": {
            "text/plain": [
              "485064"
            ]
          },
          "metadata": {},
          "execution_count": 105
        }
      ],
      "source": [
        "X_train.isnull().sum().sum()"
      ]
    },
    {
      "cell_type": "code",
      "execution_count": null,
      "id": "9a54e4ce",
      "metadata": {
        "colab": {
          "base_uri": "https://localhost:8080/"
        },
        "id": "9a54e4ce",
        "outputId": "d9d7f3bd-f957-4765-a606-7d94c7754397"
      },
      "outputs": [
        {
          "output_type": "execute_result",
          "data": {
            "text/plain": [
              "False    50596\n",
              "True      2200\n",
              "Name: is_converted, dtype: int64"
            ]
          },
          "metadata": {},
          "execution_count": 106
        }
      ],
      "source": [
        "y_train.value_counts()"
      ]
    },
    {
      "cell_type": "code",
      "execution_count": null,
      "id": "5e50b854",
      "metadata": {
        "colab": {
          "base_uri": "https://localhost:8080/"
        },
        "id": "5e50b854",
        "outputId": "ae5c43e6-e8e8-436e-f19f-87d8c784738b"
      },
      "outputs": [
        {
          "output_type": "execute_result",
          "data": {
            "text/plain": [
              "(52796, 36)"
            ]
          },
          "metadata": {},
          "execution_count": 107
        }
      ],
      "source": [
        "X_train.shape"
      ]
    },
    {
      "cell_type": "markdown",
      "source": [
        "## Feature Selection"
      ],
      "metadata": {
        "id": "3Y1BVjaoiIp3"
      },
      "id": "3Y1BVjaoiIp3"
    },
    {
      "cell_type": "markdown",
      "source": [
        "### 레이블 인코딩"
      ],
      "metadata": {
        "id": "8JVpKPcqjIHk"
      },
      "id": "8JVpKPcqjIHk"
    },
    {
      "cell_type": "code",
      "execution_count": null,
      "id": "0b42b1a1",
      "metadata": {
        "id": "0b42b1a1"
      },
      "outputs": [],
      "source": [
        "# def label_encoding(series: pd.Series) -> pd.Series:\n",
        "#     \"\"\"범주형 데이터를 시리즈 형태로 받아 숫자형 데이터로 변환합니다.\"\"\"\n",
        "\n",
        "#     my_dict = {}\n",
        "\n",
        "#     # 모든 요소를 문자열로 변환\n",
        "#     series = series.astype(str)\n",
        "\n",
        "#     for idx, value in enumerate(sorted(series.unique())):\n",
        "#         my_dict[value] = idx\n",
        "#     series = series.map(my_dict)\n",
        "\n",
        "#     return series"
      ]
    },
    {
      "cell_type": "code",
      "execution_count": null,
      "id": "881a4612",
      "metadata": {
        "id": "881a4612"
      },
      "outputs": [],
      "source": [
        "# def encoding(df) :\n",
        "#     # 레이블 인코딩할 칼럼들\n",
        "#     label_columns = [\n",
        "#         \"customer_country\",\n",
        "#         \"business_subarea\",\n",
        "#         # \"business_area\",\n",
        "#         # \"business_unit\",\n",
        "#         # \"customer_type\",\n",
        "#         # \"customer_job\",\n",
        "#         'enterprise',\n",
        "#         \"inquiry_type\",\n",
        "#         \"product_category\",\n",
        "#         \"product_subcategory\",\n",
        "#         \"product_modelname\",\n",
        "#         \"customer_country.1\",\n",
        "#         # \"customer_position\",\n",
        "#         \"response_corporate\",\n",
        "#         # \"expected_timeline\",\n",
        "#         'customer_idx_kind',\n",
        "#         'category_refined'\n",
        "#     ]\n",
        "\n",
        "#     #원핫 인코딩할 칼럼들\n",
        "#     one_hot_columns=[\n",
        "#         # 'com_reg_ver_win_rate',\n",
        "#         'bant_submit',\n",
        "#         'bn_submit',\n",
        "#         # \"customer_country\",\n",
        "#         # \"business_subarea\",\n",
        "#         \"business_area\",\n",
        "#         \"business_unit\",\n",
        "#         \"customer_type\",\n",
        "#         \"enterprise\",\n",
        "#         \"customer_job\",\n",
        "#         # \"inquiry_type\",\n",
        "#         \"product_large_category\",\n",
        "#         # \"product_subcategory\",\n",
        "#         # \"product_modelname\",\n",
        "#         # \"customer_country.1\",\n",
        "#         \"customer_position\",\n",
        "#         # \"response_corporate\",\n",
        "#         \"expected_timeline\",\n",
        "\n",
        "#     ]\n",
        "#     for col in label_columns:\n",
        "#         if col in df.columns:\n",
        "#             df[col] = label_encoding(df[col])\n",
        "#         else:\n",
        "#             print(col)\n",
        "#     one_hot_real_columns = one_hot_columns.copy()\n",
        "#     for col in one_hot_columns:\n",
        "#         if col not in df.columns:\n",
        "#             one_hot_real_columns.remove(col)\n",
        "#             print(col)\n",
        "#     df = pd.get_dummies(df, columns=one_hot_real_columns)\n",
        "#     return df\n",
        "\n",
        "# X_train1_cp = encoding(X_train1.copy())\n",
        "# X_train2_cp = encoding(X_train2.copy())\n",
        "# X_train3_cp = encoding(X_train3.copy())\n",
        "# X_train4_cp = encoding(X_train4.copy())"
      ]
    },
    {
      "cell_type": "code",
      "source": [
        "# from sklearn.feature_selection import RFECV\n",
        "# from lightgbm import LGBMClassifier\n",
        "\n",
        "# params = {\n",
        "#     'objective': 'binary',\n",
        "#     'learning_rate': 0.1,\n",
        "#     \"random_state\": 0,\n",
        "#     'n_jobs':-1,\n",
        "#     'scale_pos_weight': 5,\n",
        "# }\n",
        "\n",
        "# clf = LGBMClassifier(**params, n_estimators=100, verbosity=1)\n",
        "# min_features_to_select = 10\n",
        "# step = 5\n",
        "# selector1 = RFECV(clf, step=step, cv=5, min_features_to_select=min_features_to_select, scoring='f1', random_state=0)\n",
        "# selector1 = selector1.fit(X_train1_cp, y_train)\n",
        "# selector2 = RFECV(clf, step=step, cv=5, min_features_to_select=min_features_to_select, scoring='f1', random_state=0)\n",
        "# selector2 = selector2.fit(X_train2_cp, y_train)\n",
        "# selector3 = RFECV(clf, step=step, cv=5, min_features_to_select=min_features_to_select, scoring='f1', random_state=0)\n",
        "# selector3 = selector3.fit(X_train3_cp, y_train)\n",
        "# selector4 = RFECV(clf, step=step, cv=5, min_features_to_select=min_features_to_select, scoring='f1', random_state=0)\n",
        "# selector4 = selector4.fit(X_train4_cp, y_train)"
      ],
      "metadata": {
        "id": "2gHwgN_ziHZ8"
      },
      "id": "2gHwgN_ziHZ8",
      "execution_count": null,
      "outputs": []
    },
    {
      "cell_type": "code",
      "source": [
        "# print(selector1.support_.sum())\n",
        "# print(selector2.support_.sum())\n",
        "# print(selector3.support_.sum())\n",
        "# print(selector4.support_.sum())"
      ],
      "metadata": {
        "id": "8xsnGWuH9dA7"
      },
      "id": "8xsnGWuH9dA7",
      "execution_count": null,
      "outputs": []
    },
    {
      "cell_type": "code",
      "source": [
        "# X_train1 = X_train1[X_train1.columns[selector1.support_]]\n",
        "# X_train2 = X_train2[X_train2.columns[selector2.support_]]\n",
        "# X_train3 = X_train3[X_train3.columns[selector3.support_]]\n",
        "# X_train4 = X_train4[X_train4.columns[selector4.support_]]"
      ],
      "metadata": {
        "id": "ffgT6WomkbEx"
      },
      "id": "ffgT6WomkbEx",
      "execution_count": null,
      "outputs": []
    },
    {
      "cell_type": "code",
      "source": [
        "# X_test1 = X_test1[X_test1.columns[selector1.support_]]\n",
        "# X_test2 = X_test2[X_test2.columns[selector2.support_]]\n",
        "# X_test3 = X_test3[X_test3.columns[selector3.support_]]\n",
        "# X_test4 = X_test4[X_test4.columns[selector4.support_]]"
      ],
      "metadata": {
        "id": "DCvkYiowrMSH"
      },
      "id": "DCvkYiowrMSH",
      "execution_count": null,
      "outputs": []
    },
    {
      "cell_type": "code",
      "source": [
        "# plt.figure()\n",
        "# plt.xlabel(\"Number of features selected\")\n",
        "# plt.ylabel(\"Cross validation score (fl score)\")\n",
        "# plt.plot(\n",
        "#     range(min_features_to_select, len(selector1.cv_results_['mean_test_score']) * step + min_features_to_select, step),\n",
        "#     selector1.cv_results_['mean_test_score'],\n",
        "# )\n",
        "# plt.show()\n",
        "# plt.plot(\n",
        "#     range(min_features_to_select, len(selector2.cv_results_['mean_test_score']) * step + min_features_to_select, step),\n",
        "#     selector2.cv_results_['mean_test_score'],\n",
        "# )\n",
        "# plt.show()\n",
        "# plt.plot(\n",
        "#     range(min_features_to_select, len(selector3.cv_results_['mean_test_score']) * step + min_features_to_select, step),\n",
        "#     selector3.cv_results_['mean_test_score'],\n",
        "# )\n",
        "# plt.show()\n",
        "# plt.plot(\n",
        "#     range(min_features_to_select, len(selector4.cv_results_['mean_test_score']) * step + min_features_to_select, step),\n",
        "#     selector4.cv_results_['mean_test_score'],\n",
        "# )\n",
        "# plt.show()"
      ],
      "metadata": {
        "id": "aVdrR7Gjkfa4"
      },
      "id": "aVdrR7Gjkfa4",
      "execution_count": null,
      "outputs": []
    },
    {
      "cell_type": "markdown",
      "id": "79ecfa9b",
      "metadata": {
        "id": "79ecfa9b"
      },
      "source": [
        "## 3. 모델 학습"
      ]
    },
    {
      "cell_type": "code",
      "source": [
        "!pip install optuna\n",
        "!pip install catboost"
      ],
      "metadata": {
        "id": "iyCEAYkuNSKe"
      },
      "id": "iyCEAYkuNSKe",
      "execution_count": null,
      "outputs": []
    },
    {
      "cell_type": "markdown",
      "id": "06bf0407",
      "metadata": {
        "id": "06bf0407"
      },
      "source": [
        "### 베이스라인 모델 - OOF LGBM + Optuna\n"
      ]
    },
    {
      "cell_type": "code",
      "source": [
        "import optuna\n",
        "from sklearn.metrics import f1_score\n",
        "from lightgbm import LGBMClassifier, early_stopping\n",
        "\n",
        "object_columns = X_train1.select_dtypes(include=['object']).columns\n",
        "cat_cols=list(object_columns)\n",
        "for col in object_columns:\n",
        "    X_train1[col] = X_train1[col].astype('category')\n",
        "    X_test1[col] = X_test1[col].astype('category')\n",
        "\n",
        "def objective(trial):\n",
        "    param = {\n",
        "        'objective': 'binary',\n",
        "        'metric': 'binary_logloss',\n",
        "        'verbosity': -1,\n",
        "        'boosting_type': 'gbdt',\n",
        "        'learning_rate': trial.suggest_float('learning_rate', 0.01, 0.1),\n",
        "        'num_leaves': trial.suggest_int('num_leaves', 30, 300),\n",
        "        'max_depth': trial.suggest_int('max_depth', 6, 16),\n",
        "        'scale_pos_weight': trial.suggest_float('scale_pos_weight', 1, 50),\n",
        "        'subsample': trial.suggest_float('subsample', 0.6, 1.0),\n",
        "        'colsample_bytree': trial.suggest_float('colsample_bytree', 0.6, 1.0),\n",
        "        'lambda_l1': trial.suggest_float('lambda_l1', 1e-8, 10.0, log=True),\n",
        "        'lambda_l2': trial.suggest_float('lambda_l2', 1e-8, 10.0, log=True),\n",
        "        'min_child_samples': trial.suggest_int('min_child_samples', 5, 100),\n",
        "        'min_child_weight': trial.suggest_float('min_child_weight', 1e-5, 1e-1, log=True),\n",
        "        'bagging_fraction': trial.suggest_float('bagging_fraction', 0.6, 1.0),\n",
        "        'bagging_freq': trial.suggest_int('bagging_freq', 1, 10),\n",
        "        'feature_fraction': trial.suggest_float('feature_fraction', 0.6, 1.0),\n",
        "        'min_split_gain': trial.suggest_float('min_split_gain', 0, 1),\n",
        "        'random_state': 0,\n",
        "        'categorical_feature': cat_cols,\n",
        "        'n_jobs': -1\n",
        "    }\n",
        "\n",
        "    f1_scores = []\n",
        "    for train_idx, valid_idx in folds.split(X_train1, y_train):\n",
        "        X_tr, y_tr = X_train1.iloc[train_idx], y_train.iloc[train_idx]\n",
        "        X_val, y_val = X_train1.iloc[valid_idx], y_train.iloc[valid_idx]\n",
        "\n",
        "        lgb_model = LGBMClassifier(**param)\n",
        "        lgb_model.fit(X_tr, y_tr, eval_set=[(X_val, y_val)], callbacks=[early_stopping(stopping_rounds=200)])\n",
        "\n",
        "        threshold = 0.3  # 적절한 임계값으로 조정\n",
        "        preds_proba = lgb_model.predict_proba(X_val)[:, 1]  # 클래스 1에 대한 확률을 얻음\n",
        "        preds = (preds_proba > threshold).astype(int)  # 임계값을 기준으로 이진 클래스로 변환\n",
        "\n",
        "        # 이진 클래스 예측을 사용하여 F1 스코어 계산\n",
        "        f1 = f1_score(y_val, preds)\n",
        "        f1_scores.append(f1)\n",
        "\n",
        "    return np.mean(f1_scores)\n",
        "\n",
        "folds = StratifiedKFold(n_splits=5, shuffle=True, random_state=0)\n",
        "study1 = optuna.create_study(direction='maximize')\n",
        "study1.optimize(objective, n_trials=50, n_jobs=-1)  # 시행 횟수를 조정하여 탐색 시간 관리\n",
        "\n",
        "print('Number of finished trials:', len(study1.trials))\n",
        "print('Best trial:', study1.best_trial.params)"
      ],
      "metadata": {
        "colab": {
          "base_uri": "https://localhost:8080/"
        },
        "id": "2sIIivC-MrrD",
        "outputId": "2c6c2000-8157-424e-de69-bffa7e5c6792"
      },
      "id": "2sIIivC-MrrD",
      "execution_count": null,
      "outputs": [
        {
          "output_type": "stream",
          "name": "stderr",
          "text": [
            "[I 2024-02-20 10:04:44,591] A new study created in memory with name: no-name-d7a318fa-d2a6-46df-acdc-b2784d14e393\n"
          ]
        },
        {
          "output_type": "stream",
          "name": "stdout",
          "text": [
            "Training until validation scores don't improve for 200 rounds\n",
            "Training until validation scores don't improve for 200 rounds\n",
            "Did not meet early stopping. Best iteration is:\n",
            "[23]\tvalid_0's binary_logloss: 0.110367\n",
            "Training until validation scores don't improve for 200 rounds\n",
            "Did not meet early stopping. Best iteration is:\n",
            "[20]\tvalid_0's binary_logloss: 0.116439\n",
            "Training until validation scores don't improve for 200 rounds\n",
            "Did not meet early stopping. Best iteration is:\n",
            "[22]\tvalid_0's binary_logloss: 0.109222\n",
            "Training until validation scores don't improve for 200 rounds\n",
            "Did not meet early stopping. Best iteration is:\n",
            "[21]\tvalid_0's binary_logloss: 0.115794\n",
            "Did not meet early stopping. Best iteration is:\n",
            "[23]\tvalid_0's binary_logloss: 0.109316\n",
            "Training until validation scores don't improve for 200 rounds\n",
            "Training until validation scores don't improve for 200 rounds\n",
            "Did not meet early stopping. Best iteration is:\n",
            "[24]\tvalid_0's binary_logloss: 0.108449\n",
            "Training until validation scores don't improve for 200 rounds\n",
            "Did not meet early stopping. Best iteration is:\n",
            "[21]\tvalid_0's binary_logloss: 0.115943\n",
            "Training until validation scores don't improve for 200 rounds\n"
          ]
        },
        {
          "output_type": "stream",
          "name": "stderr",
          "text": [
            "[I 2024-02-20 10:05:11,357] Trial 0 finished with value: 0.5072231266510033 and parameters: {'learning_rate': 0.02877873861152428, 'num_leaves': 72, 'max_depth': 6, 'scale_pos_weight': 15.941234007910504, 'subsample': 0.6005258643511439, 'colsample_bytree': 0.8834549311944786, 'lambda_l1': 4.039290910630917e-06, 'lambda_l2': 3.4370701823064738, 'min_child_samples': 44, 'min_child_weight': 0.00010705081295062189, 'bagging_fraction': 0.9944863296493225, 'bagging_freq': 10, 'feature_fraction': 0.9374772455813929, 'min_split_gain': 0.3871192282300683}. Best is trial 0 with value: 0.5072231266510033.\n"
          ]
        },
        {
          "output_type": "stream",
          "name": "stdout",
          "text": [
            "Did not meet early stopping. Best iteration is:\n",
            "[22]\tvalid_0's binary_logloss: 0.109523\n",
            "Training until validation scores don't improve for 200 rounds\n",
            "Did not meet early stopping. Best iteration is:\n",
            "[20]\tvalid_0's binary_logloss: 0.115437\n",
            "Training until validation scores don't improve for 200 rounds\n",
            "Did not meet early stopping. Best iteration is:\n",
            "[13]\tvalid_0's binary_logloss: 0.112106\n",
            "Training until validation scores don't improve for 200 rounds\n"
          ]
        },
        {
          "output_type": "stream",
          "name": "stderr",
          "text": [
            "[I 2024-02-20 10:05:22,999] Trial 1 finished with value: 0.5411615430400356 and parameters: {'learning_rate': 0.024911192469359154, 'num_leaves': 193, 'max_depth': 9, 'scale_pos_weight': 47.80524998714827, 'subsample': 0.7262428054157275, 'colsample_bytree': 0.6740121175637079, 'lambda_l1': 0.0014291687024218453, 'lambda_l2': 2.8450522515966595e-06, 'min_child_samples': 37, 'min_child_weight': 0.0004793845105576726, 'bagging_fraction': 0.8448494534143323, 'bagging_freq': 5, 'feature_fraction': 0.6023059302080707, 'min_split_gain': 0.329901862250779}. Best is trial 1 with value: 0.5411615430400356.\n"
          ]
        },
        {
          "output_type": "stream",
          "name": "stdout",
          "text": [
            "Did not meet early stopping. Best iteration is:\n",
            "[21]\tvalid_0's binary_logloss: 0.115407\n",
            "Training until validation scores don't improve for 200 rounds\n",
            "Did not meet early stopping. Best iteration is:\n",
            "[100]\tvalid_0's binary_logloss: 0.110345\n",
            "Training until validation scores don't improve for 200 rounds\n",
            "Did not meet early stopping. Best iteration is:\n",
            "[100]\tvalid_0's binary_logloss: 0.100715\n",
            "Training until validation scores don't improve for 200 rounds\n",
            "Did not meet early stopping. Best iteration is:\n",
            "[11]\tvalid_0's binary_logloss: 0.112661\n",
            "Training until validation scores don't improve for 200 rounds\n",
            "Did not meet early stopping. Best iteration is:\n",
            "[98]\tvalid_0's binary_logloss: 0.0993058\n",
            "Training until validation scores don't improve for 200 rounds\n",
            "Did not meet early stopping. Best iteration is:\n",
            "[11]\tvalid_0's binary_logloss: 0.112948\n",
            "Training until validation scores don't improve for 200 rounds\n",
            "Did not meet early stopping. Best iteration is:\n",
            "[100]\tvalid_0's binary_logloss: 0.0990459\n",
            "Training until validation scores don't improve for 200 rounds\n"
          ]
        },
        {
          "output_type": "stream",
          "name": "stderr",
          "text": [
            "[I 2024-02-20 10:05:50,238] Trial 2 finished with value: 0.5293366582673515 and parameters: {'learning_rate': 0.05535268283950995, 'num_leaves': 116, 'max_depth': 16, 'scale_pos_weight': 44.72738045334207, 'subsample': 0.8235074087944052, 'colsample_bytree': 0.8911189516293658, 'lambda_l1': 0.41891643901007874, 'lambda_l2': 5.128577779819338e-05, 'min_child_samples': 78, 'min_child_weight': 0.006162211116697958, 'bagging_fraction': 0.8889661118720775, 'bagging_freq': 6, 'feature_fraction': 0.7839083095223447, 'min_split_gain': 0.6782697880896412}. Best is trial 1 with value: 0.5411615430400356.\n"
          ]
        },
        {
          "output_type": "stream",
          "name": "stdout",
          "text": [
            "Did not meet early stopping. Best iteration is:\n",
            "[11]\tvalid_0's binary_logloss: 0.114255\n",
            "Training until validation scores don't improve for 200 rounds\n",
            "Did not meet early stopping. Best iteration is:\n",
            "[8]\tvalid_0's binary_logloss: 0.115821\n",
            "Did not meet early stopping. Best iteration is:\n",
            "[100]\tvalid_0's binary_logloss: 0.0995913\n",
            "Training until validation scores don't improve for 200 rounds\n",
            "Training until validation scores don't improve for 200 rounds\n",
            "Did not meet early stopping. Best iteration is:\n",
            "[100]\tvalid_0's binary_logloss: 0.113339\n",
            "Training until validation scores don't improve for 200 rounds\n",
            "Did not meet early stopping. Best iteration is:\n",
            "[100]\tvalid_0's binary_logloss: 0.108351\n"
          ]
        },
        {
          "output_type": "stream",
          "name": "stderr",
          "text": [
            "[I 2024-02-20 10:06:03,718] Trial 3 finished with value: 0.5944895031576479 and parameters: {'learning_rate': 0.08804107991032592, 'num_leaves': 205, 'max_depth': 13, 'scale_pos_weight': 43.62062070255393, 'subsample': 0.6329966212849506, 'colsample_bytree': 0.8192244269717434, 'lambda_l1': 0.047774597816480815, 'lambda_l2': 2.7663181671167484e-07, 'min_child_samples': 82, 'min_child_weight': 1.3993125554102283e-05, 'bagging_fraction': 0.7362441956763822, 'bagging_freq': 4, 'feature_fraction': 0.7847456838029143, 'min_split_gain': 0.7963143759284887}. Best is trial 3 with value: 0.5944895031576479.\n"
          ]
        },
        {
          "output_type": "stream",
          "name": "stdout",
          "text": [
            "Did not meet early stopping. Best iteration is:\n",
            "[8]\tvalid_0's binary_logloss: 0.115755\n",
            "Training until validation scores don't improve for 200 rounds\n",
            "Training until validation scores don't improve for 200 rounds\n",
            "Did not meet early stopping. Best iteration is:\n",
            "[8]\tvalid_0's binary_logloss: 0.114912\n",
            "Did not meet early stopping. Best iteration is:\n",
            "[100]\tvalid_0's binary_logloss: 0.0943567\n",
            "Training until validation scores don't improve for 200 rounds\n",
            "Training until validation scores don't improve for 200 rounds\n"
          ]
        },
        {
          "output_type": "stream",
          "name": "stderr",
          "text": [
            "[I 2024-02-20 10:06:11,281] Trial 4 finished with value: 0.5221873865482257 and parameters: {'learning_rate': 0.07011011325922883, 'num_leaves': 136, 'max_depth': 7, 'scale_pos_weight': 19.47989870206414, 'subsample': 0.8074055502943656, 'colsample_bytree': 0.8632347656253172, 'lambda_l1': 1.9472169389960898e-08, 'lambda_l2': 2.3283932615743494e-06, 'min_child_samples': 48, 'min_child_weight': 0.0004562424333093747, 'bagging_fraction': 0.8753371831263317, 'bagging_freq': 1, 'feature_fraction': 0.6626773151877001, 'min_split_gain': 0.8166437621556889}. Best is trial 3 with value: 0.5944895031576479.\n"
          ]
        },
        {
          "output_type": "stream",
          "name": "stdout",
          "text": [
            "Did not meet early stopping. Best iteration is:\n",
            "[8]\tvalid_0's binary_logloss: 0.115457\n",
            "Did not meet early stopping. Best iteration is:\n",
            "[100]\tvalid_0's binary_logloss: 0.0928248\n",
            "Training until validation scores don't improve for 200 rounds\n",
            "Training until validation scores don't improve for 200 rounds\n",
            "Did not meet early stopping. Best iteration is:\n",
            "[31]\tvalid_0's binary_logloss: 0.116204\n",
            "Did not meet early stopping. Best iteration is:\n",
            "[100]\tvalid_0's binary_logloss: 0.0960546\n",
            "Training until validation scores don't improve for 200 rounds\n",
            "Training until validation scores don't improve for 200 rounds\n",
            "Did not meet early stopping. Best iteration is:\n",
            "[31]\tvalid_0's binary_logloss: 0.115596\n",
            "Did not meet early stopping. Best iteration is:\n",
            "[100]\tvalid_0's binary_logloss: 0.096325\n",
            "Training until validation scores don't improve for 200 rounds\n",
            "Training until validation scores don't improve for 200 rounds\n",
            "Did not meet early stopping. Best iteration is:\n",
            "[34]\tvalid_0's binary_logloss: 0.115729\n",
            "Training until validation scores don't improve for 200 rounds\n",
            "Did not meet early stopping. Best iteration is:\n",
            "[100]\tvalid_0's binary_logloss: 0.0981175\n"
          ]
        },
        {
          "output_type": "stream",
          "name": "stderr",
          "text": [
            "[I 2024-02-20 10:06:26,300] Trial 5 finished with value: 0.5453706226516386 and parameters: {'learning_rate': 0.03797217071370221, 'num_leaves': 61, 'max_depth': 11, 'scale_pos_weight': 9.699118708989092, 'subsample': 0.9860004115707707, 'colsample_bytree': 0.8562557993991458, 'lambda_l1': 3.31067335023385, 'lambda_l2': 0.004035151341495025, 'min_child_samples': 91, 'min_child_weight': 0.00835508614094931, 'bagging_fraction': 0.7924432818618075, 'bagging_freq': 1, 'feature_fraction': 0.7484145844690507, 'min_split_gain': 0.7794435571850569}. Best is trial 3 with value: 0.5944895031576479.\n"
          ]
        },
        {
          "output_type": "stream",
          "name": "stdout",
          "text": [
            "Training until validation scores don't improve for 200 rounds\n",
            "Did not meet early stopping. Best iteration is:\n",
            "[28]\tvalid_0's binary_logloss: 0.115801\n",
            "Training until validation scores don't improve for 200 rounds\n"
          ]
        },
        {
          "output_type": "stream",
          "name": "stderr",
          "text": [
            "[I 2024-02-20 10:06:34,522] Trial 6 finished with value: 0.5235054953937306 and parameters: {'learning_rate': 0.015581569878064801, 'num_leaves': 163, 'max_depth': 6, 'scale_pos_weight': 28.894777498363922, 'subsample': 0.8422878489371265, 'colsample_bytree': 0.8776416509629312, 'lambda_l1': 0.000805116258112645, 'lambda_l2': 1.4305369203130929e-05, 'min_child_samples': 98, 'min_child_weight': 0.0011769759611288627, 'bagging_fraction': 0.908474537591397, 'bagging_freq': 2, 'feature_fraction': 0.8323853091077056, 'min_split_gain': 0.03479321471861274}. Best is trial 3 with value: 0.5944895031576479.\n"
          ]
        },
        {
          "output_type": "stream",
          "name": "stdout",
          "text": [
            "Did not meet early stopping. Best iteration is:\n",
            "[31]\tvalid_0's binary_logloss: 0.115329\n",
            "Did not meet early stopping. Best iteration is:\n",
            "[100]\tvalid_0's binary_logloss: 0.0846312\n",
            "Training until validation scores don't improve for 200 rounds\n",
            "Training until validation scores don't improve for 200 rounds\n",
            "Did not meet early stopping. Best iteration is:\n",
            "[100]\tvalid_0's binary_logloss: 0.0828786\n",
            "Training until validation scores don't improve for 200 rounds\n",
            "Did not meet early stopping. Best iteration is:\n",
            "[100]\tvalid_0's binary_logloss: 0.081596\n",
            "Training until validation scores don't improve for 200 rounds\n",
            "Did not meet early stopping. Best iteration is:\n",
            "[100]\tvalid_0's binary_logloss: 0.0820473\n",
            "Training until validation scores don't improve for 200 rounds\n",
            "Did not meet early stopping. Best iteration is:\n",
            "[100]\tvalid_0's binary_logloss: 0.0843892\n",
            "Training until validation scores don't improve for 200 rounds\n",
            "Did not meet early stopping. Best iteration is:\n",
            "[100]\tvalid_0's binary_logloss: 0.0830067\n",
            "Training until validation scores don't improve for 200 rounds\n",
            "Did not meet early stopping. Best iteration is:\n",
            "[100]\tvalid_0's binary_logloss: 0.0848386\n",
            "Did not meet early stopping. Best iteration is:\n",
            "[100]\tvalid_0's binary_logloss: 0.0842285\n",
            "Training until validation scores don't improve for 200 rounds\n",
            "Training until validation scores don't improve for 200 rounds\n",
            "Did not meet early stopping. Best iteration is:\n",
            "[100]\tvalid_0's binary_logloss: 0.0878021\n"
          ]
        },
        {
          "output_type": "stream",
          "name": "stderr",
          "text": [
            "[I 2024-02-20 10:07:09,228] Trial 8 finished with value: 0.5962415338023062 and parameters: {'learning_rate': 0.061336092159141715, 'num_leaves': 236, 'max_depth': 14, 'scale_pos_weight': 12.457761140894162, 'subsample': 0.8821784676459401, 'colsample_bytree': 0.8295866521390223, 'lambda_l1': 0.0019438697204034786, 'lambda_l2': 6.5742487680062105, 'min_child_samples': 30, 'min_child_weight': 0.024308820360682867, 'bagging_fraction': 0.8885377106264385, 'bagging_freq': 1, 'feature_fraction': 0.738588006400403, 'min_split_gain': 0.007257157572204798}. Best is trial 8 with value: 0.5962415338023062.\n"
          ]
        },
        {
          "output_type": "stream",
          "name": "stdout",
          "text": [
            "Did not meet early stopping. Best iteration is:\n",
            "[100]\tvalid_0's binary_logloss: 0.0902743\n"
          ]
        },
        {
          "output_type": "stream",
          "name": "stderr",
          "text": [
            "[I 2024-02-20 10:07:09,656] Trial 7 finished with value: 0.6243589029206287 and parameters: {'learning_rate': 0.09600161724324742, 'num_leaves': 179, 'max_depth': 14, 'scale_pos_weight': 30.413424296077217, 'subsample': 0.9234780275890592, 'colsample_bytree': 0.7434661920467832, 'lambda_l1': 1.2042629527950728e-05, 'lambda_l2': 0.9495907879904859, 'min_child_samples': 48, 'min_child_weight': 0.04769257011696455, 'bagging_fraction': 0.7619032527308757, 'bagging_freq': 9, 'feature_fraction': 0.9374867562964946, 'min_split_gain': 0.6497185083664754}. Best is trial 7 with value: 0.6243589029206287.\n"
          ]
        },
        {
          "output_type": "stream",
          "name": "stdout",
          "text": [
            "Training until validation scores don't improve for 200 rounds\n",
            "Training until validation scores don't improve for 200 rounds\n",
            "Did not meet early stopping. Best iteration is:\n",
            "[14]\tvalid_0's binary_logloss: 0.119012\n",
            "Training until validation scores don't improve for 200 rounds\n",
            "Did not meet early stopping. Best iteration is:\n",
            "[100]\tvalid_0's binary_logloss: 0.0993395\n",
            "Training until validation scores don't improve for 200 rounds\n",
            "Did not meet early stopping. Best iteration is:\n",
            "[14]\tvalid_0's binary_logloss: 0.118566\n",
            "Training until validation scores don't improve for 200 rounds\n",
            "Did not meet early stopping. Best iteration is:\n",
            "[13]\tvalid_0's binary_logloss: 0.117364\n",
            "Training until validation scores don't improve for 200 rounds\n",
            "Did not meet early stopping. Best iteration is:\n",
            "[100]\tvalid_0's binary_logloss: 0.09425\n",
            "Training until validation scores don't improve for 200 rounds\n",
            "Did not meet early stopping. Best iteration is:\n",
            "[11]\tvalid_0's binary_logloss: 0.118622\n",
            "Training until validation scores don't improve for 200 rounds\n",
            "Did not meet early stopping. Best iteration is:\n",
            "[100]\tvalid_0's binary_logloss: 0.0953592\n"
          ]
        },
        {
          "output_type": "stream",
          "name": "stderr",
          "text": [
            "[I 2024-02-20 10:07:30,798] Trial 10 finished with value: 0.5210651659542566 and parameters: {'learning_rate': 0.04753611854296098, 'num_leaves': 34, 'max_depth': 9, 'scale_pos_weight': 32.401162872792746, 'subsample': 0.8810901973919183, 'colsample_bytree': 0.8381049642856891, 'lambda_l1': 0.0015692315390299831, 'lambda_l2': 6.939697158905872e-06, 'min_child_samples': 79, 'min_child_weight': 0.046806748263882675, 'bagging_fraction': 0.6827546380115602, 'bagging_freq': 5, 'feature_fraction': 0.7381437162185548, 'min_split_gain': 0.9811226965647346}. Best is trial 7 with value: 0.6243589029206287.\n"
          ]
        },
        {
          "output_type": "stream",
          "name": "stdout",
          "text": [
            "Did not meet early stopping. Best iteration is:\n",
            "[8]\tvalid_0's binary_logloss: 0.118684\n",
            "Training until validation scores don't improve for 200 rounds\n",
            "Training until validation scores don't improve for 200 rounds\n",
            "Did not meet early stopping. Best iteration is:\n",
            "[100]\tvalid_0's binary_logloss: 0.0969942\n",
            "Did not meet early stopping. Best iteration is:\n",
            "[43]\tvalid_0's binary_logloss: 0.0639919\n",
            "Training until validation scores don't improve for 200 rounds\n",
            "Training until validation scores don't improve for 200 rounds\n",
            "Did not meet early stopping. Best iteration is:\n",
            "[100]\tvalid_0's binary_logloss: 0.106427\n"
          ]
        },
        {
          "output_type": "stream",
          "name": "stderr",
          "text": [
            "[I 2024-02-20 10:07:42,079] Trial 9 finished with value: 0.5811486292927318 and parameters: {'learning_rate': 0.08228908307425979, 'num_leaves': 156, 'max_depth': 12, 'scale_pos_weight': 25.688726212704587, 'subsample': 0.715088607211982, 'colsample_bytree': 0.9581076657018195, 'lambda_l1': 0.2550591285030445, 'lambda_l2': 3.1818971948337107, 'min_child_samples': 70, 'min_child_weight': 0.03168011520619578, 'bagging_fraction': 0.9614079503331459, 'bagging_freq': 2, 'feature_fraction': 0.9865738746580504, 'min_split_gain': 0.8086272145319355}. Best is trial 7 with value: 0.6243589029206287.\n"
          ]
        },
        {
          "output_type": "stream",
          "name": "stdout",
          "text": [
            "Did not meet early stopping. Best iteration is:\n",
            "[33]\tvalid_0's binary_logloss: 0.0621941\n",
            "Training until validation scores don't improve for 200 rounds\n",
            "Training until validation scores don't improve for 200 rounds\n",
            "Did not meet early stopping. Best iteration is:\n",
            "[43]\tvalid_0's binary_logloss: 0.0646161\n",
            "Training until validation scores don't improve for 200 rounds\n",
            "Did not meet early stopping. Best iteration is:\n",
            "[36]\tvalid_0's binary_logloss: 0.0627702\n",
            "Training until validation scores don't improve for 200 rounds\n",
            "Did not meet early stopping. Best iteration is:\n",
            "[42]\tvalid_0's binary_logloss: 0.0665046\n",
            "Training until validation scores don't improve for 200 rounds\n",
            "Did not meet early stopping. Best iteration is:\n",
            "[49]\tvalid_0's binary_logloss: 0.0611214\n"
          ]
        },
        {
          "output_type": "stream",
          "name": "stderr",
          "text": [
            "[I 2024-02-20 10:08:08,041] Trial 11 finished with value: 0.673230155996994 and parameters: {'learning_rate': 0.09946166530952784, 'num_leaves': 270, 'max_depth': 16, 'scale_pos_weight': 1.7397696847786364, 'subsample': 0.9880292208385121, 'colsample_bytree': 0.993871734257956, 'lambda_l1': 1.522177128911003e-06, 'lambda_l2': 0.023850159147350742, 'min_child_samples': 9, 'min_child_weight': 0.08688442286139668, 'bagging_fraction': 0.6086524896727741, 'bagging_freq': 10, 'feature_fraction': 0.9981357559863402, 'min_split_gain': 0.5580179461240645}. Best is trial 11 with value: 0.673230155996994.\n"
          ]
        },
        {
          "output_type": "stream",
          "name": "stdout",
          "text": [
            "Did not meet early stopping. Best iteration is:\n",
            "[40]\tvalid_0's binary_logloss: 0.0654093\n",
            "Training until validation scores don't improve for 200 rounds\n",
            "Training until validation scores don't improve for 200 rounds\n",
            "Did not meet early stopping. Best iteration is:\n",
            "[51]\tvalid_0's binary_logloss: 0.0655836\n",
            "Did not meet early stopping. Best iteration is:\n",
            "[54]\tvalid_0's binary_logloss: 0.062295\n",
            "Training until validation scores don't improve for 200 rounds\n",
            "Training until validation scores don't improve for 200 rounds\n",
            "Did not meet early stopping. Best iteration is:\n",
            "[42]\tvalid_0's binary_logloss: 0.0661981\n",
            "Training until validation scores don't improve for 200 rounds\n",
            "Did not meet early stopping. Best iteration is:\n",
            "[47]\tvalid_0's binary_logloss: 0.0640598\n",
            "Training until validation scores don't improve for 200 rounds\n",
            "Did not meet early stopping. Best iteration is:\n",
            "[57]\tvalid_0's binary_logloss: 0.0643804\n",
            "Training until validation scores don't improve for 200 rounds\n"
          ]
        },
        {
          "output_type": "stream",
          "name": "stderr",
          "text": [
            "[I 2024-02-20 10:08:35,166] Trial 12 finished with value: 0.6812858813954624 and parameters: {'learning_rate': 0.09531885005523151, 'num_leaves': 273, 'max_depth': 15, 'scale_pos_weight': 2.4281698517356674, 'subsample': 0.950429773992964, 'colsample_bytree': 0.7272424446830967, 'lambda_l1': 7.135092617398612e-06, 'lambda_l2': 0.03422047997848219, 'min_child_samples': 14, 'min_child_weight': 0.08942947207613233, 'bagging_fraction': 0.7763200811357662, 'bagging_freq': 9, 'feature_fraction': 0.8781870452659506, 'min_split_gain': 0.04546290518621609}. Best is trial 12 with value: 0.6812858813954624.\n"
          ]
        },
        {
          "output_type": "stream",
          "name": "stdout",
          "text": [
            "Did not meet early stopping. Best iteration is:\n",
            "[41]\tvalid_0's binary_logloss: 0.0623992\n",
            "Did not meet early stopping. Best iteration is:\n",
            "[55]\tvalid_0's binary_logloss: 0.066654\n",
            "Training until validation scores don't improve for 200 rounds\n",
            "Training until validation scores don't improve for 200 rounds\n",
            "Did not meet early stopping. Best iteration is:\n",
            "[41]\tvalid_0's binary_logloss: 0.066452\n"
          ]
        },
        {
          "output_type": "stream",
          "name": "stderr",
          "text": [
            "[I 2024-02-20 10:08:41,079] Trial 13 finished with value: 0.6802702935394004 and parameters: {'learning_rate': 0.09615426188272261, 'num_leaves': 289, 'max_depth': 16, 'scale_pos_weight': 2.702393401873504, 'subsample': 0.996779242468808, 'colsample_bytree': 0.7288953606877816, 'lambda_l1': 3.129810470259022e-06, 'lambda_l2': 0.01273074140070327, 'min_child_samples': 5, 'min_child_weight': 0.07041097843538117, 'bagging_fraction': 0.6176638434224836, 'bagging_freq': 10, 'feature_fraction': 0.9218882668298918, 'min_split_gain': 0.553436438268224}. Best is trial 12 with value: 0.6812858813954624.\n"
          ]
        },
        {
          "output_type": "stream",
          "name": "stdout",
          "text": [
            "Did not meet early stopping. Best iteration is:\n",
            "[58]\tvalid_0's binary_logloss: 0.063716\n",
            "Training until validation scores don't improve for 200 rounds\n",
            "Training until validation scores don't improve for 200 rounds\n",
            "Did not meet early stopping. Best iteration is:\n",
            "[59]\tvalid_0's binary_logloss: 0.0644256\n",
            "Did not meet early stopping. Best iteration is:\n",
            "[51]\tvalid_0's binary_logloss: 0.0607939\n",
            "Training until validation scores don't improve for 200 rounds\n",
            "Training until validation scores don't improve for 200 rounds\n",
            "Did not meet early stopping. Best iteration is:\n",
            "[56]\tvalid_0's binary_logloss: 0.0618738\n",
            "Did not meet early stopping. Best iteration is:\n",
            "[49]\tvalid_0's binary_logloss: 0.0625163\n",
            "Training until validation scores don't improve for 200 rounds\n",
            "Training until validation scores don't improve for 200 rounds\n",
            "Did not meet early stopping. Best iteration is:\n",
            "[55]\tvalid_0's binary_logloss: 0.0639441\n",
            "Did not meet early stopping. Best iteration is:\n",
            "[50]\tvalid_0's binary_logloss: 0.063114\n",
            "Training until validation scores don't improve for 200 rounds\n",
            "Training until validation scores don't improve for 200 rounds\n",
            "Did not meet early stopping. Best iteration is:\n",
            "[48]\tvalid_0's binary_logloss: 0.0640481\n",
            "Did not meet early stopping. Best iteration is:\n",
            "[57]\tvalid_0's binary_logloss: 0.0649181\n"
          ]
        },
        {
          "output_type": "stream",
          "name": "stderr",
          "text": [
            "[I 2024-02-20 10:09:11,798] Trial 14 finished with value: 0.6919516862779294 and parameters: {'learning_rate': 0.07985101898305251, 'num_leaves': 300, 'max_depth': 16, 'scale_pos_weight': 2.4364337712870765, 'subsample': 0.9963286643998667, 'colsample_bytree': 0.7297188018873412, 'lambda_l1': 8.759106860341648e-07, 'lambda_l2': 0.006882919212862911, 'min_child_samples': 5, 'min_child_weight': 0.09282578636708912, 'bagging_fraction': 0.630488961148987, 'bagging_freq': 8, 'feature_fraction': 0.8654269301412562, 'min_split_gain': 0.2427473328657287}. Best is trial 14 with value: 0.6919516862779294.\n"
          ]
        },
        {
          "output_type": "stream",
          "name": "stdout",
          "text": [
            "Training until validation scores don't improve for 200 rounds\n",
            "Training until validation scores don't improve for 200 rounds\n",
            "Did not meet early stopping. Best iteration is:\n",
            "[100]\tvalid_0's binary_logloss: 0.0668762\n"
          ]
        },
        {
          "output_type": "stream",
          "name": "stderr",
          "text": [
            "[I 2024-02-20 10:09:19,787] Trial 15 finished with value: 0.6794022194081227 and parameters: {'learning_rate': 0.07588565806971251, 'num_leaves': 291, 'max_depth': 15, 'scale_pos_weight': 2.8360666637284737, 'subsample': 0.94244518277055, 'colsample_bytree': 0.6123812454790245, 'lambda_l1': 9.616838269171295e-08, 'lambda_l2': 0.0296734344831626, 'min_child_samples': 5, 'min_child_weight': 0.00612780694738983, 'bagging_fraction': 0.601651388830815, 'bagging_freq': 8, 'feature_fraction': 0.8680293621878017, 'min_split_gain': 0.20089550086695007}. Best is trial 14 with value: 0.6919516862779294.\n"
          ]
        },
        {
          "output_type": "stream",
          "name": "stdout",
          "text": [
            "Did not meet early stopping. Best iteration is:\n",
            "[46]\tvalid_0's binary_logloss: 0.0645113\n",
            "Training until validation scores don't improve for 200 rounds\n",
            "Training until validation scores don't improve for 200 rounds\n",
            "Did not meet early stopping. Best iteration is:\n",
            "[100]\tvalid_0's binary_logloss: 0.0662554\n",
            "Did not meet early stopping. Best iteration is:\n",
            "[74]\tvalid_0's binary_logloss: 0.0645162\n",
            "Training until validation scores don't improve for 200 rounds\n",
            "Training until validation scores don't improve for 200 rounds\n",
            "Did not meet early stopping. Best iteration is:\n",
            "[89]\tvalid_0's binary_logloss: 0.0657523\n",
            "Did not meet early stopping. Best iteration is:\n",
            "[98]\tvalid_0's binary_logloss: 0.0667332\n",
            "Training until validation scores don't improve for 200 rounds\n",
            "Training until validation scores don't improve for 200 rounds\n",
            "Did not meet early stopping. Best iteration is:\n",
            "[98]\tvalid_0's binary_logloss: 0.0665163\n",
            "Did not meet early stopping. Best iteration is:\n",
            "[88]\tvalid_0's binary_logloss: 0.0682344\n",
            "Training until validation scores don't improve for 200 rounds\n",
            "Training until validation scores don't improve for 200 rounds\n",
            "Did not meet early stopping. Best iteration is:\n",
            "[92]\tvalid_0's binary_logloss: 0.069554\n",
            "Did not meet early stopping. Best iteration is:\n",
            "[100]\tvalid_0's binary_logloss: 0.0687457\n"
          ]
        },
        {
          "output_type": "stream",
          "name": "stderr",
          "text": [
            "[I 2024-02-20 10:09:46,242] Trial 16 finished with value: 0.6675142591895818 and parameters: {'learning_rate': 0.07491171946522665, 'num_leaves': 245, 'max_depth': 14, 'scale_pos_weight': 7.314472680260013, 'subsample': 0.9345469781546359, 'colsample_bytree': 0.6047429513769599, 'lambda_l1': 5.5960651923569155e-08, 'lambda_l2': 0.001116406141792003, 'min_child_samples': 19, 'min_child_weight': 0.0058395085241056514, 'bagging_fraction': 0.6897534168338754, 'bagging_freq': 8, 'feature_fraction': 0.8589968141312873, 'min_split_gain': 0.1881663163104172}. Best is trial 14 with value: 0.6919516862779294.\n"
          ]
        },
        {
          "output_type": "stream",
          "name": "stdout",
          "text": [
            "Training until validation scores don't improve for 200 rounds\n",
            "Training until validation scores don't improve for 200 rounds\n",
            "Did not meet early stopping. Best iteration is:\n",
            "[98]\tvalid_0's binary_logloss: 0.0742093\n",
            "Training until validation scores don't improve for 200 rounds\n",
            "Did not meet early stopping. Best iteration is:\n",
            "[94]\tvalid_0's binary_logloss: 0.0682756\n"
          ]
        },
        {
          "output_type": "stream",
          "name": "stderr",
          "text": [
            "[I 2024-02-20 10:09:52,027] Trial 17 finished with value: 0.6621871351832398 and parameters: {'learning_rate': 0.06750246967872942, 'num_leaves': 241, 'max_depth': 14, 'scale_pos_weight': 7.521687039242062, 'subsample': 0.9287415171262197, 'colsample_bytree': 0.7496306101213543, 'lambda_l1': 2.093059195233497e-05, 'lambda_l2': 0.0005868873987882115, 'min_child_samples': 20, 'min_child_weight': 0.012261980201472287, 'bagging_fraction': 0.6865141834206109, 'bagging_freq': 7, 'feature_fraction': 0.865621783315861, 'min_split_gain': 0.22875996148003086}. Best is trial 14 with value: 0.6919516862779294.\n"
          ]
        },
        {
          "output_type": "stream",
          "name": "stdout",
          "text": [
            "Training until validation scores don't improve for 200 rounds\n",
            "Did not meet early stopping. Best iteration is:\n",
            "[99]\tvalid_0's binary_logloss: 0.0787595\n",
            "Training until validation scores don't improve for 200 rounds\n",
            "Did not meet early stopping. Best iteration is:\n",
            "[100]\tvalid_0's binary_logloss: 0.0785605\n",
            "Training until validation scores don't improve for 200 rounds\n",
            "Did not meet early stopping. Best iteration is:\n",
            "[100]\tvalid_0's binary_logloss: 0.0772926\n",
            "Training until validation scores don't improve for 200 rounds\n",
            "Did not meet early stopping. Best iteration is:\n",
            "[100]\tvalid_0's binary_logloss: 0.0756065\n",
            "Training until validation scores don't improve for 200 rounds\n",
            "Did not meet early stopping. Best iteration is:\n",
            "[99]\tvalid_0's binary_logloss: 0.0778434\n",
            "Training until validation scores don't improve for 200 rounds\n",
            "Did not meet early stopping. Best iteration is:\n",
            "[100]\tvalid_0's binary_logloss: 0.0785431\n",
            "Training until validation scores don't improve for 200 rounds\n",
            "Did not meet early stopping. Best iteration is:\n",
            "[100]\tvalid_0's binary_logloss: 0.079375\n"
          ]
        },
        {
          "output_type": "stream",
          "name": "stderr",
          "text": [
            "[I 2024-02-20 10:10:14,261] Trial 18 finished with value: 0.6332316683390482 and parameters: {'learning_rate': 0.0876643440602289, 'num_leaves': 239, 'max_depth': 11, 'scale_pos_weight': 17.024365630301148, 'subsample': 0.7383187190358971, 'colsample_bytree': 0.7514467584215846, 'lambda_l1': 6.744763502692123e-05, 'lambda_l2': 0.11966731613249787, 'min_child_samples': 21, 'min_child_weight': 0.014379084012256106, 'bagging_fraction': 0.6727748134616848, 'bagging_freq': 7, 'feature_fraction': 0.8806195607759411, 'min_split_gain': 0.159429220760508}. Best is trial 14 with value: 0.6919516862779294.\n"
          ]
        },
        {
          "output_type": "stream",
          "name": "stdout",
          "text": [
            "Training until validation scores don't improve for 200 rounds\n",
            "Did not meet early stopping. Best iteration is:\n",
            "[100]\tvalid_0's binary_logloss: 0.079957\n",
            "Training until validation scores don't improve for 200 rounds\n",
            "Did not meet early stopping. Best iteration is:\n",
            "[100]\tvalid_0's binary_logloss: 0.0994557\n",
            "Training until validation scores don't improve for 200 rounds\n",
            "Did not meet early stopping. Best iteration is:\n",
            "[100]\tvalid_0's binary_logloss: 0.0941472\n",
            "Did not meet early stopping. Best iteration is:\n",
            "[100]\tvalid_0's binary_logloss: 0.0815335\n"
          ]
        },
        {
          "output_type": "stream",
          "name": "stderr",
          "text": [
            "[I 2024-02-20 10:10:24,129] Trial 19 finished with value: 0.6386953046077195 and parameters: {'learning_rate': 0.08677177147611824, 'num_leaves': 264, 'max_depth': 12, 'scale_pos_weight': 21.63733655751345, 'subsample': 0.7555255082236567, 'colsample_bytree': 0.686409787639945, 'lambda_l1': 7.908974577380103e-05, 'lambda_l2': 1.146455034382145e-08, 'min_child_samples': 23, 'min_child_weight': 0.0017497780167683714, 'bagging_fraction': 0.8316730957731732, 'bagging_freq': 8, 'feature_fraction': 0.9136081667223778, 'min_split_gain': 0.10653580002481197}. Best is trial 14 with value: 0.6919516862779294.\n"
          ]
        },
        {
          "output_type": "stream",
          "name": "stdout",
          "text": [
            "Training until validation scores don't improve for 200 rounds\n",
            "Training until validation scores don't improve for 200 rounds\n",
            "Did not meet early stopping. Best iteration is:\n",
            "[100]\tvalid_0's binary_logloss: 0.0950182\n",
            "Training until validation scores don't improve for 200 rounds\n",
            "Did not meet early stopping. Best iteration is:\n",
            "[100]\tvalid_0's binary_logloss: 0.0887331\n",
            "Training until validation scores don't improve for 200 rounds\n",
            "Did not meet early stopping. Best iteration is:\n",
            "[100]\tvalid_0's binary_logloss: 0.100549\n",
            "Training until validation scores don't improve for 200 rounds\n",
            "Did not meet early stopping. Best iteration is:\n",
            "[100]\tvalid_0's binary_logloss: 0.0875052\n",
            "Training until validation scores don't improve for 200 rounds\n",
            "Did not meet early stopping. Best iteration is:\n",
            "[100]\tvalid_0's binary_logloss: 0.102407\n"
          ]
        },
        {
          "output_type": "stream",
          "name": "stderr",
          "text": [
            "[I 2024-02-20 10:10:39,353] Trial 20 finished with value: 0.5960686231587012 and parameters: {'learning_rate': 0.08357974602237195, 'num_leaves': 290, 'max_depth': 12, 'scale_pos_weight': 38.40467693925207, 'subsample': 0.8786024428101727, 'colsample_bytree': 0.6907340342607207, 'lambda_l1': 3.058978040745675e-07, 'lambda_l2': 0.10078905446166779, 'min_child_samples': 61, 'min_child_weight': 0.0029510670834822345, 'bagging_fraction': 0.8223228814920878, 'bagging_freq': 8, 'feature_fraction': 0.8147012728484893, 'min_split_gain': 0.37093534874248574}. Best is trial 14 with value: 0.6919516862779294.\n"
          ]
        },
        {
          "output_type": "stream",
          "name": "stdout",
          "text": [
            "Training until validation scores don't improve for 200 rounds\n",
            "Did not meet early stopping. Best iteration is:\n",
            "[99]\tvalid_0's binary_logloss: 0.088806\n",
            "Training until validation scores don't improve for 200 rounds\n",
            "Did not meet early stopping. Best iteration is:\n",
            "[42]\tvalid_0's binary_logloss: 0.0627256\n",
            "Training until validation scores don't improve for 200 rounds\n",
            "Did not meet early stopping. Best iteration is:\n",
            "[100]\tvalid_0's binary_logloss: 0.090919\n",
            "Training until validation scores don't improve for 200 rounds\n",
            "Did not meet early stopping. Best iteration is:\n",
            "[43]\tvalid_0's binary_logloss: 0.0609682\n",
            "Training until validation scores don't improve for 200 rounds\n",
            "Did not meet early stopping. Best iteration is:\n",
            "[100]\tvalid_0's binary_logloss: 0.093922\n"
          ]
        },
        {
          "output_type": "stream",
          "name": "stderr",
          "text": [
            "[I 2024-02-20 10:10:54,221] Trial 21 finished with value: 0.6144004200069505 and parameters: {'learning_rate': 0.08031977257783347, 'num_leaves': 300, 'max_depth': 15, 'scale_pos_weight': 37.30511545595863, 'subsample': 0.8752152333862836, 'colsample_bytree': 0.6686622526951003, 'lambda_l1': 4.067324637903867e-07, 'lambda_l2': 8.764934389194257e-05, 'min_child_samples': 55, 'min_child_weight': 3.8854422246817797e-05, 'bagging_fraction': 0.7380899142489061, 'bagging_freq': 9, 'feature_fraction': 0.8158963664052565, 'min_split_gain': 0.33583745218347105}. Best is trial 14 with value: 0.6919516862779294.\n"
          ]
        },
        {
          "output_type": "stream",
          "name": "stdout",
          "text": [
            "Did not meet early stopping. Best iteration is:\n",
            "[41]\tvalid_0's binary_logloss: 0.062731\n",
            "Training until validation scores don't improve for 200 rounds\n",
            "Training until validation scores don't improve for 200 rounds\n",
            "Did not meet early stopping. Best iteration is:\n",
            "[43]\tvalid_0's binary_logloss: 0.0631135\n",
            "Training until validation scores don't improve for 200 rounds\n",
            "Did not meet early stopping. Best iteration is:\n",
            "[40]\tvalid_0's binary_logloss: 0.0654964\n",
            "Training until validation scores don't improve for 200 rounds\n",
            "Did not meet early stopping. Best iteration is:\n",
            "[58]\tvalid_0's binary_logloss: 0.0637469\n"
          ]
        },
        {
          "output_type": "stream",
          "name": "stderr",
          "text": [
            "[I 2024-02-20 10:11:10,360] Trial 22 finished with value: 0.6826464192243019 and parameters: {'learning_rate': 0.09592305218296818, 'num_leaves': 292, 'max_depth': 16, 'scale_pos_weight': 1.856240765930912, 'subsample': 0.9967737569451411, 'colsample_bytree': 0.789090845928234, 'lambda_l1': 8.789870918707152e-07, 'lambda_l2': 0.004780673369678133, 'min_child_samples': 13, 'min_child_weight': 0.06147020532165589, 'bagging_fraction': 0.6385384026388404, 'bagging_freq': 10, 'feature_fraction': 0.9132880094304394, 'min_split_gain': 0.5241153779028302}. Best is trial 14 with value: 0.6919516862779294.\n"
          ]
        },
        {
          "output_type": "stream",
          "name": "stdout",
          "text": [
            "Training until validation scores don't improve for 200 rounds\n",
            "Did not meet early stopping. Best iteration is:\n",
            "[60]\tvalid_0's binary_logloss: 0.062691\n",
            "Training until validation scores don't improve for 200 rounds\n",
            "Did not meet early stopping. Best iteration is:\n",
            "[56]\tvalid_0's binary_logloss: 0.067556\n",
            "Training until validation scores don't improve for 200 rounds\n",
            "Did not meet early stopping. Best iteration is:\n",
            "[53]\tvalid_0's binary_logloss: 0.0649463\n",
            "Training until validation scores don't improve for 200 rounds\n",
            "Did not meet early stopping. Best iteration is:\n",
            "[58]\tvalid_0's binary_logloss: 0.0649268\n",
            "Training until validation scores don't improve for 200 rounds\n",
            "Did not meet early stopping. Best iteration is:\n",
            "[52]\tvalid_0's binary_logloss: 0.0652988\n",
            "Training until validation scores don't improve for 200 rounds\n",
            "Did not meet early stopping. Best iteration is:\n",
            "[58]\tvalid_0's binary_logloss: 0.0675162\n",
            "Did not meet early stopping. Best iteration is:\n",
            "[46]\tvalid_0's binary_logloss: 0.0672996\n",
            "Training until validation scores don't improve for 200 rounds\n"
          ]
        },
        {
          "output_type": "stream",
          "name": "stderr",
          "text": [
            "[I 2024-02-20 10:11:41,329] Trial 23 finished with value: 0.6705148314010859 and parameters: {'learning_rate': 0.0947782584507206, 'num_leaves': 261, 'max_depth': 16, 'scale_pos_weight': 4.479156339071276, 'subsample': 0.9970577297281427, 'colsample_bytree': 0.783243274771049, 'lambda_l1': 2.0304133385099473e-06, 'lambda_l2': 0.005849030432888282, 'min_child_samples': 12, 'min_child_weight': 0.08862939297233996, 'bagging_fraction': 0.6391906226955097, 'bagging_freq': 10, 'feature_fraction': 0.9023443962760441, 'min_split_gain': 0.48104572693974645}. Best is trial 14 with value: 0.6919516862779294.\n"
          ]
        },
        {
          "output_type": "stream",
          "name": "stdout",
          "text": [
            "Training until validation scores don't improve for 200 rounds\n",
            "Did not meet early stopping. Best iteration is:\n",
            "[68]\tvalid_0's binary_logloss: 0.0683383\n",
            "Did not meet early stopping. Best iteration is:\n",
            "[89]\tvalid_0's binary_logloss: 0.0708056\n",
            "Training until validation scores don't improve for 200 rounds\n",
            "Training until validation scores don't improve for 200 rounds\n",
            "Did not meet early stopping. Best iteration is:\n",
            "[52]\tvalid_0's binary_logloss: 0.0675957\n"
          ]
        },
        {
          "output_type": "stream",
          "name": "stderr",
          "text": [
            "[I 2024-02-20 10:12:00,436] Trial 24 finished with value: 0.661231357632498 and parameters: {'learning_rate': 0.09286239508883765, 'num_leaves': 211, 'max_depth': 15, 'scale_pos_weight': 5.80144868764901, 'subsample': 0.9642836021194443, 'colsample_bytree': 0.7865427719740383, 'lambda_l1': 5.136539291798813e-07, 'lambda_l2': 0.0027593476202196466, 'min_child_samples': 13, 'min_child_weight': 0.09632394849316185, 'bagging_fraction': 0.6407356108943988, 'bagging_freq': 9, 'feature_fraction': 0.9656382077053529, 'min_split_gain': 0.2761883682720898}. Best is trial 14 with value: 0.6919516862779294.\n"
          ]
        },
        {
          "output_type": "stream",
          "name": "stdout",
          "text": [
            "Did not meet early stopping. Best iteration is:\n",
            "[97]\tvalid_0's binary_logloss: 0.0688851\n",
            "Training until validation scores don't improve for 200 rounds\n",
            "Training until validation scores don't improve for 200 rounds\n",
            "Did not meet early stopping. Best iteration is:\n",
            "[100]\tvalid_0's binary_logloss: 0.0716048\n",
            "Did not meet early stopping. Best iteration is:\n",
            "[97]\tvalid_0's binary_logloss: 0.0701316\n",
            "Training until validation scores don't improve for 200 rounds\n",
            "Training until validation scores don't improve for 200 rounds\n",
            "Did not meet early stopping. Best iteration is:\n",
            "[80]\tvalid_0's binary_logloss: 0.0730103\n",
            "Did not meet early stopping. Best iteration is:\n",
            "[86]\tvalid_0's binary_logloss: 0.0701467\n",
            "Training until validation scores don't improve for 200 rounds\n",
            "Training until validation scores don't improve for 200 rounds\n",
            "Did not meet early stopping. Best iteration is:\n",
            "[98]\tvalid_0's binary_logloss: 0.0745221\n"
          ]
        },
        {
          "output_type": "stream",
          "name": "stderr",
          "text": [
            "[I 2024-02-20 10:12:25,524] Trial 25 finished with value: 0.663940509772653 and parameters: {'learning_rate': 0.09151763319386041, 'num_leaves': 220, 'max_depth': 15, 'scale_pos_weight': 11.86343447568369, 'subsample': 0.9628894064499179, 'colsample_bytree': 0.7848502948555183, 'lambda_l1': 4.6771894302496856e-07, 'lambda_l2': 0.16579431260230895, 'min_child_samples': 29, 'min_child_weight': 0.0205948563360577, 'bagging_fraction': 0.6509334860970405, 'bagging_freq': 9, 'feature_fraction': 0.9668314237524475, 'min_split_gain': 0.09610086265117115}. Best is trial 14 with value: 0.6919516862779294.\n"
          ]
        },
        {
          "output_type": "stream",
          "name": "stdout",
          "text": [
            "Did not meet early stopping. Best iteration is:\n",
            "[83]\tvalid_0's binary_logloss: 0.0730716\n",
            "Training until validation scores don't improve for 200 rounds\n",
            "Training until validation scores don't improve for 200 rounds\n",
            "Did not meet early stopping. Best iteration is:\n",
            "[77]\tvalid_0's binary_logloss: 0.0597525\n",
            "Training until validation scores don't improve for 200 rounds\n",
            "Did not meet early stopping. Best iteration is:\n",
            "[92]\tvalid_0's binary_logloss: 0.072201\n",
            "Training until validation scores don't improve for 200 rounds\n",
            "Did not meet early stopping. Best iteration is:\n",
            "[74]\tvalid_0's binary_logloss: 0.0604205\n",
            "Training until validation scores don't improve for 200 rounds\n",
            "Did not meet early stopping. Best iteration is:\n",
            "[73]\tvalid_0's binary_logloss: 0.059777\n",
            "Did not meet early stopping. Best iteration is:\n",
            "[95]\tvalid_0's binary_logloss: 0.0731408\n"
          ]
        },
        {
          "output_type": "stream",
          "name": "stderr",
          "text": [
            "[I 2024-02-20 10:12:39,627] Trial 26 finished with value: 0.6623119317752636 and parameters: {'learning_rate': 0.09972690051932531, 'num_leaves': 272, 'max_depth': 15, 'scale_pos_weight': 11.486979027487259, 'subsample': 0.9574372543745455, 'colsample_bytree': 0.6416610478700036, 'lambda_l1': 0.00012500313993966516, 'lambda_l2': 0.3114892326058428, 'min_child_samples': 33, 'min_child_weight': 0.024741483436667922, 'bagging_fraction': 0.7196414897036465, 'bagging_freq': 7, 'feature_fraction': 0.8445426544391248, 'min_split_gain': 0.10258064614108192}. Best is trial 14 with value: 0.6919516862779294.\n"
          ]
        },
        {
          "output_type": "stream",
          "name": "stdout",
          "text": [
            "Training until validation scores don't improve for 200 rounds\n",
            "Training until validation scores don't improve for 200 rounds\n",
            "Did not meet early stopping. Best iteration is:\n",
            "[91]\tvalid_0's binary_logloss: 0.0613871\n",
            "Training until validation scores don't improve for 200 rounds\n",
            "Did not meet early stopping. Best iteration is:\n",
            "[100]\tvalid_0's binary_logloss: 0.0727358\n",
            "Training until validation scores don't improve for 200 rounds\n",
            "Did not meet early stopping. Best iteration is:\n",
            "[81]\tvalid_0's binary_logloss: 0.0610751\n"
          ]
        },
        {
          "output_type": "stream",
          "name": "stderr",
          "text": [
            "[I 2024-02-20 10:12:51,213] Trial 27 finished with value: 0.688731420829122 and parameters: {'learning_rate': 0.06831101632578826, 'num_leaves': 273, 'max_depth': 13, 'scale_pos_weight': 1.0124554410034008, 'subsample': 0.9107243627069894, 'colsample_bytree': 0.6381811818143402, 'lambda_l1': 1.2516629833294377e-08, 'lambda_l2': 0.00015233754919302477, 'min_child_samples': 27, 'min_child_weight': 0.04242787568826043, 'bagging_fraction': 0.718839993607725, 'bagging_freq': 7, 'feature_fraction': 0.8413836665039686, 'min_split_gain': 0.4637268892361831}. Best is trial 14 with value: 0.6919516862779294.\n"
          ]
        },
        {
          "output_type": "stream",
          "name": "stdout",
          "text": [
            "Training until validation scores don't improve for 200 rounds\n",
            "Did not meet early stopping. Best iteration is:\n",
            "[98]\tvalid_0's binary_logloss: 0.0715686\n",
            "Training until validation scores don't improve for 200 rounds\n",
            "Did not meet early stopping. Best iteration is:\n",
            "[98]\tvalid_0's binary_logloss: 0.077624\n",
            "Training until validation scores don't improve for 200 rounds\n",
            "Did not meet early stopping. Best iteration is:\n",
            "[100]\tvalid_0's binary_logloss: 0.0724014\n",
            "Training until validation scores don't improve for 200 rounds\n",
            "Did not meet early stopping. Best iteration is:\n",
            "[100]\tvalid_0's binary_logloss: 0.074088\n",
            "Training until validation scores don't improve for 200 rounds\n",
            "Did not meet early stopping. Best iteration is:\n",
            "[100]\tvalid_0's binary_logloss: 0.0765016\n",
            "Did not meet early stopping. Best iteration is:\n",
            "[100]\tvalid_0's binary_logloss: 0.0782104\n",
            "Training until validation scores don't improve for 200 rounds\n",
            "Training until validation scores don't improve for 200 rounds\n",
            "Did not meet early stopping. Best iteration is:\n",
            "[100]\tvalid_0's binary_logloss: 0.0798808\n",
            "Did not meet early stopping. Best iteration is:\n",
            "[100]\tvalid_0's binary_logloss: 0.0783519\n"
          ]
        },
        {
          "output_type": "stream",
          "name": "stderr",
          "text": [
            "[I 2024-02-20 10:13:12,238] Trial 28 finished with value: 0.6417058667250616 and parameters: {'learning_rate': 0.06506842194887313, 'num_leaves': 281, 'max_depth': 13, 'scale_pos_weight': 14.753631356908278, 'subsample': 0.9184389202101675, 'colsample_bytree': 0.7178951963335488, 'lambda_l1': 1.2204727668964676e-05, 'lambda_l2': 0.00021145739588143857, 'min_child_samples': 15, 'min_child_weight': 0.03752785839262602, 'bagging_fraction': 0.7886336885328659, 'bagging_freq': 6, 'feature_fraction': 0.8966740080663502, 'min_split_gain': 0.4513470080394253}. Best is trial 14 with value: 0.6919516862779294.\n"
          ]
        },
        {
          "output_type": "stream",
          "name": "stdout",
          "text": [
            "Training until validation scores don't improve for 200 rounds\n",
            "Training until validation scores don't improve for 200 rounds\n",
            "Did not meet early stopping. Best iteration is:\n",
            "[100]\tvalid_0's binary_logloss: 0.0764267\n",
            "Did not meet early stopping. Best iteration is:\n",
            "[100]\tvalid_0's binary_logloss: 0.0819917\n",
            "Training until validation scores don't improve for 200 rounds\n"
          ]
        },
        {
          "output_type": "stream",
          "name": "stderr",
          "text": [
            "[I 2024-02-20 10:13:16,762] Trial 29 finished with value: 0.6198869919542273 and parameters: {'learning_rate': 0.06462144169594942, 'num_leaves': 300, 'max_depth': 13, 'scale_pos_weight': 14.080347014937116, 'subsample': 0.8503365531472258, 'colsample_bytree': 0.7050862454433826, 'lambda_l1': 2.6295689135215505e-08, 'lambda_l2': 0.00018569321803776166, 'min_child_samples': 40, 'min_child_weight': 0.04142268251636623, 'bagging_fraction': 0.7110320468581163, 'bagging_freq': 6, 'feature_fraction': 0.8964412372337556, 'min_split_gain': 0.4408366177931424}. Best is trial 14 with value: 0.6919516862779294.\n"
          ]
        },
        {
          "output_type": "stream",
          "name": "stdout",
          "text": [
            "Training until validation scores don't improve for 200 rounds\n",
            "Did not meet early stopping. Best iteration is:\n",
            "[100]\tvalid_0's binary_logloss: 0.0750809\n",
            "Did not meet early stopping. Best iteration is:\n",
            "[100]\tvalid_0's binary_logloss: 0.0784015\n",
            "Training until validation scores don't improve for 200 rounds\n",
            "Training until validation scores don't improve for 200 rounds\n",
            "Did not meet early stopping. Best iteration is:\n",
            "[100]\tvalid_0's binary_logloss: 0.0764097\n",
            "Did not meet early stopping. Best iteration is:\n",
            "[100]\tvalid_0's binary_logloss: 0.0761418\n",
            "Training until validation scores don't improve for 200 rounds\n",
            "Training until validation scores don't improve for 200 rounds\n",
            "Did not meet early stopping. Best iteration is:\n",
            "[100]\tvalid_0's binary_logloss: 0.0788124\n",
            "Did not meet early stopping. Best iteration is:\n",
            "[100]\tvalid_0's binary_logloss: 0.0775723\n",
            "Training until validation scores don't improve for 200 rounds\n",
            "Training until validation scores don't improve for 200 rounds\n",
            "Did not meet early stopping. Best iteration is:\n",
            "[100]\tvalid_0's binary_logloss: 0.0797751\n",
            "Did not meet early stopping. Best iteration is:\n",
            "[100]\tvalid_0's binary_logloss: 0.0814272\n"
          ]
        },
        {
          "output_type": "stream",
          "name": "stderr",
          "text": [
            "[I 2024-02-20 10:13:41,019] Trial 30 finished with value: 0.606916848586099 and parameters: {'learning_rate': 0.05802979877353019, 'num_leaves': 249, 'max_depth': 10, 'scale_pos_weight': 8.353054807540337, 'subsample': 0.7749175665422054, 'colsample_bytree': 0.6433804461121203, 'lambda_l1': 1.31017535642473e-08, 'lambda_l2': 0.0010189788433652266, 'min_child_samples': 39, 'min_child_weight': 0.014987716257163561, 'bagging_fraction': 0.7115614264853549, 'bagging_freq': 4, 'feature_fraction': 0.9471266608325408, 'min_split_gain': 0.4473918313282701}. Best is trial 14 with value: 0.6919516862779294.\n"
          ]
        },
        {
          "output_type": "stream",
          "name": "stdout",
          "text": [
            "Training until validation scores don't improve for 200 rounds\n",
            "Training until validation scores don't improve for 200 rounds\n",
            "Did not meet early stopping. Best iteration is:\n",
            "[100]\tvalid_0's binary_logloss: 0.0819989\n"
          ]
        },
        {
          "output_type": "stream",
          "name": "stderr",
          "text": [
            "[I 2024-02-20 10:13:45,457] Trial 31 finished with value: 0.5999093050647513 and parameters: {'learning_rate': 0.04619588179930234, 'num_leaves': 100, 'max_depth': 10, 'scale_pos_weight': 8.047248369848496, 'subsample': 0.9069175464302748, 'colsample_bytree': 0.628686971842406, 'lambda_l1': 1.3884716015488547e-08, 'lambda_l2': 0.001082341306065209, 'min_child_samples': 28, 'min_child_weight': 0.00032403202516236506, 'bagging_fraction': 0.6413322910902486, 'bagging_freq': 4, 'feature_fraction': 0.942570943199862, 'min_split_gain': 0.5890565489994251}. Best is trial 14 with value: 0.6919516862779294.\n"
          ]
        },
        {
          "output_type": "stream",
          "name": "stdout",
          "text": [
            "Training until validation scores don't improve for 200 rounds\n",
            "Did not meet early stopping. Best iteration is:\n",
            "[81]\tvalid_0's binary_logloss: 0.0619364\n",
            "Training until validation scores don't improve for 200 rounds\n",
            "Did not meet early stopping. Best iteration is:\n",
            "[63]\tvalid_0's binary_logloss: 0.0605876\n",
            "Did not meet early stopping. Best iteration is:\n",
            "[57]\tvalid_0's binary_logloss: 0.0596963\n",
            "Training until validation scores don't improve for 200 rounds\n",
            "Training until validation scores don't improve for 200 rounds\n",
            "Did not meet early stopping. Best iteration is:\n",
            "[64]\tvalid_0's binary_logloss: 0.0602714\n",
            "Did not meet early stopping. Best iteration is:\n",
            "[49]\tvalid_0's binary_logloss: 0.0603625\n",
            "Training until validation scores don't improve for 200 rounds\n",
            "Training until validation scores don't improve for 200 rounds\n",
            "Did not meet early stopping. Best iteration is:\n",
            "[56]\tvalid_0's binary_logloss: 0.06201\n",
            "Training until validation scores don't improve for 200 rounds\n",
            "Did not meet early stopping. Best iteration is:\n",
            "[62]\tvalid_0's binary_logloss: 0.0616989\n",
            "Training until validation scores don't improve for 200 rounds\n",
            "Did not meet early stopping. Best iteration is:\n",
            "[69]\tvalid_0's binary_logloss: 0.0621546\n"
          ]
        },
        {
          "output_type": "stream",
          "name": "stderr",
          "text": [
            "[I 2024-02-20 10:14:11,208] Trial 32 finished with value: 0.6920351242799822 and parameters: {'learning_rate': 0.07646928271139888, 'num_leaves': 259, 'max_depth': 16, 'scale_pos_weight': 1.236213144307935, 'subsample': 0.9566447611377793, 'colsample_bytree': 0.7657690926810566, 'lambda_l1': 1.1874786214953925e-07, 'lambda_l2': 0.047471113208466996, 'min_child_samples': 28, 'min_child_weight': 0.055510679684639914, 'bagging_fraction': 0.6628814883441217, 'bagging_freq': 10, 'feature_fraction': 0.8375995228875152, 'min_split_gain': 0.27268484191378783}. Best is trial 32 with value: 0.6920351242799822.\n"
          ]
        },
        {
          "output_type": "stream",
          "name": "stdout",
          "text": [
            "Training until validation scores don't improve for 200 rounds\n",
            "Did not meet early stopping. Best iteration is:\n",
            "[66]\tvalid_0's binary_logloss: 0.0617665\n",
            "Training until validation scores don't improve for 200 rounds\n",
            "Did not meet early stopping. Best iteration is:\n",
            "[80]\tvalid_0's binary_logloss: 0.0593461\n",
            "Training until validation scores don't improve for 200 rounds\n",
            "Did not meet early stopping. Best iteration is:\n",
            "[59]\tvalid_0's binary_logloss: 0.0626143\n"
          ]
        },
        {
          "output_type": "stream",
          "name": "stderr",
          "text": [
            "[I 2024-02-20 10:14:20,806] Trial 33 finished with value: 0.6870018075669047 and parameters: {'learning_rate': 0.07572974704679696, 'num_leaves': 265, 'max_depth': 16, 'scale_pos_weight': 2.4767026631288642, 'subsample': 0.9652084365966652, 'colsample_bytree': 0.7668100820629309, 'lambda_l1': 1.149004032448612e-07, 'lambda_l2': 0.03616570047503459, 'min_child_samples': 14, 'min_child_weight': 0.056587652788133665, 'bagging_fraction': 0.7666464999093465, 'bagging_freq': 10, 'feature_fraction': 0.8365818909093302, 'min_split_gain': 0.281780294603704}. Best is trial 32 with value: 0.6920351242799822.\n"
          ]
        },
        {
          "output_type": "stream",
          "name": "stdout",
          "text": [
            "Training until validation scores don't improve for 200 rounds\n",
            "Did not meet early stopping. Best iteration is:\n",
            "[66]\tvalid_0's binary_logloss: 0.0587567\n",
            "Training until validation scores don't improve for 200 rounds\n",
            "Did not meet early stopping. Best iteration is:\n",
            "[99]\tvalid_0's binary_logloss: 0.0638929\n",
            "Did not meet early stopping. Best iteration is:\n",
            "[77]\tvalid_0's binary_logloss: 0.0604868\n",
            "Training until validation scores don't improve for 200 rounds\n",
            "Training until validation scores don't improve for 200 rounds\n",
            "Did not meet early stopping. Best iteration is:\n",
            "[83]\tvalid_0's binary_logloss: 0.0613786\n",
            "Did not meet early stopping. Best iteration is:\n",
            "[80]\tvalid_0's binary_logloss: 0.0614654\n",
            "Training until validation scores don't improve for 200 rounds\n",
            "Training until validation scores don't improve for 200 rounds\n",
            "Did not meet early stopping. Best iteration is:\n",
            "[78]\tvalid_0's binary_logloss: 0.061153\n"
          ]
        },
        {
          "output_type": "stream",
          "name": "stderr",
          "text": [
            "[I 2024-02-20 10:14:37,157] Trial 34 finished with value: 0.689109012268589 and parameters: {'learning_rate': 0.07611687011481773, 'num_leaves': 256, 'max_depth': 16, 'scale_pos_weight': 1.3940341977933304, 'subsample': 0.9711923129825891, 'colsample_bytree': 0.7708090079873614, 'lambda_l1': 1.1231529082130778e-07, 'lambda_l2': 0.8087203712069915, 'min_child_samples': 26, 'min_child_weight': 0.04673690182513681, 'bagging_fraction': 0.6580840869769166, 'bagging_freq': 10, 'feature_fraction': 0.7740283648702846, 'min_split_gain': 0.29127629443907693}. Best is trial 32 with value: 0.6920351242799822.\n"
          ]
        },
        {
          "output_type": "stream",
          "name": "stdout",
          "text": [
            "Training until validation scores don't improve for 200 rounds\n",
            "Did not meet early stopping. Best iteration is:\n",
            "[78]\tvalid_0's binary_logloss: 0.0626621\n",
            "Training until validation scores don't improve for 200 rounds\n",
            "Did not meet early stopping. Best iteration is:\n",
            "[100]\tvalid_0's binary_logloss: 0.0648211\n",
            "Training until validation scores don't improve for 200 rounds\n",
            "Did not meet early stopping. Best iteration is:\n",
            "[92]\tvalid_0's binary_logloss: 0.0649357\n",
            "Training until validation scores don't improve for 200 rounds\n",
            "Did not meet early stopping. Best iteration is:\n",
            "[96]\tvalid_0's binary_logloss: 0.0645409\n",
            "Training until validation scores don't improve for 200 rounds\n",
            "Did not meet early stopping. Best iteration is:\n",
            "[92]\tvalid_0's binary_logloss: 0.0655217\n"
          ]
        },
        {
          "output_type": "stream",
          "name": "stderr",
          "text": [
            "[I 2024-02-20 10:14:50,956] Trial 35 finished with value: 0.6745888186525528 and parameters: {'learning_rate': 0.0770189478315487, 'num_leaves': 226, 'max_depth': 16, 'scale_pos_weight': 4.808287996114455, 'subsample': 0.8983079195365075, 'colsample_bytree': 0.9212985184972986, 'lambda_l1': 1.0132353282156944e-07, 'lambda_l2': 0.3875754976770763, 'min_child_samples': 25, 'min_child_weight': 0.00010248889949076643, 'bagging_fraction': 0.7475550873983633, 'bagging_freq': 7, 'feature_fraction': 0.781702224035665, 'min_split_gain': 0.29341085895188335}. Best is trial 32 with value: 0.6920351242799822.\n"
          ]
        },
        {
          "output_type": "stream",
          "name": "stdout",
          "text": [
            "Training until validation scores don't improve for 200 rounds\n",
            "Did not meet early stopping. Best iteration is:\n",
            "[100]\tvalid_0's binary_logloss: 0.0654854\n",
            "Training until validation scores don't improve for 200 rounds\n",
            "Did not meet early stopping. Best iteration is:\n",
            "[100]\tvalid_0's binary_logloss: 0.0669253\n",
            "Training until validation scores don't improve for 200 rounds\n",
            "Did not meet early stopping. Best iteration is:\n",
            "[99]\tvalid_0's binary_logloss: 0.066558\n",
            "Training until validation scores don't improve for 200 rounds\n",
            "Did not meet early stopping. Best iteration is:\n",
            "[100]\tvalid_0's binary_logloss: 0.0665838\n",
            "Training until validation scores don't improve for 200 rounds\n",
            "Did not meet early stopping. Best iteration is:\n",
            "[96]\tvalid_0's binary_logloss: 0.067607\n"
          ]
        },
        {
          "output_type": "stream",
          "name": "stderr",
          "text": [
            "[I 2024-02-20 10:15:02,862] Trial 36 finished with value: 0.6565825894783575 and parameters: {'learning_rate': 0.07062316991418265, 'num_leaves': 229, 'max_depth': 14, 'scale_pos_weight': 5.42776783543403, 'subsample': 0.9049310321076391, 'colsample_bytree': 0.9184531288445427, 'lambda_l1': 1.1746430588883643e-07, 'lambda_l2': 0.7494701719500579, 'min_child_samples': 36, 'min_child_weight': 0.004220584872842931, 'bagging_fraction': 0.6645661019049867, 'bagging_freq': 7, 'feature_fraction': 0.7693130255820492, 'min_split_gain': 0.384138596864649}. Best is trial 32 with value: 0.6920351242799822.\n"
          ]
        },
        {
          "output_type": "stream",
          "name": "stdout",
          "text": [
            "Training until validation scores don't improve for 200 rounds\n",
            "Did not meet early stopping. Best iteration is:\n",
            "[100]\tvalid_0's binary_logloss: 0.0985851\n",
            "Did not meet early stopping. Best iteration is:\n",
            "[100]\tvalid_0's binary_logloss: 0.0665538\n",
            "Training until validation scores don't improve for 200 rounds\n",
            "Training until validation scores don't improve for 200 rounds\n",
            "Did not meet early stopping. Best iteration is:\n",
            "[100]\tvalid_0's binary_logloss: 0.096789\n",
            "Training until validation scores don't improve for 200 rounds\n",
            "Did not meet early stopping. Best iteration is:\n",
            "[100]\tvalid_0's binary_logloss: 0.0673188\n",
            "Did not meet early stopping. Best iteration is:\n",
            "[100]\tvalid_0's binary_logloss: 0.0994733\n",
            "Training until validation scores don't improve for 200 rounds\n",
            "Training until validation scores don't improve for 200 rounds\n",
            "Did not meet early stopping. Best iteration is:\n",
            "[100]\tvalid_0's binary_logloss: 0.0984492\n",
            "Training until validation scores don't improve for 200 rounds\n",
            "Did not meet early stopping. Best iteration is:\n",
            "[100]\tvalid_0's binary_logloss: 0.0702743\n"
          ]
        },
        {
          "output_type": "stream",
          "name": "stderr",
          "text": [
            "[I 2024-02-20 10:15:16,251] Trial 37 finished with value: 0.6493875043523468 and parameters: {'learning_rate': 0.06973860501208796, 'num_leaves': 190, 'max_depth': 14, 'scale_pos_weight': 5.9229039048436025, 'subsample': 0.6714656776837316, 'colsample_bytree': 0.6654616577582603, 'lambda_l1': 4.6893835091082154e-08, 'lambda_l2': 1.2841678102526748, 'min_child_samples': 35, 'min_child_weight': 0.0037273767826475515, 'bagging_fraction': 0.6646789368578461, 'bagging_freq': 8, 'feature_fraction': 0.7047236044241351, 'min_split_gain': 0.3901810447579921}. Best is trial 32 with value: 0.6920351242799822.\n"
          ]
        },
        {
          "output_type": "stream",
          "name": "stdout",
          "text": [
            "Training until validation scores don't improve for 200 rounds\n"
          ]
        },
        {
          "output_type": "stream",
          "name": "stderr",
          "text": [
            "[I 2024-02-20 10:15:17,835] Trial 38 finished with value: 0.5397895580718808 and parameters: {'learning_rate': 0.0495394848464446, 'num_leaves': 205, 'max_depth': 8, 'scale_pos_weight': 10.16516733452714, 'subsample': 0.9742935531441532, 'colsample_bytree': 0.8061727430653791, 'lambda_l1': 3.794521078685132e-08, 'lambda_l2': 2.4812706172044443, 'min_child_samples': 46, 'min_child_weight': 0.009273078625018282, 'bagging_fraction': 0.699930311282217, 'bagging_freq': 8, 'feature_fraction': 0.695093446630032, 'min_split_gain': 0.23741074864127085}. Best is trial 32 with value: 0.6920351242799822.\n"
          ]
        },
        {
          "output_type": "stream",
          "name": "stdout",
          "text": [
            "Did not meet early stopping. Best iteration is:\n",
            "[21]\tvalid_0's binary_logloss: 0.102537\n",
            "Training until validation scores don't improve for 200 rounds\n",
            "Did not meet early stopping. Best iteration is:\n",
            "[100]\tvalid_0's binary_logloss: 0.0944587\n",
            "Training until validation scores don't improve for 200 rounds\n",
            "Did not meet early stopping. Best iteration is:\n",
            "[100]\tvalid_0's binary_logloss: 0.0934917\n",
            "Did not meet early stopping. Best iteration is:\n",
            "[100]\tvalid_0's binary_logloss: 0.0925949\n",
            "Training until validation scores don't improve for 200 rounds\n",
            "Training until validation scores don't improve for 200 rounds\n",
            "Did not meet early stopping. Best iteration is:\n",
            "[100]\tvalid_0's binary_logloss: 0.0947474\n",
            "Training until validation scores don't improve for 200 rounds\n",
            "Did not meet early stopping. Best iteration is:\n",
            "[100]\tvalid_0's binary_logloss: 0.093533\n",
            "Training until validation scores don't improve for 200 rounds\n",
            "Did not meet early stopping. Best iteration is:\n",
            "[100]\tvalid_0's binary_logloss: 0.0936433\n",
            "Training until validation scores don't improve for 200 rounds\n",
            "Did not meet early stopping. Best iteration is:\n",
            "[100]\tvalid_0's binary_logloss: 0.0930247\n",
            "Training until validation scores don't improve for 200 rounds\n"
          ]
        },
        {
          "output_type": "stream",
          "name": "stderr",
          "text": [
            "[I 2024-02-20 10:15:32,293] Trial 39 finished with value: 0.5453796924378402 and parameters: {'learning_rate': 0.052344243156686565, 'num_leaves': 200, 'max_depth': 8, 'scale_pos_weight': 10.36870165230239, 'subsample': 0.9811019987916448, 'colsample_bytree': 0.809533251530383, 'lambda_l1': 1.0276011763244624e-08, 'lambda_l2': 4.2820967198660165e-05, 'min_child_samples': 43, 'min_child_weight': 0.011461057523022488, 'bagging_fraction': 0.6219446604191897, 'bagging_freq': 9, 'feature_fraction': 0.8044130302182628, 'min_split_gain': 0.24211575653740233}. Best is trial 32 with value: 0.6920351242799822.\n"
          ]
        },
        {
          "output_type": "stream",
          "name": "stdout",
          "text": [
            "Did not meet early stopping. Best iteration is:\n",
            "[20]\tvalid_0's binary_logloss: 0.0982576\n",
            "Training until validation scores don't improve for 200 rounds\n",
            "Did not meet early stopping. Best iteration is:\n",
            "[100]\tvalid_0's binary_logloss: 0.0913302\n",
            "Training until validation scores don't improve for 200 rounds\n",
            "Did not meet early stopping. Best iteration is:\n",
            "[11]\tvalid_0's binary_logloss: 0.112931\n",
            "Training until validation scores don't improve for 200 rounds\n",
            "Did not meet early stopping. Best iteration is:\n",
            "[100]\tvalid_0's binary_logloss: 0.0998566\n"
          ]
        },
        {
          "output_type": "stream",
          "name": "stderr",
          "text": [
            "[I 2024-02-20 10:15:38,719] Trial 40 finished with value: 0.5724438662150073 and parameters: {'learning_rate': 0.052744753380496986, 'num_leaves': 253, 'max_depth': 13, 'scale_pos_weight': 19.24605543676633, 'subsample': 0.829460717975181, 'colsample_bytree': 0.8186060077782439, 'lambda_l1': 0.009661950198701844, 'lambda_l2': 2.3638399341282718e-05, 'min_child_samples': 56, 'min_child_weight': 0.019732815031006812, 'bagging_fraction': 0.6232184600484654, 'bagging_freq': 9, 'feature_fraction': 0.8062074255069366, 'min_split_gain': 0.3191789093476195}. Best is trial 32 with value: 0.6920351242799822.\n"
          ]
        },
        {
          "output_type": "stream",
          "name": "stdout",
          "text": [
            "Training until validation scores don't improve for 200 rounds\n",
            "Did not meet early stopping. Best iteration is:\n",
            "[100]\tvalid_0's binary_logloss: 0.107467\n",
            "Training until validation scores don't improve for 200 rounds\n",
            "Did not meet early stopping. Best iteration is:\n",
            "[75]\tvalid_0's binary_logloss: 0.0612056\n",
            "Training until validation scores don't improve for 200 rounds\n",
            "Did not meet early stopping. Best iteration is:\n",
            "[8]\tvalid_0's binary_logloss: 0.112779\n",
            "Training until validation scores don't improve for 200 rounds\n",
            "Did not meet early stopping. Best iteration is:\n",
            "[10]\tvalid_0's binary_logloss: 0.11274\n",
            "Training until validation scores don't improve for 200 rounds\n",
            "Did not meet early stopping. Best iteration is:\n",
            "[63]\tvalid_0's binary_logloss: 0.0594275\n",
            "Training until validation scores don't improve for 200 rounds\n"
          ]
        },
        {
          "output_type": "stream",
          "name": "stderr",
          "text": [
            "[I 2024-02-20 10:15:54,488] Trial 41 finished with value: 0.5446410909119871 and parameters: {'learning_rate': 0.058173497799872576, 'num_leaves': 251, 'max_depth': 13, 'scale_pos_weight': 48.40259027479793, 'subsample': 0.8497640080407121, 'colsample_bytree': 0.7616188960285631, 'lambda_l1': 1.9439601821788832e-07, 'lambda_l2': 2.307155913959044e-05, 'min_child_samples': 54, 'min_child_weight': 0.020023568254779214, 'bagging_fraction': 0.7243946337622131, 'bagging_freq': 5, 'feature_fraction': 0.7660069613685977, 'min_split_gain': 0.3416929243122857}. Best is trial 32 with value: 0.6920351242799822.\n"
          ]
        },
        {
          "output_type": "stream",
          "name": "stdout",
          "text": [
            "Did not meet early stopping. Best iteration is:\n",
            "[8]\tvalid_0's binary_logloss: 0.112487\n",
            "Training until validation scores don't improve for 200 rounds\n",
            "Did not meet early stopping. Best iteration is:\n",
            "[61]\tvalid_0's binary_logloss: 0.0607908\n",
            "Training until validation scores don't improve for 200 rounds\n",
            "Did not meet early stopping. Best iteration is:\n",
            "[82]\tvalid_0's binary_logloss: 0.0622006\n",
            "Training until validation scores don't improve for 200 rounds\n",
            "Did not meet early stopping. Best iteration is:\n",
            "[55]\tvalid_0's binary_logloss: 0.0618529\n",
            "Training until validation scores don't improve for 200 rounds\n",
            "Did not meet early stopping. Best iteration is:\n",
            "[66]\tvalid_0's binary_logloss: 0.0596427\n",
            "Training until validation scores don't improve for 200 rounds\n",
            "Did not meet early stopping. Best iteration is:\n",
            "[57]\tvalid_0's binary_logloss: 0.0626648\n"
          ]
        },
        {
          "output_type": "stream",
          "name": "stderr",
          "text": [
            "[I 2024-02-20 10:16:10,486] Trial 42 finished with value: 0.701121022350466 and parameters: {'learning_rate': 0.07345921674392898, 'num_leaves': 259, 'max_depth': 16, 'scale_pos_weight': 1.6344943162249037, 'subsample': 0.9468729522090915, 'colsample_bytree': 0.7540857872926984, 'lambda_l1': 2.425851630188868e-07, 'lambda_l2': 0.050895942185253784, 'min_child_samples': 18, 'min_child_weight': 0.03236773486055703, 'bagging_fraction': 0.7295003042031845, 'bagging_freq': 10, 'feature_fraction': 0.8340952561862074, 'min_split_gain': 0.1524496713766858}. Best is trial 42 with value: 0.701121022350466.\n"
          ]
        },
        {
          "output_type": "stream",
          "name": "stdout",
          "text": [
            "Training until validation scores don't improve for 200 rounds\n",
            "Did not meet early stopping. Best iteration is:\n",
            "[69]\tvalid_0's binary_logloss: 0.0629961\n",
            "Training until validation scores don't improve for 200 rounds\n",
            "Did not meet early stopping. Best iteration is:\n",
            "[75]\tvalid_0's binary_logloss: 0.0614949\n",
            "Training until validation scores don't improve for 200 rounds\n",
            "Did not meet early stopping. Best iteration is:\n",
            "[65]\tvalid_0's binary_logloss: 0.0625672\n",
            "Training until validation scores don't improve for 200 rounds\n",
            "Did not meet early stopping. Best iteration is:\n",
            "[62]\tvalid_0's binary_logloss: 0.060554\n",
            "Training until validation scores don't improve for 200 rounds\n",
            "Did not meet early stopping. Best iteration is:\n",
            "[57]\tvalid_0's binary_logloss: 0.0658047\n"
          ]
        },
        {
          "output_type": "stream",
          "name": "stderr",
          "text": [
            "[I 2024-02-20 10:16:28,225] Trial 43 finished with value: 0.6767963403431728 and parameters: {'learning_rate': 0.07355762330196208, 'num_leaves': 261, 'max_depth': 16, 'scale_pos_weight': 3.893694892908668, 'subsample': 0.9491443685783336, 'colsample_bytree': 0.7676169632790469, 'lambda_l1': 1.598046390165117e-07, 'lambda_l2': 0.07720241728475324, 'min_child_samples': 18, 'min_child_weight': 0.05457414197404969, 'bagging_fraction': 0.755344746184047, 'bagging_freq': 10, 'feature_fraction': 0.830395202516325, 'min_split_gain': 0.15423670449688706}. Best is trial 42 with value: 0.701121022350466.\n"
          ]
        },
        {
          "output_type": "stream",
          "name": "stdout",
          "text": [
            "Did not meet early stopping. Best iteration is:\n",
            "[60]\tvalid_0's binary_logloss: 0.0603194\n",
            "Training until validation scores don't improve for 200 rounds\n",
            "Training until validation scores don't improve for 200 rounds\n",
            "Did not meet early stopping. Best iteration is:\n",
            "[80]\tvalid_0's binary_logloss: 0.0608453\n",
            "Training until validation scores don't improve for 200 rounds\n",
            "Did not meet early stopping. Best iteration is:\n",
            "[72]\tvalid_0's binary_logloss: 0.0624451\n",
            "Training until validation scores don't improve for 200 rounds\n",
            "Did not meet early stopping. Best iteration is:\n",
            "[68]\tvalid_0's binary_logloss: 0.0606842\n",
            "Training until validation scores don't improve for 200 rounds\n"
          ]
        },
        {
          "output_type": "stream",
          "name": "stderr",
          "text": [
            "[I 2024-02-20 10:16:42,599] Trial 44 finished with value: 0.692806404428743 and parameters: {'learning_rate': 0.07273714654997601, 'num_leaves': 280, 'max_depth': 16, 'scale_pos_weight': 1.1501926993307015, 'subsample': 0.9510895524489397, 'colsample_bytree': 0.7089267871610158, 'lambda_l1': 9.588124437777092e-07, 'lambda_l2': 1.0435895289224756e-06, 'min_child_samples': 27, 'min_child_weight': 0.035843353193817803, 'bagging_fraction': 0.6642637542865649, 'bagging_freq': 10, 'feature_fraction': 0.8299637685342337, 'min_split_gain': 0.1325659625562885}. Best is trial 42 with value: 0.701121022350466.\n"
          ]
        },
        {
          "output_type": "stream",
          "name": "stdout",
          "text": [
            "Did not meet early stopping. Best iteration is:\n",
            "[54]\tvalid_0's binary_logloss: 0.0616071\n",
            "Training until validation scores don't improve for 200 rounds\n",
            "Did not meet early stopping. Best iteration is:\n",
            "[70]\tvalid_0's binary_logloss: 0.0598158\n",
            "Training until validation scores don't improve for 200 rounds\n",
            "Did not meet early stopping. Best iteration is:\n",
            "[65]\tvalid_0's binary_logloss: 0.0617809\n",
            "Did not meet early stopping. Best iteration is:\n",
            "[90]\tvalid_0's binary_logloss: 0.0661469\n",
            "Training until validation scores don't improve for 200 rounds\n",
            "Training until validation scores don't improve for 200 rounds\n",
            "Did not meet early stopping. Best iteration is:\n",
            "[85]\tvalid_0's binary_logloss: 0.061004\n"
          ]
        },
        {
          "output_type": "stream",
          "name": "stderr",
          "text": [
            "[I 2024-02-20 10:16:51,174] Trial 45 finished with value: 0.6926015619001237 and parameters: {'learning_rate': 0.08073092765716688, 'num_leaves': 281, 'max_depth': 15, 'scale_pos_weight': 1.360901081203119, 'subsample': 0.9361375809642678, 'colsample_bytree': 0.7134229971516856, 'lambda_l1': 3.4326009100111657e-06, 'lambda_l2': 0.010303921473331562, 'min_child_samples': 25, 'min_child_weight': 0.031598154102721744, 'bagging_fraction': 0.6627095238893471, 'bagging_freq': 10, 'feature_fraction': 0.6163575926426321, 'min_split_gain': 0.6579316522155298}. Best is trial 42 with value: 0.701121022350466.\n"
          ]
        },
        {
          "output_type": "stream",
          "name": "stdout",
          "text": [
            "Training until validation scores don't improve for 200 rounds\n",
            "Did not meet early stopping. Best iteration is:\n",
            "[70]\tvalid_0's binary_logloss: 0.0655405\n",
            "Training until validation scores don't improve for 200 rounds\n",
            "Did not meet early stopping. Best iteration is:\n",
            "[73]\tvalid_0's binary_logloss: 0.0662854\n",
            "Training until validation scores don't improve for 200 rounds\n",
            "Did not meet early stopping. Best iteration is:\n",
            "[80]\tvalid_0's binary_logloss: 0.0654293\n",
            "Training until validation scores don't improve for 200 rounds\n",
            "Did not meet early stopping. Best iteration is:\n",
            "[70]\tvalid_0's binary_logloss: 0.0659249\n",
            "Did not meet early stopping. Best iteration is:\n",
            "[87]\tvalid_0's binary_logloss: 0.0659862\n",
            "Training until validation scores don't improve for 200 rounds\n",
            "Training until validation scores don't improve for 200 rounds\n",
            "Did not meet early stopping. Best iteration is:\n",
            "[71]\tvalid_0's binary_logloss: 0.0667312\n",
            "Did not meet early stopping. Best iteration is:\n",
            "[98]\tvalid_0's binary_logloss: 0.0694171\n"
          ]
        },
        {
          "output_type": "stream",
          "name": "stderr",
          "text": [
            "[I 2024-02-20 10:17:10,354] Trial 46 finished with value: 0.656314651227295 and parameters: {'learning_rate': 0.07979720781915256, 'num_leaves': 147, 'max_depth': 15, 'scale_pos_weight': 6.61955913157899, 'subsample': 0.9457186353566411, 'colsample_bytree': 0.715141440870953, 'lambda_l1': 4.725363567741322e-06, 'lambda_l2': 5.605960093084144e-07, 'min_child_samples': 33, 'min_child_weight': 0.029793265477992895, 'bagging_fraction': 0.6599717335635783, 'bagging_freq': 10, 'feature_fraction': 0.7906080542451086, 'min_split_gain': 0.054898378074971985}. Best is trial 42 with value: 0.701121022350466.\n"
          ]
        },
        {
          "output_type": "stream",
          "name": "stdout",
          "text": [
            "Training until validation scores don't improve for 200 rounds\n",
            "Training until validation scores don't improve for 200 rounds\n",
            "Did not meet early stopping. Best iteration is:\n",
            "[74]\tvalid_0's binary_logloss: 0.0675227\n",
            "Training until validation scores don't improve for 200 rounds\n",
            "Did not meet early stopping. Best iteration is:\n",
            "[100]\tvalid_0's binary_logloss: 0.0625517\n",
            "Training until validation scores don't improve for 200 rounds\n",
            "Did not meet early stopping. Best iteration is:\n",
            "[88]\tvalid_0's binary_logloss: 0.0682063\n"
          ]
        },
        {
          "output_type": "stream",
          "name": "stderr",
          "text": [
            "[I 2024-02-20 10:17:20,288] Trial 47 finished with value: 0.6621424878306467 and parameters: {'learning_rate': 0.08280325306565599, 'num_leaves': 283, 'max_depth': 15, 'scale_pos_weight': 6.918770542752285, 'subsample': 0.9321572514306793, 'colsample_bytree': 0.7150648561850299, 'lambda_l1': 3.116109621794568e-06, 'lambda_l2': 0.009981646947315643, 'min_child_samples': 8, 'min_child_weight': 0.0284691869201881, 'bagging_fraction': 0.6797871480552578, 'bagging_freq': 10, 'feature_fraction': 0.6198985329262829, 'min_split_gain': 0.7355793014944245}. Best is trial 42 with value: 0.701121022350466.\n"
          ]
        },
        {
          "output_type": "stream",
          "name": "stdout",
          "text": [
            "Training until validation scores don't improve for 200 rounds\n",
            "Did not meet early stopping. Best iteration is:\n",
            "[100]\tvalid_0's binary_logloss: 0.0630937\n",
            "Training until validation scores don't improve for 200 rounds\n",
            "Did not meet early stopping. Best iteration is:\n",
            "[68]\tvalid_0's binary_logloss: 0.0631864\n",
            "Training until validation scores don't improve for 200 rounds\n",
            "Did not meet early stopping. Best iteration is:\n",
            "[100]\tvalid_0's binary_logloss: 0.0639437\n",
            "Training until validation scores don't improve for 200 rounds\n",
            "Did not meet early stopping. Best iteration is:\n",
            "[54]\tvalid_0's binary_logloss: 0.0603323\n",
            "Training until validation scores don't improve for 200 rounds\n",
            "Did not meet early stopping. Best iteration is:\n",
            "[62]\tvalid_0's binary_logloss: 0.0635883\n",
            "Training until validation scores don't improve for 200 rounds\n",
            "Did not meet early stopping. Best iteration is:\n",
            "[100]\tvalid_0's binary_logloss: 0.0638376\n",
            "Training until validation scores don't improve for 200 rounds\n",
            "Did not meet early stopping. Best iteration is:\n",
            "[59]\tvalid_0's binary_logloss: 0.0660043\n",
            "Training until validation scores don't improve for 200 rounds\n",
            "Did not meet early stopping. Best iteration is:\n",
            "[100]\tvalid_0's binary_logloss: 0.064433\n"
          ]
        },
        {
          "output_type": "stream",
          "name": "stderr",
          "text": [
            "[I 2024-02-20 10:17:43,182] Trial 48 finished with value: 0.6665543188624671 and parameters: {'learning_rate': 0.029284737046720667, 'num_leaves': 281, 'max_depth': 15, 'scale_pos_weight': 4.121027417488452, 'subsample': 0.9335829007124276, 'colsample_bytree': 0.7340667286843621, 'lambda_l1': 1.2117749578789395e-06, 'lambda_l2': 5.534628886381934e-08, 'min_child_samples': 8, 'min_child_weight': 0.030805749242814373, 'bagging_fraction': 0.6809223927390056, 'bagging_freq': 9, 'feature_fraction': 0.6052301772123299, 'min_split_gain': 0.676590940958986}. Best is trial 42 with value: 0.701121022350466.\n",
            "[I 2024-02-20 10:17:43,807] Trial 49 finished with value: 0.6698099298111068 and parameters: {'learning_rate': 0.08536520668142938, 'num_leaves': 175, 'max_depth': 16, 'scale_pos_weight': 3.9586799165633426, 'subsample': 0.7979239058017581, 'colsample_bytree': 0.7370384696729441, 'lambda_l1': 2.7583661981210435e-05, 'lambda_l2': 1.3212840400814494e-08, 'min_child_samples': 9, 'min_child_weight': 0.0005017937148201329, 'bagging_fraction': 0.696630188536906, 'bagging_freq': 9, 'feature_fraction': 0.8565942624472553, 'min_split_gain': 0.8742578246424518}. Best is trial 42 with value: 0.701121022350466.\n"
          ]
        },
        {
          "output_type": "stream",
          "name": "stdout",
          "text": [
            "Did not meet early stopping. Best iteration is:\n",
            "[43]\tvalid_0's binary_logloss: 0.0667879\n",
            "Number of finished trials: 50\n",
            "Best trial: {'learning_rate': 0.07345921674392898, 'num_leaves': 259, 'max_depth': 16, 'scale_pos_weight': 1.6344943162249037, 'subsample': 0.9468729522090915, 'colsample_bytree': 0.7540857872926984, 'lambda_l1': 2.425851630188868e-07, 'lambda_l2': 0.050895942185253784, 'min_child_samples': 18, 'min_child_weight': 0.03236773486055703, 'bagging_fraction': 0.7295003042031845, 'bagging_freq': 10, 'feature_fraction': 0.8340952561862074, 'min_split_gain': 0.1524496713766858}\n"
          ]
        }
      ]
    },
    {
      "cell_type": "code",
      "source": [
        "import optuna\n",
        "from sklearn.metrics import f1_score\n",
        "from lightgbm import LGBMClassifier, early_stopping\n",
        "\n",
        "object_columns = X_train2.select_dtypes(include=['object']).columns\n",
        "cat_cols=list(object_columns)\n",
        "for col in object_columns:\n",
        "    X_train2[col] = X_train2[col].astype('category')\n",
        "    X_test2[col] = X_test2[col].astype('category')\n",
        "\n",
        "def objective(trial):\n",
        "    param = {\n",
        "        'objective': 'binary',\n",
        "        'metric': 'binary_logloss',\n",
        "        'verbosity': -1,\n",
        "        'boosting_type': 'gbdt',\n",
        "        'learning_rate': trial.suggest_float('learning_rate', 0.01, 0.1),\n",
        "        'num_leaves': trial.suggest_int('num_leaves', 30, 300),\n",
        "        'max_depth': trial.suggest_int('max_depth', 6, 16),\n",
        "        'scale_pos_weight': trial.suggest_float('scale_pos_weight', 1, 50),\n",
        "        'subsample': trial.suggest_float('subsample', 0.6, 1.0),\n",
        "        'colsample_bytree': trial.suggest_float('colsample_bytree', 0.6, 1.0),\n",
        "        'lambda_l1': trial.suggest_float('lambda_l1', 1e-8, 10.0, log=True),\n",
        "        'lambda_l2': trial.suggest_float('lambda_l2', 1e-8, 10.0, log=True),\n",
        "        'min_child_samples': trial.suggest_int('min_child_samples', 5, 100),\n",
        "        'min_child_weight': trial.suggest_float('min_child_weight', 1e-5, 1e-1, log=True),\n",
        "        'bagging_fraction': trial.suggest_float('bagging_fraction', 0.6, 1.0),\n",
        "        'bagging_freq': trial.suggest_int('bagging_freq', 1, 10),\n",
        "        'feature_fraction': trial.suggest_float('feature_fraction', 0.6, 1.0),\n",
        "        'min_split_gain': trial.suggest_float('min_split_gain', 0, 1),\n",
        "        'random_state': 0,\n",
        "        'categorical_feature': cat_cols,\n",
        "        'n_jobs': -1\n",
        "    }\n",
        "\n",
        "    f1_scores = []\n",
        "    for train_idx, valid_idx in folds.split(X_train2, y_train):\n",
        "        X_tr, y_tr = X_train2.iloc[train_idx], y_train.iloc[train_idx]\n",
        "        X_val, y_val = X_train2.iloc[valid_idx], y_train.iloc[valid_idx]\n",
        "\n",
        "        lgb_model = LGBMClassifier(**param)\n",
        "        lgb_model.fit(X_tr, y_tr, eval_set=[(X_val, y_val)], callbacks=[early_stopping(stopping_rounds=200)])\n",
        "\n",
        "        threshold = 0.3  # 적절한 임계값으로 조정\n",
        "        preds_proba = lgb_model.predict_proba(X_val)[:, 1]  # 클래스 1에 대한 확률을 얻음\n",
        "        preds = (preds_proba > threshold).astype(int)  # 임계값을 기준으로 이진 클래스로 변환\n",
        "\n",
        "        # 이진 클래스 예측을 사용하여 F1 스코어 계산\n",
        "        f1 = f1_score(y_val, preds)\n",
        "        f1_scores.append(f1)\n",
        "\n",
        "    return np.mean(f1_scores)\n",
        "\n",
        "folds = StratifiedKFold(n_splits=5, shuffle=True, random_state=0)\n",
        "study2 = optuna.create_study(direction='maximize')\n",
        "study2.optimize(objective, n_trials=50, n_jobs=-1)  # 시행 횟수를 조정하여 탐색 시간 관리\n",
        "\n",
        "print('Number of finished trials:', len(study2.trials))\n",
        "print('Best trial:', study2.best_trial.params)"
      ],
      "metadata": {
        "colab": {
          "base_uri": "https://localhost:8080/"
        },
        "id": "fe8YZRc8rmsZ",
        "outputId": "f14aaaf5-04e4-41a1-86a9-7552466a11a3"
      },
      "id": "fe8YZRc8rmsZ",
      "execution_count": null,
      "outputs": [
        {
          "output_type": "stream",
          "name": "stderr",
          "text": [
            "[I 2024-02-20 10:17:44,011] A new study created in memory with name: no-name-42a3463f-6f0f-4669-8d3f-eef6bccf1ba1\n"
          ]
        },
        {
          "output_type": "stream",
          "name": "stdout",
          "text": [
            "Training until validation scores don't improve for 200 rounds\n",
            "Training until validation scores don't improve for 200 rounds\n",
            "Did not meet early stopping. Best iteration is:\n",
            "[96]\tvalid_0's binary_logloss: 0.085994\n",
            "Did not meet early stopping. Best iteration is:\n",
            "[63]\tvalid_0's binary_logloss: 0.0931386\n",
            "Training until validation scores don't improve for 200 rounds\n",
            "Training until validation scores don't improve for 200 rounds\n",
            "Did not meet early stopping. Best iteration is:\n",
            "[100]\tvalid_0's binary_logloss: 0.083913\n",
            "Training until validation scores don't improve for 200 rounds\n",
            "Did not meet early stopping. Best iteration is:\n",
            "[98]\tvalid_0's binary_logloss: 0.0900474\n",
            "Training until validation scores don't improve for 200 rounds\n",
            "Did not meet early stopping. Best iteration is:\n",
            "[100]\tvalid_0's binary_logloss: 0.0854649\n",
            "Training until validation scores don't improve for 200 rounds\n",
            "Did not meet early stopping. Best iteration is:\n",
            "[66]\tvalid_0's binary_logloss: 0.092894\n",
            "Training until validation scores don't improve for 200 rounds\n",
            "Did not meet early stopping. Best iteration is:\n",
            "[100]\tvalid_0's binary_logloss: 0.0847988\n",
            "Training until validation scores don't improve for 200 rounds\n",
            "Did not meet early stopping. Best iteration is:\n",
            "[100]\tvalid_0's binary_logloss: 0.0911742\n",
            "Training until validation scores don't improve for 200 rounds\n",
            "Did not meet early stopping. Best iteration is:\n",
            "[89]\tvalid_0's binary_logloss: 0.0881704\n"
          ]
        },
        {
          "output_type": "stream",
          "name": "stderr",
          "text": [
            "[I 2024-02-20 10:18:11,017] Trial 0 finished with value: 0.5639358513451918 and parameters: {'learning_rate': 0.02716070841316219, 'num_leaves': 165, 'max_depth': 8, 'scale_pos_weight': 5.283255431663164, 'subsample': 0.6298280381098036, 'colsample_bytree': 0.7120751721480826, 'lambda_l1': 3.134572348581036e-05, 'lambda_l2': 1.5621876011045332e-08, 'min_child_samples': 45, 'min_child_weight': 1.1607002374757615e-05, 'bagging_fraction': 0.858122913457211, 'bagging_freq': 6, 'feature_fraction': 0.645398667077108, 'min_split_gain': 0.49727363994075247}. Best is trial 0 with value: 0.5639358513451918.\n"
          ]
        },
        {
          "output_type": "stream",
          "name": "stdout",
          "text": [
            "Training until validation scores don't improve for 200 rounds\n"
          ]
        },
        {
          "output_type": "stream",
          "name": "stderr",
          "text": [
            "[I 2024-02-20 10:18:13,865] Trial 1 finished with value: 0.557475468041009 and parameters: {'learning_rate': 0.02571691972898707, 'num_leaves': 102, 'max_depth': 14, 'scale_pos_weight': 12.721623969061962, 'subsample': 0.618447475394156, 'colsample_bytree': 0.6112451770204624, 'lambda_l1': 0.005411194942762476, 'lambda_l2': 2.921716472326371e-05, 'min_child_samples': 18, 'min_child_weight': 0.00015989838311336263, 'bagging_fraction': 0.6823885346308436, 'bagging_freq': 5, 'feature_fraction': 0.700356069657668, 'min_split_gain': 0.8676016832940094}. Best is trial 0 with value: 0.5639358513451918.\n"
          ]
        },
        {
          "output_type": "stream",
          "name": "stdout",
          "text": [
            "Did not meet early stopping. Best iteration is:\n",
            "[57]\tvalid_0's binary_logloss: 0.0947945\n",
            "Training until validation scores don't improve for 200 rounds\n",
            "Did not meet early stopping. Best iteration is:\n",
            "[100]\tvalid_0's binary_logloss: 0.094041\n",
            "Training until validation scores don't improve for 200 rounds\n",
            "Did not meet early stopping. Best iteration is:\n",
            "[100]\tvalid_0's binary_logloss: 0.102919\n",
            "Training until validation scores don't improve for 200 rounds\n",
            "Did not meet early stopping. Best iteration is:\n",
            "[100]\tvalid_0's binary_logloss: 0.0916039\n",
            "Training until validation scores don't improve for 200 rounds\n",
            "Did not meet early stopping. Best iteration is:\n",
            "[100]\tvalid_0's binary_logloss: 0.104102\n",
            "Training until validation scores don't improve for 200 rounds\n",
            "Did not meet early stopping. Best iteration is:\n",
            "[100]\tvalid_0's binary_logloss: 0.0937656\n",
            "Training until validation scores don't improve for 200 rounds\n",
            "Did not meet early stopping. Best iteration is:\n",
            "[100]\tvalid_0's binary_logloss: 0.0998046\n",
            "Training until validation scores don't improve for 200 rounds\n",
            "Did not meet early stopping. Best iteration is:\n",
            "[100]\tvalid_0's binary_logloss: 0.0908304\n",
            "Training until validation scores don't improve for 200 rounds\n",
            "Did not meet early stopping. Best iteration is:\n",
            "[100]\tvalid_0's binary_logloss: 0.0975971\n"
          ]
        },
        {
          "output_type": "stream",
          "name": "stderr",
          "text": [
            "[I 2024-02-20 10:18:42,723] Trial 2 finished with value: 0.5488609594539092 and parameters: {'learning_rate': 0.03138404627970674, 'num_leaves': 167, 'max_depth': 16, 'scale_pos_weight': 9.845297409963418, 'subsample': 0.6636226494162202, 'colsample_bytree': 0.9318360113884894, 'lambda_l1': 9.136290809825274e-06, 'lambda_l2': 0.6694206527262789, 'min_child_samples': 71, 'min_child_weight': 0.00046224552050776115, 'bagging_fraction': 0.7601837914765759, 'bagging_freq': 5, 'feature_fraction': 0.8717728973678094, 'min_split_gain': 0.5354600167630312}. Best is trial 0 with value: 0.5639358513451918.\n"
          ]
        },
        {
          "output_type": "stream",
          "name": "stdout",
          "text": [
            "Did not meet early stopping. Best iteration is:\n",
            "[35]\tvalid_0's binary_logloss: 0.0976453\n",
            "Training until validation scores don't improve for 200 rounds\n",
            "Training until validation scores don't improve for 200 rounds\n",
            "Did not meet early stopping. Best iteration is:\n",
            "[100]\tvalid_0's binary_logloss: 0.110932\n"
          ]
        },
        {
          "output_type": "stream",
          "name": "stderr",
          "text": [
            "[I 2024-02-20 10:18:48,734] Trial 3 finished with value: 0.5752630426920542 and parameters: {'learning_rate': 0.09510320339846773, 'num_leaves': 103, 'max_depth': 13, 'scale_pos_weight': 29.12898643048856, 'subsample': 0.6981522909826376, 'colsample_bytree': 0.9553400344860248, 'lambda_l1': 0.020123433890056195, 'lambda_l2': 0.026039494146103945, 'min_child_samples': 96, 'min_child_weight': 1.4804839635696978e-05, 'bagging_fraction': 0.844998330306613, 'bagging_freq': 1, 'feature_fraction': 0.6459184360352124, 'min_split_gain': 0.4723861913835504}. Best is trial 3 with value: 0.5752630426920542.\n"
          ]
        },
        {
          "output_type": "stream",
          "name": "stdout",
          "text": [
            "Did not meet early stopping. Best iteration is:\n",
            "[11]\tvalid_0's binary_logloss: 0.116309\n",
            "Training until validation scores don't improve for 200 rounds\n",
            "Training until validation scores don't improve for 200 rounds\n",
            "Did not meet early stopping. Best iteration is:\n",
            "[11]\tvalid_0's binary_logloss: 0.114841\n",
            "Did not meet early stopping. Best iteration is:\n",
            "[100]\tvalid_0's binary_logloss: 0.0841599\n",
            "Training until validation scores don't improve for 200 rounds\n",
            "Training until validation scores don't improve for 200 rounds\n",
            "Did not meet early stopping. Best iteration is:\n",
            "[12]\tvalid_0's binary_logloss: 0.114994\n",
            "Training until validation scores don't improve for 200 rounds\n",
            "Did not meet early stopping. Best iteration is:\n",
            "[100]\tvalid_0's binary_logloss: 0.0824528\n",
            "Training until validation scores don't improve for 200 rounds\n",
            "Did not meet early stopping. Best iteration is:\n",
            "[12]\tvalid_0's binary_logloss: 0.113885\n",
            "Training until validation scores don't improve for 200 rounds\n",
            "Did not meet early stopping. Best iteration is:\n",
            "[100]\tvalid_0's binary_logloss: 0.0825884\n",
            "Training until validation scores don't improve for 200 rounds\n"
          ]
        },
        {
          "output_type": "stream",
          "name": "stderr",
          "text": [
            "[I 2024-02-20 10:19:08,215] Trial 4 finished with value: 0.5031711389143849 and parameters: {'learning_rate': 0.04155281725461924, 'num_leaves': 60, 'max_depth': 14, 'scale_pos_weight': 46.227569116919085, 'subsample': 0.6183727897980721, 'colsample_bytree': 0.8949589543175875, 'lambda_l1': 2.1573044982002798e-05, 'lambda_l2': 2.7333181695295197e-05, 'min_child_samples': 85, 'min_child_weight': 0.024028341397178528, 'bagging_fraction': 0.9977067938383859, 'bagging_freq': 10, 'feature_fraction': 0.8103162986454748, 'min_split_gain': 0.7636509691168303}. Best is trial 3 with value: 0.5752630426920542.\n"
          ]
        },
        {
          "output_type": "stream",
          "name": "stdout",
          "text": [
            "Did not meet early stopping. Best iteration is:\n",
            "[11]\tvalid_0's binary_logloss: 0.115636\n",
            "Training until validation scores don't improve for 200 rounds\n",
            "Did not meet early stopping. Best iteration is:\n",
            "[100]\tvalid_0's binary_logloss: 0.0818228\n",
            "Training until validation scores don't improve for 200 rounds\n",
            "Did not meet early stopping. Best iteration is:\n",
            "[6]\tvalid_0's binary_logloss: 0.11804\n",
            "Training until validation scores don't improve for 200 rounds\n",
            "Did not meet early stopping. Best iteration is:\n",
            "[6]\tvalid_0's binary_logloss: 0.116125\n",
            "Training until validation scores don't improve for 200 rounds\n",
            "Did not meet early stopping. Best iteration is:\n",
            "[100]\tvalid_0's binary_logloss: 0.0888136\n"
          ]
        },
        {
          "output_type": "stream",
          "name": "stderr",
          "text": [
            "[I 2024-02-20 10:19:15,165] Trial 5 finished with value: 0.5923647302084056 and parameters: {'learning_rate': 0.09328078842007843, 'num_leaves': 200, 'max_depth': 15, 'scale_pos_weight': 9.394171096097182, 'subsample': 0.8759056227956414, 'colsample_bytree': 0.7607487051438773, 'lambda_l1': 3.80882784026262e-07, 'lambda_l2': 4.321539754369062, 'min_child_samples': 96, 'min_child_weight': 0.0010510557901394048, 'bagging_fraction': 0.985961616838054, 'bagging_freq': 8, 'feature_fraction': 0.636013496173781, 'min_split_gain': 0.611599577256513}. Best is trial 5 with value: 0.5923647302084056.\n"
          ]
        },
        {
          "output_type": "stream",
          "name": "stdout",
          "text": [
            "Training until validation scores don't improve for 200 rounds\n",
            "Did not meet early stopping. Best iteration is:\n",
            "[6]\tvalid_0's binary_logloss: 0.115274\n",
            "Training until validation scores don't improve for 200 rounds\n",
            "Did not meet early stopping. Best iteration is:\n",
            "[99]\tvalid_0's binary_logloss: 0.0879066\n",
            "Training until validation scores don't improve for 200 rounds\n",
            "Did not meet early stopping. Best iteration is:\n",
            "[7]\tvalid_0's binary_logloss: 0.115649\n",
            "Training until validation scores don't improve for 200 rounds\n"
          ]
        },
        {
          "output_type": "stream",
          "name": "stderr",
          "text": [
            "[I 2024-02-20 10:19:24,774] Trial 6 finished with value: 0.5176793234812664 and parameters: {'learning_rate': 0.06024315229604436, 'num_leaves': 216, 'max_depth': 8, 'scale_pos_weight': 28.095573966170157, 'subsample': 0.9000628398158393, 'colsample_bytree': 0.8733082053466987, 'lambda_l1': 6.647381598721006e-06, 'lambda_l2': 0.4532945735963626, 'min_child_samples': 89, 'min_child_weight': 0.005044858280852606, 'bagging_fraction': 0.6594633187841086, 'bagging_freq': 2, 'feature_fraction': 0.9872037819501304, 'min_split_gain': 0.771522516608381}. Best is trial 5 with value: 0.5923647302084056.\n"
          ]
        },
        {
          "output_type": "stream",
          "name": "stdout",
          "text": [
            "Did not meet early stopping. Best iteration is:\n",
            "[7]\tvalid_0's binary_logloss: 0.117079\n",
            "Training until validation scores don't improve for 200 rounds\n",
            "Did not meet early stopping. Best iteration is:\n",
            "[92]\tvalid_0's binary_logloss: 0.0887386\n",
            "Training until validation scores don't improve for 200 rounds\n",
            "Did not meet early stopping. Best iteration is:\n",
            "[38]\tvalid_0's binary_logloss: 0.0976723\n",
            "Training until validation scores don't improve for 200 rounds\n",
            "Did not meet early stopping. Best iteration is:\n",
            "[100]\tvalid_0's binary_logloss: 0.0883753\n",
            "Training until validation scores don't improve for 200 rounds\n",
            "Did not meet early stopping. Best iteration is:\n",
            "[36]\tvalid_0's binary_logloss: 0.0988958\n",
            "Training until validation scores don't improve for 200 rounds\n",
            "Did not meet early stopping. Best iteration is:\n",
            "[100]\tvalid_0's binary_logloss: 0.0860232\n",
            "Training until validation scores don't improve for 200 rounds\n",
            "Did not meet early stopping. Best iteration is:\n",
            "[33]\tvalid_0's binary_logloss: 0.0998643\n",
            "Training until validation scores don't improve for 200 rounds\n",
            "Did not meet early stopping. Best iteration is:\n",
            "[100]\tvalid_0's binary_logloss: 0.0925952\n"
          ]
        },
        {
          "output_type": "stream",
          "name": "stderr",
          "text": [
            "[I 2024-02-20 10:19:40,522] Trial 7 finished with value: 0.591142728005053 and parameters: {'learning_rate': 0.07817151276120049, 'num_leaves': 145, 'max_depth': 14, 'scale_pos_weight': 15.64693010744397, 'subsample': 0.8206356026917304, 'colsample_bytree': 0.8922571734445286, 'lambda_l1': 1.7777356164379737e-05, 'lambda_l2': 2.4523548218267625e-06, 'min_child_samples': 60, 'min_child_weight': 0.024029457038408437, 'bagging_fraction': 0.7757553918841344, 'bagging_freq': 10, 'feature_fraction': 0.7632832401451959, 'min_split_gain': 0.385929843187921}. Best is trial 5 with value: 0.5923647302084056.\n"
          ]
        },
        {
          "output_type": "stream",
          "name": "stdout",
          "text": [
            "Training until validation scores don't improve for 200 rounds\n",
            "Did not meet early stopping. Best iteration is:\n",
            "[38]\tvalid_0's binary_logloss: 0.0983206\n",
            "Training until validation scores don't improve for 200 rounds\n",
            "Did not meet early stopping. Best iteration is:\n",
            "[28]\tvalid_0's binary_logloss: 0.0966102\n",
            "Training until validation scores don't improve for 200 rounds\n",
            "Did not meet early stopping. Best iteration is:\n",
            "[37]\tvalid_0's binary_logloss: 0.0989837\n"
          ]
        },
        {
          "output_type": "stream",
          "name": "stderr",
          "text": [
            "[I 2024-02-20 10:19:46,782] Trial 8 finished with value: 0.5419977125356052 and parameters: {'learning_rate': 0.02429277053346915, 'num_leaves': 123, 'max_depth': 14, 'scale_pos_weight': 25.64685464404809, 'subsample': 0.7192972173963628, 'colsample_bytree': 0.7773187622869928, 'lambda_l1': 3.751024639637016e-07, 'lambda_l2': 0.0005621061696825323, 'min_child_samples': 24, 'min_child_weight': 0.00020436204537205646, 'bagging_fraction': 0.7403849441755526, 'bagging_freq': 9, 'feature_fraction': 0.9120809136208082, 'min_split_gain': 0.42607423677841705}. Best is trial 5 with value: 0.5923647302084056.\n"
          ]
        },
        {
          "output_type": "stream",
          "name": "stdout",
          "text": [
            "Training until validation scores don't improve for 200 rounds\n",
            "Did not meet early stopping. Best iteration is:\n",
            "[11]\tvalid_0's binary_logloss: 0.110475\n",
            "Training until validation scores don't improve for 200 rounds\n",
            "Did not meet early stopping. Best iteration is:\n",
            "[34]\tvalid_0's binary_logloss: 0.0956418\n",
            "Training until validation scores don't improve for 200 rounds\n",
            "Did not meet early stopping. Best iteration is:\n",
            "[10]\tvalid_0's binary_logloss: 0.109605\n",
            "Training until validation scores don't improve for 200 rounds\n",
            "Did not meet early stopping. Best iteration is:\n",
            "[8]\tvalid_0's binary_logloss: 0.111123\n",
            "Did not meet early stopping. Best iteration is:\n",
            "[30]\tvalid_0's binary_logloss: 0.0949938\n",
            "Training until validation scores don't improve for 200 rounds\n",
            "Training until validation scores don't improve for 200 rounds\n",
            "Did not meet early stopping. Best iteration is:\n",
            "[11]\tvalid_0's binary_logloss: 0.109201\n",
            "Training until validation scores don't improve for 200 rounds\n",
            "Did not meet early stopping. Best iteration is:\n",
            "[29]\tvalid_0's binary_logloss: 0.0944416\n",
            "Training until validation scores don't improve for 200 rounds\n"
          ]
        },
        {
          "output_type": "stream",
          "name": "stderr",
          "text": [
            "[I 2024-02-20 10:20:03,842] Trial 10 finished with value: 0.5200497937403866 and parameters: {'learning_rate': 0.05647632188859908, 'num_leaves': 54, 'max_depth': 9, 'scale_pos_weight': 23.919466586813385, 'subsample': 0.9513914893347976, 'colsample_bytree': 0.6984750173522964, 'lambda_l1': 0.02503241664591447, 'lambda_l2': 5.674595138564872e-05, 'min_child_samples': 49, 'min_child_weight': 0.007352266860474283, 'bagging_fraction': 0.6135087432838567, 'bagging_freq': 7, 'feature_fraction': 0.741798585488209, 'min_split_gain': 0.8127992633617176}. Best is trial 5 with value: 0.5923647302084056.\n"
          ]
        },
        {
          "output_type": "stream",
          "name": "stdout",
          "text": [
            "Did not meet early stopping. Best iteration is:\n",
            "[9]\tvalid_0's binary_logloss: 0.110459\n",
            "Training until validation scores don't improve for 200 rounds\n",
            "Did not meet early stopping. Best iteration is:\n",
            "[28]\tvalid_0's binary_logloss: 0.0961975\n"
          ]
        },
        {
          "output_type": "stream",
          "name": "stderr",
          "text": [
            "[I 2024-02-20 10:20:09,430] Trial 9 finished with value: 0.5496354285670012 and parameters: {'learning_rate': 0.03257048588967586, 'num_leaves': 164, 'max_depth': 11, 'scale_pos_weight': 17.400194339451115, 'subsample': 0.6735589921201691, 'colsample_bytree': 0.6369920673953408, 'lambda_l1': 0.0002853236521968972, 'lambda_l2': 4.472703359134326e-06, 'min_child_samples': 19, 'min_child_weight': 0.08778645432564001, 'bagging_fraction': 0.9870073632085786, 'bagging_freq': 6, 'feature_fraction': 0.9128087662492825, 'min_split_gain': 0.9769035885399273}. Best is trial 5 with value: 0.5923647302084056.\n"
          ]
        },
        {
          "output_type": "stream",
          "name": "stdout",
          "text": [
            "Did not meet early stopping. Best iteration is:\n",
            "[2]\tvalid_0's binary_logloss: 0.126363\n",
            "Training until validation scores don't improve for 200 rounds\n",
            "Training until validation scores don't improve for 200 rounds\n",
            "Did not meet early stopping. Best iteration is:\n",
            "[1]\tvalid_0's binary_logloss: 0.124875\n",
            "Training until validation scores don't improve for 200 rounds\n",
            "Did not meet early stopping. Best iteration is:\n",
            "[77]\tvalid_0's binary_logloss: 0.0647803\n",
            "Training until validation scores don't improve for 200 rounds\n",
            "Did not meet early stopping. Best iteration is:\n",
            "[1]\tvalid_0's binary_logloss: 0.125316\n",
            "Training until validation scores don't improve for 200 rounds\n",
            "Did not meet early stopping. Best iteration is:\n",
            "[56]\tvalid_0's binary_logloss: 0.0636356\n",
            "Training until validation scores don't improve for 200 rounds\n",
            "Did not meet early stopping. Best iteration is:\n",
            "[2]\tvalid_0's binary_logloss: 0.124159\n",
            "Training until validation scores don't improve for 200 rounds\n",
            "Did not meet early stopping. Best iteration is:\n",
            "[64]\tvalid_0's binary_logloss: 0.0635641\n",
            "Training until validation scores don't improve for 200 rounds\n"
          ]
        },
        {
          "output_type": "stream",
          "name": "stderr",
          "text": [
            "[I 2024-02-20 10:20:39,228] Trial 11 finished with value: 0.3041439310207486 and parameters: {'learning_rate': 0.09677800439511067, 'num_leaves': 297, 'max_depth': 11, 'scale_pos_weight': 40.3649998602434, 'subsample': 0.8320188239174429, 'colsample_bytree': 0.7965969086401453, 'lambda_l1': 8.655275844185871, 'lambda_l2': 0.012679465520040843, 'min_child_samples': 71, 'min_child_weight': 0.0025263253578641977, 'bagging_fraction': 0.9872805046323545, 'bagging_freq': 8, 'feature_fraction': 0.6070115304294927, 'min_split_gain': 0.023155277229606863}. Best is trial 5 with value: 0.5923647302084056.\n"
          ]
        },
        {
          "output_type": "stream",
          "name": "stdout",
          "text": [
            "Did not meet early stopping. Best iteration is:\n",
            "[2]\tvalid_0's binary_logloss: 0.126322\n",
            "Training until validation scores don't improve for 200 rounds\n",
            "Did not meet early stopping. Best iteration is:\n",
            "[68]\tvalid_0's binary_logloss: 0.0644008\n",
            "Training until validation scores don't improve for 200 rounds\n",
            "Did not meet early stopping. Best iteration is:\n",
            "[96]\tvalid_0's binary_logloss: 0.0709202\n",
            "Training until validation scores don't improve for 200 rounds\n",
            "Did not meet early stopping. Best iteration is:\n",
            "[75]\tvalid_0's binary_logloss: 0.0649716\n"
          ]
        },
        {
          "output_type": "stream",
          "name": "stderr",
          "text": [
            "[I 2024-02-20 10:20:54,349] Trial 12 finished with value: 0.6757918310080454 and parameters: {'learning_rate': 0.08892243295193229, 'num_leaves': 271, 'max_depth': 16, 'scale_pos_weight': 1.1863551342313237, 'subsample': 0.8273615189339485, 'colsample_bytree': 0.8201638851731025, 'lambda_l1': 1.0603890634128387e-08, 'lambda_l2': 1.5368392690013936e-07, 'min_child_samples': 68, 'min_child_weight': 0.001996421984627681, 'bagging_fraction': 0.9039628144956737, 'bagging_freq': 8, 'feature_fraction': 0.6000268577485098, 'min_split_gain': 0.15968093567520425}. Best is trial 12 with value: 0.6757918310080454.\n"
          ]
        },
        {
          "output_type": "stream",
          "name": "stdout",
          "text": [
            "Training until validation scores don't improve for 200 rounds\n",
            "Did not meet early stopping. Best iteration is:\n",
            "[94]\tvalid_0's binary_logloss: 0.0711043\n",
            "Training until validation scores don't improve for 200 rounds\n",
            "Did not meet early stopping. Best iteration is:\n",
            "[100]\tvalid_0's binary_logloss: 0.065\n",
            "Training until validation scores don't improve for 200 rounds\n",
            "Did not meet early stopping. Best iteration is:\n",
            "[100]\tvalid_0's binary_logloss: 0.0689466\n",
            "Training until validation scores don't improve for 200 rounds\n",
            "Did not meet early stopping. Best iteration is:\n",
            "[86]\tvalid_0's binary_logloss: 0.0655054\n",
            "Training until validation scores don't improve for 200 rounds\n",
            "Did not meet early stopping. Best iteration is:\n",
            "[99]\tvalid_0's binary_logloss: 0.0699387\n",
            "Training until validation scores don't improve for 200 rounds\n",
            "Did not meet early stopping. Best iteration is:\n",
            "[75]\tvalid_0's binary_logloss: 0.0641633\n",
            "Training until validation scores don't improve for 200 rounds\n",
            "Did not meet early stopping. Best iteration is:\n",
            "[98]\tvalid_0's binary_logloss: 0.073518\n"
          ]
        },
        {
          "output_type": "stream",
          "name": "stderr",
          "text": [
            "[I 2024-02-20 10:21:19,149] Trial 13 finished with value: 0.6389153802209391 and parameters: {'learning_rate': 0.0783904084995477, 'num_leaves': 243, 'max_depth': 16, 'scale_pos_weight': 4.480514808084872, 'subsample': 0.8197336566430659, 'colsample_bytree': 0.853824673529878, 'lambda_l1': 3.009827646597469e-08, 'lambda_l2': 2.645754910378158e-07, 'min_child_samples': 63, 'min_child_weight': 0.07097641681917422, 'bagging_fraction': 0.9040907032569228, 'bagging_freq': 10, 'feature_fraction': 0.7815222969428696, 'min_split_gain': 0.24507722068601762}. Best is trial 12 with value: 0.6757918310080454.\n"
          ]
        },
        {
          "output_type": "stream",
          "name": "stdout",
          "text": [
            "Training until validation scores don't improve for 200 rounds\n",
            "Did not meet early stopping. Best iteration is:\n",
            "[91]\tvalid_0's binary_logloss: 0.0656302\n",
            "Training until validation scores don't improve for 200 rounds\n",
            "Did not meet early stopping. Best iteration is:\n",
            "[67]\tvalid_0's binary_logloss: 0.0637945\n",
            "Training until validation scores don't improve for 200 rounds\n",
            "Did not meet early stopping. Best iteration is:\n",
            "[75]\tvalid_0's binary_logloss: 0.0653767\n"
          ]
        },
        {
          "output_type": "stream",
          "name": "stderr",
          "text": [
            "[I 2024-02-20 10:21:25,943] Trial 14 finished with value: 0.6599016450941704 and parameters: {'learning_rate': 0.07730375671600426, 'num_leaves': 271, 'max_depth': 16, 'scale_pos_weight': 2.0246437290902852, 'subsample': 0.887377856790999, 'colsample_bytree': 0.8247052822633336, 'lambda_l1': 4.918347077881655e-08, 'lambda_l2': 1.0297109170499037e-07, 'min_child_samples': 76, 'min_child_weight': 0.0010265919158931863, 'bagging_fraction': 0.9065245409424885, 'bagging_freq': 8, 'feature_fraction': 0.6095473523015992, 'min_split_gain': 0.11205758233557306}. Best is trial 12 with value: 0.6757918310080454.\n"
          ]
        },
        {
          "output_type": "stream",
          "name": "stdout",
          "text": [
            "Training until validation scores don't improve for 200 rounds\n",
            "Did not meet early stopping. Best iteration is:\n",
            "[56]\tvalid_0's binary_logloss: 0.0644669\n",
            "Training until validation scores don't improve for 200 rounds\n",
            "Did not meet early stopping. Best iteration is:\n",
            "[89]\tvalid_0's binary_logloss: 0.0641273\n",
            "Training until validation scores don't improve for 200 rounds\n",
            "Did not meet early stopping. Best iteration is:\n",
            "[77]\tvalid_0's binary_logloss: 0.0639169\n",
            "Training until validation scores don't improve for 200 rounds\n",
            "Did not meet early stopping. Best iteration is:\n",
            "[62]\tvalid_0's binary_logloss: 0.0635148\n",
            "Training until validation scores don't improve for 200 rounds\n",
            "Did not meet early stopping. Best iteration is:\n",
            "[61]\tvalid_0's binary_logloss: 0.0649488\n",
            "Training until validation scores don't improve for 200 rounds\n",
            "Did not meet early stopping. Best iteration is:\n",
            "[78]\tvalid_0's binary_logloss: 0.063003\n",
            "Training until validation scores don't improve for 200 rounds\n",
            "Did not meet early stopping. Best iteration is:\n",
            "[72]\tvalid_0's binary_logloss: 0.0637206\n"
          ]
        },
        {
          "output_type": "stream",
          "name": "stderr",
          "text": [
            "[I 2024-02-20 10:21:46,545] Trial 15 finished with value: 0.6717120233858753 and parameters: {'learning_rate': 0.074358647481, 'num_leaves': 284, 'max_depth': 16, 'scale_pos_weight': 1.4218720532605715, 'subsample': 0.7640978239788395, 'colsample_bytree': 0.8353511014322059, 'lambda_l1': 1.4126415993208444e-08, 'lambda_l2': 1.6385172999024393e-08, 'min_child_samples': 39, 'min_child_weight': 0.096699865733236, 'bagging_fraction': 0.9067443278843835, 'bagging_freq': 9, 'feature_fraction': 0.817559970899875, 'min_split_gain': 0.1780331706557671}. Best is trial 12 with value: 0.6757918310080454.\n"
          ]
        },
        {
          "output_type": "stream",
          "name": "stdout",
          "text": [
            "Did not meet early stopping. Best iteration is:\n",
            "[70]\tvalid_0's binary_logloss: 0.0630988\n",
            "Training until validation scores don't improve for 200 rounds\n",
            "Training until validation scores don't improve for 200 rounds\n",
            "Did not meet early stopping. Best iteration is:\n",
            "[6]\tvalid_0's binary_logloss: 0.114486\n",
            "Training until validation scores don't improve for 200 rounds\n",
            "Did not meet early stopping. Best iteration is:\n",
            "[94]\tvalid_0's binary_logloss: 0.0656382\n",
            "Did not meet early stopping. Best iteration is:\n",
            "[6]\tvalid_0's binary_logloss: 0.113397\n"
          ]
        },
        {
          "output_type": "stream",
          "name": "stderr",
          "text": [
            "[I 2024-02-20 10:21:54,700] Trial 16 finished with value: 0.6779302853603576 and parameters: {'learning_rate': 0.07632698665776735, 'num_leaves': 276, 'max_depth': 12, 'scale_pos_weight': 1.3760446202389667, 'subsample': 0.773170061176117, 'colsample_bytree': 0.8338193184282123, 'lambda_l1': 3.481874558394082e-08, 'lambda_l2': 1.572357982460139e-08, 'min_child_samples': 40, 'min_child_weight': 5.7752510085385265e-05, 'bagging_fraction': 0.9079616639975618, 'bagging_freq': 3, 'feature_fraction': 0.6979769972006454, 'min_split_gain': 0.004895390158728363}. Best is trial 16 with value: 0.6779302853603576.\n"
          ]
        },
        {
          "output_type": "stream",
          "name": "stdout",
          "text": [
            "Training until validation scores don't improve for 200 rounds\n",
            "Training until validation scores don't improve for 200 rounds\n",
            "Did not meet early stopping. Best iteration is:\n",
            "[6]\tvalid_0's binary_logloss: 0.113688\n",
            "Training until validation scores don't improve for 200 rounds\n",
            "Did not meet early stopping. Best iteration is:\n",
            "[94]\tvalid_0's binary_logloss: 0.0991602\n",
            "Training until validation scores don't improve for 200 rounds\n",
            "Did not meet early stopping. Best iteration is:\n",
            "[6]\tvalid_0's binary_logloss: 0.112495\n",
            "Training until validation scores don't improve for 200 rounds\n"
          ]
        },
        {
          "output_type": "stream",
          "name": "stderr",
          "text": [
            "[I 2024-02-20 10:22:05,907] Trial 17 finished with value: 0.5088774470577844 and parameters: {'learning_rate': 0.07113484395943273, 'num_leaves': 297, 'max_depth': 6, 'scale_pos_weight': 18.5664299149915, 'subsample': 0.7539102151703745, 'colsample_bytree': 0.9868081982978067, 'lambda_l1': 1.1275791061296789e-08, 'lambda_l2': 1.812384859269667e-08, 'min_child_samples': 36, 'min_child_weight': 7.206788805077312e-05, 'bagging_fraction': 0.9045610353104856, 'bagging_freq': 3, 'feature_fraction': 0.8358653433151266, 'min_split_gain': 0.24380487299293596}. Best is trial 16 with value: 0.6779302853603576.\n"
          ]
        },
        {
          "output_type": "stream",
          "name": "stdout",
          "text": [
            "Did not meet early stopping. Best iteration is:\n",
            "[6]\tvalid_0's binary_logloss: 0.113186\n",
            "Training until validation scores don't improve for 200 rounds\n",
            "Did not meet early stopping. Best iteration is:\n",
            "[94]\tvalid_0's binary_logloss: 0.0984642\n",
            "Training until validation scores don't improve for 200 rounds\n",
            "Did not meet early stopping. Best iteration is:\n",
            "[94]\tvalid_0's binary_logloss: 0.0987869\n",
            "Did not meet early stopping. Best iteration is:\n",
            "[100]\tvalid_0's binary_logloss: 0.101411\n",
            "Training until validation scores don't improve for 200 rounds\n",
            "Training until validation scores don't improve for 200 rounds\n",
            "Did not meet early stopping. Best iteration is:\n",
            "[94]\tvalid_0's binary_logloss: 0.0975324\n",
            "Training until validation scores don't improve for 200 rounds\n",
            "Did not meet early stopping. Best iteration is:\n",
            "[100]\tvalid_0's binary_logloss: 0.0936393\n",
            "Training until validation scores don't improve for 200 rounds\n",
            "Did not meet early stopping. Best iteration is:\n",
            "[89]\tvalid_0's binary_logloss: 0.0996087\n"
          ]
        },
        {
          "output_type": "stream",
          "name": "stderr",
          "text": [
            "[I 2024-02-20 10:22:21,369] Trial 18 finished with value: 0.5440304845224658 and parameters: {'learning_rate': 0.010710169099320266, 'num_leaves': 250, 'max_depth': 12, 'scale_pos_weight': 20.696065611879305, 'subsample': 0.7582197398269432, 'colsample_bytree': 0.7420228422117007, 'lambda_l1': 4.5002195464472865e-07, 'lambda_l2': 4.30342939422026e-07, 'min_child_samples': 34, 'min_child_weight': 5.0623038248895465e-05, 'bagging_fraction': 0.8312454267833518, 'bagging_freq': 3, 'feature_fraction': 0.695007604346702, 'min_split_gain': 0.2860752353681135}. Best is trial 16 with value: 0.6779302853603576.\n"
          ]
        },
        {
          "output_type": "stream",
          "name": "stdout",
          "text": [
            "Training until validation scores don't improve for 200 rounds\n",
            "Did not meet early stopping. Best iteration is:\n",
            "[100]\tvalid_0's binary_logloss: 0.0948018\n",
            "Training until validation scores don't improve for 200 rounds\n",
            "Did not meet early stopping. Best iteration is:\n",
            "[4]\tvalid_0's binary_logloss: 0.116257\n",
            "Training until validation scores don't improve for 200 rounds\n",
            "Did not meet early stopping. Best iteration is:\n",
            "[100]\tvalid_0's binary_logloss: 0.113668\n",
            "Did not meet early stopping. Best iteration is:\n",
            "[100]\tvalid_0's binary_logloss: 0.0958005\n",
            "Training until validation scores don't improve for 200 rounds\n",
            "Training until validation scores don't improve for 200 rounds\n",
            "Did not meet early stopping. Best iteration is:\n",
            "[100]\tvalid_0's binary_logloss: 0.110491\n",
            "Training until validation scores don't improve for 200 rounds\n",
            "Did not meet early stopping. Best iteration is:\n",
            "[97]\tvalid_0's binary_logloss: 0.103483\n"
          ]
        },
        {
          "output_type": "stream",
          "name": "stderr",
          "text": [
            "[I 2024-02-20 10:22:45,207] Trial 19 finished with value: 0.5997501545865443 and parameters: {'learning_rate': 0.08904542176189945, 'num_leaves': 237, 'max_depth': 12, 'scale_pos_weight': 36.46225666752311, 'subsample': 0.9757686286133571, 'colsample_bytree': 0.7298799185281915, 'lambda_l1': 3.8448074264011604e-07, 'lambda_l2': 7.00665456561256e-07, 'min_child_samples': 29, 'min_child_weight': 3.671164053807245e-05, 'bagging_fraction': 0.8263447276825155, 'bagging_freq': 4, 'feature_fraction': 0.7032214466703902, 'min_split_gain': 0.003285351520983415}. Best is trial 16 with value: 0.6779302853603576.\n"
          ]
        },
        {
          "output_type": "stream",
          "name": "stdout",
          "text": [
            "Training until validation scores don't improve for 200 rounds\n",
            "Did not meet early stopping. Best iteration is:\n",
            "[100]\tvalid_0's binary_logloss: 0.114573\n",
            "Training until validation scores don't improve for 200 rounds\n",
            "Did not meet early stopping. Best iteration is:\n",
            "[100]\tvalid_0's binary_logloss: 0.0926673\n",
            "Training until validation scores don't improve for 200 rounds\n"
          ]
        },
        {
          "output_type": "stream",
          "name": "stderr",
          "text": [
            "[I 2024-02-20 10:22:55,944] Trial 20 finished with value: 0.540080765964866 and parameters: {'learning_rate': 0.08655080229941114, 'num_leaves': 222, 'max_depth': 10, 'scale_pos_weight': 37.225743741529755, 'subsample': 0.9823651165085882, 'colsample_bytree': 0.6896790254859054, 'lambda_l1': 1.219347823005774e-06, 'lambda_l2': 2.4043494558749447e-06, 'min_child_samples': 56, 'min_child_weight': 4.0042516952011506e-05, 'bagging_fraction': 0.9405973026914021, 'bagging_freq': 4, 'feature_fraction': 0.7090325490114197, 'min_split_gain': 0.012704127976613345}. Best is trial 16 with value: 0.6779302853603576.\n"
          ]
        },
        {
          "output_type": "stream",
          "name": "stdout",
          "text": [
            "Did not meet early stopping. Best iteration is:\n",
            "[4]\tvalid_0's binary_logloss: 0.117747\n",
            "Did not meet early stopping. Best iteration is:\n",
            "[100]\tvalid_0's binary_logloss: 0.0888703\n",
            "Training until validation scores don't improve for 200 rounds\n",
            "Training until validation scores don't improve for 200 rounds\n",
            "Did not meet early stopping. Best iteration is:\n",
            "[100]\tvalid_0's binary_logloss: 0.0899782\n",
            "Training until validation scores don't improve for 200 rounds\n",
            "Did not meet early stopping. Best iteration is:\n",
            "[100]\tvalid_0's binary_logloss: 0.0891225\n",
            "Did not meet early stopping. Best iteration is:\n",
            "[66]\tvalid_0's binary_logloss: 0.0643953\n",
            "Training until validation scores don't improve for 200 rounds\n",
            "Training until validation scores don't improve for 200 rounds\n",
            "Did not meet early stopping. Best iteration is:\n",
            "[100]\tvalid_0's binary_logloss: 0.0965688\n"
          ]
        },
        {
          "output_type": "stream",
          "name": "stderr",
          "text": [
            "[I 2024-02-20 10:23:06,079] Trial 21 finished with value: 0.5580644140977726 and parameters: {'learning_rate': 0.06491531163744402, 'num_leaves': 207, 'max_depth': 10, 'scale_pos_weight': 8.24777254066603, 'subsample': 0.8484042828299648, 'colsample_bytree': 0.8069505806752151, 'lambda_l1': 8.481083710069141, 'lambda_l2': 0.0008865847108247766, 'min_child_samples': 8, 'min_child_weight': 0.0003597503395574532, 'bagging_fraction': 0.9415846438319512, 'bagging_freq': 1, 'feature_fraction': 0.6753922593536744, 'min_split_gain': 0.10456321350845066}. Best is trial 16 with value: 0.6779302853603576.\n"
          ]
        },
        {
          "output_type": "stream",
          "name": "stdout",
          "text": [
            "Training until validation scores don't improve for 200 rounds\n",
            "Did not meet early stopping. Best iteration is:\n",
            "[52]\tvalid_0's binary_logloss: 0.0671637\n",
            "Training until validation scores don't improve for 200 rounds\n",
            "Did not meet early stopping. Best iteration is:\n",
            "[100]\tvalid_0's binary_logloss: 0.0633047\n",
            "Training until validation scores don't improve for 200 rounds\n",
            "Did not meet early stopping. Best iteration is:\n",
            "[56]\tvalid_0's binary_logloss: 0.0657517\n",
            "Training until validation scores don't improve for 200 rounds\n",
            "Did not meet early stopping. Best iteration is:\n",
            "[97]\tvalid_0's binary_logloss: 0.063129\n",
            "Training until validation scores don't improve for 200 rounds\n",
            "Did not meet early stopping. Best iteration is:\n",
            "[99]\tvalid_0's binary_logloss: 0.0641745\n",
            "Did not meet early stopping. Best iteration is:\n",
            "[54]\tvalid_0's binary_logloss: 0.066824\n",
            "Training until validation scores don't improve for 200 rounds\n",
            "Training until validation scores don't improve for 200 rounds\n",
            "Did not meet early stopping. Best iteration is:\n",
            "[96]\tvalid_0's binary_logloss: 0.0641255\n",
            "Training until validation scores don't improve for 200 rounds\n",
            "Did not meet early stopping. Best iteration is:\n",
            "[63]\tvalid_0's binary_logloss: 0.0642996\n"
          ]
        },
        {
          "output_type": "stream",
          "name": "stderr",
          "text": [
            "[I 2024-02-20 10:23:30,068] Trial 22 finished with value: 0.6720313857114698 and parameters: {'learning_rate': 0.06672627521341726, 'num_leaves': 272, 'max_depth': 15, 'scale_pos_weight': 1.2156654897023944, 'subsample': 0.7684372554374623, 'colsample_bytree': 0.8253484456550705, 'lambda_l1': 3.351035524949358e-08, 'lambda_l2': 1.1941664794961138e-08, 'min_child_samples': 6, 'min_child_weight': 0.01959139893054044, 'bagging_fraction': 0.9362430331362699, 'bagging_freq': 7, 'feature_fraction': 0.7346806629751329, 'min_split_gain': 0.13979555551561268}. Best is trial 16 with value: 0.6779302853603576.\n"
          ]
        },
        {
          "output_type": "stream",
          "name": "stdout",
          "text": [
            "Training until validation scores don't improve for 200 rounds\n",
            "Did not meet early stopping. Best iteration is:\n",
            "[100]\tvalid_0's binary_logloss: 0.0640148\n"
          ]
        },
        {
          "output_type": "stream",
          "name": "stderr",
          "text": [
            "[I 2024-02-20 10:23:33,091] Trial 23 finished with value: 0.6684267234612185 and parameters: {'learning_rate': 0.04700605496991743, 'num_leaves': 270, 'max_depth': 15, 'scale_pos_weight': 1.5154715023651497, 'subsample': 0.7772400182132082, 'colsample_bytree': 0.8345388509578067, 'lambda_l1': 4.64508499193967e-08, 'lambda_l2': 5.037864142062454e-08, 'min_child_samples': 42, 'min_child_weight': 0.02093188585319902, 'bagging_fraction': 0.8710626414514685, 'bagging_freq': 7, 'feature_fraction': 0.7452791343027074, 'min_split_gain': 0.1841575952248299}. Best is trial 16 with value: 0.6779302853603576.\n"
          ]
        },
        {
          "output_type": "stream",
          "name": "stdout",
          "text": [
            "Training until validation scores don't improve for 200 rounds\n",
            "Did not meet early stopping. Best iteration is:\n",
            "[96]\tvalid_0's binary_logloss: 0.0704263\n",
            "Training until validation scores don't improve for 200 rounds\n",
            "Did not meet early stopping. Best iteration is:\n",
            "[95]\tvalid_0's binary_logloss: 0.0713241\n",
            "Training until validation scores don't improve for 200 rounds\n",
            "Did not meet early stopping. Best iteration is:\n",
            "[96]\tvalid_0's binary_logloss: 0.069727\n",
            "Training until validation scores don't improve for 200 rounds\n",
            "Did not meet early stopping. Best iteration is:\n",
            "[94]\tvalid_0's binary_logloss: 0.073064\n",
            "Training until validation scores don't improve for 200 rounds\n",
            "Did not meet early stopping. Best iteration is:\n",
            "[94]\tvalid_0's binary_logloss: 0.0710538\n",
            "Training until validation scores don't improve for 200 rounds\n",
            "Did not meet early stopping. Best iteration is:\n",
            "[91]\tvalid_0's binary_logloss: 0.071203\n",
            "Training until validation scores don't improve for 200 rounds\n",
            "Did not meet early stopping. Best iteration is:\n",
            "[95]\tvalid_0's binary_logloss: 0.069295\n",
            "Did not meet early stopping. Best iteration is:\n",
            "[100]\tvalid_0's binary_logloss: 0.0694156\n",
            "Training until validation scores don't improve for 200 rounds\n",
            "Training until validation scores don't improve for 200 rounds\n",
            "Did not meet early stopping. Best iteration is:\n",
            "[94]\tvalid_0's binary_logloss: 0.0705244\n",
            "Did not meet early stopping. Best iteration is:\n",
            "[94]\tvalid_0's binary_logloss: 0.0745469\n"
          ]
        },
        {
          "output_type": "stream",
          "name": "stderr",
          "text": [
            "[I 2024-02-20 10:24:12,383] Trial 24 finished with value: 0.6403529770183306 and parameters: {'learning_rate': 0.046177898936240684, 'num_leaves': 265, 'max_depth': 15, 'scale_pos_weight': 6.048523946495303, 'subsample': 0.7764836677820757, 'colsample_bytree': 0.9217276026231658, 'lambda_l1': 7.924048860841228e-08, 'lambda_l2': 7.395097362714973e-08, 'min_child_samples': 8, 'min_child_weight': 0.0028847528359411986, 'bagging_fraction': 0.8709521129792857, 'bagging_freq': 7, 'feature_fraction': 0.7578876684435982, 'min_split_gain': 0.12131780904732163}. Best is trial 16 with value: 0.6779302853603576.\n",
            "[I 2024-02-20 10:24:12,493] Trial 25 finished with value: 0.6427788492754709 and parameters: {'learning_rate': 0.06518548414637457, 'num_leaves': 261, 'max_depth': 13, 'scale_pos_weight': 6.630247422703393, 'subsample': 0.7939719034661686, 'colsample_bytree': 0.9234377911455478, 'lambda_l1': 9.760066810286927e-08, 'lambda_l2': 1.3303954060691094e-07, 'min_child_samples': 9, 'min_child_weight': 0.0033466726284083243, 'bagging_fraction': 0.9359317090083692, 'bagging_freq': 7, 'feature_fraction': 0.6633171893353155, 'min_split_gain': 0.33581662823942415}. Best is trial 16 with value: 0.6779302853603576.\n"
          ]
        },
        {
          "output_type": "stream",
          "name": "stdout",
          "text": [
            "Training until validation scores don't improve for 200 rounds\n",
            "Training until validation scores don't improve for 200 rounds\n",
            "Did not meet early stopping. Best iteration is:\n",
            "[96]\tvalid_0's binary_logloss: 0.0834858\n",
            "Did not meet early stopping. Best iteration is:\n",
            "[99]\tvalid_0's binary_logloss: 0.0856203\n",
            "Training until validation scores don't improve for 200 rounds\n",
            "Training until validation scores don't improve for 200 rounds\n",
            "Did not meet early stopping. Best iteration is:\n",
            "[100]\tvalid_0's binary_logloss: 0.0824653\n",
            "Did not meet early stopping. Best iteration is:\n",
            "[100]\tvalid_0's binary_logloss: 0.0836709\n",
            "Training until validation scores don't improve for 200 rounds\n",
            "Training until validation scores don't improve for 200 rounds\n",
            "Did not meet early stopping. Best iteration is:\n",
            "[100]\tvalid_0's binary_logloss: 0.0806428\n",
            "Did not meet early stopping. Best iteration is:\n",
            "[100]\tvalid_0's binary_logloss: 0.0826533\n",
            "Training until validation scores don't improve for 200 rounds\n",
            "Training until validation scores don't improve for 200 rounds\n",
            "Did not meet early stopping. Best iteration is:\n",
            "[100]\tvalid_0's binary_logloss: 0.0810416\n",
            "Did not meet early stopping. Best iteration is:\n",
            "[100]\tvalid_0's binary_logloss: 0.0833095\n",
            "Training until validation scores don't improve for 200 rounds\n",
            "Training until validation scores don't improve for 200 rounds\n",
            "Did not meet early stopping. Best iteration is:\n",
            "[100]\tvalid_0's binary_logloss: 0.0878494\n"
          ]
        },
        {
          "output_type": "stream",
          "name": "stderr",
          "text": [
            "[I 2024-02-20 10:24:45,163] Trial 26 finished with value: 0.6133772722818679 and parameters: {'learning_rate': 0.08337765459782295, 'num_leaves': 192, 'max_depth': 13, 'scale_pos_weight': 12.744545173579256, 'subsample': 0.731551165876073, 'colsample_bytree': 0.7881580921171558, 'lambda_l1': 2.1425207428124603e-06, 'lambda_l2': 1.6545034063929402e-07, 'min_child_samples': 52, 'min_child_weight': 0.008209342337976055, 'bagging_fraction': 0.9360749745886843, 'bagging_freq': 6, 'feature_fraction': 0.6725751291391004, 'min_split_gain': 0.3205475505554302}. Best is trial 16 with value: 0.6779302853603576.\n"
          ]
        },
        {
          "output_type": "stream",
          "name": "stdout",
          "text": [
            "Did not meet early stopping. Best iteration is:\n",
            "[100]\tvalid_0's binary_logloss: 0.0893007\n",
            "Training until validation scores don't improve for 200 rounds\n"
          ]
        },
        {
          "output_type": "stream",
          "name": "stderr",
          "text": [
            "[I 2024-02-20 10:24:46,438] Trial 27 finished with value: 0.6095110560246928 and parameters: {'learning_rate': 0.08479554473618414, 'num_leaves': 231, 'max_depth': 13, 'scale_pos_weight': 13.37671694903263, 'subsample': 0.7237566014799179, 'colsample_bytree': 0.7877694612626852, 'lambda_l1': 3.1555840083161194e-06, 'lambda_l2': 1.2236622286384535e-08, 'min_child_samples': 66, 'min_child_weight': 0.01111866399709881, 'bagging_fraction': 0.9532661355798538, 'bagging_freq': 6, 'feature_fraction': 0.7147327042091329, 'min_split_gain': 0.09729182037517596}. Best is trial 16 with value: 0.6779302853603576.\n"
          ]
        },
        {
          "output_type": "stream",
          "name": "stdout",
          "text": [
            "Training until validation scores don't improve for 200 rounds\n",
            "Did not meet early stopping. Best iteration is:\n",
            "[100]\tvalid_0's binary_logloss: 0.0840417\n",
            "Training until validation scores don't improve for 200 rounds\n",
            "Did not meet early stopping. Best iteration is:\n",
            "[100]\tvalid_0's binary_logloss: 0.0839929\n",
            "Training until validation scores don't improve for 200 rounds\n",
            "Did not meet early stopping. Best iteration is:\n",
            "[100]\tvalid_0's binary_logloss: 0.0816237\n",
            "Did not meet early stopping. Best iteration is:\n",
            "[100]\tvalid_0's binary_logloss: 0.0832258\n",
            "Training until validation scores don't improve for 200 rounds\n",
            "Training until validation scores don't improve for 200 rounds\n",
            "Did not meet early stopping. Best iteration is:\n",
            "[100]\tvalid_0's binary_logloss: 0.0798574\n",
            "Did not meet early stopping. Best iteration is:\n",
            "[100]\tvalid_0's binary_logloss: 0.0828962\n",
            "Training until validation scores don't improve for 200 rounds\n",
            "Training until validation scores don't improve for 200 rounds\n",
            "Did not meet early stopping. Best iteration is:\n",
            "[100]\tvalid_0's binary_logloss: 0.0812438\n",
            "Did not meet early stopping. Best iteration is:\n",
            "[97]\tvalid_0's binary_logloss: 0.0811773\n",
            "Training until validation scores don't improve for 200 rounds\n",
            "Training until validation scores don't improve for 200 rounds\n",
            "Did not meet early stopping. Best iteration is:\n",
            "[100]\tvalid_0's binary_logloss: 0.0893868\n"
          ]
        },
        {
          "output_type": "stream",
          "name": "stderr",
          "text": [
            "[I 2024-02-20 10:25:12,692] Trial 29 finished with value: 0.5951249100046593 and parameters: {'learning_rate': 0.07056138843374025, 'num_leaves': 300, 'max_depth': 15, 'scale_pos_weight': 10.574003998082757, 'subsample': 0.8534983863000879, 'colsample_bytree': 0.884470034967657, 'lambda_l1': 0.0001114673248047149, 'lambda_l2': 9.481123002031554e-07, 'min_child_samples': 82, 'min_child_weight': 0.001629792491526292, 'bagging_fraction': 0.8067876724638943, 'bagging_freq': 9, 'feature_fraction': 0.6040946691867802, 'min_split_gain': 0.1794693895153279}. Best is trial 16 with value: 0.6779302853603576.\n"
          ]
        },
        {
          "output_type": "stream",
          "name": "stdout",
          "text": [
            "Did not meet early stopping. Best iteration is:\n",
            "[100]\tvalid_0's binary_logloss: 0.0885797\n"
          ]
        },
        {
          "output_type": "stream",
          "name": "stderr",
          "text": [
            "[I 2024-02-20 10:25:13,008] Trial 28 finished with value: 0.608001920388348 and parameters: {'learning_rate': 0.0838452276823891, 'num_leaves': 234, 'max_depth': 15, 'scale_pos_weight': 12.706648184084264, 'subsample': 0.9279111679310912, 'colsample_bytree': 0.8641556490627131, 'lambda_l1': 0.366325159521549, 'lambda_l2': 1.1002242782754438e-08, 'min_child_samples': 65, 'min_child_weight': 0.0012413289885263416, 'bagging_fraction': 0.805134512075565, 'bagging_freq': 4, 'feature_fraction': 0.7286146454745562, 'min_split_gain': 0.09171939339023671}. Best is trial 16 with value: 0.6779302853603576.\n"
          ]
        },
        {
          "output_type": "stream",
          "name": "stdout",
          "text": [
            "Training until validation scores don't improve for 200 rounds\n",
            "Training until validation scores don't improve for 200 rounds\n",
            "Did not meet early stopping. Best iteration is:\n",
            "[100]\tvalid_0's binary_logloss: 0.0860498\n",
            "Did not meet early stopping. Best iteration is:\n",
            "[99]\tvalid_0's binary_logloss: 0.0829875\n",
            "Training until validation scores don't improve for 200 rounds\n",
            "Training until validation scores don't improve for 200 rounds\n",
            "Did not meet early stopping. Best iteration is:\n",
            "[100]\tvalid_0's binary_logloss: 0.0835463\n",
            "Training until validation scores don't improve for 200 rounds\n",
            "Did not meet early stopping. Best iteration is:\n",
            "[100]\tvalid_0's binary_logloss: 0.0807683\n",
            "Training until validation scores don't improve for 200 rounds\n",
            "Did not meet early stopping. Best iteration is:\n",
            "[100]\tvalid_0's binary_logloss: 0.082685\n",
            "Training until validation scores don't improve for 200 rounds\n",
            "Did not meet early stopping. Best iteration is:\n",
            "[100]\tvalid_0's binary_logloss: 0.0816073\n",
            "Training until validation scores don't improve for 200 rounds\n",
            "Did not meet early stopping. Best iteration is:\n",
            "[100]\tvalid_0's binary_logloss: 0.0828278\n",
            "Training until validation scores don't improve for 200 rounds\n",
            "Did not meet early stopping. Best iteration is:\n",
            "[100]\tvalid_0's binary_logloss: 0.0817806\n",
            "Training until validation scores don't improve for 200 rounds\n"
          ]
        },
        {
          "output_type": "stream",
          "name": "stderr",
          "text": [
            "[I 2024-02-20 10:25:27,810] Trial 31 finished with value: 0.5565855840420764 and parameters: {'learning_rate': 0.06667638084100772, 'num_leaves': 183, 'max_depth': 6, 'scale_pos_weight': 4.510671633701692, 'subsample': 0.8085315936773441, 'colsample_bytree': 0.8195618276117564, 'lambda_l1': 1.5706776537836616e-07, 'lambda_l2': 1.0262082302876255e-05, 'min_child_samples': 46, 'min_child_weight': 1.5763551530003997e-05, 'bagging_fraction': 0.8777720053128978, 'bagging_freq': 2, 'feature_fraction': 0.6453732370004145, 'min_split_gain': 0.6629942176727849}. Best is trial 16 with value: 0.6779302853603576.\n"
          ]
        },
        {
          "output_type": "stream",
          "name": "stdout",
          "text": [
            "Did not meet early stopping. Best iteration is:\n",
            "[100]\tvalid_0's binary_logloss: 0.087865\n",
            "Training until validation scores don't improve for 200 rounds\n",
            "Did not meet early stopping. Best iteration is:\n",
            "[100]\tvalid_0's binary_logloss: 0.0882465\n"
          ]
        },
        {
          "output_type": "stream",
          "name": "stderr",
          "text": [
            "[I 2024-02-20 10:25:29,614] Trial 30 finished with value: 0.5743960053523933 and parameters: {'learning_rate': 0.06594503037800503, 'num_leaves': 32, 'max_depth': 12, 'scale_pos_weight': 5.384472109701722, 'subsample': 0.9388705904310095, 'colsample_bytree': 0.8523739357880039, 'lambda_l1': 0.45947153225903625, 'lambda_l2': 7.912759463747602e-06, 'min_child_samples': 29, 'min_child_weight': 1.8736839862449506e-05, 'bagging_fraction': 0.8780249273925452, 'bagging_freq': 4, 'feature_fraction': 0.6417394291698224, 'min_split_gain': 0.6298000806003738}. Best is trial 16 with value: 0.6779302853603576.\n"
          ]
        },
        {
          "output_type": "stream",
          "name": "stdout",
          "text": [
            "Training until validation scores don't improve for 200 rounds\n",
            "Did not meet early stopping. Best iteration is:\n",
            "[66]\tvalid_0's binary_logloss: 0.0644263\n",
            "Training until validation scores don't improve for 200 rounds\n",
            "Did not meet early stopping. Best iteration is:\n",
            "[74]\tvalid_0's binary_logloss: 0.0650242\n",
            "Training until validation scores don't improve for 200 rounds\n",
            "Did not meet early stopping. Best iteration is:\n",
            "[55]\tvalid_0's binary_logloss: 0.0640091\n",
            "Training until validation scores don't improve for 200 rounds\n",
            "Did not meet early stopping. Best iteration is:\n",
            "[55]\tvalid_0's binary_logloss: 0.0641955\n",
            "Training until validation scores don't improve for 200 rounds\n",
            "Did not meet early stopping. Best iteration is:\n",
            "[67]\tvalid_0's binary_logloss: 0.06362\n",
            "Training until validation scores don't improve for 200 rounds\n",
            "Did not meet early stopping. Best iteration is:\n",
            "[71]\tvalid_0's binary_logloss: 0.0628908\n",
            "Training until validation scores don't improve for 200 rounds\n",
            "Did not meet early stopping. Best iteration is:\n",
            "[68]\tvalid_0's binary_logloss: 0.063358\n",
            "Training until validation scores don't improve for 200 rounds\n",
            "Did not meet early stopping. Best iteration is:\n",
            "[68]\tvalid_0's binary_logloss: 0.0638342\n",
            "Training until validation scores don't improve for 200 rounds\n",
            "Did not meet early stopping. Best iteration is:\n",
            "[68]\tvalid_0's binary_logloss: 0.0642373\n"
          ]
        },
        {
          "output_type": "stream",
          "name": "stderr",
          "text": [
            "[I 2024-02-20 10:25:56,552] Trial 32 finished with value: 0.6763063679130007 and parameters: {'learning_rate': 0.07223124965675913, 'num_leaves': 283, 'max_depth': 16, 'scale_pos_weight': 1.278917998789594, 'subsample': 0.754770491187881, 'colsample_bytree': 0.8457003668598556, 'lambda_l1': 1.2399847920698381e-08, 'lambda_l2': 4.9300999218056525e-08, 'min_child_samples': 38, 'min_child_weight': 0.05198971017660007, 'bagging_fraction': 0.9014212418969729, 'bagging_freq': 9, 'feature_fraction': 0.8051991344313633, 'min_split_gain': 0.18465943000185536}. Best is trial 16 with value: 0.6779302853603576.\n"
          ]
        },
        {
          "output_type": "stream",
          "name": "stdout",
          "text": [
            "Training until validation scores don't improve for 200 rounds\n",
            "Did not meet early stopping. Best iteration is:\n",
            "[68]\tvalid_0's binary_logloss: 0.0645234\n"
          ]
        },
        {
          "output_type": "stream",
          "name": "stderr",
          "text": [
            "[I 2024-02-20 10:25:59,192] Trial 33 finished with value: 0.6714847884621249 and parameters: {'learning_rate': 0.07463229200001412, 'num_leaves': 277, 'max_depth': 16, 'scale_pos_weight': 1.557052336529015, 'subsample': 0.7923044901318378, 'colsample_bytree': 0.8353357054533429, 'lambda_l1': 1.125285354481154e-08, 'lambda_l2': 3.3629878686272564e-08, 'min_child_samples': 40, 'min_child_weight': 0.048143526403560476, 'bagging_fraction': 0.909986336830986, 'bagging_freq': 9, 'feature_fraction': 0.8208302493920099, 'min_split_gain': 0.19139166204865415}. Best is trial 16 with value: 0.6779302853603576.\n"
          ]
        },
        {
          "output_type": "stream",
          "name": "stdout",
          "text": [
            "Training until validation scores don't improve for 200 rounds\n",
            "Did not meet early stopping. Best iteration is:\n",
            "[52]\tvalid_0's binary_logloss: 0.0653173\n",
            "Training until validation scores don't improve for 200 rounds\n",
            "Did not meet early stopping. Best iteration is:\n",
            "[93]\tvalid_0's binary_logloss: 0.067883\n",
            "Training until validation scores don't improve for 200 rounds\n",
            "Did not meet early stopping. Best iteration is:\n",
            "[39]\tvalid_0's binary_logloss: 0.065913\n",
            "Training until validation scores don't improve for 200 rounds\n",
            "Did not meet early stopping. Best iteration is:\n",
            "[44]\tvalid_0's binary_logloss: 0.0643735\n",
            "Did not meet early stopping. Best iteration is:\n",
            "[77]\tvalid_0's binary_logloss: 0.0691699\n",
            "Training until validation scores don't improve for 200 rounds\n",
            "Training until validation scores don't improve for 200 rounds\n",
            "Did not meet early stopping. Best iteration is:\n",
            "[48]\tvalid_0's binary_logloss: 0.0659558\n",
            "Training until validation scores don't improve for 200 rounds\n",
            "Did not meet early stopping. Best iteration is:\n",
            "[88]\tvalid_0's binary_logloss: 0.0679819\n",
            "Training until validation scores don't improve for 200 rounds\n"
          ]
        },
        {
          "output_type": "stream",
          "name": "stderr",
          "text": [
            "[I 2024-02-20 10:26:24,721] Trial 34 finished with value: 0.6775780292111745 and parameters: {'learning_rate': 0.08943501126200497, 'num_leaves': 284, 'max_depth': 16, 'scale_pos_weight': 1.4757841080870024, 'subsample': 0.7988278038535009, 'colsample_bytree': 0.7626736900485966, 'lambda_l1': 1.920820564817174e-08, 'lambda_l2': 5.546685518180059e-08, 'min_child_samples': 17, 'min_child_weight': 0.044558426697503935, 'bagging_fraction': 0.959635973903333, 'bagging_freq': 8, 'feature_fraction': 0.7962051188996918, 'min_split_gain': 0.21556365048865261}. Best is trial 16 with value: 0.6779302853603576.\n"
          ]
        },
        {
          "output_type": "stream",
          "name": "stdout",
          "text": [
            "Did not meet early stopping. Best iteration is:\n",
            "[45]\tvalid_0's binary_logloss: 0.0651722\n",
            "Training until validation scores don't improve for 200 rounds\n",
            "Did not meet early stopping. Best iteration is:\n",
            "[93]\tvalid_0's binary_logloss: 0.0686826\n",
            "Training until validation scores don't improve for 200 rounds\n",
            "Did not meet early stopping. Best iteration is:\n",
            "[60]\tvalid_0's binary_logloss: 0.0757279\n",
            "Training until validation scores don't improve for 200 rounds\n",
            "Did not meet early stopping. Best iteration is:\n",
            "[79]\tvalid_0's binary_logloss: 0.0713758\n"
          ]
        },
        {
          "output_type": "stream",
          "name": "stderr",
          "text": [
            "[I 2024-02-20 10:26:37,425] Trial 35 finished with value: 0.6467533291892793 and parameters: {'learning_rate': 0.059610701005031595, 'num_leaves': 284, 'max_depth': 14, 'scale_pos_weight': 4.7713262681320785, 'subsample': 0.6907854336102041, 'colsample_bytree': 0.7630841823884621, 'lambda_l1': 1.7352898556469767e-07, 'lambda_l2': 4.6273367627935926e-08, 'min_child_samples': 16, 'min_child_weight': 0.04358575824938463, 'bagging_fraction': 0.9673468179160581, 'bagging_freq': 8, 'feature_fraction': 0.7876895669126739, 'min_split_gain': 0.06602902752220322}. Best is trial 16 with value: 0.6779302853603576.\n"
          ]
        },
        {
          "output_type": "stream",
          "name": "stdout",
          "text": [
            "Training until validation scores don't improve for 200 rounds\n",
            "Did not meet early stopping. Best iteration is:\n",
            "[56]\tvalid_0's binary_logloss: 0.0755707\n",
            "Training until validation scores don't improve for 200 rounds\n",
            "Did not meet early stopping. Best iteration is:\n",
            "[56]\tvalid_0's binary_logloss: 0.0754534\n",
            "Training until validation scores don't improve for 200 rounds\n",
            "Did not meet early stopping. Best iteration is:\n",
            "[64]\tvalid_0's binary_logloss: 0.0753209\n",
            "Training until validation scores don't improve for 200 rounds\n",
            "Did not meet early stopping. Best iteration is:\n",
            "[58]\tvalid_0's binary_logloss: 0.0759078\n",
            "Training until validation scores don't improve for 200 rounds\n",
            "Did not meet early stopping. Best iteration is:\n",
            "[64]\tvalid_0's binary_logloss: 0.0764302\n",
            "Training until validation scores don't improve for 200 rounds\n",
            "Did not meet early stopping. Best iteration is:\n",
            "[58]\tvalid_0's binary_logloss: 0.0760753\n",
            "Training until validation scores don't improve for 200 rounds\n",
            "Did not meet early stopping. Best iteration is:\n",
            "[72]\tvalid_0's binary_logloss: 0.0785708\n"
          ]
        },
        {
          "output_type": "stream",
          "name": "stderr",
          "text": [
            "[I 2024-02-20 10:27:08,509] Trial 36 finished with value: 0.6267867361454121 and parameters: {'learning_rate': 0.09003771526318675, 'num_leaves': 253, 'max_depth': 14, 'scale_pos_weight': 8.871742710111668, 'subsample': 0.6783965384789163, 'colsample_bytree': 0.756691633135672, 'lambda_l1': 0.0019310346632150687, 'lambda_l2': 6.582429457725378e-07, 'min_child_samples': 16, 'min_child_weight': 0.04026011340025433, 'bagging_fraction': 0.9703327850914182, 'bagging_freq': 8, 'feature_fraction': 0.873789113864004, 'min_split_gain': 0.054496599022958725}. Best is trial 16 with value: 0.6779302853603576.\n"
          ]
        },
        {
          "output_type": "stream",
          "name": "stdout",
          "text": [
            "Training until validation scores don't improve for 200 rounds\n",
            "Did not meet early stopping. Best iteration is:\n",
            "[100]\tvalid_0's binary_logloss: 0.087267\n",
            "Did not meet early stopping. Best iteration is:\n",
            "[58]\tvalid_0's binary_logloss: 0.0750969\n",
            "Training until validation scores don't improve for 200 rounds\n",
            "Training until validation scores don't improve for 200 rounds\n",
            "Did not meet early stopping. Best iteration is:\n",
            "[100]\tvalid_0's binary_logloss: 0.086759\n",
            "Training until validation scores don't improve for 200 rounds\n",
            "Did not meet early stopping. Best iteration is:\n",
            "[100]\tvalid_0's binary_logloss: 0.0852634\n",
            "Did not meet early stopping. Best iteration is:\n",
            "[75]\tvalid_0's binary_logloss: 0.0772163\n",
            "Training until validation scores don't improve for 200 rounds\n"
          ]
        },
        {
          "output_type": "stream",
          "name": "stderr",
          "text": [
            "[I 2024-02-20 10:27:23,177] Trial 37 finished with value: 0.6343191168719304 and parameters: {'learning_rate': 0.09028908022746547, 'num_leaves': 253, 'max_depth': 16, 'scale_pos_weight': 8.805188716657252, 'subsample': 0.7423354305651244, 'colsample_bytree': 0.7314834582604696, 'lambda_l1': 8.119292850629506e-07, 'lambda_l2': 7.587796364035522e-07, 'min_child_samples': 15, 'min_child_weight': 0.0005448562607568264, 'bagging_fraction': 0.9705748872495874, 'bagging_freq': 5, 'feature_fraction': 0.8725221974181244, 'min_split_gain': 0.26082877237747265}. Best is trial 16 with value: 0.6779302853603576.\n"
          ]
        },
        {
          "output_type": "stream",
          "name": "stdout",
          "text": [
            "Training until validation scores don't improve for 200 rounds\n",
            "Did not meet early stopping. Best iteration is:\n",
            "[100]\tvalid_0's binary_logloss: 0.0860128\n",
            "Training until validation scores don't improve for 200 rounds\n",
            "Did not meet early stopping. Best iteration is:\n",
            "[88]\tvalid_0's binary_logloss: 0.0735974\n",
            "Training until validation scores don't improve for 200 rounds\n",
            "Did not meet early stopping. Best iteration is:\n",
            "[100]\tvalid_0's binary_logloss: 0.0913206\n"
          ]
        },
        {
          "output_type": "stream",
          "name": "stderr",
          "text": [
            "[I 2024-02-20 10:27:30,281] Trial 38 finished with value: 0.5697927674999196 and parameters: {'learning_rate': 0.09216848879395756, 'num_leaves': 253, 'max_depth': 7, 'scale_pos_weight': 7.624578393410128, 'subsample': 0.8641592970924981, 'colsample_bytree': 0.7273770010870187, 'lambda_l1': 2.0921895964630594e-08, 'lambda_l2': 7.620347966176705e-05, 'min_child_samples': 31, 'min_child_weight': 9.876733603192329e-05, 'bagging_fraction': 0.8515871226555238, 'bagging_freq': 5, 'feature_fraction': 0.8445808878171723, 'min_split_gain': 0.5146616280847025}. Best is trial 16 with value: 0.6779302853603576.\n"
          ]
        },
        {
          "output_type": "stream",
          "name": "stdout",
          "text": [
            "Training until validation scores don't improve for 200 rounds\n",
            "Did not meet early stopping. Best iteration is:\n",
            "[100]\tvalid_0's binary_logloss: 0.0736011\n",
            "Training until validation scores don't improve for 200 rounds\n",
            "Did not meet early stopping. Best iteration is:\n",
            "[98]\tvalid_0's binary_logloss: 0.0711927\n",
            "Training until validation scores don't improve for 200 rounds\n",
            "Did not meet early stopping. Best iteration is:\n",
            "[94]\tvalid_0's binary_logloss: 0.0990748\n",
            "Training until validation scores don't improve for 200 rounds\n",
            "Did not meet early stopping. Best iteration is:\n",
            "[100]\tvalid_0's binary_logloss: 0.0719808\n",
            "Training until validation scores don't improve for 200 rounds\n",
            "Did not meet early stopping. Best iteration is:\n",
            "[100]\tvalid_0's binary_logloss: 0.0756557\n"
          ]
        },
        {
          "output_type": "stream",
          "name": "stderr",
          "text": [
            "[I 2024-02-20 10:27:43,401] Trial 39 finished with value: 0.6149284730889157 and parameters: {'learning_rate': 0.0991455025590838, 'num_leaves': 287, 'max_depth': 8, 'scale_pos_weight': 3.8201943747586027, 'subsample': 0.65415876004382, 'colsample_bytree': 0.6622411328796955, 'lambda_l1': 5.691878409985738e-05, 'lambda_l2': 5.0424235147380114e-05, 'min_child_samples': 31, 'min_child_weight': 0.00012509022513557656, 'bagging_fraction': 0.8393131083155995, 'bagging_freq': 10, 'feature_fraction': 0.8405928778518568, 'min_split_gain': 0.3794390567434833}. Best is trial 16 with value: 0.6779302853603576.\n"
          ]
        },
        {
          "output_type": "stream",
          "name": "stdout",
          "text": [
            "Training until validation scores don't improve for 200 rounds\n",
            "Did not meet early stopping. Best iteration is:\n",
            "[90]\tvalid_0's binary_logloss: 0.100325\n",
            "Training until validation scores don't improve for 200 rounds\n",
            "Did not meet early stopping. Best iteration is:\n",
            "[100]\tvalid_0's binary_logloss: 0.108514\n",
            "Training until validation scores don't improve for 200 rounds\n",
            "Did not meet early stopping. Best iteration is:\n",
            "[100]\tvalid_0's binary_logloss: 0.0968969\n",
            "Training until validation scores don't improve for 200 rounds\n",
            "Did not meet early stopping. Best iteration is:\n",
            "[100]\tvalid_0's binary_logloss: 0.110091\n",
            "Training until validation scores don't improve for 200 rounds\n",
            "Did not meet early stopping. Best iteration is:\n",
            "[100]\tvalid_0's binary_logloss: 0.0980388\n",
            "Training until validation scores don't improve for 200 rounds\n",
            "Did not meet early stopping. Best iteration is:\n",
            "[100]\tvalid_0's binary_logloss: 0.107652\n",
            "Training until validation scores don't improve for 200 rounds\n",
            "Did not meet early stopping. Best iteration is:\n",
            "[100]\tvalid_0's binary_logloss: 0.10256\n"
          ]
        },
        {
          "output_type": "stream",
          "name": "stderr",
          "text": [
            "[I 2024-02-20 10:28:16,095] Trial 40 finished with value: 0.6153867971227427 and parameters: {'learning_rate': 0.09729785772051505, 'num_leaves': 286, 'max_depth': 15, 'scale_pos_weight': 48.83822684828634, 'subsample': 0.6460436642566082, 'colsample_bytree': 0.9535130136858443, 'lambda_l1': 5.373566823388111e-05, 'lambda_l2': 0.0021896558333233955, 'min_child_samples': 23, 'min_child_weight': 0.00020082825063124637, 'bagging_fraction': 0.7499317026210615, 'bagging_freq': 10, 'feature_fraction': 0.7866696710092743, 'min_split_gain': 0.38231302588721805}. Best is trial 16 with value: 0.6779302853603576.\n"
          ]
        },
        {
          "output_type": "stream",
          "name": "stdout",
          "text": [
            "Training until validation scores don't improve for 200 rounds\n",
            "Did not meet early stopping. Best iteration is:\n",
            "[100]\tvalid_0's binary_logloss: 0.10689\n",
            "Training until validation scores don't improve for 200 rounds\n",
            "Did not meet early stopping. Best iteration is:\n",
            "[85]\tvalid_0's binary_logloss: 0.0648917\n",
            "Did not meet early stopping. Best iteration is:\n",
            "[100]\tvalid_0's binary_logloss: 0.11533\n"
          ]
        },
        {
          "output_type": "stream",
          "name": "stderr",
          "text": [
            "[I 2024-02-20 10:28:25,432] Trial 41 finished with value: 0.5801433331750228 and parameters: {'learning_rate': 0.08042575567747011, 'num_leaves': 218, 'max_depth': 15, 'scale_pos_weight': 48.1739887182831, 'subsample': 0.7149251157564446, 'colsample_bytree': 0.8062750864036456, 'lambda_l1': 1.4775792431240275e-07, 'lambda_l2': 1.5101974815687585e-07, 'min_child_samples': 56, 'min_child_weight': 0.0002710909944818074, 'bagging_fraction': 0.7343821876003469, 'bagging_freq': 9, 'feature_fraction': 0.772407626972565, 'min_split_gain': 0.4667320780927831}. Best is trial 16 with value: 0.6779302853603576.\n"
          ]
        },
        {
          "output_type": "stream",
          "name": "stdout",
          "text": [
            "Training until validation scores don't improve for 200 rounds\n",
            "Training until validation scores don't improve for 200 rounds\n",
            "Did not meet early stopping. Best iteration is:\n",
            "[67]\tvalid_0's binary_logloss: 0.066552\n",
            "Did not meet early stopping. Best iteration is:\n",
            "[99]\tvalid_0's binary_logloss: 0.0653185\n",
            "Training until validation scores don't improve for 200 rounds\n",
            "Training until validation scores don't improve for 200 rounds\n",
            "Did not meet early stopping. Best iteration is:\n",
            "[94]\tvalid_0's binary_logloss: 0.0652688\n",
            "Did not meet early stopping. Best iteration is:\n",
            "[69]\tvalid_0's binary_logloss: 0.0656475\n",
            "Training until validation scores don't improve for 200 rounds\n",
            "Training until validation scores don't improve for 200 rounds\n",
            "Did not meet early stopping. Best iteration is:\n",
            "[100]\tvalid_0's binary_logloss: 0.0646883\n",
            "Did not meet early stopping. Best iteration is:\n",
            "[65]\tvalid_0's binary_logloss: 0.0661811\n",
            "Training until validation scores don't improve for 200 rounds\n",
            "Training until validation scores don't improve for 200 rounds\n",
            "Did not meet early stopping. Best iteration is:\n",
            "[87]\tvalid_0's binary_logloss: 0.0652083\n",
            "Training until validation scores don't improve for 200 rounds\n",
            "Did not meet early stopping. Best iteration is:\n",
            "[69]\tvalid_0's binary_logloss: 0.0648673\n"
          ]
        },
        {
          "output_type": "stream",
          "name": "stderr",
          "text": [
            "[I 2024-02-20 10:29:00,134] Trial 42 finished with value: 0.676483265194795 and parameters: {'learning_rate': 0.052520978630678825, 'num_leaves': 269, 'max_depth': 15, 'scale_pos_weight': 1.1687833892961585, 'subsample': 0.7103342421331242, 'colsample_bytree': 0.8045375807192505, 'lambda_l1': 4.469542723012174e-08, 'lambda_l2': 3.835885825404968e-08, 'min_child_samples': 6, 'min_child_weight': 0.01633175652071016, 'bagging_fraction': 0.9210739814211516, 'bagging_freq': 7, 'feature_fraction': 0.7629245850245786, 'min_split_gain': 0.14342195686850412}. Best is trial 16 with value: 0.6779302853603576.\n"
          ]
        },
        {
          "output_type": "stream",
          "name": "stdout",
          "text": [
            "Training until validation scores don't improve for 200 rounds\n",
            "Did not meet early stopping. Best iteration is:\n",
            "[94]\tvalid_0's binary_logloss: 0.0672343\n"
          ]
        },
        {
          "output_type": "stream",
          "name": "stderr",
          "text": [
            "[I 2024-02-20 10:29:08,124] Trial 43 finished with value: 0.655051414477777 and parameters: {'learning_rate': 0.052460897450065505, 'num_leaves': 266, 'max_depth': 16, 'scale_pos_weight': 2.8726763757294287, 'subsample': 0.8333805758659878, 'colsample_bytree': 0.770752501030924, 'lambda_l1': 3.638626048255599e-08, 'lambda_l2': 3.166358529507059e-08, 'min_child_samples': 24, 'min_child_weight': 0.014046615534190829, 'bagging_fraction': 0.9234015087894688, 'bagging_freq': 7, 'feature_fraction': 0.7342258595624168, 'min_split_gain': 0.14200587647895607}. Best is trial 16 with value: 0.6779302853603576.\n"
          ]
        },
        {
          "output_type": "stream",
          "name": "stdout",
          "text": [
            "Did not meet early stopping. Best iteration is:\n",
            "[90]\tvalid_0's binary_logloss: 0.0664394\n",
            "Training until validation scores don't improve for 200 rounds\n",
            "Training until validation scores don't improve for 200 rounds\n",
            "Did not meet early stopping. Best iteration is:\n",
            "[100]\tvalid_0's binary_logloss: 0.0861929\n",
            "Training until validation scores don't improve for 200 rounds\n",
            "Did not meet early stopping. Best iteration is:\n",
            "[93]\tvalid_0's binary_logloss: 0.0661427\n",
            "Training until validation scores don't improve for 200 rounds\n",
            "Did not meet early stopping. Best iteration is:\n",
            "[100]\tvalid_0's binary_logloss: 0.0851622\n",
            "Training until validation scores don't improve for 200 rounds\n",
            "Did not meet early stopping. Best iteration is:\n",
            "[83]\tvalid_0's binary_logloss: 0.0670827\n",
            "Training until validation scores don't improve for 200 rounds\n",
            "Did not meet early stopping. Best iteration is:\n",
            "[99]\tvalid_0's binary_logloss: 0.084912\n",
            "Training until validation scores don't improve for 200 rounds\n",
            "Did not meet early stopping. Best iteration is:\n",
            "[88]\tvalid_0's binary_logloss: 0.0655641\n",
            "Did not meet early stopping. Best iteration is:\n",
            "[99]\tvalid_0's binary_logloss: 0.0836729\n",
            "Training until validation scores don't improve for 200 rounds\n",
            "Training until validation scores don't improve for 200 rounds\n",
            "Did not meet early stopping. Best iteration is:\n",
            "[100]\tvalid_0's binary_logloss: 0.090218\n"
          ]
        },
        {
          "output_type": "stream",
          "name": "stderr",
          "text": [
            "[I 2024-02-20 10:29:35,275] Trial 45 finished with value: 0.5930444632608991 and parameters: {'learning_rate': 0.05384364522029143, 'num_leaves': 112, 'max_depth': 16, 'scale_pos_weight': 11.709225801597576, 'subsample': 0.702103734414255, 'colsample_bytree': 0.9021359660337618, 'lambda_l1': 1.1386298285743121e-08, 'lambda_l2': 1.8914331310723534e-06, 'min_child_samples': 45, 'min_child_weight': 0.0005853866131107752, 'bagging_fraction': 0.8912437570831019, 'bagging_freq': 8, 'feature_fraction': 0.7640569681882521, 'min_split_gain': 0.2078983980476579}. Best is trial 16 with value: 0.6779302853603576.\n"
          ]
        },
        {
          "output_type": "stream",
          "name": "stdout",
          "text": [
            "Training until validation scores don't improve for 200 rounds\n",
            "Did not meet early stopping. Best iteration is:\n",
            "[77]\tvalid_0's binary_logloss: 0.0680172\n"
          ]
        },
        {
          "output_type": "stream",
          "name": "stderr",
          "text": [
            "[I 2024-02-20 10:29:36,657] Trial 44 finished with value: 0.6523957930084539 and parameters: {'learning_rate': 0.05144863517711747, 'num_leaves': 267, 'max_depth': 16, 'scale_pos_weight': 3.1068438735553614, 'subsample': 0.8335236037339132, 'colsample_bytree': 0.7731833467987898, 'lambda_l1': 1.0236722692982853e-08, 'lambda_l2': 3.836821552850866e-08, 'min_child_samples': 24, 'min_child_weight': 0.013522926517602564, 'bagging_fraction': 0.9214152161365999, 'bagging_freq': 8, 'feature_fraction': 0.896887284914394, 'min_split_gain': 0.14834632956331806}. Best is trial 16 with value: 0.6779302853603576.\n"
          ]
        },
        {
          "output_type": "stream",
          "name": "stdout",
          "text": [
            "Training until validation scores don't improve for 200 rounds\n",
            "Did not meet early stopping. Best iteration is:\n",
            "[82]\tvalid_0's binary_logloss: 0.0724763\n",
            "Training until validation scores don't improve for 200 rounds\n",
            "Did not meet early stopping. Best iteration is:\n",
            "[100]\tvalid_0's binary_logloss: 0.0708802\n",
            "Training until validation scores don't improve for 200 rounds\n",
            "Did not meet early stopping. Best iteration is:\n",
            "[79]\tvalid_0's binary_logloss: 0.0724463\n",
            "Training until validation scores don't improve for 200 rounds\n",
            "Did not meet early stopping. Best iteration is:\n",
            "[100]\tvalid_0's binary_logloss: 0.0698792\n",
            "Training until validation scores don't improve for 200 rounds\n",
            "Did not meet early stopping. Best iteration is:\n",
            "[98]\tvalid_0's binary_logloss: 0.0725065\n",
            "Training until validation scores don't improve for 200 rounds\n",
            "Did not meet early stopping. Best iteration is:\n",
            "[100]\tvalid_0's binary_logloss: 0.0705588\n",
            "Training until validation scores don't improve for 200 rounds\n",
            "Did not meet early stopping. Best iteration is:\n",
            "[78]\tvalid_0's binary_logloss: 0.0710606\n",
            "Training until validation scores don't improve for 200 rounds\n",
            "Did not meet early stopping. Best iteration is:\n",
            "[94]\tvalid_0's binary_logloss: 0.0709371\n",
            "Training until validation scores don't improve for 200 rounds\n",
            "Did not meet early stopping. Best iteration is:\n",
            "[86]\tvalid_0's binary_logloss: 0.0751316\n"
          ]
        },
        {
          "output_type": "stream",
          "name": "stderr",
          "text": [
            "[I 2024-02-20 10:30:12,202] Trial 46 finished with value: 0.6422166860522571 and parameters: {'learning_rate': 0.08144507589634406, 'num_leaves': 145, 'max_depth': 16, 'scale_pos_weight': 6.6884967523412575, 'subsample': 0.6053413416294964, 'colsample_bytree': 0.8586838969104116, 'lambda_l1': 6.985462668987468e-06, 'lambda_l2': 2.557244670119032e-07, 'min_child_samples': 21, 'min_child_weight': 0.03137633088550118, 'bagging_fraction': 0.9581186400515478, 'bagging_freq': 9, 'feature_fraction': 0.8013851523836169, 'min_split_gain': 0.06413781020439152}. Best is trial 16 with value: 0.6779302853603576.\n"
          ]
        },
        {
          "output_type": "stream",
          "name": "stdout",
          "text": [
            "Training until validation scores don't improve for 200 rounds\n",
            "Did not meet early stopping. Best iteration is:\n",
            "[100]\tvalid_0's binary_logloss: 0.0732701\n"
          ]
        },
        {
          "output_type": "stream",
          "name": "stderr",
          "text": [
            "[I 2024-02-20 10:30:16,709] Trial 47 finished with value: 0.6267597285845896 and parameters: {'learning_rate': 0.039079524983898876, 'num_leaves': 290, 'max_depth': 14, 'scale_pos_weight': 6.035621838834333, 'subsample': 0.8002741509948742, 'colsample_bytree': 0.8597505257624114, 'lambda_l1': 8.028757422040615e-08, 'lambda_l2': 2.829595318224235e-07, 'min_child_samples': 13, 'min_child_weight': 0.030583965870952075, 'bagging_fraction': 0.7105883400199345, 'bagging_freq': 9, 'feature_fraction': 0.7967015311311352, 'min_split_gain': 0.054755564548353765}. Best is trial 16 with value: 0.6779302853603576.\n"
          ]
        },
        {
          "output_type": "stream",
          "name": "stdout",
          "text": [
            "Did not meet early stopping. Best iteration is:\n",
            "[97]\tvalid_0's binary_logloss: 0.0844884\n",
            "Training until validation scores don't improve for 200 rounds\n",
            "Training until validation scores don't improve for 200 rounds\n",
            "Did not meet early stopping. Best iteration is:\n",
            "[99]\tvalid_0's binary_logloss: 0.0853432\n",
            "Did not meet early stopping. Best iteration is:\n",
            "[99]\tvalid_0's binary_logloss: 0.085892\n",
            "Training until validation scores don't improve for 200 rounds\n",
            "Training until validation scores don't improve for 200 rounds\n",
            "Did not meet early stopping. Best iteration is:\n",
            "[100]\tvalid_0's binary_logloss: 0.0852497\n",
            "Training until validation scores don't improve for 200 rounds\n",
            "Did not meet early stopping. Best iteration is:\n",
            "[100]\tvalid_0's binary_logloss: 0.0843218\n",
            "Training until validation scores don't improve for 200 rounds\n",
            "Did not meet early stopping. Best iteration is:\n",
            "[100]\tvalid_0's binary_logloss: 0.0825503\n",
            "Training until validation scores don't improve for 200 rounds\n",
            "Did not meet early stopping. Best iteration is:\n",
            "[100]\tvalid_0's binary_logloss: 0.0828098\n",
            "Training until validation scores don't improve for 200 rounds\n",
            "Did not meet early stopping. Best iteration is:\n",
            "[100]\tvalid_0's binary_logloss: 0.0834397\n",
            "Training until validation scores don't improve for 200 rounds\n",
            "Did not meet early stopping. Best iteration is:\n",
            "[100]\tvalid_0's binary_logloss: 0.0907545\n"
          ]
        },
        {
          "output_type": "stream",
          "name": "stderr",
          "text": [
            "[I 2024-02-20 10:30:43,030] Trial 48 finished with value: 0.612972231010451 and parameters: {'learning_rate': 0.09430861669279106, 'num_leaves': 290, 'max_depth': 14, 'scale_pos_weight': 15.432633517847183, 'subsample': 0.8022644062659376, 'colsample_bytree': 0.87195696129885, 'lambda_l1': 2.499792796407477e-07, 'lambda_l2': 8.335458153820175e-08, 'min_child_samples': 72, 'min_child_weight': 0.06446768146035654, 'bagging_fraction': 0.8860624155716478, 'bagging_freq': 6, 'feature_fraction': 0.9963553624008471, 'min_split_gain': 0.31577202685053585}. Best is trial 16 with value: 0.6779302853603576.\n",
            "[I 2024-02-20 10:30:44,638] Trial 49 finished with value: 0.6158058957037879 and parameters: {'learning_rate': 0.09423652541093194, 'num_leaves': 246, 'max_depth': 14, 'scale_pos_weight': 15.565629305806006, 'subsample': 0.7405293470071785, 'colsample_bytree': 0.8063451908687579, 'lambda_l1': 1.8908352700335706e-07, 'lambda_l2': 0.03095520713711375, 'min_child_samples': 74, 'min_child_weight': 0.06598890847845904, 'bagging_fraction': 0.8898100997572944, 'bagging_freq': 6, 'feature_fraction': 0.6299981375355325, 'min_split_gain': 0.23071244426976334}. Best is trial 16 with value: 0.6779302853603576.\n"
          ]
        },
        {
          "output_type": "stream",
          "name": "stdout",
          "text": [
            "Did not meet early stopping. Best iteration is:\n",
            "[100]\tvalid_0's binary_logloss: 0.0904899\n",
            "Number of finished trials: 50\n",
            "Best trial: {'learning_rate': 0.07632698665776735, 'num_leaves': 276, 'max_depth': 12, 'scale_pos_weight': 1.3760446202389667, 'subsample': 0.773170061176117, 'colsample_bytree': 0.8338193184282123, 'lambda_l1': 3.481874558394082e-08, 'lambda_l2': 1.572357982460139e-08, 'min_child_samples': 40, 'min_child_weight': 5.7752510085385265e-05, 'bagging_fraction': 0.9079616639975618, 'bagging_freq': 3, 'feature_fraction': 0.6979769972006454, 'min_split_gain': 0.004895390158728363}\n"
          ]
        }
      ]
    },
    {
      "cell_type": "code",
      "source": [
        "import optuna\n",
        "from sklearn.metrics import f1_score\n",
        "from lightgbm import LGBMClassifier, early_stopping\n",
        "\n",
        "object_columns = X_train3.select_dtypes(include=['object']).columns\n",
        "cat_cols=list(object_columns)\n",
        "for col in object_columns:\n",
        "    X_train3[col] = X_train3[col].astype('category')\n",
        "    X_test3[col] = X_test3[col].astype('category')\n",
        "\n",
        "def objective(trial):\n",
        "    param = {\n",
        "        'objective': 'binary',\n",
        "        'metric': 'binary_logloss',\n",
        "        'verbosity': -1,\n",
        "        'boosting_type': 'gbdt',\n",
        "        'learning_rate': trial.suggest_float('learning_rate', 0.01, 0.1),\n",
        "        'num_leaves': trial.suggest_int('num_leaves', 30, 300),\n",
        "        'max_depth': trial.suggest_int('max_depth', 6, 16),\n",
        "        'scale_pos_weight': trial.suggest_float('scale_pos_weight', 1, 50),\n",
        "        'subsample': trial.suggest_float('subsample', 0.6, 1.0),\n",
        "        'colsample_bytree': trial.suggest_float('colsample_bytree', 0.6, 1.0),\n",
        "        'lambda_l1': trial.suggest_float('lambda_l1', 1e-8, 10.0, log=True),\n",
        "        'lambda_l2': trial.suggest_float('lambda_l2', 1e-8, 10.0, log=True),\n",
        "        'min_child_samples': trial.suggest_int('min_child_samples', 5, 100),\n",
        "        'min_child_weight': trial.suggest_float('min_child_weight', 1e-5, 1e-1, log=True),\n",
        "        'bagging_fraction': trial.suggest_float('bagging_fraction', 0.6, 1.0),\n",
        "        'bagging_freq': trial.suggest_int('bagging_freq', 1, 10),\n",
        "        'feature_fraction': trial.suggest_float('feature_fraction', 0.6, 1.0),\n",
        "        'min_split_gain': trial.suggest_float('min_split_gain', 0, 1),\n",
        "        'random_state': 0,\n",
        "        'categorical_feature': cat_cols,\n",
        "        'n_jobs': -1\n",
        "    }\n",
        "\n",
        "    f1_scores = []\n",
        "    for train_idx, valid_idx in folds.split(X_train3, y_train):\n",
        "        X_tr, y_tr = X_train3.iloc[train_idx], y_train.iloc[train_idx]\n",
        "        X_val, y_val = X_train3.iloc[valid_idx], y_train.iloc[valid_idx]\n",
        "\n",
        "        lgb_model = LGBMClassifier(**param)\n",
        "        lgb_model.fit(X_tr, y_tr, eval_set=[(X_val, y_val)], callbacks=[early_stopping(stopping_rounds=200)])\n",
        "\n",
        "        threshold = 0.2  # 적절한 임계값으로 조정\n",
        "        preds_proba = lgb_model.predict_proba(X_val)[:, 1]  # 클래스 1에 대한 확률을 얻음\n",
        "        preds = (preds_proba > threshold).astype(int)  # 임계값을 기준으로 이진 클래스로 변환\n",
        "\n",
        "        # 이진 클래스 예측을 사용하여 F1 스코어 계산\n",
        "        f1 = f1_score(y_val, preds)\n",
        "        f1_scores.append(f1)\n",
        "\n",
        "    return np.mean(f1_scores)\n",
        "\n",
        "folds = StratifiedKFold(n_splits=5, shuffle=True, random_state=0)\n",
        "study3 = optuna.create_study(direction='maximize')\n",
        "study3.optimize(objective, n_trials=50, n_jobs=-1)  # 시행 횟수를 조정하여 탐색 시간 관리\n",
        "\n",
        "print('Number of finished trials:', len(study3.trials))\n",
        "print('Best trial:', study3.best_trial.params)"
      ],
      "metadata": {
        "colab": {
          "base_uri": "https://localhost:8080/"
        },
        "id": "6M81Z2Qermwm",
        "outputId": "e432d74d-214d-4734-8790-50abf70792ad"
      },
      "id": "6M81Z2Qermwm",
      "execution_count": null,
      "outputs": [
        {
          "output_type": "stream",
          "name": "stderr",
          "text": [
            "[I 2024-02-20 10:30:44,817] A new study created in memory with name: no-name-156ee564-68da-4182-8671-7525b663b913\n"
          ]
        },
        {
          "output_type": "stream",
          "name": "stdout",
          "text": [
            "Training until validation scores don't improve for 200 rounds\n",
            "Training until validation scores don't improve for 200 rounds\n",
            "Did not meet early stopping. Best iteration is:\n",
            "[14]\tvalid_0's binary_logloss: 0.141333\n",
            "Training until validation scores don't improve for 200 rounds\n",
            "Did not meet early stopping. Best iteration is:\n",
            "[7]\tvalid_0's binary_logloss: 0.141599\n",
            "Training until validation scores don't improve for 200 rounds\n",
            "Did not meet early stopping. Best iteration is:\n",
            "[13]\tvalid_0's binary_logloss: 0.139038\n",
            "Training until validation scores don't improve for 200 rounds\n",
            "Did not meet early stopping. Best iteration is:\n",
            "[9]\tvalid_0's binary_logloss: 0.140968\n",
            "Did not meet early stopping. Best iteration is:\n",
            "[13]\tvalid_0's binary_logloss: 0.140508\n",
            "Training until validation scores don't improve for 200 rounds\n",
            "Training until validation scores don't improve for 200 rounds\n",
            "Did not meet early stopping. Best iteration is:\n",
            "[11]\tvalid_0's binary_logloss: 0.141174\n",
            "Training until validation scores don't improve for 200 rounds\n",
            "Did not meet early stopping. Best iteration is:\n",
            "[9]\tvalid_0's binary_logloss: 0.141739\n",
            "Training until validation scores don't improve for 200 rounds\n"
          ]
        },
        {
          "output_type": "stream",
          "name": "stderr",
          "text": [
            "[I 2024-02-20 10:30:59,025] Trial 0 finished with value: 0.43237665083568244 and parameters: {'learning_rate': 0.02115299849914793, 'num_leaves': 200, 'max_depth': 6, 'scale_pos_weight': 13.566259841828666, 'subsample': 0.8813533528966624, 'colsample_bytree': 0.9402449729553551, 'lambda_l1': 0.0036719042873590672, 'lambda_l2': 0.0004031746184649703, 'min_child_samples': 91, 'min_child_weight': 0.00389795547585816, 'bagging_fraction': 0.6606353338576226, 'bagging_freq': 7, 'feature_fraction': 0.8852377493705648, 'min_split_gain': 0.07553447117951106}. Best is trial 0 with value: 0.43237665083568244.\n"
          ]
        },
        {
          "output_type": "stream",
          "name": "stdout",
          "text": [
            "Did not meet early stopping. Best iteration is:\n",
            "[11]\tvalid_0's binary_logloss: 0.141547\n",
            "Training until validation scores don't improve for 200 rounds\n",
            "Did not meet early stopping. Best iteration is:\n",
            "[9]\tvalid_0's binary_logloss: 0.141689\n",
            "Training until validation scores don't improve for 200 rounds\n"
          ]
        },
        {
          "output_type": "stream",
          "name": "stderr",
          "text": [
            "[I 2024-02-20 10:31:03,875] Trial 1 finished with value: 0.44311270274971654 and parameters: {'learning_rate': 0.02510274230042179, 'num_leaves': 231, 'max_depth': 8, 'scale_pos_weight': 24.126130434895053, 'subsample': 0.7973731094395661, 'colsample_bytree': 0.607747333818135, 'lambda_l1': 0.01830352553124177, 'lambda_l2': 1.3721518788232202e-06, 'min_child_samples': 75, 'min_child_weight': 0.0558669664645593, 'bagging_fraction': 0.8213778257388467, 'bagging_freq': 6, 'feature_fraction': 0.8009271465401171, 'min_split_gain': 0.3775066959756681}. Best is trial 1 with value: 0.44311270274971654.\n"
          ]
        },
        {
          "output_type": "stream",
          "name": "stdout",
          "text": [
            "Did not meet early stopping. Best iteration is:\n",
            "[9]\tvalid_0's binary_logloss: 0.142735\n",
            "Did not meet early stopping. Best iteration is:\n",
            "[100]\tvalid_0's binary_logloss: 0.134454\n",
            "Training until validation scores don't improve for 200 rounds\n",
            "Training until validation scores don't improve for 200 rounds\n",
            "Did not meet early stopping. Best iteration is:\n",
            "[1]\tvalid_0's binary_logloss: 0.146569\n",
            "Training until validation scores don't improve for 200 rounds\n",
            "Did not meet early stopping. Best iteration is:\n",
            "[1]\tvalid_0's binary_logloss: 0.146863\n",
            "Did not meet early stopping. Best iteration is:\n",
            "[100]\tvalid_0's binary_logloss: 0.134715\n",
            "Training until validation scores don't improve for 200 rounds\n",
            "Training until validation scores don't improve for 200 rounds\n",
            "Did not meet early stopping. Best iteration is:\n",
            "[1]\tvalid_0's binary_logloss: 0.146816\n",
            "Training until validation scores don't improve for 200 rounds\n",
            "Did not meet early stopping. Best iteration is:\n",
            "[1]\tvalid_0's binary_logloss: 0.146105\n",
            "Did not meet early stopping. Best iteration is:\n",
            "[100]\tvalid_0's binary_logloss: 0.137666\n",
            "Training until validation scores don't improve for 200 rounds\n",
            "Training until validation scores don't improve for 200 rounds\n"
          ]
        },
        {
          "output_type": "stream",
          "name": "stderr",
          "text": [
            "[I 2024-02-20 10:31:19,268] Trial 3 finished with value: 0.0 and parameters: {'learning_rate': 0.07103822201471596, 'num_leaves': 171, 'max_depth': 7, 'scale_pos_weight': 31.866826339150645, 'subsample': 0.791106249337611, 'colsample_bytree': 0.79674187638857, 'lambda_l1': 0.0003321323150760795, 'lambda_l2': 9.817616959958348e-07, 'min_child_samples': 100, 'min_child_weight': 0.03699809467669604, 'bagging_fraction': 0.6681456372936317, 'bagging_freq': 10, 'feature_fraction': 0.7810572991374873, 'min_split_gain': 0.5402390333412074}. Best is trial 1 with value: 0.44311270274971654.\n"
          ]
        },
        {
          "output_type": "stream",
          "name": "stdout",
          "text": [
            "Did not meet early stopping. Best iteration is:\n",
            "[1]\tvalid_0's binary_logloss: 0.14646\n",
            "Training until validation scores don't improve for 200 rounds\n",
            "Did not meet early stopping. Best iteration is:\n",
            "[100]\tvalid_0's binary_logloss: 0.140742\n",
            "Did not meet early stopping. Best iteration is:\n",
            "[100]\tvalid_0's binary_logloss: 0.113241\n",
            "Training until validation scores don't improve for 200 rounds\n",
            "Training until validation scores don't improve for 200 rounds\n",
            "Did not meet early stopping. Best iteration is:\n",
            "[100]\tvalid_0's binary_logloss: 0.109606\n",
            "Training until validation scores don't improve for 200 rounds\n",
            "Did not meet early stopping. Best iteration is:\n",
            "[100]\tvalid_0's binary_logloss: 0.141418\n"
          ]
        },
        {
          "output_type": "stream",
          "name": "stderr",
          "text": [
            "[I 2024-02-20 10:31:28,703] Trial 2 finished with value: 0.4087258047993963 and parameters: {'learning_rate': 0.08733693275039275, 'num_leaves': 170, 'max_depth': 12, 'scale_pos_weight': 35.76057530405547, 'subsample': 0.8452951604104114, 'colsample_bytree': 0.9755998244940394, 'lambda_l1': 0.2447899313472299, 'lambda_l2': 0.012006642184571942, 'min_child_samples': 40, 'min_child_weight': 9.40905816716619e-05, 'bagging_fraction': 0.6623061922186196, 'bagging_freq': 5, 'feature_fraction': 0.7630599154176749, 'min_split_gain': 0.29927549695215383}. Best is trial 1 with value: 0.44311270274971654.\n"
          ]
        },
        {
          "output_type": "stream",
          "name": "stdout",
          "text": [
            "Training until validation scores don't improve for 200 rounds\n",
            "Did not meet early stopping. Best iteration is:\n",
            "[100]\tvalid_0's binary_logloss: 0.114064\n",
            "Training until validation scores don't improve for 200 rounds\n",
            "Did not meet early stopping. Best iteration is:\n",
            "[95]\tvalid_0's binary_logloss: 0.0892492\n",
            "Did not meet early stopping. Best iteration is:\n",
            "[100]\tvalid_0's binary_logloss: 0.115503\n",
            "Training until validation scores don't improve for 200 rounds\n",
            "Training until validation scores don't improve for 200 rounds\n",
            "Did not meet early stopping. Best iteration is:\n",
            "[100]\tvalid_0's binary_logloss: 0.117912\n"
          ]
        },
        {
          "output_type": "stream",
          "name": "stderr",
          "text": [
            "[I 2024-02-20 10:31:40,351] Trial 4 finished with value: 0.4012683569221805 and parameters: {'learning_rate': 0.07640717139416581, 'num_leaves': 278, 'max_depth': 7, 'scale_pos_weight': 4.667092089625758, 'subsample': 0.8425041809385745, 'colsample_bytree': 0.8056243453195931, 'lambda_l1': 0.004262385940024411, 'lambda_l2': 0.2500486904659277, 'min_child_samples': 96, 'min_child_weight': 4.910684350687286e-05, 'bagging_fraction': 0.8379418752658472, 'bagging_freq': 4, 'feature_fraction': 0.7400778023947833, 'min_split_gain': 0.301868987956875}. Best is trial 1 with value: 0.44311270274971654.\n"
          ]
        },
        {
          "output_type": "stream",
          "name": "stdout",
          "text": [
            "Did not meet early stopping. Best iteration is:\n",
            "[75]\tvalid_0's binary_logloss: 0.0875404\n",
            "Training until validation scores don't improve for 200 rounds\n",
            "Training until validation scores don't improve for 200 rounds\n",
            "Did not meet early stopping. Best iteration is:\n",
            "[13]\tvalid_0's binary_logloss: 0.139624\n",
            "Did not meet early stopping. Best iteration is:\n",
            "[58]\tvalid_0's binary_logloss: 0.0920674\n",
            "Training until validation scores don't improve for 200 rounds\n",
            "Training until validation scores don't improve for 200 rounds\n",
            "Did not meet early stopping. Best iteration is:\n",
            "[14]\tvalid_0's binary_logloss: 0.138647\n",
            "Did not meet early stopping. Best iteration is:\n",
            "[87]\tvalid_0's binary_logloss: 0.0907808\n",
            "Training until validation scores don't improve for 200 rounds\n",
            "Training until validation scores don't improve for 200 rounds\n",
            "Did not meet early stopping. Best iteration is:\n",
            "[14]\tvalid_0's binary_logloss: 0.139849\n",
            "Training until validation scores don't improve for 200 rounds\n",
            "Did not meet early stopping. Best iteration is:\n",
            "[99]\tvalid_0's binary_logloss: 0.0904576\n"
          ]
        },
        {
          "output_type": "stream",
          "name": "stderr",
          "text": [
            "[I 2024-02-20 10:32:00,383] Trial 5 finished with value: 0.5453288103344727 and parameters: {'learning_rate': 0.08698745000736349, 'num_leaves': 254, 'max_depth': 12, 'scale_pos_weight': 1.024199031284367, 'subsample': 0.7934534850559967, 'colsample_bytree': 0.9214469973513548, 'lambda_l1': 0.9682497776537417, 'lambda_l2': 5.734245773931144e-05, 'min_child_samples': 47, 'min_child_weight': 0.00027934255577290466, 'bagging_fraction': 0.8883715707214366, 'bagging_freq': 2, 'feature_fraction': 0.8815746213596901, 'min_split_gain': 0.8614689640612155}. Best is trial 5 with value: 0.5453288103344727.\n"
          ]
        },
        {
          "output_type": "stream",
          "name": "stdout",
          "text": [
            "Training until validation scores don't improve for 200 rounds\n",
            "Did not meet early stopping. Best iteration is:\n",
            "[13]\tvalid_0's binary_logloss: 0.13945\n",
            "Did not meet early stopping. Best iteration is:\n",
            "[2]\tvalid_0's binary_logloss: 0.142367\n",
            "Training until validation scores don't improve for 200 rounds\n",
            "Training until validation scores don't improve for 200 rounds\n",
            "Did not meet early stopping. Best iteration is:\n",
            "[2]\tvalid_0's binary_logloss: 0.141285\n"
          ]
        },
        {
          "output_type": "stream",
          "name": "stderr",
          "text": [
            "[I 2024-02-20 10:32:07,678] Trial 6 finished with value: 0.4289847178878846 and parameters: {'learning_rate': 0.019169158592711823, 'num_leaves': 53, 'max_depth': 11, 'scale_pos_weight': 20.873938956304297, 'subsample': 0.6942316658909147, 'colsample_bytree': 0.9632081025375638, 'lambda_l1': 1.9832197543314015e-05, 'lambda_l2': 0.0042195262257039515, 'min_child_samples': 14, 'min_child_weight': 5.6515601797794496e-05, 'bagging_fraction': 0.7164091576384295, 'bagging_freq': 10, 'feature_fraction': 0.8473663321355203, 'min_split_gain': 0.43585976168179463}. Best is trial 5 with value: 0.5453288103344727.\n"
          ]
        },
        {
          "output_type": "stream",
          "name": "stdout",
          "text": [
            "Did not meet early stopping. Best iteration is:\n",
            "[14]\tvalid_0's binary_logloss: 0.139491\n",
            "Training until validation scores don't improve for 200 rounds\n",
            "Training until validation scores don't improve for 200 rounds\n",
            "Did not meet early stopping. Best iteration is:\n",
            "[2]\tvalid_0's binary_logloss: 0.142328\n",
            "Training until validation scores don't improve for 200 rounds\n",
            "Did not meet early stopping. Best iteration is:\n",
            "[2]\tvalid_0's binary_logloss: 0.142411\n",
            "Training until validation scores don't improve for 200 rounds\n",
            "Did not meet early stopping. Best iteration is:\n",
            "[7]\tvalid_0's binary_logloss: 0.132067\n",
            "Training until validation scores don't improve for 200 rounds\n"
          ]
        },
        {
          "output_type": "stream",
          "name": "stderr",
          "text": [
            "[I 2024-02-20 10:32:15,184] Trial 7 finished with value: 0.30293178318735037 and parameters: {'learning_rate': 0.0637900612439979, 'num_leaves': 88, 'max_depth': 6, 'scale_pos_weight': 15.132660508941811, 'subsample': 0.6299483469711157, 'colsample_bytree': 0.9689825536947069, 'lambda_l1': 0.007599781697029926, 'lambda_l2': 0.07161162615988612, 'min_child_samples': 80, 'min_child_weight': 0.00866881794743445, 'bagging_fraction': 0.9900818442442476, 'bagging_freq': 3, 'feature_fraction': 0.8121580460195588, 'min_split_gain': 0.07251852909125633}. Best is trial 5 with value: 0.5453288103344727.\n"
          ]
        },
        {
          "output_type": "stream",
          "name": "stdout",
          "text": [
            "Did not meet early stopping. Best iteration is:\n",
            "[2]\tvalid_0's binary_logloss: 0.143308\n",
            "Training until validation scores don't improve for 200 rounds\n",
            "Did not meet early stopping. Best iteration is:\n",
            "[1]\tvalid_0's binary_logloss: 0.162525\n",
            "Training until validation scores don't improve for 200 rounds\n",
            "Did not meet early stopping. Best iteration is:\n",
            "[7]\tvalid_0's binary_logloss: 0.130623\n",
            "Training until validation scores don't improve for 200 rounds\n",
            "Did not meet early stopping. Best iteration is:\n",
            "[100]\tvalid_0's binary_logloss: 0.160426\n",
            "Training until validation scores don't improve for 200 rounds\n",
            "Did not meet early stopping. Best iteration is:\n",
            "[7]\tvalid_0's binary_logloss: 0.132316\n",
            "Training until validation scores don't improve for 200 rounds\n",
            "Did not meet early stopping. Best iteration is:\n",
            "[1]\tvalid_0's binary_logloss: 0.161903\n",
            "Training until validation scores don't improve for 200 rounds\n",
            "Did not meet early stopping. Best iteration is:\n",
            "[1]\tvalid_0's binary_logloss: 0.162889\n",
            "Did not meet early stopping. Best iteration is:\n",
            "[7]\tvalid_0's binary_logloss: 0.132827\n",
            "Training until validation scores don't improve for 200 rounds\n",
            "Training until validation scores don't improve for 200 rounds\n"
          ]
        },
        {
          "output_type": "stream",
          "name": "stderr",
          "text": [
            "[I 2024-02-20 10:32:40,312] Trial 9 finished with value: 0.28673368275848016 and parameters: {'learning_rate': 0.0966580235729208, 'num_leaves': 80, 'max_depth': 15, 'scale_pos_weight': 44.822984330279276, 'subsample': 0.9802162379908657, 'colsample_bytree': 0.8767929771974821, 'lambda_l1': 0.0002143718732191686, 'lambda_l2': 0.00031033584935500697, 'min_child_samples': 81, 'min_child_weight': 0.0008488407466435678, 'bagging_fraction': 0.889579399109233, 'bagging_freq': 9, 'feature_fraction': 0.6348803284438519, 'min_split_gain': 0.3190716350528795}. Best is trial 5 with value: 0.5453288103344727.\n"
          ]
        },
        {
          "output_type": "stream",
          "name": "stdout",
          "text": [
            "Did not meet early stopping. Best iteration is:\n",
            "[1]\tvalid_0's binary_logloss: 0.162837\n",
            "Training until validation scores don't improve for 200 rounds\n"
          ]
        },
        {
          "output_type": "stream",
          "name": "stderr",
          "text": [
            "[I 2024-02-20 10:32:43,016] Trial 8 finished with value: 0.4327471874441281 and parameters: {'learning_rate': 0.038734083692365445, 'num_leaves': 260, 'max_depth': 15, 'scale_pos_weight': 41.433539566675826, 'subsample': 0.6565052813427356, 'colsample_bytree': 0.9429010530744777, 'lambda_l1': 0.009738933363412692, 'lambda_l2': 5.376516018688194e-07, 'min_child_samples': 31, 'min_child_weight': 0.002774358209010538, 'bagging_fraction': 0.6889578472591024, 'bagging_freq': 6, 'feature_fraction': 0.8163258449229248, 'min_split_gain': 0.18029493650181794}. Best is trial 5 with value: 0.5453288103344727.\n"
          ]
        },
        {
          "output_type": "stream",
          "name": "stdout",
          "text": [
            "Did not meet early stopping. Best iteration is:\n",
            "[6]\tvalid_0's binary_logloss: 0.132508\n",
            "Training until validation scores don't improve for 200 rounds\n",
            "Did not meet early stopping. Best iteration is:\n",
            "[5]\tvalid_0's binary_logloss: 0.132688\n",
            "Training until validation scores don't improve for 200 rounds\n",
            "Did not meet early stopping. Best iteration is:\n",
            "[100]\tvalid_0's binary_logloss: 0.100677\n",
            "Training until validation scores don't improve for 200 rounds\n",
            "Did not meet early stopping. Best iteration is:\n",
            "[100]\tvalid_0's binary_logloss: 0.0984136\n",
            "Did not meet early stopping. Best iteration is:\n",
            "[100]\tvalid_0's binary_logloss: 0.130721\n",
            "Training until validation scores don't improve for 200 rounds\n",
            "Training until validation scores don't improve for 200 rounds\n",
            "Did not meet early stopping. Best iteration is:\n",
            "[100]\tvalid_0's binary_logloss: 0.102862\n",
            "Training until validation scores don't improve for 200 rounds\n",
            "Did not meet early stopping. Best iteration is:\n",
            "[4]\tvalid_0's binary_logloss: 0.133159\n",
            "Training until validation scores don't improve for 200 rounds\n",
            "Did not meet early stopping. Best iteration is:\n",
            "[100]\tvalid_0's binary_logloss: 0.102308\n",
            "Training until validation scores don't improve for 200 rounds\n",
            "Did not meet early stopping. Best iteration is:\n",
            "[99]\tvalid_0's binary_logloss: 0.103396\n",
            "Did not meet early stopping. Best iteration is:\n",
            "[4]\tvalid_0's binary_logloss: 0.133697\n"
          ]
        },
        {
          "output_type": "stream",
          "name": "stderr",
          "text": [
            "[I 2024-02-20 10:33:02,508] Trial 11 finished with value: 0.4548104974782448 and parameters: {'learning_rate': 0.044165579034933795, 'num_leaves': 290, 'max_depth': 12, 'scale_pos_weight': 2.7010449598423776, 'subsample': 0.728724411682562, 'colsample_bytree': 0.6745555607575192, 'lambda_l1': 8.025666044109244, 'lambda_l2': 3.1969587897863995e-05, 'min_child_samples': 57, 'min_child_weight': 0.00029659417747161554, 'bagging_fraction': 0.9448748776305593, 'bagging_freq': 1, 'feature_fraction': 0.9923260322548758, 'min_split_gain': 0.9374139261166226}. Best is trial 5 with value: 0.5453288103344727.\n"
          ]
        },
        {
          "output_type": "stream",
          "name": "stdout",
          "text": [
            "Training until validation scores don't improve for 200 rounds\n",
            "Training until validation scores don't improve for 200 rounds\n",
            "Did not meet early stopping. Best iteration is:\n",
            "[100]\tvalid_0's binary_logloss: 0.0949754\n",
            "Training until validation scores don't improve for 200 rounds\n"
          ]
        },
        {
          "output_type": "stream",
          "name": "stderr",
          "text": [
            "[I 2024-02-20 10:33:08,015] Trial 10 finished with value: 0.40307751602424313 and parameters: {'learning_rate': 0.06362759164347978, 'num_leaves': 108, 'max_depth': 12, 'scale_pos_weight': 15.874825932506434, 'subsample': 0.6184646347316957, 'colsample_bytree': 0.6760403997824012, 'lambda_l1': 0.0015687661151979825, 'lambda_l2': 5.2913579042018904e-08, 'min_child_samples': 74, 'min_child_weight': 0.0016588871963070311, 'bagging_fraction': 0.8990206884291094, 'bagging_freq': 2, 'feature_fraction': 0.9908142734926844, 'min_split_gain': 0.7238150201580813}. Best is trial 5 with value: 0.5453288103344727.\n"
          ]
        },
        {
          "output_type": "stream",
          "name": "stdout",
          "text": [
            "Did not meet early stopping. Best iteration is:\n",
            "[4]\tvalid_0's binary_logloss: 0.133534\n",
            "Training until validation scores don't improve for 200 rounds\n",
            "Did not meet early stopping. Best iteration is:\n",
            "[100]\tvalid_0's binary_logloss: 0.0921397\n",
            "Training until validation scores don't improve for 200 rounds\n",
            "Did not meet early stopping. Best iteration is:\n",
            "[100]\tvalid_0's binary_logloss: 0.0984055\n",
            "Training until validation scores don't improve for 200 rounds\n",
            "Did not meet early stopping. Best iteration is:\n",
            "[100]\tvalid_0's binary_logloss: 0.0958361\n",
            "Training until validation scores don't improve for 200 rounds\n",
            "Did not meet early stopping. Best iteration is:\n",
            "[100]\tvalid_0's binary_logloss: 0.095254\n",
            "Training until validation scores don't improve for 200 rounds\n",
            "Did not meet early stopping. Best iteration is:\n",
            "[100]\tvalid_0's binary_logloss: 0.0958727\n",
            "Training until validation scores don't improve for 200 rounds\n",
            "Did not meet early stopping. Best iteration is:\n",
            "[100]\tvalid_0's binary_logloss: 0.0999202\n",
            "Training until validation scores don't improve for 200 rounds\n",
            "Did not meet early stopping. Best iteration is:\n",
            "[95]\tvalid_0's binary_logloss: 0.0964022\n"
          ]
        },
        {
          "output_type": "stream",
          "name": "stderr",
          "text": [
            "[I 2024-02-20 10:33:20,956] Trial 12 finished with value: 0.499573620289713 and parameters: {'learning_rate': 0.04797292626836404, 'num_leaves': 288, 'max_depth': 12, 'scale_pos_weight': 1.5455975692817234, 'subsample': 0.7284396133989015, 'colsample_bytree': 0.6384029415135245, 'lambda_l1': 7.773675104998473, 'lambda_l2': 2.848231973258292e-05, 'min_child_samples': 57, 'min_child_weight': 0.00033611566212657433, 'bagging_fraction': 0.9593416497723329, 'bagging_freq': 1, 'feature_fraction': 0.9987812320489613, 'min_split_gain': 0.9493003494191816}. Best is trial 5 with value: 0.5453288103344727.\n"
          ]
        },
        {
          "output_type": "stream",
          "name": "stdout",
          "text": [
            "Training until validation scores don't improve for 200 rounds\n",
            "Did not meet early stopping. Best iteration is:\n",
            "[100]\tvalid_0's binary_logloss: 0.0999216\n",
            "Training until validation scores don't improve for 200 rounds\n",
            "Did not meet early stopping. Best iteration is:\n",
            "[100]\tvalid_0's binary_logloss: 0.119183\n",
            "Did not meet early stopping. Best iteration is:\n",
            "[100]\tvalid_0's binary_logloss: 0.100618\n"
          ]
        },
        {
          "output_type": "stream",
          "name": "stderr",
          "text": [
            "[I 2024-02-20 10:33:25,232] Trial 13 finished with value: 0.46978178547580357 and parameters: {'learning_rate': 0.04807456030002956, 'num_leaves': 295, 'max_depth': 10, 'scale_pos_weight': 2.2241280063733413, 'subsample': 0.7488238833677179, 'colsample_bytree': 0.7355195140069835, 'lambda_l1': 8.363726401234853, 'lambda_l2': 6.803592750667752e-05, 'min_child_samples': 56, 'min_child_weight': 0.00036004130946932264, 'bagging_fraction': 0.9884021132244192, 'bagging_freq': 1, 'feature_fraction': 0.9893702958089776, 'min_split_gain': 0.9871982520817552}. Best is trial 5 with value: 0.5453288103344727.\n"
          ]
        },
        {
          "output_type": "stream",
          "name": "stdout",
          "text": [
            "Training until validation scores don't improve for 200 rounds\n",
            "Training until validation scores don't improve for 200 rounds\n",
            "Did not meet early stopping. Best iteration is:\n",
            "[100]\tvalid_0's binary_logloss: 0.118755\n",
            "Training until validation scores don't improve for 200 rounds\n",
            "Did not meet early stopping. Best iteration is:\n",
            "[100]\tvalid_0's binary_logloss: 0.127644\n",
            "Training until validation scores don't improve for 200 rounds\n",
            "Did not meet early stopping. Best iteration is:\n",
            "[100]\tvalid_0's binary_logloss: 0.12425\n",
            "Training until validation scores don't improve for 200 rounds\n",
            "Did not meet early stopping. Best iteration is:\n",
            "[100]\tvalid_0's binary_logloss: 0.12347\n",
            "Training until validation scores don't improve for 200 rounds\n",
            "Did not meet early stopping. Best iteration is:\n",
            "[100]\tvalid_0's binary_logloss: 0.124054\n",
            "Training until validation scores don't improve for 200 rounds\n",
            "Did not meet early stopping. Best iteration is:\n",
            "[100]\tvalid_0's binary_logloss: 0.125921\n"
          ]
        },
        {
          "output_type": "stream",
          "name": "stderr",
          "text": [
            "[I 2024-02-20 10:33:42,072] Trial 14 finished with value: 0.38635311982221454 and parameters: {'learning_rate': 0.04644850788701856, 'num_leaves': 236, 'max_depth': 10, 'scale_pos_weight': 8.070682739273348, 'subsample': 0.733520578590586, 'colsample_bytree': 0.7834189176830938, 'lambda_l1': 6.264613202731527e-08, 'lambda_l2': 2.2786840176146173e-05, 'min_child_samples': 55, 'min_child_weight': 1.541470196105243e-05, 'bagging_fraction': 0.7650875257170182, 'bagging_freq': 1, 'feature_fraction': 0.9316663980711747, 'min_split_gain': 0.9567140742330511}. Best is trial 5 with value: 0.5453288103344727.\n"
          ]
        },
        {
          "output_type": "stream",
          "name": "stdout",
          "text": [
            "Did not meet early stopping. Best iteration is:\n",
            "[100]\tvalid_0's binary_logloss: 0.130453\n",
            "Training until validation scores don't improve for 200 rounds\n",
            "Training until validation scores don't improve for 200 rounds\n",
            "Did not meet early stopping. Best iteration is:\n",
            "[100]\tvalid_0's binary_logloss: 0.129746\n",
            "Did not meet early stopping. Best iteration is:\n",
            "[100]\tvalid_0's binary_logloss: 0.127995\n",
            "Training until validation scores don't improve for 200 rounds\n",
            "Training until validation scores don't improve for 200 rounds\n",
            "Did not meet early stopping. Best iteration is:\n",
            "[100]\tvalid_0's binary_logloss: 0.132375\n"
          ]
        },
        {
          "output_type": "stream",
          "name": "stderr",
          "text": [
            "[I 2024-02-20 10:33:54,252] Trial 15 finished with value: 0.37959132342825624 and parameters: {'learning_rate': 0.05386210020554484, 'num_leaves': 230, 'max_depth': 14, 'scale_pos_weight': 10.177328532797885, 'subsample': 0.9157234418507402, 'colsample_bytree': 0.8718536708365793, 'lambda_l1': 4.622655532632897e-07, 'lambda_l2': 8.027718222201198, 'min_child_samples': 39, 'min_child_weight': 0.00024800079585863795, 'bagging_fraction': 0.7575937239603792, 'bagging_freq': 3, 'feature_fraction': 0.9191422832455779, 'min_split_gain': 0.785891607918739}. Best is trial 5 with value: 0.5453288103344727.\n"
          ]
        },
        {
          "output_type": "stream",
          "name": "stdout",
          "text": [
            "Training until validation scores don't improve for 200 rounds\n",
            "Did not meet early stopping. Best iteration is:\n",
            "[100]\tvalid_0's binary_logloss: 0.125661\n",
            "Training until validation scores don't improve for 200 rounds\n",
            "Did not meet early stopping. Best iteration is:\n",
            "[100]\tvalid_0's binary_logloss: 0.0875546\n",
            "Training until validation scores don't improve for 200 rounds\n",
            "Did not meet early stopping. Best iteration is:\n",
            "[21]\tvalid_0's binary_logloss: 0.129453\n",
            "Training until validation scores don't improve for 200 rounds\n",
            "Did not meet early stopping. Best iteration is:\n",
            "[100]\tvalid_0's binary_logloss: 0.0874814\n",
            "Training until validation scores don't improve for 200 rounds\n",
            "Did not meet early stopping. Best iteration is:\n",
            "[15]\tvalid_0's binary_logloss: 0.128872\n",
            "Training until validation scores don't improve for 200 rounds\n",
            "Did not meet early stopping. Best iteration is:\n",
            "[100]\tvalid_0's binary_logloss: 0.0894785\n",
            "Training until validation scores don't improve for 200 rounds\n",
            "Did not meet early stopping. Best iteration is:\n",
            "[13]\tvalid_0's binary_logloss: 0.130658\n"
          ]
        },
        {
          "output_type": "stream",
          "name": "stderr",
          "text": [
            "[I 2024-02-20 10:34:13,840] Trial 16 finished with value: 0.38001072771674893 and parameters: {'learning_rate': 0.03242335530003383, 'num_leaves': 231, 'max_depth': 14, 'scale_pos_weight': 10.397064982238039, 'subsample': 0.9289374045194296, 'colsample_bytree': 0.8788934092026002, 'lambda_l1': 0.15682378100542826, 'lambda_l2': 3.579264905085399, 'min_child_samples': 38, 'min_child_weight': 0.0002005599734244871, 'bagging_fraction': 0.8976139702395624, 'bagging_freq': 3, 'feature_fraction': 0.9129876082674553, 'min_split_gain': 0.7590566207135284}. Best is trial 5 with value: 0.5453288103344727.\n"
          ]
        },
        {
          "output_type": "stream",
          "name": "stdout",
          "text": [
            "Training until validation scores don't improve for 200 rounds\n",
            "Did not meet early stopping. Best iteration is:\n",
            "[100]\tvalid_0's binary_logloss: 0.0899396\n",
            "Training until validation scores don't improve for 200 rounds\n",
            "Did not meet early stopping. Best iteration is:\n",
            "[100]\tvalid_0's binary_logloss: 0.106848\n",
            "Training until validation scores don't improve for 200 rounds\n",
            "Did not meet early stopping. Best iteration is:\n",
            "[100]\tvalid_0's binary_logloss: 0.0873094\n"
          ]
        },
        {
          "output_type": "stream",
          "name": "stderr",
          "text": [
            "[I 2024-02-20 10:34:23,008] Trial 17 finished with value: 0.5594384640022941 and parameters: {'learning_rate': 0.03458942802739992, 'num_leaves': 135, 'max_depth': 13, 'scale_pos_weight': 1.0568517123430765, 'subsample': 0.6904329873149705, 'colsample_bytree': 0.8619229202668449, 'lambda_l1': 0.3499994803650127, 'lambda_l2': 6.592926703377875e-06, 'min_child_samples': 19, 'min_child_weight': 1.7332081884112883e-05, 'bagging_fraction': 0.889309680709678, 'bagging_freq': 3, 'feature_fraction': 0.6950309071530855, 'min_split_gain': 0.7713986609972512}. Best is trial 17 with value: 0.5594384640022941.\n"
          ]
        },
        {
          "output_type": "stream",
          "name": "stdout",
          "text": [
            "Training until validation scores don't improve for 200 rounds\n",
            "Did not meet early stopping. Best iteration is:\n",
            "[100]\tvalid_0's binary_logloss: 0.107389\n",
            "Training until validation scores don't improve for 200 rounds\n",
            "Did not meet early stopping. Best iteration is:\n",
            "[34]\tvalid_0's binary_logloss: 0.130092\n",
            "Training until validation scores don't improve for 200 rounds\n",
            "Did not meet early stopping. Best iteration is:\n",
            "[100]\tvalid_0's binary_logloss: 0.106995\n",
            "Training until validation scores don't improve for 200 rounds\n",
            "Did not meet early stopping. Best iteration is:\n",
            "[31]\tvalid_0's binary_logloss: 0.129131\n",
            "Training until validation scores don't improve for 200 rounds\n",
            "Did not meet early stopping. Best iteration is:\n",
            "[100]\tvalid_0's binary_logloss: 0.108019\n",
            "Training until validation scores don't improve for 200 rounds\n",
            "Did not meet early stopping. Best iteration is:\n",
            "[29]\tvalid_0's binary_logloss: 0.131395\n",
            "Did not meet early stopping. Best iteration is:\n",
            "[100]\tvalid_0's binary_logloss: 0.105784\n",
            "Training until validation scores don't improve for 200 rounds\n"
          ]
        },
        {
          "output_type": "stream",
          "name": "stderr",
          "text": [
            "[I 2024-02-20 10:34:40,377] Trial 18 finished with value: 0.5337543795507071 and parameters: {'learning_rate': 0.010353578809573473, 'num_leaves': 139, 'max_depth': 13, 'scale_pos_weight': 1.2952823680980865, 'subsample': 0.6910859423788234, 'colsample_bytree': 0.608405186293109, 'lambda_l1': 0.6383217816875372, 'lambda_l2': 1.7048252805305066e-08, 'min_child_samples': 18, 'min_child_weight': 1.1727535570532604e-05, 'bagging_fraction': 0.6010873110577712, 'bagging_freq': 2, 'feature_fraction': 0.64116682333211, 'min_split_gain': 0.6000435046963838}. Best is trial 17 with value: 0.5594384640022941.\n"
          ]
        },
        {
          "output_type": "stream",
          "name": "stdout",
          "text": [
            "Training until validation scores don't improve for 200 rounds\n",
            "Did not meet early stopping. Best iteration is:\n",
            "[33]\tvalid_0's binary_logloss: 0.130671\n",
            "Training until validation scores don't improve for 200 rounds\n",
            "Did not meet early stopping. Best iteration is:\n",
            "[100]\tvalid_0's binary_logloss: 0.107685\n",
            "Training until validation scores don't improve for 200 rounds\n"
          ]
        },
        {
          "output_type": "stream",
          "name": "stderr",
          "text": [
            "[I 2024-02-20 10:34:51,135] Trial 19 finished with value: 0.4322565480542659 and parameters: {'learning_rate': 0.0132748396908123, 'num_leaves': 133, 'max_depth': 16, 'scale_pos_weight': 18.616487206472655, 'subsample': 0.6602810728107397, 'colsample_bytree': 0.8400248986760128, 'lambda_l1': 0.3097916515969348, 'lambda_l2': 2.9236756732316407e-08, 'min_child_samples': 17, 'min_child_weight': 1.2688453158194096e-05, 'bagging_fraction': 0.8626955578531923, 'bagging_freq': 4, 'feature_fraction': 0.701554635630653, 'min_split_gain': 0.6102423952825624}. Best is trial 17 with value: 0.5594384640022941.\n"
          ]
        },
        {
          "output_type": "stream",
          "name": "stdout",
          "text": [
            "Did not meet early stopping. Best iteration is:\n",
            "[26]\tvalid_0's binary_logloss: 0.13096\n",
            "Training until validation scores don't improve for 200 rounds\n",
            "Did not meet early stopping. Best iteration is:\n",
            "[100]\tvalid_0's binary_logloss: 0.107694\n",
            "Did not meet early stopping. Best iteration is:\n",
            "[1]\tvalid_0's binary_logloss: 0.138756\n",
            "Training until validation scores don't improve for 200 rounds\n",
            "Training until validation scores don't improve for 200 rounds\n",
            "Did not meet early stopping. Best iteration is:\n",
            "[1]\tvalid_0's binary_logloss: 0.138681\n",
            "Training until validation scores don't improve for 200 rounds\n",
            "Did not meet early stopping. Best iteration is:\n",
            "[98]\tvalid_0's binary_logloss: 0.11433\n",
            "Training until validation scores don't improve for 200 rounds\n",
            "Did not meet early stopping. Best iteration is:\n",
            "[1]\tvalid_0's binary_logloss: 0.141477\n",
            "Training until validation scores don't improve for 200 rounds\n",
            "Did not meet early stopping. Best iteration is:\n",
            "[96]\tvalid_0's binary_logloss: 0.114338\n",
            "Did not meet early stopping. Best iteration is:\n",
            "[1]\tvalid_0's binary_logloss: 0.139171\n",
            "Training until validation scores don't improve for 200 rounds\n",
            "Training until validation scores don't improve for 200 rounds\n"
          ]
        },
        {
          "output_type": "stream",
          "name": "stderr",
          "text": [
            "[I 2024-02-20 10:35:16,536] Trial 21 finished with value: 0.4335926128479305 and parameters: {'learning_rate': 0.0860528092986835, 'num_leaves': 183, 'max_depth': 9, 'scale_pos_weight': 26.367375141779537, 'subsample': 0.7835365774554703, 'colsample_bytree': 0.9218494824679625, 'lambda_l1': 5.430022494768064e-06, 'lambda_l2': 5.507897386338804e-06, 'min_child_samples': 9, 'min_child_weight': 2.9278154996850007e-05, 'bagging_fraction': 0.787135611211663, 'bagging_freq': 4, 'feature_fraction': 0.684136103852774, 'min_split_gain': 0.8406378297524494}. Best is trial 17 with value: 0.5594384640022941.\n"
          ]
        },
        {
          "output_type": "stream",
          "name": "stdout",
          "text": [
            "Did not meet early stopping. Best iteration is:\n",
            "[1]\tvalid_0's binary_logloss: 0.141099\n",
            "Training until validation scores don't improve for 200 rounds\n",
            "Did not meet early stopping. Best iteration is:\n",
            "[99]\tvalid_0's binary_logloss: 0.114291\n"
          ]
        },
        {
          "output_type": "stream",
          "name": "stderr",
          "text": [
            "[I 2024-02-20 10:35:18,797] Trial 20 finished with value: 0.4857721366312603 and parameters: {'learning_rate': 0.09996680312143746, 'num_leaves': 195, 'max_depth': 16, 'scale_pos_weight': 29.55196086775898, 'subsample': 0.7753108709022561, 'colsample_bytree': 0.840371190368477, 'lambda_l1': 0.07810244835364422, 'lambda_l2': 3.3054020282142963e-06, 'min_child_samples': 5, 'min_child_weight': 2.648667208321553e-05, 'bagging_fraction': 0.8581052368601, 'bagging_freq': 4, 'feature_fraction': 0.6943500601321204, 'min_split_gain': 0.6479972859279162}. Best is trial 17 with value: 0.5594384640022941.\n"
          ]
        },
        {
          "output_type": "stream",
          "name": "stdout",
          "text": [
            "Training until validation scores don't improve for 200 rounds\n",
            "Did not meet early stopping. Best iteration is:\n",
            "[100]\tvalid_0's binary_logloss: 0.120177\n",
            "Training until validation scores don't improve for 200 rounds\n",
            "Did not meet early stopping. Best iteration is:\n",
            "[100]\tvalid_0's binary_logloss: 0.117309\n",
            "Training until validation scores don't improve for 200 rounds\n",
            "Did not meet early stopping. Best iteration is:\n",
            "[100]\tvalid_0's binary_logloss: 0.119367\n",
            "Training until validation scores don't improve for 200 rounds\n",
            "Did not meet early stopping. Best iteration is:\n",
            "[100]\tvalid_0's binary_logloss: 0.116377\n",
            "Training until validation scores don't improve for 200 rounds\n",
            "Did not meet early stopping. Best iteration is:\n",
            "[97]\tvalid_0's binary_logloss: 0.12171\n",
            "Training until validation scores don't improve for 200 rounds\n",
            "Did not meet early stopping. Best iteration is:\n",
            "[98]\tvalid_0's binary_logloss: 0.11914\n",
            "Training until validation scores don't improve for 200 rounds\n",
            "Did not meet early stopping. Best iteration is:\n",
            "[97]\tvalid_0's binary_logloss: 0.121998\n",
            "Training until validation scores don't improve for 200 rounds\n",
            "Did not meet early stopping. Best iteration is:\n",
            "[100]\tvalid_0's binary_logloss: 0.119137\n",
            "Training until validation scores don't improve for 200 rounds\n",
            "Did not meet early stopping. Best iteration is:\n",
            "[94]\tvalid_0's binary_logloss: 0.121719\n"
          ]
        },
        {
          "output_type": "stream",
          "name": "stderr",
          "text": [
            "[I 2024-02-20 10:35:45,642] Trial 22 finished with value: 0.4201548039493236 and parameters: {'learning_rate': 0.011304244387271758, 'num_leaves': 126, 'max_depth': 13, 'scale_pos_weight': 7.795482142473952, 'subsample': 0.6910819389605062, 'colsample_bytree': 0.7420549603648791, 'lambda_l1': 0.6510397760228114, 'lambda_l2': 1.4510515010450752e-07, 'min_child_samples': 24, 'min_child_weight': 1.0749683506411853e-05, 'bagging_fraction': 0.6021622206024557, 'bagging_freq': 2, 'feature_fraction': 0.6067668283298652, 'min_split_gain': 0.6508215836554604}. Best is trial 17 with value: 0.5594384640022941.\n"
          ]
        },
        {
          "output_type": "stream",
          "name": "stdout",
          "text": [
            "Training until validation scores don't improve for 200 rounds\n",
            "Did not meet early stopping. Best iteration is:\n",
            "[94]\tvalid_0's binary_logloss: 0.119062\n"
          ]
        },
        {
          "output_type": "stream",
          "name": "stderr",
          "text": [
            "[I 2024-02-20 10:35:47,971] Trial 23 finished with value: 0.4336579467072054 and parameters: {'learning_rate': 0.01027290649143732, 'num_leaves': 136, 'max_depth': 13, 'scale_pos_weight': 7.055486912999969, 'subsample': 0.6848070675929218, 'colsample_bytree': 0.7461107526213351, 'lambda_l1': 1.0298854153726298, 'lambda_l2': 1.1612125827752833e-07, 'min_child_samples': 25, 'min_child_weight': 8.14974167689756e-05, 'bagging_fraction': 0.6195308581283295, 'bagging_freq': 2, 'feature_fraction': 0.6414571725036863, 'min_split_gain': 0.8470737186182171}. Best is trial 17 with value: 0.5594384640022941.\n"
          ]
        },
        {
          "output_type": "stream",
          "name": "stdout",
          "text": [
            "Training until validation scores don't improve for 200 rounds\n",
            "Did not meet early stopping. Best iteration is:\n",
            "[100]\tvalid_0's binary_logloss: 0.10219\n",
            "Training until validation scores don't improve for 200 rounds\n",
            "Did not meet early stopping. Best iteration is:\n",
            "[100]\tvalid_0's binary_logloss: 0.0914314\n",
            "Training until validation scores don't improve for 200 rounds\n",
            "Did not meet early stopping. Best iteration is:\n",
            "[100]\tvalid_0's binary_logloss: 0.100375\n",
            "Training until validation scores don't improve for 200 rounds\n",
            "Did not meet early stopping. Best iteration is:\n",
            "[100]\tvalid_0's binary_logloss: 0.0905295\n",
            "Training until validation scores don't improve for 200 rounds\n",
            "Did not meet early stopping. Best iteration is:\n",
            "[100]\tvalid_0's binary_logloss: 0.105065\n",
            "Training until validation scores don't improve for 200 rounds\n",
            "Did not meet early stopping. Best iteration is:\n",
            "[100]\tvalid_0's binary_logloss: 0.0925434\n",
            "Training until validation scores don't improve for 200 rounds\n",
            "Did not meet early stopping. Best iteration is:\n",
            "[100]\tvalid_0's binary_logloss: 0.105953\n",
            "Training until validation scores don't improve for 200 rounds\n",
            "Did not meet early stopping. Best iteration is:\n",
            "[100]\tvalid_0's binary_logloss: 0.0935021\n",
            "Training until validation scores don't improve for 200 rounds\n",
            "Did not meet early stopping. Best iteration is:\n",
            "[100]\tvalid_0's binary_logloss: 0.105149\n"
          ]
        },
        {
          "output_type": "stream",
          "name": "stderr",
          "text": [
            "[I 2024-02-20 10:36:12,663] Trial 24 finished with value: 0.4487978326464921 and parameters: {'learning_rate': 0.03150322581567262, 'num_leaves': 141, 'max_depth': 13, 'scale_pos_weight': 4.598587810489885, 'subsample': 0.7002910671702866, 'colsample_bytree': 0.9072459125513725, 'lambda_l1': 0.9226646594631005, 'lambda_l2': 1.1219367560063415e-08, 'min_child_samples': 25, 'min_child_weight': 8.393528177906512e-05, 'bagging_fraction': 0.601660740506438, 'bagging_freq': 2, 'feature_fraction': 0.643717622018389, 'min_split_gain': 0.826916854406535}. Best is trial 17 with value: 0.5594384640022941.\n"
          ]
        },
        {
          "output_type": "stream",
          "name": "stdout",
          "text": [
            "Training until validation scores don't improve for 200 rounds\n",
            "Did not meet early stopping. Best iteration is:\n",
            "[100]\tvalid_0's binary_logloss: 0.0910308\n"
          ]
        },
        {
          "output_type": "stream",
          "name": "stderr",
          "text": [
            "[I 2024-02-20 10:36:14,705] Trial 25 finished with value: 0.5473639397441553 and parameters: {'learning_rate': 0.02939433179765484, 'num_leaves': 152, 'max_depth': 13, 'scale_pos_weight': 1.097442736558361, 'subsample': 0.8352161362338095, 'colsample_bytree': 0.9062895547708958, 'lambda_l1': 1.8529865772869685, 'lambda_l2': 0.0010326977552521522, 'min_child_samples': 22, 'min_child_weight': 2.822148459768172e-05, 'bagging_fraction': 0.915504705127833, 'bagging_freq': 2, 'feature_fraction': 0.7305496983210447, 'min_split_gain': 0.5547271493045705}. Best is trial 17 with value: 0.5594384640022941.\n"
          ]
        },
        {
          "output_type": "stream",
          "name": "stdout",
          "text": [
            "Training until validation scores don't improve for 200 rounds\n",
            "Did not meet early stopping. Best iteration is:\n",
            "[100]\tvalid_0's binary_logloss: 0.087261\n",
            "Training until validation scores don't improve for 200 rounds\n",
            "Did not meet early stopping. Best iteration is:\n",
            "[12]\tvalid_0's binary_logloss: 0.13696\n",
            "Training until validation scores don't improve for 200 rounds\n",
            "Did not meet early stopping. Best iteration is:\n",
            "[13]\tvalid_0's binary_logloss: 0.135528\n",
            "Did not meet early stopping. Best iteration is:\n",
            "[100]\tvalid_0's binary_logloss: 0.0876234\n",
            "Training until validation scores don't improve for 200 rounds\n",
            "Training until validation scores don't improve for 200 rounds\n",
            "Did not meet early stopping. Best iteration is:\n",
            "[11]\tvalid_0's binary_logloss: 0.137085\n",
            "Training until validation scores don't improve for 200 rounds\n",
            "Did not meet early stopping. Best iteration is:\n",
            "[100]\tvalid_0's binary_logloss: 0.0895785\n",
            "Training until validation scores don't improve for 200 rounds\n",
            "Did not meet early stopping. Best iteration is:\n",
            "[12]\tvalid_0's binary_logloss: 0.137406\n",
            "Training until validation scores don't improve for 200 rounds\n"
          ]
        },
        {
          "output_type": "stream",
          "name": "stderr",
          "text": [
            "[I 2024-02-20 10:36:32,728] Trial 27 finished with value: 0.43305674776431224 and parameters: {'learning_rate': 0.029773941028853182, 'num_leaves': 34, 'max_depth': 11, 'scale_pos_weight': 11.223837816787633, 'subsample': 0.8271730464810835, 'colsample_bytree': 0.9951369971234441, 'lambda_l1': 0.0345747945336195, 'lambda_l2': 0.0010923519163099928, 'min_child_samples': 46, 'min_child_weight': 3.5268333710401924e-05, 'bagging_fraction': 0.936494576125403, 'bagging_freq': 3, 'feature_fraction': 0.7376991662123864, 'min_split_gain': 0.6873689108255674}. Best is trial 17 with value: 0.5594384640022941.\n"
          ]
        },
        {
          "output_type": "stream",
          "name": "stdout",
          "text": [
            "Did not meet early stopping. Best iteration is:\n",
            "[12]\tvalid_0's binary_logloss: 0.137477\n",
            "Did not meet early stopping. Best iteration is:\n",
            "[100]\tvalid_0's binary_logloss: 0.0902749\n",
            "Training until validation scores don't improve for 200 rounds\n",
            "Training until validation scores don't improve for 200 rounds\n",
            "Did not meet early stopping. Best iteration is:\n",
            "[100]\tvalid_0's binary_logloss: 0.0885266\n"
          ]
        },
        {
          "output_type": "stream",
          "name": "stderr",
          "text": [
            "[I 2024-02-20 10:36:41,003] Trial 26 finished with value: 0.5557214548409055 and parameters: {'learning_rate': 0.033117655791508896, 'num_leaves': 106, 'max_depth': 11, 'scale_pos_weight': 1.122101471666363, 'subsample': 0.850554079123392, 'colsample_bytree': 0.84752867050694, 'lambda_l1': 0.04858735491749537, 'lambda_l2': 0.0006607136038584759, 'min_child_samples': 17, 'min_child_weight': 2.4867920396903756e-05, 'bagging_fraction': 0.9177527532260801, 'bagging_freq': 3, 'feature_fraction': 0.7415594139118215, 'min_split_gain': 0.5476957091876227}. Best is trial 17 with value: 0.5594384640022941.\n"
          ]
        },
        {
          "output_type": "stream",
          "name": "stdout",
          "text": [
            "Did not meet early stopping. Best iteration is:\n",
            "[100]\tvalid_0's binary_logloss: 0.112754\n",
            "Training until validation scores don't improve for 200 rounds\n",
            "Training until validation scores don't improve for 200 rounds\n",
            "Did not meet early stopping. Best iteration is:\n",
            "[100]\tvalid_0's binary_logloss: 0.11331\n",
            "Did not meet early stopping. Best iteration is:\n",
            "[100]\tvalid_0's binary_logloss: 0.109981\n",
            "Training until validation scores don't improve for 200 rounds\n",
            "Training until validation scores don't improve for 200 rounds\n",
            "Did not meet early stopping. Best iteration is:\n",
            "[100]\tvalid_0's binary_logloss: 0.110992\n",
            "Training until validation scores don't improve for 200 rounds\n",
            "Did not meet early stopping. Best iteration is:\n",
            "[100]\tvalid_0's binary_logloss: 0.114867\n",
            "Training until validation scores don't improve for 200 rounds\n",
            "Did not meet early stopping. Best iteration is:\n",
            "[100]\tvalid_0's binary_logloss: 0.115954\n",
            "Training until validation scores don't improve for 200 rounds\n",
            "Did not meet early stopping. Best iteration is:\n",
            "[100]\tvalid_0's binary_logloss: 0.116153\n",
            "Training until validation scores don't improve for 200 rounds\n",
            "Did not meet early stopping. Best iteration is:\n",
            "[100]\tvalid_0's binary_logloss: 0.117536\n",
            "Training until validation scores don't improve for 200 rounds\n",
            "Did not meet early stopping. Best iteration is:\n",
            "[100]\tvalid_0's binary_logloss: 0.115792\n"
          ]
        },
        {
          "output_type": "stream",
          "name": "stderr",
          "text": [
            "[I 2024-02-20 10:37:13,813] Trial 28 finished with value: 0.4110741700153806 and parameters: {'learning_rate': 0.038236609681284464, 'num_leaves': 159, 'max_depth': 14, 'scale_pos_weight': 6.369033175094216, 'subsample': 0.8953162466115026, 'colsample_bytree': 0.9055913799611698, 'lambda_l1': 2.153601136744003, 'lambda_l2': 0.00012256374427127692, 'min_child_samples': 65, 'min_child_weight': 0.0007046147049011001, 'bagging_fraction': 0.9127416716760125, 'bagging_freq': 5, 'feature_fraction': 0.8516862943104002, 'min_split_gain': 0.5044866154465407}. Best is trial 17 with value: 0.5594384640022941.\n"
          ]
        },
        {
          "output_type": "stream",
          "name": "stdout",
          "text": [
            "Training until validation scores don't improve for 200 rounds\n",
            "Did not meet early stopping. Best iteration is:\n",
            "[100]\tvalid_0's binary_logloss: 0.117157\n"
          ]
        },
        {
          "output_type": "stream",
          "name": "stderr",
          "text": [
            "[I 2024-02-20 10:37:16,088] Trial 29 finished with value: 0.4036957240266842 and parameters: {'learning_rate': 0.03564715660902137, 'num_leaves': 108, 'max_depth': 10, 'scale_pos_weight': 6.048267257598768, 'subsample': 0.8937444506649133, 'colsample_bytree': 0.8431914170932311, 'lambda_l1': 0.045710978474724474, 'lambda_l2': 0.004659310486914529, 'min_child_samples': 29, 'min_child_weight': 0.0001263085703876773, 'bagging_fraction': 0.9228550412850521, 'bagging_freq': 5, 'feature_fraction': 0.7217453647667645, 'min_split_gain': 0.503966369222321}. Best is trial 17 with value: 0.5594384640022941.\n"
          ]
        },
        {
          "output_type": "stream",
          "name": "stdout",
          "text": [
            "Training until validation scores don't improve for 200 rounds\n",
            "Did not meet early stopping. Best iteration is:\n",
            "[23]\tvalid_0's binary_logloss: 0.129983\n",
            "Training until validation scores don't improve for 200 rounds\n",
            "Did not meet early stopping. Best iteration is:\n",
            "[18]\tvalid_0's binary_logloss: 0.134315\n",
            "Training until validation scores don't improve for 200 rounds\n",
            "Did not meet early stopping. Best iteration is:\n",
            "[23]\tvalid_0's binary_logloss: 0.129513\n",
            "Did not meet early stopping. Best iteration is:\n",
            "[18]\tvalid_0's binary_logloss: 0.132914\n",
            "Training until validation scores don't improve for 200 rounds\n",
            "Training until validation scores don't improve for 200 rounds\n",
            "Did not meet early stopping. Best iteration is:\n",
            "[16]\tvalid_0's binary_logloss: 0.134856\n",
            "Did not meet early stopping. Best iteration is:\n",
            "[18]\tvalid_0's binary_logloss: 0.13138\n",
            "Training until validation scores don't improve for 200 rounds\n",
            "Training until validation scores don't improve for 200 rounds\n",
            "Did not meet early stopping. Best iteration is:\n",
            "[18]\tvalid_0's binary_logloss: 0.135293\n",
            "Did not meet early stopping. Best iteration is:\n",
            "[18]\tvalid_0's binary_logloss: 0.131153\n",
            "Training until validation scores don't improve for 200 rounds\n",
            "Training until validation scores don't improve for 200 rounds\n"
          ]
        },
        {
          "output_type": "stream",
          "name": "stderr",
          "text": [
            "[I 2024-02-20 10:37:41,972] Trial 31 finished with value: 0.41650063894741285 and parameters: {'learning_rate': 0.022655531554895594, 'num_leaves': 82, 'max_depth': 9, 'scale_pos_weight': 13.866528766076017, 'subsample': 0.8658548057639333, 'colsample_bytree': 0.8307596277154985, 'lambda_l1': 0.000977488005976074, 'lambda_l2': 0.00029136425533300345, 'min_child_samples': 11, 'min_child_weight': 2.132169730298299e-05, 'bagging_fraction': 0.9636356884646828, 'bagging_freq': 8, 'feature_fraction': 0.6767083544591325, 'min_split_gain': 0.417054368236741}. Best is trial 17 with value: 0.5594384640022941.\n"
          ]
        },
        {
          "output_type": "stream",
          "name": "stdout",
          "text": [
            "Did not meet early stopping. Best iteration is:\n",
            "[16]\tvalid_0's binary_logloss: 0.135555\n",
            "Training until validation scores don't improve for 200 rounds\n"
          ]
        },
        {
          "output_type": "stream",
          "name": "stderr",
          "text": [
            "[I 2024-02-20 10:37:42,920] Trial 30 finished with value: 0.4254430612423571 and parameters: {'learning_rate': 0.021142155693781736, 'num_leaves': 109, 'max_depth': 10, 'scale_pos_weight': 13.297885920085408, 'subsample': 0.8649845045410528, 'colsample_bytree': 0.8468907154447871, 'lambda_l1': 0.049257501672412496, 'lambda_l2': 0.0015841471749778167, 'min_child_samples': 33, 'min_child_weight': 0.0001353548087040174, 'bagging_fraction': 0.923475954623698, 'bagging_freq': 8, 'feature_fraction': 0.7297730570946067, 'min_split_gain': 0.4345652872499416}. Best is trial 17 with value: 0.5594384640022941.\n"
          ]
        },
        {
          "output_type": "stream",
          "name": "stdout",
          "text": [
            "Did not meet early stopping. Best iteration is:\n",
            "[19]\tvalid_0's binary_logloss: 0.131902\n",
            "Training until validation scores don't improve for 200 rounds\n",
            "Did not meet early stopping. Best iteration is:\n",
            "[100]\tvalid_0's binary_logloss: 0.105095\n",
            "Did not meet early stopping. Best iteration is:\n",
            "[100]\tvalid_0's binary_logloss: 0.0933379\n",
            "Training until validation scores don't improve for 200 rounds\n",
            "Training until validation scores don't improve for 200 rounds\n",
            "Did not meet early stopping. Best iteration is:\n",
            "[100]\tvalid_0's binary_logloss: 0.102771\n",
            "Did not meet early stopping. Best iteration is:\n",
            "[100]\tvalid_0's binary_logloss: 0.0917709\n",
            "Training until validation scores don't improve for 200 rounds\n",
            "Training until validation scores don't improve for 200 rounds\n",
            "Did not meet early stopping. Best iteration is:\n",
            "[100]\tvalid_0's binary_logloss: 0.107784\n",
            "Did not meet early stopping. Best iteration is:\n",
            "[100]\tvalid_0's binary_logloss: 0.0948366\n",
            "Training until validation scores don't improve for 200 rounds\n",
            "Training until validation scores don't improve for 200 rounds\n",
            "Did not meet early stopping. Best iteration is:\n",
            "[100]\tvalid_0's binary_logloss: 0.107924\n",
            "Did not meet early stopping. Best iteration is:\n",
            "[100]\tvalid_0's binary_logloss: 0.0952884\n",
            "Training until validation scores don't improve for 200 rounds\n",
            "Training until validation scores don't improve for 200 rounds\n",
            "Did not meet early stopping. Best iteration is:\n",
            "[100]\tvalid_0's binary_logloss: 0.0936135\n",
            "Did not meet early stopping. Best iteration is:\n",
            "[99]\tvalid_0's binary_logloss: 0.108798\n"
          ]
        },
        {
          "output_type": "stream",
          "name": "stderr",
          "text": [
            "[I 2024-02-20 10:38:14,473] Trial 33 finished with value: 0.5171540234997217 and parameters: {'learning_rate': 0.026684664040589355, 'num_leaves': 204, 'max_depth': 11, 'scale_pos_weight': 1.3811966578649029, 'subsample': 0.8193948685981934, 'colsample_bytree': 0.9258656289485284, 'lambda_l1': 2.5386093816065687, 'lambda_l2': 7.829292551052945e-06, 'min_child_samples': 18, 'min_child_weight': 0.008160121394196848, 'bagging_fraction': 0.8808556323575392, 'bagging_freq': 3, 'feature_fraction': 0.7643099779993838, 'min_split_gain': 0.5696404625722145}. Best is trial 17 with value: 0.5594384640022941.\n",
            "[I 2024-02-20 10:38:14,627] Trial 32 finished with value: 0.4310234793207915 and parameters: {'learning_rate': 0.026996007396425704, 'num_leaves': 208, 'max_depth': 11, 'scale_pos_weight': 4.034170253735946, 'subsample': 0.8312349868862564, 'colsample_bytree': 0.8886631305077899, 'lambda_l1': 2.571294326249432, 'lambda_l2': 0.0012030696828729086, 'min_child_samples': 34, 'min_child_weight': 4.3927977781511704e-05, 'bagging_fraction': 0.8686265133771204, 'bagging_freq': 3, 'feature_fraction': 0.7711557271556778, 'min_split_gain': 0.5935920851152028}. Best is trial 17 with value: 0.5594384640022941.\n"
          ]
        },
        {
          "output_type": "stream",
          "name": "stdout",
          "text": [
            "Training until validation scores don't improve for 200 rounds\n",
            "Training until validation scores don't improve for 200 rounds\n",
            "Did not meet early stopping. Best iteration is:\n",
            "[100]\tvalid_0's binary_logloss: 0.0945654\n",
            "Did not meet early stopping. Best iteration is:\n",
            "[100]\tvalid_0's binary_logloss: 0.103712\n",
            "Training until validation scores don't improve for 200 rounds\n",
            "Training until validation scores don't improve for 200 rounds\n",
            "Did not meet early stopping. Best iteration is:\n",
            "[100]\tvalid_0's binary_logloss: 0.0933074\n",
            "Training until validation scores don't improve for 200 rounds\n",
            "Did not meet early stopping. Best iteration is:\n",
            "[100]\tvalid_0's binary_logloss: 0.103475\n",
            "Training until validation scores don't improve for 200 rounds\n",
            "Did not meet early stopping. Best iteration is:\n",
            "[100]\tvalid_0's binary_logloss: 0.0965809\n",
            "Training until validation scores don't improve for 200 rounds\n",
            "Did not meet early stopping. Best iteration is:\n",
            "[100]\tvalid_0's binary_logloss: 0.109743\n",
            "Training until validation scores don't improve for 200 rounds\n",
            "Did not meet early stopping. Best iteration is:\n",
            "[100]\tvalid_0's binary_logloss: 0.0975898\n",
            "Training until validation scores don't improve for 200 rounds\n",
            "Did not meet early stopping. Best iteration is:\n",
            "[100]\tvalid_0's binary_logloss: 0.109489\n",
            "Training until validation scores don't improve for 200 rounds\n",
            "Did not meet early stopping. Best iteration is:\n",
            "[100]\tvalid_0's binary_logloss: 0.0982241\n"
          ]
        },
        {
          "output_type": "stream",
          "name": "stderr",
          "text": [
            "[I 2024-02-20 10:38:53,024] Trial 34 finished with value: 0.47702982522962956 and parameters: {'learning_rate': 0.05689853789389533, 'num_leaves': 155, 'max_depth': 12, 'scale_pos_weight': 4.208061783097747, 'subsample': 0.7604771528514851, 'colsample_bytree': 0.8904469385292137, 'lambda_l1': 0.11422052695885172, 'lambda_l2': 0.017121443714505264, 'min_child_samples': 46, 'min_child_weight': 4.708215498131336e-05, 'bagging_fraction': 0.8316250510032696, 'bagging_freq': 2, 'feature_fraction': 0.8543599154536522, 'min_split_gain': 0.7224240686282192}. Best is trial 17 with value: 0.5594384640022941.\n"
          ]
        },
        {
          "output_type": "stream",
          "name": "stdout",
          "text": [
            "Training until validation scores don't improve for 200 rounds\n",
            "Did not meet early stopping. Best iteration is:\n",
            "[100]\tvalid_0's binary_logloss: 0.107631\n"
          ]
        },
        {
          "output_type": "stream",
          "name": "stderr",
          "text": [
            "[I 2024-02-20 10:38:55,840] Trial 35 finished with value: 0.4407865233779166 and parameters: {'learning_rate': 0.056318054877022725, 'num_leaves': 158, 'max_depth': 12, 'scale_pos_weight': 9.28853492023806, 'subsample': 0.7619762255445311, 'colsample_bytree': 0.9359126897067783, 'lambda_l1': 0.15960632732251628, 'lambda_l2': 0.01664807474521449, 'min_child_samples': 5, 'min_child_weight': 2.1590393319852756e-05, 'bagging_fraction': 0.8156181058752804, 'bagging_freq': 2, 'feature_fraction': 0.8465728431106477, 'min_split_gain': 0.899642931994724}. Best is trial 17 with value: 0.5594384640022941.\n"
          ]
        },
        {
          "output_type": "stream",
          "name": "stdout",
          "text": [
            "Training until validation scores don't improve for 200 rounds\n",
            "Did not meet early stopping. Best iteration is:\n",
            "[100]\tvalid_0's binary_logloss: 0.112665\n",
            "Training until validation scores don't improve for 200 rounds\n",
            "Did not meet early stopping. Best iteration is:\n",
            "[100]\tvalid_0's binary_logloss: 0.136959\n",
            "Training until validation scores don't improve for 200 rounds\n",
            "Did not meet early stopping. Best iteration is:\n",
            "[100]\tvalid_0's binary_logloss: 0.110638\n",
            "Training until validation scores don't improve for 200 rounds\n",
            "Did not meet early stopping. Best iteration is:\n",
            "[2]\tvalid_0's binary_logloss: 0.139137\n",
            "Training until validation scores don't improve for 200 rounds\n",
            "Did not meet early stopping. Best iteration is:\n",
            "[100]\tvalid_0's binary_logloss: 0.114838\n",
            "Training until validation scores don't improve for 200 rounds\n",
            "Did not meet early stopping. Best iteration is:\n",
            "[2]\tvalid_0's binary_logloss: 0.140263\n",
            "Training until validation scores don't improve for 200 rounds\n",
            "Did not meet early stopping. Best iteration is:\n",
            "[100]\tvalid_0's binary_logloss: 0.118576\n",
            "Training until validation scores don't improve for 200 rounds\n",
            "Did not meet early stopping. Best iteration is:\n",
            "[2]\tvalid_0's binary_logloss: 0.139341\n",
            "Training until validation scores don't improve for 200 rounds\n",
            "Did not meet early stopping. Best iteration is:\n",
            "[100]\tvalid_0's binary_logloss: 0.117984\n"
          ]
        },
        {
          "output_type": "stream",
          "name": "stderr",
          "text": [
            "[I 2024-02-20 10:39:28,798] Trial 36 finished with value: 0.41328104880146155 and parameters: {'learning_rate': 0.04004361951812967, 'num_leaves': 179, 'max_depth': 14, 'scale_pos_weight': 9.343592886367109, 'subsample': 0.808536846332546, 'colsample_bytree': 0.944492632633073, 'lambda_l1': 0.24970317165902323, 'lambda_l2': 0.00013752517128755987, 'min_child_samples': 47, 'min_child_weight': 2.0011362144350026e-05, 'bagging_fraction': 0.7986930077859391, 'bagging_freq': 4, 'feature_fraction': 0.7944403325992035, 'min_split_gain': 0.17992925403396776}. Best is trial 17 with value: 0.5594384640022941.\n"
          ]
        },
        {
          "output_type": "stream",
          "name": "stdout",
          "text": [
            "Training until validation scores don't improve for 200 rounds\n"
          ]
        },
        {
          "output_type": "stream",
          "name": "stderr",
          "text": [
            "[I 2024-02-20 10:39:31,388] Trial 37 finished with value: 0.38808105984756625 and parameters: {'learning_rate': 0.07698568034458969, 'num_leaves': 179, 'max_depth': 14, 'scale_pos_weight': 49.42867893357709, 'subsample': 0.8039440920708123, 'colsample_bytree': 0.8143723459833171, 'lambda_l1': 0.3461983798017726, 'lambda_l2': 0.00014640179132790828, 'min_child_samples': 44, 'min_child_weight': 0.0005570800669551791, 'bagging_fraction': 0.8475763886282431, 'bagging_freq': 5, 'feature_fraction': 0.7920440802843827, 'min_split_gain': 0.21240093143648453}. Best is trial 17 with value: 0.5594384640022941.\n"
          ]
        },
        {
          "output_type": "stream",
          "name": "stdout",
          "text": [
            "Did not meet early stopping. Best iteration is:\n",
            "[2]\tvalid_0's binary_logloss: 0.140809\n",
            "Training until validation scores don't improve for 200 rounds\n",
            "Did not meet early stopping. Best iteration is:\n",
            "[2]\tvalid_0's binary_logloss: 0.137562\n",
            "Training until validation scores don't improve for 200 rounds\n",
            "Did not meet early stopping. Best iteration is:\n",
            "[24]\tvalid_0's binary_logloss: 0.133723\n",
            "Training until validation scores don't improve for 200 rounds\n",
            "Did not meet early stopping. Best iteration is:\n",
            "[100]\tvalid_0's binary_logloss: 0.133174\n",
            "Training until validation scores don't improve for 200 rounds\n",
            "Did not meet early stopping. Best iteration is:\n",
            "[22]\tvalid_0's binary_logloss: 0.133007\n",
            "Training until validation scores don't improve for 200 rounds\n",
            "Did not meet early stopping. Best iteration is:\n",
            "[2]\tvalid_0's binary_logloss: 0.138138\n",
            "Training until validation scores don't improve for 200 rounds\n",
            "Did not meet early stopping. Best iteration is:\n",
            "[21]\tvalid_0's binary_logloss: 0.133912\n",
            "Training until validation scores don't improve for 200 rounds\n",
            "Did not meet early stopping. Best iteration is:\n",
            "[2]\tvalid_0's binary_logloss: 0.137962\n",
            "Training until validation scores don't improve for 200 rounds\n",
            "Did not meet early stopping. Best iteration is:\n",
            "[23]\tvalid_0's binary_logloss: 0.133981\n",
            "Training until validation scores don't improve for 200 rounds\n"
          ]
        },
        {
          "output_type": "stream",
          "name": "stderr",
          "text": [
            "[I 2024-02-20 10:39:57,937] Trial 38 finished with value: 0.3948463663324038 and parameters: {'learning_rate': 0.08347235595690372, 'num_leaves': 66, 'max_depth': 15, 'scale_pos_weight': 18.49033148859694, 'subsample': 0.9465121110721486, 'colsample_bytree': 0.811153902117813, 'lambda_l1': 9.458411980915125e-05, 'lambda_l2': 0.07524207697079446, 'min_child_samples': 20, 'min_child_weight': 0.0006014160366452434, 'bagging_fraction': 0.8515765599396072, 'bagging_freq': 6, 'feature_fraction': 0.7477868836670274, 'min_split_gain': 0.37688560141699246}. Best is trial 17 with value: 0.5594384640022941.\n"
          ]
        },
        {
          "output_type": "stream",
          "name": "stdout",
          "text": [
            "Did not meet early stopping. Best iteration is:\n",
            "[2]\tvalid_0's binary_logloss: 0.138051\n",
            "Training until validation scores don't improve for 200 rounds\n",
            "Did not meet early stopping. Best iteration is:\n",
            "[19]\tvalid_0's binary_logloss: 0.134715\n"
          ]
        },
        {
          "output_type": "stream",
          "name": "stderr",
          "text": [
            "[I 2024-02-20 10:40:05,456] Trial 39 finished with value: 0.415378004371996 and parameters: {'learning_rate': 0.016506409503313255, 'num_leaves': 93, 'max_depth': 13, 'scale_pos_weight': 18.639078273855546, 'subsample': 0.8584069693914779, 'colsample_bytree': 0.8697930304476897, 'lambda_l1': 0.014751297180323412, 'lambda_l2': 6.90946072800631e-07, 'min_child_samples': 22, 'min_child_weight': 0.037048481018483424, 'bagging_fraction': 0.9515476741365204, 'bagging_freq': 7, 'feature_fraction': 0.7553828943186417, 'min_split_gain': 0.3546050323361822}. Best is trial 17 with value: 0.5594384640022941.\n"
          ]
        },
        {
          "output_type": "stream",
          "name": "stdout",
          "text": [
            "Training until validation scores don't improve for 200 rounds\n",
            "Did not meet early stopping. Best iteration is:\n",
            "[15]\tvalid_0's binary_logloss: 0.137706\n",
            "Training until validation scores don't improve for 200 rounds\n",
            "Did not meet early stopping. Best iteration is:\n",
            "[2]\tvalid_0's binary_logloss: 0.147789\n",
            "Training until validation scores don't improve for 200 rounds\n",
            "Did not meet early stopping. Best iteration is:\n",
            "[16]\tvalid_0's binary_logloss: 0.137803\n",
            "Training until validation scores don't improve for 200 rounds\n",
            "Did not meet early stopping. Best iteration is:\n",
            "[2]\tvalid_0's binary_logloss: 0.14747\n",
            "Training until validation scores don't improve for 200 rounds\n",
            "Did not meet early stopping. Best iteration is:\n",
            "[14]\tvalid_0's binary_logloss: 0.13893\n",
            "Training until validation scores don't improve for 200 rounds\n",
            "Did not meet early stopping. Best iteration is:\n",
            "[2]\tvalid_0's binary_logloss: 0.148247\n",
            "Training until validation scores don't improve for 200 rounds\n",
            "Did not meet early stopping. Best iteration is:\n",
            "[15]\tvalid_0's binary_logloss: 0.138324\n",
            "Training until validation scores don't improve for 200 rounds\n",
            "Did not meet early stopping. Best iteration is:\n",
            "[2]\tvalid_0's binary_logloss: 0.148044\n",
            "Training until validation scores don't improve for 200 rounds\n"
          ]
        },
        {
          "output_type": "stream",
          "name": "stderr",
          "text": [
            "[I 2024-02-20 10:40:36,906] Trial 40 finished with value: 0.3985926507539957 and parameters: {'learning_rate': 0.01703064973917466, 'num_leaves': 97, 'max_depth': 13, 'scale_pos_weight': 35.95396565331948, 'subsample': 0.855794325746111, 'colsample_bytree': 0.7785836613738015, 'lambda_l1': 0.015035940910156283, 'lambda_l2': 5.306898668772131e-07, 'min_child_samples': 12, 'min_child_weight': 6.983475820390122e-05, 'bagging_fraction': 0.9686495466833028, 'bagging_freq': 1, 'feature_fraction': 0.884296800191896, 'min_split_gain': 0.5319174112032735}. Best is trial 17 with value: 0.5594384640022941.\n"
          ]
        },
        {
          "output_type": "stream",
          "name": "stdout",
          "text": [
            "Did not meet early stopping. Best iteration is:\n",
            "[14]\tvalid_0's binary_logloss: 0.139409\n"
          ]
        },
        {
          "output_type": "stream",
          "name": "stderr",
          "text": [
            "[I 2024-02-20 10:40:37,667] Trial 41 finished with value: 0.4244103633699103 and parameters: {'learning_rate': 0.0724244905954667, 'num_leaves': 120, 'max_depth': 11, 'scale_pos_weight': 33.56303514078765, 'subsample': 0.881427790651311, 'colsample_bytree': 0.7777896072423988, 'lambda_l1': 0.002351508286476467, 'lambda_l2': 1.95626071086664e-06, 'min_child_samples': 64, 'min_child_weight': 7.147539836429963e-05, 'bagging_fraction': 0.9868783129663845, 'bagging_freq': 1, 'feature_fraction': 0.6700362894870364, 'min_split_gain': 0.5400544146941204}. Best is trial 17 with value: 0.5594384640022941.\n"
          ]
        },
        {
          "output_type": "stream",
          "name": "stdout",
          "text": [
            "Did not meet early stopping. Best iteration is:\n",
            "[2]\tvalid_0's binary_logloss: 0.148102\n",
            "Training until validation scores don't improve for 200 rounds\n",
            "Training until validation scores don't improve for 200 rounds\n",
            "Did not meet early stopping. Best iteration is:\n",
            "[100]\tvalid_0's binary_logloss: 0.0939235\n",
            "Did not meet early stopping. Best iteration is:\n",
            "[100]\tvalid_0's binary_logloss: 0.101413\n",
            "Training until validation scores don't improve for 200 rounds\n",
            "Training until validation scores don't improve for 200 rounds\n",
            "Did not meet early stopping. Best iteration is:\n",
            "[100]\tvalid_0's binary_logloss: 0.0932694\n",
            "Training until validation scores don't improve for 200 rounds\n",
            "Did not meet early stopping. Best iteration is:\n",
            "[100]\tvalid_0's binary_logloss: 0.100455\n",
            "Training until validation scores don't improve for 200 rounds\n",
            "Did not meet early stopping. Best iteration is:\n",
            "[100]\tvalid_0's binary_logloss: 0.0952461\n",
            "Training until validation scores don't improve for 200 rounds\n",
            "Did not meet early stopping. Best iteration is:\n",
            "[100]\tvalid_0's binary_logloss: 0.105286\n",
            "Training until validation scores don't improve for 200 rounds\n",
            "Did not meet early stopping. Best iteration is:\n",
            "[100]\tvalid_0's binary_logloss: 0.0953187\n",
            "Training until validation scores don't improve for 200 rounds\n",
            "Did not meet early stopping. Best iteration is:\n",
            "[100]\tvalid_0's binary_logloss: 0.104418\n",
            "Training until validation scores don't improve for 200 rounds\n",
            "Did not meet early stopping. Best iteration is:\n",
            "[100]\tvalid_0's binary_logloss: 0.0931079\n"
          ]
        },
        {
          "output_type": "stream",
          "name": "stderr",
          "text": [
            "[I 2024-02-20 10:41:19,036] Trial 42 finished with value: 0.531205173573644 and parameters: {'learning_rate': 0.02385199559717029, 'num_leaves': 119, 'max_depth': 13, 'scale_pos_weight': 1.3460525885567058, 'subsample': 0.6555527803461952, 'colsample_bytree': 0.8592348043922582, 'lambda_l1': 1.5125135668485965, 'lambda_l2': 0.003181542796764161, 'min_child_samples': 16, 'min_child_weight': 1.0215257783258767e-05, 'bagging_fraction': 0.697098388085645, 'bagging_freq': 2, 'feature_fraction': 0.6683385846323842, 'min_split_gain': 0.4683243284495856}. Best is trial 17 with value: 0.5594384640022941.\n"
          ]
        },
        {
          "output_type": "stream",
          "name": "stdout",
          "text": [
            "Training until validation scores don't improve for 200 rounds\n",
            "Did not meet early stopping. Best iteration is:\n",
            "[100]\tvalid_0's binary_logloss: 0.103901\n"
          ]
        },
        {
          "output_type": "stream",
          "name": "stderr",
          "text": [
            "[I 2024-02-20 10:41:21,772] Trial 43 finished with value: 0.45258245808436187 and parameters: {'learning_rate': 0.02411563238322583, 'num_leaves': 139, 'max_depth': 12, 'scale_pos_weight': 3.965022280823089, 'subsample': 0.6508583723097772, 'colsample_bytree': 0.860464881788361, 'lambda_l1': 1.688344872791432, 'lambda_l2': 0.0005296244657454871, 'min_child_samples': 16, 'min_child_weight': 1.0934216370906629e-05, 'bagging_fraction': 0.7213345234089812, 'bagging_freq': 2, 'feature_fraction': 0.7114521573753126, 'min_split_gain': 0.6809478735382528}. Best is trial 17 with value: 0.5594384640022941.\n"
          ]
        },
        {
          "output_type": "stream",
          "name": "stdout",
          "text": [
            "Training until validation scores don't improve for 200 rounds\n",
            "Did not meet early stopping. Best iteration is:\n",
            "[100]\tvalid_0's binary_logloss: 0.0930006\n",
            "Did not meet early stopping. Best iteration is:\n",
            "[87]\tvalid_0's binary_logloss: 0.0869816\n",
            "Training until validation scores don't improve for 200 rounds\n",
            "Training until validation scores don't improve for 200 rounds\n",
            "Did not meet early stopping. Best iteration is:\n",
            "[99]\tvalid_0's binary_logloss: 0.0868337\n",
            "Training until validation scores don't improve for 200 rounds\n",
            "Did not meet early stopping. Best iteration is:\n",
            "[100]\tvalid_0's binary_logloss: 0.0934966\n",
            "Training until validation scores don't improve for 200 rounds\n",
            "Did not meet early stopping. Best iteration is:\n",
            "[78]\tvalid_0's binary_logloss: 0.089124\n",
            "Training until validation scores don't improve for 200 rounds\n",
            "Did not meet early stopping. Best iteration is:\n",
            "[100]\tvalid_0's binary_logloss: 0.095998\n",
            "Training until validation scores don't improve for 200 rounds\n",
            "Did not meet early stopping. Best iteration is:\n",
            "[88]\tvalid_0's binary_logloss: 0.0899091\n",
            "Training until validation scores don't improve for 200 rounds\n",
            "Did not meet early stopping. Best iteration is:\n",
            "[100]\tvalid_0's binary_logloss: 0.0957549\n",
            "Did not meet early stopping. Best iteration is:\n",
            "[61]\tvalid_0's binary_logloss: 0.088591\n"
          ]
        },
        {
          "output_type": "stream",
          "name": "stderr",
          "text": [
            "[I 2024-02-20 10:41:53,242] Trial 45 finished with value: 0.5584935331231491 and parameters: {'learning_rate': 0.09367931436275691, 'num_leaves': 149, 'max_depth': 12, 'scale_pos_weight': 1.0943049522617716, 'subsample': 0.610465490524684, 'colsample_bytree': 0.910900310440887, 'lambda_l1': 0.5506810212006177, 'lambda_l2': 2.6385626488837897e-05, 'min_child_samples': 29, 'min_child_weight': 3.165011004958418e-05, 'bagging_fraction': 0.9084543552509126, 'bagging_freq': 3, 'feature_fraction': 0.6076383414407329, 'min_split_gain': 0.7653146319426095}. Best is trial 17 with value: 0.5594384640022941.\n"
          ]
        },
        {
          "output_type": "stream",
          "name": "stdout",
          "text": [
            "Training until validation scores don't improve for 200 rounds\n",
            "Training until validation scores don't improve for 200 rounds\n",
            "Did not meet early stopping. Best iteration is:\n",
            "[100]\tvalid_0's binary_logloss: 0.105455\n",
            "Did not meet early stopping. Best iteration is:\n",
            "[100]\tvalid_0's binary_logloss: 0.0969733\n",
            "Training until validation scores don't improve for 200 rounds\n"
          ]
        },
        {
          "output_type": "stream",
          "name": "stderr",
          "text": [
            "[I 2024-02-20 10:42:02,568] Trial 44 finished with value: 0.48518274396845856 and parameters: {'learning_rate': 0.06358685839071858, 'num_leaves': 153, 'max_depth': 12, 'scale_pos_weight': 4.576785633697933, 'subsample': 0.6012895224118503, 'colsample_bytree': 0.9572865487706614, 'lambda_l1': 0.5486959011281645, 'lambda_l2': 1.641051188022864e-05, 'min_child_samples': 9, 'min_child_weight': 0.001461601511381864, 'bagging_fraction': 0.905811261641297, 'bagging_freq': 3, 'feature_fraction': 0.7133177997531406, 'min_split_gain': 0.6630192678150724}. Best is trial 17 with value: 0.5594384640022941.\n"
          ]
        },
        {
          "output_type": "stream",
          "name": "stdout",
          "text": [
            "Training until validation scores don't improve for 200 rounds\n",
            "Did not meet early stopping. Best iteration is:\n",
            "[100]\tvalid_0's binary_logloss: 0.101484\n",
            "Training until validation scores don't improve for 200 rounds\n",
            "Did not meet early stopping. Best iteration is:\n",
            "[100]\tvalid_0's binary_logloss: 0.108044\n",
            "Training until validation scores don't improve for 200 rounds\n",
            "Did not meet early stopping. Best iteration is:\n",
            "[100]\tvalid_0's binary_logloss: 0.107801\n",
            "Training until validation scores don't improve for 200 rounds\n",
            "Did not meet early stopping. Best iteration is:\n",
            "[100]\tvalid_0's binary_logloss: 0.104282\n",
            "Training until validation scores don't improve for 200 rounds\n",
            "Did not meet early stopping. Best iteration is:\n",
            "[100]\tvalid_0's binary_logloss: 0.108451\n",
            "Did not meet early stopping. Best iteration is:\n",
            "[100]\tvalid_0's binary_logloss: 0.109277\n",
            "Training until validation scores don't improve for 200 rounds\n",
            "Training until validation scores don't improve for 200 rounds\n",
            "Did not meet early stopping. Best iteration is:\n",
            "[100]\tvalid_0's binary_logloss: 0.110251\n"
          ]
        },
        {
          "output_type": "stream",
          "name": "stderr",
          "text": [
            "[I 2024-02-20 10:42:26,683] Trial 46 finished with value: 0.43919708183043005 and parameters: {'learning_rate': 0.09485107837850841, 'num_leaves': 250, 'max_depth': 11, 'scale_pos_weight': 5.5694612312506635, 'subsample': 0.6267728215449888, 'colsample_bytree': 0.9511061032855236, 'lambda_l1': 4.743436313209165, 'lambda_l2': 9.36048317129777e-06, 'min_child_samples': 34, 'min_child_weight': 0.0016358753960376059, 'bagging_fraction': 0.9107781300533111, 'bagging_freq': 3, 'feature_fraction': 0.8210292074337234, 'min_split_gain': 0.8754919191207309}. Best is trial 17 with value: 0.5594384640022941.\n"
          ]
        },
        {
          "output_type": "stream",
          "name": "stdout",
          "text": [
            "Did not meet early stopping. Best iteration is:\n",
            "[100]\tvalid_0's binary_logloss: 0.110742\n",
            "Training until validation scores don't improve for 200 rounds\n",
            "Training until validation scores don't improve for 200 rounds\n",
            "Did not meet early stopping. Best iteration is:\n",
            "[100]\tvalid_0's binary_logloss: 0.121304\n",
            "Did not meet early stopping. Best iteration is:\n",
            "[100]\tvalid_0's binary_logloss: 0.110932\n"
          ]
        },
        {
          "output_type": "stream",
          "name": "stderr",
          "text": [
            "[I 2024-02-20 10:42:33,364] Trial 47 finished with value: 0.43316114457941185 and parameters: {'learning_rate': 0.09280116996608595, 'num_leaves': 249, 'max_depth': 11, 'scale_pos_weight': 5.973730101803102, 'subsample': 0.6289114927228926, 'colsample_bytree': 0.9113454432278041, 'lambda_l1': 4.199586419015005, 'lambda_l2': 1.1720112686095048e-05, 'min_child_samples': 29, 'min_child_weight': 0.00014831713887760597, 'bagging_fraction': 0.9318897378217843, 'bagging_freq': 4, 'feature_fraction': 0.6013133803527575, 'min_split_gain': 0.9047854001445399}. Best is trial 17 with value: 0.5594384640022941.\n"
          ]
        },
        {
          "output_type": "stream",
          "name": "stdout",
          "text": [
            "Training until validation scores don't improve for 200 rounds\n",
            "Training until validation scores don't improve for 200 rounds\n",
            "Did not meet early stopping. Best iteration is:\n",
            "[100]\tvalid_0's binary_logloss: 0.119608\n",
            "Training until validation scores don't improve for 200 rounds\n",
            "Did not meet early stopping. Best iteration is:\n",
            "[100]\tvalid_0's binary_logloss: 0.123078\n",
            "Training until validation scores don't improve for 200 rounds\n",
            "Did not meet early stopping. Best iteration is:\n",
            "[100]\tvalid_0's binary_logloss: 0.123376\n",
            "Training until validation scores don't improve for 200 rounds\n",
            "Did not meet early stopping. Best iteration is:\n",
            "[100]\tvalid_0's binary_logloss: 0.124925\n",
            "Did not meet early stopping. Best iteration is:\n",
            "[100]\tvalid_0's binary_logloss: 0.120732\n",
            "Training until validation scores don't improve for 200 rounds\n",
            "Training until validation scores don't improve for 200 rounds\n",
            "Did not meet early stopping. Best iteration is:\n",
            "[100]\tvalid_0's binary_logloss: 0.126945\n"
          ]
        },
        {
          "output_type": "stream",
          "name": "stderr",
          "text": [
            "[I 2024-02-20 10:42:51,037] Trial 48 finished with value: 0.40063368081953454 and parameters: {'learning_rate': 0.09393131196501718, 'num_leaves': 170, 'max_depth': 9, 'scale_pos_weight': 12.194301434484082, 'subsample': 0.7095029844169225, 'colsample_bytree': 0.9792033029684758, 'lambda_l1': 0.00782724412554003, 'lambda_l2': 3.799194226817592e-05, 'min_child_samples': 28, 'min_child_weight': 0.00013959134136766726, 'bagging_fraction': 0.8789308383302652, 'bagging_freq': 4, 'feature_fraction': 0.6105309972374854, 'min_split_gain': 0.7891125866678181}. Best is trial 17 with value: 0.5594384640022941.\n"
          ]
        },
        {
          "output_type": "stream",
          "name": "stdout",
          "text": [
            "Did not meet early stopping. Best iteration is:\n",
            "[100]\tvalid_0's binary_logloss: 0.126061\n",
            "Training until validation scores don't improve for 200 rounds\n",
            "Did not meet early stopping. Best iteration is:\n",
            "[100]\tvalid_0's binary_logloss: 0.126848\n",
            "Training until validation scores don't improve for 200 rounds\n",
            "Did not meet early stopping. Best iteration is:\n",
            "[100]\tvalid_0's binary_logloss: 0.128848\n"
          ]
        },
        {
          "output_type": "stream",
          "name": "stderr",
          "text": [
            "[I 2024-02-20 10:43:14,055] Trial 49 finished with value: 0.39335834517317914 and parameters: {'learning_rate': 0.04311321314107347, 'num_leaves': 269, 'max_depth': 12, 'scale_pos_weight': 12.556382459308733, 'subsample': 0.67329807732501, 'colsample_bytree': 0.9799788934682554, 'lambda_l1': 0.0036438337865824255, 'lambda_l2': 5.7866053229652644e-05, 'min_child_samples': 38, 'min_child_weight': 3.9317869745847476e-05, 'bagging_fraction': 0.8820868021483755, 'bagging_freq': 3, 'feature_fraction': 0.6214040677702849, 'min_split_gain': 0.004783227358829412}. Best is trial 17 with value: 0.5594384640022941.\n"
          ]
        },
        {
          "output_type": "stream",
          "name": "stdout",
          "text": [
            "Number of finished trials: 50\n",
            "Best trial: {'learning_rate': 0.03458942802739992, 'num_leaves': 135, 'max_depth': 13, 'scale_pos_weight': 1.0568517123430765, 'subsample': 0.6904329873149705, 'colsample_bytree': 0.8619229202668449, 'lambda_l1': 0.3499994803650127, 'lambda_l2': 6.592926703377875e-06, 'min_child_samples': 19, 'min_child_weight': 1.7332081884112883e-05, 'bagging_fraction': 0.889309680709678, 'bagging_freq': 3, 'feature_fraction': 0.6950309071530855, 'min_split_gain': 0.7713986609972512}\n"
          ]
        }
      ]
    },
    {
      "cell_type": "code",
      "source": [
        "import optuna\n",
        "from sklearn.metrics import f1_score\n",
        "from lightgbm import LGBMClassifier, early_stopping\n",
        "\n",
        "object_columns = X_train4.select_dtypes(include=['object']).columns\n",
        "cat_cols=list(object_columns)\n",
        "for col in object_columns:\n",
        "    X_train4[col] = X_train4[col].astype('category')\n",
        "    X_test4[col] = X_test4[col].astype('category')\n",
        "\n",
        "def objective(trial):\n",
        "    param = {\n",
        "        'objective': 'binary',\n",
        "        'metric': 'binary_logloss',\n",
        "        'verbosity': -1,\n",
        "        'boosting_type': 'gbdt',\n",
        "        'learning_rate': trial.suggest_float('learning_rate', 0.01, 0.1),\n",
        "        'num_leaves': trial.suggest_int('num_leaves', 30, 300),\n",
        "        'max_depth': trial.suggest_int('max_depth', 6, 16),\n",
        "        'scale_pos_weight': trial.suggest_float('scale_pos_weight', 1, 50),\n",
        "        'subsample': trial.suggest_float('subsample', 0.6, 1.0),\n",
        "        'colsample_bytree': trial.suggest_float('colsample_bytree', 0.6, 1.0),\n",
        "        'lambda_l1': trial.suggest_float('lambda_l1', 1e-8, 10.0, log=True),\n",
        "        'lambda_l2': trial.suggest_float('lambda_l2', 1e-8, 10.0, log=True),\n",
        "        'min_child_samples': trial.suggest_int('min_child_samples', 5, 100),\n",
        "        'min_child_weight': trial.suggest_float('min_child_weight', 1e-5, 1e-1, log=True),\n",
        "        'bagging_fraction': trial.suggest_float('bagging_fraction', 0.6, 1.0),\n",
        "        'bagging_freq': trial.suggest_int('bagging_freq', 1, 10),\n",
        "        'feature_fraction': trial.suggest_float('feature_fraction', 0.6, 1.0),\n",
        "        'min_split_gain': trial.suggest_float('min_split_gain', 0, 1),\n",
        "        'random_state': 0,\n",
        "        'categorical_feature': cat_cols,\n",
        "        'n_jobs': -1\n",
        "    }\n",
        "\n",
        "    f1_scores = []\n",
        "    for train_idx, valid_idx in folds.split(X_train4, y_train):\n",
        "        X_tr, y_tr = X_train4.iloc[train_idx], y_train.iloc[train_idx]\n",
        "        X_val, y_val = X_train4.iloc[valid_idx], y_train.iloc[valid_idx]\n",
        "\n",
        "        lgb_model = LGBMClassifier(**param)\n",
        "        lgb_model.fit(X_tr, y_tr, eval_set=[(X_val, y_val)], callbacks=[early_stopping(stopping_rounds=200)])\n",
        "\n",
        "        threshold = 0.2  # 적절한 임계값으로 조정\n",
        "        preds_proba = lgb_model.predict_proba(X_val)[:, 1]  # 클래스 1에 대한 확률을 얻음\n",
        "        preds = (preds_proba > threshold).astype(int)  # 임계값을 기준으로 이진 클래스로 변환\n",
        "\n",
        "        # 이진 클래스 예측을 사용하여 F1 스코어 계산\n",
        "        f1 = f1_score(y_val, preds)\n",
        "        f1_scores.append(f1)\n",
        "\n",
        "    return np.mean(f1_scores)\n",
        "\n",
        "folds = StratifiedKFold(n_splits=5, shuffle=True, random_state=0)\n",
        "study4 = optuna.create_study(direction='maximize')\n",
        "study4.optimize(objective, n_trials=50, n_jobs=-1)  # 시행 횟수를 조정하여 탐색 시간 관리\n",
        "\n",
        "print('Number of finished trials:', len(study4.trials))\n",
        "print('Best trial:', study4.best_trial.params)"
      ],
      "metadata": {
        "colab": {
          "base_uri": "https://localhost:8080/"
        },
        "id": "GZNNNBn_rm33",
        "outputId": "67ade27f-6401-4210-8038-f496d7429244"
      },
      "id": "GZNNNBn_rm33",
      "execution_count": null,
      "outputs": [
        {
          "output_type": "stream",
          "name": "stderr",
          "text": [
            "[I 2024-02-20 10:43:14,601] A new study created in memory with name: no-name-9673cc0a-1563-45e0-8ce9-59fb28af2bf3\n"
          ]
        },
        {
          "output_type": "stream",
          "name": "stdout",
          "text": [
            "Training until validation scores don't improve for 200 rounds\n",
            "Training until validation scores don't improve for 200 rounds\n",
            "Did not meet early stopping. Best iteration is:\n",
            "[100]\tvalid_0's binary_logloss: 0.118536\n",
            "Training until validation scores don't improve for 200 rounds\n",
            "Did not meet early stopping. Best iteration is:\n",
            "[100]\tvalid_0's binary_logloss: 0.113208\n",
            "Training until validation scores don't improve for 200 rounds\n",
            "Did not meet early stopping. Best iteration is:\n",
            "[100]\tvalid_0's binary_logloss: 0.116476\n",
            "Training until validation scores don't improve for 200 rounds\n",
            "Did not meet early stopping. Best iteration is:\n",
            "[100]\tvalid_0's binary_logloss: 0.111695\n",
            "Training until validation scores don't improve for 200 rounds\n",
            "Did not meet early stopping. Best iteration is:\n",
            "[100]\tvalid_0's binary_logloss: 0.118976\n",
            "Training until validation scores don't improve for 200 rounds\n",
            "Did not meet early stopping. Best iteration is:\n",
            "[100]\tvalid_0's binary_logloss: 0.122163\n",
            "Training until validation scores don't improve for 200 rounds\n",
            "Did not meet early stopping. Best iteration is:\n",
            "[100]\tvalid_0's binary_logloss: 0.116731\n",
            "Training until validation scores don't improve for 200 rounds\n",
            "Did not meet early stopping. Best iteration is:\n",
            "[100]\tvalid_0's binary_logloss: 0.120974\n"
          ]
        },
        {
          "output_type": "stream",
          "name": "stderr",
          "text": [
            "[I 2024-02-20 10:43:40,239] Trial 0 finished with value: 0.401842260874944 and parameters: {'learning_rate': 0.07323168658097673, 'num_leaves': 104, 'max_depth': 12, 'scale_pos_weight': 5.707040481940461, 'subsample': 0.9388108699117637, 'colsample_bytree': 0.8189730137243354, 'lambda_l1': 1.3400886485097664e-08, 'lambda_l2': 0.3526768556828877, 'min_child_samples': 81, 'min_child_weight': 9.740019913708548e-05, 'bagging_fraction': 0.7963337607474062, 'bagging_freq': 6, 'feature_fraction': 0.6259980635826037, 'min_split_gain': 0.719551370186572}. Best is trial 0 with value: 0.401842260874944.\n"
          ]
        },
        {
          "output_type": "stream",
          "name": "stdout",
          "text": [
            "Training until validation scores don't improve for 200 rounds\n",
            "Did not meet early stopping. Best iteration is:\n",
            "[100]\tvalid_0's binary_logloss: 0.118195\n",
            "Training until validation scores don't improve for 200 rounds\n",
            "Did not meet early stopping. Best iteration is:\n",
            "[3]\tvalid_0's binary_logloss: 0.150942\n",
            "Training until validation scores don't improve for 200 rounds\n",
            "Did not meet early stopping. Best iteration is:\n",
            "[100]\tvalid_0's binary_logloss: 0.117709\n"
          ]
        },
        {
          "output_type": "stream",
          "name": "stderr",
          "text": [
            "[I 2024-02-20 10:43:51,089] Trial 1 finished with value: 0.41886564859613007 and parameters: {'learning_rate': 0.05241107557558545, 'num_leaves': 235, 'max_depth': 13, 'scale_pos_weight': 7.003467273918014, 'subsample': 0.6610251442771893, 'colsample_bytree': 0.7089017860592414, 'lambda_l1': 0.2202166670174656, 'lambda_l2': 0.00013264771177848552, 'min_child_samples': 31, 'min_child_weight': 0.09896908999462208, 'bagging_fraction': 0.7660526033789907, 'bagging_freq': 6, 'feature_fraction': 0.9844369314330347, 'min_split_gain': 0.23682842803919235}. Best is trial 1 with value: 0.41886564859613007.\n"
          ]
        },
        {
          "output_type": "stream",
          "name": "stdout",
          "text": [
            "Training until validation scores don't improve for 200 rounds\n",
            "Did not meet early stopping. Best iteration is:\n",
            "[3]\tvalid_0's binary_logloss: 0.151793\n",
            "Training until validation scores don't improve for 200 rounds\n",
            "Did not meet early stopping. Best iteration is:\n",
            "[9]\tvalid_0's binary_logloss: 0.141862\n",
            "Training until validation scores don't improve for 200 rounds\n",
            "Did not meet early stopping. Best iteration is:\n",
            "[3]\tvalid_0's binary_logloss: 0.151198\n",
            "Training until validation scores don't improve for 200 rounds\n",
            "Did not meet early stopping. Best iteration is:\n",
            "[8]\tvalid_0's binary_logloss: 0.142625\n",
            "Training until validation scores don't improve for 200 rounds\n",
            "Did not meet early stopping. Best iteration is:\n",
            "[3]\tvalid_0's binary_logloss: 0.152125\n",
            "Training until validation scores don't improve for 200 rounds\n",
            "Did not meet early stopping. Best iteration is:\n",
            "[9]\tvalid_0's binary_logloss: 0.143709\n",
            "Training until validation scores don't improve for 200 rounds\n",
            "Did not meet early stopping. Best iteration is:\n",
            "[8]\tvalid_0's binary_logloss: 0.142682\n",
            "Did not meet early stopping. Best iteration is:\n",
            "[1]\tvalid_0's binary_logloss: 0.151636\n"
          ]
        },
        {
          "output_type": "stream",
          "name": "stderr",
          "text": [
            "[I 2024-02-20 10:44:08,803] Trial 2 finished with value: 0.284864226055115 and parameters: {'learning_rate': 0.06700996021200774, 'num_leaves': 128, 'max_depth': 14, 'scale_pos_weight': 33.312104394252714, 'subsample': 0.9085321556160038, 'colsample_bytree': 0.9969250294254827, 'lambda_l1': 1.0364327779000908, 'lambda_l2': 0.00018710439641644327, 'min_child_samples': 29, 'min_child_weight': 0.00011389029024644485, 'bagging_fraction': 0.9272474431073126, 'bagging_freq': 4, 'feature_fraction': 0.6276347022075152, 'min_split_gain': 0.7482342499426492}. Best is trial 1 with value: 0.41886564859613007.\n"
          ]
        },
        {
          "output_type": "stream",
          "name": "stdout",
          "text": [
            "Training until validation scores don't improve for 200 rounds\n",
            "Training until validation scores don't improve for 200 rounds\n"
          ]
        },
        {
          "output_type": "stream",
          "name": "stderr",
          "text": [
            "[I 2024-02-20 10:44:17,194] Trial 3 finished with value: 0.38456723512104196 and parameters: {'learning_rate': 0.025797344193734487, 'num_leaves': 93, 'max_depth': 11, 'scale_pos_weight': 33.54790893376366, 'subsample': 0.9976238804423556, 'colsample_bytree': 0.9201937598858534, 'lambda_l1': 7.547400258307658e-06, 'lambda_l2': 0.0003150433525199723, 'min_child_samples': 5, 'min_child_weight': 2.724009798031524e-05, 'bagging_fraction': 0.6166213798887126, 'bagging_freq': 10, 'feature_fraction': 0.9203379575500922, 'min_split_gain': 0.3755226318394618}. Best is trial 1 with value: 0.41886564859613007.\n"
          ]
        },
        {
          "output_type": "stream",
          "name": "stdout",
          "text": [
            "Did not meet early stopping. Best iteration is:\n",
            "[9]\tvalid_0's binary_logloss: 0.142007\n",
            "Training until validation scores don't improve for 200 rounds\n",
            "Did not meet early stopping. Best iteration is:\n",
            "[3]\tvalid_0's binary_logloss: 0.148543\n",
            "Training until validation scores don't improve for 200 rounds\n",
            "Did not meet early stopping. Best iteration is:\n",
            "[100]\tvalid_0's binary_logloss: 0.0962721\n",
            "Training until validation scores don't improve for 200 rounds\n",
            "Did not meet early stopping. Best iteration is:\n",
            "[3]\tvalid_0's binary_logloss: 0.148799\n",
            "Training until validation scores don't improve for 200 rounds\n",
            "Did not meet early stopping. Best iteration is:\n",
            "[85]\tvalid_0's binary_logloss: 0.0945632\n",
            "Training until validation scores don't improve for 200 rounds\n",
            "Did not meet early stopping. Best iteration is:\n",
            "[84]\tvalid_0's binary_logloss: 0.0990626\n",
            "Training until validation scores don't improve for 200 rounds\n",
            "Did not meet early stopping. Best iteration is:\n",
            "[3]\tvalid_0's binary_logloss: 0.149301\n",
            "Training until validation scores don't improve for 200 rounds\n",
            "Did not meet early stopping. Best iteration is:\n",
            "[97]\tvalid_0's binary_logloss: 0.100674\n",
            "Training until validation scores don't improve for 200 rounds\n",
            "Did not meet early stopping. Best iteration is:\n",
            "[3]\tvalid_0's binary_logloss: 0.14995\n",
            "Training until validation scores don't improve for 200 rounds\n",
            "Did not meet early stopping. Best iteration is:\n",
            "[84]\tvalid_0's binary_logloss: 0.0980252\n"
          ]
        },
        {
          "output_type": "stream",
          "name": "stderr",
          "text": [
            "[I 2024-02-20 10:44:43,977] Trial 5 finished with value: 0.5067979345388423 and parameters: {'learning_rate': 0.09262215165850635, 'num_leaves': 167, 'max_depth': 8, 'scale_pos_weight': 1.3870823690658378, 'subsample': 0.7009501388012492, 'colsample_bytree': 0.6163316844282208, 'lambda_l1': 5.631897883844206e-05, 'lambda_l2': 0.30466587136888884, 'min_child_samples': 7, 'min_child_weight': 0.00010055275249491382, 'bagging_fraction': 0.7645466740590999, 'bagging_freq': 4, 'feature_fraction': 0.9511420236191371, 'min_split_gain': 0.9663719735581716}. Best is trial 5 with value: 0.5067979345388423.\n"
          ]
        },
        {
          "output_type": "stream",
          "name": "stdout",
          "text": [
            "Training until validation scores don't improve for 200 rounds\n"
          ]
        },
        {
          "output_type": "stream",
          "name": "stderr",
          "text": [
            "[I 2024-02-20 10:44:48,874] Trial 4 finished with value: 0.3490342357401849 and parameters: {'learning_rate': 0.08194897178040204, 'num_leaves': 219, 'max_depth': 13, 'scale_pos_weight': 20.825798957002927, 'subsample': 0.9010104042647155, 'colsample_bytree': 0.7570177074666824, 'lambda_l1': 3.7523548880890145e-08, 'lambda_l2': 8.684823045223011e-07, 'min_child_samples': 62, 'min_child_weight': 0.0006747539501046827, 'bagging_fraction': 0.7667034745619994, 'bagging_freq': 9, 'feature_fraction': 0.6843191653054712, 'min_split_gain': 0.662123650223173}. Best is trial 5 with value: 0.5067979345388423.\n"
          ]
        },
        {
          "output_type": "stream",
          "name": "stdout",
          "text": [
            "Did not meet early stopping. Best iteration is:\n",
            "[3]\tvalid_0's binary_logloss: 0.147549\n",
            "Training until validation scores don't improve for 200 rounds\n",
            "Did not meet early stopping. Best iteration is:\n",
            "[100]\tvalid_0's binary_logloss: 0.122095\n",
            "Training until validation scores don't improve for 200 rounds\n",
            "Did not meet early stopping. Best iteration is:\n",
            "[100]\tvalid_0's binary_logloss: 0.11274\n",
            "Training until validation scores don't improve for 200 rounds\n",
            "Did not meet early stopping. Best iteration is:\n",
            "[96]\tvalid_0's binary_logloss: 0.122476\n",
            "Training until validation scores don't improve for 200 rounds\n",
            "Did not meet early stopping. Best iteration is:\n",
            "[100]\tvalid_0's binary_logloss: 0.110588\n",
            "Training until validation scores don't improve for 200 rounds\n",
            "Did not meet early stopping. Best iteration is:\n",
            "[100]\tvalid_0's binary_logloss: 0.114769\n",
            "Did not meet early stopping. Best iteration is:\n",
            "[100]\tvalid_0's binary_logloss: 0.122402\n",
            "Training until validation scores don't improve for 200 rounds\n",
            "Training until validation scores don't improve for 200 rounds\n",
            "Did not meet early stopping. Best iteration is:\n",
            "[100]\tvalid_0's binary_logloss: 0.116127\n",
            "Training until validation scores don't improve for 200 rounds\n",
            "Did not meet early stopping. Best iteration is:\n",
            "[100]\tvalid_0's binary_logloss: 0.126414\n",
            "Training until validation scores don't improve for 200 rounds\n",
            "Did not meet early stopping. Best iteration is:\n",
            "[100]\tvalid_0's binary_logloss: 0.115904\n"
          ]
        },
        {
          "output_type": "stream",
          "name": "stderr",
          "text": [
            "[I 2024-02-20 10:45:11,483] Trial 7 finished with value: 0.4066988857457951 and parameters: {'learning_rate': 0.06860332187518364, 'num_leaves': 247, 'max_depth': 10, 'scale_pos_weight': 4.516154551996886, 'subsample': 0.7441270862449244, 'colsample_bytree': 0.9029343203163827, 'lambda_l1': 0.0015582557176253022, 'lambda_l2': 0.04595748417714353, 'min_child_samples': 82, 'min_child_weight': 0.00015611326098747923, 'bagging_fraction': 0.7217176478304346, 'bagging_freq': 3, 'feature_fraction': 0.8824835925822285, 'min_split_gain': 0.6593104094569383}. Best is trial 5 with value: 0.5067979345388423.\n"
          ]
        },
        {
          "output_type": "stream",
          "name": "stdout",
          "text": [
            "Training until validation scores don't improve for 200 rounds\n",
            "Did not meet early stopping. Best iteration is:\n",
            "[99]\tvalid_0's binary_logloss: 0.123132\n"
          ]
        },
        {
          "output_type": "stream",
          "name": "stderr",
          "text": [
            "[I 2024-02-20 10:45:17,805] Trial 6 finished with value: 0.4247209713408383 and parameters: {'learning_rate': 0.0851806161741087, 'num_leaves': 147, 'max_depth': 16, 'scale_pos_weight': 11.363137509575603, 'subsample': 0.6424873900184164, 'colsample_bytree': 0.7463891228492956, 'lambda_l1': 1.2941076018875389e-08, 'lambda_l2': 3.1660424355839557e-06, 'min_child_samples': 30, 'min_child_weight': 7.52419887696282e-05, 'bagging_fraction': 0.7587001185629896, 'bagging_freq': 10, 'feature_fraction': 0.781238872878625, 'min_split_gain': 0.3423764639942404}. Best is trial 5 with value: 0.5067979345388423.\n"
          ]
        },
        {
          "output_type": "stream",
          "name": "stdout",
          "text": [
            "Training until validation scores don't improve for 200 rounds\n",
            "Did not meet early stopping. Best iteration is:\n",
            "[14]\tvalid_0's binary_logloss: 0.142943\n",
            "Training until validation scores don't improve for 200 rounds\n",
            "Did not meet early stopping. Best iteration is:\n",
            "[5]\tvalid_0's binary_logloss: 0.151346\n",
            "Training until validation scores don't improve for 200 rounds\n",
            "Did not meet early stopping. Best iteration is:\n",
            "[14]\tvalid_0's binary_logloss: 0.141523\n",
            "Training until validation scores don't improve for 200 rounds\n",
            "Did not meet early stopping. Best iteration is:\n",
            "[5]\tvalid_0's binary_logloss: 0.150697\n",
            "Training until validation scores don't improve for 200 rounds\n",
            "Did not meet early stopping. Best iteration is:\n",
            "[5]\tvalid_0's binary_logloss: 0.150799\n",
            "Did not meet early stopping. Best iteration is:\n",
            "[12]\tvalid_0's binary_logloss: 0.142488\n",
            "Training until validation scores don't improve for 200 rounds\n",
            "Training until validation scores don't improve for 200 rounds\n",
            "Did not meet early stopping. Best iteration is:\n",
            "[5]\tvalid_0's binary_logloss: 0.15145\n",
            "Training until validation scores don't improve for 200 rounds\n",
            "Did not meet early stopping. Best iteration is:\n",
            "[13]\tvalid_0's binary_logloss: 0.142525\n",
            "Training until validation scores don't improve for 200 rounds\n"
          ]
        },
        {
          "output_type": "stream",
          "name": "stderr",
          "text": [
            "[I 2024-02-20 10:45:40,342] Trial 9 finished with value: 0.0 and parameters: {'learning_rate': 0.023879255041315196, 'num_leaves': 86, 'max_depth': 7, 'scale_pos_weight': 35.37541285673619, 'subsample': 0.8631469046356497, 'colsample_bytree': 0.7651119310988049, 'lambda_l1': 0.25717602143893775, 'lambda_l2': 7.344162080220835e-05, 'min_child_samples': 64, 'min_child_weight': 0.005374069885185492, 'bagging_fraction': 0.7472424856335126, 'bagging_freq': 3, 'feature_fraction': 0.838071935030517, 'min_split_gain': 0.6430263293804895}. Best is trial 5 with value: 0.5067979345388423.\n"
          ]
        },
        {
          "output_type": "stream",
          "name": "stdout",
          "text": [
            "Did not meet early stopping. Best iteration is:\n",
            "[5]\tvalid_0's binary_logloss: 0.150126\n",
            "Training until validation scores don't improve for 200 rounds\n"
          ]
        },
        {
          "output_type": "stream",
          "name": "stderr",
          "text": [
            "[I 2024-02-20 10:45:46,317] Trial 8 finished with value: 0.44495503221560934 and parameters: {'learning_rate': 0.01773856391209989, 'num_leaves': 126, 'max_depth': 9, 'scale_pos_weight': 18.40301360225546, 'subsample': 0.8358399122622501, 'colsample_bytree': 0.9606688535331478, 'lambda_l1': 0.011909534308676256, 'lambda_l2': 4.7785033758965735e-08, 'min_child_samples': 51, 'min_child_weight': 0.016180431001795184, 'bagging_fraction': 0.9919819139918122, 'bagging_freq': 3, 'feature_fraction': 0.6137183215894634, 'min_split_gain': 0.4638631705216628}. Best is trial 5 with value: 0.5067979345388423.\n"
          ]
        },
        {
          "output_type": "stream",
          "name": "stdout",
          "text": [
            "Did not meet early stopping. Best iteration is:\n",
            "[14]\tvalid_0's binary_logloss: 0.142345\n",
            "Did not meet early stopping. Best iteration is:\n",
            "[11]\tvalid_0's binary_logloss: 0.13291\n",
            "Training until validation scores don't improve for 200 rounds\n",
            "Training until validation scores don't improve for 200 rounds\n",
            "Did not meet early stopping. Best iteration is:\n",
            "[1]\tvalid_0's binary_logloss: 0.16546\n",
            "Training until validation scores don't improve for 200 rounds\n",
            "Did not meet early stopping. Best iteration is:\n",
            "[12]\tvalid_0's binary_logloss: 0.131335\n",
            "Did not meet early stopping. Best iteration is:\n",
            "[1]\tvalid_0's binary_logloss: 0.161909\n",
            "Training until validation scores don't improve for 200 rounds\n",
            "Training until validation scores don't improve for 200 rounds\n",
            "Did not meet early stopping. Best iteration is:\n",
            "[1]\tvalid_0's binary_logloss: 0.165736\n",
            "Training until validation scores don't improve for 200 rounds\n",
            "Did not meet early stopping. Best iteration is:\n",
            "[12]\tvalid_0's binary_logloss: 0.132489\n",
            "Did not meet early stopping. Best iteration is:\n",
            "[1]\tvalid_0's binary_logloss: 0.164898\n",
            "Training until validation scores don't improve for 200 rounds\n",
            "Training until validation scores don't improve for 200 rounds\n"
          ]
        },
        {
          "output_type": "stream",
          "name": "stderr",
          "text": [
            "[I 2024-02-20 10:46:02,334] Trial 11 finished with value: 0.27572564421517287 and parameters: {'learning_rate': 0.0966420203766963, 'num_leaves': 38, 'max_depth': 6, 'scale_pos_weight': 49.112241624842795, 'subsample': 0.7560171621951606, 'colsample_bytree': 0.6080393754979283, 'lambda_l1': 1.3655603954640977e-05, 'lambda_l2': 6.157638627998236, 'min_child_samples': 5, 'min_child_weight': 1.3892861048045054e-05, 'bagging_fraction': 0.8699417760987355, 'bagging_freq': 1, 'feature_fraction': 0.9864807992515979, 'min_split_gain': 0.9535211011919396}. Best is trial 5 with value: 0.5067979345388423.\n"
          ]
        },
        {
          "output_type": "stream",
          "name": "stdout",
          "text": [
            "Did not meet early stopping. Best iteration is:\n",
            "[1]\tvalid_0's binary_logloss: 0.168148\n",
            "Training until validation scores don't improve for 200 rounds\n",
            "Did not meet early stopping. Best iteration is:\n",
            "[12]\tvalid_0's binary_logloss: 0.133359\n",
            "Training until validation scores don't improve for 200 rounds\n",
            "Did not meet early stopping. Best iteration is:\n",
            "[5]\tvalid_0's binary_logloss: 0.144925\n",
            "Training until validation scores don't improve for 200 rounds\n"
          ]
        },
        {
          "output_type": "stream",
          "name": "stderr",
          "text": [
            "[I 2024-02-20 10:46:09,048] Trial 10 finished with value: 0.40305755137622423 and parameters: {'learning_rate': 0.04058700139870874, 'num_leaves': 93, 'max_depth': 13, 'scale_pos_weight': 7.355886997954974, 'subsample': 0.8261246088402717, 'colsample_bytree': 0.703184507537242, 'lambda_l1': 4.33017106016794, 'lambda_l2': 0.43513715358282634, 'min_child_samples': 18, 'min_child_weight': 2.9449362522618172e-05, 'bagging_fraction': 0.7336708407886269, 'bagging_freq': 2, 'feature_fraction': 0.9682372709353819, 'min_split_gain': 0.17684226790306434}. Best is trial 5 with value: 0.5067979345388423.\n"
          ]
        },
        {
          "output_type": "stream",
          "name": "stdout",
          "text": [
            "Did not meet early stopping. Best iteration is:\n",
            "[11]\tvalid_0's binary_logloss: 0.132249\n",
            "Training until validation scores don't improve for 200 rounds\n",
            "Did not meet early stopping. Best iteration is:\n",
            "[5]\tvalid_0's binary_logloss: 0.144833\n",
            "Training until validation scores don't improve for 200 rounds\n",
            "Did not meet early stopping. Best iteration is:\n",
            "[5]\tvalid_0's binary_logloss: 0.147396\n",
            "Training until validation scores don't improve for 200 rounds\n",
            "Did not meet early stopping. Best iteration is:\n",
            "[30]\tvalid_0's binary_logloss: 0.140633\n",
            "Training until validation scores don't improve for 200 rounds\n",
            "Did not meet early stopping. Best iteration is:\n",
            "[5]\tvalid_0's binary_logloss: 0.14604\n",
            "Training until validation scores don't improve for 200 rounds\n",
            "Did not meet early stopping. Best iteration is:\n",
            "[30]\tvalid_0's binary_logloss: 0.139788\n",
            "Training until validation scores don't improve for 200 rounds\n"
          ]
        },
        {
          "output_type": "stream",
          "name": "stderr",
          "text": [
            "[I 2024-02-20 10:46:22,062] Trial 12 finished with value: 0.4292812819396974 and parameters: {'learning_rate': 0.045342248469805876, 'num_leaves': 299, 'max_depth': 9, 'scale_pos_weight': 22.170340582044705, 'subsample': 0.7994404137039417, 'colsample_bytree': 0.6336829828661205, 'lambda_l1': 0.003630445451145008, 'lambda_l2': 0.016186953103220523, 'min_child_samples': 46, 'min_child_weight': 0.012194516077696475, 'bagging_fraction': 0.9990457223674671, 'bagging_freq': 1, 'feature_fraction': 0.7428684106670819, 'min_split_gain': 0.10069751208874922}. Best is trial 5 with value: 0.5067979345388423.\n"
          ]
        },
        {
          "output_type": "stream",
          "name": "stdout",
          "text": [
            "Did not meet early stopping. Best iteration is:\n",
            "[5]\tvalid_0's binary_logloss: 0.145295\n",
            "Training until validation scores don't improve for 200 rounds\n",
            "Did not meet early stopping. Best iteration is:\n",
            "[29]\tvalid_0's binary_logloss: 0.140491\n",
            "Training until validation scores don't improve for 200 rounds\n",
            "Did not meet early stopping. Best iteration is:\n",
            "[24]\tvalid_0's binary_logloss: 0.14398\n",
            "Training until validation scores don't improve for 200 rounds\n",
            "Did not meet early stopping. Best iteration is:\n",
            "[30]\tvalid_0's binary_logloss: 0.142125\n",
            "Training until validation scores don't improve for 200 rounds\n",
            "Did not meet early stopping. Best iteration is:\n",
            "[22]\tvalid_0's binary_logloss: 0.140073\n",
            "Training until validation scores don't improve for 200 rounds\n",
            "Did not meet early stopping. Best iteration is:\n",
            "[22]\tvalid_0's binary_logloss: 0.143179\n",
            "Training until validation scores don't improve for 200 rounds\n",
            "Did not meet early stopping. Best iteration is:\n",
            "[30]\tvalid_0's binary_logloss: 0.140333\n"
          ]
        },
        {
          "output_type": "stream",
          "name": "stderr",
          "text": [
            "[I 2024-02-20 10:46:37,565] Trial 13 finished with value: 0.42134787441341226 and parameters: {'learning_rate': 0.010896693676888655, 'num_leaves': 182, 'max_depth': 9, 'scale_pos_weight': 18.446937714681546, 'subsample': 0.7145611021052963, 'colsample_bytree': 0.6231069852832681, 'lambda_l1': 0.002469853000398536, 'lambda_l2': 8.796359285684788e-08, 'min_child_samples': 45, 'min_child_weight': 0.014201084681490683, 'bagging_fraction': 0.9988258844269233, 'bagging_freq': 5, 'feature_fraction': 0.7459326147479534, 'min_split_gain': 0.010312303130383671}. Best is trial 5 with value: 0.5067979345388423.\n"
          ]
        },
        {
          "output_type": "stream",
          "name": "stdout",
          "text": [
            "Training until validation scores don't improve for 200 rounds\n",
            "Did not meet early stopping. Best iteration is:\n",
            "[30]\tvalid_0's binary_logloss: 0.142963\n",
            "Training until validation scores don't improve for 200 rounds\n",
            "Did not meet early stopping. Best iteration is:\n",
            "[9]\tvalid_0's binary_logloss: 0.141151\n",
            "Training until validation scores don't improve for 200 rounds\n"
          ]
        },
        {
          "output_type": "stream",
          "name": "stderr",
          "text": [
            "[I 2024-02-20 10:46:45,702] Trial 14 finished with value: 0.4334958399937716 and parameters: {'learning_rate': 0.0100560061675012, 'num_leaves': 187, 'max_depth': 8, 'scale_pos_weight': 15.617208381228025, 'subsample': 0.706397156784164, 'colsample_bytree': 0.8476571137006924, 'lambda_l1': 5.9498272356515106e-05, 'lambda_l2': 1.7087129224183582e-08, 'min_child_samples': 97, 'min_child_weight': 0.0010958545223238383, 'bagging_fraction': 0.8627558999800622, 'bagging_freq': 5, 'feature_fraction': 0.7280794027839412, 'min_split_gain': 0.49022236247165374}. Best is trial 5 with value: 0.5067979345388423.\n"
          ]
        },
        {
          "output_type": "stream",
          "name": "stdout",
          "text": [
            "Did not meet early stopping. Best iteration is:\n",
            "[26]\tvalid_0's binary_logloss: 0.143334\n",
            "Training until validation scores don't improve for 200 rounds\n",
            "Did not meet early stopping. Best iteration is:\n",
            "[8]\tvalid_0's binary_logloss: 0.139679\n",
            "Training until validation scores don't improve for 200 rounds\n",
            "Did not meet early stopping. Best iteration is:\n",
            "[5]\tvalid_0's binary_logloss: 0.148442\n",
            "Training until validation scores don't improve for 200 rounds\n",
            "Did not meet early stopping. Best iteration is:\n",
            "[5]\tvalid_0's binary_logloss: 0.150648\n",
            "Did not meet early stopping. Best iteration is:\n",
            "[8]\tvalid_0's binary_logloss: 0.14028\n",
            "Training until validation scores don't improve for 200 rounds\n",
            "Training until validation scores don't improve for 200 rounds\n",
            "Did not meet early stopping. Best iteration is:\n",
            "[4]\tvalid_0's binary_logloss: 0.150808\n",
            "Training until validation scores don't improve for 200 rounds\n",
            "Did not meet early stopping. Best iteration is:\n",
            "[8]\tvalid_0's binary_logloss: 0.141133\n",
            "Training until validation scores don't improve for 200 rounds\n",
            "Did not meet early stopping. Best iteration is:\n",
            "[5]\tvalid_0's binary_logloss: 0.149322\n",
            "Training until validation scores don't improve for 200 rounds\n"
          ]
        },
        {
          "output_type": "stream",
          "name": "stderr",
          "text": [
            "[I 2024-02-20 10:47:00,097] Trial 15 finished with value: 0.4147001891091075 and parameters: {'learning_rate': 0.03454197155247786, 'num_leaves': 176, 'max_depth': 8, 'scale_pos_weight': 14.006158324990139, 'subsample': 0.6909064698165681, 'colsample_bytree': 0.8486974931409389, 'lambda_l1': 6.242240750823863e-05, 'lambda_l2': 0.005634017173905922, 'min_child_samples': 93, 'min_child_weight': 0.0006741296761511064, 'bagging_fraction': 0.8730113999641345, 'bagging_freq': 7, 'feature_fraction': 0.839351067284833, 'min_split_gain': 0.9978449549123363}. Best is trial 5 with value: 0.5067979345388423.\n"
          ]
        },
        {
          "output_type": "stream",
          "name": "stdout",
          "text": [
            "Did not meet early stopping. Best iteration is:\n",
            "[8]\tvalid_0's binary_logloss: 0.140551\n",
            "Training until validation scores don't improve for 200 rounds\n"
          ]
        },
        {
          "output_type": "stream",
          "name": "stderr",
          "text": [
            "[I 2024-02-20 10:47:01,087] Trial 16 finished with value: 0.21934470685609866 and parameters: {'learning_rate': 0.033267949080261934, 'num_leaves': 41, 'max_depth': 7, 'scale_pos_weight': 28.277774558725394, 'subsample': 0.6100204117388299, 'colsample_bytree': 0.9944223198911384, 'lambda_l1': 1.0237916641541503e-06, 'lambda_l2': 0.004149391432376905, 'min_child_samples': 58, 'min_child_weight': 0.0008105826380344485, 'bagging_fraction': 0.6914380820881518, 'bagging_freq': 7, 'feature_fraction': 0.8402416535853497, 'min_split_gain': 0.9520207299594565}. Best is trial 5 with value: 0.5067979345388423.\n"
          ]
        },
        {
          "output_type": "stream",
          "name": "stdout",
          "text": [
            "Did not meet early stopping. Best iteration is:\n",
            "[5]\tvalid_0's binary_logloss: 0.149107\n",
            "Training until validation scores don't improve for 200 rounds\n",
            "Did not meet early stopping. Best iteration is:\n",
            "[1]\tvalid_0's binary_logloss: 0.16099\n",
            "Training until validation scores don't improve for 200 rounds\n",
            "Did not meet early stopping. Best iteration is:\n",
            "[1]\tvalid_0's binary_logloss: 0.16086\n",
            "Training until validation scores don't improve for 200 rounds\n",
            "Did not meet early stopping. Best iteration is:\n",
            "[3]\tvalid_0's binary_logloss: 0.151641\n",
            "Training until validation scores don't improve for 200 rounds\n",
            "Did not meet early stopping. Best iteration is:\n",
            "[1]\tvalid_0's binary_logloss: 0.161608\n",
            "Training until validation scores don't improve for 200 rounds\n",
            "Did not meet early stopping. Best iteration is:\n",
            "[1]\tvalid_0's binary_logloss: 0.16117\n",
            "Did not meet early stopping. Best iteration is:\n",
            "[3]\tvalid_0's binary_logloss: 0.151819\n",
            "Training until validation scores don't improve for 200 rounds\n",
            "Training until validation scores don't improve for 200 rounds\n"
          ]
        },
        {
          "output_type": "stream",
          "name": "stderr",
          "text": [
            "[I 2024-02-20 10:47:14,002] Trial 17 finished with value: 0.3208838477070716 and parameters: {'learning_rate': 0.09851530745490013, 'num_leaves': 36, 'max_depth': 6, 'scale_pos_weight': 25.597387992342085, 'subsample': 0.8001603924131853, 'colsample_bytree': 0.9974645093031201, 'lambda_l1': 4.771815752032544e-07, 'lambda_l2': 6.4865097586773e-06, 'min_child_samples': 59, 'min_child_weight': 0.0027482251635740414, 'bagging_fraction': 0.6667064956473236, 'bagging_freq': 3, 'feature_fraction': 0.6780186839650433, 'min_split_gain': 0.8554644321529355}. Best is trial 5 with value: 0.5067979345388423.\n"
          ]
        },
        {
          "output_type": "stream",
          "name": "stdout",
          "text": [
            "Did not meet early stopping. Best iteration is:\n",
            "[1]\tvalid_0's binary_logloss: 0.160849\n",
            "Training until validation scores don't improve for 200 rounds\n",
            "Did not meet early stopping. Best iteration is:\n",
            "[3]\tvalid_0's binary_logloss: 0.154197\n",
            "Training until validation scores don't improve for 200 rounds\n",
            "Did not meet early stopping. Best iteration is:\n",
            "[100]\tvalid_0's binary_logloss: 0.100729\n",
            "Training until validation scores don't improve for 200 rounds\n",
            "Did not meet early stopping. Best iteration is:\n",
            "[3]\tvalid_0's binary_logloss: 0.152234\n",
            "Training until validation scores don't improve for 200 rounds\n",
            "Did not meet early stopping. Best iteration is:\n",
            "[100]\tvalid_0's binary_logloss: 0.098869\n",
            "Training until validation scores don't improve for 200 rounds\n"
          ]
        },
        {
          "output_type": "stream",
          "name": "stderr",
          "text": [
            "[I 2024-02-20 10:47:26,642] Trial 18 finished with value: 0.38431051350115286 and parameters: {'learning_rate': 0.05852880116814156, 'num_leaves': 141, 'max_depth': 10, 'scale_pos_weight': 42.85170606889601, 'subsample': 0.7920645704967281, 'colsample_bytree': 0.9087045063417813, 'lambda_l1': 0.036278804045680436, 'lambda_l2': 5.99376709459286e-06, 'min_child_samples': 19, 'min_child_weight': 0.09106770349473019, 'bagging_fraction': 0.6762023648743187, 'bagging_freq': 3, 'feature_fraction': 0.6831794036670629, 'min_split_gain': 0.5083560812984498}. Best is trial 5 with value: 0.5067979345388423.\n"
          ]
        },
        {
          "output_type": "stream",
          "name": "stdout",
          "text": [
            "Did not meet early stopping. Best iteration is:\n",
            "[3]\tvalid_0's binary_logloss: 0.150946\n",
            "Training until validation scores don't improve for 200 rounds\n",
            "Did not meet early stopping. Best iteration is:\n",
            "[100]\tvalid_0's binary_logloss: 0.102534\n",
            "Training until validation scores don't improve for 200 rounds\n",
            "Did not meet early stopping. Best iteration is:\n",
            "[100]\tvalid_0's binary_logloss: 0.0993428\n",
            "Training until validation scores don't improve for 200 rounds\n",
            "Did not meet early stopping. Best iteration is:\n",
            "[100]\tvalid_0's binary_logloss: 0.104609\n",
            "Did not meet early stopping. Best iteration is:\n",
            "[96]\tvalid_0's binary_logloss: 0.0959897\n",
            "Training until validation scores don't improve for 200 rounds\n",
            "Training until validation scores don't improve for 200 rounds\n",
            "Did not meet early stopping. Best iteration is:\n",
            "[96]\tvalid_0's binary_logloss: 0.0997123\n",
            "Training until validation scores don't improve for 200 rounds\n",
            "Did not meet early stopping. Best iteration is:\n",
            "[100]\tvalid_0's binary_logloss: 0.102309\n"
          ]
        },
        {
          "output_type": "stream",
          "name": "stderr",
          "text": [
            "[I 2024-02-20 10:47:40,007] Trial 19 finished with value: 0.4614992740915243 and parameters: {'learning_rate': 0.0576190695368274, 'num_leaves': 138, 'max_depth': 10, 'scale_pos_weight': 2.2493411475830185, 'subsample': 0.7607393747262381, 'colsample_bytree': 0.9249805839225529, 'lambda_l1': 0.015622112763813605, 'lambda_l2': 3.8061621393318052, 'min_child_samples': 19, 'min_child_weight': 0.0645101391153902, 'bagging_fraction': 0.9336672067189573, 'bagging_freq': 4, 'feature_fraction': 0.9185197000340126, 'min_split_gain': 0.5227189051310198}. Best is trial 5 with value: 0.5067979345388423.\n"
          ]
        },
        {
          "output_type": "stream",
          "name": "stdout",
          "text": [
            "Training until validation scores don't improve for 200 rounds\n",
            "Did not meet early stopping. Best iteration is:\n",
            "[100]\tvalid_0's binary_logloss: 0.100888\n",
            "Training until validation scores don't improve for 200 rounds\n",
            "Did not meet early stopping. Best iteration is:\n",
            "[100]\tvalid_0's binary_logloss: 0.0991407\n",
            "Training until validation scores don't improve for 200 rounds\n",
            "Did not meet early stopping. Best iteration is:\n",
            "[99]\tvalid_0's binary_logloss: 0.100344\n"
          ]
        },
        {
          "output_type": "stream",
          "name": "stderr",
          "text": [
            "[I 2024-02-20 10:47:46,030] Trial 20 finished with value: 0.5034237493805437 and parameters: {'learning_rate': 0.0821726981961421, 'num_leaves': 203, 'max_depth': 10, 'scale_pos_weight': 1.0641170028454994, 'subsample': 0.8488974496927392, 'colsample_bytree': 0.6595281599622849, 'lambda_l1': 0.019863481696132942, 'lambda_l2': 7.582763518311474, 'min_child_samples': 74, 'min_child_weight': 0.024258483733764033, 'bagging_fraction': 0.8216700612758502, 'bagging_freq': 4, 'feature_fraction': 0.916005970934112, 'min_split_gain': 0.46340979707042507}. Best is trial 5 with value: 0.5067979345388423.\n"
          ]
        },
        {
          "output_type": "stream",
          "name": "stdout",
          "text": [
            "Training until validation scores don't improve for 200 rounds\n",
            "Did not meet early stopping. Best iteration is:\n",
            "[100]\tvalid_0's binary_logloss: 0.0954207\n",
            "Training until validation scores don't improve for 200 rounds\n",
            "Did not meet early stopping. Best iteration is:\n",
            "[100]\tvalid_0's binary_logloss: 0.100196\n",
            "Training until validation scores don't improve for 200 rounds\n",
            "Did not meet early stopping. Best iteration is:\n",
            "[96]\tvalid_0's binary_logloss: 0.0997402\n",
            "Training until validation scores don't improve for 200 rounds\n",
            "Did not meet early stopping. Best iteration is:\n",
            "[99]\tvalid_0's binary_logloss: 0.0966524\n",
            "Training until validation scores don't improve for 200 rounds\n",
            "Did not meet early stopping. Best iteration is:\n",
            "[100]\tvalid_0's binary_logloss: 0.100581\n",
            "Training until validation scores don't improve for 200 rounds\n",
            "Did not meet early stopping. Best iteration is:\n",
            "[100]\tvalid_0's binary_logloss: 0.0999216\n",
            "Training until validation scores don't improve for 200 rounds\n",
            "Did not meet early stopping. Best iteration is:\n",
            "[96]\tvalid_0's binary_logloss: 0.0999971\n"
          ]
        },
        {
          "output_type": "stream",
          "name": "stderr",
          "text": [
            "[I 2024-02-20 10:48:00,780] Trial 21 finished with value: 0.48766565804191087 and parameters: {'learning_rate': 0.08321329305623214, 'num_leaves': 272, 'max_depth': 11, 'scale_pos_weight': 1.5157529749537497, 'subsample': 0.7524529257400865, 'colsample_bytree': 0.6865301373348783, 'lambda_l1': 0.0007685948201596228, 'lambda_l2': 8.71717038446642, 'min_child_samples': 16, 'min_child_weight': 0.0002654801751015865, 'bagging_fraction': 0.8314180957973024, 'bagging_freq': 4, 'feature_fraction': 0.9289144808706639, 'min_split_gain': 0.786602187867446}. Best is trial 5 with value: 0.5067979345388423.\n"
          ]
        },
        {
          "output_type": "stream",
          "name": "stdout",
          "text": [
            "Training until validation scores don't improve for 200 rounds\n",
            "Did not meet early stopping. Best iteration is:\n",
            "[100]\tvalid_0's binary_logloss: 0.102773\n",
            "Training until validation scores don't improve for 200 rounds\n",
            "Did not meet early stopping. Best iteration is:\n",
            "[100]\tvalid_0's binary_logloss: 0.0971337\n",
            "Training until validation scores don't improve for 200 rounds\n",
            "Did not meet early stopping. Best iteration is:\n",
            "[97]\tvalid_0's binary_logloss: 0.10001\n"
          ]
        },
        {
          "output_type": "stream",
          "name": "stderr",
          "text": [
            "[I 2024-02-20 10:48:08,328] Trial 22 finished with value: 0.48137130859525473 and parameters: {'learning_rate': 0.08605331790023182, 'num_leaves': 204, 'max_depth': 11, 'scale_pos_weight': 1.625927812389551, 'subsample': 0.7506902786673573, 'colsample_bytree': 0.6676489455061569, 'lambda_l1': 0.00015218213959563722, 'lambda_l2': 9.47836989488601, 'min_child_samples': 73, 'min_child_weight': 0.037616593938737786, 'bagging_fraction': 0.8377565478393169, 'bagging_freq': 4, 'feature_fraction': 0.9291453206318919, 'min_split_gain': 0.5555763759268644}. Best is trial 5 with value: 0.5067979345388423.\n"
          ]
        },
        {
          "output_type": "stream",
          "name": "stdout",
          "text": [
            "Training until validation scores don't improve for 200 rounds\n",
            "Did not meet early stopping. Best iteration is:\n",
            "[100]\tvalid_0's binary_logloss: 0.093323\n",
            "Training until validation scores don't improve for 200 rounds\n",
            "Did not meet early stopping. Best iteration is:\n",
            "[92]\tvalid_0's binary_logloss: 0.0987054\n",
            "Did not meet early stopping. Best iteration is:\n",
            "[100]\tvalid_0's binary_logloss: 0.119941\n",
            "Training until validation scores don't improve for 200 rounds\n",
            "Training until validation scores don't improve for 200 rounds\n",
            "Did not meet early stopping. Best iteration is:\n",
            "[96]\tvalid_0's binary_logloss: 0.100204\n",
            "Training until validation scores don't improve for 200 rounds\n",
            "Did not meet early stopping. Best iteration is:\n",
            "[100]\tvalid_0's binary_logloss: 0.11825\n",
            "Did not meet early stopping. Best iteration is:\n",
            "[96]\tvalid_0's binary_logloss: 0.0977515\n"
          ]
        },
        {
          "output_type": "stream",
          "name": "stderr",
          "text": [
            "[I 2024-02-20 10:48:22,800] Trial 23 finished with value: 0.5180709923499973 and parameters: {'learning_rate': 0.08882409009213182, 'num_leaves': 283, 'max_depth': 11, 'scale_pos_weight': 1.0702753656481256, 'subsample': 0.6734537035671193, 'colsample_bytree': 0.6597118144729206, 'lambda_l1': 0.0003213344754732043, 'lambda_l2': 0.7165781711273375, 'min_child_samples': 71, 'min_child_weight': 0.00023211977014427925, 'bagging_fraction': 0.8211330366495883, 'bagging_freq': 4, 'feature_fraction': 0.9293582175470996, 'min_split_gain': 0.8330176078763155}. Best is trial 23 with value: 0.5180709923499973.\n"
          ]
        },
        {
          "output_type": "stream",
          "name": "stdout",
          "text": [
            "Training until validation scores don't improve for 200 rounds\n",
            "Training until validation scores don't improve for 200 rounds\n",
            "Did not meet early stopping. Best iteration is:\n",
            "[3]\tvalid_0's binary_logloss: 0.141517\n",
            "Training until validation scores don't improve for 200 rounds\n",
            "Did not meet early stopping. Best iteration is:\n",
            "[92]\tvalid_0's binary_logloss: 0.125452\n",
            "Training until validation scores don't improve for 200 rounds\n",
            "Did not meet early stopping. Best iteration is:\n",
            "[3]\tvalid_0's binary_logloss: 0.142479\n",
            "Training until validation scores don't improve for 200 rounds\n",
            "Did not meet early stopping. Best iteration is:\n",
            "[3]\tvalid_0's binary_logloss: 0.143296\n",
            "Did not meet early stopping. Best iteration is:\n",
            "[100]\tvalid_0's binary_logloss: 0.123569\n",
            "Training until validation scores don't improve for 200 rounds\n",
            "Training until validation scores don't improve for 200 rounds\n",
            "Did not meet early stopping. Best iteration is:\n",
            "[3]\tvalid_0's binary_logloss: 0.142834\n",
            "Training until validation scores don't improve for 200 rounds\n",
            "Did not meet early stopping. Best iteration is:\n",
            "[100]\tvalid_0's binary_logloss: 0.123425\n"
          ]
        },
        {
          "output_type": "stream",
          "name": "stderr",
          "text": [
            "[I 2024-02-20 10:48:44,622] Trial 24 finished with value: 0.42338400682364563 and parameters: {'learning_rate': 0.09039527856254109, 'num_leaves': 274, 'max_depth': 12, 'scale_pos_weight': 10.56445826067868, 'subsample': 0.8532459663087609, 'colsample_bytree': 0.6627998266090991, 'lambda_l1': 0.0004320390597293914, 'lambda_l2': 0.7169189490506988, 'min_child_samples': 13, 'min_child_weight': 0.00023336469764956346, 'bagging_fraction': 0.815879045214928, 'bagging_freq': 5, 'feature_fraction': 0.8816956952819088, 'min_split_gain': 0.8288165462879175}. Best is trial 23 with value: 0.5180709923499973.\n",
            "[I 2024-02-20 10:48:45,030] Trial 25 finished with value: 0.3759961013066501 and parameters: {'learning_rate': 0.09394816061809833, 'num_leaves': 274, 'max_depth': 8, 'scale_pos_weight': 10.477384633248805, 'subsample': 0.6425390284579693, 'colsample_bytree': 0.6559846218600649, 'lambda_l1': 0.0004682095239827352, 'lambda_l2': 0.54535358018832, 'min_child_samples': 71, 'min_child_weight': 0.000323973667972224, 'bagging_fraction': 0.8044565584121293, 'bagging_freq': 5, 'feature_fraction': 0.8798160417244583, 'min_split_gain': 0.89633583875698}. Best is trial 23 with value: 0.5180709923499973.\n"
          ]
        },
        {
          "output_type": "stream",
          "name": "stdout",
          "text": [
            "Did not meet early stopping. Best iteration is:\n",
            "[3]\tvalid_0's binary_logloss: 0.140916\n",
            "Training until validation scores don't improve for 200 rounds\n",
            "Training until validation scores don't improve for 200 rounds\n",
            "Did not meet early stopping. Best iteration is:\n",
            "[4]\tvalid_0's binary_logloss: 0.139285\n",
            "Training until validation scores don't improve for 200 rounds\n",
            "Did not meet early stopping. Best iteration is:\n",
            "[100]\tvalid_0's binary_logloss: 0.116498\n",
            "Did not meet early stopping. Best iteration is:\n",
            "[5]\tvalid_0's binary_logloss: 0.137377\n",
            "Training until validation scores don't improve for 200 rounds\n",
            "Training until validation scores don't improve for 200 rounds\n",
            "Did not meet early stopping. Best iteration is:\n",
            "[4]\tvalid_0's binary_logloss: 0.138877\n",
            "Training until validation scores don't improve for 200 rounds\n",
            "Did not meet early stopping. Best iteration is:\n",
            "[98]\tvalid_0's binary_logloss: 0.114767\n",
            "Training until validation scores don't improve for 200 rounds\n",
            "Did not meet early stopping. Best iteration is:\n",
            "[4]\tvalid_0's binary_logloss: 0.139836\n",
            "Training until validation scores don't improve for 200 rounds\n"
          ]
        },
        {
          "output_type": "stream",
          "name": "stderr",
          "text": [
            "[I 2024-02-20 10:49:05,861] Trial 26 finished with value: 0.39566200684127234 and parameters: {'learning_rate': 0.07590885885465704, 'num_leaves': 212, 'max_depth': 8, 'scale_pos_weight': 10.133593110235434, 'subsample': 0.6701183191056213, 'colsample_bytree': 0.6447875382792553, 'lambda_l1': 1.0009953335367934e-05, 'lambda_l2': 0.07970681372434556, 'min_child_samples': 80, 'min_child_weight': 0.002012296386515986, 'bagging_fraction': 0.9085311391115392, 'bagging_freq': 7, 'feature_fraction': 0.9484167768120251, 'min_split_gain': 0.8753799198954311}. Best is trial 23 with value: 0.5180709923499973.\n"
          ]
        },
        {
          "output_type": "stream",
          "name": "stdout",
          "text": [
            "Did not meet early stopping. Best iteration is:\n",
            "[4]\tvalid_0's binary_logloss: 0.139468\n",
            "Training until validation scores don't improve for 200 rounds\n",
            "Did not meet early stopping. Best iteration is:\n",
            "[100]\tvalid_0's binary_logloss: 0.120289\n",
            "Training until validation scores don't improve for 200 rounds\n",
            "Did not meet early stopping. Best iteration is:\n",
            "[100]\tvalid_0's binary_logloss: 0.109323\n",
            "Training until validation scores don't improve for 200 rounds\n",
            "Did not meet early stopping. Best iteration is:\n",
            "[100]\tvalid_0's binary_logloss: 0.118673\n",
            "Training until validation scores don't improve for 200 rounds\n",
            "Did not meet early stopping. Best iteration is:\n",
            "[100]\tvalid_0's binary_logloss: 0.108099\n",
            "Training until validation scores don't improve for 200 rounds\n",
            "Did not meet early stopping. Best iteration is:\n",
            "[100]\tvalid_0's binary_logloss: 0.11831\n"
          ]
        },
        {
          "output_type": "stream",
          "name": "stderr",
          "text": [
            "[I 2024-02-20 10:49:23,259] Trial 27 finished with value: 0.4265141899556159 and parameters: {'learning_rate': 0.07599344730716934, 'num_leaves': 204, 'max_depth': 15, 'scale_pos_weight': 7.689827941469435, 'subsample': 0.6753119560568259, 'colsample_bytree': 0.7237549981599021, 'lambda_l1': 1.6903705533130756e-05, 'lambda_l2': 0.05254121181185766, 'min_child_samples': 85, 'min_child_weight': 0.002396867517875836, 'bagging_fraction': 0.8956026907008079, 'bagging_freq': 2, 'feature_fraction': 0.9545385481478936, 'min_split_gain': 0.40649517994154927}. Best is trial 23 with value: 0.5180709923499973.\n"
          ]
        },
        {
          "output_type": "stream",
          "name": "stdout",
          "text": [
            "Training until validation scores don't improve for 200 rounds\n",
            "Did not meet early stopping. Best iteration is:\n",
            "[100]\tvalid_0's binary_logloss: 0.112438\n",
            "Training until validation scores don't improve for 200 rounds\n",
            "Did not meet early stopping. Best iteration is:\n",
            "[100]\tvalid_0's binary_logloss: 0.106774\n",
            "Training until validation scores don't improve for 200 rounds\n",
            "Did not meet early stopping. Best iteration is:\n",
            "[100]\tvalid_0's binary_logloss: 0.112484\n",
            "Training until validation scores don't improve for 200 rounds\n",
            "Did not meet early stopping. Best iteration is:\n",
            "[100]\tvalid_0's binary_logloss: 0.104462\n",
            "Training until validation scores don't improve for 200 rounds\n",
            "Did not meet early stopping. Best iteration is:\n",
            "[100]\tvalid_0's binary_logloss: 0.110442\n"
          ]
        },
        {
          "output_type": "stream",
          "name": "stderr",
          "text": [
            "[I 2024-02-20 10:49:36,691] Trial 28 finished with value: 0.43661643599929983 and parameters: {'learning_rate': 0.07563724252159726, 'num_leaves': 163, 'max_depth': 12, 'scale_pos_weight': 5.1038286703787215, 'subsample': 0.6189656783945239, 'colsample_bytree': 0.727115967936727, 'lambda_l1': 0.0585087751851133, 'lambda_l2': 0.0020553956933546066, 'min_child_samples': 70, 'min_child_weight': 4.414205087834023e-05, 'bagging_fraction': 0.7801768719032018, 'bagging_freq': 2, 'feature_fraction': 0.9540443237794799, 'min_split_gain': 0.33229961521650886}. Best is trial 23 with value: 0.5180709923499973.\n"
          ]
        },
        {
          "output_type": "stream",
          "name": "stdout",
          "text": [
            "Training until validation scores don't improve for 200 rounds\n",
            "Did not meet early stopping. Best iteration is:\n",
            "[100]\tvalid_0's binary_logloss: 0.108311\n",
            "Training until validation scores don't improve for 200 rounds\n",
            "Did not meet early stopping. Best iteration is:\n",
            "[99]\tvalid_0's binary_logloss: 0.110617\n",
            "Training until validation scores don't improve for 200 rounds\n",
            "Did not meet early stopping. Best iteration is:\n",
            "[100]\tvalid_0's binary_logloss: 0.110236\n",
            "Did not meet early stopping. Best iteration is:\n",
            "[100]\tvalid_0's binary_logloss: 0.106883\n",
            "Training until validation scores don't improve for 200 rounds\n",
            "Training until validation scores don't improve for 200 rounds\n",
            "Did not meet early stopping. Best iteration is:\n",
            "[100]\tvalid_0's binary_logloss: 0.112357\n",
            "Did not meet early stopping. Best iteration is:\n",
            "[100]\tvalid_0's binary_logloss: 0.108108\n"
          ]
        },
        {
          "output_type": "stream",
          "name": "stderr",
          "text": [
            "[I 2024-02-20 10:49:51,619] Trial 29 finished with value: 0.4450482125596206 and parameters: {'learning_rate': 0.0905479618019189, 'num_leaves': 162, 'max_depth': 12, 'scale_pos_weight': 4.214562939008307, 'subsample': 0.6006890976139923, 'colsample_bytree': 0.6092281392729244, 'lambda_l1': 0.060061006294390706, 'lambda_l2': 1.5020088590013136, 'min_child_samples': 67, 'min_child_weight': 4.407885259974672e-05, 'bagging_fraction': 0.7894020992415823, 'bagging_freq': 2, 'feature_fraction': 0.8926088821688654, 'min_split_gain': 0.2972390089414544}. Best is trial 23 with value: 0.5180709923499973.\n"
          ]
        },
        {
          "output_type": "stream",
          "name": "stdout",
          "text": [
            "Training until validation scores don't improve for 200 rounds\n",
            "Training until validation scores don't improve for 200 rounds\n",
            "Did not meet early stopping. Best iteration is:\n",
            "[100]\tvalid_0's binary_logloss: 0.113092\n",
            "Did not meet early stopping. Best iteration is:\n",
            "[5]\tvalid_0's binary_logloss: 0.134902\n",
            "Training until validation scores don't improve for 200 rounds\n",
            "Training until validation scores don't improve for 200 rounds\n",
            "Did not meet early stopping. Best iteration is:\n",
            "[100]\tvalid_0's binary_logloss: 0.11175\n"
          ]
        },
        {
          "output_type": "stream",
          "name": "stderr",
          "text": [
            "[I 2024-02-20 10:50:00,255] Trial 30 finished with value: 0.4264618147798574 and parameters: {'learning_rate': 0.09152792352063899, 'num_leaves': 242, 'max_depth': 10, 'scale_pos_weight': 4.298824991485734, 'subsample': 0.7209428519419598, 'colsample_bytree': 0.7982948521558922, 'lambda_l1': 1.914879574085556e-06, 'lambda_l2': 2.3905586019963185, 'min_child_samples': 38, 'min_child_weight': 6.599771523508116e-05, 'bagging_fraction': 0.7175752010407568, 'bagging_freq': 6, 'feature_fraction': 0.8995360293777179, 'min_split_gain': 0.5920716591980175}. Best is trial 23 with value: 0.5180709923499973.\n"
          ]
        },
        {
          "output_type": "stream",
          "name": "stdout",
          "text": [
            "Did not meet early stopping. Best iteration is:\n",
            "[4]\tvalid_0's binary_logloss: 0.134566\n",
            "Training until validation scores don't improve for 200 rounds\n",
            "Training until validation scores don't improve for 200 rounds\n",
            "Did not meet early stopping. Best iteration is:\n",
            "[76]\tvalid_0's binary_logloss: 0.0942224\n",
            "Did not meet early stopping. Best iteration is:\n",
            "[4]\tvalid_0's binary_logloss: 0.137623\n",
            "Training until validation scores don't improve for 200 rounds\n",
            "Training until validation scores don't improve for 200 rounds\n",
            "Did not meet early stopping. Best iteration is:\n",
            "[68]\tvalid_0's binary_logloss: 0.0947434\n",
            "Did not meet early stopping. Best iteration is:\n",
            "[4]\tvalid_0's binary_logloss: 0.137655\n",
            "Training until validation scores don't improve for 200 rounds\n",
            "Training until validation scores don't improve for 200 rounds\n",
            "Did not meet early stopping. Best iteration is:\n",
            "[73]\tvalid_0's binary_logloss: 0.0969284\n",
            "Did not meet early stopping. Best iteration is:\n",
            "[4]\tvalid_0's binary_logloss: 0.135028\n"
          ]
        },
        {
          "output_type": "stream",
          "name": "stderr",
          "text": [
            "[I 2024-02-20 10:50:16,494] Trial 31 finished with value: 0.3801889544935607 and parameters: {'learning_rate': 0.06589189417563718, 'num_leaves': 246, 'max_depth': 10, 'scale_pos_weight': 14.170624964231163, 'subsample': 0.9783814034651972, 'colsample_bytree': 0.7837864489358556, 'lambda_l1': 5.925158660264972e-07, 'lambda_l2': 0.25906233188291944, 'min_child_samples': 39, 'min_child_weight': 1.0957328579284004e-05, 'bagging_fraction': 0.7120567266820302, 'bagging_freq': 6, 'feature_fraction': 0.9955430225017434, 'min_split_gain': 0.592065520579298}. Best is trial 23 with value: 0.5180709923499973.\n"
          ]
        },
        {
          "output_type": "stream",
          "name": "stdout",
          "text": [
            "Training until validation scores don't improve for 200 rounds\n",
            "Training until validation scores don't improve for 200 rounds\n",
            "Did not meet early stopping. Best iteration is:\n",
            "[100]\tvalid_0's binary_logloss: 0.0986996\n",
            "Did not meet early stopping. Best iteration is:\n",
            "[96]\tvalid_0's binary_logloss: 0.0976241\n",
            "Training until validation scores don't improve for 200 rounds\n",
            "Training until validation scores don't improve for 200 rounds\n",
            "Did not meet early stopping. Best iteration is:\n",
            "[100]\tvalid_0's binary_logloss: 0.0952163\n",
            "Training until validation scores don't improve for 200 rounds\n",
            "Did not meet early stopping. Best iteration is:\n",
            "[44]\tvalid_0's binary_logloss: 0.0972812\n"
          ]
        },
        {
          "output_type": "stream",
          "name": "stderr",
          "text": [
            "[I 2024-02-20 10:50:37,788] Trial 32 finished with value: 0.5166848698778372 and parameters: {'learning_rate': 0.0815806351080554, 'num_leaves': 299, 'max_depth': 11, 'scale_pos_weight': 1.4775365622703234, 'subsample': 0.7784903353550241, 'colsample_bytree': 0.6827052464344133, 'lambda_l1': 0.0009092679727951494, 'lambda_l2': 0.23738201930074943, 'min_child_samples': 12, 'min_child_weight': 0.0003120341903721349, 'bagging_fraction': 0.8350402310057782, 'bagging_freq': 4, 'feature_fraction': 0.8528280554973657, 'min_split_gain': 0.7720174831296235}. Best is trial 23 with value: 0.5180709923499973.\n"
          ]
        },
        {
          "output_type": "stream",
          "name": "stdout",
          "text": [
            "Training until validation scores don't improve for 200 rounds\n",
            "Did not meet early stopping. Best iteration is:\n",
            "[89]\tvalid_0's binary_logloss: 0.10057\n",
            "Training until validation scores don't improve for 200 rounds\n",
            "Did not meet early stopping. Best iteration is:\n",
            "[99]\tvalid_0's binary_logloss: 0.12242\n",
            "Training until validation scores don't improve for 200 rounds\n",
            "Did not meet early stopping. Best iteration is:\n",
            "[94]\tvalid_0's binary_logloss: 0.101564\n",
            "Training until validation scores don't improve for 200 rounds\n",
            "Did not meet early stopping. Best iteration is:\n",
            "[100]\tvalid_0's binary_logloss: 0.120579\n",
            "Training until validation scores don't improve for 200 rounds\n",
            "Did not meet early stopping. Best iteration is:\n",
            "[96]\tvalid_0's binary_logloss: 0.0999228\n"
          ]
        },
        {
          "output_type": "stream",
          "name": "stderr",
          "text": [
            "[I 2024-02-20 10:50:57,106] Trial 33 finished with value: 0.482932185172101 and parameters: {'learning_rate': 0.08129034094349387, 'num_leaves': 296, 'max_depth': 11, 'scale_pos_weight': 1.9725546112116006, 'subsample': 0.7325113545651987, 'colsample_bytree': 0.690733349076435, 'lambda_l1': 0.0009051756115335358, 'lambda_l2': 0.16428553241321575, 'min_child_samples': 76, 'min_child_weight': 0.00032017532602935257, 'bagging_fraction': 0.8279638221154975, 'bagging_freq': 4, 'feature_fraction': 0.8579123811701994, 'min_split_gain': 0.7837390343503698}. Best is trial 23 with value: 0.5180709923499973.\n"
          ]
        },
        {
          "output_type": "stream",
          "name": "stdout",
          "text": [
            "Training until validation scores don't improve for 200 rounds\n",
            "Did not meet early stopping. Best iteration is:\n",
            "[99]\tvalid_0's binary_logloss: 0.123904\n",
            "Training until validation scores don't improve for 200 rounds\n",
            "Did not meet early stopping. Best iteration is:\n",
            "[7]\tvalid_0's binary_logloss: 0.13663\n",
            "Training until validation scores don't improve for 200 rounds\n",
            "Did not meet early stopping. Best iteration is:\n",
            "[100]\tvalid_0's binary_logloss: 0.134253\n",
            "Did not meet early stopping. Best iteration is:\n",
            "[100]\tvalid_0's binary_logloss: 0.126553\n",
            "Training until validation scores don't improve for 200 rounds\n",
            "Training until validation scores don't improve for 200 rounds\n",
            "Did not meet early stopping. Best iteration is:\n",
            "[7]\tvalid_0's binary_logloss: 0.13558\n",
            "Training until validation scores don't improve for 200 rounds\n",
            "Did not meet early stopping. Best iteration is:\n",
            "[100]\tvalid_0's binary_logloss: 0.126232\n"
          ]
        },
        {
          "output_type": "stream",
          "name": "stderr",
          "text": [
            "[I 2024-02-20 10:51:11,355] Trial 34 finished with value: 0.39689703353501304 and parameters: {'learning_rate': 0.08011365001910153, 'num_leaves': 300, 'max_depth': 11, 'scale_pos_weight': 7.4431146483886765, 'subsample': 0.8978225666609633, 'colsample_bytree': 0.6837104045383972, 'lambda_l1': 0.0001267491683202041, 'lambda_l2': 0.1770773894214973, 'min_child_samples': 76, 'min_child_weight': 0.00035407902362402617, 'bagging_fraction': 0.8392971586438996, 'bagging_freq': 4, 'feature_fraction': 0.8611693482703993, 'min_split_gain': 0.736798406114773}. Best is trial 23 with value: 0.5180709923499973.\n"
          ]
        },
        {
          "output_type": "stream",
          "name": "stdout",
          "text": [
            "Training until validation scores don't improve for 200 rounds\n",
            "Did not meet early stopping. Best iteration is:\n",
            "[5]\tvalid_0's binary_logloss: 0.137539\n",
            "Training until validation scores don't improve for 200 rounds\n",
            "Did not meet early stopping. Best iteration is:\n",
            "[100]\tvalid_0's binary_logloss: 0.122832\n",
            "Training until validation scores don't improve for 200 rounds\n"
          ]
        },
        {
          "output_type": "stream",
          "name": "stderr",
          "text": [
            "[I 2024-02-20 10:51:19,034] Trial 35 finished with value: 0.383672273432267 and parameters: {'learning_rate': 0.068025542580232, 'num_leaves': 260, 'max_depth': 9, 'scale_pos_weight': 7.751040354950648, 'subsample': 0.8792111057513817, 'colsample_bytree': 0.6843787658305315, 'lambda_l1': 0.00011628801677307536, 'lambda_l2': 1.4260556134556959, 'min_child_samples': 88, 'min_child_weight': 0.00015764206781838707, 'bagging_fraction': 0.8428810863436659, 'bagging_freq': 4, 'feature_fraction': 0.808507070417586, 'min_split_gain': 0.7095089824331702}. Best is trial 23 with value: 0.5180709923499973.\n"
          ]
        },
        {
          "output_type": "stream",
          "name": "stdout",
          "text": [
            "Did not meet early stopping. Best iteration is:\n",
            "[7]\tvalid_0's binary_logloss: 0.136151\n",
            "Training until validation scores don't improve for 200 rounds\n",
            "Did not meet early stopping. Best iteration is:\n",
            "[100]\tvalid_0's binary_logloss: 0.121458\n",
            "Training until validation scores don't improve for 200 rounds\n",
            "Did not meet early stopping. Best iteration is:\n",
            "[73]\tvalid_0's binary_logloss: 0.105701\n",
            "Training until validation scores don't improve for 200 rounds\n",
            "Did not meet early stopping. Best iteration is:\n",
            "[100]\tvalid_0's binary_logloss: 0.125242\n",
            "Training until validation scores don't improve for 200 rounds\n",
            "Did not meet early stopping. Best iteration is:\n",
            "[66]\tvalid_0's binary_logloss: 0.107065\n",
            "Training until validation scores don't improve for 200 rounds\n",
            "Did not meet early stopping. Best iteration is:\n",
            "[100]\tvalid_0's binary_logloss: 0.127028\n",
            "Training until validation scores don't improve for 200 rounds\n",
            "Did not meet early stopping. Best iteration is:\n",
            "[85]\tvalid_0's binary_logloss: 0.109238\n",
            "Training until validation scores don't improve for 200 rounds\n",
            "Did not meet early stopping. Best iteration is:\n",
            "[100]\tvalid_0's binary_logloss: 0.125935\n"
          ]
        },
        {
          "output_type": "stream",
          "name": "stderr",
          "text": [
            "[I 2024-02-20 10:51:40,405] Trial 36 finished with value: 0.3922214077913815 and parameters: {'learning_rate': 0.07105205293235015, 'num_leaves': 265, 'max_depth': 14, 'scale_pos_weight': 7.337720580792247, 'subsample': 0.8768217602335889, 'colsample_bytree': 0.6327264662457052, 'lambda_l1': 0.0040023279277133, 'lambda_l2': 1.585085876427429, 'min_child_samples': 88, 'min_child_weight': 0.00012977480242805823, 'bagging_fraction': 0.7888443761158372, 'bagging_freq': 5, 'feature_fraction': 0.8025890969114212, 'min_split_gain': 0.9410082954471732}. Best is trial 23 with value: 0.5180709923499973.\n"
          ]
        },
        {
          "output_type": "stream",
          "name": "stdout",
          "text": [
            "Training until validation scores don't improve for 200 rounds\n",
            "Did not meet early stopping. Best iteration is:\n",
            "[82]\tvalid_0's binary_logloss: 0.111813\n",
            "Training until validation scores don't improve for 200 rounds\n",
            "Did not meet early stopping. Best iteration is:\n",
            "[87]\tvalid_0's binary_logloss: 0.0949314\n",
            "Training until validation scores don't improve for 200 rounds\n",
            "Did not meet early stopping. Best iteration is:\n",
            "[93]\tvalid_0's binary_logloss: 0.108237\n"
          ]
        },
        {
          "output_type": "stream",
          "name": "stderr",
          "text": [
            "[I 2024-02-20 10:51:51,385] Trial 37 finished with value: 0.4599943905333685 and parameters: {'learning_rate': 0.088721440479594, 'num_leaves': 284, 'max_depth': 13, 'scale_pos_weight': 5.301137545972214, 'subsample': 0.7798852271430969, 'colsample_bytree': 0.6306394011378513, 'lambda_l1': 0.0054998358315932515, 'lambda_l2': 0.01042335489387909, 'min_child_samples': 10, 'min_child_weight': 0.00014530969436249113, 'bagging_fraction': 0.7944697333086974, 'bagging_freq': 5, 'feature_fraction': 0.8072057930268811, 'min_split_gain': 0.9149467274201756}. Best is trial 23 with value: 0.5180709923499973.\n"
          ]
        },
        {
          "output_type": "stream",
          "name": "stdout",
          "text": [
            "Training until validation scores don't improve for 200 rounds\n",
            "Did not meet early stopping. Best iteration is:\n",
            "[59]\tvalid_0's binary_logloss: 0.0949041\n",
            "Training until validation scores don't improve for 200 rounds\n",
            "Did not meet early stopping. Best iteration is:\n",
            "[93]\tvalid_0's binary_logloss: 0.0985523\n",
            "Training until validation scores don't improve for 200 rounds\n",
            "Did not meet early stopping. Best iteration is:\n",
            "[67]\tvalid_0's binary_logloss: 0.0985114\n",
            "Training until validation scores don't improve for 200 rounds\n",
            "Did not meet early stopping. Best iteration is:\n",
            "[92]\tvalid_0's binary_logloss: 0.0950736\n",
            "Training until validation scores don't improve for 200 rounds\n",
            "Did not meet early stopping. Best iteration is:\n",
            "[100]\tvalid_0's binary_logloss: 0.0995602\n",
            "Training until validation scores don't improve for 200 rounds\n",
            "Did not meet early stopping. Best iteration is:\n",
            "[81]\tvalid_0's binary_logloss: 0.0993608\n",
            "Training until validation scores don't improve for 200 rounds\n",
            "Did not meet early stopping. Best iteration is:\n",
            "[88]\tvalid_0's binary_logloss: 0.102939\n",
            "Training until validation scores don't improve for 200 rounds\n"
          ]
        },
        {
          "output_type": "stream",
          "name": "stderr",
          "text": [
            "[I 2024-02-20 10:52:07,745] Trial 38 finished with value: 0.5119511659315218 and parameters: {'learning_rate': 0.09920964637325821, 'num_leaves': 227, 'max_depth': 13, 'scale_pos_weight': 1.3703198817896762, 'subsample': 0.928740828840235, 'colsample_bytree': 0.6034667892105696, 'lambda_l1': 0.3780116695744914, 'lambda_l2': 0.01889695606360371, 'min_child_samples': 25, 'min_child_weight': 0.0005028738465931597, 'bagging_fraction': 0.7685375097009267, 'bagging_freq': 3, 'feature_fraction': 0.9058439732959513, 'min_split_gain': 0.4358199662937605}. Best is trial 23 with value: 0.5180709923499973.\n"
          ]
        },
        {
          "output_type": "stream",
          "name": "stdout",
          "text": [
            "Did not meet early stopping. Best iteration is:\n",
            "[45]\tvalid_0's binary_logloss: 0.0971125\n",
            "Training until validation scores don't improve for 200 rounds\n",
            "Did not meet early stopping. Best iteration is:\n",
            "[100]\tvalid_0's binary_logloss: 0.0987196\n"
          ]
        },
        {
          "output_type": "stream",
          "name": "stderr",
          "text": [
            "[I 2024-02-20 10:52:08,517] Trial 39 finished with value: 0.5150085896918616 and parameters: {'learning_rate': 0.09974893755501198, 'num_leaves': 232, 'max_depth': 7, 'scale_pos_weight': 1.0308565199194328, 'subsample': 0.8245103813413213, 'colsample_bytree': 0.7225557655077363, 'lambda_l1': 0.2015953408749747, 'lambda_l2': 0.0008333022103979128, 'min_child_samples': 26, 'min_child_weight': 0.00049210840364966, 'bagging_fraction': 0.7667009396437825, 'bagging_freq': 6, 'feature_fraction': 0.9205863945427518, 'min_split_gain': 0.42643565960025126}. Best is trial 23 with value: 0.5180709923499973.\n"
          ]
        },
        {
          "output_type": "stream",
          "name": "stdout",
          "text": [
            "Training until validation scores don't improve for 200 rounds\n",
            "Did not meet early stopping. Best iteration is:\n",
            "[100]\tvalid_0's binary_logloss: 0.124114\n",
            "Training until validation scores don't improve for 200 rounds\n",
            "Did not meet early stopping. Best iteration is:\n",
            "[100]\tvalid_0's binary_logloss: 0.125434\n",
            "Training until validation scores don't improve for 200 rounds\n",
            "Did not meet early stopping. Best iteration is:\n",
            "[100]\tvalid_0's binary_logloss: 0.122696\n",
            "Training until validation scores don't improve for 200 rounds\n",
            "Did not meet early stopping. Best iteration is:\n",
            "[100]\tvalid_0's binary_logloss: 0.125646\n",
            "Training until validation scores don't improve for 200 rounds\n",
            "Did not meet early stopping. Best iteration is:\n",
            "[100]\tvalid_0's binary_logloss: 0.130483\n",
            "Training until validation scores don't improve for 200 rounds\n",
            "Did not meet early stopping. Best iteration is:\n",
            "[100]\tvalid_0's binary_logloss: 0.127605\n",
            "Training until validation scores don't improve for 200 rounds\n",
            "Did not meet early stopping. Best iteration is:\n",
            "[92]\tvalid_0's binary_logloss: 0.125054\n",
            "Training until validation scores don't improve for 200 rounds\n",
            "Did not meet early stopping. Best iteration is:\n",
            "[100]\tvalid_0's binary_logloss: 0.12426\n",
            "Training until validation scores don't improve for 200 rounds\n",
            "Did not meet early stopping. Best iteration is:\n",
            "[100]\tvalid_0's binary_logloss: 0.12756\n"
          ]
        },
        {
          "output_type": "stream",
          "name": "stderr",
          "text": [
            "[I 2024-02-20 10:52:40,583] Trial 40 finished with value: 0.4298801053045869 and parameters: {'learning_rate': 0.09975232989210753, 'num_leaves': 234, 'max_depth': 14, 'scale_pos_weight': 12.147062524741987, 'subsample': 0.9367805658700354, 'colsample_bytree': 0.7168571268975089, 'lambda_l1': 0.3926303013999084, 'lambda_l2': 0.0010897559335043933, 'min_child_samples': 27, 'min_child_weight': 0.00046916572145239756, 'bagging_fraction': 0.6302909147957181, 'bagging_freq': 8, 'feature_fraction': 0.904756965963925, 'min_split_gain': 0.8149435482223084}. Best is trial 23 with value: 0.5180709923499973.\n"
          ]
        },
        {
          "output_type": "stream",
          "name": "stdout",
          "text": [
            "Training until validation scores don't improve for 200 rounds\n",
            "Did not meet early stopping. Best iteration is:\n",
            "[100]\tvalid_0's binary_logloss: 0.125302\n"
          ]
        },
        {
          "output_type": "stream",
          "name": "stderr",
          "text": [
            "[I 2024-02-20 10:52:44,580] Trial 41 finished with value: 0.4343594525727113 and parameters: {'learning_rate': 0.09988780252461835, 'num_leaves': 226, 'max_depth': 14, 'scale_pos_weight': 13.643536590127525, 'subsample': 0.938080679614645, 'colsample_bytree': 0.7316511242876175, 'lambda_l1': 0.6537036964899355, 'lambda_l2': 0.0010676030230291039, 'min_child_samples': 27, 'min_child_weight': 0.0005382095547598265, 'bagging_fraction': 0.7445503350024576, 'bagging_freq': 8, 'feature_fraction': 0.8636793486117924, 'min_split_gain': 0.41705614866722207}. Best is trial 23 with value: 0.5180709923499973.\n"
          ]
        },
        {
          "output_type": "stream",
          "name": "stdout",
          "text": [
            "Did not meet early stopping. Best iteration is:\n",
            "[100]\tvalid_0's binary_logloss: 0.116931\n",
            "Training until validation scores don't improve for 200 rounds\n",
            "Training until validation scores don't improve for 200 rounds\n",
            "Did not meet early stopping. Best iteration is:\n",
            "[100]\tvalid_0's binary_logloss: 0.114115\n",
            "Did not meet early stopping. Best iteration is:\n",
            "[100]\tvalid_0's binary_logloss: 0.114726\n",
            "Training until validation scores don't improve for 200 rounds\n",
            "Training until validation scores don't improve for 200 rounds\n",
            "Did not meet early stopping. Best iteration is:\n",
            "[100]\tvalid_0's binary_logloss: 0.110851\n",
            "Did not meet early stopping. Best iteration is:\n",
            "[100]\tvalid_0's binary_logloss: 0.118209\n",
            "Training until validation scores don't improve for 200 rounds\n",
            "Training until validation scores don't improve for 200 rounds\n",
            "Did not meet early stopping. Best iteration is:\n",
            "[100]\tvalid_0's binary_logloss: 0.114433\n",
            "Did not meet early stopping. Best iteration is:\n",
            "[100]\tvalid_0's binary_logloss: 0.1211\n",
            "Training until validation scores don't improve for 200 rounds\n",
            "Training until validation scores don't improve for 200 rounds\n",
            "Did not meet early stopping. Best iteration is:\n",
            "[100]\tvalid_0's binary_logloss: 0.120333\n"
          ]
        },
        {
          "output_type": "stream",
          "name": "stderr",
          "text": [
            "[I 2024-02-20 10:52:59,897] Trial 42 finished with value: 0.4000669462731289 and parameters: {'learning_rate': 0.09480437584200199, 'num_leaves': 257, 'max_depth': 7, 'scale_pos_weight': 3.982995491087874, 'subsample': 0.9634123896471793, 'colsample_bytree': 0.6015063937868935, 'lambda_l1': 5.003639464785921, 'lambda_l2': 0.02751828162795089, 'min_child_samples': 27, 'min_child_weight': 8.778830444886e-05, 'bagging_fraction': 0.7510972323093115, 'bagging_freq': 3, 'feature_fraction': 0.9674550693715858, 'min_split_gain': 0.40221382269395395}. Best is trial 23 with value: 0.5180709923499973.\n"
          ]
        },
        {
          "output_type": "stream",
          "name": "stdout",
          "text": [
            "Did not meet early stopping. Best iteration is:\n",
            "[100]\tvalid_0's binary_logloss: 0.116214\n",
            "Training until validation scores don't improve for 200 rounds\n",
            "Training until validation scores don't improve for 200 rounds\n",
            "Did not meet early stopping. Best iteration is:\n",
            "[100]\tvalid_0's binary_logloss: 0.115572\n"
          ]
        },
        {
          "output_type": "stream",
          "name": "stderr",
          "text": [
            "[I 2024-02-20 10:53:03,646] Trial 43 finished with value: 0.41069142275479004 and parameters: {'learning_rate': 0.09451427053674104, 'num_leaves': 256, 'max_depth': 7, 'scale_pos_weight': 3.5362893500726127, 'subsample': 0.8268940975505648, 'colsample_bytree': 0.6016865664039227, 'lambda_l1': 4.420410900179418, 'lambda_l2': 5.366659188839658e-05, 'min_child_samples': 24, 'min_child_weight': 8.5838008068673e-05, 'bagging_fraction': 0.765920903281245, 'bagging_freq': 3, 'feature_fraction': 0.967135265987133, 'min_split_gain': 0.27873305993386943}. Best is trial 23 with value: 0.5180709923499973.\n"
          ]
        },
        {
          "output_type": "stream",
          "name": "stdout",
          "text": [
            "Training until validation scores don't improve for 200 rounds\n",
            "Did not meet early stopping. Best iteration is:\n",
            "[55]\tvalid_0's binary_logloss: 0.102274\n",
            "Training until validation scores don't improve for 200 rounds\n",
            "Did not meet early stopping. Best iteration is:\n",
            "[100]\tvalid_0's binary_logloss: 0.117125\n",
            "Training until validation scores don't improve for 200 rounds\n",
            "Did not meet early stopping. Best iteration is:\n",
            "[36]\tvalid_0's binary_logloss: 0.101944\n",
            "Training until validation scores don't improve for 200 rounds\n",
            "Did not meet early stopping. Best iteration is:\n",
            "[98]\tvalid_0's binary_logloss: 0.118446\n",
            "Training until validation scores don't improve for 200 rounds\n",
            "Did not meet early stopping. Best iteration is:\n",
            "[100]\tvalid_0's binary_logloss: 0.120696\n",
            "Did not meet early stopping. Best iteration is:\n",
            "[44]\tvalid_0's binary_logloss: 0.105955\n",
            "Training until validation scores don't improve for 200 rounds\n",
            "Training until validation scores don't improve for 200 rounds\n",
            "Did not meet early stopping. Best iteration is:\n",
            "[100]\tvalid_0's binary_logloss: 0.122448\n",
            "Training until validation scores don't improve for 200 rounds\n",
            "Did not meet early stopping. Best iteration is:\n",
            "[60]\tvalid_0's binary_logloss: 0.105896\n",
            "Training until validation scores don't improve for 200 rounds\n",
            "Did not meet early stopping. Best iteration is:\n",
            "[96]\tvalid_0's binary_logloss: 0.118829\n"
          ]
        },
        {
          "output_type": "stream",
          "name": "stderr",
          "text": [
            "[I 2024-02-20 10:53:36,842] Trial 45 finished with value: 0.4229834410176075 and parameters: {'learning_rate': 0.08659674240721288, 'num_leaves': 285, 'max_depth': 15, 'scale_pos_weight': 8.481514675436486, 'subsample': 0.6965508112704826, 'colsample_bytree': 0.7506176595731285, 'lambda_l1': 1.738367060667944, 'lambda_l2': 0.0004578053524037055, 'min_child_samples': 8, 'min_child_weight': 0.001292120037216227, 'bagging_fraction': 0.806478527835544, 'bagging_freq': 6, 'feature_fraction': 0.9467667145016947, 'min_split_gain': 0.6866604535566297}. Best is trial 23 with value: 0.5180709923499973.\n"
          ]
        },
        {
          "output_type": "stream",
          "name": "stdout",
          "text": [
            "Training until validation scores don't improve for 200 rounds\n",
            "Did not meet early stopping. Best iteration is:\n",
            "[100]\tvalid_0's binary_logloss: 0.127686\n",
            "Did not meet early stopping. Best iteration is:\n",
            "[48]\tvalid_0's binary_logloss: 0.103121\n"
          ]
        },
        {
          "output_type": "stream",
          "name": "stderr",
          "text": [
            "[I 2024-02-20 10:53:40,241] Trial 44 finished with value: 0.48343212186224427 and parameters: {'learning_rate': 0.09430582242317607, 'num_leaves': 282, 'max_depth': 16, 'scale_pos_weight': 3.755508090345249, 'subsample': 0.8258842274006245, 'colsample_bytree': 0.7480630354958425, 'lambda_l1': 0.11228690158211423, 'lambda_l2': 6.376866307266865e-05, 'min_child_samples': 5, 'min_child_weight': 0.0013327477531644353, 'bagging_fraction': 0.7715971074983842, 'bagging_freq': 6, 'feature_fraction': 0.9373304083924174, 'min_split_gain': 0.2607376141061798}. Best is trial 23 with value: 0.5180709923499973.\n"
          ]
        },
        {
          "output_type": "stream",
          "name": "stdout",
          "text": [
            "Training until validation scores don't improve for 200 rounds\n",
            "Training until validation scores don't improve for 200 rounds\n",
            "Did not meet early stopping. Best iteration is:\n",
            "[100]\tvalid_0's binary_logloss: 0.127357\n",
            "Training until validation scores don't improve for 200 rounds\n",
            "Did not meet early stopping. Best iteration is:\n",
            "[100]\tvalid_0's binary_logloss: 0.135136\n",
            "Training until validation scores don't improve for 200 rounds\n",
            "Did not meet early stopping. Best iteration is:\n",
            "[100]\tvalid_0's binary_logloss: 0.128933\n",
            "Training until validation scores don't improve for 200 rounds\n",
            "Did not meet early stopping. Best iteration is:\n",
            "[100]\tvalid_0's binary_logloss: 0.134788\n",
            "Training until validation scores don't improve for 200 rounds\n",
            "Did not meet early stopping. Best iteration is:\n",
            "[100]\tvalid_0's binary_logloss: 0.131531\n",
            "Training until validation scores don't improve for 200 rounds\n",
            "Did not meet early stopping. Best iteration is:\n",
            "[5]\tvalid_0's binary_logloss: 0.135445\n",
            "Training until validation scores don't improve for 200 rounds\n"
          ]
        },
        {
          "output_type": "stream",
          "name": "stderr",
          "text": [
            "[I 2024-02-20 10:53:52,600] Trial 46 finished with value: 0.37542084374952855 and parameters: {'learning_rate': 0.09284107944198941, 'num_leaves': 117, 'max_depth': 6, 'scale_pos_weight': 5.3535973137547455, 'subsample': 0.9178912267435864, 'colsample_bytree': 0.6508307027306609, 'lambda_l1': 0.15446056176067827, 'lambda_l2': 0.10820498747719229, 'min_child_samples': 38, 'min_child_weight': 0.00019642681262665158, 'bagging_fraction': 0.7692437367624413, 'bagging_freq': 3, 'feature_fraction': 0.9331913372527675, 'min_split_gain': 0.988882679004993}. Best is trial 23 with value: 0.5180709923499973.\n"
          ]
        },
        {
          "output_type": "stream",
          "name": "stdout",
          "text": [
            "Did not meet early stopping. Best iteration is:\n",
            "[5]\tvalid_0's binary_logloss: 0.133368\n",
            "Training until validation scores don't improve for 200 rounds\n",
            "Did not meet early stopping. Best iteration is:\n",
            "[5]\tvalid_0's binary_logloss: 0.138184\n",
            "Training until validation scores don't improve for 200 rounds\n"
          ]
        },
        {
          "output_type": "stream",
          "name": "stderr",
          "text": [
            "[I 2024-02-20 10:53:57,389] Trial 47 finished with value: 0.3785204120860912 and parameters: {'learning_rate': 0.08776964376867381, 'num_leaves': 113, 'max_depth': 6, 'scale_pos_weight': 6.220891033504492, 'subsample': 0.6561365651258914, 'colsample_bytree': 0.7052324238494169, 'lambda_l1': 3.5776374067040947e-06, 'lambda_l2': 0.10177376338267467, 'min_child_samples': 36, 'min_child_weight': 0.00021254353009238623, 'bagging_fraction': 0.7307136271072026, 'bagging_freq': 3, 'feature_fraction': 0.9790559981342373, 'min_split_gain': 0.9992630571577814}. Best is trial 23 with value: 0.5180709923499973.\n"
          ]
        },
        {
          "output_type": "stream",
          "name": "stdout",
          "text": [
            "Did not meet early stopping. Best iteration is:\n",
            "[5]\tvalid_0's binary_logloss: 0.135983\n",
            "Training until validation scores don't improve for 200 rounds\n",
            "Did not meet early stopping. Best iteration is:\n",
            "[3]\tvalid_0's binary_logloss: 0.145715\n",
            "Training until validation scores don't improve for 200 rounds\n",
            "Did not meet early stopping. Best iteration is:\n",
            "[98]\tvalid_0's binary_logloss: 0.138796\n",
            "Training until validation scores don't improve for 200 rounds\n",
            "Did not meet early stopping. Best iteration is:\n",
            "[3]\tvalid_0's binary_logloss: 0.144564\n",
            "Training until validation scores don't improve for 200 rounds\n",
            "Did not meet early stopping. Best iteration is:\n",
            "[100]\tvalid_0's binary_logloss: 0.147916\n",
            "Training until validation scores don't improve for 200 rounds\n",
            "Did not meet early stopping. Best iteration is:\n",
            "[3]\tvalid_0's binary_logloss: 0.144978\n",
            "Training until validation scores don't improve for 200 rounds\n",
            "Did not meet early stopping. Best iteration is:\n",
            "[100]\tvalid_0's binary_logloss: 0.152547\n",
            "Training until validation scores don't improve for 200 rounds\n",
            "Did not meet early stopping. Best iteration is:\n",
            "[3]\tvalid_0's binary_logloss: 0.145213\n",
            "Training until validation scores don't improve for 200 rounds\n",
            "Did not meet early stopping. Best iteration is:\n",
            "[100]\tvalid_0's binary_logloss: 0.146242\n",
            "Training until validation scores don't improve for 200 rounds\n"
          ]
        },
        {
          "output_type": "stream",
          "name": "stderr",
          "text": [
            "[I 2024-02-20 10:54:32,161] Trial 48 finished with value: 0.3841135179175432 and parameters: {'learning_rate': 0.06314158685183557, 'num_leaves': 226, 'max_depth': 13, 'scale_pos_weight': 37.65688173196426, 'subsample': 0.6501232821853267, 'colsample_bytree': 0.7031883304502934, 'lambda_l1': 1.2110977220474676e-07, 'lambda_l2': 0.013502123081219411, 'min_child_samples': 34, 'min_child_weight': 0.0004781822037370512, 'bagging_fraction': 0.8500318359156921, 'bagging_freq': 5, 'feature_fraction': 0.7818296585422397, 'min_split_gain': 0.18034739478496797}. Best is trial 23 with value: 0.5180709923499973.\n"
          ]
        },
        {
          "output_type": "stream",
          "name": "stdout",
          "text": [
            "Did not meet early stopping. Best iteration is:\n",
            "[3]\tvalid_0's binary_logloss: 0.143718\n",
            "Did not meet early stopping. Best iteration is:\n",
            "[100]\tvalid_0's binary_logloss: 0.141546\n"
          ]
        },
        {
          "output_type": "stream",
          "name": "stderr",
          "text": [
            "[I 2024-02-20 10:54:33,413] Trial 49 finished with value: 0.42637242794762126 and parameters: {'learning_rate': 0.09710172178024862, 'num_leaves': 226, 'max_depth': 13, 'scale_pos_weight': 40.058108922267984, 'subsample': 0.779289615878859, 'colsample_bytree': 0.6198145102322699, 'lambda_l1': 9.798738109972856e-08, 'lambda_l2': 0.012227423053771343, 'min_child_samples': 23, 'min_child_weight': 0.003814557916734579, 'bagging_fraction': 0.8576336711528254, 'bagging_freq': 1, 'feature_fraction': 0.8309926218449056, 'min_split_gain': 0.1959869943215844}. Best is trial 23 with value: 0.5180709923499973.\n"
          ]
        },
        {
          "output_type": "stream",
          "name": "stdout",
          "text": [
            "Number of finished trials: 50\n",
            "Best trial: {'learning_rate': 0.08882409009213182, 'num_leaves': 283, 'max_depth': 11, 'scale_pos_weight': 1.0702753656481256, 'subsample': 0.6734537035671193, 'colsample_bytree': 0.6597118144729206, 'lambda_l1': 0.0003213344754732043, 'lambda_l2': 0.7165781711273375, 'min_child_samples': 71, 'min_child_weight': 0.00023211977014427925, 'bagging_fraction': 0.8211330366495883, 'bagging_freq': 4, 'feature_fraction': 0.9293582175470996, 'min_split_gain': 0.8330176078763155}\n"
          ]
        }
      ]
    },
    {
      "cell_type": "code",
      "execution_count": null,
      "id": "dbb6ca94",
      "metadata": {
        "colab": {
          "base_uri": "https://localhost:8080/"
        },
        "id": "dbb6ca94",
        "outputId": "de7b8347-b3f9-4312-d62d-3213be093c68"
      },
      "outputs": [
        {
          "output_type": "stream",
          "name": "stdout",
          "text": [
            "######################################## 폴드1 / 폴드5 ########################################\n",
            "Training until validation scores don't improve for 200 rounds\n",
            "Early stopping, best iteration is:\n",
            "[55]\tvalid_0's binary_logloss: 0.058892\n",
            "폴드 1 f1 score: 0.7026455026455026\n",
            "\n",
            "######################################## 폴드2 / 폴드5 ########################################\n",
            "Training until validation scores don't improve for 200 rounds\n",
            "Early stopping, best iteration is:\n",
            "[54]\tvalid_0's binary_logloss: 0.0601306\n",
            "폴드 2 f1 score: 0.7083333333333334\n",
            "\n",
            "######################################## 폴드3 / 폴드5 ########################################\n",
            "Training until validation scores don't improve for 200 rounds\n",
            "Early stopping, best iteration is:\n",
            "[46]\tvalid_0's binary_logloss: 0.0621711\n",
            "폴드 3 f1 score: 0.6886993603411514\n",
            "\n",
            "######################################## 폴드4 / 폴드5 ########################################\n",
            "Training until validation scores don't improve for 200 rounds\n",
            "Early stopping, best iteration is:\n",
            "[58]\tvalid_0's binary_logloss: 0.061831\n",
            "폴드 4 f1 score: 0.6815761448349308\n",
            "\n",
            "######################################## 폴드5 / 폴드5 ########################################\n",
            "Training until validation scores don't improve for 200 rounds\n",
            "Early stopping, best iteration is:\n",
            "[58]\tvalid_0's binary_logloss: 0.0610843\n",
            "폴드 5 f1 score: 0.6855345911949685\n",
            "\n",
            "검증 평균 f1 score: 0.6933577864699774\n"
          ]
        }
      ],
      "source": [
        "from sklearn.model_selection import StratifiedKFold\n",
        "from lightgbm import LGBMClassifier, early_stopping\n",
        "from sklearn.metrics import f1_score\n",
        "\n",
        "folds = StratifiedKFold(n_splits=5, shuffle=True, random_state=0)\n",
        "\n",
        "oof_lgb_val_preds = np.zeros(X_train1.shape[0])\n",
        "oof_lgb_test_preds1 = np.zeros(X_test1.shape[0])\n",
        "\n",
        "object_columns = X_train1.select_dtypes(include=['object']).columns\n",
        "cat_cols=list(object_columns)\n",
        "for col in object_columns:\n",
        "    X_train1[col] = X_train1[col].astype('category')\n",
        "    X_test1[col] = X_test1[col].astype('category')\n",
        "\n",
        "params = study1.best_trial.params\n",
        "\n",
        "f1_score_lgb_list=[]\n",
        "feature_importance_lgb_list1=[]\n",
        "\n",
        "for idx, (train_idx, valid_idx) in enumerate(folds.split(X_train1, y_train)):\n",
        "    print('#'*40, f'폴드{idx+1} / 폴드{folds.n_splits}', \"#\"*40)\n",
        "    X_tr, y_tr = X_train1.iloc[train_idx], y_train.iloc[train_idx]\n",
        "    X_val, y_val = X_train1.iloc[valid_idx], y_train.iloc[valid_idx]\n",
        "    lgb_model1 = LGBMClassifier(**params, n_estimators=1000, verbosity=-1)\n",
        "    lgb_model1.fit(X_tr, y_tr, eval_set=[(X_val, y_val)], eval_metric='f1', callbacks=[early_stopping(stopping_rounds=200)])\n",
        "\n",
        "    oof_lgb_test_preds1 += lgb_model1.predict_proba(X_test1)[:,1] / folds.get_n_splits()\n",
        "    oof_lgb_val_preds[valid_idx] += lgb_model1.predict_proba(X_val)[:,1]\n",
        "\n",
        "    f1 = f1_score(y_val, np.where(oof_lgb_val_preds[valid_idx]> 0.3, 1, 0))\n",
        "    f1_score_lgb_list.append(f1)\n",
        "    print(f'폴드 {idx+1} f1 score: {f1}\\n')\n",
        "\n",
        "    feature_importance_lgb_list1.append(lgb_model1.feature_importances_)\n",
        "\n",
        "print(f'검증 평균 f1 score: {np.mean(f1_score_lgb_list)}')\n",
        "# 검증 평균 f1 score: 0.6681057863053503"
      ]
    },
    {
      "cell_type": "code",
      "execution_count": null,
      "id": "700af196",
      "metadata": {
        "colab": {
          "base_uri": "https://localhost:8080/"
        },
        "id": "700af196",
        "outputId": "d8483b29-ddf4-4e3b-a6e3-c65e639c86b3"
      },
      "outputs": [
        {
          "output_type": "stream",
          "name": "stdout",
          "text": [
            "######################################## 폴드1 / 폴드5 ########################################\n",
            "Training until validation scores don't improve for 200 rounds\n",
            "Early stopping, best iteration is:\n",
            "[81]\tvalid_0's binary_logloss: 0.0639263\n",
            "폴드 1 f1 score: 0.6865364850976361\n",
            "\n",
            "######################################## 폴드2 / 폴드5 ########################################\n",
            "Training until validation scores don't improve for 200 rounds\n",
            "Early stopping, best iteration is:\n",
            "[77]\tvalid_0's binary_logloss: 0.0646722\n",
            "폴드 2 f1 score: 0.6760259179265659\n",
            "\n",
            "######################################## 폴드3 / 폴드5 ########################################\n",
            "Training until validation scores don't improve for 200 rounds\n",
            "Early stopping, best iteration is:\n",
            "[83]\tvalid_0's binary_logloss: 0.062202\n",
            "폴드 3 f1 score: 0.6939203354297695\n",
            "\n",
            "######################################## 폴드4 / 폴드5 ########################################\n",
            "Training until validation scores don't improve for 200 rounds\n",
            "Early stopping, best iteration is:\n",
            "[65]\tvalid_0's binary_logloss: 0.0647083\n",
            "폴드 4 f1 score: 0.6531483457844183\n",
            "\n",
            "######################################## 폴드5 / 폴드5 ########################################\n",
            "Training until validation scores don't improve for 200 rounds\n",
            "Early stopping, best iteration is:\n",
            "[70]\tvalid_0's binary_logloss: 0.064894\n",
            "폴드 5 f1 score: 0.6446446446446445\n",
            "\n",
            "검증 평균 f1 score: 0.6708551457766069\n"
          ]
        }
      ],
      "source": [
        "folds = StratifiedKFold(n_splits=5, shuffle=True, random_state=0)\n",
        "\n",
        "oof_lgb_val_preds = np.zeros(X_train2.shape[0])\n",
        "oof_lgb_test_preds2 = np.zeros(X_test2.shape[0])\n",
        "\n",
        "object_columns = X_train2.select_dtypes(include=['object']).columns\n",
        "cat_cols=list(object_columns)\n",
        "for col in object_columns:\n",
        "    X_train2[col] = X_train2[col].astype('category')\n",
        "    X_test2[col] = X_test2[col].astype('category')\n",
        "\n",
        "params = study2.best_trial.params\n",
        "\n",
        "f1_score_lgb_list=[]\n",
        "feature_importance_lgb_list2=[]\n",
        "\n",
        "for idx, (train_idx, valid_idx) in enumerate(folds.split(X_train2, y_train)):\n",
        "    print('#'*40, f'폴드{idx+1} / 폴드{folds.n_splits}', \"#\"*40)\n",
        "    X_tr, y_tr = X_train2.iloc[train_idx], y_train.iloc[train_idx]\n",
        "    X_val, y_val = X_train2.iloc[valid_idx], y_train.iloc[valid_idx]\n",
        "\n",
        "    lgb_model2 = LGBMClassifier(**params, n_estimators=1000, verbosity=-1)\n",
        "    lgb_model2.fit(X_tr, y_tr, eval_set=[(X_val, y_val)], eval_metric='f1', callbacks=[early_stopping(stopping_rounds=200)])\n",
        "\n",
        "    oof_lgb_test_preds2 += lgb_model2.predict_proba(X_test2)[:,1] / folds.get_n_splits()\n",
        "    oof_lgb_val_preds[valid_idx] += lgb_model2.predict_proba(X_val)[:,1]\n",
        "\n",
        "    f1 = f1_score(y_val, np.where(oof_lgb_val_preds[valid_idx]> 0.3, 1, 0))\n",
        "    f1_score_lgb_list.append(f1)\n",
        "    print(f'폴드 {idx+1} f1 score: {f1}\\n')\n",
        "\n",
        "    feature_importance_lgb_list2.append(lgb_model2.feature_importances_)\n",
        "\n",
        "print(f'검증 평균 f1 score: {np.mean(f1_score_lgb_list)}')\n",
        "# 검증 평균 f1 score: 0.6369183103794238"
      ]
    },
    {
      "cell_type": "code",
      "execution_count": null,
      "id": "d812ea05",
      "metadata": {
        "colab": {
          "base_uri": "https://localhost:8080/"
        },
        "id": "d812ea05",
        "outputId": "b9563ae0-e9aa-44de-def0-a5487da2f9ec"
      },
      "outputs": [
        {
          "output_type": "stream",
          "name": "stdout",
          "text": [
            "######################################## 폴드1 / 폴드5 ########################################\n",
            "Training until validation scores don't improve for 200 rounds\n",
            "Early stopping, best iteration is:\n",
            "[331]\tvalid_0's binary_logloss: 0.0854737\n",
            "폴드 1 f1 score: 0.5887265135699373\n",
            "\n",
            "######################################## 폴드2 / 폴드5 ########################################\n",
            "Training until validation scores don't improve for 200 rounds\n",
            "Early stopping, best iteration is:\n",
            "[210]\tvalid_0's binary_logloss: 0.0849631\n",
            "폴드 2 f1 score: 0.5735294117647058\n",
            "\n",
            "######################################## 폴드3 / 폴드5 ########################################\n",
            "Training until validation scores don't improve for 200 rounds\n",
            "Early stopping, best iteration is:\n",
            "[193]\tvalid_0's binary_logloss: 0.0882129\n",
            "폴드 3 f1 score: 0.5714285714285714\n",
            "\n",
            "######################################## 폴드4 / 폴드5 ########################################\n",
            "Training until validation scores don't improve for 200 rounds\n",
            "Early stopping, best iteration is:\n",
            "[233]\tvalid_0's binary_logloss: 0.0876612\n",
            "폴드 4 f1 score: 0.5481927710843374\n",
            "\n",
            "######################################## 폴드5 / 폴드5 ########################################\n",
            "Training until validation scores don't improve for 200 rounds\n",
            "Early stopping, best iteration is:\n",
            "[150]\tvalid_0's binary_logloss: 0.0867552\n",
            "폴드 5 f1 score: 0.5722831505483549\n",
            "\n",
            "검증 평균 f1 score: 0.5708320836791814\n"
          ]
        }
      ],
      "source": [
        "folds = StratifiedKFold(n_splits=5, shuffle=True, random_state=0)\n",
        "\n",
        "oof_lgb_val_preds = np.zeros(X_train3.shape[0])\n",
        "oof_lgb_test_preds3 = np.zeros(X_test3.shape[0])\n",
        "\n",
        "object_columns = X_train3.select_dtypes(include=['object']).columns\n",
        "cat_cols=list(object_columns)\n",
        "for col in object_columns:\n",
        "    X_train3[col] = X_train3[col].astype('category')\n",
        "    X_test3[col] = X_test3[col].astype('category')\n",
        "\n",
        "params = study3.best_trial.params\n",
        "\n",
        "f1_score_lgb_list=[]\n",
        "feature_importance_lgb_list3=[]\n",
        "\n",
        "for idx, (train_idx, valid_idx) in enumerate(folds.split(X_train3, y_train)):\n",
        "    print('#'*40, f'폴드{idx+1} / 폴드{folds.n_splits}', \"#\"*40)\n",
        "    X_tr, y_tr = X_train3.iloc[train_idx], y_train.iloc[train_idx]\n",
        "    X_val, y_val = X_train3.iloc[valid_idx], y_train.iloc[valid_idx]\n",
        "\n",
        "    lgb_model3 = LGBMClassifier(**params, n_estimators=1000, verbosity=-1)\n",
        "    lgb_model3.fit(X_tr, y_tr, eval_set=[(X_val, y_val)], eval_metric='f1', callbacks=[early_stopping(stopping_rounds=200)])\n",
        "\n",
        "    oof_lgb_test_preds3 += lgb_model3.predict_proba(X_test3)[:,1] / folds.get_n_splits()\n",
        "    oof_lgb_val_preds[valid_idx] += lgb_model3.predict_proba(X_val)[:,1]\n",
        "\n",
        "    f1 = f1_score(y_val, np.where(oof_lgb_val_preds[valid_idx]> 0.2, 1, 0))\n",
        "    f1_score_lgb_list.append(f1)\n",
        "    print(f'폴드 {idx+1} f1 score: {f1}\\n')\n",
        "\n",
        "    feature_importance_lgb_list3.append(lgb_model3.feature_importances_)\n",
        "\n",
        "print(f'검증 평균 f1 score: {np.mean(f1_score_lgb_list)}')\n",
        "# 검증 평균 f1 score: 0.5119269567430197"
      ]
    },
    {
      "cell_type": "code",
      "execution_count": null,
      "id": "5ebc8c50",
      "metadata": {
        "colab": {
          "base_uri": "https://localhost:8080/"
        },
        "id": "5ebc8c50",
        "outputId": "2366e015-377d-4c74-adda-997f8d052261"
      },
      "outputs": [
        {
          "output_type": "stream",
          "name": "stdout",
          "text": [
            "######################################## 폴드1 / 폴드5 ########################################\n",
            "Training until validation scores don't improve for 200 rounds\n",
            "Early stopping, best iteration is:\n",
            "[117]\tvalid_0's binary_logloss: 0.0967708\n",
            "폴드 1 f1 score: 0.5228628230616302\n",
            "\n",
            "######################################## 폴드2 / 폴드5 ########################################\n",
            "Training until validation scores don't improve for 200 rounds\n",
            "Early stopping, best iteration is:\n",
            "[78]\tvalid_0's binary_logloss: 0.0939114\n",
            "폴드 2 f1 score: 0.5295275590551182\n",
            "\n",
            "######################################## 폴드3 / 폴드5 ########################################\n",
            "Training until validation scores don't improve for 200 rounds\n",
            "Early stopping, best iteration is:\n",
            "[118]\tvalid_0's binary_logloss: 0.096928\n",
            "폴드 3 f1 score: 0.5360623781676414\n",
            "\n",
            "######################################## 폴드4 / 폴드5 ########################################\n",
            "Training until validation scores don't improve for 200 rounds\n",
            "Early stopping, best iteration is:\n",
            "[179]\tvalid_0's binary_logloss: 0.100111\n",
            "폴드 4 f1 score: 0.5129740518962077\n",
            "\n",
            "######################################## 폴드5 / 폴드5 ########################################\n",
            "Training until validation scores don't improve for 200 rounds\n",
            "Early stopping, best iteration is:\n",
            "[152]\tvalid_0's binary_logloss: 0.0981601\n",
            "폴드 5 f1 score: 0.5244956772334294\n",
            "\n",
            "검증 평균 f1 score: 0.5251844978828053\n"
          ]
        }
      ],
      "source": [
        "folds = StratifiedKFold(n_splits=5, shuffle=True, random_state=0)\n",
        "\n",
        "oof_lgb_val_preds = np.zeros(X_train4.shape[0])\n",
        "oof_lgb_test_preds4 = np.zeros(X_test4.shape[0])\n",
        "\n",
        "object_columns = X_train4.select_dtypes(include=['object']).columns\n",
        "cat_cols=list(object_columns)\n",
        "for col in object_columns:\n",
        "    X_train4[col] = X_train4[col].astype('category')\n",
        "    X_test4[col] = X_test4[col].astype('category')\n",
        "\n",
        "params = study4.best_trial.params\n",
        "\n",
        "f1_score_lgb_list=[]\n",
        "feature_importance_lgb_list4=[]\n",
        "\n",
        "for idx, (train_idx, valid_idx) in enumerate(folds.split(X_train4, y_train)):\n",
        "    print('#'*40, f'폴드{idx+1} / 폴드{folds.n_splits}', \"#\"*40)\n",
        "    X_tr, y_tr = X_train4.iloc[train_idx], y_train.iloc[train_idx]\n",
        "    X_val, y_val = X_train4.iloc[valid_idx], y_train.iloc[valid_idx]\n",
        "\n",
        "    lgb_model4 = LGBMClassifier(**params, n_estimators=1000, verbosity=-1)\n",
        "    lgb_model4.fit(X_tr, y_tr, eval_set=[(X_val, y_val)], eval_metric='f1', callbacks=[early_stopping(stopping_rounds=200)])\n",
        "\n",
        "    oof_lgb_test_preds4 += lgb_model4.predict_proba(X_test4)[:,1] / folds.get_n_splits()\n",
        "    oof_lgb_val_preds[valid_idx] += lgb_model4.predict_proba(X_val)[:,1]\n",
        "\n",
        "    f1 = f1_score(y_val, np.where(oof_lgb_val_preds[valid_idx]> 0.2, 1, 0))\n",
        "    f1_score_lgb_list.append(f1)\n",
        "    print(f'폴드 {idx+1} f1 score: {f1}\\n')\n",
        "\n",
        "    feature_importance_lgb_list4.append(lgb_model4.feature_importances_)\n",
        "\n",
        "print(f'검증 평균 f1 score: {np.mean(f1_score_lgb_list)}')\n",
        "# 검증 평균 f1 score: 0.48249642435286794"
      ]
    },
    {
      "cell_type": "code",
      "execution_count": null,
      "id": "09872b56",
      "metadata": {
        "colab": {
          "base_uri": "https://localhost:8080/",
          "height": 410
        },
        "id": "09872b56",
        "outputId": "1856c397-b24b-4a91-98ec-9cdd886bbfce"
      },
      "outputs": [
        {
          "output_type": "display_data",
          "data": {
            "text/plain": [
              "<Figure size 500x400 with 1 Axes>"
            ],
            "image/png": "[encoded data removed]"
          },
          "metadata": {}
        }
      ],
      "source": [
        "# 특징 중요도와 특징 이름을 정렬\n",
        "top_features = 20\n",
        "sorted_indices = np.argsort(-np.mean(feature_importance_lgb_list1, axis=0))[::-1]\n",
        "sorted_feature_names = [lgb_model1.booster_.feature_name()[i] for i in sorted_indices][-top_features:]\n",
        "sorted_mean_importance = np.mean(feature_importance_lgb_list1, axis=0)[sorted_indices][-top_features:]\n",
        "\n",
        "# 바 차트 그리기\n",
        "plt.figure(figsize=(5 , 4))\n",
        "plt.barh(sorted_feature_names, sorted_mean_importance)\n",
        "plt.xlabel('Mean Importance')\n",
        "plt.ylabel('Features')\n",
        "plt.title('Mean Feature Importance')\n",
        "plt.show()"
      ]
    },
    {
      "cell_type": "code",
      "execution_count": null,
      "id": "04fa7dcb",
      "metadata": {
        "colab": {
          "base_uri": "https://localhost:8080/",
          "height": 410
        },
        "id": "04fa7dcb",
        "outputId": "92034290-5ed0-41e7-8978-ae137541536a"
      },
      "outputs": [
        {
          "output_type": "display_data",
          "data": {
            "text/plain": [
              "<Figure size 500x400 with 1 Axes>"
            ],
            "image/png": "[encoded data removed]"
          },
          "metadata": {}
        }
      ],
      "source": [
        "# 특징 중요도와 특징 이름을 정렬\n",
        "top_features = 20\n",
        "sorted_indices = np.argsort(-np.mean(feature_importance_lgb_list2, axis=0))[::-1]\n",
        "sorted_feature_names = [lgb_model2.booster_.feature_name()[i] for i in sorted_indices][-top_features:]\n",
        "sorted_mean_importance = np.mean(feature_importance_lgb_list2, axis=0)[sorted_indices][-top_features:]\n",
        "\n",
        "# 바 차트 그리기\n",
        "plt.figure(figsize=(5 , 4))\n",
        "plt.barh(sorted_feature_names, sorted_mean_importance)\n",
        "plt.xlabel('Mean Importance')\n",
        "plt.ylabel('Features')\n",
        "plt.title('Mean Feature Importance')\n",
        "plt.show()"
      ]
    },
    {
      "cell_type": "code",
      "execution_count": null,
      "id": "ce52377c",
      "metadata": {
        "colab": {
          "base_uri": "https://localhost:8080/",
          "height": 410
        },
        "id": "ce52377c",
        "outputId": "4deadfef-7693-4ab5-bc5a-85165f648fa0"
      },
      "outputs": [
        {
          "output_type": "display_data",
          "data": {
            "text/plain": [
              "<Figure size 500x400 with 1 Axes>"
            ],
            "image/png": "[encoded data removed]"
          },
          "metadata": {}
        }
      ],
      "source": [
        "# 특징 중요도와 특징 이름을 정렬\n",
        "top_features = 20\n",
        "sorted_indices = np.argsort(-np.mean(feature_importance_lgb_list3, axis=0))[::-1]\n",
        "sorted_feature_names = [lgb_model3.booster_.feature_name()[i] for i in sorted_indices][-top_features:]\n",
        "sorted_mean_importance = np.mean(feature_importance_lgb_list3, axis=0)[sorted_indices][-top_features:]\n",
        "\n",
        "# 바 차트 그리기\n",
        "plt.figure(figsize=(5 , 4))\n",
        "plt.barh(sorted_feature_names, sorted_mean_importance)\n",
        "plt.xlabel('Mean Importance')\n",
        "plt.ylabel('Features')\n",
        "plt.title('Mean Feature Importance')\n",
        "plt.show()"
      ]
    },
    {
      "cell_type": "code",
      "execution_count": null,
      "id": "4471dd3d",
      "metadata": {
        "colab": {
          "base_uri": "https://localhost:8080/",
          "height": 410
        },
        "id": "4471dd3d",
        "outputId": "b304f509-49ed-4a36-da6b-e000661bad83"
      },
      "outputs": [
        {
          "output_type": "display_data",
          "data": {
            "text/plain": [
              "<Figure size 500x400 with 1 Axes>"
            ],
            "image/png": "[encoded data removed]"
          },
          "metadata": {}
        }
      ],
      "source": [
        "# 특징 중요도와 특징 이름을 정렬\n",
        "top_features = 20\n",
        "sorted_indices = np.argsort(-np.mean(feature_importance_lgb_list4, axis=0))[::-1]\n",
        "sorted_feature_names = [lgb_model4.booster_.feature_name()[i] for i in sorted_indices][-top_features:]\n",
        "sorted_mean_importance = np.mean(feature_importance_lgb_list4, axis=0)[sorted_indices][-top_features:]\n",
        "\n",
        "# 바 차트 그리기\n",
        "plt.figure(figsize=(5 , 4))\n",
        "plt.barh(sorted_feature_names, sorted_mean_importance)\n",
        "plt.xlabel('Mean Importance')\n",
        "plt.ylabel('Features')\n",
        "plt.title('Mean Feature Importance')\n",
        "plt.show()"
      ]
    },
    {
      "cell_type": "markdown",
      "id": "9d0b6e17",
      "metadata": {
        "id": "9d0b6e17"
      },
      "source": [
        "### 테스트 데이터 예측"
      ]
    },
    {
      "cell_type": "code",
      "execution_count": null,
      "id": "6a1f6534",
      "metadata": {
        "id": "6a1f6534"
      },
      "outputs": [],
      "source": [
        "oof_test_preds1 = oof_lgb_test_preds1\n",
        "oof_test_preds2 = oof_lgb_test_preds2\n",
        "oof_test_preds3 = oof_lgb_test_preds3\n",
        "oof_test_preds4 = oof_lgb_test_preds4"
      ]
    },
    {
      "cell_type": "code",
      "execution_count": null,
      "id": "43daa73c",
      "metadata": {
        "id": "43daa73c"
      },
      "outputs": [],
      "source": [
        "# 예측에 필요한 데이터 분리 (Tuning 해야함 -> gridSearch)\n",
        "test_pred1 = np.where(oof_test_preds1 >= 0.3, 1, 0)\n",
        "test_pred2 = np.where(oof_test_preds2 >= 0.3, 1, 0)\n",
        "test_pred3 = np.where(oof_test_preds3 >= 0.2, 1, 0)\n",
        "test_pred4 = np.where(oof_test_preds4 >= 0.2, 1, 0)\n",
        "\n",
        "\n",
        "df_test1['is_converted']=test_pred1\n",
        "df_test2['is_converted']=test_pred2\n",
        "df_test3['is_converted']=test_pred3\n",
        "df_test4['is_converted']=test_pred4"
      ]
    },
    {
      "cell_type": "code",
      "execution_count": null,
      "id": "d13f7a6e",
      "metadata": {
        "colab": {
          "base_uri": "https://localhost:8080/"
        },
        "id": "d13f7a6e",
        "outputId": "cbc04e8f-e5b7-4842-d4f0-4950499e1f7f"
      },
      "outputs": [
        {
          "output_type": "stream",
          "name": "stdout",
          "text": [
            "185 658\n",
            "859 3671\n",
            "25 80\n",
            "391 862\n",
            "전체 true 개수:  1460\n"
          ]
        }
      ],
      "source": [
        "print(sum(test_pred1), df_test1.shape[0]) # cus, lead_owner 있음\n",
        "print(sum(test_pred2), df_test2.shape[0]) # lead_owner 있음\n",
        "print(sum(test_pred3), df_test3.shape[0]) # cus 있음\n",
        "print(sum(test_pred4), df_test4.shape[0]) # 완전 새로운\n",
        "print('전체 true 개수: ', sum(test_pred1)+sum(test_pred2)+sum(test_pred3)+sum(test_pred4))"
      ]
    },
    {
      "cell_type": "markdown",
      "id": "7adf8300",
      "metadata": {
        "id": "7adf8300"
      },
      "source": [
        "## 4. 제출하기"
      ]
    },
    {
      "cell_type": "markdown",
      "id": "47f18e6a",
      "metadata": {
        "id": "47f18e6a"
      },
      "source": [
        "### 제출 파일 작성"
      ]
    },
    {
      "cell_type": "code",
      "execution_count": null,
      "id": "3128a458",
      "metadata": {
        "colab": {
          "base_uri": "https://localhost:8080/",
          "height": 373
        },
        "id": "3128a458",
        "outputId": "ce191d01-7c3c-4869-8a91-ec1027bbd5df"
      },
      "outputs": [
        {
          "output_type": "error",
          "ename": "FileNotFoundError",
          "evalue": "[Errno 2] No such file or directory: '/content/drive/MyDrive/lg/submission.csv'",
          "traceback": [
            "\u001b[0;31m---------------------------------------------------------------------------\u001b[0m",
            "\u001b[0;31mFileNotFoundError\u001b[0m                         Traceback (most recent call last)",
            "\u001b[0;32m<ipython-input-131-706ae83b3f95>\u001b[0m in \u001b[0;36m<cell line: 2>\u001b[0;34m()\u001b[0m\n\u001b[1;32m      1\u001b[0m \u001b[0;31m# 제출 데이터 읽어오기 (df_test는 전처리된 데이터가 저장됨)\u001b[0m\u001b[0;34m\u001b[0m\u001b[0;34m\u001b[0m\u001b[0m\n\u001b[0;32m----> 2\u001b[0;31m \u001b[0mdf_sub\u001b[0m \u001b[0;34m=\u001b[0m \u001b[0mpd\u001b[0m\u001b[0;34m.\u001b[0m\u001b[0mread_csv\u001b[0m\u001b[0;34m(\u001b[0m\u001b[0;34m'/content/drive/MyDrive/lg/submission.csv'\u001b[0m\u001b[0;34m)\u001b[0m\u001b[0;34m\u001b[0m\u001b[0;34m\u001b[0m\u001b[0m\n\u001b[0m\u001b[1;32m      3\u001b[0m \u001b[0mdf_sub\u001b[0m \u001b[0;34m=\u001b[0m \u001b[0mdf_sub\u001b[0m\u001b[0;34m.\u001b[0m\u001b[0mdrop\u001b[0m\u001b[0;34m(\u001b[0m\u001b[0;34m'is_converted'\u001b[0m\u001b[0;34m,\u001b[0m \u001b[0maxis\u001b[0m\u001b[0;34m=\u001b[0m\u001b[0;36m1\u001b[0m\u001b[0;34m)\u001b[0m\u001b[0;34m\u001b[0m\u001b[0;34m\u001b[0m\u001b[0m\n\u001b[1;32m      4\u001b[0m \u001b[0mdf_sub\u001b[0m\u001b[0;34m=\u001b[0m\u001b[0mpd\u001b[0m\u001b[0;34m.\u001b[0m\u001b[0mmerge\u001b[0m\u001b[0;34m(\u001b[0m\u001b[0mdf_sub\u001b[0m\u001b[0;34m,\u001b[0m \u001b[0mdf_test1\u001b[0m\u001b[0;34m[\u001b[0m\u001b[0;34m[\u001b[0m\u001b[0;34m'id'\u001b[0m\u001b[0;34m,\u001b[0m \u001b[0;34m'is_converted'\u001b[0m\u001b[0;34m]\u001b[0m\u001b[0;34m]\u001b[0m\u001b[0;34m,\u001b[0m \u001b[0mon\u001b[0m\u001b[0;34m=\u001b[0m\u001b[0;34m'id'\u001b[0m\u001b[0;34m,\u001b[0m \u001b[0mhow\u001b[0m\u001b[0;34m=\u001b[0m\u001b[0;34m'left'\u001b[0m\u001b[0;34m)\u001b[0m\u001b[0;34m\u001b[0m\u001b[0;34m\u001b[0m\u001b[0m\n\u001b[1;32m      5\u001b[0m \u001b[0mdf_sub\u001b[0m\u001b[0;34m[\u001b[0m\u001b[0;34m'is_converted'\u001b[0m\u001b[0;34m]\u001b[0m \u001b[0;34m=\u001b[0m \u001b[0mdf_sub\u001b[0m\u001b[0;34m[\u001b[0m\u001b[0;34m'is_converted'\u001b[0m\u001b[0;34m]\u001b[0m\u001b[0;34m.\u001b[0m\u001b[0mfillna\u001b[0m\u001b[0;34m(\u001b[0m\u001b[0;36m0\u001b[0m\u001b[0;34m)\u001b[0m\u001b[0;34m\u001b[0m\u001b[0;34m\u001b[0m\u001b[0m\n",
            "\u001b[0;32m/usr/local/lib/python3.10/dist-packages/pandas/util/_decorators.py\u001b[0m in \u001b[0;36mwrapper\u001b[0;34m(*args, **kwargs)\u001b[0m\n\u001b[1;32m    209\u001b[0m                 \u001b[0;32melse\u001b[0m\u001b[0;34m:\u001b[0m\u001b[0;34m\u001b[0m\u001b[0;34m\u001b[0m\u001b[0m\n\u001b[1;32m    210\u001b[0m                     \u001b[0mkwargs\u001b[0m\u001b[0;34m[\u001b[0m\u001b[0mnew_arg_name\u001b[0m\u001b[0;34m]\u001b[0m \u001b[0;34m=\u001b[0m \u001b[0mnew_arg_value\u001b[0m\u001b[0;34m\u001b[0m\u001b[0;34m\u001b[0m\u001b[0m\n\u001b[0;32m--> 211\u001b[0;31m             \u001b[0;32mreturn\u001b[0m \u001b[0mfunc\u001b[0m\u001b[0;34m(\u001b[0m\u001b[0;34m*\u001b[0m\u001b[0margs\u001b[0m\u001b[0;34m,\u001b[0m \u001b[0;34m**\u001b[0m\u001b[0mkwargs\u001b[0m\u001b[0;34m)\u001b[0m\u001b[0;34m\u001b[0m\u001b[0;34m\u001b[0m\u001b[0m\n\u001b[0m\u001b[1;32m    212\u001b[0m \u001b[0;34m\u001b[0m\u001b[0m\n\u001b[1;32m    213\u001b[0m         \u001b[0;32mreturn\u001b[0m \u001b[0mcast\u001b[0m\u001b[0;34m(\u001b[0m\u001b[0mF\u001b[0m\u001b[0;34m,\u001b[0m \u001b[0mwrapper\u001b[0m\u001b[0;34m)\u001b[0m\u001b[0;34m\u001b[0m\u001b[0;34m\u001b[0m\u001b[0m\n",
            "\u001b[0;32m/usr/local/lib/python3.10/dist-packages/pandas/util/_decorators.py\u001b[0m in \u001b[0;36mwrapper\u001b[0;34m(*args, **kwargs)\u001b[0m\n\u001b[1;32m    329\u001b[0m                     \u001b[0mstacklevel\u001b[0m\u001b[0;34m=\u001b[0m\u001b[0mfind_stack_level\u001b[0m\u001b[0;34m(\u001b[0m\u001b[0;34m)\u001b[0m\u001b[0;34m,\u001b[0m\u001b[0;34m\u001b[0m\u001b[0;34m\u001b[0m\u001b[0m\n\u001b[1;32m    330\u001b[0m                 )\n\u001b[0;32m--> 331\u001b[0;31m             \u001b[0;32mreturn\u001b[0m \u001b[0mfunc\u001b[0m\u001b[0;34m(\u001b[0m\u001b[0;34m*\u001b[0m\u001b[0margs\u001b[0m\u001b[0;34m,\u001b[0m \u001b[0;34m**\u001b[0m\u001b[0mkwargs\u001b[0m\u001b[0;34m)\u001b[0m\u001b[0;34m\u001b[0m\u001b[0;34m\u001b[0m\u001b[0m\n\u001b[0m\u001b[1;32m    332\u001b[0m \u001b[0;34m\u001b[0m\u001b[0m\n\u001b[1;32m    333\u001b[0m         \u001b[0;31m# error: \"Callable[[VarArg(Any), KwArg(Any)], Any]\" has no\u001b[0m\u001b[0;34m\u001b[0m\u001b[0;34m\u001b[0m\u001b[0m\n",
            "\u001b[0;32m/usr/local/lib/python3.10/dist-packages/pandas/io/parsers/readers.py\u001b[0m in \u001b[0;36mread_csv\u001b[0;34m(filepath_or_buffer, sep, delimiter, header, names, index_col, usecols, squeeze, prefix, mangle_dupe_cols, dtype, engine, converters, true_values, false_values, skipinitialspace, skiprows, skipfooter, nrows, na_values, keep_default_na, na_filter, verbose, skip_blank_lines, parse_dates, infer_datetime_format, keep_date_col, date_parser, dayfirst, cache_dates, iterator, chunksize, compression, thousands, decimal, lineterminator, quotechar, quoting, doublequote, escapechar, comment, encoding, encoding_errors, dialect, error_bad_lines, warn_bad_lines, on_bad_lines, delim_whitespace, low_memory, memory_map, float_precision, storage_options)\u001b[0m\n\u001b[1;32m    948\u001b[0m     \u001b[0mkwds\u001b[0m\u001b[0;34m.\u001b[0m\u001b[0mupdate\u001b[0m\u001b[0;34m(\u001b[0m\u001b[0mkwds_defaults\u001b[0m\u001b[0;34m)\u001b[0m\u001b[0;34m\u001b[0m\u001b[0;34m\u001b[0m\u001b[0m\n\u001b[1;32m    949\u001b[0m \u001b[0;34m\u001b[0m\u001b[0m\n\u001b[0;32m--> 950\u001b[0;31m     \u001b[0;32mreturn\u001b[0m \u001b[0m_read\u001b[0m\u001b[0;34m(\u001b[0m\u001b[0mfilepath_or_buffer\u001b[0m\u001b[0;34m,\u001b[0m \u001b[0mkwds\u001b[0m\u001b[0;34m)\u001b[0m\u001b[0;34m\u001b[0m\u001b[0;34m\u001b[0m\u001b[0m\n\u001b[0m\u001b[1;32m    951\u001b[0m \u001b[0;34m\u001b[0m\u001b[0m\n\u001b[1;32m    952\u001b[0m \u001b[0;34m\u001b[0m\u001b[0m\n",
            "\u001b[0;32m/usr/local/lib/python3.10/dist-packages/pandas/io/parsers/readers.py\u001b[0m in \u001b[0;36m_read\u001b[0;34m(filepath_or_buffer, kwds)\u001b[0m\n\u001b[1;32m    603\u001b[0m \u001b[0;34m\u001b[0m\u001b[0m\n\u001b[1;32m    604\u001b[0m     \u001b[0;31m# Create the parser.\u001b[0m\u001b[0;34m\u001b[0m\u001b[0;34m\u001b[0m\u001b[0m\n\u001b[0;32m--> 605\u001b[0;31m     \u001b[0mparser\u001b[0m \u001b[0;34m=\u001b[0m \u001b[0mTextFileReader\u001b[0m\u001b[0;34m(\u001b[0m\u001b[0mfilepath_or_buffer\u001b[0m\u001b[0;34m,\u001b[0m \u001b[0;34m**\u001b[0m\u001b[0mkwds\u001b[0m\u001b[0;34m)\u001b[0m\u001b[0;34m\u001b[0m\u001b[0;34m\u001b[0m\u001b[0m\n\u001b[0m\u001b[1;32m    606\u001b[0m \u001b[0;34m\u001b[0m\u001b[0m\n\u001b[1;32m    607\u001b[0m     \u001b[0;32mif\u001b[0m \u001b[0mchunksize\u001b[0m \u001b[0;32mor\u001b[0m \u001b[0miterator\u001b[0m\u001b[0;34m:\u001b[0m\u001b[0;34m\u001b[0m\u001b[0;34m\u001b[0m\u001b[0m\n",
            "\u001b[0;32m/usr/local/lib/python3.10/dist-packages/pandas/io/parsers/readers.py\u001b[0m in \u001b[0;36m__init__\u001b[0;34m(self, f, engine, **kwds)\u001b[0m\n\u001b[1;32m   1440\u001b[0m \u001b[0;34m\u001b[0m\u001b[0m\n\u001b[1;32m   1441\u001b[0m         \u001b[0mself\u001b[0m\u001b[0;34m.\u001b[0m\u001b[0mhandles\u001b[0m\u001b[0;34m:\u001b[0m \u001b[0mIOHandles\u001b[0m \u001b[0;34m|\u001b[0m \u001b[0;32mNone\u001b[0m \u001b[0;34m=\u001b[0m \u001b[0;32mNone\u001b[0m\u001b[0;34m\u001b[0m\u001b[0;34m\u001b[0m\u001b[0m\n\u001b[0;32m-> 1442\u001b[0;31m         \u001b[0mself\u001b[0m\u001b[0;34m.\u001b[0m\u001b[0m_engine\u001b[0m \u001b[0;34m=\u001b[0m \u001b[0mself\u001b[0m\u001b[0;34m.\u001b[0m\u001b[0m_make_engine\u001b[0m\u001b[0;34m(\u001b[0m\u001b[0mf\u001b[0m\u001b[0;34m,\u001b[0m \u001b[0mself\u001b[0m\u001b[0;34m.\u001b[0m\u001b[0mengine\u001b[0m\u001b[0;34m)\u001b[0m\u001b[0;34m\u001b[0m\u001b[0;34m\u001b[0m\u001b[0m\n\u001b[0m\u001b[1;32m   1443\u001b[0m \u001b[0;34m\u001b[0m\u001b[0m\n\u001b[1;32m   1444\u001b[0m     \u001b[0;32mdef\u001b[0m \u001b[0mclose\u001b[0m\u001b[0;34m(\u001b[0m\u001b[0mself\u001b[0m\u001b[0;34m)\u001b[0m \u001b[0;34m->\u001b[0m \u001b[0;32mNone\u001b[0m\u001b[0;34m:\u001b[0m\u001b[0;34m\u001b[0m\u001b[0;34m\u001b[0m\u001b[0m\n",
            "\u001b[0;32m/usr/local/lib/python3.10/dist-packages/pandas/io/parsers/readers.py\u001b[0m in \u001b[0;36m_make_engine\u001b[0;34m(self, f, engine)\u001b[0m\n\u001b[1;32m   1733\u001b[0m                 \u001b[0;32mif\u001b[0m \u001b[0;34m\"b\"\u001b[0m \u001b[0;32mnot\u001b[0m \u001b[0;32min\u001b[0m \u001b[0mmode\u001b[0m\u001b[0;34m:\u001b[0m\u001b[0;34m\u001b[0m\u001b[0;34m\u001b[0m\u001b[0m\n\u001b[1;32m   1734\u001b[0m                     \u001b[0mmode\u001b[0m \u001b[0;34m+=\u001b[0m \u001b[0;34m\"b\"\u001b[0m\u001b[0;34m\u001b[0m\u001b[0;34m\u001b[0m\u001b[0m\n\u001b[0;32m-> 1735\u001b[0;31m             self.handles = get_handle(\n\u001b[0m\u001b[1;32m   1736\u001b[0m                 \u001b[0mf\u001b[0m\u001b[0;34m,\u001b[0m\u001b[0;34m\u001b[0m\u001b[0;34m\u001b[0m\u001b[0m\n\u001b[1;32m   1737\u001b[0m                 \u001b[0mmode\u001b[0m\u001b[0;34m,\u001b[0m\u001b[0;34m\u001b[0m\u001b[0;34m\u001b[0m\u001b[0m\n",
            "\u001b[0;32m/usr/local/lib/python3.10/dist-packages/pandas/io/common.py\u001b[0m in \u001b[0;36mget_handle\u001b[0;34m(path_or_buf, mode, encoding, compression, memory_map, is_text, errors, storage_options)\u001b[0m\n\u001b[1;32m    854\u001b[0m         \u001b[0;32mif\u001b[0m \u001b[0mioargs\u001b[0m\u001b[0;34m.\u001b[0m\u001b[0mencoding\u001b[0m \u001b[0;32mand\u001b[0m \u001b[0;34m\"b\"\u001b[0m \u001b[0;32mnot\u001b[0m \u001b[0;32min\u001b[0m \u001b[0mioargs\u001b[0m\u001b[0;34m.\u001b[0m\u001b[0mmode\u001b[0m\u001b[0;34m:\u001b[0m\u001b[0;34m\u001b[0m\u001b[0;34m\u001b[0m\u001b[0m\n\u001b[1;32m    855\u001b[0m             \u001b[0;31m# Encoding\u001b[0m\u001b[0;34m\u001b[0m\u001b[0;34m\u001b[0m\u001b[0m\n\u001b[0;32m--> 856\u001b[0;31m             handle = open(\n\u001b[0m\u001b[1;32m    857\u001b[0m                 \u001b[0mhandle\u001b[0m\u001b[0;34m,\u001b[0m\u001b[0;34m\u001b[0m\u001b[0;34m\u001b[0m\u001b[0m\n\u001b[1;32m    858\u001b[0m                 \u001b[0mioargs\u001b[0m\u001b[0;34m.\u001b[0m\u001b[0mmode\u001b[0m\u001b[0;34m,\u001b[0m\u001b[0;34m\u001b[0m\u001b[0;34m\u001b[0m\u001b[0m\n",
            "\u001b[0;31mFileNotFoundError\u001b[0m: [Errno 2] No such file or directory: '/content/drive/MyDrive/lg/submission.csv'"
          ]
        }
      ],
      "source": [
        "# 제출 데이터 읽어오기 (df_test는 전처리된 데이터가 저장됨)\n",
        "df_sub = pd.read_csv('/content/drive/MyDrive/lg/submission.csv')\n",
        "df_sub = df_sub.drop('is_converted', axis=1)\n",
        "df_sub=pd.merge(df_sub, df_test1[['id', 'is_converted']], on='id', how='left')\n",
        "df_sub['is_converted'] = df_sub['is_converted'].fillna(0)\n",
        "df_sub=pd.merge(df_sub, df_test2[['id', 'is_converted']], on='id', how='left')\n",
        "df_sub['is_converted_y'] = df_sub['is_converted_y'].fillna(0)\n",
        "df_sub['is_converted'] = df_sub['is_converted_x'] + df_sub['is_converted_y']\n",
        "df_sub = df_sub.drop(['is_converted_x', 'is_converted_y'], axis=1)\n",
        "df_sub=pd.merge(df_sub, df_test3[['id', 'is_converted']], on='id', how='left')\n",
        "df_sub['is_converted_y'] = df_sub['is_converted_y'].fillna(0)\n",
        "df_sub['is_converted'] = df_sub['is_converted_x'] + df_sub['is_converted_y']\n",
        "df_sub = df_sub.drop(['is_converted_x', 'is_converted_y'], axis=1)\n",
        "df_sub=pd.merge(df_sub, df_test4[['id', 'is_converted']], on='id', how='left')\n",
        "df_sub['is_converted_y'] = df_sub['is_converted_y'].fillna(0)\n",
        "df_sub['is_converted'] = df_sub['is_converted_x'] + df_sub['is_converted_y']\n",
        "df_sub = df_sub.drop(['is_converted_x', 'is_converted_y'], axis=1)\n",
        "\n",
        "df_sub.head()"
      ]
    },
    {
      "cell_type": "code",
      "execution_count": null,
      "id": "cf1a664f",
      "metadata": {
        "id": "cf1a664f"
      },
      "outputs": [],
      "source": [
        "# DataFrame을 CSV 파일로 저장\n",
        "df_sub.to_csv(\"submission.csv\", index=False)"
      ]
    },
    {
      "cell_type": "markdown",
      "id": "ec7867ce",
      "metadata": {
        "id": "ec7867ce"
      },
      "source": [
        "**우측 상단의 제출 버튼을 클릭해 결과를 확인하세요**"
      ]
    },
    {
      "cell_type": "markdown",
      "id": "43905688",
      "metadata": {
        "id": "43905688"
      },
      "source": []
    },
    {
      "cell_type": "markdown",
      "id": "8d6b096e",
      "metadata": {
        "id": "8d6b096e"
      },
      "source": []
    }
  ],
  "metadata": {
    "kernelspec": {
      "display_name": "Python 3",
      "name": "python3"
    },
    "language_info": {
      "codemirror_mode": {
        "name": "ipython",
        "version": 3
      },
      "file_extension": ".py",
      "mimetype": "text/x-python",
      "name": "python",
      "nbconvert_exporter": "python",
      "pygments_lexer": "ipython3",
      "version": "3.11.5"
    },
    "colab": {
      "provenance": [],
      "collapsed_sections": [
        "3Y1BVjaoiIp3"
      ]
    }
  },
  "nbformat": 4,
  "nbformat_minor": 5
}