{
  "cells": [
    {
      "cell_type": "code",
      "source": [
        "from google.colab import drive\n",
        "drive.mount('/content/drive')"
      ],
      "metadata": {
        "colab": {
          "base_uri": "https://localhost:8080/"
        },
        "id": "NruXLLjJbfny",
        "outputId": "fa79e77c-1118-44fa-9184-dcb49ec20e2d"
      },
      "id": "NruXLLjJbfny",
      "execution_count": 271,
      "outputs": [
        {
          "output_type": "stream",
          "name": "stdout",
          "text": [
            "Drive already mounted at /content/drive; to attempt to forcibly remount, call drive.mount(\"/content/drive\", force_remount=True).\n"
          ]
        }
      ]
    },
    {
      "cell_type": "markdown",
      "id": "017e9265",
      "metadata": {
        "id": "017e9265"
      },
      "source": [
        "# 영업 성공 여부 분류 경진대회"
      ]
    },
    {
      "cell_type": "markdown",
      "id": "acdab431",
      "metadata": {
        "id": "acdab431"
      },
      "source": [
        "## 1. 데이터 확인"
      ]
    },
    {
      "cell_type": "code",
      "execution_count": 272,
      "id": "a315cc58",
      "metadata": {
        "id": "a315cc58"
      },
      "outputs": [],
      "source": [
        "from sklearn.model_selection import StratifiedKFold\n",
        "from sklearn.preprocessing import MinMaxScaler\n",
        "from sklearn.metrics import f1_score\n",
        "\n",
        "import lightgbm as lgb\n",
        "\n",
        "import matplotlib.pyplot as plt\n",
        "import pandas as pd\n",
        "import numpy as np\n",
        "\n",
        "import warnings\n",
        "warnings.filterwarnings('ignore')"
      ]
    },
    {
      "cell_type": "code",
      "execution_count": 273,
      "id": "7ada941e",
      "metadata": {
        "id": "7ada941e"
      },
      "outputs": [],
      "source": [
        "df_train = pd.read_csv('/content/drive/MyDrive/BITAmin/LG/lg_aimers.csv') # 학습용 데이터\n",
        "df_test = pd.read_csv('/content/drive/MyDrive/BITAmin/LG/lg_aimers_submission.csv') # 테스트 데이터(제출파일의 데이터)"
      ]
    },
    {
      "cell_type": "markdown",
      "id": "af526c13",
      "metadata": {
        "id": "af526c13"
      },
      "source": [
        "## 2.1 데이터 전처리 - 데이터 정제"
      ]
    },
    {
      "cell_type": "code",
      "execution_count": 274,
      "id": "cd64b902",
      "metadata": {
        "colab": {
          "base_uri": "https://localhost:8080/"
        },
        "id": "cd64b902",
        "outputId": "dacebc10-c8e4-48bc-9f1b-1d859c948afe"
      },
      "outputs": [
        {
          "output_type": "stream",
          "name": "stdout",
          "text": [
            "(59299, 29) (5271, 30)\n"
          ]
        }
      ],
      "source": [
        "## 정제 전\n",
        "print(df_train.shape, df_test.shape)"
      ]
    },
    {
      "cell_type": "code",
      "execution_count": 275,
      "id": "e7152bcb",
      "metadata": {
        "id": "e7152bcb",
        "colab": {
          "base_uri": "https://localhost:8080/"
        },
        "outputId": "04acd22c-0132-4bd9-cb5d-16a17a2b81f7"
      },
      "outputs": [
        {
          "output_type": "stream",
          "name": "stdout",
          "text": [
            "(53376, 29) (5271, 30)\n"
          ]
        }
      ],
      "source": [
        "## 복제된 행 제거\n",
        "df_train.drop_duplicates(inplace=True)\n",
        "\n",
        "# 무조건 converted하면서 test에 없는 회사인 25096은 삭제\n",
        "del_cus_id=[25096]\n",
        "df_train=df_train[~df_train[\"customer_idx\"].isin(del_cus_id)]\n",
        "\n",
        "print(df_train.shape, df_test.shape)"
      ]
    },
    {
      "cell_type": "code",
      "source": [
        "## 복제된 행 제거, 25096 제거\n",
        "print(df_train.shape, df_test.shape)"
      ],
      "metadata": {
        "colab": {
          "base_uri": "https://localhost:8080/"
        },
        "id": "2J_CkiSC3Pzr",
        "outputId": "6d8b92a9-c498-42de-99bc-369d6885726d"
      },
      "id": "2J_CkiSC3Pzr",
      "execution_count": 276,
      "outputs": [
        {
          "output_type": "stream",
          "name": "stdout",
          "text": [
            "(53376, 29) (5271, 30)\n"
          ]
        }
      ]
    },
    {
      "cell_type": "markdown",
      "source": [
        "### 결측치 채우기전 파생변수"
      ],
      "metadata": {
        "id": "pjwFnWKMitzc"
      },
      "id": "pjwFnWKMitzc"
    },
    {
      "cell_type": "markdown",
      "source": [
        "#### 파생변수 1. bn_submit: band_submit에서 customer_position이랑 expected timeline 작성한 경우 제거\n"
      ],
      "metadata": {
        "id": "Dg2oyAmWb88I"
      },
      "id": "Dg2oyAmWb88I"
    },
    {
      "cell_type": "code",
      "source": [
        "import pandas as pd\n",
        "\n",
        "# df_train과 df_test를 합친다\n",
        "df_all = pd.concat([df_train, df_test])\n",
        "df_all['bn_submit'] = 0\n",
        "\n",
        "# customer_position이 'none'이 아닌 경우를 체크\n",
        "condition_position = df_all['customer_position'] != 'none'\n",
        "\n",
        "df_all[\"customer_position\"]=df_all['customer_position'].replace('none', np.nan)\n",
        "\n",
        "# expected_timeline이 null이 아닌 경우를 체크\n",
        "condition_timeline = pd.notnull(df_all['expected_timeline'])\n",
        "\n",
        "# 조건에 따라 tt 값을 계산\n",
        "tt = condition_position.astype(int) + condition_timeline.astype(int)\n",
        "\n",
        "# bn_submit 컬럼 업데이트\n",
        "df_all['bn_submit'] = df_all['bant_submit'] - (tt / 4)\n",
        "\n",
        "df_all['customer_position'].replace('none', np.nan)\n",
        "\n",
        "# df_train과 df_test로 다시 분리\n",
        "df_train = df_all.iloc[:len(df_train)]\n",
        "df_test = df_all.iloc[len(df_train):]\n",
        "\n",
        "# 'id' 컬럼 삭제 (df_train에서만 필요한 경우)\n",
        "if 'id' in df_train.columns:\n",
        "    df_train = df_train.drop('id', axis=1)"
      ],
      "metadata": {
        "id": "BkY8YEGFFbhM"
      },
      "id": "BkY8YEGFFbhM",
      "execution_count": 277,
      "outputs": []
    },
    {
      "cell_type": "code",
      "source": [
        "df_train['customer_position'].isnull().sum()"
      ],
      "metadata": {
        "colab": {
          "base_uri": "https://localhost:8080/"
        },
        "id": "cJIcJEZHFgId",
        "outputId": "a6c6d425-d6ff-44da-de61-1b8239433bc5"
      },
      "id": "cJIcJEZHFgId",
      "execution_count": 278,
      "outputs": [
        {
          "output_type": "execute_result",
          "data": {
            "text/plain": [
              "17098"
            ]
          },
          "metadata": {},
          "execution_count": 278
        }
      ]
    },
    {
      "cell_type": "code",
      "execution_count": 279,
      "id": "b5ad443c",
      "metadata": {
        "id": "b5ad443c",
        "colab": {
          "base_uri": "https://localhost:8080/"
        },
        "outputId": "c70983c5-13e3-49a7-8fd7-e6ca3cd24b70"
      },
      "outputs": [
        {
          "output_type": "stream",
          "name": "stdout",
          "text": [
            "(53376, 30) (5271, 31)\n"
          ]
        }
      ],
      "source": [
        "df_train = df_all.iloc[:len(df_train)]\n",
        "df_test = df_all.iloc[len(df_train):]\n",
        "df_train = df_train.drop('id', axis=1)\n",
        "\n",
        "print(df_train.shape, df_test.shape)"
      ]
    },
    {
      "cell_type": "code",
      "source": [
        "df_all.shape"
      ],
      "metadata": {
        "colab": {
          "base_uri": "https://localhost:8080/"
        },
        "id": "0lAylw8iEthA",
        "outputId": "3301ed31-fb5c-4cce-e462-2293e8bb5d3f"
      },
      "id": "0lAylw8iEthA",
      "execution_count": 280,
      "outputs": [
        {
          "output_type": "execute_result",
          "data": {
            "text/plain": [
              "(58647, 31)"
            ]
          },
          "metadata": {},
          "execution_count": 280
        }
      ]
    },
    {
      "cell_type": "markdown",
      "source": [
        "#### 파생변수 2. num_missing: 각 행별로 결측치의 개수 count"
      ],
      "metadata": {
        "id": "JF3mJ9RwcO3p"
      },
      "id": "JF3mJ9RwcO3p"
    },
    {
      "cell_type": "code",
      "execution_count": 281,
      "id": "31e0e06a",
      "metadata": {
        "id": "31e0e06a"
      },
      "outputs": [],
      "source": [
        "df_all = pd.concat([df_train, df_test])\n",
        "df_all['num_missing'] = df_all.isnull().sum(axis=1) - 1\n",
        "\n",
        "df_train = df_all.iloc[: len(df_train)]\n",
        "df_test = df_all.iloc[len(df_train) :]\n",
        "df_train = df_train.drop('id', axis=1)"
      ]
    },
    {
      "cell_type": "code",
      "execution_count": 282,
      "id": "e44e159f",
      "metadata": {
        "colab": {
          "base_uri": "https://localhost:8080/"
        },
        "id": "e44e159f",
        "outputId": "2edddf75-518b-41c2-d3e9-2641cf715282"
      },
      "outputs": [
        {
          "output_type": "stream",
          "name": "stdout",
          "text": [
            "<class 'pandas.core.frame.DataFrame'>\n",
            "Int64Index: 53376 entries, 0 to 59298\n",
            "Data columns (total 31 columns):\n",
            " #   Column                   Non-Null Count  Dtype  \n",
            "---  ------                   --------------  -----  \n",
            " 0   bant_submit              53376 non-null  float64\n",
            " 1   customer_country         52488 non-null  object \n",
            " 2   business_unit            53376 non-null  object \n",
            " 3   com_reg_ver_win_rate     14072 non-null  float64\n",
            " 4   customer_idx             53376 non-null  int64  \n",
            " 5   customer_type            14422 non-null  object \n",
            " 6   enterprise               53376 non-null  object \n",
            " 7   historical_existing_cnt  12297 non-null  float64\n",
            " 8   id_strategic_ver         3328 non-null   float64\n",
            " 9   it_strategic_ver         1108 non-null   float64\n",
            " 10  idit_strategic_ver       4436 non-null   float64\n",
            " 11  customer_job             37123 non-null  object \n",
            " 12  lead_desc_length         53376 non-null  int64  \n",
            " 13  inquiry_type             52562 non-null  object \n",
            " 14  product_category         36407 non-null  object \n",
            " 15  product_subcategory      8186 non-null   object \n",
            " 16  product_modelname        8320 non-null   object \n",
            " 17  customer_country.1       52488 non-null  object \n",
            " 18  customer_position        36278 non-null  object \n",
            " 19  response_corporate       53376 non-null  object \n",
            " 20  expected_timeline        26064 non-null  object \n",
            " 21  ver_cus                  53376 non-null  int64  \n",
            " 22  ver_pro                  53376 non-null  int64  \n",
            " 23  ver_win_rate_x           17745 non-null  float64\n",
            " 24  ver_win_ratio_per_bu     14842 non-null  float64\n",
            " 25  business_area            17745 non-null  object \n",
            " 26  business_subarea         5180 non-null   object \n",
            " 27  lead_owner               53376 non-null  int64  \n",
            " 28  is_converted             53376 non-null  float64\n",
            " 29  bn_submit                53376 non-null  float64\n",
            " 30  num_missing              53376 non-null  int64  \n",
            "dtypes: float64(10), int64(6), object(15)\n",
            "memory usage: 13.0+ MB\n"
          ]
        }
      ],
      "source": [
        "df_train.info()\n",
        "# pd.set_option('display.max_columns', None)\n",
        "# df_train.head(5)"
      ]
    },
    {
      "cell_type": "markdown",
      "id": "d9141fc5",
      "metadata": {
        "id": "d9141fc5"
      },
      "source": [
        "### 2.1.1 오타 제어(customer_country)"
      ]
    },
    {
      "cell_type": "code",
      "execution_count": 283,
      "id": "f1ff31fb",
      "metadata": {
        "id": "f1ff31fb"
      },
      "outputs": [],
      "source": [
        "## 2. customer_country 오타 제어 함수\n",
        "def extract_country_name(x):\n",
        "    if pd.isnull(x):\n",
        "        # !!!!!!!!!!!!!!!!!!!!!!!!!!!!!!!!!!!!!!!!!!!!!!!!!!!!!!!!!!!!!!!!!!!!!!!!!!!!!!!!!!!!#\n",
        "        return np.nan\n",
        "    else:\n",
        "        idx=-1\n",
        "        a = x.split(\"/\")[idx].strip()\n",
        "        while a=='':\n",
        "            idx-=1\n",
        "            if idx == -4 :\n",
        "                return 'others'\n",
        "            a = x.split(\"/\")[idx].strip()\n",
        "        if idx != -1:\n",
        "            if a in ['Richmond Hill', 'Vancouver', 'Pickering', 'Winnipeg']:\n",
        "                return 'Canada'\n",
        "            elif a in ['ROURKELA', 'Guna mp', 'MADURAI', 'KOLKATA', 'Ahmedabad', 'Madurai'\n",
        "                       'Mathura', 'Delhi', 'Solan', 'Bengaluru', 'Kanchipuram', 'Erode',\n",
        "                       'NEARAMBEDKAR HOSPET', 'Bhubaneswar', 'LATEHAR', 'Malur', 'Ackerman',\n",
        "                       'Faridabad', 'Vasal', 'Ballia', 'Ludhiana', 'Rajkot']:\n",
        "                return 'India'\n",
        "            elif a in ['Bergdietikon']:\n",
        "                return 'Switzerland'\n",
        "            elif a in ['Lagos, Nigeria', 'Ikoyi', 'Abuja', 'Windhoek']:\n",
        "                return 'Nigeria'\n",
        "            elif a in ['Monrovia']:\n",
        "                return 'Liberia'\n",
        "            elif a in ['Malvern', 'Cambridge', 'Danbury', 'Dundee', 'Boulder', 'Liverpool', 'Winston']:\n",
        "                return 'United Kingdom'\n",
        "            elif a in ['San Jose', 'Bulacan', 'Makati City', 'Manila', 'Cebu', 'Pasig',\n",
        "                       'CALOOCAN CITY', 'dasmarinas city', 'Mandaluyong City','Angeles' 'makati', 'Angeles City',\n",
        "                        'Bataan', 'TAYTAY', 'Las Piñas - Muntinlupa', 'Quezon City' ,'Valenzuela City',\n",
        "                        '314 G. Araneta Ave., Quezon City', 'PASIG CITY', 'Manila', 'San Fernando City, La Union', 'Valenzuela'\n",
        "                        'CAINTA', 'Quezon City', 'Camarines Sur', 'Mandaluyong', 'San Juan city', 'Qc', 'Meycauayan City, Bulacan',\n",
        "                        'Parañaque','Rizal', 'Makati city', 'CITY OF IMUS', 'laGrange', 'Sanford', 'Chilhowie', 'Chesterfield', 'Amherst',\n",
        "                        'Paranaque', 'Cavite', 'CITY OF MARIKINA', 'Bocaue, Bukacan, Philippines']:\n",
        "                return 'Philippines'\n",
        "\n",
        "            elif a in ['Atlanta', 'Tbilisi'] :\n",
        "                return \"Georgia\"\n",
        "            elif a in ['Oslo']:\n",
        "                return 'Norway'\n",
        "            elif a in ['Arroyo Hondo Viejo'] :\n",
        "                return 'Dominican Republic'\n",
        "            elif a in ['Midrand']:\n",
        "                return 'South Africa'\n",
        "            elif a in ['Olsztyn', 'Przemysłowa 4, 37-450 Stalowa Wola']:\n",
        "                return \"Poland\"\n",
        "            elif a in ['San Juan']:\n",
        "                return 'Puerto Rico'\n",
        "            elif a in ['Berlin', 'Weikersheim', 'Herdwangen-Schönach']:\n",
        "                return 'Germany'\n",
        "            elif a in ['Nassau']:\n",
        "                return 'Bahamas'\n",
        "            elif a in ['Sapphire', \"Mission Hills\", 'North Haven', 'Melbourne']:\n",
        "                return 'Australia'\n",
        "            elif a in ['Madrid, Spain', 'Madrid', 'Barrio Viejo De Callosa De Segura']:\n",
        "                return 'Spain'\n",
        "            elif a in ['Kuwait city'] :\n",
        "                return 'Kuwait'\n",
        "            elif a in ['Esch-sur-Alzette']:\n",
        "                return 'Luxembourg'\n",
        "            elif a in ['Tashkent']:\n",
        "                return 'Uzbekistan'\n",
        "            elif a in ['Taipei city']:\n",
        "                return 'Taiwan'\n",
        "            elif a in ['Tokyo']:\n",
        "                return 'Japan'\n",
        "            elif a in ['Thai Binh', 'Hai Duong']:\n",
        "                return 'Vietnam'\n",
        "            elif a in ['Buengkum']:\n",
        "                return 'Thailand'\n",
        "            elif a in ['Gardabaer']:\n",
        "                return 'Iceland'\n",
        "            elif a in ['Riyadh', \"Makkah\", 'Riyadh'] :\n",
        "                return 'Saudi Arabia'\n",
        "            elif a in ['Králův Dvůr Levín']:\n",
        "                return 'Czech Republic'\n",
        "            elif a in ['Cairo', 'Bloch']:\n",
        "                return 'Egypt'\n",
        "            elif a in ['Maseru']:\n",
        "                return 'Lesotho'\n",
        "            elif a in ['Colombo 03']:\n",
        "                return 'Sri Lanka'\n",
        "            elif a in [\"Tirana\"]:\n",
        "                return 'Albania'\n",
        "            elif a in ['70']:\n",
        "                return 'others'\n",
        "            elif a in ['Jakarta'] :\n",
        "                return 'Indonesia'\n",
        "            elif a in ['Paramaribo'] :\n",
        "                return 'Suriname'\n",
        "            elif a in ['Kampala']:\n",
        "                return 'Uganda'\n",
        "            elif a in ['DUBAI', 'Dubai']:\n",
        "                return 'U.A.E.'\n",
        "            elif a in ['Paradera']:\n",
        "                return 'Aruba'\n",
        "            elif a in ['上海', 'Shenzhen']:\n",
        "                return 'China'\n",
        "            elif a in ['Suva']:\n",
        "                return 'Fiji'\n",
        "            elif a in ['Budapest']:\n",
        "                return 'Hungary'\n",
        "            elif a in ['Amman']:\n",
        "                return 'Jordan'\n",
        "            elif a in ['QURUM']:\n",
        "                return 'Oman'\n",
        "            else:\n",
        "                return 'United States'\n",
        "        if a in ['5555', '48201', 'country', 'A'] :\n",
        "            return 'others'\n",
        "        elif '@' in a:\n",
        "            return 'others'\n",
        "        else:\n",
        "            return a\n"
      ]
    },
    {
      "cell_type": "code",
      "execution_count": 284,
      "id": "9d2bc09d",
      "metadata": {
        "id": "9d2bc09d"
      },
      "outputs": [],
      "source": [
        "def cus_cty(df) :\n",
        "  replace_values = {'US' : 'United States',\n",
        "                    '700 Patroon Creek BlvdAlbanyNY12206' : 'United States',\n",
        "                    '239 Court St, Brooklyn, NY 11201, United States' : 'United States',\n",
        "                    'Little Rock, Arkansas, United States' : 'United States',\n",
        "                    'CA 91915-6002' : 'United States',\n",
        "                    '430 N Hamilton RdWhitehall, OH 43213, USA' : 'United States',\n",
        "                    '1110 Morse Rd, Columbus, Ohio, 43229, United States' : 'United States',\n",
        "                    '1755 North Brown Rd. Suite 200 Lawrenceville, GA 30043' : 'United States',\n",
        "                    'Miami, Florida, United States' : 'United States',\n",
        "                    '1100 Lee Ave, Lafayette, LA 70501' : 'United States',\n",
        "                    '85 W Main St Suite C, Canton, GA 30114' : 'United States',\n",
        "                    '101 MetLife Way, Cary, NC, 27513 – MET1' : 'United States',\n",
        "                    '7105 Northland Terrace N, Minneapolis, MN 55428' : 'United States',\n",
        "                    'CA 95814' : 'United States',\n",
        "                    '1275 Sister Grove Rd Van Alstyne, TX 75495' : 'United States',\n",
        "                    '100 Vestavia ParkwayBirminghamAL35216' : 'United States',\n",
        "                    'CA 92618 United States' : 'United States',\n",
        "                    'Rio de Janeiro' : 'Brazil',\n",
        "                    '1605 Ave. Ponce de León, Suite 400 San Juan, 00909, Puerto Rico' : 'Puerto Rico',\n",
        "                    'IL 60069' : 'United States',\n",
        "                    '28001 238th St, Le Claire, IA 52753, USA' : 'United States',\n",
        "                    'Grapevine, Texas, United States United States' : 'United States',\n",
        "                    '700 District Dr, Itasca, IL 60143 United States' : 'United States',\n",
        "                    '6398 College Blvd, Overland Park, KS 66211, United States' : 'United States',\n",
        "                    '3804 W Broadway St, Ardmore, OK 73401, United States' : 'United States',\n",
        "                    'New York City Metropolitan Area, United States': 'United States',\n",
        "                    '2529 W Busch Blvd Suite 1000, Tampa, FL 33618, United States' : 'United States',\n",
        "                    '1100 ITBProvoUT84602' : 'United States',\n",
        "                    'Telangana' : 'India',\n",
        "                    'Jeffersonville, IN United States' : 'United States',\n",
        "                    '6564 Headquarters DrPlanoTX7505' : 'United States',\n",
        "                    '1817 S Washington AveTitusville, FL 32780, USA' : 'United States',\n",
        "                    '63 Flushing Ave Bldg 303, Suite 804, Brooklyn, NY 11205, United States' : 'United States',\n",
        "                    '717 General Booth BlvdVirginia Beach, VA 23451, USA' : 'United States',\n",
        "                    '2877 Prospect Rd, Fort Lauderdale, FL 33309' : 'United States',\n",
        "                    'bangalore' : 'India',\n",
        "                    'MI 48827' : 'United States',\n",
        "                    '810 N KINGSTON DR PEORIA, IL 61604-2145' : 'United States',\n",
        "                    'OH 45215, USA' : 'United States',\n",
        "                    '3801 E Willow St, Long Beach, CA 90815, EE. UU.' : 'United States',\n",
        "                    'Clinton, OK 73601' : 'United States',\n",
        "                    'Ha Noi' : 'Vietnam',\n",
        "                    'ARGENTINA' : 'Argentina',\n",
        "                    '3100 Shore Drive Virginia Beach, VA 23451' : 'United States',\n",
        "                    'Los Angeles, California, United States' : 'United States',\n",
        "                    'West Caldwell NJ 07960 United States' : 'United States',\n",
        "                    '881 S Division St, Buffalo, NY 14210, United States' : 'United States',\n",
        "                    '12718 Kitten Trail, Hudson, FL 34669' : 'United States',\n",
        "                    'FL 33772' : 'United States',\n",
        "                    '13351 Dovers St, Waverly, NE 68462, United States' : 'United States',\n",
        "                    'Jacksonville Florida' : 'United States',\n",
        "                    'Ohio United States' : 'United States',\n",
        "                    '1100 Lee Ave, Lafayette, LA 70501' : 'United States',\n",
        "                    '6564 Headquarters DrPlanoTX75051' : 'United States',\n",
        "                    'RJ' : 'Brazil',\n",
        "                    'TX 78572 United States' : 'United States',\n",
        "                    '117 Bernal Rd Ste70-422San JoseSan JoseCA95119 ' : 'United States',\n",
        "                    '993 Niagara Ave, San Diego, CA 92107 United States' : 'United States',\n",
        "                    'Four Embarcadero Center Suite 1400 #85, San Francisco, CA 94111 United States' : 'United States',\n",
        "                    'odisha' : 'India',\n",
        "                    'lucknow' : 'India',\n",
        "                    '1036 n nalder st' : 'United States',\n",
        "                    'United States 32901' : 'United States',\n",
        "                    '2100 Engineer Rd, Oakland, CA 94607, United States' : 'United States',\n",
        "                    'Via E. De Amicis, 23 . 90044 Carini (PA)' : 'Italy',\n",
        "                    '136 S IndustrialSalineMI48176' : 'United States',\n",
        "                    '335 League St S, Sulphur Springs, TX 75482' : 'United States',\n",
        "                    'United States 14503.' : 'United States',\n",
        "                    'gurgaon' : 'India',\n",
        "                    '30 Winter Street Boston, MA 02108' : 'United States',\n",
        "                    '275 John Hancock Rd. Taunton, MA, 02780' : 'United States',\n",
        "                    'MA 02062 United States' : 'United States',\n",
        "                    'Pune' : 'India',\n",
        "                    'FL 33025' : 'United States',\n",
        "                    'Bari, Italy' : 'Italy',\n",
        "                    '8 Gay St, Christiana, PA 17509 United States' : 'United States', # 게이 뭐노 ㅋ,\n",
        "                    '500 N Highway 89 North, Prescott AZ 86313 United States' : 'United States',\n",
        "                    '609 Medical Center Dr. Decatur, Texas, 76234'  : 'United States',\n",
        "                    '7703 Floyd Curl Dr MC 7800, San Antonio TX 78229 United States' : 'United States',\n",
        "                    'St Cloud, MN 56303' : 'United States',\n",
        "                    '7581 S Franklin Way, Centennial, CO 80122, United States' : 'United States',\n",
        "                    # '' : 'United States',\n",
        "                    'Honduras' : 'Honduras',\n",
        "                    'CARRERA 11A 94-46 EDIFICIO CHICO 3000 PISO 3 BOGOTA' : 'Colombia',\n",
        "                    'Netherlands Antilles' : 'Netherlands',\n",
        "                    '823 Gateway Center Way, San Diego, CA 92102' : 'United States',\n",
        "                    'Colombia  Cartagena' : 'Colombia',\n",
        "                    'Cuiabá' : 'Brazil',\n",
        "                    'CO 80127' : 'United States',\n",
        "                    'TX 75098' : 'United States',\n",
        "                    'MO 64506' : 'United States',\n",
        "                    '1222 Eastwick CirMurphy, TX 75094, United States' : 'United States',\n",
        "                    '545 West 111th st Suite 7C' : 'United States',\n",
        "                    'P.O. Box 291992, Port Orange, FL 32129' : 'United States',\n",
        "                    'Isle of Man' : 'United Kingdom', # 아일랜드해안에 있지만, 영국왕국과 결합되어 있다함(사실 별도의 영토는 맞긴한데, 일단 영국으로)\n",
        "                    'NY 10566 United States' : 'United States',\n",
        "                    'GA 30039' : 'United States',\n",
        "                    'Centro de Produção Audiovisual - Sesc São Paulo' : 'Brazil',\n",
        "                    'Aparecida' : 'Brazil',\n",
        "                    'Colombia - cartagena' : 'Colombia',\n",
        "                    'Capão da canoa' : 'Brazil',\n",
        "                    'São Paulo' : 'Brazil',\n",
        "                    '1919 Minnesota Ct, Mississauga, ON L5N' : 'Canada',\n",
        "                    '54 Sugar Creek Center Blvd #300, Sugar Land, TX 77478, United States' : 'United States',\n",
        "                    'João Pessoa' : 'Brazil',\n",
        "                    'PerU' : 'Peru',\n",
        "                    'TN 38120' : 'United States',\n",
        "                    'Richardson, Texas, United States' : 'United States',\n",
        "                    'Sao Paulo' : 'Brazil',\n",
        "                    '2367 N 2650 WFarr WestUT84404' : 'United States',\n",
        "                    '4880 Stevens Creek BlvdSan JoseCA95129' : 'United States',\n",
        "                    '3131 BriarPark Dr Suite 200HoustonTX77042' : 'United States',\n",
        "                    '450 Riverchase PkwyBirminghamAL35186' : 'United States',\n",
        "                    '450 Riverchase PkwyBirminghamAL35186' : 'United States',\n",
        "                    '1397 Etowah DriveAtlantaGA30319' : 'United States',\n",
        "                    '3 Nasson Avenue' : 'United States',\n",
        "                    'Largo, Florida, United States United States' : 'United States',\n",
        "                    'FL 33013' : 'United States',\n",
        "                    'Bucaramanga' : 'Colombia',\n",
        "                    '7610 Market St, Canton, MI 48187, United States' : 'United States',\n",
        "                    '116 Village Blvd Suite 200, Princeton, NJ 08540 United States' : 'United States',\n",
        "                    'Dourados' : 'Brazil',\n",
        "                    'Foz de Iguaçu - PR Avenida Tancredo Neves 6731 Jardim Itaipu' : 'Brazil',\n",
        "                    'St Maarten' : 'France', # 프랑스, 네델란드간 분쟁 지역 (프랑스가 더 쌤)\n",
        "                    'Recife' : 'Brazil',\n",
        "                    'São Paulo, Pinheiros' : 'Brazil',\n",
        "                    'Cartagena' : 'Colombia',\n",
        "                    'Firenze, Italy' : 'Italy',\n",
        "                    'OR 97128' : 'United States',\n",
        "                    'Colombia C2: Solo información' : 'Colombia',\n",
        "                    'Ironhorse Customs LLC 4443 Genella Way North Las Vegas, NV 89031' : 'United States',\n",
        "                    'San Francisco, CA 94128, United States' : 'United States',\n",
        "                    '14700 Caribbean Way' : 'United States',\n",
        "                    'Bus Shed, 6501 Red Hook Rd #201, Nazareth, St Thomas 00802, U.S. Virgin Islands' : 'United States',\n",
        "                    '1600 Rosecrans Ave bldg 7 ste 101, Manhattan Beach, CA 90266,' : 'United States',\n",
        "                    'FL 32703' : 'United States',\n",
        "                    'AGOST, ALICANTE' : 'Spain',\n",
        "                    'Ohio' : 'United States',\n",
        "                    'NV 89119' : 'United States',\n",
        "                    'VA 22209' : 'United States',\n",
        "                    'NY' : 'United States',\n",
        "                    'Θέση Πέτσα Βακαλοπούλου ΒΙΟΠΑ Παλλήνης  153 51 ' : 'Greece',\n",
        "                    'SPAIN ' : 'Spain',\n",
        "                    'MADRID' : 'Spain',\n",
        "                    'ELCHE, ALICANTE' : 'Spain',\n",
        "                    '1800 Congress Ave., Austin, TX 78701' : 'United States',\n",
        "                    'CA 92657 United States' : 'United States',\n",
        "                    '9631 Liberty Rd B, Randallstown, MD 21133' : 'United States',\n",
        "                    'Benbrook, TX 76126' : 'United States',\n",
        "                    'SC 29555' : 'United States',\n",
        "                    '6252 E Grant Rd suite 150 Tucson, AZ 85712' : 'United States',\n",
        "                    'MO 64802 ' : 'United States',\n",
        "                    'gujarat' : 'India',\n",
        "                    'IN 46601, EE. UU.' : 'United States',\n",
        "                    'Warren, OH 44483.' : 'United States',\n",
        "                    '1 Hoag Dr.' : 'United States',\n",
        "                    '210 Route 4 East Fl 4' : 'United States',\n",
        "                    '21903 Ranier Ln' : 'United States',\n",
        "                    'NY 11358' : 'United States',\n",
        "                    'CA 95618' : 'United States',\n",
        "                    'New Hampshire' : 'United States',\n",
        "                    'GA 31405' : 'United States',\n",
        "                    'Wyckoff, NJ 07481, USA' : 'United States',\n",
        "                    '750 Florida Central Parkway Suite #100 Longwood, FL 32750' : 'United States',\n",
        "                    'FL 33404' : 'United States',\n",
        "                    '101 Clyde Ave Longwood, FL 32750, USA' : 'United States',\n",
        "                    'CA' : 'United States',\n",
        "                    'IL 61615' : 'United States',\n",
        "                    'Herndon, VA 20170' : 'United States',\n",
        "                    '724 W Business US Highway 60, Dexter, MO 63841,' : 'United States',\n",
        "                    'Square at, 2662 Gateway Rd Suite 165, Carlsbad, CA 92009' : 'United States',\n",
        "                    '1156 W Armitage Ave suite b, Chicago, IL 60614, US.' : 'United States',\n",
        "                    'MO 63103, USA' : 'United States',\n",
        "                    'MO 63103' : 'United States',\n",
        "                    'GRAN CANARIAS PLAYA DEL INGLES' : 'Spain',\n",
        "                    'CACERES' : 'Spain',\n",
        "                    '4278 S Buffalo St  Orchard Park, NY 14127' : 'United States',\n",
        "                    '1775 Liberty Dr, Fort Belvoir, VA 22060, United States' : 'United States',\n",
        "                    '8569 Sudley Rd Ste C Historic District, Manassas, VA 20110, USA' : 'United States',\n",
        "                    'MA 02780' : 'United States',\n",
        "                    'MN 55024' : 'United States',\n",
        "                    'Delmar, NY 12054 United States' : 'United States',\n",
        "                    'IL 60638 United States' : 'United States',\n",
        "                    'MO 64108' : 'United States',\n",
        "                    'CA 92078' : 'United States',\n",
        "                    'IL 60563United States' :  'United States',\n",
        "                    'SD 57751' : 'United States',\n",
        "                    '990 S Madera Ave, Kerman, CA 93630, United States' : 'United States',\n",
        "                    '135 Broadway, Schenectady, NY 12305, United States' : 'United States',\n",
        "                    '1491 Furnace St, Montgomery, AL 36104, United States' : 'United States',\n",
        "                    '1385 N Weber Rd, Romeoville, IL 60446,' : 'United States',\n",
        "                    '463 Industrial Park Rd, Elysburg, PA 17824, US' : 'United States',\n",
        "                    'CA 94555 United States' : 'United States',\n",
        "                    'UT 84116' : 'United States',\n",
        "                    '990 Biscayne Dr, Concord, NC 28027, United States' : 'United States',\n",
        "                    'Nicolosi (CT), Italy' : 'Italy',\n",
        "                    'FL 33442' : 'United States',\n",
        "                    'FL 33716' : 'United States',\n",
        "                    '3440 Rockefeller Ct Waldorf, MD 20602' : 'United States',\n",
        "                    'Arlington, NY 12603' : 'United States',\n",
        "                    '65 Grove Street, Suite 204  Watertown, MA 02472' : 'United States',\n",
        "                    '13854 Lakeside Cir Sterling Heights, MI 48313' : 'United States',\n",
        "                    '9110 Forest CrossingThe WoodlandsTX77381' : 'United States',\n",
        "                    'OK 73601 United States' : 'United States',\n",
        "                    'Hacienda Heights, California, United States' : 'United States',\n",
        "                    'Connecticut United States' : 'United States',\n",
        "                    'Caldwell, New Jersey, United States United States' : 'United States',\n",
        "                    'Gujarat' : 'India',\n",
        "                    'Chennai' : 'India',\n",
        "                    'Jamaica, NY 11417, USA' : 'United States',\n",
        "                    'indore' : 'India',\n",
        "                    'US Virgin Islands' : 'United Kingdom', # 영국이랑 가까워서 영국으로 해놓음\n",
        "                    'KS 66217' : 'United States',\n",
        "                    'NJ 07013' : 'United States',\n",
        "                    'TX 77024' : 'United States',\n",
        "                    '30 Cambria Ave, Pleasantville, NJ 08232' : 'United States',\n",
        "                    '4278 S Buffalo St Orchard Park, NY 14127' : 'United States',\n",
        "                    '723 S Valley Way, Palmer, AK 99645' : 'United States',\n",
        "                    'Zip 98433' : 'United States',\n",
        "                    'bhilwara' : 'India',\n",
        "                    'ND' : 'United States', # 노스다코타주(미국 도시이름) 줄임말 같음\n",
        "                    'VT 05672' : 'United States',\n",
        "                    '800 3rd Ave 3rd floor, New York, NY 10022' : 'United States',\n",
        "                    'BR' : 'Brazil', # 브라질 iso국가부호\n",
        "                    'kerela' : 'India',\n",
        "                    'uttar pradesh' : 'India',\n",
        "                    'Anand Vihar Delhi' : 'India',\n",
        "                    'hyderabad' : 'India',\n",
        "                    \"Via dell'informatica 10 - 37036 San Martino Buon Albergo (Veneto), Italy\" : ' Italy',\n",
        "                    'Belo Horizonte' : 'Brazil',\n",
        "                    '15806 Longship Ct' : 'United States',\n",
        "                    '2350 Airport FrwyBedfordTX76022' : 'United States',\n",
        "                    '1999 S Bascomb AveSuite 1000CampbellCA95008' : 'United States',\n",
        "                    '9716 McFarring DrFort WorthTX76244' : 'United States',\n",
        "                    '200 cabelLouisvilleKY40206' : 'United States',\n",
        "                    '1112 Badger Vine LaneArlingtonTX76005' : 'United States',\n",
        "                    '6111 W Plano Pkwy #2100PlanoTX75093' : 'United States',\n",
        "                    '100 Sabine River Dr.HuttoTX78634' : 'United States',\n",
        "                    '6300 Harry Hines BlvdSte. 1400DallasTX75235' : 'United States',\n",
        "                    '100 first stSan FranciscoCA94015' : 'United States',\n",
        "                    '899 Kifer RoadSunnyvaleCA94086' : 'United States',\n",
        "                    '2217 HOUSTON DRIVEMelissaTX75454' : 'United States',\n",
        "                    '829 Jackson ave' : 'United States',\n",
        "                    '3027 West Bay Villa Ave' : 'United States',\n",
        "                    '126 Diablo Ranch Court' : 'United States',\n",
        "                    '1537 Rolling Hills Dr.' : 'United States',\n",
        "                    '1715 Forest Cove Drive,  Apt 201' : 'United States',\n",
        "                    '410 Baylor StAustinTX78703' : 'United States',\n",
        "                    '9111 cypress waters blvdDallasTX75038' : 'United States',\n",
        "                    '9420 West Sam Houston Pkwy NHoustonTX77018' : 'United States',\n",
        "                    '6 Kimball LaneLynnfieldMA1940' : 'United States',\n",
        "                    '9820 Northcross Center CtHuntersvilleNC28078' : 'United States',\n",
        "                    '9800 S. Monroe StreetSandyUT84070' : 'United States',\n",
        "                    '2475 Washington BlvdOgdenUT84401' : 'United States',\n",
        "                    '400 Centre StNewtonMA2458' : 'United States',\n",
        "                    '400 Centre StreetNewtonMA2458' : 'United States',\n",
        "                    '36 Margin StPeabodyMA1960' : 'United States',\n",
        "                    '77 Massachusetts AveCambridgeMA2139' : 'United States',\n",
        "                    '160 Gould St Ste 300, Needham Heights, Massachusetts 02494NeedhamMA2721' : 'United States',\n",
        "                    '9 Landsdowne StreetBostonMA2215' : 'United States',\n",
        "                    '1209 Derby Run Carrollton, TX 75007CarrolltonTX75007' : 'United States',\n",
        "                    'One Constitution RoadBostonMA2129' : 'United States',\n",
        "                    '252 Beech AvenueMelroseMA2176' : 'United States',\n",
        "                    '5301 Stevens Creek BlvdSanta ClaraCA95051' : 'United States',\n",
        "                    '230 Highland Ave, Suite 531SomervilleMA2143' : 'United States',\n",
        "                    '7700 West Sunrise BlvdPlantationFL33322' : 'United States',\n",
        "                    '602 Saber Creek Drive' : 'United States',\n",
        "                    '11330 Clay RdHoustonTX77041' : 'United States',\n",
        "                    '1 Skyview drFort WorthTX76155' : 'United States',\n",
        "                    '416 Panzano Drive' : 'United States',\n",
        "                    '5501 Headquarters DrPlanoTX75024' : 'United States',\n",
        "                    '2266 Palmer Dr.' : 'United States',\n",
        "                    '1380 Enterprise Dr' : 'United States',\n",
        "                    '6601 Carroll Highlands Rd' : 'United States',\n",
        "                    '275 Mishawum Road' : 'United States',\n",
        "                    '222 Maxine Dr' : 'United States',\n",
        "                    '2900 Highway 280Suite 250BirminghamAL35223' : 'United States',\n",
        "                    '305 John Street' : 'United States',\n",
        "                    'MA 01851' : 'United States',\n",
        "                    '600 5th Street' : 'United States',\n",
        "                    'IL 60191' : 'United States',\n",
        "                    'Cra. 51 #12 sur-75, San Fernando, Itagüi, Medellín, Guayabal, Medellín, Antioquia, Colombia' : 'Colombia',\n",
        "                    '3000 Montour Church Road' : 'United States',\n",
        "                    '9820HuntersvilleNC28078' : 'United States',\n",
        "                    '152 Bowdoin Street' : 'United States',\n",
        "                    'PO Box 112292CarrolltonTX75011' : 'United States',\n",
        "                    '825 Eastlake Ave E' : 'United States',\n",
        "                    '955 Powell Ave SW' : 'United States',\n",
        "                    '2047  w summerdale ave' : 'United States',\n",
        "                    '1560 Chance Ct' : 'United States',\n",
        "                    '8454 Muirwood TrlFort WorthTX76137' : 'United States',\n",
        "                    '1503 LBJ ParkwaySuite 700Farmers BranchTX75234' : 'United States',\n",
        "                    '7673 HEMPSTON CIR' : 'United States',\n",
        "                    '1808 Lithgow RdCelinaTX75009' : 'United States',\n",
        "                    '1001 Main St' : 'United States',\n",
        "                    '1909 Forest Knoll DrHooverAL35244' : 'United States',\n",
        "                    '106 Lakeview DrHomewoodAL35209' : 'United States',\n",
        "                    '24082 Carmel Dr' : 'United States',\n",
        "                    '417 20th St NBirminghamAL35203' : 'United States',\n",
        "                    '594 Howard StSan FranciscoCA94105' : 'United States',\n",
        "                    '594 Howard StSan FranciscoCA94106' : 'United States',\n",
        "                    '31700 Temecula Parkway, Temecula CA 92592 United States' : 'United States',\n",
        "                    '300 East Park Drive' : 'United States',\n",
        "                    'Manaus' : 'Brazil',\n",
        "                    'SPAIN' : 'Spain',\n",
        "                    ', MO 64802' : 'United States',\n",
        "                    'Columbia' : 'Colombia',\n",
        "                    'Canda' : 'Canada',\n",
        "                    'Θέση Πέτσα Βακαλοπούλου ΒΙΟΠΑ Παλλήνης  153 51' : 'Greece',\n",
        "                    '117 Bernal Rd Ste70-422San JoseSan JoseCA95119' : 'United States',\n",
        "                    '6005 Commerce Dr. Ste. 300' : 'United States',\n",
        "                    '17215 Welby Way' : 'United States',\n",
        "                    '45 n 200 wWillardUT84340' : 'United States',\n",
        "                    'Swaziland' : 'Switzerland',\n",
        "                    'Nevada' : 'United States',\n",
        "                    '1100 Lee Ave, Lafayette, LA 70501,' : 'United States',\n",
        "                    'MO 64108.' : 'United States',\n",
        "                    'mumbai' : 'India',\n",
        "                    'Barranquilla' : 'Colombia',\n",
        "                    'UAE Dubai' : 'U.A.E.',\n",
        "                    'COLOMBIA' : 'Colombia',\n",
        "                    'Türkiye' : 'Turkey',\n",
        "                    'EGYPT' : ' Egypt',\n",
        "                    'Democratic Republic of the Congo' : 'Congo',\n",
        "                    'St Kitts' : 'Saint Kitts and Nevis',\n",
        "                    'Antigua' : 'Antigua and Barbuda',\n",
        "                    'Ivory Coast' : \"Cote d'Ivoire\",\n",
        "                    'British Virgin Islands' : 'United Kingdom',\n",
        "                    '85 W Main St Suite C, Canton, GA 30114,' : 'United States',\n",
        "                    'Turks and Caicos Islands' : 'United Kingdom',\n",
        "                    'VALENCIA' : 'Spain',\n",
        "                    'Dominican republic': 'Dominican Republic',\n",
        "                    'UNITED STATES': 'United States',\n",
        "                    'NE' : 'United States',\n",
        "                    'FL' : 'United States',\n",
        "                    'TX' : 'United States',\n",
        "                    'NJ' : 'United States',\n",
        "                    'NIM' : 'United States',\n",
        "                    'NM' : 'United States',\n",
        "                    'Englewood, CO' : 'United States',\n",
        "                    'W126 N7449 Flint Drive Menomonee Falls VA' : 'United States',\n",
        "                    '3 Center Plz Suite 330 Boston, MA 02108' : 'United States',\n",
        "                    'Curaçao': 'Netherlands',\n",
        "                    '5003 Lady Of The Lake Dr  Raleigh NC': 'United States',\n",
        "                    '233 South Beaudry Avenue  Los Angeles CA': 'United States',\n",
        "                    '603 Heritage Drive  Mount Juliet': 'United States',\n",
        "                    'Sandford': 'United Kingdom',\n",
        "                    'BLOOMSBURY': 'United Kingdom',\n",
        "                    'Southfield': 'United States',\n",
        "                    'Indianapolis': 'United States',\n",
        "                    'maharashtra': 'India',\n",
        "                    'Salt Lake City': 'United States',\n",
        "                    'New York': 'United States',\n",
        "                    'Soufriere': 'Saint Lucia',\n",
        "                    'Mumbai': 'India',\n",
        "                    'San Diego': 'United States',\n",
        "                    'Batavia': 'Indonesia',\n",
        "                    'Bangalore': 'India',\n",
        "                    'Houston': 'United States',\n",
        "                    }\n",
        "\n",
        "  df['customer_country'] = df['customer_country'].replace(replace_values)\n",
        "  return df"
      ]
    },
    {
      "cell_type": "code",
      "execution_count": 285,
      "id": "2a0d31f4",
      "metadata": {
        "id": "2a0d31f4"
      },
      "outputs": [],
      "source": [
        "## 2. customer_country\n",
        "df_train[\"customer_country\"] = df_train[\"customer_country\"].apply(extract_country_name)\n",
        "df_test[\"customer_country\"] = df_test[\"customer_country\"].apply(extract_country_name)\n",
        "\n",
        "df_train = cus_cty(df_train)\n",
        "df_test = cus_cty(df_test)"
      ]
    },
    {
      "cell_type": "code",
      "execution_count": 286,
      "id": "4ee34762",
      "metadata": {
        "id": "4ee34762",
        "colab": {
          "base_uri": "https://localhost:8080/",
          "height": 72
        },
        "outputId": "2f89d112-d817-4939-fb31-f3d964532353"
      },
      "outputs": [
        {
          "output_type": "execute_result",
          "data": {
            "text/plain": [
              "'\\ndf_all = pd.concat([df_train, df_test])\\ndf_c = df_all.groupby([\\'response_corporate\\', \\'customer_country\\'])[\"is_converted\"].count().reset_index()\\n\\ndef get_max_group(group):\\n    max_row = group.loc[group[\\'is_converted\\'].idxmax()]\\n    return max_row[\\'customer_country\\']\\n\\nresult = df_c.groupby(\\'response_corporate\\').apply(get_max_group)\\n\\nzero_indices = df_train.index[df_train[\\'customer_country\\']==0]\\nfor index in zero_indices:\\n    df_train.loc[index, \\'customer_country\\']=result[df_train.loc[index, \"response_corporate\"]]\\n\\n'"
            ],
            "application/vnd.google.colaboratory.intrinsic+json": {
              "type": "string"
            }
          },
          "metadata": {},
          "execution_count": 286
        }
      ],
      "source": [
        "# df_country 결측치 채우기 -> 담당 자사 법인명 기준으로 많이 의뢰한 국가로 채워보자\n",
        "'''\n",
        "df_all = pd.concat([df_train, df_test])\n",
        "df_c = df_all.groupby(['response_corporate', 'customer_country'])[\"is_converted\"].count().reset_index()\n",
        "\n",
        "def get_max_group(group):\n",
        "    max_row = group.loc[group['is_converted'].idxmax()]\n",
        "    return max_row['customer_country']\n",
        "\n",
        "result = df_c.groupby('response_corporate').apply(get_max_group)\n",
        "\n",
        "zero_indices = df_train.index[df_train['customer_country']==0]\n",
        "for index in zero_indices:\n",
        "    df_train.loc[index, 'customer_country']=result[df_train.loc[index, \"response_corporate\"]]\n",
        "\n",
        "'''"
      ]
    },
    {
      "cell_type": "code",
      "source": [
        "df_train['customer_country'].isnull().sum()"
      ],
      "metadata": {
        "colab": {
          "base_uri": "https://localhost:8080/"
        },
        "id": "7k7ePPIz7sKq",
        "outputId": "6f9c29a8-55d1-4f15-a201-d374ccbf21ef"
      },
      "id": "7k7ePPIz7sKq",
      "execution_count": 287,
      "outputs": [
        {
          "output_type": "execute_result",
          "data": {
            "text/plain": [
              "888"
            ]
          },
          "metadata": {},
          "execution_count": 287
        }
      ]
    },
    {
      "cell_type": "markdown",
      "id": "cd21a8eb",
      "metadata": {
        "id": "cd21a8eb"
      },
      "source": [
        "### 2.1.2 오타제어(customer_position --> 상위 10개만 살리자)"
      ]
    },
    {
      "cell_type": "code",
      "execution_count": 288,
      "id": "f32f0bbc",
      "metadata": {
        "id": "f32f0bbc"
      },
      "outputs": [],
      "source": [
        "def position_refine(df):\n",
        "    replace_words={\n",
        "        'other': 'other',\n",
        "        'this is a consume display requirement for home purpose.':'other',\n",
        "        'vicepresident': 'vice president',\n",
        "        'bulgaria' : 'other',\n",
        "        'lider de desarrollo': 'ceo/founder',\n",
        "        'decision-influencer': 'ceo/founder',\n",
        "        'decision-maker': 'ceo/founder',\n",
        "        'architecture/consult' : 'architect/consultant',\n",
        "        'software /solution provider' :  'software/solution provider',\n",
        "        'vp' : 'vice president',\n",
        "        'prof.' : 'professor',\n",
        "        'pgt Physcis': \"post graduate teacher in physics\",\n",
        "        'asst prof.': 'assistant professor',\n",
        "        'ceo/fundador': 'ceo/founder',\n",
        "        'gerente': 'manager',\n",
        "        'tierarzt': 'veterinarian',\n",
        "        'técnico' : 'technician',\n",
        "        'exhibitiontv' : 'other',\n",
        "        'proprietário(a)' : 'owner',\n",
        "        'genel müdür' : 'ceo/founder',\n",
        "        'mindenes' : 'other',\n",
        "        'főorvos' : 'chief physician',\n",
        "        'surgery professional' : 'surgeon',\n",
        "        'research': 'researcher',\n",
        "        'the big boss': 'ceo/founder',\n",
        "        'radiology professional' : 'radiologist',\n",
        "        'associate professor in electornics engg': 'associate professor',\n",
        "        'assistant professor of enlish': 'assistant professor',\n",
        "        'consulting': 'consultant',\n",
        "        'education': 'educator',\n",
        "        'education professional': 'educator',\n",
        "        'english trainer for ielts,toefl,pte,gre,sat exams.' : 'english trainer',\n",
        "        'entrylevel': 'entry level',\n",
        "        'exhibitiontv': 'exhibitiontv',\n",
        "        'founder': 'ceo/founder',\n",
        "        'no influence': 'other',\n",
        "        'c-levelexecutive': 'c-level executive',\n",
        "        'others': 'other',\n",
        "        'none': 'other',\n",
        "    ## 상위 10개로 분류\n",
        "        'leader': 'ceo/founder',\n",
        "        'av management': 'manager',\n",
        "        'business partner': 'partner',\n",
        "        'business unit director': 'director',\n",
        "        'chairman': 'manager',\n",
        "        'chief executive officer': 'ceo/founder',\n",
        "        'commercial end-user': 'end-user',\n",
        "        'decision influencer': 'ceo/founder',\n",
        "        'decision maker' : 'leader',\n",
        "        'leadership/executive office/owner': 'ceo/founder',\n",
        "        'market intelligence/research': 'associate/analyst',\n",
        "        'owner': 'ceo/founder',\n",
        "        'principal & director': 'director',\n",
        "        'product management': 'manager',\n",
        "        'intern': 'trainee'\n",
        "    }\n",
        "\n",
        "    df['customer_position'].replace(replace_words, inplace=True)\n",
        "\n",
        "    return df"
      ]
    },
    {
      "cell_type": "code",
      "execution_count": 289,
      "id": "88636c49",
      "metadata": {
        "id": "88636c49"
      },
      "outputs": [],
      "source": [
        "df_train = position_refine(df_train)\n",
        "df_test = position_refine(df_test)"
      ]
    },
    {
      "cell_type": "code",
      "execution_count": 290,
      "id": "afa0486f",
      "metadata": {
        "id": "afa0486f"
      },
      "outputs": [],
      "source": [
        "def preprocess_customer_position(df):\n",
        "\n",
        "    # 가장 많이 나오는 변수 상위 10개를 저장\n",
        "    top10_positions = df['customer_position'].value_counts().index[:10]\n",
        "\n",
        "    # 상위 10개에 속하지 않는 경우 'other'로 변경\n",
        "    df['customer_position'] = df['customer_position'].apply(lambda x: x if x in top10_positions and pd.notnull(x) else 'other')\n",
        "\n",
        "    return df\n",
        "\n",
        "# 함수를 훈련 데이터와 테스트 데이터에 적용\n",
        "df_train = preprocess_customer_position(df_train)\n",
        "df_test = preprocess_customer_position(df_test)"
      ]
    },
    {
      "cell_type": "code",
      "source": [
        "pd.set_option('display.max_rows', None)\n",
        "df_train['customer_position'].value_counts()"
      ],
      "metadata": {
        "colab": {
          "base_uri": "https://localhost:8080/"
        },
        "id": "tSwKD73O8pTG",
        "outputId": "b94933aa-b658-4f65-c6b5-99d9a52c9faa"
      },
      "id": "tSwKD73O8pTG",
      "execution_count": 291,
      "outputs": [
        {
          "output_type": "execute_result",
          "data": {
            "text/plain": [
              "other                24843\n",
              "manager               7411\n",
              "ceo/founder           7404\n",
              "director              4477\n",
              "partner               2347\n",
              "associate/analyst     2331\n",
              "entry level           2082\n",
              "trainee               1216\n",
              "c-level executive      783\n",
              "vice president         482\n",
              "Name: customer_position, dtype: int64"
            ]
          },
          "metadata": {},
          "execution_count": 291
        }
      ]
    },
    {
      "cell_type": "markdown",
      "id": "c9444cd4",
      "metadata": {
        "id": "c9444cd4"
      },
      "source": [
        "### 2.1.3 오타제어(customer_type) --> 상위 3개 or 5개만 살리자"
      ]
    },
    {
      "cell_type": "code",
      "execution_count": 292,
      "id": "7a6a310b",
      "metadata": {
        "colab": {
          "base_uri": "https://localhost:8080/"
        },
        "id": "7a6a310b",
        "outputId": "5e3cd598-d8aa-4e6e-d583-66f206138442"
      },
      "outputs": [
        {
          "output_type": "execute_result",
          "data": {
            "text/plain": [
              "End Customer             10117\n",
              "Specifier/ Influencer     2443\n",
              "Channel Partner           1368\n",
              "Service Partner            474\n",
              "Others                      20\n",
              "Name: customer_type, dtype: int64"
            ]
          },
          "metadata": {},
          "execution_count": 292
        }
      ],
      "source": [
        "def cus_type_typo(df) :\n",
        "\n",
        "  #  == 오타 먼저 전처리 ==\n",
        "  replace_values_typo = {\n",
        "      'End-Customer' : 'End Customer',\n",
        "      'Other' : 'Others',\n",
        "      'Etc.' : 'Others',\n",
        "      'End-user' : 'End Customer',\n",
        "      'Specifier / Influencer' : 'Specifier/ Influencer',\n",
        "      'Home Owner' : 'Homeowner',\n",
        "      'Corporate' : 'Installer/Contractor',\n",
        "      'Software / Solution Provider' : 'Software/Solution Provider',\n",
        "  }\n",
        "\n",
        "  # == 대체하기 ==\n",
        "  replace_values =  {\n",
        "      'Solution Eco-Partner' : 'Service Partner',\n",
        "      'Engineer' : 'Specifier/ Influencer',\n",
        "      'HVAC Engineer' : 'Specifier/ Influencer',\n",
        "      'Technician' : 'Specifier/ Influencer',\n",
        "      'Consultant' : 'Service Partner',\n",
        "      'Developer' : 'Specifier/ Influencer',\n",
        "      'Homeowner' : 'End Customer',\n",
        "      'Software/Solution Provider' : 'Service Partner', # 종합적인 solution을 제공한다고 생각하여 SP\n",
        "      'Software / Solution Provider' : 'Service Partner', #\n",
        "      'Manager / Director' : 'Specifier/ Influencer',\n",
        "      'Installer' : 'Channel Partner', # 설치업자는 현장 설치를 전문적으로 수행한다고 생각함\n",
        "      'Installer/Contractor' : 'Channel Partner',\n",
        "      'Architect/Consultant' : 'Service Partner',\n",
        "      'Distributor' : 'Channel Partner',\n",
        "      'Reseller' : 'Channel Partner',\n",
        "      'Dealer/Distributor' : 'Channel Partner',\n",
        "      'System Integrator' : 'Service Partner',\n",
        "      'Technical Assistant' : 'Service Partner',\n",
        "      'Commercial end-user' : 'End Customer',\n",
        "      'Administrator' : 'Channel Partner',\n",
        "      'Interior Designer' : 'Specifier/ Influencer'\n",
        "  }\n",
        "  df['customer_type'] = df['customer_type'].replace(replace_values_typo)\n",
        "  df['customer_type'] = df['customer_type'].replace(replace_values)\n",
        "\n",
        "  # 결측치 처리\n",
        "\n",
        "  return df\n",
        "\n",
        "df_train = cus_type_typo(df_train)\n",
        "df_train['customer_type'].value_counts()"
      ]
    },
    {
      "cell_type": "markdown",
      "id": "53895a0b",
      "metadata": {
        "id": "53895a0b"
      },
      "source": [
        "# custoemr_job"
      ]
    },
    {
      "cell_type": "code",
      "execution_count": 293,
      "id": "96b5cc4e",
      "metadata": {
        "id": "96b5cc4e"
      },
      "outputs": [],
      "source": [
        "def cus_job_typo(df):\n",
        "\n",
        "  # == 오타 먼저 전처리 ==\n",
        "  replace_values = {\n",
        "      'graphic/color art' : 'arts and design',\n",
        "      '3d/vfx art' : 'arts and design',\n",
        "      'clinical specialist' : 'healthcare services',\n",
        "      'radiology professional' : 'healthcare services',\n",
        "      'medical imaging specialist' : 'engineering',\n",
        "      'surgery professional' : 'healthcare services',\n",
        "      'pathologist' : 'healthcare services',\n",
        "      'art and design' : 'arts and design',\n",
        "      'programm-_und_projektmanagement' : 'program and project management',\n",
        "      'engineering & technical' : 'engineering',\n",
        "      'technical' : 'engineering',\n",
        "      'medien_und_kommunikation' : 'media and communication',\n",
        "      'finanzen' : 'finance',\n",
        "      'designer' : 'arts and design',\n",
        "      'information_technology' : 'information technology',\n",
        "      'kreation_und_design' : 'arts and design',\n",
        "      'sonstiges' : 'other',\n",
        "      'arts_and_design' : 'arts and design',\n",
        "      'otro' : 'other',\n",
        "      'computing & it' : 'information technology',\n",
        "      'it director' : 'information technology',\n",
        "      'engineer' : 'engineering',\n",
        "      'program_and_project_management' : 'program and project management',\n",
        "      'surgery professional' : 'healthcare services',\n",
        "      'clinic' : 'healthcare services',\n",
        "      'projektmenedzsment\\tprogram and project management' : 'program and project management',\n",
        "      'information technology​' : 'information technology',\n",
        "      'it' : 'information technology',\n",
        "      'healthcare_services' : 'healthcare services',\n",
        "      'amministrativo' : 'administrative',\n",
        "      'surgery professional​' : 'healthcare services',\n",
        "      'adminisztráció' : 'administrative',\n",
        "      'pénzügy' : 'finance',\n",
        "      'radiology  professional' : 'healthcare services',\n",
        "      'healthcare professionals' : 'healthcare services',\n",
        "      'it - information technology' : 'information technology',\n",
        "      'engineering & technical executive' : 'engineering',\n",
        "      'program_and_project_manager' : 'program and project management',\n",
        "      'administration' : 'administrative',\n",
        "      'tech' : 'engineering',\n",
        "      'it/software' : 'information technology',\n",
        "      'arte_e_design' : 'arts and design',\n",
        "      'program-_és_projektmenedzsment' : 'program and project management',\n",
        "      'others' : 'other',\n",
        "      'medical solution provider' : 'engineering',\n",
        "      'owner' : 'entrepreneurship',\n",
        "      'manager' : 'product management',\n",
        "      'project manager' : 'program and project management',\n",
        "      'curation' : 'arts and design',\n",
        "      'quality assurance' : 'engineering',\n",
        "      'general management' : 'business development',\n",
        "      'architect' : 'engineering',\n",
        "      'gm' : 'business development',\n",
        "      'decision maker' : 'business development',\n",
        "      'ceo' : 'entrepreneurship',\n",
        "      'lead' : 'entrepreneurship',\n",
        "      'director' : 'business development',\n",
        "      'purchaser' : 'purchasing',\n",
        "      'buyer' : 'purchasing',\n",
        "      'arquitecto/consultor' : 'consulting',\n",
        "      'executive' : 'entrepreneurship',\n",
        "      'vertrieb' : 'marketing',\n",
        "      'ceo/founder' : 'entrepreneurship',\n",
        "      'general manager' : 'operations',\n",
        "      'arquitecto/consultor' : 'consulting',\n",
        "      'military and protective services' : 'other',\n",
        "      'community_and_social_services' : 'other',\n",
        "      'installer' : 'operations',\n",
        "      'consultant' : 'consulting',\n",
        "      'revendedor' : 'sales',\n",
        "      'research & development' : 'research',\n",
        "      'procurement' : 'operations',\n",
        "      'coordinator' : 'entrepreneurship',\n",
        "      'integrador' : 'operations',\n",
        "      'integrator' : 'operations',\n",
        "      'operations manager ' : 'operations',\n",
        "      'it manager' : 'information technology',\n",
        "      'advertising' : 'marketing',\n",
        "      'chief engineer' : 'engineering',\n",
        "      'business_development' : 'business development',\n",
        "      'project coordinator' : 'program and project management',\n",
        "      'vendite' : 'sales',\n",
        "      'medical solution  provider' : 'healthcare services',\n",
        "      'media_e_comunicazione' : 'media and communication',\n",
        "      'egyéb' : 'other',\n",
        "      'pm' : 'program and project management',\n",
        "      'account management' : 'accounting',\n",
        "      'quality_assurance' : 'sales',\n",
        "      'associate/analyst' : 'finance',\n",
        "      'general contractor' : 'operations',\n",
        "      'contractor' : 'operations',\n",
        "      'reseller' : 'sales',\n",
        "      'institute & academy' :  'education',\n",
        "      'other stores' : 'other',\n",
        "      'educator' : 'education',\n",
        "      'distributor' : 'sales',\n",
        "      'medical imaging  specialist' : 'engineering',\n",
        "      'sales manager' : 'sales',\n",
        "      'purchasing agent' : 'purchasing',\n",
        "      'művészet_és_design' : 'arts and design',\n",
        "      'av tech' : 'information technology',\n",
        "      'administrative assistant' : 'administrative',\n",
        "      'média_és_kommunikáció' : 'media and communication',\n",
        "      'sales manager' : 'product management',\n",
        "      'purchase' : 'purchasing',\n",
        "      'sales operations' : 'sales',\n",
        "      'procurement specialist' : 'purchasing',\n",
        "      'distribuidor' : 'sales',\n",
        "      'marketing executive' : 'marketing',\n",
        "      'coo' : 'entrepreneurship',\n",
        "      'field marketing' : 'marketing',\n",
        "      'vice president' : 'other',\n",
        "      'technical director' : 'engineering',\n",
        "      'planner' : 'operations',\n",
        "      'producer' : 'product management',\n",
        "      'product marketing' : 'marketing',\n",
        "      'project architect' : 'engineering',\n",
        "      'operations executive' : 'operations',\n",
        "      'operations manager' : 'operations',\n",
        "      'higher education (college & university)' : 'education',\n",
        "      'director of it' : 'information technology',\n",
        "      'design' : 'arts and design',\n",
        "      'project lead' : 'program and project management',\n",
        "      'recommend (you recommend specific products or technologies for the solution)' : 'consulting',\n",
        "      'project head' : 'program and project management',\n",
        "      'medios_de_comunicación' : 'media and communication',\n",
        "      'sales executive' : 'sales',\n",
        "      'solution provider'  : 'consulting',\n",
        "      'üzemeltetés' : 'operations',\n",
        "      'értékesítés' : 'sales',\n",
        "      'influencer' : 'marketing',\n",
        "      'interior designer' : 'arts and design',\n",
        "      'leader' : 'entrepreneurship',\n",
        "      'implement' : 'operations',\n",
        "      # 'hr' : '' 보류\n",
        "      'marketing operations' : 'operations',\n",
        "      'following up' : 'sales',\n",
        "      'supervisor' : 'operations',\n",
        "      'management' : 'program and project management',\n",
        "      'user' : 'sales',\n",
        "      'cliente final' : 'sales',\n",
        "      'president' : 'other',\n",
        "      'event marketing' : 'marketing',\n",
        "      'collaboration & web apps' : 'information technology',\n",
        "      'sales engineering' : 'engineering',\n",
        "      'estimator' : 'engineering',\n",
        "      'end user' : 'sales',\n",
        "      'altro' : 'other',\n",
        "      'project director' : 'program and project management',\n",
        "      'admin' : 'administrative',\n",
        "      'technical marketing' : 'marketing',\n",
        "      'railway & metro station' : 'operations',\n",
        "      'graphic design' : 'arts and design',\n",
        "      'fashion' : 'arts and design',\n",
        "      'account exec/manager' : 'accounting',\n",
        "      'purchasing manager' : 'purchasing',\n",
        "      'details send' : 'operations',\n",
        "      'pacs administrator' : 'healthcare services',\n",
        "      'it specialist' : 'information technology',\n",
        "      'autres' : 'other',\n",
        "      'electronics & telco' : 'engineering',\n",
        "      'medical solution provider' : 'healthcare services',\n",
        "      'emerging technology / innovation' : 'engineering',\n",
        "      'infrastructure' : 'operations',\n",
        "      'designer/ project manager' : 'other', # 너무 애매함\n",
        "      'restaurant display' : 'other',\n",
        "      'test4' : 'other',\n",
        "      'energy' : 'engineering',\n",
        "      'broadcasting & media' : 'media and communication',\n",
        "      'systems administrator' : 'administrative',\n",
        "      'customer experience' : 'other',\n",
        "      'field / outside sales' : 'sales',\n",
        "      'sourcing / procurement' : 'operations',\n",
        "      'chief of engineering' : 'engineering',\n",
        "      'designers' : 'arts and design',\n",
        "      'design/build' : 'arts and design',\n",
        "      'it hardware technician ' : 'engineering',\n",
        "      'electrical contractor' : 'operations',\n",
        "      'systems design' : 'arts and design',\n",
        "      'it admin' : 'information technology',\n",
        "      'property owner' : 'real estate',\n",
        "      'menu' : 'other',\n",
        "      'sme' : 'entrepreneurship',\n",
        "      'design/install/training/support' : 'arts and design',\n",
        "      'electronics evaluator' : 'operations',\n",
        "      'assist in serving food' : 'support',\n",
        "      'underboss' : 'entrepreneurship',\n",
        "      'community theater' : 'support',\n",
        "      'cintractor' : 'operations',\n",
        "      'it support' : 'information technology',\n",
        "      'building owner' : 'real estate',\n",
        "      'teacher' : 'education',\n",
        "      'it project lead' : 'information technology',\n",
        "      'hardware design engineer' : 'engineering',\n",
        "      'it dairector' : 'information technology',\n",
        "      'designer/ engineer' : 'other',  # 경계 모호\n",
        "      'design and install' : 'arts and design',\n",
        "      'designer, creative technologist' : 'arts and design',\n",
        "      'primary end-user' : 'sales',\n",
        "      'it department' : 'information technology',\n",
        "      'designer/installer' : 'arts and design',\n",
        "      'medical solution provider​' : 'healthcare services',\n",
        "      'photographer' : 'arts and design',\n",
        "      'no respoxse on phone will try again ' : 'other',\n",
        "      'product_management' : 'product management',\n",
        "      'solution engineer' : 'engineering',\n",
        "      'reseller/integrator' : 'sales',\n",
        "      'facilitator installation services' : 'operations',\n",
        "      'display' : 'engineering',\n",
        "      'media and communications' : 'media and communication',\n",
        "      'av project manager' : 'program and project management',\n",
        "      'otros' : 'other',\n",
        "      'architect ass interiores' : 'arts and design',\n",
        "      'requirement close' : 'other',\n",
        "      'system designer, integrator' : 'arts and design',\n",
        "      'no requirment' : 'other',\n",
        "      'corporate / office' : 'entrepreneurship',\n",
        "      'colorist' : 'arts and design',\n",
        "      'engineering, design, and install' : 'other',  # 경계 모호\n",
        "      'software solution' : 'consulting',\n",
        "      'serving food' : 'support',\n",
        "      'doctor' : 'healthcare services',\n",
        "      'manufacturing factory / plant' : 'operations',\n",
        "      'waiter' : 'support',\n",
        "      'chief' : 'entrepreneurship',\n",
        "      'contributor' : 'support',\n",
        "      'purchsing' : 'purchasing',\n",
        "      'chef' : 'other',\n",
        "      'designer purchaser' : 'arts and design',\n",
        "      'authorize (you are responsible for making the final decision)' : 'business development',\n",
        "      'a/v project manager' : 'program and project management',\n",
        "      'final approval' : 'other',\n",
        "      'design engineer' : 'arts and design',\n",
        "      'inquiry-to-buy/contact-us test' : 'operations',\n",
        "      'director of lodging' : 'operations',\n",
        "      'lead engineer' : 'engineering',\n",
        "      'design/purchaser' : 'other', # 경계 모호\n",
        "      'technology consultant' : 'consulting',\n",
        "      'project manager/designer' : 'program and project management',\n",
        "      'no respoxse on phone will try again' : 'other',\n",
        "      'consultent' : 'consulting',\n",
        "      'elevator company' : 'entrepreneurship',\n",
        "      'for confrence' : 'operations',\n",
        "      'distributor quotation' : 'operations',\n",
        "      'quoting project' : 'administrative',\n",
        "      'manger' : 'product management', # 임의로 넣어둠\n",
        "      'design consultant' : 'consulting',\n",
        "      'project engineer' : 'engineering',\n",
        "      'conference room' : 'other',\n",
        "      'it hardware technician' : 'information technology',\n",
        "      'designer/pm/gc' : 'other',\n",
        "      'furnish and install' : 'other',\n",
        "      'videowall' : 'other',\n",
        "      'it tech.' : 'information technology',\n",
        "      'projectr mgmt' : 'program and project management',\n",
        "      'facility administrator' : 'administrative',\n",
        "      'software developer' : 'information technology',\n",
        "      'principal' : 'education',\n",
        "      'home theater' : 'other',\n",
        "      'team lead' : 'program and project management',\n",
        "      'serving robot' : 'operations',\n",
        "      'nothing' : 'other',\n",
        "      'cctv view' : 'operations',\n",
        "      'product researcher' : 'research',\n",
        "      'purchase dept' : 'sales',\n",
        "      'instructor' : 'education',\n",
        "      'decider' : 'business development',\n",
        "      'seller installer' : 'sales',\n",
        "      'general manager (decision maker)' : 'business development',\n",
        "      'procurment' : 'operations',\n",
        "      'f&b director for bicycle casino' : 'other',\n",
        "      'supplier and installation ' : 'sales',\n",
        "      'managing director' : 'program and project management',\n",
        "      'sales rep' : 'sales',\n",
        "      'installer/sales rep' : 'sales',\n",
        "      'cctv monetoring' : 'operations',\n",
        "      'department secretary' : 'administrative',\n",
        "      'r&d project manager' : 'program and project management',\n",
        "      'facilities and operations' : 'operations',\n",
        "      'component of video wall' : 'other',\n",
        "      'systems engineer' : 'engineering',\n",
        "      'installer.' : 'operations',\n",
        "      'principal in charge' : 'program and project management',\n",
        "      'fixing tv' : 'other',\n",
        "      'director of engineering' : 'engineering',\n",
        "      'regional director of operations' : 'operations',\n",
        "      'chief eng.' : 'engineering',\n",
        "      'supplier and installation' : 'entrepreneurship',\n",
        "      'sale' : 'sales',\n",
        "      'installation and purchaser' : 'purchasing',\n",
        "      'maintenance technician' : 'engineering',\n",
        "      'purchasing supervisor' : 'consulting',\n",
        "      'we are in iceland' : 'other', # 뭐냐이건 ㅋㅋㅋㅋㅋ\n",
        "      'part of video wall' : 'other',\n",
        "      'mental health' : 'healthcare services',\n",
        "      'technical / decision maker' : 'operations',\n",
        "      'ops mgr' : 'operations',\n",
        "      'research products and prices' : 'research',\n",
        "      'for presentations' : 'other',\n",
        "      'managing partner' : 'program and project management',\n",
        "      'store promotions' : 'marketing',\n",
        "      'owner / project manager' : 'other',  # 경계 모호\n",
        "      'installer/ system integrater' : 'operations',\n",
        "      'office it' : 'entrepreneurship',\n",
        "      'principal engineer ' : 'engineering',\n",
        "      'tradeshow event' : 'marketing',\n",
        "      'serving ' : 'support',\n",
        "      'deputy cio' : 'entrepreneurship',\n",
        "      'project manage' : 'program and project management',\n",
        "      'recommender' : 'other',\n",
        "      'resource manager' : 'product management',\n",
        "      'display screen from control' : 'other',\n",
        "      'general manager - project manager' : 'program and project management',\n",
        "      'sourcing/procurement' : 'operations',\n",
        "      'parts coordinator' : 'support',\n",
        "      'accounts payable' : 'sales',\n",
        "      'main end user of the product' : 'product management',\n",
        "      'ranger 2 ' : 'other',\n",
        "      'pricing ' : 'sales',\n",
        "      'purchasers' : 'purchasing',\n",
        "      'av estimator' : 'sales',\n",
        "      'appliance specialist' : 'consulting',\n",
        "      'consultant,cabinet fabricator' : 'other', # 경계 모호\n",
        "      'director of operations' : 'operations',\n",
        "      'construction manager' : 'program and project management',\n",
        "      'research and developement' : 'research',\n",
        "      'imaging administrator' : 'administrative',\n",
        "      'design/decision maker' : 'operations',\n",
        "      'signage manager' : 'product management',\n",
        "      'planning and installation' : 'operations',\n",
        "      'network administrator' : 'administrative',\n",
        "      'reseorot general manager' : 'program and project management',\n",
        "      'correspondence' : 'other',\n",
        "      'director of finance' : 'finance',\n",
        "      'intergrator' : 'other',\n",
        "      'quote gathering/proposer to owner' : 'sales',\n",
        "      'owner representation' : 'real estate',\n",
        "      'digital display vs signage need' : 'other',\n",
        "      'principal engineer' : 'engineering',\n",
        "      'technical sales' : 'sales',\n",
        "      'producer/project manager' : 'program and project management',\n",
        "      'submitting proposal' : 'operations',\n",
        "      'program directors' : 'program and project management',\n",
        "      'costar av team' : 'real estate',\n",
        "      'conference table' : 'other',\n",
        "      'serving' : 'other',\n",
        "      'genera manager' : 'business development',\n",
        "      'hardware' : 'engineering',\n",
        "      'repair uhd 120 hz units' : 'support',\n",
        "      'recommendation' : 'other',\n",
        "      'equipment and app provider' : 'information technology',\n",
        "      'ranger 2' : 'other',\n",
        "      'pricing ' : 'sales',\n",
        "      'project researcher' : 'research',\n",
        "      'post install support and service' : 'support',\n",
        "      'sign company' : 'entrepreneurship',\n",
        "      'content creation, eq consultant' : 'consulting',\n",
        "      'buyer, coordinating' : 'purchasing',\n",
        "      'project designer' : 'program and project management',\n",
        "      'cloud / mobility' : 'information technology',\n",
        "      'teaching' : 'education',\n",
        "      'equipment planner' : 'purchasing',\n",
        "      'interior stylist' : 'arts and design',\n",
        "      'project sales/manage' : 'sales',\n",
        "      'master mind' : 'entrepreneurship',\n",
        "      'quotation curator' : 'arts and design',\n",
        "      'service coordinator' : 'entrepreneurship',\n",
        "      'creative director' : 'arts and design',\n",
        "      'tester' : 'operations',\n",
        "      'studio manager' : 'program and project management',\n",
        "      'purchase and install' : 'operations',\n",
        "      'asking for quote for client' : 'other',\n",
        "      'general manager- purchaser' : 'other', # 경계 모호\n",
        "      'purchasing authority' : 'purchasing',\n",
        "      'product research' : 'research',\n",
        "      'pricing' : 'sales',\n",
        "      'salesman' : 'sales',\n",
        "      'hotel manager' : 'operations',\n",
        "      'var' : 'sales',\n",
        "      'sho lyrics' : 'other',\n",
        "      'hardware selection' : 'engineering',\n",
        "      'it administrator' : 'information technology',\n",
        "      'replacement tv' : 'other',\n",
        "      'platform administrator' : 'administrative',\n",
        "      'drop, purchase maxhub' : 'other',\n",
        "      'asset management' : 'accounting',\n",
        "      'digital signage' : 'other',\n",
        "      'solution advisor' : 'consulting',\n",
        "      'purchasing director' : 'purchasing',\n",
        "      'facilities' : 'other',\n",
        "      'federal government contractor' : 'other',\n",
        "      'stakeholder' : 'program and project management',\n",
        "      'sourcing & quoting for end user' : 'sales',\n",
        "      'integration' : 'operations',\n",
        "      'contractor/owner' : 'real estate',\n",
        "      'advertising and promotions team' : 'marketing',\n",
        "      'sourcing' : 'administrative',\n",
        "      'photos' : 'arts and design',\n",
        "      'facility manager' : 'program and project management',\n",
        "      'project manager / principal' : 'program and project management',\n",
        "      'managing contractor' : 'program and project management',\n",
        "      'signage subcontractor p/m' : 'product management',\n",
        "      'solutions provider and specifier' : 'consulting',\n",
        "      'informatics, touch capability' : 'other',\n",
        "      'guestroom tv' : 'other',\n",
        "      'application development' : 'information technology',\n",
        "      'developer' : 'information technology',\n",
        "      'profesional de cirugía' : 'healthcare services',\n",
        "      'spécialiste_en_imagerie_médicale' : 'healthcare services',\n",
        "      'chirurgien' : 'healthcare services',\n",
        "      'cirugano' : 'healthcare services',\n",
        "      'media_and_communication' : 'media and communication',\n",
        "      'tierarzt' : 'media and communication',\n",
        "      'digital project manager' : 'program and project management',\n",
        "      'entry level' : 'other',\n",
        "      'si' : 'other',\n",
        "      'director comercial' : 'sales',\n",
        "      'car dealership' : 'sales',\n",
        "      'proprietário(a)' : 'real estate',\n",
        "      'genel müdür' : 'program and project management',\n",
        "      'mindenes' : 'other', # 만능인 ㅇㅈㄹ\n",
        "      'főorvos' : 'healthcare services',\n",
        "      'intern' : 'other',\n",
        "      'the big boss' : 'entrepreneurship',\n",
        "      'strategic communications' : 'program and project management',\n",
        "      'renewable energy' : 'engineering',\n",
        "      'museum / gallery' : 'arts and design',\n",
        "      'profesional de radiología' : 'healthcare services',\n",
        "      'military_and_protective_services ' : 'other',\n",
        "      'project administrator' : 'program and project management',\n",
        "      'radiology_professional' : 'healthcare services',\n",
        "      'signage for an attraction' : 'other',\n",
        "      'equipment selection' : 'other',\n",
        "      'system engineer' : 'engineering',\n",
        "      'designere / budget' : 'arts and design',\n",
        "      'n.a' : 'other',\n",
        "      'commander' : 'other',\n",
        "      'enterprise resource planning' : 'administrative',\n",
        "      'help desk / desktop services' : 'support',\n",
        "      'finance executive' : 'finance',\n",
        "      'senior design engineer' : 'engineering',\n",
        "      'directeur technique' : 'program and project management',\n",
        "      'c-level executive' : 'entrepreneurship',\n",
        "      'programm- und projektmanagement' : 'program and project management',\n",
        "      'kreation und design' : 'arts and design',\n",
        "      'operaciones' : 'operations',\n",
        "      'administración' : 'administrative',\n",
        "      'gestión_de_proyectos' : 'program and project management',\n",
        "      'finanzas' : 'finance',\n",
        "      'arte y diseño' : 'arts and design',\n",
        "      'investigator' : 'administrative',\n",
        "      'marketing coordinator' : 'marketing',\n",
        "      'vendor / reseller' : 'sales',\n",
        "      'maintenance supervisor' : 'consulting',\n",
        "      'head of technology' : 'engineering',\n",
        "      'sliding pictures of beauty salon' : 'other',\n",
        "      'gm/part owner' : 'program and project management',\n",
        "      'project manager / estimator' : 'program and project management',\n",
        "      'managing employee' : 'entrepreneurship',\n",
        "      'designer, producer' : 'other',\n",
        "      'display our products' : 'other',\n",
        "      'lead designer' : 'arts and design',\n",
        "      'architect/owner' : 'other',\n",
        "      'planner/purchaser' : 'other',\n",
        "      'global lead of production' : 'product management',\n",
        "      'liason' : 'other',\n",
        "      'maintenance' : 'product management',\n",
        "      'product owner' : 'product management',\n",
        "      'helpdesk specialist' : 'support',\n",
        "      'the person with the credit card' : 'other',\n",
        "      'projection manager' : 'program and project management',\n",
        "      'need one tv' : 'other',\n",
        "      'gc' : 'entrepreneurship',\n",
        "      'ownner-marketing director' : 'marketing',\n",
        "      'hotel tv' : 'other',\n",
        "      'video wall' : 'other',\n",
        "      'managgere' : 'program and project management',\n",
        "      'engagement executive' : 'entrepreneurship',\n",
        "      'military_and_protective_services ' : 'other',\n",
        "      'solutions architect' : 'consulting',\n",
        "      'project team member' : 'program and project management',\n",
        "      'director purchaser' : 'purchasing',\n",
        "      'head' : 'entrepreneurship',\n",
        "      'reviewer' : 'marketing',\n",
        "      'admin assistant' : 'administrative',\n",
        "      'development coordinator/procurement' : 'operations',\n",
        "      'ordering manager' : 'program and project management',\n",
        "      'facilitator' : 'program and project management',\n",
        "      'sub contractor' : 'operations',\n",
        "      'primary' : 'entrepreneurship',\n",
        "      'retailer/installer' : 'purchasing',\n",
        "      '5% of hotel needs' : 'other',\n",
        "      'av technician' : 'engineering',\n",
        "      'overseer' : 'program and project management',\n",
        "      'business owner' : 'business development',\n",
        "      'display screen' : 'other',\n",
        "      'obtain quotes, process purchase' : 'other',\n",
        "      'tv studio manager' : 'program and project management',\n",
        "      'purchasing coordinator' : 'other',\n",
        "      'it integrator' : 'information technology',\n",
        "      'design and installation company' : 'entrepreneurship',\n",
        "      'replacing tv' : 'support',\n",
        "      'manufacturer' : 'other',\n",
        "      'art installation' : 'arts and design',\n",
        "      'support/facilitator, designer' :  'other',\n",
        "      'supplier' : 'sales',\n",
        "      'design and provide equipment' : 'arts and design',\n",
        "      'director,it' : 'information technology',\n",
        "      'team leader' : 'program and project management',\n",
        "      'purchaser, it and installer' : 'other',\n",
        "      'need 1 tv 55\" edge led 4k uhd' : 'other',\n",
        "      'site manager' : 'program and project management',\n",
        "      \"i'm directing it\" : 'information technology',\n",
        "      'military_and_protective_services' : 'other',\n",
        "      'strategy & operations specialist' : 'operations',\n",
        "      'change tv' : 'support',\n",
        "      'wall mounted screen mirroring' : 'other',\n",
        "      'organizer' : 'entrepreneurship',\n",
        "      'using for window display' : 'other',\n",
        "      'project facilitator' : 'program and project management',\n",
        "      'equipment custodian' : 'product management',\n",
        "      'comanager' : 'program and project management',\n",
        "      'tech service' : 'support',\n",
        "      'requisition' : 'sales',\n",
        "      'engineering director' : 'engineering',\n",
        "      'testing and troubleshooting' : 'other',\n",
        "      'office manager' : 'other',\n",
        "      'requirements and buyer' : 'purchasing',\n",
        "      'research and instalaltion' : 'research',\n",
        "      'vp/gm' : 'other',\n",
        "      'technology designer' : 'arts and design',\n",
        "      'systems designer' : 'arts and design',\n",
        "      'artist, lead on equipment selection' : 'arts and design',\n",
        "      'owning company' : 'entrepreneurship',\n",
        "      'execution' : 'other',\n",
        "      'director it' : 'information technology',\n",
        "      'research' : 'research',\n",
        "      'hr' : 'administrative',\n",
        "      'human resources' : 'administrative',\n",
        "      'hr posting' : 'administrative',\n",
        "      'human_resources' : 'administrative'\n",
        "  }\n",
        "\n",
        "  # == 대체하기 ==\n",
        "  df['customer_job'] = df['customer_job'].replace(replace_values)\n",
        "\n",
        "  # 결측치는 unknown\n",
        "  counts = df['customer_job'].value_counts()\n",
        "  df['customer_job'] = df['customer_job'].apply(lambda x: 'other' if pd.notnull(x) and counts[x] == 1 else x)\n",
        "\n",
        "  return df\n",
        "\n",
        "df_train = cus_job_typo(df_train)\n",
        "df_test = cus_job_typo(df_test)"
      ]
    },
    {
      "cell_type": "code",
      "source": [
        "# == 결측치 그대로 있는지 확인 ==\n",
        "df_train['customer_job'].isnull().sum()"
      ],
      "metadata": {
        "colab": {
          "base_uri": "https://localhost:8080/"
        },
        "id": "hjnNSYD-blXX",
        "outputId": "bb681da3-c717-4b73-f0a6-f05d19aeb141"
      },
      "id": "hjnNSYD-blXX",
      "execution_count": 294,
      "outputs": [
        {
          "output_type": "execute_result",
          "data": {
            "text/plain": [
              "16253"
            ]
          },
          "metadata": {},
          "execution_count": 294
        }
      ]
    },
    {
      "cell_type": "code",
      "source": [
        "df_train['customer_job'].value_counts(), df_test['customer_job'].value_counts()"
      ],
      "metadata": {
        "colab": {
          "base_uri": "https://localhost:8080/"
        },
        "id": "c3XPmMf7lUay",
        "outputId": "44d3e954-5da9-4160-f683-80e976ff7147"
      },
      "id": "c3XPmMf7lUay",
      "execution_count": 295,
      "outputs": [
        {
          "output_type": "execute_result",
          "data": {
            "text/plain": [
              "(engineering                       6033\n",
              " other                             5239\n",
              " administrative                    3228\n",
              " education                         2192\n",
              " sales                             2121\n",
              " operations                        1899\n",
              " arts and design                   1874\n",
              " purchasing                        1787\n",
              " information technology            1771\n",
              " business development              1720\n",
              " healthcare services               1324\n",
              " consulting                        1275\n",
              " entrepreneurship                  1237\n",
              " marketing                         1058\n",
              " program and project management    1002\n",
              " media and communication            679\n",
              " product management                 608\n",
              " finance                            453\n",
              " accounting                         380\n",
              " support                            343\n",
              " real estate                        261\n",
              " film production                    230\n",
              " legal                              148\n",
              " research                           132\n",
              " community and social services      129\n",
              " Name: customer_job, dtype: int64,\n",
              " engineering                       737\n",
              " other                             514\n",
              " education                         408\n",
              " administrative                    321\n",
              " information technology            231\n",
              " operations                        195\n",
              " purchasing                        180\n",
              " consulting                        166\n",
              " business development              164\n",
              " sales                             162\n",
              " entrepreneurship                  119\n",
              " arts and design                   107\n",
              " program and project management     96\n",
              " marketing                          94\n",
              " healthcare services                52\n",
              " media and communication            49\n",
              " support                            47\n",
              " finance                            42\n",
              " product management                 36\n",
              " accounting                         34\n",
              " real estate                        26\n",
              " community and social services      22\n",
              " legal                              17\n",
              " research                            9\n",
              " healthcare                          2\n",
              " film production                     2\n",
              " Name: customer_job, dtype: int64)"
            ]
          },
          "metadata": {},
          "execution_count": 295
        }
      ]
    },
    {
      "cell_type": "code",
      "source": [
        "df_train['customer_type'].value_counts(), df_test['customer_type'].value_counts()"
      ],
      "metadata": {
        "colab": {
          "base_uri": "https://localhost:8080/"
        },
        "id": "zINSqjl3klPV",
        "outputId": "54ecc309-4288-48d8-deb5-388e1e3603fb"
      },
      "id": "zINSqjl3klPV",
      "execution_count": 296,
      "outputs": [
        {
          "output_type": "execute_result",
          "data": {
            "text/plain": [
              "(End Customer             10117\n",
              " Specifier/ Influencer     2443\n",
              " Channel Partner           1368\n",
              " Service Partner            474\n",
              " Others                      20\n",
              " Name: customer_type, dtype: int64,\n",
              " End Customer             2453\n",
              " Specifier/ Influencer     788\n",
              " Channel Partner           327\n",
              " Solution Eco-Partner      146\n",
              " Service Partner            98\n",
              " Developer                   1\n",
              " End-Customer                1\n",
              " Name: customer_type, dtype: int64)"
            ]
          },
          "metadata": {},
          "execution_count": 296
        }
      ]
    },
    {
      "cell_type": "markdown",
      "id": "bd4b504f",
      "metadata": {
        "id": "bd4b504f"
      },
      "source": [
        "## product_category"
      ]
    },
    {
      "cell_type": "code",
      "execution_count": 297,
      "id": "1930dec9",
      "metadata": {
        "id": "1930dec9"
      },
      "outputs": [],
      "source": [
        "replace_pc_words={\n",
        "    'etc.': 'others',\n",
        "    'other': 'others',\n",
        "    'noteboook': 'laptop',\n",
        "    'teto ou cassete inverter': 'ventilation',\n",
        "    'all lg vrf systems' : 'vrf',\n",
        "    'residential air conditioner': 'rac',\n",
        "    'חימום': 'heating',\n",
        "    'idb': 'interactive signage',\n",
        "    'video wall': 'video wall signage',\n",
        "    'lg one:quick': 'one:quick series',\n",
        "    'aio | one quick': 'one:quick series',\n",
        "    'high brightness': 'high brightness signage',\n",
        "    '43us660h0sd.awz': 'hotel tv',\n",
        "    'fhd series': 'commercial tv',\n",
        "    'led 顯示屏': 'led signage',\n",
        "    '酒店電視': 'hotel tv',\n",
        "    'one:quick flex': 'one:quick series',\n",
        "    'ultra stretch series': 'digital signage',\n",
        "    'tv signage': 'commercial tv',\n",
        "    'collaboration displays': 'digital signage',\n",
        "    'oled 顯示屏': 'oled signage',\n",
        "    'meeting & screen sharedirect view leddirect view led': 'led signage',\n",
        "    'window facing display': 'digital signage',\n",
        "    'lg customer care program': 'others',\n",
        "    'led': 'led signage',\n",
        "    'pendingin': 'heating',\n",
        "    'cmulti v 5 air': 'heating',\n",
        "    'ar condicionado residencial' : 'rac',\n",
        "    'مبرد (تشيلر)': 'heating',\n",
        "    'multi v water 5': 'heating',\n",
        "    'single split': 'single-split',\n",
        "    'ahu': 'ventilation',\n",
        "    'multi split': 'multi-split',\n",
        "    'lainnya': 'others',\n",
        "    'lg home bliss air solution': 'ventilation',\n",
        "    'lg paradise air solution': 'ventilation',\n",
        "    'isıtma': 'heating',\n",
        "    'تكييفات': 'multi-split',\n",
        "    'פיצול מרובה': 'multi-split',\n",
        "    'تكييف وتبريد': 'heating',\n",
        "    'אחר': 'others',\n",
        "    'vrf,multi-split': 'vrf',\n",
        "    'vrf,multi-split,chiller': 'vrf',\n",
        "    'vrf,multi-split,single-split,chiller,heatin': 'vrf',\n",
        "    '28mq780': 'monitor',\n",
        "    'computer monitor': 'monitor',\n",
        "    'monitor & pc': 'monitor',\n",
        "    'medical monitor': 'medical display',\n",
        "    'videwall': 'video wall signage',\n",
        "    'ultra stretch signage': 'digital signage',\n",
        "    'digital signage or commercial tvs': 'digital signage',\n",
        "    'onequick series': 'one:quick series',\n",
        "    'education createboard': 'digital signage',\n",
        "    'virtual production': 'others',\n",
        "    'laec015': 'led signage',\n",
        "    '55us660h0sd.bwz': 'commercial tv',\n",
        "    'transparent oled': 'oled signage',\n",
        "    'medical- surgical': 'medical display',\n",
        "    'radiology displays': 'medical display',\n",
        "    'high inch 86 / 98 or 110': 'digital signage',\n",
        "    'leadallin': 'led signage',\n",
        "    'ฯลฯ': 'others',\n",
        "    'taa lcd lfd displays': 'digital signage',\n",
        "    'rac/cac': 'rac',\n",
        "    'حلول التدفئة': 'heating',\n",
        "    'otros': 'others',\n",
        "    'sac': 'heating',\n",
        "    'laec015-gn.awz': 'led signage',\n",
        "    'gscd046' : 'led signage',\n",
        "    '32lq621cbsb.awz': 'commercial tv',\n",
        "    '43uh5f-h.awzm': 'commercial tv',\n",
        "    '49vl5g-m.awzm': 'commercial tv',\n",
        "    '55uq801c0sb.bwz': 'commercial tv',\n",
        "    'tv': 'commercial tv',\n",
        "    '43uq751c0sf.bwz': 'commercial tv',\n",
        "    '32 / 43 pol': 'commercial tv',\n",
        "    'htv': 'commercial tv',\n",
        "    '43uq751c0sb.bwz': 'commercial tv',\n",
        "    '49uh / 49xf': 'commercial tv',\n",
        "    '50us660h0sd.bwz': 'commercial tv',\n",
        "    'tv 60\"': 'commercial tv',\n",
        "    'medical monitor': 'medical display',\n",
        "    'unitario':'single-split',\n",
        "    'cac': 'ventilation',\n",
        "    'vrf,chiller': 'vrf',\n",
        "    'single package': \"single-split\",\n",
        "    'điều hòa trung tâm multi': 'multi-split',\n",
        "    'ogrzewanie (pompy ciepła)': 'heating',\n",
        "    'soğutucu': 'heating',\n",
        "    'điều hòa gia dụng': 'rac',\n",
        "    'نظام التدفق المتغيرvrf': 'vrf',\n",
        "    'chiller/enfriadoras': 'chiller',\n",
        "    '49vl5g-m': 'digital signage',\n",
        "    'lg led bloc': 'led signage',\n",
        "    'uh': 'commercial tv',\n",
        "    '55vm5e-a': 'digital signage',\n",
        "    'laec15': 'led signage',\n",
        "    '55vm5j-h': 'digital signage',\n",
        "    '49vl5f': 'digital signage',\n",
        "    'standalone': 'others',\n",
        "    'corpouh5f': 'digital signage',\n",
        "    'ledallinone': 'led signage',\n",
        "    'monitorindustrial_rmk': 'monitor',\n",
        "    'lg magnit': 'led signage',\n",
        "    '特別顯示屏': 'digital signage',\n",
        "    'signage': 'others',\n",
        "    'videowall_rmk': 'digital signage',\n",
        "    'bu50nst': 'projector',\n",
        "    'comercial tv': 'commercial tv',\n",
        "    'corpuh5f-': 'others',\n",
        "    'allinone_rmk': 'monitor',\n",
        "    'hoteleria_us670h': 'commercial tv',\n",
        "    'retaildigital': 'digital signage',\n",
        "    '標準顯示屏': 'digital signage',\n",
        "    '互動式顯示屏': 'interactive signage',\n",
        "    '軟體': 'software',\n",
        "    '醫院電視': 'hospital tv',\n",
        "    'ctv': 'commercial tv',\n",
        "    'ac rumah': 'rac',\n",
        "    'climatiseur résidentiel': 'rac',\n",
        "    'aire acondicionado residencial': 'rac',\n",
        "    'aquecimento': 'heating',\n",
        "    'khác': 'others',\n",
        "    'lg salang air solution for dream homes' : 'rac',\n",
        "    'เครื่องปรับอากาศเผื่อที่อยู่อาศัย': 'rac',\n",
        "    'calefacción': 'heating',\n",
        "    'rac single cac': 'rac',\n",
        "    'vb.': 'others',\n",
        "    'services': 'software/service',\n",
        "    'autre': 'others',\n",
        "    'آخر': 'others',\n",
        "    'vrf,single-split':'vrf',\n",
        "    'vrf,multi-split,single-split,chiller,etc.':'vrf',\n",
        "    'multi-split,single-split':'vrf',\n",
        "    'vrf,multi-split,single-split':'vrf',\n",
        "    'vrf,multi-split,etc.':'vrf',\n",
        "    'vrf,multi-split,heating':'vrf',\n",
        "    'on or several reversible ac': 'rac',\n",
        "    'vrf,multi-split,single-split,chiller':'vrf',\n",
        "    'vrf,multi-split,single-split,heating':'vrf',\n",
        "    'vrf,single-split,chiller':'vrf',\n",
        "    'error': 'others',\n",
        "    'pantalla led outdoor': 'led signage',\n",
        "    'klimatyzacja multi-split': 'multi-split',\n",
        "    'not specified': 'others',\n",
        "    'single cac': 'ventilation',\n",
        "    'aio': 'monitor',\n",
        "    'kimatyzacja vrf': 'vrf',\n",
        "    '55svh7f-a': 'digital signage',\n",
        "    'tr3' : 'digital signage',\n",
        "    '98uh5e': 'digital signage',\n",
        "    'inne': 'others',\n",
        "    'điều hòa trung tâm vrf': 'vrf',\n",
        "    'vrf,heating':'vrf',\n",
        "    'smart tv': 'commercial tv',\n",
        "    'tv 55\"': 'commercial tv',\n",
        "    'surgical monitor': 'monitor',\n",
        "    'gsca046': 'led signage',\n",
        "    'gscd100': 'led signage',\n",
        "    '50uq801c0sb.bwz': 'commercial tv',\n",
        "    'procentric': 'commercial tv',\n",
        "    '32 pol': 'commercial tv',\n",
        "    'tv 43 pol': 'commercial tv',\n",
        "    '43 pol': 'commercial tv',\n",
        "    'multi v': 'ventilation',\n",
        "    'a definir': 'others',\n",
        "    'điều hòa trung tâm chiller': 'multi-split',\n",
        "    'điều hòa cục bộ': 'single-split',\n",
        "    'lsca039' : 'led signage',\n",
        "    'essential series': 'others',\n",
        "    'parts': 'others',\n",
        "    'multi-inverter': 'multi inverter',\n",
        "    'a thermodynamic water heater': 'heating',\n",
        "    'lg one:quick series': 'one:quick series',\n",
        "    'ur640s': 'commercial tv',\n",
        "    'outros': 'others',\n",
        "    'multi v 5 air': 'heating',\n",
        "    'ur640': 'commercial tv',\n",
        "    'smart tv signage': 'digital signage',\n",
        "    'medical displays': 'medical display',\n",
        "    'uhd signage': 'digital signage',\n",
        "    'digitial_signage': 'digital signage ',\n",
        "    'id': 'others',\n",
        "    'sales inquiry': 'others',\n",
        "    'multi v5 vrf': 'vrf',\n",
        "    'vrf,multi-split,single-split,chiller,heating': 'vrf',\n",
        "    'standard': 'standard signage',\n",
        "    'computer monitors': 'monitor',\n",
        "    'medical monitors': 'monitor',\n",
        "    'signage care solutions': 'signage care solution',\n",
        "    'split tunggal': 'single-split',\n",
        "    'interactive digital board': 'interactive signage'\n",
        "}\n",
        "\n",
        "\n",
        "def replace_pc(df):\n",
        "    replace_pc_words={\n",
        "        'etc.': 'others',\n",
        "        'other': 'others',\n",
        "        'noteboook': 'laptop',\n",
        "        'teto ou cassete inverter': 'ventilation',\n",
        "        'all lg vrf systems' : 'vrf',\n",
        "        'residential air conditioner': 'rac',\n",
        "        'חימום': 'heating',\n",
        "        'idb': 'interactive signage',\n",
        "        'video wall': 'video wall signage',\n",
        "        'lg one:quick': 'one:quick series',\n",
        "        'aio | one quick': 'one:quick series',\n",
        "        'high brightness': 'high brightness signage',\n",
        "        '43us660h0sd.awz': 'hotel tv',\n",
        "        'fhd series': 'commercial tv',\n",
        "        'led 顯示屏': 'led signage',\n",
        "        '酒店電視': 'hotel tv',\n",
        "        'one:quick flex': 'one:quick series',\n",
        "        'ultra stretch series': 'digital signage',\n",
        "        'tv signage': 'commercial tv',\n",
        "        'collaboration displays': 'digital signage',\n",
        "        'oled 顯示屏': 'oled signage',\n",
        "        'meeting & screen sharedirect view leddirect view led': 'led signage',\n",
        "        'window facing display': 'digital signage',\n",
        "        'lg customer care program': 'others',\n",
        "        'led': 'led signage',\n",
        "        'pendingin': 'heating',\n",
        "        'cmulti v 5 air': 'heating',\n",
        "        'ar condicionado residencial' : 'rac',\n",
        "        'مبرد (تشيلر)': 'heating',\n",
        "        'multi v water 5': 'heating',\n",
        "        'single split': 'single-split',\n",
        "        'ahu': 'ventilation',\n",
        "        'multi split': 'multi-split',\n",
        "        'lainnya': 'others',\n",
        "        'lg home bliss air solution': 'ventilation',\n",
        "        'lg paradise air solution': 'ventilation',\n",
        "        'isıtma': 'heating',\n",
        "        'تكييفات': 'multi-split',\n",
        "        'פיצול מרובה': 'multi-split',\n",
        "        'تكييف وتبريد': 'heating',\n",
        "        'אחר': 'others',\n",
        "        'vrf,multi-split': 'vrf',\n",
        "        'vrf,multi-split,chiller': 'vrf',\n",
        "        'vrf,multi-split,single-split,chiller,heatin': 'vrf',\n",
        "        '28mq780': 'monitor',\n",
        "        'computer monitor': 'monitor',\n",
        "        'monitor & pc': 'monitor',\n",
        "        'medical monitor': 'medical display',\n",
        "        'videwall': 'video wall signage',\n",
        "        'ultra stretch signage': 'digital signage',\n",
        "        'digital signage or commercial tvs': 'digital signage',\n",
        "        'onequick series': 'one:quick series',\n",
        "        'education createboard': 'digital signage',\n",
        "        'virtual production': 'others',\n",
        "        'laec015': 'led signage',\n",
        "        '55us660h0sd.bwz': 'commercial tv',\n",
        "        'transparent oled': 'oled signage',\n",
        "        'medical- surgical': 'medical display',\n",
        "        'radiology displays': 'medical display',\n",
        "        'high inch 86 / 98 or 110': 'digital signage',\n",
        "        'leadallin': 'led signage',\n",
        "        'ฯลฯ': 'others',\n",
        "        'taa lcd lfd displays': 'digital signage',\n",
        "        'rac/cac': 'rac',\n",
        "        'حلول التدفئة': 'heating',\n",
        "        'otros': 'others',\n",
        "        'sac': 'heating',\n",
        "        'laec015-gn.awz': 'led signage',\n",
        "        'gscd046' : 'led signage',\n",
        "        '32lq621cbsb.awz': 'commercial tv',\n",
        "        '43uh5f-h.awzm': 'commercial tv',\n",
        "        '49vl5g-m.awzm': 'commercial tv',\n",
        "        '55uq801c0sb.bwz': 'commercial tv',\n",
        "        'tv': 'commercial tv',\n",
        "        '43uq751c0sf.bwz': 'commercial tv',\n",
        "        '32 / 43 pol': 'commercial tv',\n",
        "        'htv': 'commercial tv',\n",
        "        '43uq751c0sb.bwz': 'commercial tv',\n",
        "        '49uh / 49xf': 'commercial tv',\n",
        "        '50us660h0sd.bwz': 'commercial tv',\n",
        "        'tv 60\"': 'commercial tv',\n",
        "        'medical monitor': 'medical display',\n",
        "        'unitario':'single-split',\n",
        "        'cac': 'ventilation',\n",
        "        'vrf,chiller': 'vrf',\n",
        "        'single package': \"single-split\",\n",
        "        'điều hòa trung tâm multi': 'multi-split',\n",
        "        'ogrzewanie (pompy ciepła)': 'heating',\n",
        "        'soğutucu': 'heating',\n",
        "        'điều hòa gia dụng': 'rac',\n",
        "        'نظام التدفق المتغيرvrf': 'vrf',\n",
        "        'chiller/enfriadoras': 'chiller',\n",
        "        '49vl5g-m': 'digital signage',\n",
        "        'lg led bloc': 'led signage',\n",
        "        'uh': 'commercial tv',\n",
        "        '55vm5e-a': 'digital signage',\n",
        "        'laec15': 'led signage',\n",
        "        '55vm5j-h': 'digital signage',\n",
        "        '49vl5f': 'digital signage',\n",
        "        'standalone': 'others',\n",
        "        'corpouh5f': 'digital signage',\n",
        "        'ledallinone': 'led signage',\n",
        "        'monitorindustrial_rmk': 'monitor',\n",
        "        'lg magnit': 'led signage',\n",
        "        '特別顯示屏': 'digital signage',\n",
        "        'signage': 'others',\n",
        "        'videowall_rmk': 'digital signage',\n",
        "        'bu50nst': 'projector',\n",
        "        'comercial tv': 'commercial tv',\n",
        "        'corpuh5f-': 'others',\n",
        "        'allinone_rmk': 'monitor',\n",
        "        'hoteleria_us670h': 'commercial tv',\n",
        "        'retaildigital': 'digital signage',\n",
        "        '標準顯示屏': 'digital signage',\n",
        "        '互動式顯示屏': 'interactive signage',\n",
        "        '軟體': 'software',\n",
        "        '醫院電視': 'hospital tv',\n",
        "        'ctv': 'commercial tv',\n",
        "        'ac rumah': 'rac',\n",
        "        'climatiseur résidentiel': 'rac',\n",
        "        'aire acondicionado residencial': 'rac',\n",
        "        'aquecimento': 'heating',\n",
        "        'khác': 'others',\n",
        "        'lg salang air solution for dream homes' : 'rac',\n",
        "        'เครื่องปรับอากาศเผื่อที่อยู่อาศัย': 'rac',\n",
        "        'calefacción': 'heating',\n",
        "        'rac single cac': 'rac',\n",
        "        'vb.': 'others',\n",
        "        'services': 'software/service',\n",
        "        'autre': 'others',\n",
        "        'آخر': 'others',\n",
        "        'vrf,single-split':'vrf',\n",
        "        'vrf,multi-split,single-split,chiller,etc.':'vrf',\n",
        "        'multi-split,single-split':'vrf',\n",
        "        'vrf,multi-split,single-split':'vrf',\n",
        "        'vrf,multi-split,etc.':'vrf',\n",
        "        'vrf,multi-split,heating':'vrf',\n",
        "        'on or several reversible ac': 'rac',\n",
        "        'vrf,multi-split,single-split,chiller':'vrf',\n",
        "        'vrf,multi-split,single-split,heating':'vrf',\n",
        "        'vrf,single-split,chiller':'vrf',\n",
        "        'error': 'others',\n",
        "        'pantalla led outdoor': 'led signage',\n",
        "        'klimatyzacja multi-split': 'multi-split',\n",
        "        'not specified': 'others',\n",
        "        'single cac': 'ventilation',\n",
        "        'aio': 'monitor',\n",
        "        'kimatyzacja vrf': 'vrf',\n",
        "        '55svh7f-a': 'digital signage',\n",
        "        'tr3' : 'digital signage',\n",
        "        '98uh5e': 'digital signage',\n",
        "        'inne': 'others',\n",
        "        'điều hòa trung tâm vrf': 'vrf',\n",
        "        'vrf,heating':'vrf',\n",
        "        'smart tv': 'commercial tv',\n",
        "        'tv 55\"': 'commercial tv',\n",
        "        'surgical monitor': 'monitor',\n",
        "        'gsca046': 'led signage',\n",
        "        'gscd100': 'led signage',\n",
        "        '50uq801c0sb.bwz': 'commercial tv',\n",
        "        'procentric': 'commercial tv',\n",
        "        '32 pol': 'commercial tv',\n",
        "        'tv 43 pol': 'commercial tv',\n",
        "        '43 pol': 'commercial tv',\n",
        "        'multi v': 'ventilation',\n",
        "        'a definir': 'others',\n",
        "        'điều hòa trung tâm chiller': 'multi-split',\n",
        "        'điều hòa cục bộ': 'single-split',\n",
        "        'lsca039' : 'led signage',\n",
        "        'essential series': 'others',\n",
        "        'parts': 'others',\n",
        "        'multi-inverter': 'multi inverter',\n",
        "        'a thermodynamic water heater': 'heating',\n",
        "        'lg one:quick series': 'one:quick series',\n",
        "        'ur640s': 'commercial tv',\n",
        "        'outros': 'others',\n",
        "        'multi v 5 air': 'heating',\n",
        "        'ur640': 'commercial tv',\n",
        "        'smart tv signage': 'digital signage',\n",
        "        'medical displays': 'medical display',\n",
        "        'uhd signage': 'digital signage',\n",
        "        'digitial_signage': 'digital signage ',\n",
        "        'id': 'others',\n",
        "        'sales inquiry': 'others',\n",
        "        'multi v5 vrf': 'vrf',\n",
        "        'vrf,multi-split,single-split,chiller,heating': 'vrf',\n",
        "        'standard': 'standard signage',\n",
        "        'computer monitors': 'monitor',\n",
        "        'medical monitors': 'monitor',\n",
        "        'signage care solutions': 'signage care solution',\n",
        "        'split tunggal': 'single-split',\n",
        "        'interactive digital board': 'interactive signage'\n",
        "    }\n",
        "    df['product_category'] = df['product_category'].replace(replace_pc_words)\n",
        "    return df"
      ]
    },
    {
      "cell_type": "code",
      "execution_count": null,
      "id": "1680bd05",
      "metadata": {
        "id": "1680bd05"
      },
      "outputs": [],
      "source": [
        "# sub_category랑 modelname 결측치 채우기\n",
        "\n",
        "# subcategory가 비어 있고, product category의 내용이 수정된 단어들에 속하지 않으면 subcategory에 product category를 담는다.\n",
        "df_train['product_subcategory'] = df_train.apply(lambda row: row['product_category']\n",
        "                                                 if pd.isnull(row['product_subcategory']) and row['product_category'] not in replace_pc_words.values() else row['product_subcategory'], axis=1)\n",
        "\n",
        "df_train['product_modelname'] = df_train.apply(lambda row: row['product_subcategory']\n",
        "                                               if pd.isnull(row['product_modelname'])\n",
        "                                               else row['product_modelname'], axis=1)\n",
        "\n",
        "df_test['product_subcategory'] = df_test.apply(lambda row: row['product_category']\n",
        "                                               if pd.isnull(row['product_subcategory'])\n",
        "                                               and row['product_category'] not in replace_pc_words.values()\n",
        "                                               else row['product_subcategory'], axis=1)\n",
        "\n",
        "df_test['product_modelname'] = df_test.apply(lambda row: row['product_subcategory']\n",
        "                                               if pd.isnull(row['product_modelname'])\n",
        "                                               else row['product_modelname'], axis=1)\n",
        "\n",
        "df_train = replace_pc(df_train)\n",
        "df_test = replace_pc(df_test)\n",
        "\n",
        "\n",
        "'''\n",
        "df_train['product_subcategory'] = df_train.apply(lambda row: row['product_category']\n",
        "                                                 if pd.isnull(row['product_subcategory'])\n",
        "                                                 else row['product_subcategory'], axis=1)\n",
        "\n",
        "df_test['product_subcategory'] = df_test.apply(lambda row: row['product_category']\n",
        "                                               if pd.isnull(row['product_subcategory'])\n",
        "                                               else row['product_subcategory'], axis=1)\n",
        "'''"
      ]
    },
    {
      "cell_type": "code",
      "execution_count": null,
      "id": "c00ec2fd",
      "metadata": {
        "id": "c00ec2fd"
      },
      "outputs": [],
      "source": [
        "def cat_pc(x):\n",
        "    if x in ['vrf', 'single-split', 'chiller', 'heating', 'multi-split',\n",
        "             'rac']:\n",
        "        return 'heating'\n",
        "    elif x in ['ventilation']:\n",
        "        return 'ventilation'\n",
        "    elif x in ['control']:\n",
        "        return 'control'\n",
        "    elif x in ['interactive signage', 'video wall signage', 'standard signage',\n",
        "               'high brightness signage',\n",
        "               'one:quick series', 'digital signage', 'ledsignage', 'oled signage']:\n",
        "        return 'digital_signage'\n",
        "    elif x in ['hotel tv', 'hospital tv', 'special signage', 'accessories',\n",
        "               'pro:centric', 'commercial tv']:\n",
        "        return 'commercial_tv' ## digital_signage에 속하긴 함.\n",
        "    elif x in ['monitior', 'medicla_displays']:\n",
        "        return 'monitors'\n",
        "    elif x in ['laptop', 'notebook']:\n",
        "        return 'laptops'\n",
        "    elif x in ['webos', 'software solution', 'signage care solution', 'software',\n",
        "               'technical support ', 'cloud_service' ]:\n",
        "        return 'software/service'\n",
        "    elif x in ['projector']:\n",
        "        return 'projectors'\n",
        "    elif x in ['ess']:\n",
        "        return 'ess'\n",
        "\n",
        "df_train['product_large_category']=df_train['product_category'].apply(cat_pc)\n",
        "df_test['product_large_category']=df_test['product_category'].apply(cat_pc)"
      ]
    },
    {
      "cell_type": "code",
      "execution_count": null,
      "id": "4fa0dff4",
      "metadata": {
        "id": "4fa0dff4"
      },
      "outputs": [],
      "source": [
        "def modify_variables(dataframe):\n",
        "    # 모든 변수를 소문자로 변환\n",
        "    dataframe['inquiry_type'] = dataframe['inquiry_type'].str.lower()\n",
        "    replace_inqury_words={\n",
        "        'other': 'others',\n",
        "        'other_': 'others',\n",
        "        'etc.': 'others',\n",
        "        'not specified': 'others',\n",
        "        'quotation_or_purchase_consultation': 'quotation or purchase consultation',\n",
        "        'quotation_': 'quotation or purchase consultation',\n",
        "        'usage_or_technical_consultation': 'usage or technical consultation',\n",
        "        'technical_consultation': 'technical consultation',\n",
        "        'sales inquiry' : 'others'\n",
        "    }\n",
        "\n",
        "    # 'inquiry_type' 열의 상위 5개 값을 추출\n",
        "    top_5_values = dataframe['inquiry_type'].value_counts().head(5).index.tolist()\n",
        "\n",
        "    # 'inquiry_type' 열의 값이 상위 5개에 속하는 경우는 그대로 두고, 아닌 경우 'others'로 변경\n",
        "    dataframe['inquiry_type'] = dataframe['inquiry_type'].replace(replace_inqury_words)\n",
        "    dataframe['inquiry_type'] = dataframe['inquiry_type'].apply(lambda x: x if x in top_5_values and pd.notnull(x) else 'others')\n",
        "\n",
        "    return dataframe\n",
        "\n",
        "df_train = modify_variables(df_train)\n",
        "df_test = modify_variables(df_test)"
      ]
    },
    {
      "cell_type": "code",
      "execution_count": null,
      "id": "0a7496f6",
      "metadata": {
        "id": "0a7496f6"
      },
      "outputs": [],
      "source": [
        "nogada_dict = {584: 'less than 3 months',\n",
        " 886: 'less than 3 months',\n",
        " 1872: 'less than 3 months',\n",
        " 1876: 'less than 3 months',\n",
        " 1935: '3 months ~ 6 months',\n",
        " 2084: 'less than 3 months',\n",
        " 2168: 'less than 3 months',\n",
        " 2169: 'less than 3 months',\n",
        " 2280: 'less than 3 months',\n",
        " 2281: 'less than 3 months',\n",
        " 2283: 'less than 3 months',\n",
        " 2323: 'less than 3 months',\n",
        " 2402: 'less than 3 months',\n",
        " 2421: 'less than 3 months',\n",
        " 2430: 'less than 3 months',\n",
        " 2445: 'less than 3 months',\n",
        " 3628: 'less than 3 months',\n",
        " 4238: 'less than 3 months',\n",
        " 4637: 'less than 3 months',\n",
        " 4702: 'less than 3 months',\n",
        " 4706: '3 months ~ 6 months',\n",
        " 6635: 'less than 3 months',\n",
        " 9899: 'less than 3 months',\n",
        " 22792: 'less than 3 months',\n",
        " 23159: 'less than 3 months',\n",
        " 23233: 'less than 3 months',\n",
        " 23256: 'less than 3 months',\n",
        " 23358: 'less than 3 months',\n",
        " 23918: 'less than 3 months',\n",
        " 25093: 'more than a year',\n",
        " 25642: 'less than 3 months',\n",
        " 27032: 'less than 3 months',\n",
        " 27415: '3 months ~ 6 months',\n",
        " 28521: 'less than 3 months',\n",
        " 28599: 'less than 3 months',\n",
        " 29116: 'less than 3 months',\n",
        " 32239: '3 months ~ 6 months',\n",
        " 33141: 'less than 3 months',\n",
        " 35582: 'more than a year'}\n",
        "df_original = pd.DataFrame(df_train['expected_timeline'])\n",
        "\n",
        "# 괜찮은건 일단 빼놓자 보기 편하게\n",
        "conditions = ['less than 3 months', '3 months ~ 6 months', 'more than a year',\n",
        "              '9 months ~ 1 year', '6 months ~ 9 months']\n",
        "df = df_original[~df_original.isin(conditions)]\n",
        "df.dropna(inplace = True)\n",
        "# merge하기 위한 new_index\n",
        "df['new_index'] = df.index\n",
        "df = df.reset_index(drop=True)\n",
        "\n",
        "\n",
        "\n",
        "def categorize_timeline_refined(description):\n",
        "    description = description.lower()\n",
        "\n",
        "    # Explicit matches and interpretations based on train.csv insights\n",
        "    if 'less than 3 months' in description or 'less_than_3_months' in description:\n",
        "        return 'less than 3 months'\n",
        "    elif any(x in description for x in ['3 months ~ 6 months', '3_months_~_6_months']):\n",
        "        return '3 months ~ 6 months'\n",
        "    elif any(x in description for x in ['less then 6 months','less than 6 months']):\n",
        "        return '3 months ~ 6 months'\n",
        "    elif 'more than a year' in description or 'more then 3 months' in description:\n",
        "        return 'more than a year'\n",
        "    elif any(x in description for x in ['9 months - 1 year', '9_months_~_1_year']):\n",
        "        return '9 months ~ 1 year'\n",
        "    elif 'etc.' in description or 'being followed up' in description:\n",
        "        return 'Uncategorized'\n",
        "    elif any(keyword in description for keyword in ['less than 3 months', 'less_than_3_months', '< 3 months', 'short term', 'immediate']):\n",
        "        return 'less than 3 months'\n",
        "    elif any(keyword in description for keyword in ['3 months ~ 6 months', '3 to 6 months', '3-6 months', 'quarterly']):\n",
        "        return '3 months ~ 6 months'\n",
        "    elif any(keyword in description for keyword in ['more than a year', '> 1 year', 'long term','more_than_a_year']):\n",
        "        return 'more than a year'\n",
        "    elif any(keyword in description for keyword in ['9 months ~ 1 year', '9-12 months', '9 to 12 months']):\n",
        "        return '9 months ~ 1 year'\n",
        "    elif any(keyword in description for keyword in ['6 months ~ 9 months', '6-9 months', '6 to 9 months','6_months_~_9_months']):\n",
        "        return '6 months ~ 9 months'\n",
        "    return 'Uncategorized'\n",
        "\n",
        "# Re-apply the refined categorization function to the dfset\n",
        "df['category_refined'] = df['expected_timeline'].apply(categorize_timeline_refined)\n",
        "\n",
        "df = df[['new_index','expected_timeline'   ,'category_refined'   ]]\n",
        "#df_original = df_original.apply(categorize_timeline_refined)\n",
        "df_original['new_index'] = df_original.index\n",
        "df_original = df_original.reset_index(drop=True)\n",
        "\n",
        "\n",
        "\n",
        "# df와 df_original을 'new_index'를 기준으로 병합\n",
        "# how='left'를 사용하여 df_original의 모든 행을 유지하고 해당하는 행에만 category_refined 값을 채웁니다.\n",
        "df_merged = pd.merge(df_original, df[['new_index', 'category_refined']], on='new_index', how='left')\n",
        "# category_refined의 NaN 값을 expected_timeline의 값으로 채움\n",
        "df_merged['category_refined'] = df_merged['category_refined'].fillna(df_merged['expected_timeline'])\n",
        "\n",
        "\n",
        "\n",
        "df_merged['category_refined'] = df_merged['new_index'].map(nogada_dict).fillna(df_merged['category_refined'])\n",
        "df_train['expected_timeline'] = df_merged['category_refined']"
      ]
    },
    {
      "cell_type": "markdown",
      "id": "acb16590",
      "metadata": {
        "id": "acb16590"
      },
      "source": [
        "### 2.1.4 명목형 피처들 test에 없는 이상 값들 제거"
      ]
    },
    {
      "cell_type": "code",
      "execution_count": null,
      "id": "e924892f",
      "metadata": {
        "id": "e924892f"
      },
      "outputs": [],
      "source": [
        "refin_col_list=[\n",
        "                     'business_unit',\n",
        "                     'customer_type',\n",
        "                     'enterprise',\n",
        "                     'customer_job',\n",
        "                     'inquiry_type', # inquiry type에 8,000개정도 차지하는게 test에 좆도 없음 -> Drop\n",
        "                     'customer_position',\n",
        "                     'expected_timeline',\n",
        "                     'business_area',\n",
        "                     'bn_submit',\n",
        "                     'product_large_category',\n",
        "]\n",
        "\n",
        "for col in refin_col_list:\n",
        "    # df_train의 값이 df_test에 없는 행을 삭제하는 코드\n",
        "    df_train = df_train[df_train[col].isin(df_test[col])]"
      ]
    },
    {
      "cell_type": "markdown",
      "id": "6de5343c",
      "metadata": {
        "id": "6de5343c"
      },
      "source": [
        "정제 후 크기"
      ]
    },
    {
      "cell_type": "code",
      "execution_count": null,
      "id": "f2f99b4d",
      "metadata": {
        "id": "f2f99b4d"
      },
      "outputs": [],
      "source": [
        "## 정제 후\n",
        "print(df_train.shape, df_test.shape)"
      ]
    },
    {
      "cell_type": "markdown",
      "id": "6b0e41bf",
      "metadata": {
        "id": "6b0e41bf"
      },
      "source": [
        "## 2.2 데이터 전처리 - 파생변수"
      ]
    },
    {
      "cell_type": "code",
      "execution_count": null,
      "id": "11ddf13d",
      "metadata": {
        "id": "11ddf13d"
      },
      "outputs": [],
      "source": [
        "def crvwr(x):\n",
        "    if pd.isnull(x):\n",
        "        return 1\n",
        "    else :\n",
        "        0\n",
        "\n",
        "df_train['com_reg_ver_win_rate_null']=df_train['com_reg_ver_win_rate'].apply(crvwr)\n",
        "df_test['com_reg_ver_win_rate_null']=df_test['com_reg_ver_win_rate'].apply(crvwr)"
      ]
    },
    {
      "cell_type": "markdown",
      "id": "7c5edcfa",
      "metadata": {
        "id": "7c5edcfa"
      },
      "source": [
        "### 2.2.1 id = 47466이 가장 많이 나와서 이진 분류"
      ]
    },
    {
      "cell_type": "code",
      "execution_count": null,
      "id": "63cde974",
      "metadata": {
        "id": "63cde974"
      },
      "outputs": [],
      "source": [
        "def change_value(x):\n",
        "    if x == 47466:\n",
        "        return 1\n",
        "    else:\n",
        "        return 0\n",
        "\n",
        "df_train['customer_idx_is47466'] = df_train['customer_idx'].apply(change_value)\n",
        "df_test['customer_idx_is47466'] = df_test['customer_idx'].apply(change_value)"
      ]
    },
    {
      "cell_type": "markdown",
      "id": "0c15e60d",
      "metadata": {
        "id": "0c15e60d"
      },
      "source": [
        "\n",
        "### 2.2.2 문의를 한 횟수, 문의하면서 converted 한 횟수, converted한 비율을 회사별로 계산\n",
        "\n",
        "\n",
        "\n",
        "\n"
      ]
    },
    {
      "cell_type": "code",
      "execution_count": null,
      "id": "2a39db10",
      "metadata": {
        "id": "2a39db10"
      },
      "outputs": [],
      "source": [
        "df_cus = df_train.groupby(\"customer_idx\")[\"is_converted\"].count().reset_index() # 회사가 몇 번을 의뢰했는가?\n",
        "\n",
        "df_real_cus = df_train.groupby(\"customer_idx\")[\"is_converted\"].sum().reset_index() # 회사가 몇 번을 영업전환 했는가?\n",
        "\n",
        "# == 회사 id를 기준으로 merge한다 ==\n",
        "df_cus_ratio = pd.merge(df_cus, df_real_cus, on=\"customer_idx\")\n",
        "df_cus_ratio[\"cus_ratio\"] = df_cus_ratio[\"is_converted_y\"] / df_cus_ratio[\"is_converted_x\"] # is_converted가 2개의 변수로 인해서 x,y로 생성되었다고한다. (위가 x, 아래가 y)\n",
        "df_cus_ratio = df_cus_ratio.rename(columns={\"is_converted_x\": \"cus_query_cnt\", \"is_converted_y\" : \"cus_converted_cnt\"}) # query_cnt가 몇 번을 의뢰, converted_cnt가 몇 번을 영업전환\n",
        "df_cus_ratio = df_cus_ratio.drop('cus_converted_cnt', axis = 1) # 석우가 예시 들어줌\n",
        "df_cus_ratio = df_cus_ratio[df_cus_ratio[\"cus_query_cnt\"] >= 3] # 6323/33762 = 0.1873(2회) ,        전체에서 10%정도가 3회 이상이다.\n",
        "df_cus_ratio = df_cus_ratio[['customer_idx', 'cus_ratio']]\n",
        "\n",
        "\n",
        "df_train = pd.merge(df_train, df_cus_ratio, on='customer_idx', how=\"left\")\n",
        "df_test = pd.merge(df_test, df_cus_ratio, on='customer_idx', how=\"left\")"
      ]
    },
    {
      "cell_type": "markdown",
      "id": "56bdf22e",
      "metadata": {
        "id": "56bdf22e"
      },
      "source": [
        "### 2.2.3 문의를 한 횟수, 문의하면서 converted 한 횟수, converted한 비율을 담당자별로 계산"
      ]
    },
    {
      "cell_type": "code",
      "execution_count": null,
      "id": "717f9975",
      "metadata": {
        "id": "717f9975"
      },
      "outputs": [],
      "source": [
        "df_lo = df_train.groupby(\"lead_owner\")[\"is_converted\"].count().reset_index()\n",
        "df_real_lo = df_train.groupby(\"lead_owner\")[\"is_converted\"].sum().reset_index()\n",
        "\n",
        "df_lead_ratio = pd.merge(df_lo, df_real_lo, on=\"lead_owner\")\n",
        "df_lead_ratio[\"lead_ratio\"] = df_lead_ratio[\"is_converted_y\"] / df_lead_ratio[\"is_converted_x\"]\n",
        "df_lead_ratio = df_lead_ratio.rename(columns={\"is_converted_x\": \"lead_query_cnt\", \"is_converted_y\" : \"lead_converted_cnt\"})\n",
        "df_lead_ratio = df_lead_ratio.drop('lead_converted_cnt', axis=1)\n",
        "df_lead_ratio=df_lead_ratio[df_lead_ratio[\"lead_query_cnt\"]>=10] # 생각보다 lead owner는 cnt가 많음\n",
        "df_lead_ratio = df_lead_ratio[['lead_owner', 'lead_ratio']]\n",
        "\n",
        "\n",
        "\n",
        "df_train = pd.merge(df_train, df_lead_ratio, on='lead_owner', how=\"left\")\n",
        "df_test = pd.merge(df_test, df_lead_ratio, on='lead_owner', how=\"left\")"
      ]
    },
    {
      "cell_type": "markdown",
      "id": "a8b7271f",
      "metadata": {
        "id": "a8b7271f"
      },
      "source": [
        "### 2.2.4 문의를 한 횟수, 문의하면서 converted 한 횟수, converted한 비율을 담당 부서별로 계산"
      ]
    },
    {
      "cell_type": "code",
      "execution_count": null,
      "id": "eb67fa51",
      "metadata": {
        "id": "eb67fa51"
      },
      "outputs": [],
      "source": [
        "df_rc = df_train.groupby(\"response_corporate\")[\"is_converted\"].count().reset_index()\n",
        "df_real_rc = df_train.groupby(\"response_corporate\")[\"is_converted\"].sum().reset_index()\n",
        "df = pd.merge(df_rc, df_real_rc, on=\"response_corporate\")\n",
        "df[\"rc_ratio\"] = df[\"is_converted_y\"] / df[\"is_converted_x\"]\n",
        "df = df[['response_corporate', 'rc_ratio']]\n",
        "df_train = pd.merge(df_train, df, on='response_corporate', how=\"left\")\n",
        "df_test = pd.merge(df_test, df, on='response_corporate', how=\"left\")"
      ]
    },
    {
      "cell_type": "markdown",
      "id": "f4c9de0e",
      "metadata": {
        "id": "f4c9de0e"
      },
      "source": [
        "### 2.2.5 length_ratio: lead_desc_length에 min max scaler 적용하고 bant_submit을 곱해 '정보를 제공한 비율'에 해당하는 컬럼 만듦"
      ]
    },
    {
      "cell_type": "code",
      "execution_count": null,
      "id": "30922c43",
      "metadata": {
        "id": "30922c43"
      },
      "outputs": [],
      "source": [
        "scaler = MinMaxScaler()\n",
        "\n",
        "df_train['lead_desc_length'] = scaler.fit_transform(df_train[['lead_desc_length']])\n",
        "df_train['lead_desc_length'] = scaler.fit_transform(df_train[['lead_desc_length']])\n",
        "\n",
        "df_train['length_ratio'] = df_train['bant_submit']*df_train['lead_desc_length']\n",
        "df_test['length_ratio'] = df_test['bant_submit']*df_test['lead_desc_length']"
      ]
    },
    {
      "cell_type": "markdown",
      "id": "fb3aae99",
      "metadata": {
        "id": "fb3aae99"
      },
      "source": [
        "### 2.2.6 문의를 한 횟수, 문의하면서 converted 한 횟수, converted한 비율을 product_category별로 계산"
      ]
    },
    {
      "cell_type": "code",
      "execution_count": null,
      "id": "33124597",
      "metadata": {
        "id": "33124597"
      },
      "outputs": [],
      "source": [
        "df_pc = df_train.groupby(\"product_category\")[\"is_converted\"].count().reset_index()\n",
        "df_real_pc = df_train.groupby(\"product_category\")[\"is_converted\"].sum().reset_index()\n",
        "df = pd.merge(df_pc, df_real_pc, on=\"product_category\")\n",
        "df[\"pc_ratio\"] = df[\"is_converted_y\"] / df[\"is_converted_x\"]\n",
        "df = df[['product_category','pc_ratio']]\n",
        "df_train = pd.merge(df_train, df, on='product_category', how=\"left\")\n",
        "df_test = pd.merge(df_test, df, on='product_category', how=\"left\")"
      ]
    },
    {
      "cell_type": "code",
      "execution_count": null,
      "id": "633ba5fc",
      "metadata": {
        "id": "633ba5fc"
      },
      "outputs": [],
      "source": [
        "df_all = pd.concat([df_train, df_test])\n",
        "\n",
        "df_cus = df_all.groupby(\"customer_idx\")[\"is_converted\"].count().reset_index()\n",
        "df_lead = df_all.groupby(\"lead_owner\")[\"is_converted\"].count().reset_index()\n",
        "df_rc = df_all.groupby(\"response_corporate\")[\"is_converted\"].count().reset_index()\n",
        "df_pc = df_all.groupby(\"product_category\")[\"is_converted\"].count().reset_index()\n",
        "\n",
        "df_cus = df_cus.rename(columns={\"is_converted\": \"cus_query_cnt\"})\n",
        "df_lead = df_lead.rename(columns={\"is_converted\": \"lead_query_cnt\"})\n",
        "df_rc = df_rc.rename(columns={\"is_converted\": \"rc_query_cnt\"})\n",
        "df_pc = df_pc.rename(columns={\"is_converted\": \"pc_query_cnt\"})\n",
        "\n",
        "df_all = pd.merge(df_all, df_cus, on='customer_idx', how=\"left\")\n",
        "df_all = pd.merge(df_all, df_lead, on='lead_owner', how=\"left\")\n",
        "df_all = pd.merge(df_all, df_rc, on='response_corporate', how=\"left\")\n",
        "df_all = pd.merge(df_all, df_pc, on='product_category', how=\"left\")\n",
        "\n",
        "df_train = df_all.iloc[: len(df_train)]\n",
        "df_test = df_all.iloc[len(df_train) :]\n",
        "df_train = df_train.drop('id', axis=1)"
      ]
    },
    {
      "cell_type": "markdown",
      "id": "00a944c6",
      "metadata": {
        "id": "00a944c6"
      },
      "source": [
        "### 2.2.7 historical_existing_ratio: historical_existing_cnt를 cus_query_cnt로 나눠 정규화"
      ]
    },
    {
      "cell_type": "code",
      "execution_count": null,
      "id": "d41a3d07",
      "metadata": {
        "id": "d41a3d07"
      },
      "outputs": [],
      "source": [
        "df_train['historical_existing_ratio'] = df_train['historical_existing_cnt'] / df_train['cus_query_cnt']\n",
        "df_test['historical_existing_ratio'] = df_test['historical_existing_cnt'] / df_test['cus_query_cnt']"
      ]
    },
    {
      "cell_type": "markdown",
      "id": "b816dfac",
      "metadata": {
        "id": "b816dfac"
      },
      "source": [
        "파생 변수 추가 후 크기"
      ]
    },
    {
      "cell_type": "code",
      "execution_count": null,
      "id": "6eb008a2",
      "metadata": {
        "id": "6eb008a2"
      },
      "outputs": [],
      "source": [
        "## 파생변수 추가 후\n",
        "print(df_train.shape, df_test.shape)"
      ]
    },
    {
      "cell_type": "markdown",
      "id": "9a676ba3",
      "metadata": {
        "id": "9a676ba3"
      },
      "source": [
        "## 2.3 컬럼 드랍"
      ]
    },
    {
      "cell_type": "code",
      "execution_count": null,
      "id": "4d4377e9",
      "metadata": {
        "id": "4d4377e9"
      },
      "outputs": [],
      "source": [
        "drop_columns=[\n",
        "        'bant_submit',\n",
        "        # 'customer_country',\n",
        "        # 'business_unit',\n",
        "        # 'com_reg_ver_win_rate',\n",
        "        # 'customer_idx',\n",
        "        # 'customer_type',\n",
        "        # 'enterprise',\n",
        "        'historical_existing_cnt',\n",
        "        'product_category',\n",
        "        'product_subcategory',\n",
        "        'product_modelname',\n",
        "        # == idit가 id,it 포함 ==\n",
        "        'id_strategic_ver',\n",
        "        'it_strategic_ver',\n",
        "        # 'idit_strategic_ver',\n",
        "\n",
        "        # 'customer_job',\n",
        "        'lead_desc_length',\n",
        "        # 'inquiry_type',\n",
        "        'customer_country.1',\n",
        "        # 'customer_position',\n",
        "        # 'response_corporate',\n",
        "        # 'expected_timeline',\n",
        "        'ver_cus', # vertical에 대한 명확한 근거 x\n",
        "        # 'ver_pro',\n",
        "        # 'ver_win_rate_x',\n",
        "        # 'ver_win_ratio_per_bu',\n",
        "        # 'business_area',\n",
        "        'business_subarea',\n",
        "        # 'lead_owner',\n",
        "        # 'is_converted',\n",
        "        # 'cus_query_cnt',\n",
        "        # 'cus_converted_cnt',\n",
        "        # 'cus_ratio',\n",
        "        # 'lead_query_cnt',\n",
        "        # 'lead_converted_cnt',\n",
        "        # 'lead_ratio',\n",
        "        # 'rc_query_cnt',\n",
        "        # 'rc_converted_cnt',\n",
        "        # 'rc_ratio',\n",
        "        # 'historical_existing_ratio',\n",
        "        # 'length_ratio'\n",
        "        ]\n",
        "\n",
        "df_all = pd.concat([df_train, df_test])\n",
        "for column in drop_columns:\n",
        "    df_all.drop(columns=column, inplace=True)\n",
        "\n",
        "df_train = df_all.iloc[: len(df_train)]\n",
        "df_test = df_all.iloc[len(df_train) :]"
      ]
    },
    {
      "cell_type": "code",
      "execution_count": null,
      "id": "5e689518",
      "metadata": {
        "id": "5e689518"
      },
      "outputs": [],
      "source": [
        "df_train.columns"
      ]
    },
    {
      "cell_type": "markdown",
      "id": "d625a0e6",
      "metadata": {
        "id": "d625a0e6"
      },
      "source": [
        "드랍 후 크기"
      ]
    },
    {
      "cell_type": "code",
      "execution_count": null,
      "id": "23c2d290",
      "metadata": {
        "id": "23c2d290"
      },
      "outputs": [],
      "source": [
        "## 컬럼 드랍 후\n",
        "print(df_train.shape, df_test.shape)"
      ]
    },
    {
      "cell_type": "markdown",
      "id": "f69520d9",
      "metadata": {
        "id": "f69520d9"
      },
      "source": [
        "## 2.4 결측치 채우기"
      ]
    },
    {
      "cell_type": "code",
      "execution_count": null,
      "id": "88cd43cf",
      "metadata": {
        "id": "88cd43cf"
      },
      "outputs": [],
      "source": [
        "df_train = df_train.fillna(-1)\n",
        "df_test = df_test.fillna(-1)"
      ]
    },
    {
      "cell_type": "code",
      "execution_count": null,
      "id": "2d56c656",
      "metadata": {
        "id": "2d56c656"
      },
      "outputs": [],
      "source": [
        "df_train.isnull().sum()"
      ]
    },
    {
      "cell_type": "markdown",
      "id": "8e5d2e24",
      "metadata": {
        "id": "8e5d2e24"
      },
      "source": [
        "## 2.5 데이터 분리"
      ]
    },
    {
      "cell_type": "markdown",
      "id": "3a477f93",
      "metadata": {
        "id": "3a477f93"
      },
      "source": [
        "### 다시 학습 데이터와 제출 데이터를 분리"
      ]
    },
    {
      "cell_type": "code",
      "execution_count": null,
      "id": "ff10c5fb",
      "metadata": {
        "id": "ff10c5fb"
      },
      "outputs": [],
      "source": [
        "df_train = df_all.iloc[: len(df_train)]\n",
        "df_test = df_all.iloc[len(df_train) :]"
      ]
    },
    {
      "cell_type": "code",
      "execution_count": null,
      "id": "7d0e08e6",
      "metadata": {
        "id": "7d0e08e6"
      },
      "outputs": [],
      "source": [
        "df_train = df_train.drop('id', axis=1)"
      ]
    },
    {
      "cell_type": "code",
      "source": [
        "df_train.info()"
      ],
      "metadata": {
        "id": "BBUj28WG3rFn"
      },
      "id": "BBUj28WG3rFn",
      "execution_count": null,
      "outputs": []
    },
    {
      "cell_type": "code",
      "execution_count": null,
      "id": "d9f50ec7",
      "metadata": {
        "id": "d9f50ec7"
      },
      "outputs": [],
      "source": [
        "# == 나눠서 test하기(Predict) ==\n",
        "df_test1 = df_test[\n",
        "    (df_test['customer_idx'].isin(df_cus_ratio['customer_idx'])) &\n",
        "    (df_test['lead_owner'].isin(df_lead_ratio['lead_owner']))\n",
        "]\n",
        "\n",
        "df_test2 = df_test[\n",
        "    (~df_test['customer_idx'].isin(df_cus_ratio['customer_idx'])) &\n",
        "    (df_test['lead_owner'].isin(df_lead_ratio['lead_owner']))\n",
        "]\n",
        "\n",
        "df_test3 = df_test[\n",
        "    (df_test['customer_idx'].isin(df_cus_ratio['customer_idx'])) &\n",
        "    (~df_test['lead_owner'].isin(df_lead_ratio['lead_owner']))\n",
        "]\n",
        "\n",
        "df_test4 = df_test[\n",
        "    (~df_test['customer_idx'].isin(df_cus_ratio['customer_idx'])) &\n",
        "    (~df_test['lead_owner'].isin(df_lead_ratio['lead_owner']))\n",
        "]\n"
      ]
    },
    {
      "cell_type": "code",
      "execution_count": null,
      "id": "191d2065",
      "metadata": {
        "id": "191d2065"
      },
      "outputs": [],
      "source": [
        "X_train= df_train.drop(\"is_converted\", axis=1)\n",
        "y_train= df_train[\"is_converted\"].astype('bool')\n",
        "X_test = df_test.drop([\"is_converted\", \"id\"], axis=1)\n",
        "\n",
        "X_test1 = df_test1.drop([\"is_converted\", \"id\"], axis=1)\n",
        "X_test2 = df_test2.drop([\"is_converted\", \"id\", 'customer_idx_is47466', 'customer_idx', 'cus_query_cnt', 'cus_ratio'], axis=1)\n",
        "X_test3 = df_test3.drop([\"is_converted\", \"id\", 'lead_owner', 'lead_query_cnt', 'lead_ratio'], axis=1)\n",
        "X_test4 = df_test4.drop([\"is_converted\", \"id\", 'customer_idx_is47466', 'customer_idx','lead_owner', 'cus_query_cnt', 'cus_ratio', 'lead_query_cnt','lead_ratio'], axis=1)"
      ]
    },
    {
      "cell_type": "code",
      "execution_count": null,
      "id": "581b7c95",
      "metadata": {
        "id": "581b7c95"
      },
      "outputs": [],
      "source": [
        "X_train.reset_index(drop=True, inplace=True)\n",
        "y_train.reset_index(drop=True, inplace=True)"
      ]
    },
    {
      "cell_type": "code",
      "execution_count": null,
      "id": "78daff00",
      "metadata": {
        "id": "78daff00"
      },
      "outputs": [],
      "source": [
        "# customer_idx, lead_owner, bn_submit\n",
        "\n",
        "X_train1= X_train # 이건 다 넣어야함\n",
        "\n",
        "# X_train2 object:  lead_owner, bn_submit\n",
        "X_train2= X_train.drop(['customer_idx', 'customer_idx_is47466', 'cus_query_cnt', 'cus_ratio'], axis=1)\n",
        "\n",
        "# X_train3 object: customer_idx, bn_submit\n",
        "X_train3= X_train.drop(['lead_owner', 'lead_query_cnt', 'lead_query_cnt', 'lead_ratio'], axis=1)\n",
        "\n",
        "# X_train4 object: bn_submit\n",
        "X_train4= X_train.drop(['customer_idx', 'customer_idx_is47466','lead_owner', 'cus_query_cnt', 'cus_ratio', 'lead_query_cnt', 'lead_ratio'], axis=1)"
      ]
    },
    {
      "cell_type": "code",
      "execution_count": null,
      "id": "b0c109b0",
      "metadata": {
        "id": "b0c109b0"
      },
      "outputs": [],
      "source": [
        "X_train.isnull().sum().sum()"
      ]
    },
    {
      "cell_type": "code",
      "execution_count": null,
      "id": "9a54e4ce",
      "metadata": {
        "id": "9a54e4ce"
      },
      "outputs": [],
      "source": [
        "y_train.value_counts()"
      ]
    },
    {
      "cell_type": "code",
      "execution_count": null,
      "id": "5e50b854",
      "metadata": {
        "id": "5e50b854"
      },
      "outputs": [],
      "source": [
        "print(\"X_test1.shape\", X_test1.shape)\n",
        "print(\"X_test2.shape\", X_test2.shape)\n",
        "print(\"X_test3.shape\", X_test3.shape)\n",
        "print(\"X_test4.shape\", X_test4.shape)"
      ]
    },
    {
      "cell_type": "markdown",
      "source": [
        "## Feature Selection"
      ],
      "metadata": {
        "id": "3Y1BVjaoiIp3"
      },
      "id": "3Y1BVjaoiIp3"
    },
    {
      "cell_type": "markdown",
      "source": [
        "### 레이블 인코딩"
      ],
      "metadata": {
        "id": "8JVpKPcqjIHk"
      },
      "id": "8JVpKPcqjIHk"
    },
    {
      "cell_type": "code",
      "execution_count": null,
      "id": "0b42b1a1",
      "metadata": {
        "id": "0b42b1a1"
      },
      "outputs": [],
      "source": [
        "def label_encoding(series: pd.Series) -> pd.Series:\n",
        "    \"\"\"범주형 데이터를 시리즈 형태로 받아 숫자형 데이터로 변환합니다.\"\"\"\n",
        "\n",
        "    my_dict = {}\n",
        "\n",
        "    # 모든 요소를 문자열로 변환\n",
        "    series = series.astype(str)\n",
        "\n",
        "    for idx, value in enumerate(sorted(series.unique())):\n",
        "        my_dict[value] = idx\n",
        "    series = series.map(my_dict)\n",
        "\n",
        "    return series"
      ]
    },
    {
      "cell_type": "code",
      "source": [
        "refin_col_list=[\n",
        "                     'business_unit',\n",
        "                     'customer_type',\n",
        "                     'enterprise',\n",
        "                     'customer_job',\n",
        "                     'inquiry_type', # inquiry type에 8,000개정도 차지하는게 test에 좆도 없음 -> Drop\n",
        "                     'customer_position',\n",
        "                     'expected_timeline',\n",
        "                     'business_area',\n",
        "                     'bn_submit',\n",
        "                     'product_large_category',\n",
        "]\n",
        "\n",
        "X_train1['is_converted'] = y_train\n",
        "X_train2['is_converted'] = y_train\n",
        "X_train3['is_converted'] = y_train\n",
        "X_train4['is_converted'] = y_train\n",
        "\n",
        "for col in refin_col_list:\n",
        "    # df_train의 값이 df_test에 없는 행을 삭제하는 코드\n",
        "    X_train1 = X_train1[X_train1[col].isin(X_test1[col])]\n",
        "\n",
        "for col in refin_col_list:\n",
        "    # df_train의 값이 df_test에 없는 행을 삭제하는 코드\n",
        "    X_train2 = X_train2[X_train2[col].isin(X_test2[col])]\n",
        "for col in refin_col_list:\n",
        "    # df_train의 값이 df_test에 없는 행을 삭제하는 코드\n",
        "    X_train3 = X_train3[X_train3[col].isin(X_test3[col])]\n",
        "for col in refin_col_list:\n",
        "    # df_train의 값이 df_test에 없는 행을 삭제하는 코드\n",
        "    X_train4 = X_train4[X_train4[col].isin(X_test4[col])]\n",
        "\n",
        "y_train1 = X_train1['is_converted']\n",
        "y_train2 = X_train2['is_converted']\n",
        "y_train3 = X_train3['is_converted']\n",
        "y_train4 = X_train4['is_converted']\n",
        "\n",
        "X_train1.drop(['is_converted'], axis = 1, inplace = True)\n",
        "X_train2.drop(['is_converted'], axis = 1, inplace = True)\n",
        "X_train3.drop(['is_converted'], axis = 1, inplace = True)\n",
        "X_train4.drop(['is_converted'], axis = 1, inplace = True)"
      ],
      "metadata": {
        "id": "K8ab_4mPeiq1"
      },
      "id": "K8ab_4mPeiq1",
      "execution_count": null,
      "outputs": []
    },
    {
      "cell_type": "code",
      "execution_count": null,
      "id": "881a4612",
      "metadata": {
        "id": "881a4612"
      },
      "outputs": [],
      "source": [
        "def encoding(df) :\n",
        "    # 레이블 인코딩할 칼럼들\n",
        "    label_columns = ['customer_country',# label\n",
        "                     # 'business_unit',\n",
        "                     # 'customer_type',\n",
        "                     # 'enterprise',\n",
        "                     # 'customer_job',\n",
        "                     # 'inquiry_type',\n",
        "                     # 'customer_position',\n",
        "                     'response_corporate',\n",
        "                     # 'expected_timeline',\n",
        "                     # 'business_area',\n",
        "                     'lead_owner',\n",
        "                     # 'bn_submit',\n",
        "                     # 'product_large_category',\n",
        "    ]\n",
        "\n",
        "    # 인코딩할 칼럼들\n",
        "    one_hot_columns=[\n",
        "                     'business_unit',\n",
        "                     'customer_type',\n",
        "                     'enterprise',\n",
        "                     'customer_job',\n",
        "                     'inquiry_type',\n",
        "                     'customer_position',\n",
        "                     'expected_timeline',\n",
        "                     'business_area',\n",
        "                     'bn_submit',\n",
        "                     'product_large_category',\n",
        "    ]\n",
        "\n",
        "    for col in label_columns:\n",
        "        if col in df.columns:\n",
        "            df[col] = label_encoding(df[col])\n",
        "        else:\n",
        "            print(col)\n",
        "\n",
        "    one_hot_real_columns = one_hot_columns.copy()\n",
        "\n",
        "    for col in one_hot_columns:\n",
        "        if col not in df.columns:\n",
        "            one_hot_real_columns.remove(col)\n",
        "            print(col)\n",
        "    df = pd.get_dummies(df, columns=one_hot_real_columns)\n",
        "\n",
        "    return df\n",
        "\n",
        "X_train1 = encoding(X_train1.copy())\n",
        "X_train2 = encoding(X_train2.copy())\n",
        "X_train3 = encoding(X_train3.copy())\n",
        "X_train4 = encoding(X_train4.copy())\n",
        "\n",
        "\n",
        "X_test1 = encoding(X_test1.copy())\n",
        "X_test2 = encoding(X_test2.copy())\n",
        "X_test3 = encoding(X_test3.copy())\n",
        "X_test4 = encoding(X_test4.copy())"
      ]
    },
    {
      "cell_type": "code",
      "source": [
        "for col in X_test1.columns:\n",
        "  if col not in X_train1.columns:\n",
        "    X_train1[col] = 0\n",
        "\n",
        "for col in X_test2.columns:\n",
        "  if col not in X_train2.columns:\n",
        "    X_train2[col] = 0\n",
        "\n",
        "for col in X_test3.columns:\n",
        "  if col not in X_train3.columns:\n",
        "    X_train3[col] = 0\n",
        "\n",
        "for col in X_test4.columns:\n",
        "  if col not in X_train4.columns:\n",
        "    X_train4[col] = 0\n"
      ],
      "metadata": {
        "id": "0xzzEot8jpen"
      },
      "id": "0xzzEot8jpen",
      "execution_count": null,
      "outputs": []
    },
    {
      "cell_type": "code",
      "source": [
        "X_train1.fillna(0, inplace = True)\n",
        "X_train2.fillna(0, inplace = True)\n",
        "X_train3.fillna(0, inplace = True)\n",
        "X_train4.fillna(0, inplace = True)\n",
        "\n",
        "X_test1.fillna(0, inplace = True)\n",
        "X_test2.fillna(0, inplace = True)\n",
        "X_test3.fillna(0, inplace = True)\n",
        "X_test4.fillna(0, inplace = True)"
      ],
      "metadata": {
        "id": "Md6aJTpmuWjD"
      },
      "id": "Md6aJTpmuWjD",
      "execution_count": null,
      "outputs": []
    },
    {
      "cell_type": "code",
      "source": [
        "from imblearn.over_sampling import SMOTE, BorderlineSMOTE, ADASYN\n",
        "\n",
        "adasyn = ADASYN()\n",
        "\n",
        "X_train1, y_train1 = adasyn.fit_resample(X_train1, y_train1)\n",
        "X_train2, y_train2 = adasyn.fit_resample(X_train2, y_train2)\n",
        "X_train3, y_train3 = adasyn.fit_resample(X_train3, y_train3)\n",
        "X_train4, y_train4 = adasyn.fit_resample(X_train4, y_train4)"
      ],
      "metadata": {
        "id": "YZlv9MENt1mH"
      },
      "id": "YZlv9MENt1mH",
      "execution_count": null,
      "outputs": []
    },
    {
      "cell_type": "code",
      "source": [
        "X_train1.shape, X_test1.shape"
      ],
      "metadata": {
        "id": "lOLekKT6kLqM"
      },
      "id": "lOLekKT6kLqM",
      "execution_count": null,
      "outputs": []
    },
    {
      "cell_type": "code",
      "source": [
        "y_train1.shape"
      ],
      "metadata": {
        "id": "K-JXhc0Op5IR"
      },
      "id": "K-JXhc0Op5IR",
      "execution_count": null,
      "outputs": []
    },
    {
      "cell_type": "code",
      "source": [
        "from sklearn.feature_selection import RFECV\n",
        "from lightgbm import LGBMClassifier\n",
        "\n",
        "params = {\n",
        "    'objective': 'binary',\n",
        "    \"random_state\": 0,\n",
        "    'n_jobs':-1,\n",
        "    # 'learning_rate': .1,\n",
        "    # 'scale_pos_weight': 5,\n",
        "}\n",
        "\n",
        "clf = LGBMClassifier(**params, n_estimators=100, verbosity=1)\n",
        "min_features_to_select = 10\n",
        "step = 5\n",
        "selector1 = RFECV(clf, step=step, cv=5, min_features_to_select=min_features_to_select, scoring='f1')\n",
        "selector1 = selector1.fit(X_train1, y_train1)\n",
        "selector2 = RFECV(clf, step=step, cv=5, min_features_to_select=min_features_to_select, scoring='f1')\n",
        "selector2 = selector2.fit(X_train2, y_train2)\n",
        "selector3 = RFECV(clf, step=step, cv=5, min_features_to_select=min_features_to_select, scoring='f1')\n",
        "selector3 = selector3.fit(X_train3, y_train3)\n",
        "selector4 = RFECV(clf, step=step, cv=5, min_features_to_select=min_features_to_select, scoring='f1')\n",
        "selector4 = selector4.fit(X_train4, y_train4)"
      ],
      "metadata": {
        "id": "2gHwgN_ziHZ8"
      },
      "id": "2gHwgN_ziHZ8",
      "execution_count": null,
      "outputs": []
    },
    {
      "cell_type": "code",
      "source": [
        "# == 여기서부터 다시시작!! 2시14분 ==\n",
        "print(selector1.support_.sum())\n",
        "print(selector2.support_.sum())\n",
        "print(selector3.support_.sum())\n",
        "print(selector4.support_.sum())"
      ],
      "metadata": {
        "id": "8xsnGWuH9dA7"
      },
      "id": "8xsnGWuH9dA7",
      "execution_count": null,
      "outputs": []
    },
    {
      "cell_type": "code",
      "source": [
        "X_train1 = X_train1[X_train1.columns[selector1.support_]]\n",
        "X_train2 = X_train2[X_train2.columns[selector2.support_]]\n",
        "X_train3 = X_train3[X_train3.columns[selector3.support_]]\n",
        "X_train4 = X_train4[X_train4.columns[selector4.support_]]"
      ],
      "metadata": {
        "id": "ffgT6WomkbEx"
      },
      "id": "ffgT6WomkbEx",
      "execution_count": null,
      "outputs": []
    },
    {
      "cell_type": "code",
      "source": [
        "X_test1 = X_test1[X_test1.columns[selector1.support_]]\n",
        "X_test2 = X_test2[X_test2.columns[selector2.support_]]\n",
        "X_test3 = X_test3[X_test3.columns[selector3.support_]]\n",
        "X_test4 = X_test4[X_test4.columns[selector4.support_]]"
      ],
      "metadata": {
        "id": "DCvkYiowrMSH"
      },
      "id": "DCvkYiowrMSH",
      "execution_count": null,
      "outputs": []
    },
    {
      "cell_type": "code",
      "source": [
        "plt.figure()\n",
        "plt.xlabel(\"Number of features selected\")\n",
        "plt.ylabel(\"Cross validation score (fl score)\")\n",
        "plt.plot(\n",
        "    range(min_features_to_select, len(selector1.cv_results_['mean_test_score']) * step + min_features_to_select, step),\n",
        "    selector1.cv_results_['mean_test_score'],\n",
        ")\n",
        "plt.show()\n",
        "plt.plot(\n",
        "    range(min_features_to_select, len(selector2.cv_results_['mean_test_score']) * step + min_features_to_select, step),\n",
        "    selector2.cv_results_['mean_test_score'],\n",
        ")\n",
        "plt.show()\n",
        "plt.plot(\n",
        "    range(min_features_to_select, len(selector3.cv_results_['mean_test_score']) * step + min_features_to_select, step),\n",
        "    selector3.cv_results_['mean_test_score'],\n",
        ")\n",
        "plt.show()\n",
        "plt.plot(\n",
        "    range(min_features_to_select, len(selector4.cv_results_['mean_test_score']) * step + min_features_to_select, step),\n",
        "    selector4.cv_results_['mean_test_score'],\n",
        ")\n",
        "plt.show()"
      ],
      "metadata": {
        "id": "aVdrR7Gjkfa4"
      },
      "id": "aVdrR7Gjkfa4",
      "execution_count": null,
      "outputs": []
    },
    {
      "cell_type": "markdown",
      "id": "79ecfa9b",
      "metadata": {
        "id": "79ecfa9b"
      },
      "source": [
        "## 3. 모델 학습"
      ]
    },
    {
      "cell_type": "code",
      "source": [
        "!pip install optuna\n",
        "!pip install catboost"
      ],
      "metadata": {
        "id": "iyCEAYkuNSKe"
      },
      "id": "iyCEAYkuNSKe",
      "execution_count": null,
      "outputs": []
    },
    {
      "cell_type": "markdown",
      "id": "06bf0407",
      "metadata": {
        "id": "06bf0407"
      },
      "source": [
        "### 베이스라인 모델 - OOF LGBM + Optuna\n"
      ]
    },
    {
      "cell_type": "code",
      "source": [],
      "metadata": {
        "id": "7siFSwp6xA-Y"
      },
      "id": "7siFSwp6xA-Y",
      "execution_count": null,
      "outputs": []
    },
    {
      "cell_type": "code",
      "source": [
        "import optuna\n",
        "from sklearn.metrics import f1_score\n",
        "from lightgbm import LGBMClassifier, early_stopping\n",
        "\n",
        "# # customer_idx, lead_owner, bn_submit\n",
        "# object_columns = X_train1.select_dtypes(include=['object']).columns\n",
        "\n",
        "# extend_cols_1 = ['customer_idx', 'lead_owner', 'bn_submit']\n",
        "# cat_cols_1=list(object_columns)\n",
        "# cat_cols_1.extend(extend_cols_1)\n",
        "\n",
        "# for col in cat_cols_1:\n",
        "#     X_train1[col] = X_train1[col].astype('category')\n",
        "#     X_test1[col] = X_test1[col].astype('category')\n",
        "\n",
        "def objective(trial):\n",
        "    param = {\n",
        "        'objective': 'binary',\n",
        "        'metric': 'binary_logloss',\n",
        "        'verbosity': -1,\n",
        "        'boosting_type': 'gbdt',\n",
        "        'learning_rate': trial.suggest_float('learning_rate', 0.01, 0.1),\n",
        "        'num_leaves': trial.suggest_int('num_leaves', 30, 300),\n",
        "        'max_depth': trial.suggest_int('max_depth', 6, 16),\n",
        "        'scale_pos_weight': trial.suggest_float('scale_pos_weight', 1, 50),\n",
        "        'subsample': trial.suggest_float('subsample', 0.6, 1.0),\n",
        "        'colsample_bytree': trial.suggest_float('colsample_bytree', 0.6, 1.0),\n",
        "        'lambda_l1': trial.suggest_float('lambda_l1', 1e-8, 10.0, log=True),\n",
        "        'lambda_l2': trial.suggest_float('lambda_l2', 1e-8, 10.0, log=True),\n",
        "        'min_child_samples': trial.suggest_int('min_child_samples', 5, 100),\n",
        "        'min_child_weight': trial.suggest_float('min_child_weight', 1e-5, 1e-1, log=True),\n",
        "        'bagging_fraction': trial.suggest_float('bagging_fraction', 0.6, 1.0),\n",
        "        'bagging_freq': trial.suggest_int('bagging_freq', 1, 10),\n",
        "        'feature_fraction': trial.suggest_float('feature_fraction', 0.6, 1.0),\n",
        "        'min_split_gain': trial.suggest_float('min_split_gain', 0, 1),\n",
        "        'random_state': 0,\n",
        "        # 'categorical_feature': cat_cols_1,\n",
        "        'n_jobs': -1\n",
        "    }\n",
        "\n",
        "    f1_scores = []\n",
        "    for train_idx, valid_idx in folds.split(X_train1, y_train1):\n",
        "        X_tr, y_tr = X_train1.iloc[train_idx], y_train1.iloc[train_idx]\n",
        "        X_val, y_val = X_train1.iloc[valid_idx], y_train1.iloc[valid_idx]\n",
        "\n",
        "        lgb_model = LGBMClassifier(**param)\n",
        "        lgb_model.fit(X_tr, y_tr, eval_set=[(X_val, y_val)], callbacks=[early_stopping(stopping_rounds=200)])\n",
        "\n",
        "        threshold = 0.5  # 적절한 임계값으로 조정\n",
        "        preds_proba = lgb_model.predict_proba(X_val)[:, 1]  # 클래스 1에 대한 확률을 얻음\n",
        "        preds = (preds_proba > threshold).astype(int)  # 임계값을 기준으로 이진 클래스로 변환\n",
        "\n",
        "        # 이진 클래스 예측을 사용하여 F1 스코어 계산\n",
        "        f1 = f1_score(y_val, preds)\n",
        "        f1_scores.append(f1)\n",
        "\n",
        "    return np.mean(f1_scores)\n",
        "\n",
        "folds = StratifiedKFold(n_splits=5, shuffle=True, random_state=0)\n",
        "study1 = optuna.create_study(direction='maximize')\n",
        "study1.optimize(objective, n_trials=50, n_jobs=-1)  # 시행 횟수를 조정하여 탐색 시간 관리\n",
        "\n",
        "print('Number of finished trials:', len(study1.trials))\n",
        "print('Best trial:', study1.best_trial.params)"
      ],
      "metadata": {
        "id": "2sIIivC-MrrD"
      },
      "id": "2sIIivC-MrrD",
      "execution_count": null,
      "outputs": []
    },
    {
      "cell_type": "code",
      "source": [
        "# cat_cols_2=list(object_columns)\n",
        "# cat_cols_2.extend(extend_cols_2)\n",
        "\n",
        "# for col in cat_cols_2:\n",
        "#     X_train2[col] = X_train2[col].astype('category')\n",
        "#     X_test2[col] = X_test2[col].astype('category')"
      ],
      "metadata": {
        "id": "I8URbeYFINmy"
      },
      "id": "I8URbeYFINmy",
      "execution_count": null,
      "outputs": []
    },
    {
      "cell_type": "code",
      "source": [
        "import optuna\n",
        "from sklearn.metrics import f1_score\n",
        "from lightgbm import LGBMClassifier, early_stopping\n",
        "\n",
        "# object_columns = X_train2.select_dtypes(include=['object']).columns\n",
        "# extend_cols_2 = ['lead_owner', 'bn_submit']\n",
        "\n",
        "# cat_cols_2=list(object_columns)\n",
        "# cat_cols_2.extend(extend_cols_2)\n",
        "\n",
        "# for col in cat_cols_2:\n",
        "#     X_train2[col] = X_train2[col].astype('category')\n",
        "#     X_test2[col] = X_test2[col].astype('category')\n",
        "\n",
        "def objective(trial):\n",
        "    param = {\n",
        "        'objective': 'binary',\n",
        "        'metric': 'binary_logloss',\n",
        "        'verbosity': -1,\n",
        "        'boosting_type': 'gbdt',\n",
        "        'learning_rate': trial.suggest_float('learning_rate', 0.01, 0.1),\n",
        "        'num_leaves': trial.suggest_int('num_leaves', 30, 300),\n",
        "        'max_depth': trial.suggest_int('max_depth', 6, 16),\n",
        "        'scale_pos_weight': trial.suggest_float('scale_pos_weight', 1, 50),\n",
        "        'subsample': trial.suggest_float('subsample', 0.6, 1.0),\n",
        "        'colsample_bytree': trial.suggest_float('colsample_bytree', 0.6, 1.0),\n",
        "        'lambda_l1': trial.suggest_float('lambda_l1', 1e-8, 10.0, log=True),\n",
        "        'lambda_l2': trial.suggest_float('lambda_l2', 1e-8, 10.0, log=True),\n",
        "        'min_child_samples': trial.suggest_int('min_child_samples', 5, 100),\n",
        "        'min_child_weight': trial.suggest_float('min_child_weight', 1e-5, 1e-1, log=True),\n",
        "        'bagging_fraction': trial.suggest_float('bagging_fraction', 0.6, 1.0),\n",
        "        'bagging_freq': trial.suggest_int('bagging_freq', 1, 10),\n",
        "        'feature_fraction': trial.suggest_float('feature_fraction', 0.6, 1.0),\n",
        "        'min_split_gain': trial.suggest_float('min_split_gain', 0, 1),\n",
        "        'random_state': 0,\n",
        "        # 'categorical_feature': cat_cols_2,\n",
        "        'n_jobs': -1\n",
        "    }\n",
        "\n",
        "    f1_scores = []\n",
        "    for train_idx, valid_idx in folds.split(X_train2, y_train2):\n",
        "        X_tr, y_tr = X_train2.iloc[train_idx], y_train2.iloc[train_idx]\n",
        "        X_val, y_val = X_train2.iloc[valid_idx], y_train2.iloc[valid_idx]\n",
        "\n",
        "        lgb_model = LGBMClassifier(**param)\n",
        "        lgb_model.fit(X_tr, y_tr, eval_set=[(X_val, y_val)], callbacks=[early_stopping(stopping_rounds=200)])\n",
        "\n",
        "        threshold = 0.5  # 적절한 임계값으로 조정\n",
        "        preds_proba = lgb_model.predict_proba(X_val)[:, 1]  # 클래스 1에 대한 확률을 얻음\n",
        "        preds = (preds_proba > threshold).astype(int)  # 임계값을 기준으로 이진 클래스로 변환\n",
        "\n",
        "        # 이진 클래스 예측을 사용하여 F1 스코어 계산\n",
        "        f1 = f1_score(y_val, preds)\n",
        "        f1_scores.append(f1)\n",
        "\n",
        "    return np.mean(f1_scores)\n",
        "\n",
        "folds = StratifiedKFold(n_splits=5, shuffle=True, random_state=0)\n",
        "study2 = optuna.create_study(direction='maximize')\n",
        "study2.optimize(objective, n_trials=50, n_jobs=-1)  # 시행 횟수를 조정하여 탐색 시간 관리\n",
        "\n",
        "print('Number of finished trials:', len(study2.trials))\n",
        "print('Best trial:', study2.best_trial.params)"
      ],
      "metadata": {
        "id": "fe8YZRc8rmsZ"
      },
      "id": "fe8YZRc8rmsZ",
      "execution_count": null,
      "outputs": []
    },
    {
      "cell_type": "code",
      "source": [
        "\n",
        "# object_columns = X_train3.select_dtypes(include=['object']).columns\n",
        "# extend_cols_3 = ['customer_idx', 'bn_submit']\n",
        "# cat_cols_3=list(object_columns)\n",
        "# cat_cols_3.extend(extend_cols_3)\n",
        "\n",
        "\n",
        "# for col in cat_cols_3:\n",
        "#     X_train3[col] = X_train3[col].astype('category')\n",
        "#     X_test3[col] = X_test3[col].astype('category')\n"
      ],
      "metadata": {
        "id": "NeNJtNnkIoYN"
      },
      "id": "NeNJtNnkIoYN",
      "execution_count": null,
      "outputs": []
    },
    {
      "cell_type": "code",
      "source": [
        "import optuna\n",
        "from sklearn.metrics import f1_score\n",
        "from lightgbm import LGBMClassifier, early_stopping\n",
        "\n",
        "# object_columns = X_train3.select_dtypes(include=['object']).columns\n",
        "# extend_cols_3 = ['customer_idx', 'bn_submit']\n",
        "# cat_cols_3=list(object_columns)\n",
        "# cat_cols_3.extend(extend_cols_3)\n",
        "\n",
        "# for col in cat_cols_3:\n",
        "#     X_train3[col] = X_train3[col].astype('category')\n",
        "#     X_test3[col] = X_test3[col].astype('category')\n",
        "\n",
        "def objective(trial):\n",
        "    param = {\n",
        "        'objective': 'binary',\n",
        "        'metric': 'binary_logloss',\n",
        "        'verbosity': -1,\n",
        "        'boosting_type': 'gbdt',\n",
        "        'learning_rate': trial.suggest_float('learning_rate', 0.01, 0.1),\n",
        "        'num_leaves': trial.suggest_int('num_leaves', 30, 300),\n",
        "        'max_depth': trial.suggest_int('max_depth', 6, 16),\n",
        "        'scale_pos_weight': trial.suggest_float('scale_pos_weight', 1, 50),\n",
        "        'subsample': trial.suggest_float('subsample', 0.6, 1.0),\n",
        "        'colsample_bytree': trial.suggest_float('colsample_bytree', 0.6, 1.0),\n",
        "        'lambda_l1': trial.suggest_float('lambda_l1', 1e-8, 10.0, log=True),\n",
        "        'lambda_l2': trial.suggest_float('lambda_l2', 1e-8, 10.0, log=True),\n",
        "        'min_child_samples': trial.suggest_int('min_child_samples', 5, 100),\n",
        "        'min_child_weight': trial.suggest_float('min_child_weight', 1e-5, 1e-1, log=True),\n",
        "        'bagging_fraction': trial.suggest_float('bagging_fraction', 0.6, 1.0),\n",
        "        'bagging_freq': trial.suggest_int('bagging_freq', 1, 10),\n",
        "        'feature_fraction': trial.suggest_float('feature_fraction', 0.6, 1.0),\n",
        "        'min_split_gain': trial.suggest_float('min_split_gain', 0, 1),\n",
        "        'random_state': 0,\n",
        "        # 'categorical_feature': cat_cols_3,\n",
        "        'n_jobs': -1\n",
        "    }\n",
        "\n",
        "    f1_scores = []\n",
        "    for train_idx, valid_idx in folds.split(X_train3, y_train3):\n",
        "        X_tr, y_tr = X_train3.iloc[train_idx], y_train3.iloc[train_idx]\n",
        "        X_val, y_val = X_train3.iloc[valid_idx], y_train3.iloc[valid_idx]\n",
        "\n",
        "        lgb_model = LGBMClassifier(**param)\n",
        "        lgb_model.fit(X_tr, y_tr, eval_set=[(X_val, y_val)], callbacks=[early_stopping(stopping_rounds=200)])\n",
        "\n",
        "        threshold = 0.5  # 적절한 임계값으로 조정\n",
        "        preds_proba = lgb_model.predict_proba(X_val)[:, 1]  # 클래스 1에 대한 확률을 얻음\n",
        "        preds = (preds_proba > threshold).astype(int)  # 임계값을 기준으로 이진 클래스로 변환\n",
        "\n",
        "        # 이진 클래스 예측을 사용하여 F1 스코어 계산\n",
        "        f1 = f1_score(y_val, preds)\n",
        "        f1_scores.append(f1)\n",
        "\n",
        "    return np.mean(f1_scores)\n",
        "\n",
        "folds = StratifiedKFold(n_splits=5, shuffle=True, random_state=0)\n",
        "study3 = optuna.create_study(direction='maximize')\n",
        "study3.optimize(objective, n_trials=50, n_jobs=-1)  # 시행 횟수를 조정하여 탐색 시간 관리\n",
        "\n",
        "print('Number of finished trials:', len(study3.trials))\n",
        "print('Best trial:', study3.best_trial.params)"
      ],
      "metadata": {
        "id": "6M81Z2Qermwm"
      },
      "id": "6M81Z2Qermwm",
      "execution_count": null,
      "outputs": []
    },
    {
      "cell_type": "code",
      "source": [
        "\n",
        "# object_columns = X_train4.select_dtypes(include=['object']).columns\n",
        "\n",
        "# extend_cols_4 = ['bn_submit']\n",
        "# cat_cols_4=list(object_columns)\n",
        "# cat_cols_4.extend(extend_cols_4)\n",
        "\n",
        "# for col in cat_cols_4:\n",
        "#     X_train4[col] = X_train4[col].astype('category')\n",
        "#     X_test4[col] = X_test4[col].astype('category')\n"
      ],
      "metadata": {
        "id": "TORvL-rxIsk9"
      },
      "id": "TORvL-rxIsk9",
      "execution_count": null,
      "outputs": []
    },
    {
      "cell_type": "code",
      "source": [
        "import optuna\n",
        "from sklearn.metrics import f1_score\n",
        "from lightgbm import LGBMClassifier, early_stopping\n",
        "\n",
        "# object_columns = X_train4.select_dtypes(include=['object']).columns\n",
        "\n",
        "# extend_cols_4 = ['bn_submit']\n",
        "# cat_cols_4=list(object_columns)\n",
        "# cat_cols_4.extend(extend_cols_4)\n",
        "\n",
        "# for col in cat_cols_4:\n",
        "#     X_train4[col] = X_train4[col].astype('category')\n",
        "#     X_test4[col] = X_test4[col].astype('category')\n",
        "\n",
        "def objective(trial):\n",
        "    param = {\n",
        "        'objective': 'binary',\n",
        "        'metric': 'binary_logloss',\n",
        "        'verbosity': -1,\n",
        "        'boosting_type': 'gbdt',\n",
        "        'learning_rate': trial.suggest_float('learning_rate', 0.01, 0.1),\n",
        "        'num_leaves': trial.suggest_int('num_leaves', 30, 300),\n",
        "        'max_depth': trial.suggest_int('max_depth', 6, 16),\n",
        "        'scale_pos_weight': trial.suggest_float('scale_pos_weight', 1, 50),\n",
        "        'subsample': trial.suggest_float('subsample', 0.6, 1.0),\n",
        "        'colsample_bytree': trial.suggest_float('colsample_bytree', 0.6, 1.0),\n",
        "        'lambda_l1': trial.suggest_float('lambda_l1', 1e-8, 10.0, log=True),\n",
        "        'lambda_l2': trial.suggest_float('lambda_l2', 1e-8, 10.0, log=True),\n",
        "        'min_child_samples': trial.suggest_int('min_child_samples', 5, 100),\n",
        "        'min_child_weight': trial.suggest_float('min_child_weight', 1e-5, 1e-1, log=True),\n",
        "        'bagging_fraction': trial.suggest_float('bagging_fraction', 0.6, 1.0),\n",
        "        'bagging_freq': trial.suggest_int('bagging_freq', 1, 10),\n",
        "        'feature_fraction': trial.suggest_float('feature_fraction', 0.6, 1.0),\n",
        "        'min_split_gain': trial.suggest_float('min_split_gain', 0, 1),\n",
        "        'random_state': 0,\n",
        "        # 'categorical_feature': cat_cols_4,\n",
        "        'n_jobs': -1\n",
        "    }\n",
        "\n",
        "    f1_scores = []\n",
        "    for train_idx, valid_idx in folds.split(X_train4, y_train4):\n",
        "        X_tr, y_tr = X_train4.iloc[train_idx], y_train4.iloc[train_idx]\n",
        "        X_val, y_val = X_train4.iloc[valid_idx], y_train4.iloc[valid_idx]\n",
        "\n",
        "        lgb_model = LGBMClassifier(**param)\n",
        "        lgb_model.fit(X_tr, y_tr, eval_set=[(X_val, y_val)], callbacks=[early_stopping(stopping_rounds=200)])\n",
        "\n",
        "        threshold = 0.5  # 적절한 임계값으로 조정\n",
        "        preds_proba = lgb_model.predict_proba(X_val)[:, 1]  # 클래스 1에 대한 확률을 얻음\n",
        "        preds = (preds_proba > threshold).astype(int)  # 임계값을 기준으로 이진 클래스로 변환\n",
        "\n",
        "        # 이진 클래스 예측을 사용하여 F1 스코어 계산\n",
        "        f1 = f1_score(y_val, preds)\n",
        "        f1_scores.append(f1)\n",
        "\n",
        "    return np.mean(f1_scores)\n",
        "\n",
        "folds = StratifiedKFold(n_splits=5, shuffle=True, random_state=0)\n",
        "study4 = optuna.create_study(direction='maximize')\n",
        "study4.optimize(objective, n_trials=50, n_jobs=-1)  # 시행 횟수를 조정하여 탐색 시간 관리\n",
        "\n",
        "print('Number of finished trials:', len(study4.trials))\n",
        "print('Best trial:', study4.best_trial.params)"
      ],
      "metadata": {
        "id": "GZNNNBn_rm33"
      },
      "id": "GZNNNBn_rm33",
      "execution_count": null,
      "outputs": []
    },
    {
      "cell_type": "code",
      "execution_count": null,
      "id": "dbb6ca94",
      "metadata": {
        "id": "dbb6ca94"
      },
      "outputs": [],
      "source": [
        "from sklearn.model_selection import StratifiedKFold\n",
        "from lightgbm import LGBMClassifier, early_stopping\n",
        "from sklearn.metrics import f1_score\n",
        "\n",
        "folds = StratifiedKFold(n_splits=5, shuffle=True, random_state=0)\n",
        "\n",
        "oof_lgb_val_preds = np.zeros(X_train1.shape[0])\n",
        "oof_lgb_test_preds1 = np.zeros(X_test1.shape[0])\n",
        "\n",
        "params = study1.best_trial.params\n",
        "\n",
        "f1_score_lgb_list=[]\n",
        "feature_importance_lgb_list1=[]\n",
        "\n",
        "for idx, (train_idx, valid_idx) in enumerate(folds.split(X_train1, y_train)):\n",
        "    print('#'*40, f'폴드{idx+1} / 폴드{folds.n_splits}', \"#\"*40)\n",
        "    X_tr, y_tr = X_train1.iloc[train_idx], y_train.iloc[train_idx]\n",
        "    X_val, y_val = X_train1.iloc[valid_idx], y_train.iloc[valid_idx]\n",
        "    lgb_model1 = LGBMClassifier(**params, n_estimators=1000, verbosity=-1)\n",
        "    lgb_model1.fit(X_tr, y_tr, eval_set=[(X_val, y_val)], eval_metric='f1', callbacks=[early_stopping(stopping_rounds=200)])\n",
        "\n",
        "    oof_lgb_test_preds1 += lgb_model1.predict_proba(X_test1)[:,1] / folds.get_n_splits()\n",
        "    oof_lgb_val_preds[valid_idx] += lgb_model1.predict_proba(X_val)[:,1]\n",
        "\n",
        "    f1 = f1_score(y_val, np.where(oof_lgb_val_preds[valid_idx]> 0.3, 1, 0))\n",
        "    f1_score_lgb_list.append(f1)\n",
        "    print(f'폴드 {idx+1} f1 score: {f1}\\n')\n",
        "\n",
        "    feature_importance_lgb_list1.append(lgb_model1.feature_importances_)\n",
        "\n",
        "print(f'검증 평균 f1 score: {np.mean(f1_score_lgb_list)}')\n",
        "# 검증 평균 f1 score: 0.6681057863053503\n",
        "# 검증 평균 f1 score: 0.6874484933265256\n",
        "# 검증 평균 f1 score: 0.6808553359090445"
      ]
    },
    {
      "cell_type": "code",
      "execution_count": null,
      "id": "700af196",
      "metadata": {
        "id": "700af196"
      },
      "outputs": [],
      "source": [
        "folds = StratifiedKFold(n_splits=5, shuffle=True, random_state=0)\n",
        "\n",
        "oof_lgb_val_preds = np.zeros(X_train2.shape[0])\n",
        "oof_lgb_test_preds2 = np.zeros(X_test2.shape[0])\n",
        "\n",
        "params = study2.best_trial.params\n",
        "\n",
        "f1_score_lgb_list=[]\n",
        "feature_importance_lgb_list2=[]\n",
        "\n",
        "for idx, (train_idx, valid_idx) in enumerate(folds.split(X_train2, y_train)):\n",
        "    print('#'*40, f'폴드{idx+1} / 폴드{folds.n_splits}', \"#\"*40)\n",
        "    X_tr, y_tr = X_train2.iloc[train_idx], y_train.iloc[train_idx]\n",
        "    X_val, y_val = X_train2.iloc[valid_idx], y_train.iloc[valid_idx]\n",
        "\n",
        "    lgb_model2 = LGBMClassifier(**params, n_estimators=1000, verbosity=-1)\n",
        "    lgb_model2.fit(X_tr, y_tr, eval_set=[(X_val, y_val)], eval_metric='f1', callbacks=[early_stopping(stopping_rounds=200)])\n",
        "\n",
        "    oof_lgb_test_preds2 += lgb_model2.predict_proba(X_test2)[:,1] / folds.get_n_splits()\n",
        "    oof_lgb_val_preds[valid_idx] += lgb_model2.predict_proba(X_val)[:,1]\n",
        "\n",
        "    f1 = f1_score(y_val, np.where(oof_lgb_val_preds[valid_idx]> 0.3, 1, 0))\n",
        "    f1_score_lgb_list.append(f1)\n",
        "    print(f'폴드 {idx+1} f1 score: {f1}\\n')\n",
        "\n",
        "    feature_importance_lgb_list2.append(lgb_model2.feature_importances_)\n",
        "\n",
        "print(f'검증 평균 f1 score: {np.mean(f1_score_lgb_list)}')\n",
        "# 검증 평균 f1 score: 0.6369183103794238\n",
        "# 검증 평균 f1 score: 0.6687853126012051\n",
        "# 검증 평균 f1 score: 0.6688214586878092"
      ]
    },
    {
      "cell_type": "code",
      "source": [
        "print('Best trial:', study2.best_trial.params)"
      ],
      "metadata": {
        "id": "R_-jKsAEHys-"
      },
      "id": "R_-jKsAEHys-",
      "execution_count": null,
      "outputs": []
    },
    {
      "cell_type": "code",
      "execution_count": null,
      "id": "d812ea05",
      "metadata": {
        "id": "d812ea05"
      },
      "outputs": [],
      "source": [
        "folds = StratifiedKFold(n_splits=5, shuffle=True, random_state=0)\n",
        "\n",
        "oof_lgb_val_preds = np.zeros(X_train3.shape[0])\n",
        "oof_lgb_test_preds3 = np.zeros(X_test3.shape[0])\n",
        "\n",
        "params = study3.best_trial.params\n",
        "\n",
        "f1_score_lgb_list=[]\n",
        "feature_importance_lgb_list3=[]\n",
        "\n",
        "for idx, (train_idx, valid_idx) in enumerate(folds.split(X_train3, y_train)):\n",
        "    print('#'*40, f'폴드{idx+1} / 폴드{folds.n_splits}', \"#\"*40)\n",
        "    X_tr, y_tr = X_train3.iloc[train_idx], y_train.iloc[train_idx]\n",
        "    X_val, y_val = X_train3.iloc[valid_idx], y_train.iloc[valid_idx]\n",
        "\n",
        "    lgb_model3 = LGBMClassifier(**params, n_estimators=1000, verbosity=-1)\n",
        "    lgb_model3.fit(X_tr, y_tr, eval_set=[(X_val, y_val)], eval_metric='f1', callbacks=[early_stopping(stopping_rounds=200)])\n",
        "\n",
        "    oof_lgb_test_preds3 += lgb_model3.predict_proba(X_test3)[:,1] / folds.get_n_splits()\n",
        "    oof_lgb_val_preds[valid_idx] += lgb_model3.predict_proba(X_val)[:,1]\n",
        "\n",
        "    f1 = f1_score(y_val, np.where(oof_lgb_val_preds[valid_idx]> 0.2, 1, 0))\n",
        "    f1_score_lgb_list.append(f1)\n",
        "    print(f'폴드 {idx+1} f1 score: {f1}\\n')\n",
        "\n",
        "    feature_importance_lgb_list3.append(lgb_model3.feature_importances_)\n",
        "\n",
        "print(f'검증 평균 f1 score: {np.mean(f1_score_lgb_list)}')\n",
        "# 검증 평균 f1 score: 0.5119269567430197\n",
        "# 검증 평균 f1 score: 0.5596032744767381\n",
        "# 검증 평균 f1 score: 0.5570916106458524"
      ]
    },
    {
      "cell_type": "code",
      "execution_count": null,
      "id": "5ebc8c50",
      "metadata": {
        "id": "5ebc8c50"
      },
      "outputs": [],
      "source": [
        "folds = StratifiedKFold(n_splits=5, shuffle=True, random_state=0)\n",
        "\n",
        "oof_lgb_val_preds = np.zeros(X_train4.shape[0])\n",
        "oof_lgb_test_preds4 = np.zeros(X_test4.shape[0])\n",
        "\n",
        "params = study4.best_trial.params\n",
        "\n",
        "f1_score_lgb_list=[]\n",
        "feature_importance_lgb_list4=[]\n",
        "\n",
        "for idx, (train_idx, valid_idx) in enumerate(folds.split(X_train4, y_train)):\n",
        "    print('#'*40, f'폴드{idx+1} / 폴드{folds.n_splits}', \"#\"*40)\n",
        "    X_tr, y_tr = X_train4.iloc[train_idx], y_train.iloc[train_idx]\n",
        "    X_val, y_val = X_train4.iloc[valid_idx], y_train.iloc[valid_idx]\n",
        "\n",
        "    lgb_model4 = LGBMClassifier(**params, n_estimators=1000, verbosity=-1)\n",
        "    lgb_model4.fit(X_tr, y_tr, eval_set=[(X_val, y_val)], eval_metric='f1', callbacks=[early_stopping(stopping_rounds=200)])\n",
        "\n",
        "    oof_lgb_test_preds4 += lgb_model4.predict_proba(X_test4)[:,1] / folds.get_n_splits()\n",
        "    oof_lgb_val_preds[valid_idx] += lgb_model4.predict_proba(X_val)[:,1]\n",
        "\n",
        "    f1 = f1_score(y_val, np.where(oof_lgb_val_preds[valid_idx]> 0.2, 1, 0))\n",
        "    f1_score_lgb_list.append(f1)\n",
        "    print(f'폴드 {idx+1} f1 score: {f1}\\n')\n",
        "\n",
        "    feature_importance_lgb_list4.append(lgb_model4.feature_importances_)\n",
        "\n",
        "print(f'검증 평균 f1 score: {np.mean(f1_score_lgb_list)}')\n",
        "# 검증 평균 f1 score: 0.48249642435286794\n",
        "# 검증 평균 f1 score: 0.5188131938904044\n",
        "# 검증 평균 f1 score: 0.531939906437756"
      ]
    },
    {
      "cell_type": "code",
      "execution_count": null,
      "id": "09872b56",
      "metadata": {
        "id": "09872b56"
      },
      "outputs": [],
      "source": [
        "# 특징 중요도와 특징 이름을 정렬\n",
        "top_features = 20\n",
        "sorted_indices = np.argsort(-np.mean(feature_importance_lgb_list1, axis=0))[::-1]\n",
        "sorted_feature_names = [lgb_model1.booster_.feature_name()[i] for i in sorted_indices][-top_features:]\n",
        "sorted_mean_importance = np.mean(feature_importance_lgb_list1, axis=0)[sorted_indices][-top_features:]\n",
        "\n",
        "# 바 차트 그리기\n",
        "plt.figure(figsize=(5 , 4))\n",
        "plt.barh(sorted_feature_names, sorted_mean_importance)\n",
        "plt.xlabel('Mean Importance')\n",
        "plt.ylabel('Features')\n",
        "plt.title('Mean Feature Importance')\n",
        "plt.show()"
      ]
    },
    {
      "cell_type": "code",
      "execution_count": null,
      "id": "04fa7dcb",
      "metadata": {
        "id": "04fa7dcb"
      },
      "outputs": [],
      "source": [
        "# 특징 중요도와 특징 이름을 정렬\n",
        "top_features = 20\n",
        "sorted_indices = np.argsort(-np.mean(feature_importance_lgb_list2, axis=0))[::-1]\n",
        "sorted_feature_names = [lgb_model2.booster_.feature_name()[i] for i in sorted_indices][-top_features:]\n",
        "sorted_mean_importance = np.mean(feature_importance_lgb_list2, axis=0)[sorted_indices][-top_features:]\n",
        "\n",
        "# 바 차트 그리기\n",
        "plt.figure(figsize=(5 , 4))\n",
        "plt.barh(sorted_feature_names, sorted_mean_importance)\n",
        "plt.xlabel('Mean Importance')\n",
        "plt.ylabel('Features')\n",
        "plt.title('Mean Feature Importance')\n",
        "plt.show()"
      ]
    },
    {
      "cell_type": "code",
      "execution_count": null,
      "id": "ce52377c",
      "metadata": {
        "id": "ce52377c"
      },
      "outputs": [],
      "source": [
        "# 특징 중요도와 특징 이름을 정렬\n",
        "top_features = 20\n",
        "sorted_indices = np.argsort(-np.mean(feature_importance_lgb_list3, axis=0))[::-1]\n",
        "sorted_feature_names = [lgb_model3.booster_.feature_name()[i] for i in sorted_indices][-top_features:]\n",
        "sorted_mean_importance = np.mean(feature_importance_lgb_list3, axis=0)[sorted_indices][-top_features:]\n",
        "\n",
        "# 바 차트 그리기\n",
        "plt.figure(figsize=(5 , 4))\n",
        "plt.barh(sorted_feature_names, sorted_mean_importance)\n",
        "plt.xlabel('Mean Importance')\n",
        "plt.ylabel('Features')\n",
        "plt.title('Mean Feature Importance')\n",
        "plt.show()"
      ]
    },
    {
      "cell_type": "code",
      "execution_count": null,
      "id": "4471dd3d",
      "metadata": {
        "id": "4471dd3d"
      },
      "outputs": [],
      "source": [
        "# 특징 중요도와 특징 이름을 정렬\n",
        "top_features = 20\n",
        "sorted_indices = np.argsort(-np.mean(feature_importance_lgb_list4, axis=0))[::-1]\n",
        "sorted_feature_names = [lgb_model4.booster_.feature_name()[i] for i in sorted_indices][-top_features:]\n",
        "sorted_mean_importance = np.mean(feature_importance_lgb_list4, axis=0)[sorted_indices][-top_features:]\n",
        "\n",
        "# 바 차트 그리기\n",
        "plt.figure(figsize=(5 , 4))\n",
        "plt.barh(sorted_feature_names, sorted_mean_importance)\n",
        "plt.xlabel('Mean Importance')\n",
        "plt.ylabel('Features')\n",
        "plt.title('Mean Feature Importance')\n",
        "plt.show()"
      ]
    },
    {
      "cell_type": "markdown",
      "id": "9d0b6e17",
      "metadata": {
        "id": "9d0b6e17"
      },
      "source": [
        "### 테스트 데이터 예측"
      ]
    },
    {
      "cell_type": "code",
      "execution_count": null,
      "id": "6a1f6534",
      "metadata": {
        "id": "6a1f6534"
      },
      "outputs": [],
      "source": [
        "oof_test_preds1 = oof_lgb_test_preds1\n",
        "oof_test_preds2 = oof_lgb_test_preds2\n",
        "oof_test_preds3 = oof_lgb_test_preds3\n",
        "oof_test_preds4 = oof_lgb_test_preds4"
      ]
    },
    {
      "cell_type": "code",
      "execution_count": null,
      "id": "43daa73c",
      "metadata": {
        "id": "43daa73c"
      },
      "outputs": [],
      "source": [
        "# 예측에 필요한 데이터 분리 (Tuning 해야함 -> gridSearch)\n",
        "test_pred1 = np.where(oof_test_preds1 >= 0.05, 1, 0)\n",
        "test_pred2 = np.where(oof_test_preds2 >= 0.05, 1, 0)\n",
        "test_pred3 = np.where(oof_test_preds3 >= 0.05, 1, 0)\n",
        "test_pred4 = np.where(oof_test_preds4 >= 0.05, 1, 0)\n",
        "\n",
        "\n",
        "df_test1['is_converted']=test_pred1\n",
        "df_test2['is_converted']=test_pred2\n",
        "df_test3['is_converted']=test_pred3\n",
        "df_test4['is_converted']=test_pred4"
      ]
    },
    {
      "cell_type": "code",
      "execution_count": null,
      "id": "d13f7a6e",
      "metadata": {
        "id": "d13f7a6e"
      },
      "outputs": [],
      "source": [
        "print(sum(test_pred1), df_test1.shape[0]) # cus, lead_owner 있음\n",
        "print(sum(test_pred2), df_test2.shape[0]) # lead_owner 있음\n",
        "print(sum(test_pred3), df_test3.shape[0]) # cus 있음\n",
        "print(sum(test_pred4), df_test4.shape[0]) # 완전 새로운\n",
        "print('전체 true 개수: ', sum(test_pred1)+sum(test_pred2)+sum(test_pred3)+sum(test_pred4))"
      ]
    },
    {
      "cell_type": "markdown",
      "id": "7adf8300",
      "metadata": {
        "id": "7adf8300"
      },
      "source": [
        "## 4. 제출하기"
      ]
    },
    {
      "cell_type": "markdown",
      "id": "47f18e6a",
      "metadata": {
        "id": "47f18e6a"
      },
      "source": [
        "### 제출 파일 작성"
      ]
    },
    {
      "cell_type": "code",
      "execution_count": null,
      "id": "3128a458",
      "metadata": {
        "id": "3128a458"
      },
      "outputs": [],
      "source": [
        "# 제출 데이터 읽어오기 (df_test는 전처리된 데이터가 저장됨)\n",
        "df_sub = pd.read_csv('/content/drive/MyDrive/BITAmin/LG/lg_aimers_submission.csv')\n",
        "df_sub = df_sub.drop('is_converted', axis=1)\n",
        "df_sub=pd.merge(df_sub, df_test1[['id', 'is_converted']], on='id', how='left')\n",
        "df_sub['is_converted'] = df_sub['is_converted'].fillna(0)\n",
        "df_sub=pd.merge(df_sub, df_test2[['id', 'is_converted']], on='id', how='left')\n",
        "df_sub['is_converted_y'] = df_sub['is_converted_y'].fillna(0)\n",
        "df_sub['is_converted'] = df_sub['is_converted_x'] + df_sub['is_converted_y']\n",
        "df_sub = df_sub.drop(['is_converted_x', 'is_converted_y'], axis=1)\n",
        "df_sub=pd.merge(df_sub, df_test3[['id', 'is_converted']], on='id', how='left')\n",
        "df_sub['is_converted_y'] = df_sub['is_converted_y'].fillna(0)\n",
        "df_sub['is_converted'] = df_sub['is_converted_x'] + df_sub['is_converted_y']\n",
        "df_sub = df_sub.drop(['is_converted_x', 'is_converted_y'], axis=1)\n",
        "df_sub=pd.merge(df_sub, df_test4[['id', 'is_converted']], on='id', how='left')\n",
        "df_sub['is_converted_y'] = df_sub['is_converted_y'].fillna(0)\n",
        "df_sub['is_converted'] = df_sub['is_converted_x'] + df_sub['is_converted_y']\n",
        "df_sub = df_sub.drop(['is_converted_x', 'is_converted_y'], axis=1)\n",
        "\n",
        "df_sub.head()"
      ]
    },
    {
      "cell_type": "code",
      "execution_count": null,
      "id": "cf1a664f",
      "metadata": {
        "id": "cf1a664f"
      },
      "outputs": [],
      "source": [
        "# DataFrame을 CSV 파일로 저장\n",
        "df_sub.to_csv(\"submission.csv1\", index=False)"
      ]
    },
    {
      "cell_type": "markdown",
      "id": "ec7867ce",
      "metadata": {
        "id": "ec7867ce"
      },
      "source": [
        "**우측 상단의 제출 버튼을 클릭해 결과를 확인하세요**"
      ]
    },
    {
      "cell_type": "markdown",
      "id": "43905688",
      "metadata": {
        "id": "43905688"
      },
      "source": []
    },
    {
      "cell_type": "markdown",
      "id": "8d6b096e",
      "metadata": {
        "id": "8d6b096e"
      },
      "source": []
    }
  ],
  "metadata": {
    "kernelspec": {
      "display_name": "Python 3",
      "name": "python3"
    },
    "language_info": {
      "codemirror_mode": {
        "name": "ipython",
        "version": 3
      },
      "file_extension": ".py",
      "mimetype": "text/x-python",
      "name": "python",
      "nbconvert_exporter": "python",
      "pygments_lexer": "ipython3",
      "version": "3.11.5"
    },
    "colab": {
      "provenance": [],
      "gpuType": "T4"
    },
    "accelerator": "GPU"
  },
  "nbformat": 4,
  "nbformat_minor": 5
}