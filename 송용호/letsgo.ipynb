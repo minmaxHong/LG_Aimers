{
  "nbformat": 4,
  "nbformat_minor": 0,
  "metadata": {
    "colab": {
      "provenance": []
    },
    "kernelspec": {
      "name": "python3",
      "display_name": "Python 3"
    },
    "language_info": {
      "name": "python"
    }
  },
  "cells": [
    {
      "cell_type": "code",
      "execution_count": 124,
      "metadata": {
        "colab": {
          "base_uri": "https://localhost:8080/"
        },
        "id": "oNtGp4UwQMoQ",
        "outputId": "d1fa9a52-af8f-4b81-f095-46b00beff464"
      },
      "outputs": [
        {
          "output_type": "stream",
          "name": "stdout",
          "text": [
            "Drive already mounted at /content/drive; to attempt to forcibly remount, call drive.mount(\"/content/drive\", force_remount=True).\n"
          ]
        }
      ],
      "source": [
        "from google.colab import drive\n",
        "drive.mount('/content/drive')"
      ]
    },
    {
      "cell_type": "code",
      "source": [
        "import pandas as pd\n",
        "df_train = pd.read_csv(\"/content/drive/MyDrive/LGaimers/train.csv\") # 학습용 데이터\n",
        "df_test = pd.read_csv(\"/content/drive/MyDrive/LGaimers/submission.csv\") # 테스트 데이터(제출파일의 데이터)"
      ],
      "metadata": {
        "id": "oliU7fm3QU0p"
      },
      "execution_count": 125,
      "outputs": []
    },
    {
      "cell_type": "code",
      "source": [
        "df_original = pd.DataFrame(df_train['expected_timeline'])\n",
        "\n",
        "# 괜찮은건 일단 빼놓자 보기 편하게\n",
        "conditions = ['less than 3 months', '3 months ~ 6 months', 'more than a year',\n",
        "              '9 months ~ 1 year', '6 months ~ 9 months', 'less than 6 months']\n",
        "df = df_original[~df_original.isin(conditions)]\n",
        "df.dropna(inplace = True)\n",
        "# merge하기 위한 new_index\n",
        "df['new_index'] = df.index\n",
        "df = df.reset_index(drop=True)"
      ],
      "metadata": {
        "id": "3nVFldNlQdMD"
      },
      "execution_count": 126,
      "outputs": []
    },
    {
      "cell_type": "code",
      "source": [
        "def categorize_timeline_refined(description):\n",
        "    description = description.lower()\n",
        "\n",
        "    # Explicit matches and interpretations based on train.csv insights\n",
        "    if 'less than 3 months' in description or 'less_than_3_months' in description:\n",
        "        return 'less than 3 months'\n",
        "    elif any(x in description for x in ['3 months ~ 6 months', '3_months_~_6_months']):\n",
        "        return '3 months ~ 6 months'\n",
        "    elif 'more than a year' in description or 'more then 3 months' in description:\n",
        "        return 'more than a year'\n",
        "    elif any(x in description for x in ['9 months - 1 year', '9_months_~_1_year']):\n",
        "        return '9 months ~ 1 year'\n",
        "    elif 'etc.' in description or 'being followed up' in description:\n",
        "        return 'Uncategorized'\n",
        "    elif any(keyword in description for keyword in ['less than 3 months', 'less_than_3_months', '< 3 months', 'short term', 'immediate']):\n",
        "        return 'less than 3 months'\n",
        "    elif any(keyword in description for keyword in ['3 months ~ 6 months', '3 to 6 months', '3-6 months', 'quarterly']):\n",
        "        return '3 months ~ 6 months'\n",
        "    elif any(keyword in description for keyword in ['more than a year', '> 1 year', 'long term','more_than_a_year']):\n",
        "        return 'more than a year'\n",
        "    elif any(keyword in description for keyword in ['9 months ~ 1 year', '9-12 months', '9 to 12 months']):\n",
        "        return '9 months ~ 1 year'\n",
        "    elif any(keyword in description for keyword in ['6 months ~ 9 months', '6-9 months', '6 to 9 months','6_months_~_9_months']):\n",
        "        return '6 months ~ 9 months'\n",
        "    return 'Uncategorized'\n",
        "\n",
        "# Re-apply the refined categorization function to the dfset\n",
        "df['category_refined'] = df['expected_timeline'].apply(categorize_timeline_refined)\n",
        "\n",
        "df = df[['new_index','expected_timeline'\t,'category_refined'\t]]\n",
        "#df_original = df_original.apply(categorize_timeline_refined)\n",
        "df_original['new_index'] = df_original.index\n",
        "df_original = df_original.reset_index(drop=True)"
      ],
      "metadata": {
        "id": "zCVcfifTQqzo"
      },
      "execution_count": 127,
      "outputs": []
    },
    {
      "cell_type": "code",
      "source": [],
      "metadata": {
        "id": "H5R-GtIySyDK"
      },
      "execution_count": 127,
      "outputs": []
    },
    {
      "cell_type": "code",
      "source": [
        "df.to_csv(\"/content/drive/MyDrive/LGaimers/expected_timeline.csv\", index=False)"
      ],
      "metadata": {
        "id": "TUi0fTaOR4HS"
      },
      "execution_count": 128,
      "outputs": []
    },
    {
      "cell_type": "code",
      "source": [
        "df['category_refined'].value_counts()"
      ],
      "metadata": {
        "colab": {
          "base_uri": "https://localhost:8080/"
        },
        "id": "v_kDKHIVRovF",
        "outputId": "d20286c0-19d3-4a6f-fe88-044f9fd0a85a"
      },
      "execution_count": 129,
      "outputs": [
        {
          "output_type": "execute_result",
          "data": {
            "text/plain": [
              "Uncategorized          723\n",
              "less than 3 months      81\n",
              "3 months ~ 6 months      9\n",
              "9 months ~ 1 year        7\n",
              "more than a year         6\n",
              "6 months ~ 9 months      4\n",
              "Name: category_refined, dtype: int64"
            ]
          },
          "metadata": {},
          "execution_count": 129
        }
      ]
    },
    {
      "cell_type": "code",
      "source": [
        "df_original['expected_timeline'].value_counts().head(20)"
      ],
      "metadata": {
        "colab": {
          "base_uri": "https://localhost:8080/"
        },
        "id": "Vnvf4NvBaE8h",
        "outputId": "47d23997-66f1-48b0-b464-7efebb64fb46"
      },
      "execution_count": 130,
      "outputs": [
        {
          "output_type": "execute_result",
          "data": {
            "text/plain": [
              "less than 3 months                                                                                                    17250\n",
              "3 months ~ 6 months                                                                                                    5026\n",
              "more than a year                                                                                                       3023\n",
              "9 months ~ 1 year                                                                                                      1101\n",
              "6 months ~ 9 months                                                                                                    1098\n",
              "less than 6 months                                                                                                      108\n",
              "etc.                                                                                                                     95\n",
              "less_than_3_months                                                                                                       76\n",
              "being followed up                                                                                                        66\n",
              "being followed up.                                                                                                       24\n",
              "the client is not having any requirement hence closig in system. although the details of idb are mailed to client.       21\n",
              "no requirement                                                                                                           12\n",
              "3_months_~_6_months                                                                                                       9\n",
              "didn't respond                                                                                                            7\n",
              "9_months_~_1_year                                                                                                         6\n",
              "duplicate lead                                                                                                            6\n",
              "details shared                                                                                                            5\n",
              "forwarded to bdo, being followed up                                                                                       5\n",
              "couldn't connect                                                                                                          5\n",
              "quote send                                                                                                                5\n",
              "Name: expected_timeline, dtype: int64"
            ]
          },
          "metadata": {},
          "execution_count": 130
        }
      ]
    },
    {
      "cell_type": "code",
      "source": [
        "# df와 df_original을 'new_index'를 기준으로 병합\n",
        "# how='left'를 사용하여 df_original의 모든 행을 유지하고 해당하는 행에만 category_refined 값을 채웁니다.\n",
        "df_merged = pd.merge(df_original, df[['new_index', 'category_refined']], on='new_index', how='left')\n",
        "# category_refined의 NaN 값을 expected_timeline의 값으로 채움\n",
        "df_merged['category_refined'] = df_merged['category_refined'].fillna(df_merged['expected_timeline'])\n",
        "\n",
        "# 결과 확인\n",
        "print(df_merged['category_refined'].value_counts())\n"
      ],
      "metadata": {
        "id": "FXqiArpcRqw1",
        "colab": {
          "base_uri": "https://localhost:8080/"
        },
        "outputId": "afa40237-7a6b-4fcc-ec6a-96625130265f"
      },
      "execution_count": 131,
      "outputs": [
        {
          "output_type": "stream",
          "name": "stdout",
          "text": [
            "less than 3 months     17331\n",
            "3 months ~ 6 months     5035\n",
            "more than a year        3029\n",
            "9 months ~ 1 year       1108\n",
            "6 months ~ 9 months     1102\n",
            "Uncategorized            723\n",
            "less than 6 months       108\n",
            "Name: category_refined, dtype: int64\n"
          ]
        }
      ]
    },
    {
      "cell_type": "markdown",
      "source": [
        "### 추가 전처맄"
      ],
      "metadata": {
        "id": "TGbFz3TG8l82"
      }
    },
    {
      "cell_type": "code",
      "source": [
        "#noga = pd.read_csv('/content/drive/MyDrive/LGaimers/코드파일/expected_timeline_240216.csv', encoding = 'cp949')"
      ],
      "metadata": {
        "id": "Fptw6ctRYZFk"
      },
      "execution_count": 132,
      "outputs": []
    },
    {
      "cell_type": "code",
      "source": [
        "#noganoga = pd.DataFrame(noga['nogada'].dropna(axis = 0))\n",
        "#noganoga['new_index'] = noganoga.index\n",
        "#noganoga = noganoga.reset_index(drop=True)"
      ],
      "metadata": {
        "id": "gmItpjR98uV3"
      },
      "execution_count": 133,
      "outputs": []
    },
    {
      "cell_type": "code",
      "source": [
        "#noganoga.loc[~noganoga['nogada'].isin(['less than 3 months', '3 months ~ 6 months']), 'nogada'] = None"
      ],
      "metadata": {
        "id": "3Jy4pl92__y_"
      },
      "execution_count": 134,
      "outputs": []
    },
    {
      "cell_type": "code",
      "source": [
        "#noganoga['nogada'].value_counts()"
      ],
      "metadata": {
        "id": "UFrGQamd_HMc"
      },
      "execution_count": 135,
      "outputs": []
    },
    {
      "cell_type": "code",
      "source": [
        "#df_merged = pd.merge(df_merged, noganoga[['new_index', 'nogada']], on='new_index', how='left')"
      ],
      "metadata": {
        "id": "4dSTy50582jd"
      },
      "execution_count": 136,
      "outputs": []
    },
    {
      "cell_type": "code",
      "source": [
        "#df_merged['category_refined'].value_counts()"
      ],
      "metadata": {
        "id": "nD8iUitx9DCD"
      },
      "execution_count": 137,
      "outputs": []
    },
    {
      "cell_type": "code",
      "source": [
        "# nogada 열에서 NaN이 아닌 값들을 expected_timeline에 덮어쓰기\n",
        "#df_merged.loc[df_merged['nogada'].notnull(), 'expected_timeline'] = df_merged['nogada']\n",
        "\n",
        "# 결과 확인"
      ],
      "metadata": {
        "id": "ALJyWyR3-c5c"
      },
      "execution_count": 138,
      "outputs": []
    },
    {
      "cell_type": "code",
      "source": [
        "nogada_dict = {26: 'less than 3 months',\n",
        " 55: 'less than 3 months',\n",
        " 56: 'less than 3 months',\n",
        " 64: '3 months ~ 6 months',\n",
        " 76: 'less than 3 months',\n",
        " 82: 'less than 3 months',\n",
        " 83: 'less than 3 months',\n",
        " 108: 'less than 3 months',\n",
        " 109: 'less than 3 months',\n",
        " 111: 'less than 3 months',\n",
        " 123: 'less than 3 months',\n",
        " 135: 'less than 3 months',\n",
        " 144: 'less than 3 months',\n",
        " 158: 'less than 3 months',\n",
        " 185: 'less than 3 months',\n",
        " 191: 'less than 3 months',\n",
        " 205: 'less than 3 months',\n",
        " 208: '3 months ~ 6 months',\n",
        " 407: 'less than 3 months',\n",
        " 423: 'less than 3 months',\n",
        " 506: '3 months ~ 6 months',\n",
        " 540: '3 months ~ 6 months'}"
      ],
      "metadata": {
        "id": "tqdKrjBZCGLK"
      },
      "execution_count": 139,
      "outputs": []
    },
    {
      "cell_type": "code",
      "source": [
        "# noganoga에서 Null이 아닌 nogada 값을 가지는 행에 대해 new_index를 키로, nogada 값을 value로 하는 딕셔너리 생성\n",
        "\n",
        "# df_merged의 expected_timeline 열에서 딕셔너리의 키(new_index)에 해당하는 값들을 딕셔너리의 value(nogada 값)로 교체\n",
        "df_merged['category_refined'] = df_merged['new_index'].map(nogada_dict).fillna(df_merged['category_refined'])\n",
        "\n",
        "df_merged['category_refined'].value_counts()"
      ],
      "metadata": {
        "colab": {
          "base_uri": "https://localhost:8080/"
        },
        "id": "NYFvredwBhhn",
        "outputId": "adb31497-ca5d-4d80-8290-bc3897f64c51"
      },
      "execution_count": 140,
      "outputs": [
        {
          "output_type": "execute_result",
          "data": {
            "text/plain": [
              "less than 3 months     17336\n",
              "3 months ~ 6 months     5036\n",
              "more than a year        3028\n",
              "9 months ~ 1 year       1107\n",
              "6 months ~ 9 months     1101\n",
              "Uncategorized            723\n",
              "less than 6 months       108\n",
              "Name: category_refined, dtype: int64"
            ]
          },
          "metadata": {},
          "execution_count": 140
        }
      ]
    },
    {
      "cell_type": "code",
      "source": [],
      "metadata": {
        "id": "fbHuUTpYBnnS"
      },
      "execution_count": 140,
      "outputs": []
    },
    {
      "cell_type": "code",
      "source": [],
      "metadata": {
        "id": "n3Os2YeLCIDT"
      },
      "execution_count": 140,
      "outputs": []
    }
  ]
}