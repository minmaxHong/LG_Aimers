{
  "cells": [
    {
      "cell_type": "markdown",
      "id": "017e9265",
      "metadata": {
        "id": "017e9265"
      },
      "source": [
        "# 영업 성공 여부 분류 경진대회"
      ]
    },
    {
      "cell_type": "code",
      "source": [
        "from google.colab import drive\n",
        "drive.mount('/content/drive')"
      ],
      "metadata": {
        "colab": {
          "base_uri": "https://localhost:8080/"
        },
        "id": "QjPVhaM2EKC6",
        "outputId": "98b7874a-9ae0-4a39-d405-092153992480"
      },
      "id": "QjPVhaM2EKC6",
      "execution_count": 2,
      "outputs": [
        {
          "output_type": "stream",
          "name": "stdout",
          "text": [
            "Mounted at /content/drive\n"
          ]
        }
      ]
    },
    {
      "cell_type": "code",
      "source": [],
      "metadata": {
        "id": "dtC4QY4xEK6x"
      },
      "id": "dtC4QY4xEK6x",
      "execution_count": null,
      "outputs": []
    },
    {
      "cell_type": "markdown",
      "id": "acdab431",
      "metadata": {
        "id": "acdab431"
      },
      "source": [
        "## 1. 데이터 확인"
      ]
    },
    {
      "cell_type": "markdown",
      "id": "2b8341e8",
      "metadata": {
        "id": "2b8341e8"
      },
      "source": [
        "### 필수 라이브러리"
      ]
    },
    {
      "cell_type": "code",
      "execution_count": 1,
      "id": "a315cc58",
      "metadata": {
        "id": "a315cc58"
      },
      "outputs": [],
      "source": [
        "import pandas as pd\n",
        "import numpy as np\n",
        "from sklearn.metrics import (\n",
        "    accuracy_score,\n",
        "    confusion_matrix,\n",
        "    f1_score,\n",
        "    precision_score,\n",
        "    recall_score,\n",
        ")\n",
        "from sklearn.model_selection import train_test_split\n",
        "from sklearn.tree import DecisionTreeClassifier"
      ]
    },
    {
      "cell_type": "markdown",
      "id": "412f98cc",
      "metadata": {
        "id": "412f98cc"
      },
      "source": [
        "### 데이터 셋 읽어오기"
      ]
    },
    {
      "cell_type": "code",
      "execution_count": 18,
      "id": "7ada941e",
      "metadata": {
        "id": "7ada941e"
      },
      "outputs": [],
      "source": [
        "df_train = pd.read_csv(\"/content/drive/MyDrive/LGaimers/train.csv\") # 학습용 데이터\n",
        "df_test = pd.read_csv(\"/content/drive/MyDrive/LGaimers/submission.csv\") # 테스트 데이터(제출파일의 데이터)"
      ]
    },
    {
      "cell_type": "code",
      "execution_count": 19,
      "id": "be9af12a",
      "metadata": {
        "colab": {
          "base_uri": "https://localhost:8080/",
          "height": 0
        },
        "id": "be9af12a",
        "outputId": "a6390c00-9c6c-4ce0-c258-8b77f90a56a8"
      },
      "outputs": [
        {
          "output_type": "execute_result",
          "data": {
            "text/plain": [
              "   bant_submit          customer_country business_unit  com_reg_ver_win_rate  \\\n",
              "0          1.0  /Quezon City/Philippines            AS              0.066667   \n",
              "1          1.0        /PH-00/Philippines            AS              0.066667   \n",
              "2          1.0           /Kolkata /India            AS              0.088889   \n",
              "3          1.0        /Bhubaneswar/India            AS              0.088889   \n",
              "4          1.0          /Hyderabad/India            AS              0.088889   \n",
              "\n",
              "   customer_idx          customer_type  enterprise  historical_existing_cnt  \\\n",
              "0         32160           End-Customer  Enterprise                      NaN   \n",
              "1         23122           End-Customer  Enterprise                     12.0   \n",
              "2          1755           End-Customer  Enterprise                    144.0   \n",
              "3          4919           End-Customer  Enterprise                      NaN   \n",
              "4         17126  Specifier/ Influencer  Enterprise                      NaN   \n",
              "\n",
              "   id_strategic_ver  it_strategic_ver  ...  response_corporate  \\\n",
              "0               NaN               NaN  ...               LGEPH   \n",
              "1               NaN               NaN  ...               LGEPH   \n",
              "2               NaN               NaN  ...               LGEIL   \n",
              "3               NaN               NaN  ...               LGEIL   \n",
              "4               NaN               NaN  ...               LGEIL   \n",
              "\n",
              "    expected_timeline  ver_cus ver_pro ver_win_rate_x ver_win_ratio_per_bu  \\\n",
              "0  less than 3 months        1       0       0.003079             0.026846   \n",
              "1  less than 3 months        1       0       0.003079             0.026846   \n",
              "2  less than 3 months        1       0       0.003079             0.026846   \n",
              "3  less than 3 months        1       0       0.003079             0.026846   \n",
              "4  less than 3 months        0       0       0.003079             0.026846   \n",
              "\n",
              "        business_area business_subarea lead_owner is_converted  \n",
              "0  corporate / office      Engineering          0         True  \n",
              "1  corporate / office      Advertising          1         True  \n",
              "2  corporate / office     Construction          2         True  \n",
              "3  corporate / office      IT/Software          3         True  \n",
              "4  corporate / office              NaN          4         True  \n",
              "\n",
              "[5 rows x 29 columns]"
            ],
            "text/html": [
              "\n",
              "  <div id=\"df-82c5d651-857f-463f-abc3-c7175bec631e\" class=\"colab-df-container\">\n",
              "    <div>\n",
              "<style scoped>\n",
              "    .dataframe tbody tr th:only-of-type {\n",
              "        vertical-align: middle;\n",
              "    }\n",
              "\n",
              "    .dataframe tbody tr th {\n",
              "        vertical-align: top;\n",
              "    }\n",
              "\n",
              "    .dataframe thead th {\n",
              "        text-align: right;\n",
              "    }\n",
              "</style>\n",
              "<table border=\"1\" class=\"dataframe\">\n",
              "  <thead>\n",
              "    <tr style=\"text-align: right;\">\n",
              "      <th></th>\n",
              "      <th>bant_submit</th>\n",
              "      <th>customer_country</th>\n",
              "      <th>business_unit</th>\n",
              "      <th>com_reg_ver_win_rate</th>\n",
              "      <th>customer_idx</th>\n",
              "      <th>customer_type</th>\n",
              "      <th>enterprise</th>\n",
              "      <th>historical_existing_cnt</th>\n",
              "      <th>id_strategic_ver</th>\n",
              "      <th>it_strategic_ver</th>\n",
              "      <th>...</th>\n",
              "      <th>response_corporate</th>\n",
              "      <th>expected_timeline</th>\n",
              "      <th>ver_cus</th>\n",
              "      <th>ver_pro</th>\n",
              "      <th>ver_win_rate_x</th>\n",
              "      <th>ver_win_ratio_per_bu</th>\n",
              "      <th>business_area</th>\n",
              "      <th>business_subarea</th>\n",
              "      <th>lead_owner</th>\n",
              "      <th>is_converted</th>\n",
              "    </tr>\n",
              "  </thead>\n",
              "  <tbody>\n",
              "    <tr>\n",
              "      <th>0</th>\n",
              "      <td>1.0</td>\n",
              "      <td>/Quezon City/Philippines</td>\n",
              "      <td>AS</td>\n",
              "      <td>0.066667</td>\n",
              "      <td>32160</td>\n",
              "      <td>End-Customer</td>\n",
              "      <td>Enterprise</td>\n",
              "      <td>NaN</td>\n",
              "      <td>NaN</td>\n",
              "      <td>NaN</td>\n",
              "      <td>...</td>\n",
              "      <td>LGEPH</td>\n",
              "      <td>less than 3 months</td>\n",
              "      <td>1</td>\n",
              "      <td>0</td>\n",
              "      <td>0.003079</td>\n",
              "      <td>0.026846</td>\n",
              "      <td>corporate / office</td>\n",
              "      <td>Engineering</td>\n",
              "      <td>0</td>\n",
              "      <td>True</td>\n",
              "    </tr>\n",
              "    <tr>\n",
              "      <th>1</th>\n",
              "      <td>1.0</td>\n",
              "      <td>/PH-00/Philippines</td>\n",
              "      <td>AS</td>\n",
              "      <td>0.066667</td>\n",
              "      <td>23122</td>\n",
              "      <td>End-Customer</td>\n",
              "      <td>Enterprise</td>\n",
              "      <td>12.0</td>\n",
              "      <td>NaN</td>\n",
              "      <td>NaN</td>\n",
              "      <td>...</td>\n",
              "      <td>LGEPH</td>\n",
              "      <td>less than 3 months</td>\n",
              "      <td>1</td>\n",
              "      <td>0</td>\n",
              "      <td>0.003079</td>\n",
              "      <td>0.026846</td>\n",
              "      <td>corporate / office</td>\n",
              "      <td>Advertising</td>\n",
              "      <td>1</td>\n",
              "      <td>True</td>\n",
              "    </tr>\n",
              "    <tr>\n",
              "      <th>2</th>\n",
              "      <td>1.0</td>\n",
              "      <td>/Kolkata /India</td>\n",
              "      <td>AS</td>\n",
              "      <td>0.088889</td>\n",
              "      <td>1755</td>\n",
              "      <td>End-Customer</td>\n",
              "      <td>Enterprise</td>\n",
              "      <td>144.0</td>\n",
              "      <td>NaN</td>\n",
              "      <td>NaN</td>\n",
              "      <td>...</td>\n",
              "      <td>LGEIL</td>\n",
              "      <td>less than 3 months</td>\n",
              "      <td>1</td>\n",
              "      <td>0</td>\n",
              "      <td>0.003079</td>\n",
              "      <td>0.026846</td>\n",
              "      <td>corporate / office</td>\n",
              "      <td>Construction</td>\n",
              "      <td>2</td>\n",
              "      <td>True</td>\n",
              "    </tr>\n",
              "    <tr>\n",
              "      <th>3</th>\n",
              "      <td>1.0</td>\n",
              "      <td>/Bhubaneswar/India</td>\n",
              "      <td>AS</td>\n",
              "      <td>0.088889</td>\n",
              "      <td>4919</td>\n",
              "      <td>End-Customer</td>\n",
              "      <td>Enterprise</td>\n",
              "      <td>NaN</td>\n",
              "      <td>NaN</td>\n",
              "      <td>NaN</td>\n",
              "      <td>...</td>\n",
              "      <td>LGEIL</td>\n",
              "      <td>less than 3 months</td>\n",
              "      <td>1</td>\n",
              "      <td>0</td>\n",
              "      <td>0.003079</td>\n",
              "      <td>0.026846</td>\n",
              "      <td>corporate / office</td>\n",
              "      <td>IT/Software</td>\n",
              "      <td>3</td>\n",
              "      <td>True</td>\n",
              "    </tr>\n",
              "    <tr>\n",
              "      <th>4</th>\n",
              "      <td>1.0</td>\n",
              "      <td>/Hyderabad/India</td>\n",
              "      <td>AS</td>\n",
              "      <td>0.088889</td>\n",
              "      <td>17126</td>\n",
              "      <td>Specifier/ Influencer</td>\n",
              "      <td>Enterprise</td>\n",
              "      <td>NaN</td>\n",
              "      <td>NaN</td>\n",
              "      <td>NaN</td>\n",
              "      <td>...</td>\n",
              "      <td>LGEIL</td>\n",
              "      <td>less than 3 months</td>\n",
              "      <td>0</td>\n",
              "      <td>0</td>\n",
              "      <td>0.003079</td>\n",
              "      <td>0.026846</td>\n",
              "      <td>corporate / office</td>\n",
              "      <td>NaN</td>\n",
              "      <td>4</td>\n",
              "      <td>True</td>\n",
              "    </tr>\n",
              "  </tbody>\n",
              "</table>\n",
              "<p>5 rows × 29 columns</p>\n",
              "</div>\n",
              "    <div class=\"colab-df-buttons\">\n",
              "\n",
              "  <div class=\"colab-df-container\">\n",
              "    <button class=\"colab-df-convert\" onclick=\"convertToInteractive('df-82c5d651-857f-463f-abc3-c7175bec631e')\"\n",
              "            title=\"Convert this dataframe to an interactive table.\"\n",
              "            style=\"display:none;\">\n",
              "\n",
              "  <svg xmlns=\"http://www.w3.org/2000/svg\" height=\"24px\" viewBox=\"0 -960 960 960\">\n",
              "    <path d=\"M120-120v-720h720v720H120Zm60-500h600v-160H180v160Zm220 220h160v-160H400v160Zm0 220h160v-160H400v160ZM180-400h160v-160H180v160Zm440 0h160v-160H620v160ZM180-180h160v-160H180v160Zm440 0h160v-160H620v160Z\"/>\n",
              "  </svg>\n",
              "    </button>\n",
              "\n",
              "  <style>\n",
              "    .colab-df-container {\n",
              "      display:flex;\n",
              "      gap: 12px;\n",
              "    }\n",
              "\n",
              "    .colab-df-convert {\n",
              "      background-color: #E8F0FE;\n",
              "      border: none;\n",
              "      border-radius: 50%;\n",
              "      cursor: pointer;\n",
              "      display: none;\n",
              "      fill: #1967D2;\n",
              "      height: 32px;\n",
              "      padding: 0 0 0 0;\n",
              "      width: 32px;\n",
              "    }\n",
              "\n",
              "    .colab-df-convert:hover {\n",
              "      background-color: #E2EBFA;\n",
              "      box-shadow: 0px 1px 2px rgba(60, 64, 67, 0.3), 0px 1px 3px 1px rgba(60, 64, 67, 0.15);\n",
              "      fill: #174EA6;\n",
              "    }\n",
              "\n",
              "    .colab-df-buttons div {\n",
              "      margin-bottom: 4px;\n",
              "    }\n",
              "\n",
              "    [theme=dark] .colab-df-convert {\n",
              "      background-color: #3B4455;\n",
              "      fill: #D2E3FC;\n",
              "    }\n",
              "\n",
              "    [theme=dark] .colab-df-convert:hover {\n",
              "      background-color: #434B5C;\n",
              "      box-shadow: 0px 1px 3px 1px rgba(0, 0, 0, 0.15);\n",
              "      filter: drop-shadow(0px 1px 2px rgba(0, 0, 0, 0.3));\n",
              "      fill: #FFFFFF;\n",
              "    }\n",
              "  </style>\n",
              "\n",
              "    <script>\n",
              "      const buttonEl =\n",
              "        document.querySelector('#df-82c5d651-857f-463f-abc3-c7175bec631e button.colab-df-convert');\n",
              "      buttonEl.style.display =\n",
              "        google.colab.kernel.accessAllowed ? 'block' : 'none';\n",
              "\n",
              "      async function convertToInteractive(key) {\n",
              "        const element = document.querySelector('#df-82c5d651-857f-463f-abc3-c7175bec631e');\n",
              "        const dataTable =\n",
              "          await google.colab.kernel.invokeFunction('convertToInteractive',\n",
              "                                                    [key], {});\n",
              "        if (!dataTable) return;\n",
              "\n",
              "        const docLinkHtml = 'Like what you see? Visit the ' +\n",
              "          '<a target=\"_blank\" href=https://colab.research.google.com/notebooks/data_table.ipynb>data table notebook</a>'\n",
              "          + ' to learn more about interactive tables.';\n",
              "        element.innerHTML = '';\n",
              "        dataTable['output_type'] = 'display_data';\n",
              "        await google.colab.output.renderOutput(dataTable, element);\n",
              "        const docLink = document.createElement('div');\n",
              "        docLink.innerHTML = docLinkHtml;\n",
              "        element.appendChild(docLink);\n",
              "      }\n",
              "    </script>\n",
              "  </div>\n",
              "\n",
              "\n",
              "<div id=\"df-d956463d-2857-4c79-abdb-d55c64718746\">\n",
              "  <button class=\"colab-df-quickchart\" onclick=\"quickchart('df-d956463d-2857-4c79-abdb-d55c64718746')\"\n",
              "            title=\"Suggest charts\"\n",
              "            style=\"display:none;\">\n",
              "\n",
              "<svg xmlns=\"http://www.w3.org/2000/svg\" height=\"24px\"viewBox=\"0 0 24 24\"\n",
              "     width=\"24px\">\n",
              "    <g>\n",
              "        <path d=\"M19 3H5c-1.1 0-2 .9-2 2v14c0 1.1.9 2 2 2h14c1.1 0 2-.9 2-2V5c0-1.1-.9-2-2-2zM9 17H7v-7h2v7zm4 0h-2V7h2v10zm4 0h-2v-4h2v4z\"/>\n",
              "    </g>\n",
              "</svg>\n",
              "  </button>\n",
              "\n",
              "<style>\n",
              "  .colab-df-quickchart {\n",
              "      --bg-color: #E8F0FE;\n",
              "      --fill-color: #1967D2;\n",
              "      --hover-bg-color: #E2EBFA;\n",
              "      --hover-fill-color: #174EA6;\n",
              "      --disabled-fill-color: #AAA;\n",
              "      --disabled-bg-color: #DDD;\n",
              "  }\n",
              "\n",
              "  [theme=dark] .colab-df-quickchart {\n",
              "      --bg-color: #3B4455;\n",
              "      --fill-color: #D2E3FC;\n",
              "      --hover-bg-color: #434B5C;\n",
              "      --hover-fill-color: #FFFFFF;\n",
              "      --disabled-bg-color: #3B4455;\n",
              "      --disabled-fill-color: #666;\n",
              "  }\n",
              "\n",
              "  .colab-df-quickchart {\n",
              "    background-color: var(--bg-color);\n",
              "    border: none;\n",
              "    border-radius: 50%;\n",
              "    cursor: pointer;\n",
              "    display: none;\n",
              "    fill: var(--fill-color);\n",
              "    height: 32px;\n",
              "    padding: 0;\n",
              "    width: 32px;\n",
              "  }\n",
              "\n",
              "  .colab-df-quickchart:hover {\n",
              "    background-color: var(--hover-bg-color);\n",
              "    box-shadow: 0 1px 2px rgba(60, 64, 67, 0.3), 0 1px 3px 1px rgba(60, 64, 67, 0.15);\n",
              "    fill: var(--button-hover-fill-color);\n",
              "  }\n",
              "\n",
              "  .colab-df-quickchart-complete:disabled,\n",
              "  .colab-df-quickchart-complete:disabled:hover {\n",
              "    background-color: var(--disabled-bg-color);\n",
              "    fill: var(--disabled-fill-color);\n",
              "    box-shadow: none;\n",
              "  }\n",
              "\n",
              "  .colab-df-spinner {\n",
              "    border: 2px solid var(--fill-color);\n",
              "    border-color: transparent;\n",
              "    border-bottom-color: var(--fill-color);\n",
              "    animation:\n",
              "      spin 1s steps(1) infinite;\n",
              "  }\n",
              "\n",
              "  @keyframes spin {\n",
              "    0% {\n",
              "      border-color: transparent;\n",
              "      border-bottom-color: var(--fill-color);\n",
              "      border-left-color: var(--fill-color);\n",
              "    }\n",
              "    20% {\n",
              "      border-color: transparent;\n",
              "      border-left-color: var(--fill-color);\n",
              "      border-top-color: var(--fill-color);\n",
              "    }\n",
              "    30% {\n",
              "      border-color: transparent;\n",
              "      border-left-color: var(--fill-color);\n",
              "      border-top-color: var(--fill-color);\n",
              "      border-right-color: var(--fill-color);\n",
              "    }\n",
              "    40% {\n",
              "      border-color: transparent;\n",
              "      border-right-color: var(--fill-color);\n",
              "      border-top-color: var(--fill-color);\n",
              "    }\n",
              "    60% {\n",
              "      border-color: transparent;\n",
              "      border-right-color: var(--fill-color);\n",
              "    }\n",
              "    80% {\n",
              "      border-color: transparent;\n",
              "      border-right-color: var(--fill-color);\n",
              "      border-bottom-color: var(--fill-color);\n",
              "    }\n",
              "    90% {\n",
              "      border-color: transparent;\n",
              "      border-bottom-color: var(--fill-color);\n",
              "    }\n",
              "  }\n",
              "</style>\n",
              "\n",
              "  <script>\n",
              "    async function quickchart(key) {\n",
              "      const quickchartButtonEl =\n",
              "        document.querySelector('#' + key + ' button');\n",
              "      quickchartButtonEl.disabled = true;  // To prevent multiple clicks.\n",
              "      quickchartButtonEl.classList.add('colab-df-spinner');\n",
              "      try {\n",
              "        const charts = await google.colab.kernel.invokeFunction(\n",
              "            'suggestCharts', [key], {});\n",
              "      } catch (error) {\n",
              "        console.error('Error during call to suggestCharts:', error);\n",
              "      }\n",
              "      quickchartButtonEl.classList.remove('colab-df-spinner');\n",
              "      quickchartButtonEl.classList.add('colab-df-quickchart-complete');\n",
              "    }\n",
              "    (() => {\n",
              "      let quickchartButtonEl =\n",
              "        document.querySelector('#df-d956463d-2857-4c79-abdb-d55c64718746 button');\n",
              "      quickchartButtonEl.style.display =\n",
              "        google.colab.kernel.accessAllowed ? 'block' : 'none';\n",
              "    })();\n",
              "  </script>\n",
              "</div>\n",
              "\n",
              "    </div>\n",
              "  </div>\n"
            ]
          },
          "metadata": {},
          "execution_count": 19
        }
      ],
      "source": [
        "df_train.head() # 학습용 데이터 살펴보기"
      ]
    },
    {
      "cell_type": "markdown",
      "id": "af526c13",
      "metadata": {
        "id": "af526c13"
      },
      "source": [
        "## 2. 데이터 전처리"
      ]
    },
    {
      "cell_type": "code",
      "execution_count": 20,
      "id": "cd64b902",
      "metadata": {
        "colab": {
          "base_uri": "https://localhost:8080/"
        },
        "id": "cd64b902",
        "outputId": "40fa48a7-27ad-4657-cb32-39fad3de95d4"
      },
      "outputs": [
        {
          "output_type": "stream",
          "name": "stdout",
          "text": [
            "(59299, 29) (5271, 30)\n"
          ]
        }
      ],
      "source": [
        "print(df_train.shape, df_test.shape)"
      ]
    },
    {
      "cell_type": "code",
      "execution_count": 21,
      "id": "f2f99b4d",
      "metadata": {
        "colab": {
          "base_uri": "https://localhost:8080/"
        },
        "id": "f2f99b4d",
        "outputId": "057b2f95-dca2-4e92-ae7a-ada41dbf0aec"
      },
      "outputs": [
        {
          "output_type": "stream",
          "name": "stdout",
          "text": [
            "(59299, 29) (5271, 30)\n"
          ]
        }
      ],
      "source": [
        "print(df_train.shape, df_test.shape)"
      ]
    },
    {
      "cell_type": "markdown",
      "source": [],
      "metadata": {
        "id": "-vKt8fJrEYqW"
      },
      "id": "-vKt8fJrEYqW"
    },
    {
      "cell_type": "markdown",
      "source": [
        "### 데이터 전처리"
      ],
      "metadata": {
        "id": "acwn0PEOdzd0"
      },
      "id": "acwn0PEOdzd0"
    },
    {
      "cell_type": "markdown",
      "source": [
        "####1.[bant_submit]\n",
        "그냥 Object화 시키고 싶음 그게 그냥 Label encode인가"
      ],
      "metadata": {
        "id": "LEs_VY_XfByT"
      },
      "id": "LEs_VY_XfByT"
    },
    {
      "cell_type": "markdown",
      "source": [
        "####2. [customer_country]\n",
        "'/' 기준 나라만 쏙 빼오기"
      ],
      "metadata": {
        "id": "g-F7qGnBZgij"
      },
      "id": "g-F7qGnBZgij"
    },
    {
      "cell_type": "code",
      "source": [
        "import numpy as np\n",
        "import pandas as pd\n",
        "\n",
        "# 'customer_country' 컬럼에서 나라 이름을 추출하는 함수\n",
        "def extract_country_name(x):\n",
        "    if pd.isnull(x):\n",
        "        return 0\n",
        "    else:\n",
        "        a = x.split(\"/\")\n",
        "        return a[-1]\n",
        "\n",
        "# 'customer_country' 컬럼에서 0값을 최빈값 상위 10개의 나라로 랜덤하게 채우는 함수\n",
        "def fill_zero_with_top_countries(df):\n",
        "    # 'customer_country'가 0인 행의 인덱스를 찾습니다.\n",
        "    index_0 = df[df['customer_country'] == 0].index\n",
        "\n",
        "    # 'customer_country'의 최빈값 상위 10개를 비율대로 랜덤하게 선택합니다.\n",
        "    top10_countries = df['customer_country'].value_counts().head(10)\n",
        "    top10_countries_prob = top10_countries / top10_countries.sum()\n",
        "\n",
        "    # 랜덤하게 선택한 나라로 0값을 채웁니다.\n",
        "    df.loc[index_0, 'customer_country'] = np.random.choice(top10_countries.index, size=len(index_0), p=top10_countries_prob)\n",
        "\n",
        "# 'customer_country' 컬럼에서 나라 이름을 추출합니다.\n",
        "df_train[\"customer_country\"] = df_train[\"customer_country\"].apply(extract_country_name)\n",
        "df_test[\"customer_country\"] = df_test[\"customer_country\"].apply(extract_country_name)\n",
        "df_train[\"customer_country.1\"]=df_train[\"customer_country.1\"].apply(extract_country_name)\n",
        "df_test[\"customer_country.1\"]=df_test[\"customer_country.1\"].apply(extract_country_name)\n",
        "\n",
        "# 'customer_country' 컬럼에서 0값을 최빈값 상위 10개의 나라로 랜덤하게 채웁니다.\n",
        "fill_zero_with_top_countries(df_train)\n",
        "fill_zero_with_top_countries(df_test)\n"
      ],
      "metadata": {
        "id": "29HHmxqQiJ_I"
      },
      "execution_count": 22,
      "outputs": [],
      "id": "29HHmxqQiJ_I"
    },
    {
      "cell_type": "markdown",
      "source": [
        "####3.[business_unit]\n",
        "AS,ID,IT만 가져가고 나머진 짤라"
      ],
      "metadata": {
        "id": "p22lWzVmdysC"
      },
      "id": "p22lWzVmdysC"
    },
    {
      "cell_type": "code",
      "source": [
        "df_train = df_train[df_train['business_unit'].isin(['AS', 'ID', 'IT'])]\n",
        "df_test = df_test[df_test['business_unit'].isin(['AS', 'ID', 'IT'])]\n"
      ],
      "metadata": {
        "id": "1K_T7b9Xdl0i"
      },
      "execution_count": 23,
      "outputs": [],
      "id": "1K_T7b9Xdl0i"
    },
    {
      "cell_type": "markdown",
      "source": [
        "#### 4.[com_reg_ver_win_rate]\n",
        "어케할지 몰라 보류"
      ],
      "metadata": {
        "id": "HhPWV0OUe5vQ"
      },
      "id": "HhPWV0OUe5vQ"
    },
    {
      "cell_type": "markdown",
      "source": [
        "####5 [customer_idx]\n",
        "25096이 무조건 'is_converted'값이 True임 하지만 test_data에는 없음\n",
        "고로 컷!\n",
        "\n",
        "id =47466이 가장 많이 나옴. test에서도 동일한 분포\n",
        "고로, 47466 기준으로 이진분류."
      ],
      "metadata": {
        "id": "u6FDPFrsfT7a"
      },
      "id": "u6FDPFrsfT7a"
    },
    {
      "cell_type": "code",
      "source": [
        "del_id=[25096]\n",
        "df_train=df_train[~df_train[\"customer_idx\"].isin(del_id)]\n",
        "df_train = df_train[(df_train[\"business_unit\"] != \"CM\") & (df_train[\"business_unit\"] != \"Solution\")]"
      ],
      "metadata": {
        "id": "i1DuaczSfg_J"
      },
      "execution_count": 24,
      "outputs": [],
      "id": "i1DuaczSfg_J"
    },
    {
      "cell_type": "code",
      "source": [
        "def change_value(x):\n",
        "    if x == 47466:\n",
        "        return 1\n",
        "    else:\n",
        "        return 0\n",
        "\n",
        "df_train['customer_idx'] = df_train['customer_idx'].apply(change_value)\n",
        "df_test['customer_idx'] = df_test['customer_idx'].apply(change_value)\n",
        "\n"
      ],
      "metadata": {
        "id": "NpdT8OR7Ancz"
      },
      "execution_count": 25,
      "outputs": [],
      "id": "NpdT8OR7Ancz"
    },
    {
      "cell_type": "code",
      "source": [],
      "metadata": {
        "id": "9aIdXdlPccpw"
      },
      "execution_count": 25,
      "outputs": [],
      "id": "9aIdXdlPccpw"
    },
    {
      "cell_type": "markdown",
      "source": [
        "####6[customer_type]\n",
        "상위 3개 아니면 others로 변경"
      ],
      "metadata": {
        "id": "8KvBXQkUezx7"
      },
      "id": "8KvBXQkUezx7"
    },
    {
      "cell_type": "code",
      "source": [
        "def preprocess_customer_type(df):\n",
        "    # 'End-Customer'를 'End Customer'로 변경\n",
        "    df['customer_type'] = df['customer_type'].replace('End-Customer', 'End Customer')\n",
        "\n",
        "    # 가장 많이 나오는 변수 상위 3개를 저장\n",
        "    top3_types = df['customer_type'].value_counts().index[:3]\n",
        "\n",
        "    # 상위 3개에 속하지 않는 경우 'others'로 변경\n",
        "    df['customer_type'] = df['customer_type'].apply(lambda x: x if x in top3_types else 'others')\n",
        "\n",
        "    return df\n",
        "\n",
        "# 함수를 훈련 데이터와 테스트 데이터에 적용\n",
        "df_train = preprocess_customer_type(df_train)\n",
        "df_test = preprocess_customer_type(df_test)\n"
      ],
      "metadata": {
        "id": "U4H4WjnWfBjt"
      },
      "execution_count": 26,
      "outputs": [],
      "id": "U4H4WjnWfBjt"
    },
    {
      "cell_type": "markdown",
      "source": [
        "####7[historical_existing_cnt]\n",
        "\n",
        "ㅈㄴ 중요해보임\n",
        "떠오르는 방안은 2가지\n",
        "1. 4를 기준으로 단골 손님  or 그냥 손님으로 나누냐\n",
        "\n",
        "2. 예측을 해서 결측값을 채워 넣을까\n",
        "->로그 변환은 필요해 보인다\n",
        "---\n"
      ],
      "metadata": {
        "id": "f20a8Aeagl2g"
      },
      "id": "f20a8Aeagl2g"
    },
    {
      "cell_type": "markdown",
      "source": [
        "####8[id, it, idit]\n",
        " 'id_strategic_ver', 'it_strategic_ver' 열을 삭제"
      ],
      "metadata": {
        "id": "Bcf9kR8fi60d"
      },
      "id": "Bcf9kR8fi60d"
    },
    {
      "cell_type": "code",
      "source": [
        "df_train = df_train.drop(['id_strategic_ver', 'it_strategic_ver'], axis=1)\n",
        "df_test = df_test.drop(['id_strategic_ver', 'it_strategic_ver'], axis=1)\n"
      ],
      "metadata": {
        "id": "h1q6-yo-jjaQ"
      },
      "execution_count": 27,
      "outputs": [],
      "id": "h1q6-yo-jjaQ"
    },
    {
      "cell_type": "markdown",
      "source": [],
      "metadata": {
        "id": "2GdtowMdjj7R"
      },
      "id": "2GdtowMdjj7R"
    },
    {
      "cell_type": "markdown",
      "source": [
        "####9[customer_job]\n",
        "걍 label?"
      ],
      "metadata": {
        "id": "tYmdgy56koS-"
      },
      "id": "tYmdgy56koS-"
    },
    {
      "cell_type": "markdown",
      "source": [
        "####10[lead_desc_length]\n",
        "진짜 ㅁㄹ겠음"
      ],
      "metadata": {
        "id": "AoW2IW_pku2X"
      },
      "id": "AoW2IW_pku2X"
    },
    {
      "cell_type": "markdown",
      "source": [
        "####11[inquiry_type]\n",
        "원핫 인코딩"
      ],
      "metadata": {
        "id": "yMNUm0Sik4X9"
      },
      "id": "yMNUm0Sik4X9"
    },
    {
      "cell_type": "markdown",
      "id": "2f978109",
      "metadata": {
        "id": "2f978109"
      },
      "source": [
        "### 무조건 converted하면서 test에 없는 회사인 25096은 삭제"
      ]
    },
    {
      "cell_type": "code",
      "execution_count": 28,
      "id": "e7152bcb",
      "metadata": {
        "id": "e7152bcb"
      },
      "outputs": [],
      "source": [
        "del_id=[25096]\n",
        "df_train=df_train[~df_train[\"customer_idx\"].isin(del_id)]\n",
        "df_train = df_train[(df_train[\"business_unit\"] != \"CM\") & (df_train[\"business_unit\"] != \"Solution\")]"
      ]
    },
    {
      "cell_type": "markdown",
      "id": "0c15e60d",
      "metadata": {
        "id": "0c15e60d"
      },
      "source": [
        "### 문의를 한 횟수, 문의하면서 converted 한 횟수, converted한 비율을 회사별로 계산"
      ]
    },
    {
      "cell_type": "code",
      "execution_count": 29,
      "id": "2a39db10",
      "metadata": {
        "id": "2a39db10"
      },
      "outputs": [],
      "source": [
        "df_cus = df_train.groupby(\"customer_idx\")[\"is_converted\"].count().reset_index()\n",
        "df_real_cus = df_train.groupby(\"customer_idx\")[\"is_converted\"].sum().reset_index()\n",
        "df = pd.merge(df_cus, df_real_cus, on=\"customer_idx\")\n",
        "df[\"cus_ratio\"] = df[\"is_converted_y\"] / df[\"is_converted_x\"]\n",
        "df = df.rename(columns={\"is_converted_x\": \"cus_query_cnt\", \"is_converted_y\" : \"cus_converted_cnt\"})\n",
        "df = df[df[\"cus_query_cnt\"]>=2]\n",
        "df_train = pd.merge(df_train, df, on='customer_idx', how=\"left\")\n",
        "df_test = pd.merge(df_test, df, on='customer_idx', how=\"left\")"
      ]
    },
    {
      "cell_type": "code",
      "execution_count": 30,
      "id": "717f9975",
      "metadata": {
        "id": "717f9975"
      },
      "outputs": [],
      "source": [
        "df_cus = df_train.groupby(\"lead_owner\")[\"is_converted\"].count().reset_index()\n",
        "df_real_cus = df_train.groupby(\"lead_owner\")[\"is_converted\"].sum().reset_index()\n",
        "df = pd.merge(df_cus, df_real_cus, on=\"lead_owner\")\n",
        "df[\"lead_ratio\"] = df[\"is_converted_y\"] / df[\"is_converted_x\"]\n",
        "df = df.rename(columns={\"is_converted_x\": \"lead_query_cnt\", \"is_converted_y\" : \"lead_converted_cnt\"})\n",
        "df=df[df[\"lead_query_cnt\"]>=2]\n",
        "df_train = pd.merge(df_train, df, on='lead_owner', how=\"left\")\n",
        "df_test = pd.merge(df_test, df, on='lead_owner', how=\"left\")"
      ]
    },
    {
      "cell_type": "markdown",
      "id": "4bd47e00",
      "metadata": {
        "id": "4bd47e00"
      },
      "source": [
        "### 레이블 인코딩"
      ]
    },
    {
      "cell_type": "code",
      "execution_count": 32,
      "id": "0b42b1a1",
      "metadata": {
        "id": "0b42b1a1"
      },
      "outputs": [],
      "source": [
        "def label_encoding(series: pd.Series) -> pd.Series:\n",
        "    \"\"\"범주형 데이터를 시리즈 형태로 받아 숫자형 데이터로 변환합니다.\"\"\"\n",
        "\n",
        "    my_dict = {}\n",
        "\n",
        "    # 모든 요소를 문자열로 변환\n",
        "    series = series.astype(str)\n",
        "\n",
        "    for idx, value in enumerate(sorted(series.unique())):\n",
        "        my_dict[value] = idx\n",
        "    series = series.map(my_dict)\n",
        "\n",
        "    return series"
      ]
    },
    {
      "cell_type": "code",
      "execution_count": 33,
      "id": "881a4612",
      "metadata": {
        "colab": {
          "base_uri": "https://localhost:8080/"
        },
        "id": "881a4612",
        "outputId": "15f94f0c-6d7e-4b68-9db9-e2532326b747"
      },
      "outputs": [
        {
          "output_type": "stream",
          "name": "stderr",
          "text": [
            "<ipython-input-33-4da0d8826879>:39: FutureWarning: Behavior when concatenating bool-dtype and numeric-dtype arrays is deprecated; in a future version these will cast to object dtype (instead of coercing bools to numeric values). To retain the old behavior, explicitly cast bool-dtype arrays to numeric dtype.\n",
            "  df_all = pd.concat([df_train, df_test])\n"
          ]
        }
      ],
      "source": [
        "# 레이블 인코딩할 칼럼들\n",
        "label_columns = [\n",
        "    \"customer_country\",\n",
        "    \"business_subarea\",\n",
        "    # \"business_area\",\n",
        "    # \"business_unit\",\n",
        "    \"customer_type\",\n",
        "    # \"enterprise\",\n",
        "    \"customer_job\",\n",
        "    \"inquiry_type\",\n",
        "    \"product_category\",\n",
        "    \"product_subcategory\",\n",
        "    \"product_modelname\",\n",
        "    \"customer_country.1\",\n",
        "    \"customer_position\",\n",
        "    \"response_corporate\",\n",
        "    \"expected_timeline\",\n",
        "]\n",
        "\n",
        "#원핫 인코딩할 칼럼들\n",
        "one_hot_columns=[\n",
        "    # \"customer_country\",\n",
        "    # \"business_subarea\",\n",
        "    \"business_area\",\n",
        "    \"business_unit\",\n",
        "    # \"customer_type\",\n",
        "    \"enterprise\",\n",
        "    # \"customer_job\",\n",
        "    # \"inquiry_type\",\n",
        "    # \"product_category\",\n",
        "    # \"product_subcategory\",\n",
        "    # \"product_modelname\",\n",
        "    # \"customer_country.1\",\n",
        "    # \"customer_position\",\n",
        "    # \"response_corporate\",\n",
        "    # \"expected_timeline\",\n",
        "]\n",
        "\n",
        "df_all = pd.concat([df_train, df_test])\n",
        "\n",
        "for col in label_columns:\n",
        "    df_all[col] = label_encoding(df_all[col])\n",
        "\n",
        "df_all = pd.get_dummies(df_all, columns=one_hot_columns)"
      ]
    },
    {
      "cell_type": "code",
      "execution_count": 34,
      "id": "24b703d9",
      "metadata": {
        "id": "24b703d9"
      },
      "outputs": [],
      "source": [
        "# \"com_reg_ver_win_rate\""
      ]
    },
    {
      "cell_type": "code",
      "execution_count": 35,
      "id": "4d4377e9",
      "metadata": {
        "id": "4d4377e9"
      },
      "outputs": [],
      "source": [
        "drop_columns=[\n",
        "            #   \"id_strategic_ver\",\n",
        "            #   \"it_strategic_ver\",\n",
        "            #   \"idit_strategic_ver\",\n",
        "            #   \"ver_cus\",\n",
        "            #   \"ver_pro\",\n",
        "            # \"ver_win_rate_x\",\n",
        "            # \"ver_win_ratio_per_bu\",\n",
        "            # \"expected_timeline\",\n",
        "            # \"com_reg_ver_win_rate\"\n",
        "            ]\n",
        "\n",
        "for column in drop_columns:\n",
        "    df_all.drop(columns=column, inplace=True)"
      ]
    },
    {
      "cell_type": "markdown",
      "id": "3a477f93",
      "metadata": {
        "id": "3a477f93"
      },
      "source": [
        "다시 학습 데이터와 제출 데이터를 분리합니다."
      ]
    },
    {
      "cell_type": "code",
      "execution_count": 36,
      "id": "ff10c5fb",
      "metadata": {
        "id": "ff10c5fb"
      },
      "outputs": [],
      "source": [
        "df_train = df_all.iloc[: len(df_train)]\n",
        "df_test = df_all.iloc[len(df_train) :]"
      ]
    },
    {
      "cell_type": "code",
      "execution_count": 37,
      "id": "88cd43cf",
      "metadata": {
        "id": "88cd43cf"
      },
      "outputs": [],
      "source": [
        "df_train = df_train.fillna(0)\n",
        "df_test = df_test.fillna(0)"
      ]
    },
    {
      "cell_type": "code",
      "execution_count": 38,
      "id": "f429b824",
      "metadata": {
        "id": "f429b824"
      },
      "outputs": [],
      "source": [
        "df_train=df_train.drop(columns=\"id\")"
      ]
    },
    {
      "cell_type": "code",
      "execution_count": 39,
      "id": "ed33b6f0",
      "metadata": {
        "colab": {
          "base_uri": "https://localhost:8080/"
        },
        "id": "ed33b6f0",
        "outputId": "4c715bb5-2f8b-4b30-ad0e-ed54dd1b3853"
      },
      "outputs": [
        {
          "output_type": "execute_result",
          "data": {
            "text/plain": [
              "(56582, 47)"
            ]
          },
          "metadata": {},
          "execution_count": 39
        }
      ],
      "source": [
        "df_train.shape"
      ]
    },
    {
      "cell_type": "code",
      "execution_count": 40,
      "id": "191d2065",
      "metadata": {
        "id": "191d2065"
      },
      "outputs": [],
      "source": [
        "X_train= df_train.drop(\"is_converted\", axis=1)\n",
        "y_train= df_train[\"is_converted\"]\n",
        "X_test = df_test.drop([\"is_converted\", \"id\"], axis=1)"
      ]
    },
    {
      "cell_type": "code",
      "execution_count": 41,
      "id": "581b7c95",
      "metadata": {
        "id": "581b7c95"
      },
      "outputs": [],
      "source": [
        "X_train.reset_index(drop=True, inplace=True)\n",
        "y_train.reset_index(drop=True, inplace=True)"
      ]
    },
    {
      "cell_type": "markdown",
      "id": "79ecfa9b",
      "metadata": {
        "id": "79ecfa9b"
      },
      "source": [
        "## 3. 모델 학습"
      ]
    },
    {
      "cell_type": "markdown",
      "id": "3caf257b",
      "metadata": {
        "id": "3caf257b"
      },
      "source": [
        "### 모델 정의"
      ]
    },
    {
      "cell_type": "code",
      "execution_count": 42,
      "id": "3ea295fe",
      "metadata": {
        "colab": {
          "base_uri": "https://localhost:8080/"
        },
        "id": "3ea295fe",
        "outputId": "6098c891-a80a-4dde-b45c-6b0f38da8a7e"
      },
      "outputs": [
        {
          "output_type": "execute_result",
          "data": {
            "text/plain": [
              "array([1., 0.])"
            ]
          },
          "metadata": {},
          "execution_count": 42
        }
      ],
      "source": [
        "y_train.unique()"
      ]
    },
    {
      "cell_type": "code",
      "execution_count": 43,
      "id": "881e7ad9",
      "metadata": {
        "id": "881e7ad9"
      },
      "outputs": [],
      "source": [
        "params={\n",
        "    'objective': 'binary',\n",
        "    'learning_rate':0.01,\n",
        "    \"random_state\":0,\n",
        "}"
      ]
    },
    {
      "cell_type": "code",
      "source": [
        "!pip install -q catboost"
      ],
      "metadata": {
        "colab": {
          "base_uri": "https://localhost:8080/"
        },
        "id": "FdkCcctSFhOV",
        "outputId": "f5a7a90f-5d62-4c9d-daeb-ac9dcb01e95b"
      },
      "id": "FdkCcctSFhOV",
      "execution_count": 45,
      "outputs": [
        {
          "output_type": "stream",
          "name": "stdout",
          "text": [
            "\u001b[2K     \u001b[90m━━━━━━━━━━━━━━━━━━━━━━━━━━━━━━━━━━━━━━━━\u001b[0m \u001b[32m98.7/98.7 MB\u001b[0m \u001b[31m8.4 MB/s\u001b[0m eta \u001b[36m0:00:00\u001b[0m\n",
            "\u001b[?25h"
          ]
        }
      ]
    },
    {
      "cell_type": "code",
      "execution_count": 46,
      "id": "b6314b37",
      "metadata": {
        "id": "b6314b37"
      },
      "outputs": [],
      "source": [
        "from lightgbm import LGBMClassifier\n",
        "from catboost import CatBoostClassifier\n",
        "from xgboost import XGBClassifier\n",
        "from sklearn.neural_network import MLPClassifier\n",
        "\n",
        "# model = DecisionTreeClassifier(random_state=0)\n",
        "model = LGBMClassifier(**params, class_weight={0: 10, 1:1})\n",
        "# model = XGBClassifier(random_state=0)\n",
        "# model = MLPClassifier(random_state=0)"
      ]
    },
    {
      "cell_type": "markdown",
      "id": "06bf0407",
      "metadata": {
        "id": "06bf0407"
      },
      "source": [
        "## 베이스라인 모델"
      ]
    },
    {
      "cell_type": "code",
      "execution_count": 47,
      "id": "dbb6ca94",
      "metadata": {
        "colab": {
          "base_uri": "https://localhost:8080/"
        },
        "id": "dbb6ca94",
        "outputId": "1ba17560-c8f9-45ad-c744-68c07f13d155"
      },
      "outputs": [
        {
          "output_type": "stream",
          "name": "stdout",
          "text": [
            "######################################## 폴드1 / 폴드5 ########################################\n",
            "[LightGBM] [Warning] Found whitespace in feature_names, replace with underlines\n",
            "[LightGBM] [Info] Number of positive: 1942, number of negative: 43323\n",
            "[LightGBM] [Info] Auto-choosing row-wise multi-threading, the overhead of testing was 0.070097 seconds.\n",
            "You can set `force_row_wise=true` to remove the overhead.\n",
            "And if memory is not enough, you can set `force_col_wise=true`.\n",
            "[LightGBM] [Info] Total Bins 2654\n",
            "[LightGBM] [Info] Number of data points in the train set: 45265, number of used features: 46\n",
            "[LightGBM] [Warning] Found whitespace in feature_names, replace with underlines\n",
            "[LightGBM] [Info] [binary:BoostFromScore]: pavg=0.042903 -> initscore=-3.104965\n",
            "[LightGBM] [Info] Start training from score -3.104965\n",
            "Training until validation scores don't improve for 100 rounds\n",
            "Early stopping, best iteration is:\n",
            "[147]\tvalid_0's binary_logloss: 0.0886537\tvalid_0's f1: 0.652212\n",
            "폴드 1 f1 score: 0.6522116218560277\n",
            "\n",
            "######################################## 폴드2 / 폴드5 ########################################\n",
            "[LightGBM] [Warning] Found whitespace in feature_names, replace with underlines\n",
            "[LightGBM] [Info] Number of positive: 1942, number of negative: 43323\n",
            "[LightGBM] [Info] Auto-choosing row-wise multi-threading, the overhead of testing was 0.011723 seconds.\n",
            "You can set `force_row_wise=true` to remove the overhead.\n",
            "And if memory is not enough, you can set `force_col_wise=true`.\n",
            "[LightGBM] [Info] Total Bins 2669\n",
            "[LightGBM] [Info] Number of data points in the train set: 45265, number of used features: 46\n",
            "[LightGBM] [Warning] Found whitespace in feature_names, replace with underlines\n",
            "[LightGBM] [Info] [binary:BoostFromScore]: pavg=0.042903 -> initscore=-3.104965\n",
            "[LightGBM] [Info] Start training from score -3.104965\n",
            "Training until validation scores don't improve for 100 rounds\n",
            "Early stopping, best iteration is:\n",
            "[152]\tvalid_0's binary_logloss: 0.0878845\tvalid_0's f1: 0.634016\n",
            "폴드 2 f1 score: 0.6340160284951023\n",
            "\n",
            "######################################## 폴드3 / 폴드5 ########################################\n",
            "[LightGBM] [Warning] Found whitespace in feature_names, replace with underlines\n",
            "[LightGBM] [Info] Number of positive: 1942, number of negative: 43324\n",
            "[LightGBM] [Info] Auto-choosing row-wise multi-threading, the overhead of testing was 0.011400 seconds.\n",
            "You can set `force_row_wise=true` to remove the overhead.\n",
            "And if memory is not enough, you can set `force_col_wise=true`.\n",
            "[LightGBM] [Info] Total Bins 2642\n",
            "[LightGBM] [Info] Number of data points in the train set: 45266, number of used features: 46\n",
            "[LightGBM] [Warning] Found whitespace in feature_names, replace with underlines\n",
            "[LightGBM] [Info] [binary:BoostFromScore]: pavg=0.042902 -> initscore=-3.104988\n",
            "[LightGBM] [Info] Start training from score -3.104988\n",
            "Training until validation scores don't improve for 100 rounds\n",
            "Early stopping, best iteration is:\n",
            "[171]\tvalid_0's binary_logloss: 0.0907153\tvalid_0's f1: 0.630542\n",
            "폴드 3 f1 score: 0.6305418719211823\n",
            "\n",
            "######################################## 폴드4 / 폴드5 ########################################\n",
            "[LightGBM] [Warning] Found whitespace in feature_names, replace with underlines\n",
            "[LightGBM] [Info] Number of positive: 1943, number of negative: 43323\n",
            "[LightGBM] [Info] Auto-choosing row-wise multi-threading, the overhead of testing was 0.011788 seconds.\n",
            "You can set `force_row_wise=true` to remove the overhead.\n",
            "And if memory is not enough, you can set `force_col_wise=true`.\n",
            "[LightGBM] [Info] Total Bins 2642\n",
            "[LightGBM] [Info] Number of data points in the train set: 45266, number of used features: 46\n",
            "[LightGBM] [Warning] Found whitespace in feature_names, replace with underlines\n",
            "[LightGBM] [Info] [binary:BoostFromScore]: pavg=0.042924 -> initscore=-3.104451\n",
            "[LightGBM] [Info] Start training from score -3.104451\n",
            "Training until validation scores don't improve for 100 rounds\n",
            "Early stopping, best iteration is:\n",
            "[128]\tvalid_0's binary_logloss: 0.0882152\tvalid_0's f1: 0.659517\n",
            "폴드 4 f1 score: 0.6595174262734586\n",
            "\n",
            "######################################## 폴드5 / 폴드5 ########################################\n",
            "[LightGBM] [Warning] Found whitespace in feature_names, replace with underlines\n",
            "[LightGBM] [Info] Number of positive: 1943, number of negative: 43323\n",
            "[LightGBM] [Info] Auto-choosing row-wise multi-threading, the overhead of testing was 0.011399 seconds.\n",
            "You can set `force_row_wise=true` to remove the overhead.\n",
            "And if memory is not enough, you can set `force_col_wise=true`.\n",
            "[LightGBM] [Info] Total Bins 2641\n",
            "[LightGBM] [Info] Number of data points in the train set: 45266, number of used features: 46\n",
            "[LightGBM] [Warning] Found whitespace in feature_names, replace with underlines\n",
            "[LightGBM] [Info] [binary:BoostFromScore]: pavg=0.042924 -> initscore=-3.104451\n",
            "[LightGBM] [Info] Start training from score -3.104451\n",
            "Training until validation scores don't improve for 100 rounds\n",
            "Early stopping, best iteration is:\n",
            "[177]\tvalid_0's binary_logloss: 0.086874\tvalid_0's f1: 0.650741\n",
            "폴드 5 f1 score: 0.6507413509060955\n",
            "\n",
            "검증 평균 f1 score: 0.6454056598903734\n"
          ]
        }
      ],
      "source": [
        "from sklearn. model_selection import StratifiedKFold\n",
        "import lightgbm as lgb\n",
        "from sklearn.metrics import f1_score\n",
        "\n",
        "folds = StratifiedKFold(n_splits=5, shuffle=True, random_state=0)\n",
        "\n",
        "oof_val_preds = np.zeros(X_train.shape[0])\n",
        "oof_test_preds = np.zeros(X_test.shape[0])\n",
        "\n",
        "def f1score(preds, d_train):\n",
        "    labels = d_train.get_label()\n",
        "    return 'f1', f1_score(labels, np.round(preds)), True\n",
        "\n",
        "params={\n",
        "    'objective': 'binary',\n",
        "    'learning_rate':0.01,\n",
        "    \"random_state\":0,\n",
        "    \"early_stopping_rounds\":100,\n",
        "    \"scale_pos_weight\": 5\n",
        "}\n",
        "\n",
        "f1_score_list=[]\n",
        "feature_importance_list=[]\n",
        "\n",
        "for idx, (train_idx, valid_idx) in enumerate(folds.split(X_train, y_train)):\n",
        "    print('#'*40, f'폴드{idx+1} / 폴드{folds.n_splits}', \"#\"*40)\n",
        "    X_tr, y_tr = X_train.iloc[train_idx], y_train.iloc[train_idx]\n",
        "    X_val, y_val = X_train.iloc[valid_idx], y_train.iloc[valid_idx]\n",
        "\n",
        "    d_train = lgb.Dataset(X_tr, y_tr)\n",
        "    d_valid = lgb.Dataset(X_val, y_val)\n",
        "\n",
        "    lgb_model = lgb.train(params=params,\n",
        "                          train_set=d_train,\n",
        "                          num_boost_round=1000,\n",
        "                          valid_sets=d_valid,\n",
        "                          feval=f1score)\n",
        "\n",
        "    oof_test_preds += lgb_model.predict(X_test) / folds.get_n_splits()\n",
        "    oof_val_preds[valid_idx] += lgb_model.predict(X_val)\n",
        "\n",
        "    f1 = f1_score(y_val, np.round(oof_val_preds[valid_idx]))\n",
        "    f1_score_list.append(f1)\n",
        "    print(f'폴드 {idx+1} f1 score: {f1}\\n')\n",
        "\n",
        "    feature_importance_list.append(lgb_model.feature_importance())\n",
        "\n",
        "print(f'검증 평균 f1 score: {np.mean(f1_score_list)}')\n",
        "# 검증 평균 f1 score:  0.7694154228409034"
      ]
    },
    {
      "cell_type": "code",
      "execution_count": 48,
      "id": "09872b56",
      "metadata": {
        "colab": {
          "base_uri": "https://localhost:8080/",
          "height": 564
        },
        "id": "09872b56",
        "outputId": "ba57c7bf-51e9-4915-c0b1-cae186092406"
      },
      "outputs": [
        {
          "output_type": "display_data",
          "data": {
            "text/plain": [
              "<Figure size 1000x600 with 1 Axes>"
            ],
            "image/png": "[encoded data removed]"
          },
          "metadata": {}
        }
      ],
      "source": [
        "import numpy as np\n",
        "import matplotlib.pyplot as plt\n",
        "\n",
        "# 특징 중요도와 특징 이름을 정렬\n",
        "top_features = 20\n",
        "sorted_indices = np.argsort(-np.mean(feature_importance_list, axis=0))[::-1]\n",
        "sorted_feature_names = [lgb_model.feature_name()[i] for i in sorted_indices][-top_features:]\n",
        "sorted_mean_importance = np.mean(feature_importance_list, axis=0)[sorted_indices][-top_features:]\n",
        "\n",
        "# 바 차트 그리기\n",
        "plt.figure(figsize=(10, 6))\n",
        "plt.barh(sorted_feature_names, sorted_mean_importance)\n",
        "plt.xlabel('Mean Importance')\n",
        "plt.ylabel('Features')\n",
        "plt.title('Mean Feature Importance')\n",
        "plt.show()"
      ]
    },
    {
      "cell_type": "markdown",
      "id": "9d0b6e17",
      "metadata": {
        "id": "9d0b6e17"
      },
      "source": [
        "### 테스트 데이터 예측"
      ]
    },
    {
      "cell_type": "code",
      "execution_count": 49,
      "id": "43daa73c",
      "metadata": {
        "id": "43daa73c"
      },
      "outputs": [],
      "source": [
        "# 예측에 필요한 데이터 분리\n",
        "test_pred = np.where(oof_test_preds >= 0.5, 1, 0)"
      ]
    },
    {
      "cell_type": "code",
      "execution_count": 50,
      "id": "d13f7a6e",
      "metadata": {
        "colab": {
          "base_uri": "https://localhost:8080/"
        },
        "id": "d13f7a6e",
        "outputId": "9acbd64a-9c9a-423d-c143-ebc53a3fdf10"
      },
      "outputs": [
        {
          "output_type": "execute_result",
          "data": {
            "text/plain": [
              "1228"
            ]
          },
          "metadata": {},
          "execution_count": 50
        }
      ],
      "source": [
        "sum(test_pred) # True로 예측된 개수 1038"
      ]
    },
    {
      "cell_type": "markdown",
      "id": "7adf8300",
      "metadata": {
        "id": "7adf8300"
      },
      "source": [
        "## 4. 제출하기"
      ]
    },
    {
      "cell_type": "markdown",
      "id": "47f18e6a",
      "metadata": {
        "id": "47f18e6a"
      },
      "source": [
        "### 제출 파일 작성"
      ]
    },
    {
      "cell_type": "code",
      "execution_count": 51,
      "id": "11eb7117",
      "metadata": {
        "id": "11eb7117"
      },
      "outputs": [],
      "source": [
        "df_test[\"is_converted\"] = test_pred"
      ]
    },
    {
      "cell_type": "code",
      "execution_count": 54,
      "id": "3128a458",
      "metadata": {
        "id": "3128a458"
      },
      "outputs": [],
      "source": [
        "# 제출 데이터 읽어오기 (df_test는 전처리된 데이터가 저장됨)\n",
        "df_sub = pd.read_csv(\"/content/drive/MyDrive/LGaimers/submission.csv\")\n",
        "df_sub[\"is_converted\"]=df_test[\"is_converted\"]\n",
        "\n",
        "# 제출 파일 저장\n",
        "df_sub.to_csv(\"/content/drive/MyDrive/LGaimers/submission_youngho.csv\", index=False)"
      ]
    },
    {
      "cell_type": "markdown",
      "id": "ec7867ce",
      "metadata": {
        "id": "ec7867ce"
      },
      "source": [
        "**우측 상단의 제출 버튼을 클릭해 결과를 확인하세요**"
      ]
    }
  ],
  "metadata": {
    "kernelspec": {
      "display_name": "Python 3 (ipykernel)",
      "language": "python",
      "name": "python3"
    },
    "language_info": {
      "codemirror_mode": {
        "name": "ipython",
        "version": 3
      },
      "file_extension": ".py",
      "mimetype": "text/x-python",
      "name": "python",
      "nbconvert_exporter": "python",
      "pygments_lexer": "ipython3",
      "version": "3.11.5"
    },
    "colab": {
      "provenance": [],
      "toc_visible": true
    }
  },
  "nbformat": 4,
  "nbformat_minor": 5
}