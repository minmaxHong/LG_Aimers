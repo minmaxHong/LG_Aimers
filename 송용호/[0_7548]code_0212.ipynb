{
  "cells": [
    {
      "cell_type": "markdown",
      "id": "017e9265",
      "metadata": {
        "id": "017e9265"
      },
      "source": [
        "# 영업 성공 여부 분류 경진대회"
      ]
    },
    {
      "cell_type": "code",
      "source": [
        "from google.colab import drive\n",
        "drive.mount('/content/drive')"
      ],
      "metadata": {
        "colab": {
          "base_uri": "https://localhost:8080/"
        },
        "id": "QjPVhaM2EKC6",
        "outputId": "4ca08fc1-395f-47cb-ced5-f6f4aa47e9aa"
      },
      "id": "QjPVhaM2EKC6",
      "execution_count": 432,
      "outputs": [
        {
          "output_type": "stream",
          "name": "stdout",
          "text": [
            "Drive already mounted at /content/drive; to attempt to forcibly remount, call drive.mount(\"/content/drive\", force_remount=True).\n"
          ]
        }
      ]
    },
    {
      "cell_type": "code",
      "source": [],
      "metadata": {
        "id": "dtC4QY4xEK6x"
      },
      "id": "dtC4QY4xEK6x",
      "execution_count": 432,
      "outputs": []
    },
    {
      "cell_type": "markdown",
      "id": "acdab431",
      "metadata": {
        "id": "acdab431"
      },
      "source": [
        "## 1. 데이터 확인"
      ]
    },
    {
      "cell_type": "markdown",
      "id": "2b8341e8",
      "metadata": {
        "id": "2b8341e8"
      },
      "source": [
        "### 필수 라이브러리"
      ]
    },
    {
      "cell_type": "code",
      "execution_count": 433,
      "id": "a315cc58",
      "metadata": {
        "id": "a315cc58"
      },
      "outputs": [],
      "source": [
        "import pandas as pd\n",
        "import numpy as np\n",
        "from sklearn.metrics import (\n",
        "    accuracy_score,\n",
        "    confusion_matrix,\n",
        "    f1_score,\n",
        "    precision_score,\n",
        "    recall_score,\n",
        ")\n",
        "from sklearn.model_selection import train_test_split\n",
        "from sklearn.tree import DecisionTreeClassifier"
      ]
    },
    {
      "cell_type": "markdown",
      "id": "412f98cc",
      "metadata": {
        "id": "412f98cc"
      },
      "source": [
        "### 데이터 셋 읽어오기"
      ]
    },
    {
      "cell_type": "code",
      "execution_count": 434,
      "id": "7ada941e",
      "metadata": {
        "id": "7ada941e"
      },
      "outputs": [],
      "source": [
        "df_train = pd.read_csv(\"/content/drive/MyDrive/LGaimers/train.csv\") # 학습용 데이터\n",
        "df_test = pd.read_csv(\"/content/drive/MyDrive/LGaimers/submission.csv\") # 테스트 데이터(제출파일의 데이터)"
      ]
    },
    {
      "cell_type": "code",
      "execution_count": 435,
      "id": "be9af12a",
      "metadata": {
        "colab": {
          "base_uri": "https://localhost:8080/",
          "height": 0
        },
        "id": "be9af12a",
        "outputId": "d3ee9d91-54cc-4131-b40c-adfe957d5f8e"
      },
      "outputs": [
        {
          "output_type": "execute_result",
          "data": {
            "text/plain": [
              "   bant_submit          customer_country business_unit  com_reg_ver_win_rate  \\\n",
              "0          1.0  /Quezon City/Philippines            AS              0.066667   \n",
              "1          1.0        /PH-00/Philippines            AS              0.066667   \n",
              "2          1.0           /Kolkata /India            AS              0.088889   \n",
              "3          1.0        /Bhubaneswar/India            AS              0.088889   \n",
              "4          1.0          /Hyderabad/India            AS              0.088889   \n",
              "\n",
              "   customer_idx          customer_type  enterprise  historical_existing_cnt  \\\n",
              "0         32160           End-Customer  Enterprise                      NaN   \n",
              "1         23122           End-Customer  Enterprise                     12.0   \n",
              "2          1755           End-Customer  Enterprise                    144.0   \n",
              "3          4919           End-Customer  Enterprise                      NaN   \n",
              "4         17126  Specifier/ Influencer  Enterprise                      NaN   \n",
              "\n",
              "   id_strategic_ver  it_strategic_ver  ...  response_corporate  \\\n",
              "0               NaN               NaN  ...               LGEPH   \n",
              "1               NaN               NaN  ...               LGEPH   \n",
              "2               NaN               NaN  ...               LGEIL   \n",
              "3               NaN               NaN  ...               LGEIL   \n",
              "4               NaN               NaN  ...               LGEIL   \n",
              "\n",
              "    expected_timeline  ver_cus ver_pro ver_win_rate_x ver_win_ratio_per_bu  \\\n",
              "0  less than 3 months        1       0       0.003079             0.026846   \n",
              "1  less than 3 months        1       0       0.003079             0.026846   \n",
              "2  less than 3 months        1       0       0.003079             0.026846   \n",
              "3  less than 3 months        1       0       0.003079             0.026846   \n",
              "4  less than 3 months        0       0       0.003079             0.026846   \n",
              "\n",
              "        business_area business_subarea lead_owner is_converted  \n",
              "0  corporate / office      Engineering          0         True  \n",
              "1  corporate / office      Advertising          1         True  \n",
              "2  corporate / office     Construction          2         True  \n",
              "3  corporate / office      IT/Software          3         True  \n",
              "4  corporate / office              NaN          4         True  \n",
              "\n",
              "[5 rows x 29 columns]"
            ],
            "text/html": [
              "\n",
              "  <div id=\"df-180204ba-7172-4651-a6e0-edced3e78188\" class=\"colab-df-container\">\n",
              "    <div>\n",
              "<style scoped>\n",
              "    .dataframe tbody tr th:only-of-type {\n",
              "        vertical-align: middle;\n",
              "    }\n",
              "\n",
              "    .dataframe tbody tr th {\n",
              "        vertical-align: top;\n",
              "    }\n",
              "\n",
              "    .dataframe thead th {\n",
              "        text-align: right;\n",
              "    }\n",
              "</style>\n",
              "<table border=\"1\" class=\"dataframe\">\n",
              "  <thead>\n",
              "    <tr style=\"text-align: right;\">\n",
              "      <th></th>\n",
              "      <th>bant_submit</th>\n",
              "      <th>customer_country</th>\n",
              "      <th>business_unit</th>\n",
              "      <th>com_reg_ver_win_rate</th>\n",
              "      <th>customer_idx</th>\n",
              "      <th>customer_type</th>\n",
              "      <th>enterprise</th>\n",
              "      <th>historical_existing_cnt</th>\n",
              "      <th>id_strategic_ver</th>\n",
              "      <th>it_strategic_ver</th>\n",
              "      <th>...</th>\n",
              "      <th>response_corporate</th>\n",
              "      <th>expected_timeline</th>\n",
              "      <th>ver_cus</th>\n",
              "      <th>ver_pro</th>\n",
              "      <th>ver_win_rate_x</th>\n",
              "      <th>ver_win_ratio_per_bu</th>\n",
              "      <th>business_area</th>\n",
              "      <th>business_subarea</th>\n",
              "      <th>lead_owner</th>\n",
              "      <th>is_converted</th>\n",
              "    </tr>\n",
              "  </thead>\n",
              "  <tbody>\n",
              "    <tr>\n",
              "      <th>0</th>\n",
              "      <td>1.0</td>\n",
              "      <td>/Quezon City/Philippines</td>\n",
              "      <td>AS</td>\n",
              "      <td>0.066667</td>\n",
              "      <td>32160</td>\n",
              "      <td>End-Customer</td>\n",
              "      <td>Enterprise</td>\n",
              "      <td>NaN</td>\n",
              "      <td>NaN</td>\n",
              "      <td>NaN</td>\n",
              "      <td>...</td>\n",
              "      <td>LGEPH</td>\n",
              "      <td>less than 3 months</td>\n",
              "      <td>1</td>\n",
              "      <td>0</td>\n",
              "      <td>0.003079</td>\n",
              "      <td>0.026846</td>\n",
              "      <td>corporate / office</td>\n",
              "      <td>Engineering</td>\n",
              "      <td>0</td>\n",
              "      <td>True</td>\n",
              "    </tr>\n",
              "    <tr>\n",
              "      <th>1</th>\n",
              "      <td>1.0</td>\n",
              "      <td>/PH-00/Philippines</td>\n",
              "      <td>AS</td>\n",
              "      <td>0.066667</td>\n",
              "      <td>23122</td>\n",
              "      <td>End-Customer</td>\n",
              "      <td>Enterprise</td>\n",
              "      <td>12.0</td>\n",
              "      <td>NaN</td>\n",
              "      <td>NaN</td>\n",
              "      <td>...</td>\n",
              "      <td>LGEPH</td>\n",
              "      <td>less than 3 months</td>\n",
              "      <td>1</td>\n",
              "      <td>0</td>\n",
              "      <td>0.003079</td>\n",
              "      <td>0.026846</td>\n",
              "      <td>corporate / office</td>\n",
              "      <td>Advertising</td>\n",
              "      <td>1</td>\n",
              "      <td>True</td>\n",
              "    </tr>\n",
              "    <tr>\n",
              "      <th>2</th>\n",
              "      <td>1.0</td>\n",
              "      <td>/Kolkata /India</td>\n",
              "      <td>AS</td>\n",
              "      <td>0.088889</td>\n",
              "      <td>1755</td>\n",
              "      <td>End-Customer</td>\n",
              "      <td>Enterprise</td>\n",
              "      <td>144.0</td>\n",
              "      <td>NaN</td>\n",
              "      <td>NaN</td>\n",
              "      <td>...</td>\n",
              "      <td>LGEIL</td>\n",
              "      <td>less than 3 months</td>\n",
              "      <td>1</td>\n",
              "      <td>0</td>\n",
              "      <td>0.003079</td>\n",
              "      <td>0.026846</td>\n",
              "      <td>corporate / office</td>\n",
              "      <td>Construction</td>\n",
              "      <td>2</td>\n",
              "      <td>True</td>\n",
              "    </tr>\n",
              "    <tr>\n",
              "      <th>3</th>\n",
              "      <td>1.0</td>\n",
              "      <td>/Bhubaneswar/India</td>\n",
              "      <td>AS</td>\n",
              "      <td>0.088889</td>\n",
              "      <td>4919</td>\n",
              "      <td>End-Customer</td>\n",
              "      <td>Enterprise</td>\n",
              "      <td>NaN</td>\n",
              "      <td>NaN</td>\n",
              "      <td>NaN</td>\n",
              "      <td>...</td>\n",
              "      <td>LGEIL</td>\n",
              "      <td>less than 3 months</td>\n",
              "      <td>1</td>\n",
              "      <td>0</td>\n",
              "      <td>0.003079</td>\n",
              "      <td>0.026846</td>\n",
              "      <td>corporate / office</td>\n",
              "      <td>IT/Software</td>\n",
              "      <td>3</td>\n",
              "      <td>True</td>\n",
              "    </tr>\n",
              "    <tr>\n",
              "      <th>4</th>\n",
              "      <td>1.0</td>\n",
              "      <td>/Hyderabad/India</td>\n",
              "      <td>AS</td>\n",
              "      <td>0.088889</td>\n",
              "      <td>17126</td>\n",
              "      <td>Specifier/ Influencer</td>\n",
              "      <td>Enterprise</td>\n",
              "      <td>NaN</td>\n",
              "      <td>NaN</td>\n",
              "      <td>NaN</td>\n",
              "      <td>...</td>\n",
              "      <td>LGEIL</td>\n",
              "      <td>less than 3 months</td>\n",
              "      <td>0</td>\n",
              "      <td>0</td>\n",
              "      <td>0.003079</td>\n",
              "      <td>0.026846</td>\n",
              "      <td>corporate / office</td>\n",
              "      <td>NaN</td>\n",
              "      <td>4</td>\n",
              "      <td>True</td>\n",
              "    </tr>\n",
              "  </tbody>\n",
              "</table>\n",
              "<p>5 rows × 29 columns</p>\n",
              "</div>\n",
              "    <div class=\"colab-df-buttons\">\n",
              "\n",
              "  <div class=\"colab-df-container\">\n",
              "    <button class=\"colab-df-convert\" onclick=\"convertToInteractive('df-180204ba-7172-4651-a6e0-edced3e78188')\"\n",
              "            title=\"Convert this dataframe to an interactive table.\"\n",
              "            style=\"display:none;\">\n",
              "\n",
              "  <svg xmlns=\"http://www.w3.org/2000/svg\" height=\"24px\" viewBox=\"0 -960 960 960\">\n",
              "    <path d=\"M120-120v-720h720v720H120Zm60-500h600v-160H180v160Zm220 220h160v-160H400v160Zm0 220h160v-160H400v160ZM180-400h160v-160H180v160Zm440 0h160v-160H620v160ZM180-180h160v-160H180v160Zm440 0h160v-160H620v160Z\"/>\n",
              "  </svg>\n",
              "    </button>\n",
              "\n",
              "  <style>\n",
              "    .colab-df-container {\n",
              "      display:flex;\n",
              "      gap: 12px;\n",
              "    }\n",
              "\n",
              "    .colab-df-convert {\n",
              "      background-color: #E8F0FE;\n",
              "      border: none;\n",
              "      border-radius: 50%;\n",
              "      cursor: pointer;\n",
              "      display: none;\n",
              "      fill: #1967D2;\n",
              "      height: 32px;\n",
              "      padding: 0 0 0 0;\n",
              "      width: 32px;\n",
              "    }\n",
              "\n",
              "    .colab-df-convert:hover {\n",
              "      background-color: #E2EBFA;\n",
              "      box-shadow: 0px 1px 2px rgba(60, 64, 67, 0.3), 0px 1px 3px 1px rgba(60, 64, 67, 0.15);\n",
              "      fill: #174EA6;\n",
              "    }\n",
              "\n",
              "    .colab-df-buttons div {\n",
              "      margin-bottom: 4px;\n",
              "    }\n",
              "\n",
              "    [theme=dark] .colab-df-convert {\n",
              "      background-color: #3B4455;\n",
              "      fill: #D2E3FC;\n",
              "    }\n",
              "\n",
              "    [theme=dark] .colab-df-convert:hover {\n",
              "      background-color: #434B5C;\n",
              "      box-shadow: 0px 1px 3px 1px rgba(0, 0, 0, 0.15);\n",
              "      filter: drop-shadow(0px 1px 2px rgba(0, 0, 0, 0.3));\n",
              "      fill: #FFFFFF;\n",
              "    }\n",
              "  </style>\n",
              "\n",
              "    <script>\n",
              "      const buttonEl =\n",
              "        document.querySelector('#df-180204ba-7172-4651-a6e0-edced3e78188 button.colab-df-convert');\n",
              "      buttonEl.style.display =\n",
              "        google.colab.kernel.accessAllowed ? 'block' : 'none';\n",
              "\n",
              "      async function convertToInteractive(key) {\n",
              "        const element = document.querySelector('#df-180204ba-7172-4651-a6e0-edced3e78188');\n",
              "        const dataTable =\n",
              "          await google.colab.kernel.invokeFunction('convertToInteractive',\n",
              "                                                    [key], {});\n",
              "        if (!dataTable) return;\n",
              "\n",
              "        const docLinkHtml = 'Like what you see? Visit the ' +\n",
              "          '<a target=\"_blank\" href=https://colab.research.google.com/notebooks/data_table.ipynb>data table notebook</a>'\n",
              "          + ' to learn more about interactive tables.';\n",
              "        element.innerHTML = '';\n",
              "        dataTable['output_type'] = 'display_data';\n",
              "        await google.colab.output.renderOutput(dataTable, element);\n",
              "        const docLink = document.createElement('div');\n",
              "        docLink.innerHTML = docLinkHtml;\n",
              "        element.appendChild(docLink);\n",
              "      }\n",
              "    </script>\n",
              "  </div>\n",
              "\n",
              "\n",
              "<div id=\"df-097ced38-72d4-44a9-8d35-a58de9974d87\">\n",
              "  <button class=\"colab-df-quickchart\" onclick=\"quickchart('df-097ced38-72d4-44a9-8d35-a58de9974d87')\"\n",
              "            title=\"Suggest charts\"\n",
              "            style=\"display:none;\">\n",
              "\n",
              "<svg xmlns=\"http://www.w3.org/2000/svg\" height=\"24px\"viewBox=\"0 0 24 24\"\n",
              "     width=\"24px\">\n",
              "    <g>\n",
              "        <path d=\"M19 3H5c-1.1 0-2 .9-2 2v14c0 1.1.9 2 2 2h14c1.1 0 2-.9 2-2V5c0-1.1-.9-2-2-2zM9 17H7v-7h2v7zm4 0h-2V7h2v10zm4 0h-2v-4h2v4z\"/>\n",
              "    </g>\n",
              "</svg>\n",
              "  </button>\n",
              "\n",
              "<style>\n",
              "  .colab-df-quickchart {\n",
              "      --bg-color: #E8F0FE;\n",
              "      --fill-color: #1967D2;\n",
              "      --hover-bg-color: #E2EBFA;\n",
              "      --hover-fill-color: #174EA6;\n",
              "      --disabled-fill-color: #AAA;\n",
              "      --disabled-bg-color: #DDD;\n",
              "  }\n",
              "\n",
              "  [theme=dark] .colab-df-quickchart {\n",
              "      --bg-color: #3B4455;\n",
              "      --fill-color: #D2E3FC;\n",
              "      --hover-bg-color: #434B5C;\n",
              "      --hover-fill-color: #FFFFFF;\n",
              "      --disabled-bg-color: #3B4455;\n",
              "      --disabled-fill-color: #666;\n",
              "  }\n",
              "\n",
              "  .colab-df-quickchart {\n",
              "    background-color: var(--bg-color);\n",
              "    border: none;\n",
              "    border-radius: 50%;\n",
              "    cursor: pointer;\n",
              "    display: none;\n",
              "    fill: var(--fill-color);\n",
              "    height: 32px;\n",
              "    padding: 0;\n",
              "    width: 32px;\n",
              "  }\n",
              "\n",
              "  .colab-df-quickchart:hover {\n",
              "    background-color: var(--hover-bg-color);\n",
              "    box-shadow: 0 1px 2px rgba(60, 64, 67, 0.3), 0 1px 3px 1px rgba(60, 64, 67, 0.15);\n",
              "    fill: var(--button-hover-fill-color);\n",
              "  }\n",
              "\n",
              "  .colab-df-quickchart-complete:disabled,\n",
              "  .colab-df-quickchart-complete:disabled:hover {\n",
              "    background-color: var(--disabled-bg-color);\n",
              "    fill: var(--disabled-fill-color);\n",
              "    box-shadow: none;\n",
              "  }\n",
              "\n",
              "  .colab-df-spinner {\n",
              "    border: 2px solid var(--fill-color);\n",
              "    border-color: transparent;\n",
              "    border-bottom-color: var(--fill-color);\n",
              "    animation:\n",
              "      spin 1s steps(1) infinite;\n",
              "  }\n",
              "\n",
              "  @keyframes spin {\n",
              "    0% {\n",
              "      border-color: transparent;\n",
              "      border-bottom-color: var(--fill-color);\n",
              "      border-left-color: var(--fill-color);\n",
              "    }\n",
              "    20% {\n",
              "      border-color: transparent;\n",
              "      border-left-color: var(--fill-color);\n",
              "      border-top-color: var(--fill-color);\n",
              "    }\n",
              "    30% {\n",
              "      border-color: transparent;\n",
              "      border-left-color: var(--fill-color);\n",
              "      border-top-color: var(--fill-color);\n",
              "      border-right-color: var(--fill-color);\n",
              "    }\n",
              "    40% {\n",
              "      border-color: transparent;\n",
              "      border-right-color: var(--fill-color);\n",
              "      border-top-color: var(--fill-color);\n",
              "    }\n",
              "    60% {\n",
              "      border-color: transparent;\n",
              "      border-right-color: var(--fill-color);\n",
              "    }\n",
              "    80% {\n",
              "      border-color: transparent;\n",
              "      border-right-color: var(--fill-color);\n",
              "      border-bottom-color: var(--fill-color);\n",
              "    }\n",
              "    90% {\n",
              "      border-color: transparent;\n",
              "      border-bottom-color: var(--fill-color);\n",
              "    }\n",
              "  }\n",
              "</style>\n",
              "\n",
              "  <script>\n",
              "    async function quickchart(key) {\n",
              "      const quickchartButtonEl =\n",
              "        document.querySelector('#' + key + ' button');\n",
              "      quickchartButtonEl.disabled = true;  // To prevent multiple clicks.\n",
              "      quickchartButtonEl.classList.add('colab-df-spinner');\n",
              "      try {\n",
              "        const charts = await google.colab.kernel.invokeFunction(\n",
              "            'suggestCharts', [key], {});\n",
              "      } catch (error) {\n",
              "        console.error('Error during call to suggestCharts:', error);\n",
              "      }\n",
              "      quickchartButtonEl.classList.remove('colab-df-spinner');\n",
              "      quickchartButtonEl.classList.add('colab-df-quickchart-complete');\n",
              "    }\n",
              "    (() => {\n",
              "      let quickchartButtonEl =\n",
              "        document.querySelector('#df-097ced38-72d4-44a9-8d35-a58de9974d87 button');\n",
              "      quickchartButtonEl.style.display =\n",
              "        google.colab.kernel.accessAllowed ? 'block' : 'none';\n",
              "    })();\n",
              "  </script>\n",
              "</div>\n",
              "\n",
              "    </div>\n",
              "  </div>\n"
            ]
          },
          "metadata": {},
          "execution_count": 435
        }
      ],
      "source": [
        "df_train.head() # 학습용 데이터 살펴보기"
      ]
    },
    {
      "cell_type": "markdown",
      "id": "af526c13",
      "metadata": {
        "id": "af526c13"
      },
      "source": [
        "## 2. 데이터 전처리"
      ]
    },
    {
      "cell_type": "markdown",
      "source": [],
      "metadata": {
        "id": "-vKt8fJrEYqW"
      },
      "id": "-vKt8fJrEYqW"
    },
    {
      "cell_type": "markdown",
      "source": [
        "### 2.1데이터 전처리"
      ],
      "metadata": {
        "id": "acwn0PEOdzd0"
      },
      "id": "acwn0PEOdzd0"
    },
    {
      "cell_type": "markdown",
      "source": [
        "중복 제거"
      ],
      "metadata": {
        "id": "qdcbullpBKCD"
      },
      "id": "qdcbullpBKCD"
    },
    {
      "cell_type": "code",
      "source": [
        "df_train.drop_duplicates(inplace=True)"
      ],
      "metadata": {
        "id": "vqcR5Cr8BJR8"
      },
      "id": "vqcR5Cr8BJR8",
      "execution_count": 436,
      "outputs": []
    },
    {
      "cell_type": "markdown",
      "source": [
        "####1.[bant_submit]\n",
        "그냥 Object화 시키고 싶음 그게 그냥 Label encode인가"
      ],
      "metadata": {
        "id": "LEs_VY_XfByT"
      },
      "id": "LEs_VY_XfByT"
    },
    {
      "cell_type": "markdown",
      "source": [
        "####2. [customer_country]\n",
        "'/' 기준 나라만 쏙 빼오기"
      ],
      "metadata": {
        "id": "g-F7qGnBZgij"
      },
      "id": "g-F7qGnBZgij"
    },
    {
      "cell_type": "code",
      "source": [],
      "metadata": {
        "id": "rUGMhoKrnBEz"
      },
      "id": "rUGMhoKrnBEz",
      "execution_count": 436,
      "outputs": []
    },
    {
      "cell_type": "code",
      "source": [
        "import numpy as np\n",
        "import pandas as pd\n",
        "\n",
        "# 'customer_country' 컬럼에서 나라 이름을 추출하는 함수\n",
        "def extract_country_name(x):\n",
        "    if pd.isnull(x):\n",
        "        return 0\n",
        "    else:\n",
        "        a = x.split(\"/\")\n",
        "        return a[-1]\n",
        "\n",
        "# 'customer_country' 컬럼에서 0값을 최빈값 상위 10개의 나라로 랜덤하게 채우는 함수\n",
        "def fill_zero_with_top_countries(df):\n",
        "    # 'customer_country'가 0인 행의 인덱스를 찾습니다.\n",
        "    index_0 = df[df['customer_country'] == 0].index\n",
        "\n",
        "    # 'customer_country'의 최빈값 상위 10개를 비율대로 랜덤하게 선택합니다.\n",
        "    top10_countries = df['customer_country'].value_counts().head(10)\n",
        "    top10_countries_prob = top10_countries / top10_countries.sum()\n",
        "\n",
        "    # 랜덤하게 선택한 나라로 0값을 채웁니다.\n",
        "    df.loc[index_0, 'customer_country'] = np.random.choice(top10_countries.index, size=len(index_0), p=top10_countries_prob)\n",
        "\n",
        "# 'customer_country' 컬럼에서 나라 이름을 추출합니다.\n",
        "df_train[\"customer_country\"] = df_train[\"customer_country\"].apply(extract_country_name)\n",
        "df_test[\"customer_country\"] = df_test[\"customer_country\"].apply(extract_country_name)\n",
        "df_train[\"customer_country.1\"]=df_train[\"customer_country.1\"].apply(extract_country_name)\n",
        "df_test[\"customer_country.1\"]=df_test[\"customer_country.1\"].apply(extract_country_name)\n",
        "\n",
        "# 'customer_country' 컬럼에서 0값을 최빈값 상위 10개의 나라로 랜덤하게 채웁니다.\n",
        "fill_zero_with_top_countries(df_train)\n",
        "fill_zero_with_top_countries(df_test)\n"
      ],
      "metadata": {
        "id": "29HHmxqQiJ_I"
      },
      "execution_count": 437,
      "outputs": [],
      "id": "29HHmxqQiJ_I"
    },
    {
      "cell_type": "markdown",
      "source": [
        "####3.[business_unit]\n",
        "AS,ID,IT만 가져가고 나머진 짤라"
      ],
      "metadata": {
        "id": "p22lWzVmdysC"
      },
      "id": "p22lWzVmdysC"
    },
    {
      "cell_type": "code",
      "source": [
        "df_train = df_train[df_train['business_unit'].isin(['AS', 'ID', 'IT'])]\n",
        "df_test = df_test[df_test['business_unit'].isin(['AS', 'ID', 'IT'])]\n"
      ],
      "metadata": {
        "id": "1K_T7b9Xdl0i"
      },
      "execution_count": 438,
      "outputs": [],
      "id": "1K_T7b9Xdl0i"
    },
    {
      "cell_type": "markdown",
      "source": [
        "#### 4.[com_reg_ver_win_rate]\n",
        "어케할지 몰라 보류"
      ],
      "metadata": {
        "id": "HhPWV0OUe5vQ"
      },
      "id": "HhPWV0OUe5vQ"
    },
    {
      "cell_type": "code",
      "source": [
        "#로그변환\n",
        "df_train['com_reg_ver_win_rate'] = np.log1p(df_train['com_reg_ver_win_rate'])\n",
        "df_test['com_reg_ver_win_rate'] = np.log1p(df_test['com_reg_ver_win_rate'])\n",
        "\n"
      ],
      "metadata": {
        "id": "Q8PrptsCVT-p"
      },
      "id": "Q8PrptsCVT-p",
      "execution_count": 439,
      "outputs": []
    },
    {
      "cell_type": "markdown",
      "source": [
        "####5 [customer_idx]\n",
        "25096이 무조건 'is_converted'값이 True임 하지만 test_data에는 없음\n",
        "고로 컷!\n",
        "\n",
        "id =47466이 가장 많이 나옴. test에서도 동일한 분포\n",
        "고로, 47466 기준으로 이진분류."
      ],
      "metadata": {
        "id": "u6FDPFrsfT7a"
      },
      "id": "u6FDPFrsfT7a"
    },
    {
      "cell_type": "code",
      "source": [
        "del_id=[25096]\n",
        "df_train=df_train[~df_train[\"customer_idx\"].isin(del_id)]\n",
        "df_train = df_train[(df_train[\"business_unit\"] != \"CM\") & (df_train[\"business_unit\"] != \"Solution\")]"
      ],
      "metadata": {
        "id": "3AZJzH31ALmH"
      },
      "id": "3AZJzH31ALmH",
      "execution_count": 440,
      "outputs": []
    },
    {
      "cell_type": "code",
      "source": [
        "def change_value(x):\n",
        "    if x == 47466:\n",
        "        return 1\n",
        "    else:\n",
        "        return 0\n",
        "\n",
        "df_train['customer_idx'] = df_train['customer_idx'].apply(change_value)\n",
        "df_test['customer_idx'] = df_test['customer_idx'].apply(change_value)\n",
        "\n"
      ],
      "metadata": {
        "id": "NpdT8OR7Ancz"
      },
      "execution_count": 441,
      "outputs": [],
      "id": "NpdT8OR7Ancz"
    },
    {
      "cell_type": "code",
      "source": [],
      "metadata": {
        "id": "9aIdXdlPccpw"
      },
      "execution_count": 441,
      "outputs": [],
      "id": "9aIdXdlPccpw"
    },
    {
      "cell_type": "markdown",
      "source": [
        "####6[customer_type]\n",
        "상위 3개 아니면 others로 변경"
      ],
      "metadata": {
        "id": "8KvBXQkUezx7"
      },
      "id": "8KvBXQkUezx7"
    },
    {
      "cell_type": "code",
      "source": [
        "def preprocess_customer_type(x):\n",
        "    if x == 'End-Customer' :\n",
        "        return 'End Customer'\n",
        "    elif x == 'Specifier/ Influencer' :\n",
        "        return 'Specifier / Influencer'\n",
        "    elif x =='Other' or x=='Others':\n",
        "        return 'Etc.'\n",
        "    elif x == 'Software/Soultion Provider' :\n",
        "        return 'Software / Solution Provider'\n",
        "    else:\n",
        "        return x\n",
        "\n",
        "df_train['customer_type'] = df_train['customer_type'].apply(preprocess_customer_type)\n",
        "df_test['customer_type'] = df_test['customer_type'].apply(preprocess_customer_type)"
      ],
      "metadata": {
        "id": "xO40KwGK_udo"
      },
      "id": "xO40KwGK_udo",
      "execution_count": 442,
      "outputs": []
    },
    {
      "cell_type": "code",
      "source": [
        "def preprocess_customer_type(df):\n",
        "    # 'End-Customer'를 'End Customer'로 변경\n",
        "    df['customer_type'] = df['customer_type'].replace('End-Customer', 'End Customer')\n",
        "\n",
        "    # 가장 많이 나오는 변수 상위 3개를 저장\n",
        "    top3_types = df['customer_type'].value_counts().index[:3]\n",
        "\n",
        "    # 상위 3개에 속하지 않는 경우 'others'로 변경\n",
        "    df['customer_type'] = df['customer_type'].apply(lambda x: x if x in top3_types else 'others')\n",
        "\n",
        "    return df\n",
        "\n",
        "# 함수를 훈련 데이터와 테스트 데이터에 적용\n",
        "df_train = preprocess_customer_type(df_train)\n",
        "df_test = preprocess_customer_type(df_test)\n"
      ],
      "metadata": {
        "id": "U4H4WjnWfBjt"
      },
      "execution_count": 443,
      "outputs": [],
      "id": "U4H4WjnWfBjt"
    },
    {
      "cell_type": "markdown",
      "source": [
        "####7[historical_existing_cnt]\n",
        "\n",
        "ㅈㄴ 중요해보임\n",
        "떠오르는 방안은 2가지\n",
        "1. 4를 기준으로 단골 손님  or 그냥 손님으로 나누냐\n",
        "\n",
        "2. 예측을 해서 결측값을 채워 넣을까\n",
        "->로그 변환은 필요해 보인다\n",
        "---\n"
      ],
      "metadata": {
        "id": "f20a8Aeagl2g"
      },
      "id": "f20a8Aeagl2g"
    },
    {
      "cell_type": "markdown",
      "source": [
        "####8[id, it, idit]\n",
        " 'id_strategic_ver', 'it_strategic_ver' 열을 삭제\n",
        " 아래 drop_columns에서 삭제열 추가."
      ],
      "metadata": {
        "id": "Bcf9kR8fi60d"
      },
      "id": "Bcf9kR8fi60d"
    },
    {
      "cell_type": "code",
      "source": [
        "# df_train = df_train.drop(['id_strategic_ver', 'it_strategic_ver'], axis=1)\n",
        "# df_test = df_test.drop(['id_strategic_ver', 'it_strategic_ver'], axis=1)\n",
        "df_train['idit_strategic_ver'] = df_train['idit_strategic_ver'].fillna(0)\n",
        "df_test['idit_strategic_ver'] = df_test['idit_strategic_ver'].fillna(0)"
      ],
      "metadata": {
        "id": "h1q6-yo-jjaQ"
      },
      "execution_count": 444,
      "outputs": [],
      "id": "h1q6-yo-jjaQ"
    },
    {
      "cell_type": "markdown",
      "source": [],
      "metadata": {
        "id": "2GdtowMdjj7R"
      },
      "id": "2GdtowMdjj7R"
    },
    {
      "cell_type": "markdown",
      "source": [
        "####9[customer_job]\n",
        "걍 label?"
      ],
      "metadata": {
        "id": "tYmdgy56koS-"
      },
      "id": "tYmdgy56koS-"
    },
    {
      "cell_type": "markdown",
      "source": [
        "####10[lead_desc_length]\n",
        "진짜 ㅁㄹ겠음\n",
        "min max sclaer 하고 정보를 제공한 비율인 length_ratio 만듦"
      ],
      "metadata": {
        "id": "AoW2IW_pku2X"
      },
      "id": "AoW2IW_pku2X"
    },
    {
      "cell_type": "code",
      "source": [
        "from sklearn.preprocessing import MinMaxScaler\n",
        "\n",
        "# MinMaxScaler 객체 생성\n",
        "scaler = MinMaxScaler()\n",
        "\n",
        "# 'lead_desc_length' 열에 대해 MinMaxScaler를 적용하고, 결과를 새로운 열에 저장\n",
        "df_train['lead_desc_length'] = scaler.fit_transform(df_train[['lead_desc_length']])\n",
        "df_test['lead_desc_length'] = scaler.fit_transform(df_test[['lead_desc_length']])"
      ],
      "metadata": {
        "id": "uZdAn0VEC3Lh"
      },
      "id": "uZdAn0VEC3Lh",
      "execution_count": 445,
      "outputs": []
    },
    {
      "cell_type": "markdown",
      "source": [
        "####11[inquiry_type]\n",
        "원핫 인코딩"
      ],
      "metadata": {
        "id": "yMNUm0Sik4X9"
      },
      "id": "yMNUm0Sik4X9"
    },
    {
      "cell_type": "code",
      "source": [
        "import pandas as pd\n",
        "\n",
        "import pandas as pd\n",
        "\n",
        "def modify_variables(dataframe):\n",
        "    # 모든 변수를 소문자로 변환\n",
        "    dataframe['inquiry_type'] = dataframe['inquiry_type'].str.lower()\n",
        "\n",
        "    # 'inquiry_type' 열의 상위 4개 값을 추출\n",
        "    top_3_values = dataframe['inquiry_type'].value_counts().head(9).index.tolist()\n",
        "\n",
        "    # 'inquiry_type' 열의 값이 상위 4개에 속하는 경우는 그대로 두고, 아닌 경우 'others'로 변경\n",
        "    dataframe['inquiry_type'] = dataframe['inquiry_type'].apply(lambda x: x if x in top_3_values else 'others')\n",
        "\n",
        "    return dataframe\n",
        "\n",
        "df_train = modify_variables(df_train)\n",
        "df_test = modify_variables(df_test)"
      ],
      "metadata": {
        "id": "2PKcX_BVrp1p"
      },
      "id": "2PKcX_BVrp1p",
      "execution_count": 446,
      "outputs": []
    },
    {
      "cell_type": "code",
      "source": [
        "df_train['inquiry_type'].value_counts()"
      ],
      "metadata": {
        "colab": {
          "base_uri": "https://localhost:8080/"
        },
        "id": "-glaAKelsYw0",
        "outputId": "7b26026a-42d9-472c-cb74-94df429aafaa"
      },
      "id": "-glaAKelsYw0",
      "execution_count": 447,
      "outputs": [
        {
          "output_type": "execute_result",
          "data": {
            "text/plain": [
              "quotation or purchase consultation    38468\n",
              "sales inquiry                          8315\n",
              "others                                 1870\n",
              "product information                    1096\n",
              "usage or technical consultation        1066\n",
              "other                                   877\n",
              "technical consultation                  406\n",
              "trainings                               374\n",
              "services                                353\n",
              "request for partnership                 265\n",
              "Name: inquiry_type, dtype: int64"
            ]
          },
          "metadata": {},
          "execution_count": 447
        }
      ]
    },
    {
      "cell_type": "code",
      "source": [
        "df_test['inquiry_type'].value_counts()"
      ],
      "metadata": {
        "colab": {
          "base_uri": "https://localhost:8080/"
        },
        "id": "HYxu3xWBr0o-",
        "outputId": "5a02ecbc-5891-4369-b39f-fa4661844a0d"
      },
      "id": "HYxu3xWBr0o-",
      "execution_count": 448,
      "outputs": [
        {
          "output_type": "execute_result",
          "data": {
            "text/plain": [
              "quotation or purchase consultation    3465\n",
              "others                                1424\n",
              "technical consultation                 135\n",
              "product information                     68\n",
              "request for partnership                 63\n",
              "usage or technical consultation         52\n",
              "services                                34\n",
              "trainings                               21\n",
              "request a demo                           9\n",
              "Name: inquiry_type, dtype: int64"
            ]
          },
          "metadata": {},
          "execution_count": 448
        }
      ]
    },
    {
      "cell_type": "markdown",
      "source": [
        "####12 []"
      ],
      "metadata": {
        "id": "FgEFjwZIaW0J"
      },
      "id": "FgEFjwZIaW0J"
    },
    {
      "cell_type": "code",
      "source": [],
      "metadata": {
        "id": "J1-fxIQWVRy1"
      },
      "id": "J1-fxIQWVRy1",
      "execution_count": 448,
      "outputs": []
    },
    {
      "cell_type": "markdown",
      "source": [
        "###2.2파생변수"
      ],
      "metadata": {
        "id": "kyEwUvE_BQyP"
      },
      "id": "kyEwUvE_BQyP"
    },
    {
      "cell_type": "markdown",
      "source": [
        "####[cus_ratio]\n",
        "문의를 한 횟수, 문의하면서 converted 한 횟수, converted한 비율을 회사별로 계산"
      ],
      "metadata": {
        "id": "jMM4ngWOBqC8"
      },
      "id": "jMM4ngWOBqC8"
    },
    {
      "cell_type": "code",
      "execution_count": 449,
      "id": "2a39db10",
      "metadata": {
        "id": "2a39db10"
      },
      "outputs": [],
      "source": [
        "df_cus = df_train.groupby(\"customer_idx\")[\"is_converted\"].count().reset_index()\n",
        "df_real_cus = df_train.groupby(\"customer_idx\")[\"is_converted\"].sum().reset_index()\n",
        "df = pd.merge(df_cus, df_real_cus, on=\"customer_idx\")\n",
        "df[\"cus_ratio\"] = df[\"is_converted_y\"] / df[\"is_converted_x\"]\n",
        "df = df.rename(columns={\"is_converted_x\": \"cus_query_cnt\", \"is_converted_y\" : \"cus_converted_cnt\"})\n",
        "df = df[df[\"cus_query_cnt\"]>=2]\n",
        "df_train = pd.merge(df_train, df, on='customer_idx', how=\"left\")\n",
        "df_test = pd.merge(df_test, df, on='customer_idx', how=\"left\")"
      ]
    },
    {
      "cell_type": "markdown",
      "source": [
        "####[lead_ratio]\n",
        "문의를 받은 횟수, 문의 중에 converted 된 횟수, converted한 비율을 담당자 별로 계산"
      ],
      "metadata": {
        "id": "vn9fFgi-Brue"
      },
      "id": "vn9fFgi-Brue"
    },
    {
      "cell_type": "code",
      "execution_count": 450,
      "id": "717f9975",
      "metadata": {
        "id": "717f9975"
      },
      "outputs": [],
      "source": [
        "df_cus = df_train.groupby(\"lead_owner\")[\"is_converted\"].count().reset_index()\n",
        "df_real_cus = df_train.groupby(\"lead_owner\")[\"is_converted\"].sum().reset_index()\n",
        "df = pd.merge(df_cus, df_real_cus, on=\"lead_owner\")\n",
        "df[\"lead_ratio\"] = df[\"is_converted_y\"] / df[\"is_converted_x\"]\n",
        "df = df.rename(columns={\"is_converted_x\": \"lead_query_cnt\", \"is_converted_y\" : \"lead_converted_cnt\"})\n",
        "df=df[df[\"lead_query_cnt\"]>=2]\n",
        "df_train = pd.merge(df_train, df, on='lead_owner', how=\"left\")\n",
        "df_test = pd.merge(df_test, df, on='lead_owner', how=\"left\")"
      ]
    },
    {
      "cell_type": "markdown",
      "source": [
        "####[rc_ratio]\n",
        "문의를 받은 횟수, 문의 중에 converted 된 횟수, converted한 비율을 담당 부서 별로 계산"
      ],
      "metadata": {
        "id": "mJDhD_dEBwOe"
      },
      "id": "mJDhD_dEBwOe"
    },
    {
      "cell_type": "code",
      "source": [
        "df_cus = df_train.groupby(\"response_corporate\")[\"is_converted\"].count().reset_index()\n",
        "df_real_cus = df_train.groupby(\"response_corporate\")[\"is_converted\"].sum().reset_index()\n",
        "df = pd.merge(df_cus, df_real_cus, on=\"response_corporate\")\n",
        "df[\"rc_ratio\"] = df[\"is_converted_y\"] / df[\"is_converted_x\"]\n",
        "df = df.rename(columns={\"is_converted_x\": \"rc_query_cnt\", \"is_converted_y\" : \"rc_converted_cnt\"})\n",
        "print(df.head())\n",
        "df=df[df[\"rc_query_cnt\"]>=2]\n",
        "df_train = pd.merge(df_train, df, on='response_corporate', how=\"left\")\n",
        "df_test = pd.merge(df_test, df, on='response_corporate', how=\"left\")"
      ],
      "metadata": {
        "id": "dK7hq6BtByK3",
        "colab": {
          "base_uri": "https://localhost:8080/"
        },
        "outputId": "73e70b92-4448-4e18-f01e-31b998208191"
      },
      "id": "dK7hq6BtByK3",
      "execution_count": 451,
      "outputs": [
        {
          "output_type": "stream",
          "name": "stdout",
          "text": [
            "  response_corporate  rc_query_cnt  rc_converted_cnt  rc_ratio\n",
            "0              LGEAF           182                29  0.159341\n",
            "1              LGEAG             8                 0  0.000000\n",
            "2              LGEAP           321                28  0.087227\n",
            "3              LGEAR           469                65  0.138593\n",
            "4              LGEAS            32                 1  0.031250\n"
          ]
        }
      ]
    },
    {
      "cell_type": "markdown",
      "source": [
        "####[length_ratio]\n",
        "정보를 제공한 비율인 length_ratio"
      ],
      "metadata": {
        "id": "3uyw2QQyDVRd"
      },
      "id": "3uyw2QQyDVRd"
    },
    {
      "cell_type": "code",
      "source": [
        "df_train['length_ratio'] = df_train['bant_submit']*df_train['lead_desc_length']\n",
        "df_test['length_ratio'] = df_test['bant_submit']*df_test['lead_desc_length']"
      ],
      "metadata": {
        "id": "Nj3EDAdeDZ7R"
      },
      "id": "Nj3EDAdeDZ7R",
      "execution_count": 452,
      "outputs": []
    },
    {
      "cell_type": "markdown",
      "source": [
        "####다중공선성 체크"
      ],
      "metadata": {
        "id": "GJfgUH6wfepl"
      },
      "id": "GJfgUH6wfepl"
    },
    {
      "cell_type": "code",
      "source": [
        "# df_all = pd.concat([df_train, df_test])\n",
        "\n",
        "# drop_columns=[\n",
        "# #     'bant_submit',\n",
        "# #      'customer_country',\n",
        "# #      'business_unit',\n",
        "# #        'com_reg_ver_win_rate',\n",
        "# #         'customer_idx',\n",
        "# #         'customer_type',\n",
        "# #         'enterprise',\n",
        "# #        'historical_existing_cnt',\n",
        "#          'id_strategic_ver',\n",
        "#          'it_strategic_ver',\n",
        "# #        'idit_strategic_ver',\n",
        "# #         'customer_job',\n",
        "#          'lead_desc_length',\n",
        "# #        'inquiry_type',\n",
        "# #         'product_category',\n",
        "#          'product_subcategory',\n",
        "#         'product_modelname',\n",
        "# #         'customer_country.1',\n",
        "# #         'customer_position',\n",
        "# #        'response_corporate',\n",
        "# #         'expected_timeline',\n",
        "# #         'ver_cus',\n",
        "# #         'ver_pro',\n",
        "# #        'ver_win_rate_x',\n",
        "# #         'ver_win_ratio_per_bu',\n",
        "# #         'business_area',\n",
        "#         'business_subarea',\n",
        "# #         'lead_owner',\n",
        "# #         'is_converted'\n",
        "#                ]\n",
        "\n",
        "# for column in drop_columns:\n",
        "#     df_all.drop(columns=column, inplace=True)\n",
        "\n",
        "# one_hot_columns=[\n",
        "#     \"customer_country\",\n",
        "#     #\"business_subarea\",\n",
        "#     \"business_area\",\n",
        "#     \"business_unit\",\n",
        "#     \"customer_type\",\n",
        "#     \"enterprise\",\n",
        "#     \"customer_job\",\n",
        "#     \"inquiry_type\",\n",
        "#     \"product_category\",\n",
        "#     #\"product_subcategory\",\n",
        "#     #\"product_modelname\",\n",
        "#     \"customer_country.1\",\n",
        "#     \"customer_position\",\n",
        "#     \"response_corporate\",\n",
        "#     \"expected_timeline\",\n",
        "# ]\n",
        "# df_all = pd.get_dummies(df_all, columns=one_hot_columns)\n",
        "# df_train = df_all.iloc[: len(df_train)]\n",
        "# df_test = df_all.iloc[len(df_train) :]\n",
        "# df_train = df_train.fillna(0)\n",
        "# df_test = df_test.fillna(0)\n",
        "# df_train=df_train.drop(columns=\"id\")\n",
        "\n",
        "\n"
      ],
      "metadata": {
        "id": "uPzVhJImfgUd"
      },
      "id": "uPzVhJImfgUd",
      "execution_count": 453,
      "outputs": []
    },
    {
      "cell_type": "code",
      "source": [
        "# from statsmodels.stats.outliers_influence import variance_inflation_factor\n",
        "\n",
        "# # VIF 계산을 위한 데이터프레임 생성\n",
        "# X = df_train[df_train.columns.tolist()]  # 다중공선성을 확인하고자 하는 변수들을 선택\n",
        "\n",
        "# # VIF 계산\n",
        "# vif = pd.DataFrame()\n",
        "# vif[\"Features\"] = X.columns\n",
        "# vif[\"VIF\"] = [variance_inflation_factor(X.values, i) for i in range(X.shape[1])]\n",
        "\n",
        "# # VIF 출력\n",
        "# #vif[vif['VIF'] >= 10]\n"
      ],
      "metadata": {
        "id": "IQzYsVLZeTEn"
      },
      "id": "IQzYsVLZeTEn",
      "execution_count": 454,
      "outputs": []
    },
    {
      "cell_type": "markdown",
      "id": "4bd47e00",
      "metadata": {
        "id": "4bd47e00"
      },
      "source": [
        "### 레이블 인코딩"
      ]
    },
    {
      "cell_type": "code",
      "execution_count": 455,
      "id": "0b42b1a1",
      "metadata": {
        "id": "0b42b1a1"
      },
      "outputs": [],
      "source": [
        "def label_encoding(series: pd.Series) -> pd.Series:\n",
        "    \"\"\"범주형 데이터를 시리즈 형태로 받아 숫자형 데이터로 변환합니다.\"\"\"\n",
        "\n",
        "    my_dict = {}\n",
        "\n",
        "    # 모든 요소를 문자열로 변환\n",
        "    series = series.astype(str)\n",
        "\n",
        "    for idx, value in enumerate(sorted(series.unique())):\n",
        "        my_dict[value] = idx\n",
        "    series = series.map(my_dict)\n",
        "\n",
        "    return series"
      ]
    },
    {
      "cell_type": "code",
      "source": [],
      "metadata": {
        "id": "RnCaY4KdmLIf"
      },
      "id": "RnCaY4KdmLIf",
      "execution_count": 455,
      "outputs": []
    },
    {
      "cell_type": "code",
      "source": [],
      "metadata": {
        "id": "pS1SWZJsmhgJ"
      },
      "id": "pS1SWZJsmhgJ",
      "execution_count": 455,
      "outputs": []
    },
    {
      "cell_type": "code",
      "execution_count": 456,
      "id": "881a4612",
      "metadata": {
        "colab": {
          "base_uri": "https://localhost:8080/"
        },
        "id": "881a4612",
        "outputId": "b65e51bb-6fd8-4a88-dccb-6ff4c889e91d"
      },
      "outputs": [
        {
          "output_type": "stream",
          "name": "stderr",
          "text": [
            "<ipython-input-456-eaeb566764f4>:39: FutureWarning: Behavior when concatenating bool-dtype and numeric-dtype arrays is deprecated; in a future version these will cast to object dtype (instead of coercing bools to numeric values). To retain the old behavior, explicitly cast bool-dtype arrays to numeric dtype.\n",
            "  df_all = pd.concat([df_train, df_test])\n"
          ]
        }
      ],
      "source": [
        "# 레이블 인코딩할 칼럼들\n",
        "label_columns = [\n",
        "    \"customer_country\",\n",
        "    \"business_subarea\",\n",
        "    # \"business_area\",\n",
        "    # \"business_unit\",\n",
        "    \"customer_type\",\n",
        "    # \"enterprise\",\n",
        "    \"customer_job\",\n",
        "    \"inquiry_type\",\n",
        "    \"product_category\",\n",
        "    #\"product_subcategory\",\n",
        "    #\"product_modelname\",\n",
        "    \"customer_country.1\",\n",
        "    \"customer_position\",\n",
        "    \"response_corporate\",\n",
        "    \"expected_timeline\",\n",
        "]\n",
        "\n",
        "#원핫 인코딩할 칼럼들\n",
        "one_hot_columns=[\n",
        "    # \"customer_country\",\n",
        "    # \"business_subarea\",\n",
        "    \"business_area\",\n",
        "    \"business_unit\",\n",
        "    # \"customer_type\",\n",
        "    \"enterprise\",\n",
        "    # \"customer_job\",\n",
        "     #\"inquiry_type\",\n",
        "    # \"product_category\",\n",
        "    # \"product_subcategory\",\n",
        "    # \"product_modelname\",\n",
        "    # \"customer_country.1\",\n",
        "    # \"customer_position\",\n",
        "    # \"response_corporate\",\n",
        "    # \"expected_timeline\",\n",
        "]\n",
        "\n",
        "df_all = pd.concat([df_train, df_test])\n",
        "\n",
        "for col in label_columns:\n",
        "    df_all[col] = label_encoding(df_all[col])\n",
        "\n",
        "df_all = pd.get_dummies(df_all, columns=one_hot_columns)"
      ]
    },
    {
      "cell_type": "code",
      "source": [
        "df_train.dtypes"
      ],
      "metadata": {
        "colab": {
          "base_uri": "https://localhost:8080/"
        },
        "id": "VQRPGO4BoXz9",
        "outputId": "514530dc-05a7-4c5f-be80-170934e48110"
      },
      "id": "VQRPGO4BoXz9",
      "execution_count": 457,
      "outputs": [
        {
          "output_type": "execute_result",
          "data": {
            "text/plain": [
              "bant_submit                float64\n",
              "customer_country            object\n",
              "business_unit               object\n",
              "com_reg_ver_win_rate       float64\n",
              "customer_idx                 int64\n",
              "customer_type               object\n",
              "enterprise                  object\n",
              "historical_existing_cnt    float64\n",
              "id_strategic_ver           float64\n",
              "it_strategic_ver           float64\n",
              "idit_strategic_ver         float64\n",
              "customer_job                object\n",
              "lead_desc_length           float64\n",
              "inquiry_type                object\n",
              "product_category            object\n",
              "product_subcategory         object\n",
              "product_modelname           object\n",
              "customer_country.1          object\n",
              "customer_position           object\n",
              "response_corporate          object\n",
              "expected_timeline           object\n",
              "ver_cus                      int64\n",
              "ver_pro                      int64\n",
              "ver_win_rate_x             float64\n",
              "ver_win_ratio_per_bu       float64\n",
              "business_area               object\n",
              "business_subarea            object\n",
              "lead_owner                   int64\n",
              "is_converted                  bool\n",
              "cus_query_cnt                int64\n",
              "cus_converted_cnt            int64\n",
              "cus_ratio                  float64\n",
              "lead_query_cnt             float64\n",
              "lead_converted_cnt         float64\n",
              "lead_ratio                 float64\n",
              "rc_query_cnt               float64\n",
              "rc_converted_cnt           float64\n",
              "rc_ratio                   float64\n",
              "length_ratio               float64\n",
              "dtype: object"
            ]
          },
          "metadata": {},
          "execution_count": 457
        }
      ]
    },
    {
      "cell_type": "markdown",
      "source": [
        "#### drop_columns"
      ],
      "metadata": {
        "id": "TSG6d-WaaQbs"
      },
      "id": "TSG6d-WaaQbs"
    },
    {
      "cell_type": "code",
      "execution_count": 458,
      "id": "4d4377e9",
      "metadata": {
        "id": "4d4377e9"
      },
      "outputs": [],
      "source": [
        "drop_columns=[\n",
        "#     'bant_submit',\n",
        "#     'customer_country',\n",
        "#      'business_unit',\n",
        "#        'com_reg_ver_win_rate',\n",
        "#         'customer_idx',\n",
        "#         'customer_type',\n",
        "#         'enterprise',\n",
        "#        'historical_existing_cnt',\n",
        "         'id_strategic_ver',\n",
        "         'it_strategic_ver',\n",
        "#        'idit_strategic_ver',\n",
        "#         'customer_job',\n",
        "         'lead_desc_length',\n",
        "#        'inquiry_type',\n",
        "#         'product_category',\n",
        "         'product_subcategory',\n",
        "        'product_modelname',\n",
        "        'customer_country.1',\n",
        "#         'customer_position',\n",
        "#        'response_corporate',\n",
        "#         'expected_timeline',\n",
        "#         'ver_cus',\n",
        "#         'ver_pro',\n",
        "#        'ver_win_rate_x',\n",
        "#         'ver_win_ratio_per_bu',\n",
        "#         'business_area',\n",
        "        'business_subarea',\n",
        "#         'lead_owner',\n",
        "#         'is_converted'\n",
        "               ]\n",
        "\n",
        "for column in drop_columns:\n",
        "    df_all.drop(columns=column, inplace=True)"
      ]
    },
    {
      "cell_type": "markdown",
      "id": "3a477f93",
      "metadata": {
        "id": "3a477f93"
      },
      "source": [
        "다시 학습 데이터와 제출 데이터를 분리합니다."
      ]
    },
    {
      "cell_type": "code",
      "execution_count": 459,
      "id": "ff10c5fb",
      "metadata": {
        "id": "ff10c5fb"
      },
      "outputs": [],
      "source": [
        "df_train = df_all.iloc[: len(df_train)]\n",
        "df_test = df_all.iloc[len(df_train) :]"
      ]
    },
    {
      "cell_type": "code",
      "execution_count": 460,
      "id": "88cd43cf",
      "metadata": {
        "id": "88cd43cf"
      },
      "outputs": [],
      "source": [
        "df_train = df_train.fillna(0)\n",
        "df_test = df_test.fillna(0)"
      ]
    },
    {
      "cell_type": "code",
      "execution_count": 461,
      "id": "f429b824",
      "metadata": {
        "id": "f429b824"
      },
      "outputs": [],
      "source": [
        "df_train=df_train.drop(columns=\"id\")"
      ]
    },
    {
      "cell_type": "code",
      "execution_count": 462,
      "id": "ed33b6f0",
      "metadata": {
        "colab": {
          "base_uri": "https://localhost:8080/"
        },
        "id": "ed33b6f0",
        "outputId": "859c3f0e-ba08-4acb-8335-279dcb027f97"
      },
      "outputs": [
        {
          "output_type": "execute_result",
          "data": {
            "text/plain": [
              "(53090, 46)"
            ]
          },
          "metadata": {},
          "execution_count": 462
        }
      ],
      "source": [
        "df_train.shape"
      ]
    },
    {
      "cell_type": "code",
      "execution_count": 463,
      "id": "191d2065",
      "metadata": {
        "id": "191d2065"
      },
      "outputs": [],
      "source": [
        "X_train= df_train.drop(\"is_converted\", axis=1)\n",
        "y_train= df_train[\"is_converted\"]\n",
        "X_test = df_test.drop([\"is_converted\", \"id\"], axis=1)"
      ]
    },
    {
      "cell_type": "code",
      "execution_count": 464,
      "id": "581b7c95",
      "metadata": {
        "id": "581b7c95"
      },
      "outputs": [],
      "source": [
        "X_train.reset_index(drop=True, inplace=True)\n",
        "y_train.reset_index(drop=True, inplace=True)"
      ]
    },
    {
      "cell_type": "code",
      "source": [
        "# from statsmodels.stats.outliers_influence import variance_inflation_factor\n",
        "\n",
        "# # VIF 계산을 위한 데이터프레임 생성\n",
        "# X = df_train[X_train.columns.tolist()]  # 다중공선성을 확인하고자 하는 변수들을 선택\n",
        "\n",
        "# # VIF 계산\n",
        "# vif = pd.DataFrame()\n",
        "# vif[\"Features\"] = X.columns\n",
        "# vif[\"VIF\"] = [variance_inflation_factor(X.values, i) for i in range(X.shape[1])]\n",
        "\n",
        "# # VIF 출력\n",
        "# vif[vif['VIF'] >= 10]\n"
      ],
      "metadata": {
        "id": "_PEnArgIbYu1"
      },
      "id": "_PEnArgIbYu1",
      "execution_count": 465,
      "outputs": []
    },
    {
      "cell_type": "markdown",
      "source": [],
      "metadata": {
        "id": "uzBoFio9dhUD"
      },
      "id": "uzBoFio9dhUD"
    },
    {
      "cell_type": "markdown",
      "id": "79ecfa9b",
      "metadata": {
        "id": "79ecfa9b"
      },
      "source": [
        "## 3. 모델 학습"
      ]
    },
    {
      "cell_type": "markdown",
      "id": "3caf257b",
      "metadata": {
        "id": "3caf257b"
      },
      "source": [
        "### 모델 정의"
      ]
    },
    {
      "cell_type": "code",
      "execution_count": 466,
      "id": "3ea295fe",
      "metadata": {
        "colab": {
          "base_uri": "https://localhost:8080/"
        },
        "id": "3ea295fe",
        "outputId": "02011694-7c2c-418c-aa37-9d6b7aa0edaf"
      },
      "outputs": [
        {
          "output_type": "execute_result",
          "data": {
            "text/plain": [
              "array([1., 0.])"
            ]
          },
          "metadata": {},
          "execution_count": 466
        }
      ],
      "source": [
        "y_train.unique()"
      ]
    },
    {
      "cell_type": "code",
      "execution_count": 467,
      "id": "881e7ad9",
      "metadata": {
        "id": "881e7ad9"
      },
      "outputs": [],
      "source": [
        "params={\n",
        "    'objective': 'binary',\n",
        "    'learning_rate':0.01,\n",
        "    \"random_state\":0,\n",
        "}"
      ]
    },
    {
      "cell_type": "code",
      "source": [
        "!pip install -q catboost"
      ],
      "metadata": {
        "id": "FdkCcctSFhOV"
      },
      "id": "FdkCcctSFhOV",
      "execution_count": 468,
      "outputs": []
    },
    {
      "cell_type": "code",
      "execution_count": 469,
      "id": "b6314b37",
      "metadata": {
        "id": "b6314b37"
      },
      "outputs": [],
      "source": [
        "from lightgbm import LGBMClassifier\n",
        "from catboost import CatBoostClassifier\n",
        "from xgboost import XGBClassifier\n",
        "from sklearn.neural_network import MLPClassifier\n",
        "\n",
        "# model = DecisionTreeClassifier(random_state=0)\n",
        "model = LGBMClassifier(**params, class_weight={0: 10, 1:1})\n",
        "# model = XGBClassifier(random_state=0)\n",
        "# model = MLPClassifier(random_state=0)"
      ]
    },
    {
      "cell_type": "markdown",
      "id": "06bf0407",
      "metadata": {
        "id": "06bf0407"
      },
      "source": [
        "## 베이스라인 모델"
      ]
    },
    {
      "cell_type": "code",
      "source": [
        "df_train.columns.tolist()"
      ],
      "metadata": {
        "id": "mJ6LME0spuuf"
      },
      "id": "mJ6LME0spuuf",
      "execution_count": null,
      "outputs": []
    },
    {
      "cell_type": "code",
      "execution_count": 471,
      "id": "dbb6ca94",
      "metadata": {
        "colab": {
          "base_uri": "https://localhost:8080/"
        },
        "id": "dbb6ca94",
        "outputId": "6112557d-0dbe-435e-a3a1-40c4e0c6ec0b"
      },
      "outputs": [
        {
          "output_type": "stream",
          "name": "stdout",
          "text": [
            "######################################## 폴드1 / 폴드5 ########################################\n",
            "[LightGBM] [Warning] Found whitespace in feature_names, replace with underlines\n",
            "[LightGBM] [Info] Number of positive: 1772, number of negative: 40700\n",
            "[LightGBM] [Info] Auto-choosing row-wise multi-threading, the overhead of testing was 0.010410 seconds.\n",
            "You can set `force_row_wise=true` to remove the overhead.\n",
            "And if memory is not enough, you can set `force_col_wise=true`.\n",
            "[LightGBM] [Info] Total Bins 2094\n",
            "[LightGBM] [Info] Number of data points in the train set: 42472, number of used features: 45\n",
            "[LightGBM] [Warning] Found whitespace in feature_names, replace with underlines\n",
            "[LightGBM] [Info] [binary:BoostFromScore]: pavg=0.041722 -> initscore=-3.134119\n",
            "[LightGBM] [Info] Start training from score -3.134119\n",
            "Training until validation scores don't improve for 100 rounds\n",
            "Early stopping, best iteration is:\n",
            "[136]\tvalid_0's binary_logloss: 0.0872921\tvalid_0's f1: 0.646465\n",
            "폴드 1 f1 score: 0.6464646464646465\n",
            "\n",
            "######################################## 폴드2 / 폴드5 ########################################\n",
            "[LightGBM] [Warning] Found whitespace in feature_names, replace with underlines\n",
            "[LightGBM] [Info] Number of positive: 1772, number of negative: 40700\n",
            "[LightGBM] [Info] Auto-choosing col-wise multi-threading, the overhead of testing was 0.120364 seconds.\n",
            "You can set `force_col_wise=true` to remove the overhead.\n",
            "[LightGBM] [Info] Total Bins 2095\n",
            "[LightGBM] [Info] Number of data points in the train set: 42472, number of used features: 45\n",
            "[LightGBM] [Warning] Found whitespace in feature_names, replace with underlines\n",
            "[LightGBM] [Info] [binary:BoostFromScore]: pavg=0.041722 -> initscore=-3.134119\n",
            "[LightGBM] [Info] Start training from score -3.134119\n",
            "Training until validation scores don't improve for 100 rounds\n",
            "Early stopping, best iteration is:\n",
            "[124]\tvalid_0's binary_logloss: 0.0891725\tvalid_0's f1: 0.654187\n",
            "폴드 2 f1 score: 0.6541871921182266\n",
            "\n",
            "######################################## 폴드3 / 폴드5 ########################################\n",
            "[LightGBM] [Warning] Found whitespace in feature_names, replace with underlines\n",
            "[LightGBM] [Info] Number of positive: 1772, number of negative: 40700\n",
            "[LightGBM] [Info] Auto-choosing row-wise multi-threading, the overhead of testing was 0.027912 seconds.\n",
            "You can set `force_row_wise=true` to remove the overhead.\n",
            "And if memory is not enough, you can set `force_col_wise=true`.\n",
            "[LightGBM] [Info] Total Bins 2089\n",
            "[LightGBM] [Info] Number of data points in the train set: 42472, number of used features: 45\n",
            "[LightGBM] [Warning] Found whitespace in feature_names, replace with underlines\n",
            "[LightGBM] [Info] [binary:BoostFromScore]: pavg=0.041722 -> initscore=-3.134119\n",
            "[LightGBM] [Info] Start training from score -3.134119\n",
            "Training until validation scores don't improve for 100 rounds\n",
            "Early stopping, best iteration is:\n",
            "[198]\tvalid_0's binary_logloss: 0.0884225\tvalid_0's f1: 0.614145\n",
            "폴드 3 f1 score: 0.6141450313339302\n",
            "\n",
            "######################################## 폴드4 / 폴드5 ########################################\n",
            "[LightGBM] [Warning] Found whitespace in feature_names, replace with underlines\n",
            "[LightGBM] [Info] Number of positive: 1772, number of negative: 40700\n",
            "[LightGBM] [Info] Auto-choosing row-wise multi-threading, the overhead of testing was 0.330127 seconds.\n",
            "You can set `force_row_wise=true` to remove the overhead.\n",
            "And if memory is not enough, you can set `force_col_wise=true`.\n",
            "[LightGBM] [Info] Total Bins 2092\n",
            "[LightGBM] [Info] Number of data points in the train set: 42472, number of used features: 45\n",
            "[LightGBM] [Warning] Found whitespace in feature_names, replace with underlines\n",
            "[LightGBM] [Info] [binary:BoostFromScore]: pavg=0.041722 -> initscore=-3.134119\n",
            "[LightGBM] [Info] Start training from score -3.134119\n",
            "Training until validation scores don't improve for 100 rounds\n",
            "Early stopping, best iteration is:\n",
            "[183]\tvalid_0's binary_logloss: 0.0907917\tvalid_0's f1: 0.61552\n",
            "폴드 4 f1 score: 0.615520282186949\n",
            "\n",
            "######################################## 폴드5 / 폴드5 ########################################\n",
            "[LightGBM] [Warning] Found whitespace in feature_names, replace with underlines\n",
            "[LightGBM] [Info] Number of positive: 1772, number of negative: 40700\n",
            "[LightGBM] [Info] Auto-choosing row-wise multi-threading, the overhead of testing was 0.010478 seconds.\n",
            "You can set `force_row_wise=true` to remove the overhead.\n",
            "And if memory is not enough, you can set `force_col_wise=true`.\n",
            "[LightGBM] [Info] Total Bins 2096\n",
            "[LightGBM] [Info] Number of data points in the train set: 42472, number of used features: 45\n",
            "[LightGBM] [Warning] Found whitespace in feature_names, replace with underlines\n",
            "[LightGBM] [Info] [binary:BoostFromScore]: pavg=0.041722 -> initscore=-3.134119\n",
            "[LightGBM] [Info] Start training from score -3.134119\n",
            "Training until validation scores don't improve for 100 rounds\n",
            "Early stopping, best iteration is:\n",
            "[159]\tvalid_0's binary_logloss: 0.0884209\tvalid_0's f1: 0.633588\n",
            "폴드 5 f1 score: 0.633587786259542\n",
            "\n",
            "검증 평균 f1 score: 0.6327809876726589\n"
          ]
        }
      ],
      "source": [
        "from sklearn. model_selection import StratifiedKFold\n",
        "import lightgbm as lgb\n",
        "from sklearn.metrics import f1_score\n",
        "\n",
        "folds = StratifiedKFold(n_splits=5, shuffle=True, random_state=0)\n",
        "\n",
        "oof_val_preds = np.zeros(X_train.shape[0])\n",
        "oof_test_preds = np.zeros(X_test.shape[0])\n",
        "\n",
        "def f1score(preds, d_train):\n",
        "    labels = d_train.get_label()\n",
        "    return 'f1', f1_score(labels, np.round(preds)), True\n",
        "\n",
        "params={\n",
        "    'objective': 'binary',\n",
        "    'learning_rate':0.01,\n",
        "    \"random_state\":0,\n",
        "    \"early_stopping_rounds\":100,\n",
        "    \"scale_pos_weight\": 5\n",
        "}\n",
        "\n",
        "f1_score_list=[]\n",
        "feature_importance_list=[]\n",
        "\n",
        "for idx, (train_idx, valid_idx) in enumerate(folds.split(X_train, y_train)):\n",
        "    print('#'*40, f'폴드{idx+1} / 폴드{folds.n_splits}', \"#\"*40)\n",
        "    X_tr, y_tr = X_train.iloc[train_idx], y_train.iloc[train_idx]\n",
        "    X_val, y_val = X_train.iloc[valid_idx], y_train.iloc[valid_idx]\n",
        "\n",
        "    d_train = lgb.Dataset(X_tr, y_tr)\n",
        "    d_valid = lgb.Dataset(X_val, y_val)\n",
        "\n",
        "    lgb_model = lgb.train(params=params,\n",
        "                          train_set=d_train,\n",
        "                          num_boost_round=1000,\n",
        "                          valid_sets=d_valid,\n",
        "                          feval=f1score)\n",
        "\n",
        "    oof_test_preds += lgb_model.predict(X_test) / folds.get_n_splits()\n",
        "    oof_val_preds[valid_idx] += lgb_model.predict(X_val)\n",
        "\n",
        "    f1 = f1_score(y_val, np.round(oof_val_preds[valid_idx]))\n",
        "    f1_score_list.append(f1)\n",
        "    print(f'폴드 {idx+1} f1 score: {f1}\\n')\n",
        "\n",
        "    feature_importance_list.append(lgb_model.feature_importance())\n",
        "\n",
        "print(f'검증 평균 f1 score: {np.mean(f1_score_list)}')\n",
        "# 검증 평균 f1 score:  0.7694154228409034"
      ]
    },
    {
      "cell_type": "code",
      "execution_count": 472,
      "id": "09872b56",
      "metadata": {
        "id": "09872b56",
        "colab": {
          "base_uri": "https://localhost:8080/",
          "height": 564
        },
        "outputId": "0816e66a-a422-41cf-82a8-b4e839866ecf"
      },
      "outputs": [
        {
          "output_type": "display_data",
          "data": {
            "text/plain": [
              "<Figure size 1000x600 with 1 Axes>"
            ],
            "image/png": "[encoded data removed]"
          },
          "metadata": {}
        }
      ],
      "source": [
        "import numpy as np\n",
        "import matplotlib.pyplot as plt\n",
        "\n",
        "# 특징 중요도와 특징 이름을 정렬\n",
        "top_features = 20\n",
        "sorted_indices = np.argsort(-np.mean(feature_importance_list, axis=0))[::-1]\n",
        "sorted_feature_names = [lgb_model.feature_name()[i] for i in sorted_indices][-top_features:]\n",
        "sorted_mean_importance = np.mean(feature_importance_list, axis=0)[sorted_indices][-top_features:]\n",
        "\n",
        "# 바 차트 그리기\n",
        "plt.figure(figsize=(10, 6))\n",
        "plt.barh(sorted_feature_names, sorted_mean_importance)\n",
        "plt.xlabel('Mean Importance')\n",
        "plt.ylabel('Features')\n",
        "plt.title('Mean Feature Importance')\n",
        "plt.show()"
      ]
    },
    {
      "cell_type": "markdown",
      "id": "9d0b6e17",
      "metadata": {
        "id": "9d0b6e17"
      },
      "source": [
        "### 테스트 데이터 예측"
      ]
    },
    {
      "cell_type": "code",
      "execution_count": 473,
      "id": "43daa73c",
      "metadata": {
        "id": "43daa73c"
      },
      "outputs": [],
      "source": [
        "# 예측에 필요한 데이터 분리\n",
        "test_pred = np.where(oof_test_preds >= 0.3, 1, 0)"
      ]
    },
    {
      "cell_type": "code",
      "execution_count": 474,
      "id": "d13f7a6e",
      "metadata": {
        "id": "d13f7a6e",
        "colab": {
          "base_uri": "https://localhost:8080/"
        },
        "outputId": "e793f197-e2f3-4ff5-8972-eeb8d827f8a8"
      },
      "outputs": [
        {
          "output_type": "execute_result",
          "data": {
            "text/plain": [
              "1876"
            ]
          },
          "metadata": {},
          "execution_count": 474
        }
      ],
      "source": [
        "sum(test_pred) # True로 예측된 개수 1038"
      ]
    },
    {
      "cell_type": "markdown",
      "id": "7adf8300",
      "metadata": {
        "id": "7adf8300"
      },
      "source": [
        "## 4. 제출하기"
      ]
    },
    {
      "cell_type": "markdown",
      "id": "47f18e6a",
      "metadata": {
        "id": "47f18e6a"
      },
      "source": [
        "### 제출 파일 작성"
      ]
    },
    {
      "cell_type": "code",
      "execution_count": 475,
      "id": "11eb7117",
      "metadata": {
        "id": "11eb7117"
      },
      "outputs": [],
      "source": [
        "df_test[\"is_converted\"] = test_pred"
      ]
    },
    {
      "cell_type": "code",
      "execution_count": 477,
      "id": "3128a458",
      "metadata": {
        "id": "3128a458"
      },
      "outputs": [],
      "source": [
        "# 제출 데이터 읽어오기 (df_test는 전처리된 데이터가 저장됨)\n",
        "df_sub = pd.read_csv(\"/content/drive/MyDrive/LGaimers/submission.csv\")\n",
        "df_sub[\"is_converted\"]=df_test[\"is_converted\"]\n",
        "\n",
        "# 제출 파일 저장\n",
        "df_sub.to_csv(\"/content/drive/MyDrive/LGaimers/submission_youngho0212.csv\", index=False)"
      ]
    },
    {
      "cell_type": "markdown",
      "id": "ec7867ce",
      "metadata": {
        "id": "ec7867ce"
      },
      "source": [
        "**우측 상단의 제출 버튼을 클릭해 결과를 확인하세요**"
      ]
    }
  ],
  "metadata": {
    "kernelspec": {
      "display_name": "Python 3 (ipykernel)",
      "language": "python",
      "name": "python3"
    },
    "language_info": {
      "codemirror_mode": {
        "name": "ipython",
        "version": 3
      },
      "file_extension": ".py",
      "mimetype": "text/x-python",
      "name": "python",
      "nbconvert_exporter": "python",
      "pygments_lexer": "ipython3",
      "version": "3.11.5"
    },
    "colab": {
      "provenance": [],
      "collapsed_sections": [
        "2b8341e8",
        "412f98cc",
        "TSG6d-WaaQbs",
        "79ecfa9b",
        "3caf257b",
        "06bf0407"
      ]
    }
  },
  "nbformat": 4,
  "nbformat_minor": 5
}