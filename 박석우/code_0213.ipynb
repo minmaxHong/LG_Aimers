{
 "cells": [
  {
   "cell_type": "markdown",
   "id": "017e9265",
   "metadata": {},
   "source": [
    "# 영업 성공 여부 분류 경진대회"
   ]
  },
  {
   "cell_type": "markdown",
   "id": "acdab431",
   "metadata": {},
   "source": [
    "## 1. 데이터 확인"
   ]
  },
  {
   "cell_type": "code",
   "execution_count": 491,
   "id": "a315cc58",
   "metadata": {},
   "outputs": [],
   "source": [
    "from sklearn.model_selection import train_test_split, StratifiedKFold\n",
    "from sklearn.preprocessing import MinMaxScaler\n",
    "from sklearn.metrics import f1_score\n",
    "\n",
    "import lightgbm as lgb\n",
    "import xgboost as xgb\n",
    "\n",
    "import matplotlib.pyplot as plt\n",
    "import pandas as pd\n",
    "import numpy as np"
   ]
  },
  {
   "cell_type": "code",
   "execution_count": 492,
   "id": "7ada941e",
   "metadata": {},
   "outputs": [],
   "source": [
    "df_train = pd.read_csv(\"train.csv\") # 학습용 데이터\n",
    "df_test = pd.read_csv(\"submission.csv\") # 테스트 데이터(제출파일의 데이터)"
   ]
  },
  {
   "cell_type": "markdown",
   "id": "af526c13",
   "metadata": {},
   "source": [
    "## 2.1 데이터 전처리 - 데이터 정제"
   ]
  },
  {
   "cell_type": "code",
   "execution_count": 493,
   "id": "cd64b902",
   "metadata": {},
   "outputs": [
    {
     "name": "stdout",
     "output_type": "stream",
     "text": [
      "(59299, 29) (5271, 30)\n"
     ]
    }
   ],
   "source": [
    "## 정제 전\n",
    "print(df_train.shape, df_test.shape)"
   ]
  },
  {
   "cell_type": "code",
   "execution_count": 494,
   "id": "54a2c520",
   "metadata": {},
   "outputs": [],
   "source": [
    "## 복제된 행 제거\n",
    "df_train.drop_duplicates(inplace=True)"
   ]
  },
  {
   "cell_type": "code",
   "execution_count": 495,
   "id": "e7152bcb",
   "metadata": {},
   "outputs": [],
   "source": [
    "# 무조건 converted하면서 test에 없는 회사인 25096은 삭제\n",
    "del_cus_id=[25096]\n",
    "df_train=df_train[~df_train[\"customer_idx\"].isin(del_cus_id)]"
   ]
  },
  {
   "cell_type": "code",
   "execution_count": 496,
   "id": "75138f5a",
   "metadata": {},
   "outputs": [
    {
     "data": {
      "text/plain": [
       "Index(['bant_submit', 'customer_country', 'business_unit',\n",
       "       'com_reg_ver_win_rate', 'customer_idx', 'customer_type', 'enterprise',\n",
       "       'historical_existing_cnt', 'id_strategic_ver', 'it_strategic_ver',\n",
       "       'idit_strategic_ver', 'customer_job', 'lead_desc_length',\n",
       "       'inquiry_type', 'product_category', 'product_subcategory',\n",
       "       'product_modelname', 'customer_country.1', 'customer_position',\n",
       "       'response_corporate', 'expected_timeline', 'ver_cus', 'ver_pro',\n",
       "       'ver_win_rate_x', 'ver_win_ratio_per_bu', 'business_area',\n",
       "       'business_subarea', 'lead_owner', 'is_converted'],\n",
       "      dtype='object')"
      ]
     },
     "execution_count": 496,
     "metadata": {},
     "output_type": "execute_result"
    }
   ],
   "source": [
    "df_train.columns"
   ]
  },
  {
   "cell_type": "markdown",
   "id": "d9141fc5",
   "metadata": {},
   "source": [
    "### 2.1.1 오타 제어(customer_country --> 완벽하게)"
   ]
  },
  {
   "cell_type": "code",
   "execution_count": 497,
   "id": "f1ff31fb",
   "metadata": {},
   "outputs": [],
   "source": [
    "## 2. customer_country 오타 제어 함수\n",
    "def extract_country_name(x):\n",
    "    if pd.isnull(x):\n",
    "        return 0\n",
    "    else:\n",
    "        idx=-1\n",
    "        a = x.split(\"/\")[idx].strip()\n",
    "        while a=='':\n",
    "            idx-=1\n",
    "            if idx == -4 :\n",
    "                return 0\n",
    "            a = x.split(\"/\")[idx].strip()\n",
    "        if idx != -1:\n",
    "            if a in ['Richmond Hill', 'Vancouver', 'Pickering', 'Winnipeg']:\n",
    "                return 'Canada'\n",
    "            elif a in ['ROURKELA', 'Guna mp', 'MADURAI', 'KOLKATA', 'Ahmedabad', 'Madurai'\n",
    "                       'Mathura', 'Delhi', 'Solan', 'Bengaluru', 'Kanchipuram', 'Erode',\n",
    "                       'NEARAMBEDKAR HOSPET', 'Bhubaneswar', 'LATEHAR', 'Malur', 'Ackerman',\n",
    "                       'Faridabad', 'Vasal', 'Ballia', 'Ludhiana', 'Rajkot']:\n",
    "                return 'India'\n",
    "            elif a in ['Bergdietikon']:\n",
    "                return 'Switzerland' \n",
    "            elif a in ['Lagos, Nigeria', 'Ikoyi', 'Abuja', 'Windhoek']:\n",
    "                return 'Nigeria'\n",
    "            elif a in ['Monrovia']:\n",
    "                return 'Liberia'\n",
    "            elif a in ['Malvern', 'Cambridge', 'Danbury', 'Dundee', 'Boulder', 'Liverpool', 'Winston']:\n",
    "                return 'United Kingdom'\n",
    "            elif a in ['San Jose', 'Bulacan', 'Makati City', 'Manila', 'Cebu', 'Pasig', \n",
    "                       'CALOOCAN CITY', 'dasmarinas city', 'Mandaluyong City','Angeles' 'makati', 'Angeles City',\n",
    "                        'Bataan', 'TAYTAY', 'Las Piñas - Muntinlupa', 'Quezon City' ,'Valenzuela City',\n",
    "                        '314 G. Araneta Ave., Quezon City', 'PASIG CITY', 'Manila', 'San Fernando City, La Union', 'Valenzuela'\n",
    "                        'CAINTA', 'Quezon City', 'Camarines Sur', 'Mandaluyong', 'San Juan city', 'Qc', 'Meycauayan City, Bulacan',\n",
    "                        'Parañaque','Rizal', 'Makati city', 'CITY OF IMUS', 'laGrange', 'Sanford', 'Chilhowie', 'Chesterfield', 'Amherst',\n",
    "                        'Paranaque', 'Cavite', 'CITY OF MARIKINA', 'Bocaue, Bukacan, Philippines']:\n",
    "                return 'Philippines'\n",
    "            elif a in ['Atlanta', 'Tbilisi'] :\n",
    "                return \"Georgia\"\n",
    "            elif a in ['Oslo']:\n",
    "                return 'Norway'\n",
    "            elif a in ['Arroyo Hondo Viejo'] :\n",
    "                return 'Dominican Republic'\n",
    "            elif a in ['Midrand']:\n",
    "                return 'South Africa'\n",
    "            elif a in ['Olsztyn', 'Przemysłowa 4, 37-450 Stalowa Wola']:\n",
    "                return \"Poland\"\n",
    "            elif a in ['San Juan']:\n",
    "                return 'Puerto Rico'\n",
    "            elif a in ['Berlin', 'Weikersheim', 'Herdwangen-Schönach']:\n",
    "                return 'Germany'\n",
    "            elif a in ['Nassau']:\n",
    "                return 'Bahamas'\n",
    "            elif a in ['Sapphire', \"Mission Hills\", 'North Haven', 'Melbourne']:\n",
    "                return 'Australia'\n",
    "            elif a in ['Madrid, Spain', 'Madrid', 'Barrio Viejo De Callosa De Segura']:\n",
    "                return 'Spain'\n",
    "            elif a in ['Kuwait city'] :\n",
    "                return 'Kuwait'\n",
    "            elif a in ['Esch-sur-Alzette']:\n",
    "                return 'Luxembourg'\n",
    "            elif a in ['Tashkent']:\n",
    "                return 'Uzbekistan'\n",
    "            elif a in ['Taipei city']:\n",
    "                return 'Taiwan'\n",
    "            elif a in ['Tokyo']:\n",
    "                return 'Japan'\n",
    "            elif a in ['Thai Binh', 'Hai Duong']:\n",
    "                return 'Vietnam'\n",
    "            elif a in ['Buengkum']:\n",
    "                return 'Thailand'\n",
    "            elif a in ['Gardabaer']:\n",
    "                return 'Iceland'\n",
    "            elif a in ['Riyadh', \"Makkah\", 'Riyadh'] :\n",
    "                return 'Saudi Arabia'\n",
    "            elif a in ['Králův Dvůr Levín']:\n",
    "                return 'Czech Republic'\n",
    "            elif a in ['Cairo', 'Bloch']:\n",
    "                return 'Egypt'\n",
    "            elif a in ['Maseru']:\n",
    "                return 'Lesotho'\n",
    "            elif a in ['Colombo 03']:\n",
    "                return 'Sri Lanka'\n",
    "            elif a in [\"Tirana\"]:\n",
    "                return 'Albania'\n",
    "            elif a in ['70']:\n",
    "                return 0\n",
    "            elif a in ['Jakarta'] :\n",
    "                return 'Indonesia'\n",
    "            elif a in ['Paramaribo'] :\n",
    "                return 'Suriname'\n",
    "            elif a in ['Kampala']:\n",
    "                return 'Uganda'\n",
    "            elif a in ['DUBAI', 'Dubai']:\n",
    "                return 'U.A.E.'\n",
    "            elif a in ['Paradera']:\n",
    "                return 'Aruba'\n",
    "            elif a in ['上海', 'Shenzhen']:\n",
    "                return 'China'\n",
    "            elif a in ['Suva']:\n",
    "                return 'Fiji'\n",
    "            elif a in ['Budapest']:\n",
    "                return 'Hungary'\n",
    "            elif a in ['Amman']:\n",
    "                return 'Jordan'\n",
    "            elif a in ['QURUM']:\n",
    "                return 'Oman'\n",
    "            else:\n",
    "                return 'United States'\n",
    "        if a in ['5555', '48201', 'country', 'A'] :\n",
    "            return 0 \n",
    "        elif '@' in a:\n",
    "            return 0\n",
    "        else:\n",
    "            return a\n"
   ]
  },
  {
   "cell_type": "code",
   "execution_count": 498,
   "id": "9d2bc09d",
   "metadata": {},
   "outputs": [],
   "source": [
    "def cus_cty(df) :\n",
    "  replace_values = {'US' : 'United States',\n",
    "                    '700 Patroon Creek BlvdAlbanyNY12206' : 'United States',\n",
    "                    '239 Court St, Brooklyn, NY 11201, United States' : 'United States',\n",
    "                    'Little Rock, Arkansas, United States' : 'United States',\n",
    "                    'CA 91915-6002' : 'United States',\n",
    "                    '430 N Hamilton RdWhitehall, OH 43213, USA' : 'United States',\n",
    "                    '1110 Morse Rd, Columbus, Ohio, 43229, United States' : 'United States',\n",
    "                    '1755 North Brown Rd. Suite 200 Lawrenceville, GA 30043' : 'United States',\n",
    "                    'Miami, Florida, United States' : 'United States',\n",
    "                    '1100 Lee Ave, Lafayette, LA 70501' : 'United States',\n",
    "                    '85 W Main St Suite C, Canton, GA 30114' : 'United States',\n",
    "                    '101 MetLife Way, Cary, NC, 27513 – MET1' : 'United States',\n",
    "                    '7105 Northland Terrace N, Minneapolis, MN 55428' : 'United States',\n",
    "                    'CA 95814' : 'United States',\n",
    "                    '1275 Sister Grove Rd Van Alstyne, TX 75495' : 'United States',\n",
    "                    '100 Vestavia ParkwayBirminghamAL35216' : 'United States',\n",
    "                    'CA 92618 United States' : 'United States',\n",
    "                    'Rio de Janeiro' : 'Brazil',\n",
    "                    '1605 Ave. Ponce de León, Suite 400 San Juan, 00909, Puerto Rico' : 'Puerto Rico',\n",
    "                    'IL 60069' : 'United States',\n",
    "                    '28001 238th St, Le Claire, IA 52753, USA' : 'United States',\n",
    "                    'Grapevine, Texas, United States United States' : 'United States',\n",
    "                    '700 District Dr, Itasca, IL 60143 United States' : 'United States',\n",
    "                    '6398 College Blvd, Overland Park, KS 66211, United States' : 'United States',\n",
    "                    '3804 W Broadway St, Ardmore, OK 73401, United States' : 'United States',\n",
    "                    'New York City Metropolitan Area, United States': 'United States',\n",
    "                    '2529 W Busch Blvd Suite 1000, Tampa, FL 33618, United States' : 'United States',\n",
    "                    '1100 ITBProvoUT84602' : 'United States',\n",
    "                    'Telangana' : 'India',\n",
    "                    'Jeffersonville, IN United States' : 'United States',\n",
    "                    '6564 Headquarters DrPlanoTX7505' : 'United States',\n",
    "                    '1817 S Washington AveTitusville, FL 32780, USA' : 'United States',\n",
    "                    '63 Flushing Ave Bldg 303, Suite 804, Brooklyn, NY 11205, United States' : 'United States',\n",
    "                    '717 General Booth BlvdVirginia Beach, VA 23451, USA' : 'United States',\n",
    "                    '2877 Prospect Rd, Fort Lauderdale, FL 33309' : 'United States',\n",
    "                    'bangalore' : 'India',\n",
    "                    'MI 48827' : 'United States',\n",
    "                    '810 N KINGSTON DR PEORIA, IL 61604-2145' : 'United States',\n",
    "                    'OH 45215, USA' : 'United States',\n",
    "                    '3801 E Willow St, Long Beach, CA 90815, EE. UU.' : 'United States',\n",
    "                    'Clinton, OK 73601' : 'United States',\n",
    "                    'Ha Noi' : 'Vietnam',\n",
    "                    'ARGENTINA' : 'Argentina',\n",
    "                    '3100 Shore Drive Virginia Beach, VA 23451' : 'United States',\n",
    "                    'Los Angeles, California, United States' : 'United States',\n",
    "                    'West Caldwell NJ 07960 United States' : 'United States',\n",
    "                    '881 S Division St, Buffalo, NY 14210, United States' : 'United States',\n",
    "                    '12718 Kitten Trail, Hudson, FL 34669' : 'United States',\n",
    "                    'FL 33772' : 'United States',\n",
    "                    '13351 Dovers St, Waverly, NE 68462, United States' : 'United States',\n",
    "                    'Jacksonville Florida' : 'United States',\n",
    "                    'Ohio United States' : 'United States',\n",
    "                    '1100 Lee Ave, Lafayette, LA 70501' : 'United States',\n",
    "                    '6564 Headquarters DrPlanoTX75051' : 'United States',\n",
    "                    'RJ' : 'Brazil',\n",
    "                    'TX 78572 United States' : 'United States',\n",
    "                    '117 Bernal Rd Ste70-422San JoseSan JoseCA95119 ' : 'United States',\n",
    "                    '993 Niagara Ave, San Diego, CA 92107 United States' : 'United States',\n",
    "                    'Four Embarcadero Center Suite 1400 #85, San Francisco, CA 94111 United States' : 'United States',\n",
    "                    'odisha' : 'India',\n",
    "                    'lucknow' : 'India',\n",
    "                    '1036 n nalder st' : 'United States',\n",
    "                    'United States 32901' : 'United States',\n",
    "                    '2100 Engineer Rd, Oakland, CA 94607, United States' : 'United States',\n",
    "                    'Via E. De Amicis, 23 . 90044 Carini (PA)' : 'Italy',\n",
    "                    '136 S IndustrialSalineMI48176' : 'United States',\n",
    "                    '335 League St S, Sulphur Springs, TX 75482' : 'United States',\n",
    "                    'United States 14503.' : 'United States',\n",
    "                    'gurgaon' : 'India',\n",
    "                    '30 Winter Street Boston, MA 02108' : 'United States',\n",
    "                    '275 John Hancock Rd. Taunton, MA, 02780' : 'United States',\n",
    "                    'MA 02062 United States' : 'United States',\n",
    "                    'Pune' : 'India',\n",
    "                    'FL 33025' : 'United States',\n",
    "                    'Bari, Italy' : 'Italy',\n",
    "                    '8 Gay St, Christiana, PA 17509 United States' : 'United States', # 게이 뭐노 ㅋ,\n",
    "                    '500 N Highway 89 North, Prescott AZ 86313 United States' : 'United States',\n",
    "                    '609 Medical Center Dr. Decatur, Texas, 76234'  : 'United States',\n",
    "                    '7703 Floyd Curl Dr MC 7800, San Antonio TX 78229 United States' : 'United States',\n",
    "                    'St Cloud, MN 56303' : 'United States',\n",
    "                    '7581 S Franklin Way, Centennial, CO 80122, United States' : 'United States',\n",
    "                    # '' : 'United States',\n",
    "                    'Honduras' : 'Honduras',\n",
    "                    'CARRERA 11A 94-46 EDIFICIO CHICO 3000 PISO 3 BOGOTA' : 'Colombia',\n",
    "                    'Netherlands Antilles' : 'Netherlands',\n",
    "                    '823 Gateway Center Way, San Diego, CA 92102' : 'United States',\n",
    "                    'Colombia  Cartagena' : 'Colombia',\n",
    "                    'Cuiabá' : 'Brazil',\n",
    "                    'CO 80127' : 'United States',\n",
    "                    'TX 75098' : 'United States',\n",
    "                    'MO 64506' : 'United States',\n",
    "                    '1222 Eastwick CirMurphy, TX 75094, United States' : 'United States',\n",
    "                    '545 West 111th st Suite 7C' : 'United States',\n",
    "                    'P.O. Box 291992, Port Orange, FL 32129' : 'United States',\n",
    "                    'Isle of Man' : 'United Kingdom', # 아일랜드해안에 있지만, 영국왕국과 결합되어 있다함(사실 별도의 영토는 맞긴한데, 일단 영국으로)\n",
    "                    'NY 10566 United States' : 'United States',\n",
    "                    'GA 30039' : 'United States',\n",
    "                    'Centro de Produção Audiovisual - Sesc São Paulo' : 'Brazil',\n",
    "                    'Aparecida' : 'Brazil',\n",
    "                    'Colombia - cartagena' : 'Colombia',\n",
    "                    'Capão da canoa' : 'Brazil',\n",
    "                    'São Paulo' : 'Brazil',\n",
    "                    '1919 Minnesota Ct, Mississauga, ON L5N' : 'Canada',\n",
    "                    '54 Sugar Creek Center Blvd #300, Sugar Land, TX 77478, United States' : 'United States',\n",
    "                    'João Pessoa' : 'Brazil',\n",
    "                    'PerU' : 'Peru',\n",
    "                    'TN 38120' : 'United States',\n",
    "                    'Richardson, Texas, United States' : 'United States',\n",
    "                    'Sao Paulo' : 'Brazil',\n",
    "                    '2367 N 2650 WFarr WestUT84404' : 'United States',\n",
    "                    '4880 Stevens Creek BlvdSan JoseCA95129' : 'United States',\n",
    "                    '3131 BriarPark Dr Suite 200HoustonTX77042' : 'United States',\n",
    "                    '450 Riverchase PkwyBirminghamAL35186' : 'United States',\n",
    "                    '450 Riverchase PkwyBirminghamAL35186' : 'United States',\n",
    "                    '1397 Etowah DriveAtlantaGA30319' : 'United States',\n",
    "                    '3 Nasson Avenue' : 'United States',\n",
    "                    'Largo, Florida, United States United States' : 'United States',\n",
    "                    'FL 33013' : 'United States',\n",
    "                    'Bucaramanga' : 'Colombia',\n",
    "                    '7610 Market St, Canton, MI 48187, United States' : 'United States',\n",
    "                    '116 Village Blvd Suite 200, Princeton, NJ 08540 United States' : 'United States',\n",
    "                    'Dourados' : 'Brazil',\n",
    "                    'Foz de Iguaçu - PR Avenida Tancredo Neves 6731 Jardim Itaipu' : 'Brazil',\n",
    "                    'St Maarten' : 'France', # 프랑스, 네델란드간 분쟁 지역 (프랑스가 더 쌤)\n",
    "                    'Recife' : 'Brazil',\n",
    "                    'São Paulo, Pinheiros' : 'Brazil',\n",
    "                    'Cartagena' : 'Colombia',\n",
    "                    'Firenze, Italy' : 'Italy',\n",
    "                    'OR 97128' : 'United States',\n",
    "                    'Colombia C2: Solo información' : 'Colombia',\n",
    "                    'Ironhorse Customs LLC 4443 Genella Way North Las Vegas, NV 89031' : 'United States',\n",
    "                    'San Francisco, CA 94128, United States' : 'United States',\n",
    "                    '14700 Caribbean Way' : 'United States',\n",
    "                    'Bus Shed, 6501 Red Hook Rd #201, Nazareth, St Thomas 00802, U.S. Virgin Islands' : 'United States',\n",
    "                    '1600 Rosecrans Ave bldg 7 ste 101, Manhattan Beach, CA 90266,' : 'United States',\n",
    "                    'FL 32703' : 'United States',\n",
    "                    'AGOST, ALICANTE' : 'Spain',\n",
    "                    'Ohio' : 'United States',\n",
    "                    'NV 89119' : 'United States',\n",
    "                    'VA 22209' : 'United States',\n",
    "                    'NY' : 'United States',\n",
    "                    'Θέση Πέτσα Βακαλοπούλου ΒΙΟΠΑ Παλλήνης  153 51 ' : 'Greece',\n",
    "                    'SPAIN ' : 'Spain',\n",
    "                    'MADRID' : 'Spain',\n",
    "                    'ELCHE, ALICANTE' : 'Spain',\n",
    "                    '1800 Congress Ave., Austin, TX 78701' : 'United States',\n",
    "                    'CA 92657 United States' : 'United States',\n",
    "                    '9631 Liberty Rd B, Randallstown, MD 21133' : 'United States',\n",
    "                    'Benbrook, TX 76126' : 'United States',\n",
    "                    'SC 29555' : 'United States',\n",
    "                    '6252 E Grant Rd suite 150 Tucson, AZ 85712' : 'United States',\n",
    "                    'MO 64802 ' : 'United States',\n",
    "                    'gujarat' : 'India',\n",
    "                    'IN 46601, EE. UU.' : 'United States',\n",
    "                    'Warren, OH 44483.' : 'United States',\n",
    "                    '1 Hoag Dr.' : 'United States',\n",
    "                    '210 Route 4 East Fl 4' : 'United States',\n",
    "                    '21903 Ranier Ln' : 'United States',\n",
    "                    'NY 11358' : 'United States',\n",
    "                    'CA 95618' : 'United States',\n",
    "                    'New Hampshire' : 'United States',\n",
    "                    'GA 31405' : 'United States',\n",
    "                    'Wyckoff, NJ 07481, USA' : 'United States',\n",
    "                    '750 Florida Central Parkway Suite #100 Longwood, FL 32750' : 'United States',\n",
    "                    'FL 33404' : 'United States',\n",
    "                    '101 Clyde Ave Longwood, FL 32750, USA' : 'United States',\n",
    "                    'CA' : 'United States',\n",
    "                    'IL 61615' : 'United States',\n",
    "                    'Herndon, VA 20170' : 'United States',\n",
    "                    '724 W Business US Highway 60, Dexter, MO 63841,' : 'United States',\n",
    "                    'Square at, 2662 Gateway Rd Suite 165, Carlsbad, CA 92009' : 'United States',\n",
    "                    '1156 W Armitage Ave suite b, Chicago, IL 60614, US.' : 'United States',\n",
    "                    'MO 63103, USA' : 'United States',\n",
    "                    'MO 63103' : 'United States',\n",
    "                    'GRAN CANARIAS PLAYA DEL INGLES' : 'Spain',\n",
    "                    'CACERES' : 'Spain',\n",
    "                    '4278 S Buffalo St  Orchard Park, NY 14127' : 'United States',\n",
    "                    '1775 Liberty Dr, Fort Belvoir, VA 22060, United States' : 'United States',\n",
    "                    '8569 Sudley Rd Ste C Historic District, Manassas, VA 20110, USA' : 'United States',\n",
    "                    'MA 02780' : 'United States',\n",
    "                    'MN 55024' : 'United States',\n",
    "                    'Delmar, NY 12054 United States' : 'United States',\n",
    "                    'IL 60638 United States' : 'United States',\n",
    "                    'MO 64108' : 'United States',\n",
    "                    'CA 92078' : 'United States',\n",
    "                    'IL 60563United States' :  'United States',\n",
    "                    'SD 57751' : 'United States',\n",
    "                    '990 S Madera Ave, Kerman, CA 93630, United States' : 'United States',\n",
    "                    '135 Broadway, Schenectady, NY 12305, United States' : 'United States',\n",
    "                    '1491 Furnace St, Montgomery, AL 36104, United States' : 'United States',\n",
    "                    '1385 N Weber Rd, Romeoville, IL 60446,' : 'United States',\n",
    "                    '463 Industrial Park Rd, Elysburg, PA 17824, US' : 'United States',\n",
    "                    'CA 94555 United States' : 'United States',\n",
    "                    'UT 84116' : 'United States',\n",
    "                    '990 Biscayne Dr, Concord, NC 28027, United States' : 'United States',\n",
    "                    'Nicolosi (CT), Italy' : 'Italy',\n",
    "                    'FL 33442' : 'United States',\n",
    "                    'FL 33716' : 'United States',\n",
    "                    '3440 Rockefeller Ct Waldorf, MD 20602' : 'United States',\n",
    "                    'Arlington, NY 12603' : 'United States',\n",
    "                    '65 Grove Street, Suite 204  Watertown, MA 02472' : 'United States',\n",
    "                    '13854 Lakeside Cir Sterling Heights, MI 48313' : 'United States',\n",
    "                    '9110 Forest CrossingThe WoodlandsTX77381' : 'United States',\n",
    "                    'OK 73601 United States' : 'United States',\n",
    "                    'Hacienda Heights, California, United States' : 'United States',\n",
    "                    'Connecticut United States' : 'United States',\n",
    "                    'Caldwell, New Jersey, United States United States' : 'United States',\n",
    "                    'Gujarat' : 'India',\n",
    "                    'Chennai' : 'India',\n",
    "                    'Jamaica, NY 11417, USA' : 'United States',\n",
    "                    'indore' : 'India',\n",
    "                    'US Virgin Islands' : 'United Kingdom', # 영국이랑 가까워서 영국으로 해놓음\n",
    "                    'KS 66217' : 'United States',\n",
    "                    'NJ 07013' : 'United States',\n",
    "                    'TX 77024' : 'United States',\n",
    "                    '30 Cambria Ave, Pleasantville, NJ 08232' : 'United States',\n",
    "                    '4278 S Buffalo St Orchard Park, NY 14127' : 'United States',\n",
    "                    '723 S Valley Way, Palmer, AK 99645' : 'United States',\n",
    "                    'Zip 98433' : 'United States',\n",
    "                    'bhilwara' : 'India',\n",
    "                    'ND' : 'United States', # 노스다코타주(미국 도시이름) 줄임말 같음\n",
    "                    'VT 05672' : 'United States',\n",
    "                    '800 3rd Ave 3rd floor, New York, NY 10022' : 'United States',\n",
    "                    'BR' : 'Brazil', # 브라질 iso국가부호\n",
    "                    'kerela' : 'India',\n",
    "                    'uttar pradesh' : 'India',\n",
    "                    'Anand Vihar Delhi' : 'India',\n",
    "                    'hyderabad' : 'India',\n",
    "                    \"Via dell'informatica 10 - 37036 San Martino Buon Albergo (Veneto), Italy\" : ' Italy',\n",
    "                    'Belo Horizonte' : 'Brazil',\n",
    "                    '15806 Longship Ct' : 'United States',\n",
    "                    '2350 Airport FrwyBedfordTX76022' : 'United States',\n",
    "                    '1999 S Bascomb AveSuite 1000CampbellCA95008' : 'United States',\n",
    "                    '9716 McFarring DrFort WorthTX76244' : 'United States',\n",
    "                    '200 cabelLouisvilleKY40206' : 'United States',\n",
    "                    '1112 Badger Vine LaneArlingtonTX76005' : 'United States',\n",
    "                    '6111 W Plano Pkwy #2100PlanoTX75093' : 'United States',\n",
    "                    '100 Sabine River Dr.HuttoTX78634' : 'United States',\n",
    "                    '6300 Harry Hines BlvdSte. 1400DallasTX75235' : 'United States',\n",
    "                    '100 first stSan FranciscoCA94015' : 'United States',\n",
    "                    '899 Kifer RoadSunnyvaleCA94086' : 'United States',\n",
    "                    '2217 HOUSTON DRIVEMelissaTX75454' : 'United States',\n",
    "                    '829 Jackson ave' : 'United States',\n",
    "                    '3027 West Bay Villa Ave' : 'United States',\n",
    "                    '126 Diablo Ranch Court' : 'United States',\n",
    "                    '1537 Rolling Hills Dr.' : 'United States',\n",
    "                    '1715 Forest Cove Drive,  Apt 201' : 'United States',\n",
    "                    '410 Baylor StAustinTX78703' : 'United States',\n",
    "                    '9111 cypress waters blvdDallasTX75038' : 'United States',\n",
    "                    '9420 West Sam Houston Pkwy NHoustonTX77018' : 'United States',\n",
    "                    '6 Kimball LaneLynnfieldMA1940' : 'United States',\n",
    "                    '9820 Northcross Center CtHuntersvilleNC28078' : 'United States',\n",
    "                    '9800 S. Monroe StreetSandyUT84070' : 'United States',\n",
    "                    '2475 Washington BlvdOgdenUT84401' : 'United States',\n",
    "                    '400 Centre StNewtonMA2458' : 'United States',\n",
    "                    '400 Centre StreetNewtonMA2458' : 'United States',\n",
    "                    '36 Margin StPeabodyMA1960' : 'United States',\n",
    "                    '77 Massachusetts AveCambridgeMA2139' : 'United States',\n",
    "                    '160 Gould St Ste 300, Needham Heights, Massachusetts 02494NeedhamMA2721' : 'United States',\n",
    "                    '9 Landsdowne StreetBostonMA2215' : 'United States',\n",
    "                    '1209 Derby Run Carrollton, TX 75007CarrolltonTX75007' : 'United States',\n",
    "                    'One Constitution RoadBostonMA2129' : 'United States',\n",
    "                    '252 Beech AvenueMelroseMA2176' : 'United States',\n",
    "                    '5301 Stevens Creek BlvdSanta ClaraCA95051' : 'United States',\n",
    "                    '230 Highland Ave, Suite 531SomervilleMA2143' : 'United States',\n",
    "                    '7700 West Sunrise BlvdPlantationFL33322' : 'United States',\n",
    "                    '602 Saber Creek Drive' : 'United States',\n",
    "                    '11330 Clay RdHoustonTX77041' : 'United States',\n",
    "                    '1 Skyview drFort WorthTX76155' : 'United States',\n",
    "                    '416 Panzano Drive' : 'United States',\n",
    "                    '5501 Headquarters DrPlanoTX75024' : 'United States',\n",
    "                    '2266 Palmer Dr.' : 'United States',\n",
    "                    '1380 Enterprise Dr' : 'United States',\n",
    "                    '6601 Carroll Highlands Rd' : 'United States',\n",
    "                    '275 Mishawum Road' : 'United States',\n",
    "                    '222 Maxine Dr' : 'United States',\n",
    "                    '2900 Highway 280Suite 250BirminghamAL35223' : 'United States',\n",
    "                    '305 John Street' : 'United States',\n",
    "                    'MA 01851' : 'United States',\n",
    "                    '600 5th Street' : 'United States',\n",
    "                    'IL 60191' : 'United States',\n",
    "                    'Cra. 51 #12 sur-75, San Fernando, Itagüi, Medellín, Guayabal, Medellín, Antioquia, Colombia' : 'Colombia',\n",
    "                    '3000 Montour Church Road' : 'United States',\n",
    "                    '9820HuntersvilleNC28078' : 'United States',\n",
    "                    '152 Bowdoin Street' : 'United States',\n",
    "                    'PO Box 112292CarrolltonTX75011' : 'United States',\n",
    "                    '825 Eastlake Ave E' : 'United States',\n",
    "                    '955 Powell Ave SW' : 'United States',\n",
    "                    '2047  w summerdale ave' : 'United States',\n",
    "                    '1560 Chance Ct' : 'United States',\n",
    "                    '8454 Muirwood TrlFort WorthTX76137' : 'United States',\n",
    "                    '1503 LBJ ParkwaySuite 700Farmers BranchTX75234' : 'United States',\n",
    "                    '7673 HEMPSTON CIR' : 'United States',\n",
    "                    '1808 Lithgow RdCelinaTX75009' : 'United States',\n",
    "                    '1001 Main St' : 'United States',\n",
    "                    '1909 Forest Knoll DrHooverAL35244' : 'United States',\n",
    "                    '106 Lakeview DrHomewoodAL35209' : 'United States',\n",
    "                    '24082 Carmel Dr' : 'United States',\n",
    "                    '417 20th St NBirminghamAL35203' : 'United States',\n",
    "                    '594 Howard StSan FranciscoCA94105' : 'United States',\n",
    "                    '594 Howard StSan FranciscoCA94106' : 'United States',\n",
    "                    '31700 Temecula Parkway, Temecula CA 92592 United States' : 'United States',\n",
    "                    '300 East Park Drive' : 'United States',\n",
    "                    'Manaus' : 'Brazil',\n",
    "                    'SPAIN' : 'Spain',\n",
    "                    ', MO 64802' : 'United States',\n",
    "                    'Columbia' : 'Colombia',\n",
    "                    'Canda' : 'Canada',\n",
    "                    'Θέση Πέτσα Βακαλοπούλου ΒΙΟΠΑ Παλλήνης  153 51' : 'Greece',\n",
    "                    '117 Bernal Rd Ste70-422San JoseSan JoseCA95119' : 'United States',\n",
    "                    '6005 Commerce Dr. Ste. 300' : 'United States',\n",
    "                    '17215 Welby Way' : 'United States',\n",
    "                    '45 n 200 wWillardUT84340' : 'United States',\n",
    "                    'Swaziland' : 'Switzerland',\n",
    "                    'Nevada' : 'United States',\n",
    "                    '1100 Lee Ave, Lafayette, LA 70501,' : 'United States',\n",
    "                    'MO 64108.' : 'United States',\n",
    "                    'mumbai' : 'India',\n",
    "                    'Barranquilla' : 'Colombia',\n",
    "                    'UAE Dubai' : 'U.A.E.',\n",
    "                    'COLOMBIA' : 'Colombia',\n",
    "                    'Türkiye' : 'Turkey',\n",
    "                    'EGYPT' : ' Egypt',\n",
    "                    'Democratic Republic of the Congo' : 'Congo',\n",
    "                    'St Kitts' : 'Saint Kitts and Nevis',\n",
    "                    'Antigua' : 'Antigua and Barbuda',\n",
    "                    'Ivory Coast' : \"Cote d'Ivoire\",\n",
    "                    'British Virgin Islands' : 'United Kingdom',\n",
    "                    '85 W Main St Suite C, Canton, GA 30114,' : 'United States',\n",
    "                    'Turks and Caicos Islands' : 'United Kingdom',\n",
    "                    'VALENCIA' : 'Spain',\n",
    "                    'Dominican republic': 'Dominican Republic',\n",
    "                    'UNITED STATES': 'United States',\n",
    "                    'NE' : 'United States',\n",
    "                    'FL' : 'United States',\n",
    "                    'TX' : 'United States',\n",
    "                    'NJ' : 'United States',\n",
    "                    'NIM' : 'United States',\n",
    "                    'NM' : 'United States',\n",
    "                    'Englewood, CO' : 'United States',\n",
    "                    'W126 N7449 Flint Drive Menomonee Falls VA' : 'United States',\n",
    "                    '3 Center Plz Suite 330 Boston, MA 02108' : 'United States',\n",
    "                    'Curaçao': 'Netherlands',\n",
    "                    '5003 Lady Of The Lake Dr  Raleigh NC': 'United States',\n",
    "                    '233 South Beaudry Avenue  Los Angeles CA': 'United States',\n",
    "                    '603 Heritage Drive  Mount Juliet': 'United States',\n",
    "                    'Sandford': 'United Kingdom',\n",
    "                    'BLOOMSBURY': 'United Kingdom',\n",
    "                    'Southfield': 'United States',\n",
    "                    'Indianapolis': 'United States',\n",
    "                    'maharashtra': 'India',\n",
    "                    'Salt Lake City': 'United States',\n",
    "                    'New York': 'United States',\n",
    "                    'Soufriere': 'Saint Lucia',\n",
    "                    'Mumbai': 'India',\n",
    "                    'San Diego': 'United States',\n",
    "                    'Batavia': 'Indonesia',\n",
    "                    'Bangalore': 'India',\n",
    "                    'Houston': 'United States',\n",
    "                    }\n",
    "\n",
    "  df['customer_country'] = df['customer_country'].replace(replace_values)\n",
    "  return df"
   ]
  },
  {
   "cell_type": "code",
   "execution_count": 499,
   "id": "2a0d31f4",
   "metadata": {},
   "outputs": [],
   "source": [
    "## 2. customer_country\n",
    "df_train[\"customer_country\"] = df_train[\"customer_country\"].apply(extract_country_name)\n",
    "df_test[\"customer_country\"] = df_test[\"customer_country\"].apply(extract_country_name)\n",
    "\n",
    "df_train = cus_cty(df_train)\n",
    "df_test = cus_cty(df_test)"
   ]
  },
  {
   "cell_type": "code",
   "execution_count": 500,
   "id": "4ee34762",
   "metadata": {},
   "outputs": [],
   "source": [
    "# # df_country 결측치 채우기 -> 별로 인듯\n",
    "# df_all = pd.concat([df_train, df_test])\n",
    "# df_c = df_all.groupby(['response_corporate', 'customer_country'])[\"is_converted\"].count().reset_index()\n",
    "\n",
    "# def get_max_group(group):\n",
    "#     max_row = group.loc[group['is_converted'].idxmax()]\n",
    "#     return max_row['customer_country']\n",
    "\n",
    "# result = df_c.groupby('response_corporate').apply(get_max_group)\n",
    "\n",
    "# zero_indices = df_train.index[df_train['customer_country']==0]\n",
    "# for index in zero_indices:\n",
    "#     df_train.loc[index, 'customer_country']=result[df_train.loc[index, \"response_corporate\"]]"
   ]
  },
  {
   "cell_type": "markdown",
   "id": "cd21a8eb",
   "metadata": {},
   "source": [
    "### 2.1.2 오타제어(customer_position --> 상위 10개만 살리자)"
   ]
  },
  {
   "cell_type": "code",
   "execution_count": 501,
   "id": "f32f0bbc",
   "metadata": {},
   "outputs": [],
   "source": [
    "def position_refine(df):\n",
    "    replace_words={\n",
    "        'other': 0,\n",
    "        'this is a consume display requirement for home purpose.':0,\n",
    "        'vicepresident': 'vice president',\n",
    "        'bulgaria' : 0,\n",
    "        'lider de desarrollo': 'ceo/founder',\n",
    "        'decision-influencer': 'ceo/founder',\n",
    "        'decision-maker': 'ceo/founder',\n",
    "        'architecture/consult' : 'architect/consultant',\n",
    "        'software /solution provider' :  'software/solution provider',\n",
    "        'vp' : 'vice president',\n",
    "        'prof.' : 'professor',\n",
    "        'pgt Physcis': \"post graduate teacher in physics\",\n",
    "        'asst prof.': 'assistant professor',\n",
    "        'ceo/fundador': 'ceo/founder',\n",
    "        'gerente': 'manager',\n",
    "        'tierarzt': 'veterinarian',\n",
    "        'técnico' : 'technician',\n",
    "        'exhibitiontv' : 0,\n",
    "        'proprietário(a)' : 'owner',\n",
    "        'genel müdür' : 'ceo/founder',\n",
    "        'mindenes' : 0,\n",
    "        'főorvos' : 'chief physician',\n",
    "        'surgery professional' : 'surgeon',\n",
    "        'research': 'researcher',\n",
    "        'the big boss': 'ceo/founder',\n",
    "        'radiology professional' : 'radiologist',\n",
    "        'associate professor in electornics engg': 'associate professor',\n",
    "        'assistant professor of enlish': 'assistant professor',\n",
    "        'consulting': 'consultant',\n",
    "        'education': 'educator',\n",
    "        'education professional': 'educator',\n",
    "        'english trainer for ielts,toefl,pte,gre,sat exams.' : 'english trainer',\n",
    "        'entrylevel': 'entry level',\n",
    "        'exhibitiontv': 'exhibitiontv',\n",
    "        'founder': 'ceo/founder',\n",
    "        'no influence': 0,\n",
    "        'c-levelexecutive': 'c-level executive',\n",
    "        'others': 0,\n",
    "        'none': 0,\n",
    "    ## 상위 10개로 분류\n",
    "        'leader': 'ceo/founder',\n",
    "        'av management': 'manager',\n",
    "        'business partner': 'partner',\n",
    "        'business unit director': 'director',\n",
    "        'chairman': 'manager',\n",
    "        'chief executive officer': 'ceo/founder',\n",
    "        'commercial end-user': 'end-usr',\n",
    "        'decision influencer': 'ceo/founder',\n",
    "        'decision maker' : 'leader',\n",
    "        'leadership/executive office/owner': 'ceo/founder',\n",
    "        'market intelligence/research': 'associate/analyst',\n",
    "        'owner': 'ceo/founder',\n",
    "        'principal & dirctor': 'director',\n",
    "        'product management': 'manager',\n",
    "        'intern': 'trainee'\n",
    "    }\n",
    "    df['customer_position'].replace(replace_words, inplace=True)\n",
    "    return df\n",
    "    \n",
    "    "
   ]
  },
  {
   "cell_type": "code",
   "execution_count": 502,
   "id": "88636c49",
   "metadata": {},
   "outputs": [],
   "source": [
    "df_train = position_refine(df_train)\n",
    "df_test = position_refine(df_test)"
   ]
  },
  {
   "cell_type": "code",
   "execution_count": 503,
   "id": "afa0486f",
   "metadata": {},
   "outputs": [],
   "source": [
    "def preprocess_customer_position(df):\n",
    "\n",
    "    # 가장 많이 나오는 변수 상위 10개를 저장\n",
    "    top10_positions = df['customer_position'].value_counts().index[:10]\n",
    "\n",
    "    # 상위 10개에 속하지 않는 경우 0로 변경\n",
    "    df['customer_position'] = df['customer_position'].apply(lambda x: x if x in top10_positions else 0)\n",
    "\n",
    "    return df\n",
    "\n",
    "# 함수를 훈련 데이터와 테스트 데이터에 적용\n",
    "df_train = preprocess_customer_position(df_train)\n",
    "df_test = preprocess_customer_position(df_test)"
   ]
  },
  {
   "cell_type": "code",
   "execution_count": 504,
   "id": "667268e6",
   "metadata": {},
   "outputs": [],
   "source": [
    "## 18. customer_country.1 이거 customer_country랑 엄청 달라 ㅅㅂ --> 세밀하게 전처리 해야 할 듯\n",
    "df_train[\"customer_country.1\"] = df_train[\"customer_country.1\"].apply(extract_country_name)\n",
    "df_test[\"customer_country.1\"] = df_test[\"customer_country.1\"].apply(extract_country_name)\n",
    "\n",
    "df_train = cus_cty(df_train)\n",
    "df_test = cus_cty(df_test)"
   ]
  },
  {
   "cell_type": "markdown",
   "id": "c9444cd4",
   "metadata": {},
   "source": [
    "### 2.1.3 오타제어(customer_type) --> 상위 3개 or 5개만 살리자"
   ]
  },
  {
   "cell_type": "code",
   "execution_count": 505,
   "id": "7a6a310b",
   "metadata": {},
   "outputs": [],
   "source": [
    "def preprocess_customer_type(df):\n",
    "    # 'End-Customer'를 'End Customer'로 변경\n",
    "    df['customer_type'] = df['customer_type'].replace('End-Customer', 'End Customer')\n",
    "    df['customer_type'] = df['customer_type'].replace('Specifier / Influencer', 'Specifier/ Influencer')\n",
    "    # df['customer_type'] = df['customer_type'].replace('Channel Partner', 'Partner')\n",
    "    # df['customer_type'] = df['customer_type'].replace('Service Partner', 'Partner')\n",
    "    # df['customer_type'] = df['customer_type'].replace('Solution Eco-Partner', 'Partner')\n",
    "    # 가장 많이 나오는 변수 상위 5개를 저장\n",
    "    top5_types = df['customer_type'].value_counts().index[:5]\n",
    "\n",
    "    # 상위 5개에 속하지 않는 경우 'others'로 변경\n",
    "    df['customer_type'] = df['customer_type'].apply(lambda x: x if x in top5_types else 0)\n",
    "\n",
    "    return df\n",
    "\n",
    "# 함수를 훈련 데이터와 테스트 데이터에 적용\n",
    "df_train = preprocess_customer_type(df_train)\n",
    "df_test = preprocess_customer_type(df_test)"
   ]
  },
  {
   "cell_type": "code",
   "execution_count": 506,
   "id": "ea869873",
   "metadata": {},
   "outputs": [
    {
     "data": {
      "text/plain": [
       "customer_type\n",
       "End Customer            2454\n",
       "0                       1458\n",
       "                        ... \n",
       "Solution Eco-Partner     146\n",
       "Service Partner           98\n",
       "Name: count, Length: 6, dtype: int64"
      ]
     },
     "execution_count": 506,
     "metadata": {},
     "output_type": "execute_result"
    }
   ],
   "source": [
    "df_test['customer_type'].value_counts()"
   ]
  },
  {
   "cell_type": "markdown",
   "id": "acb16590",
   "metadata": {},
   "source": [
    "### 2.1.4 명목형 피처들 test에 없는 이상 값들 제거"
   ]
  },
  {
   "cell_type": "code",
   "execution_count": 507,
   "id": "e924892f",
   "metadata": {},
   "outputs": [],
   "source": [
    "pd.set_option('display.max_rows', 5)\n",
    "refin_col_list=[\n",
    "    'business_unit',\n",
    "    'business_area',\n",
    "    'business_subarea',\n",
    "    'response_corporate',\n",
    "    # 'product_category',\n",
    "    'product_subcategory',\n",
    "    # 'product_modelname',\n",
    "    # 'customer_type',\n",
    "    # 'customer_job',\n",
    "    # 'inquiry_type',\n",
    "]\n",
    "for col in refin_col_list:\n",
    "    # df_train의 값이 df_test에 없는 행을 삭제하는 코드\n",
    "    df_train = df_train[df_train[col].isin(df_test[col])]"
   ]
  },
  {
   "cell_type": "markdown",
   "id": "6de5343c",
   "metadata": {},
   "source": [
    "정제 후 크기"
   ]
  },
  {
   "cell_type": "code",
   "execution_count": 508,
   "id": "f2f99b4d",
   "metadata": {},
   "outputs": [
    {
     "name": "stdout",
     "output_type": "stream",
     "text": [
      "(51674, 29) (5271, 30)\n"
     ]
    }
   ],
   "source": [
    "## 정제 후\n",
    "print(df_train.shape, df_test.shape)"
   ]
  },
  {
   "cell_type": "markdown",
   "id": "6b0e41bf",
   "metadata": {},
   "source": [
    "## 2.2 데이터 전처리 - 파생변수"
   ]
  },
  {
   "cell_type": "markdown",
   "id": "7c5edcfa",
   "metadata": {},
   "source": [
    "### 2.2.1 id = 47466이 가장 많이 나와서 이진 분류"
   ]
  },
  {
   "cell_type": "code",
   "execution_count": 509,
   "id": "63cde974",
   "metadata": {},
   "outputs": [],
   "source": [
    "def change_value(x):\n",
    "    if x == 47466:\n",
    "        return 1\n",
    "    else:\n",
    "        return 0\n",
    "\n",
    "df_train['customer_idx_is47466'] = df_train['customer_idx'].apply(change_value)\n",
    "df_test['customer_idx_is47466'] = df_test['customer_idx'].apply(change_value)"
   ]
  },
  {
   "cell_type": "markdown",
   "id": "0c15e60d",
   "metadata": {},
   "source": [
    "### 2.2.2 문의를 한 횟수, 문의하면서 converted 한 횟수, converted한 비율을 회사별로 계산"
   ]
  },
  {
   "cell_type": "code",
   "execution_count": 510,
   "id": "2a39db10",
   "metadata": {},
   "outputs": [],
   "source": [
    "df_cus = df_train.groupby(\"customer_idx\")[\"is_converted\"].count().reset_index()\n",
    "df_real_cus = df_train.groupby(\"customer_idx\")[\"is_converted\"].sum().reset_index()\n",
    "df_cus_ratio = pd.merge(df_cus, df_real_cus, on=\"customer_idx\")\n",
    "df_cus_ratio[\"cus_ratio\"] = df_cus_ratio[\"is_converted_y\"] / df_cus_ratio[\"is_converted_x\"]\n",
    "df_cus_ratio = df_cus_ratio.rename(columns={\"is_converted_x\": \"cus_query_cnt\", \"is_converted_y\" : \"cus_converted_cnt\"})\n",
    "df_cus_ratio = df_cus_ratio[df_cus_ratio[\"cus_query_cnt\"]>=2] # 6323/33762 = 0.1873\n",
    "df_train = pd.merge(df_train, df_cus_ratio, on='customer_idx', how=\"left\")\n",
    "df_test = pd.merge(df_test, df_cus_ratio, on='customer_idx', how=\"left\")"
   ]
  },
  {
   "cell_type": "markdown",
   "id": "56bdf22e",
   "metadata": {},
   "source": [
    "### 2.2.3 문의를 한 횟수, 문의하면서 converted 한 횟수, converted한 비율을 회사별로 계산"
   ]
  },
  {
   "cell_type": "code",
   "execution_count": 511,
   "id": "717f9975",
   "metadata": {},
   "outputs": [],
   "source": [
    "df_cus = df_train.groupby(\"lead_owner\")[\"is_converted\"].count().reset_index()\n",
    "df_real_cus = df_train.groupby(\"lead_owner\")[\"is_converted\"].sum().reset_index()\n",
    "df = pd.merge(df_cus, df_real_cus, on=\"lead_owner\")\n",
    "df[\"lead_ratio\"] = df[\"is_converted_y\"] / df[\"is_converted_x\"]\n",
    "df = df.rename(columns={\"is_converted_x\": \"lead_query_cnt\", \"is_converted_y\" : \"lead_converted_cnt\"})\n",
    "df=df[df[\"lead_query_cnt\"]>=5]  \n",
    "df_train = pd.merge(df_train, df, on='lead_owner', how=\"left\")\n",
    "df_test = pd.merge(df_test, df, on='lead_owner', how=\"left\")"
   ]
  },
  {
   "cell_type": "markdown",
   "id": "a8b7271f",
   "metadata": {},
   "source": [
    "### 2.2.4 문의를 한 횟수, 문의하면서 converted 한 횟수, converted한 비율을 담당 부서별로 계산"
   ]
  },
  {
   "cell_type": "code",
   "execution_count": 512,
   "id": "eb67fa51",
   "metadata": {},
   "outputs": [],
   "source": [
    "df_cus = df_train.groupby(\"response_corporate\")[\"is_converted\"].count().reset_index()\n",
    "df_real_cus = df_train.groupby(\"response_corporate\")[\"is_converted\"].sum().reset_index()\n",
    "df = pd.merge(df_cus, df_real_cus, on=\"response_corporate\")\n",
    "df[\"rc_ratio\"] = df[\"is_converted_y\"] / df[\"is_converted_x\"]\n",
    "df = df.rename(columns={\"is_converted_x\": \"rc_query_cnt\", \"is_converted_y\" : \"rc_converted_cnt\"})\n",
    "df_train = pd.merge(df_train, df, on='response_corporate', how=\"left\")\n",
    "df_test = pd.merge(df_test, df, on='response_corporate', how=\"left\")"
   ]
  },
  {
   "cell_type": "markdown",
   "id": "00a944c6",
   "metadata": {},
   "source": [
    "### 2.2.5 historical_existing_ration: historical_existing_cnt를 cus_query_cnt로 나눠 정규화"
   ]
  },
  {
   "cell_type": "code",
   "execution_count": 513,
   "id": "d41a3d07",
   "metadata": {},
   "outputs": [],
   "source": [
    "df_train['historical_existing_ratio'] = df_train['historical_existing_cnt'] / df_train['cus_query_cnt']\n",
    "df=df_train.groupby('customer_idx')['historical_existing_ratio'].mean().reset_index()\n",
    "df_test = pd.merge(df_test, df, on='customer_idx', how='left')"
   ]
  },
  {
   "cell_type": "markdown",
   "id": "f4c9de0e",
   "metadata": {},
   "source": [
    "### 2.2.6 length_ratio: lead_desc_length에 min max scaler 적용하고 bant_submit을 곱해 '정보를 제공한 비율'에 해당하는 컬럼 만듦"
   ]
  },
  {
   "cell_type": "code",
   "execution_count": 514,
   "id": "30922c43",
   "metadata": {},
   "outputs": [],
   "source": [
    "scaler = MinMaxScaler()\n",
    "\n",
    "df_train['lead_desc_length'] = scaler.fit_transform(df_train[['lead_desc_length']])\n",
    "df_train['lead_desc_length'] = scaler.fit_transform(df_train[['lead_desc_length']])\n",
    "\n",
    "df_train['length_ratio'] = df_train['bant_submit']*df_train['lead_desc_length']\n",
    "df_test['length_ratio'] = df_test['bant_submit']*df_test['lead_desc_length']"
   ]
  },
  {
   "cell_type": "markdown",
   "id": "31f8f8e0",
   "metadata": {},
   "source": [
    "### 2.2.7 customer_idx와 enterprise를 합친 변수"
   ]
  },
  {
   "cell_type": "code",
   "execution_count": 515,
   "id": "325b359f",
   "metadata": {},
   "outputs": [],
   "source": [
    "df_train['customer_idx_kind']=str(df_train['customer_idx'])+'_'+df_train['enterprise']\n",
    "df_test['customer_idx_kind']=str(df_test['customer_idx'])+'_'+df_test['enterprise']"
   ]
  },
  {
   "cell_type": "markdown",
   "id": "49ece3a8",
   "metadata": {},
   "source": [
    "### 2.2.8 customer_position에서 중요한 사람, 안 중요한 사람"
   ]
  },
  {
   "cell_type": "code",
   "execution_count": 516,
   "id": "861eb03f",
   "metadata": {},
   "outputs": [],
   "source": [
    "def cus_pos_imp(x) :\n",
    "    if x in ['ceo/founder', 'director', 'leader', 'manager', 'c-level executive', 'vice presidnet', 'partner', 'associate/analyst']:\n",
    "        return 1\n",
    "    elif x in ['entry level', 'trainee'] :\n",
    "        return 0\n",
    "\n",
    "df_train['cus_pos_imp'] = df_train['customer_position'].apply(cus_pos_imp)\n",
    "df_test['cus_pos_imp'] = df_test['customer_position'].apply(cus_pos_imp)"
   ]
  },
  {
   "cell_type": "markdown",
   "id": "b816dfac",
   "metadata": {},
   "source": [
    "파생 변수 추가 후 크기"
   ]
  },
  {
   "cell_type": "code",
   "execution_count": 517,
   "id": "6eb008a2",
   "metadata": {},
   "outputs": [
    {
     "name": "stdout",
     "output_type": "stream",
     "text": [
      "(51674, 43) (5271, 44)\n"
     ]
    }
   ],
   "source": [
    "## 파생변수 추가 후\n",
    "print(df_train.shape, df_test.shape)"
   ]
  },
  {
   "cell_type": "code",
   "execution_count": 518,
   "id": "5e689518",
   "metadata": {},
   "outputs": [
    {
     "data": {
      "text/plain": [
       "Index(['bant_submit', 'customer_country', 'business_unit',\n",
       "       'com_reg_ver_win_rate', 'customer_idx', 'customer_type', 'enterprise',\n",
       "       'historical_existing_cnt', 'id_strategic_ver', 'it_strategic_ver',\n",
       "       'idit_strategic_ver', 'customer_job', 'lead_desc_length',\n",
       "       'inquiry_type', 'product_category', 'product_subcategory',\n",
       "       'product_modelname', 'customer_country.1', 'customer_position',\n",
       "       'response_corporate', 'expected_timeline', 'ver_cus', 'ver_pro',\n",
       "       'ver_win_rate_x', 'ver_win_ratio_per_bu', 'business_area',\n",
       "       'business_subarea', 'lead_owner', 'is_converted',\n",
       "       'customer_idx_is47466', 'cus_query_cnt', 'cus_converted_cnt',\n",
       "       'cus_ratio', 'lead_query_cnt', 'lead_converted_cnt', 'lead_ratio',\n",
       "       'rc_query_cnt', 'rc_converted_cnt', 'rc_ratio',\n",
       "       'historical_existing_ratio', 'length_ratio', 'customer_idx_kind',\n",
       "       'cus_pos_imp'],\n",
       "      dtype='object')"
      ]
     },
     "execution_count": 518,
     "metadata": {},
     "output_type": "execute_result"
    }
   ],
   "source": [
    "df_train.columns"
   ]
  },
  {
   "cell_type": "markdown",
   "id": "9a676ba3",
   "metadata": {},
   "source": [
    "## 2.3 컬럼 드랍"
   ]
  },
  {
   "cell_type": "code",
   "execution_count": 519,
   "id": "4d4377e9",
   "metadata": {},
   "outputs": [],
   "source": [
    "drop_columns=[ \n",
    "        # 'bant_submit', \n",
    "        # 'customer_country', \n",
    "        # 'business_unit',\n",
    "        # 'com_reg_ver_win_rate', \n",
    "        'customer_idx', \n",
    "        # 'customer_type',\n",
    "        'enterprise',\n",
    "        'historical_existing_cnt', \n",
    "        'id_strategic_ver',\n",
    "        'it_strategic_ver',\n",
    "        # 'idit_strategic_ver',\n",
    "        # 'customer_job', \n",
    "        'lead_desc_length',\n",
    "        # 'inquiry_type', \n",
    "        # 'product_category', \n",
    "        # 'product_subcategory',\n",
    "        # 'product_modelname',\n",
    "        'customer_country.1',\n",
    "        # 'customer_position',\n",
    "        # 'response_corporate',\n",
    "        # 'expected_timeline',\n",
    "        # 'ver_cus',\n",
    "        # 'ver_pro',\n",
    "        # 'ver_win_rate_x',\n",
    "        # 'ver_win_ratio_per_bu',\n",
    "        # 'business_area',\n",
    "        # 'business_subarea', \n",
    "        # 'lead_owner', \n",
    "        # 'is_converted', \n",
    "        # 'cus_query_cnt',\n",
    "        # 'cus_converted_cnt',\n",
    "        # 'cus_ratio', \n",
    "        # 'lead_query_cnt',\n",
    "        # 'lead_converted_cnt', \n",
    "        # 'lead_ratio',\n",
    "        # 'rc_query_cnt', \n",
    "        # 'rc_converted_cnt',\n",
    "        # 'rc_ratio',\n",
    "        # 'historical_existing_ratio',\n",
    "        # 'length_ratio'\n",
    "        ]\n",
    "df_all = pd.concat([df_train, df_test])\n",
    "for column in drop_columns:\n",
    "    df_all.drop(columns=column, inplace=True)"
   ]
  },
  {
   "cell_type": "markdown",
   "id": "d625a0e6",
   "metadata": {},
   "source": [
    "드랍 후 크기"
   ]
  },
  {
   "cell_type": "code",
   "execution_count": 520,
   "id": "23c2d290",
   "metadata": {},
   "outputs": [
    {
     "name": "stdout",
     "output_type": "stream",
     "text": [
      "(51674, 43) (5271, 44)\n"
     ]
    }
   ],
   "source": [
    "## 컬럼 드랍 후\n",
    "print(df_train.shape, df_test.shape)"
   ]
  },
  {
   "cell_type": "markdown",
   "id": "f69520d9",
   "metadata": {},
   "source": [
    "## 2.4 결측치 채우기"
   ]
  },
  {
   "cell_type": "code",
   "execution_count": 521,
   "id": "88cd43cf",
   "metadata": {},
   "outputs": [],
   "source": [
    "df_train = df_train.fillna(0)\n",
    "df_test = df_test.fillna(0)"
   ]
  },
  {
   "cell_type": "markdown",
   "id": "8e5d2e24",
   "metadata": {},
   "source": [
    "## 2.5 데이터 전처리 - 인코딩"
   ]
  },
  {
   "cell_type": "markdown",
   "id": "4bd47e00",
   "metadata": {},
   "source": [
    "### 레이블 인코딩"
   ]
  },
  {
   "cell_type": "code",
   "execution_count": 522,
   "id": "0b42b1a1",
   "metadata": {},
   "outputs": [],
   "source": [
    "def label_encoding(series: pd.Series) -> pd.Series:\n",
    "    \"\"\"범주형 데이터를 시리즈 형태로 받아 숫자형 데이터로 변환합니다.\"\"\"\n",
    "\n",
    "    my_dict = {}\n",
    "\n",
    "    # 모든 요소를 문자열로 변환\n",
    "    series = series.astype(str)\n",
    "\n",
    "    for idx, value in enumerate(sorted(series.unique())):\n",
    "        my_dict[value] = idx\n",
    "    series = series.map(my_dict)\n",
    "\n",
    "    return series"
   ]
  },
  {
   "cell_type": "code",
   "execution_count": 523,
   "id": "881a4612",
   "metadata": {},
   "outputs": [
    {
     "name": "stdout",
     "output_type": "stream",
     "text": [
      "enterprise\n"
     ]
    }
   ],
   "source": [
    "# 레이블 인코딩할 칼럼들\n",
    "label_columns = [\n",
    "    \"customer_country\",\n",
    "    \"business_subarea\",\n",
    "    # \"business_area\",\n",
    "    # \"business_unit\",\n",
    "    \"customer_type\",\n",
    "    # \"enterprise\",\n",
    "    \"customer_job\",\n",
    "    \"inquiry_type\",\n",
    "    \"product_category\",\n",
    "    \"product_subcategory\",\n",
    "    \"product_modelname\",\n",
    "    \"customer_country.1\",\n",
    "    \"customer_position\",\n",
    "    \"response_corporate\",\n",
    "    \"expected_timeline\",\n",
    "    'customer_idx_kind'\n",
    "]\n",
    "\n",
    "#원핫 인코딩할 칼럼들\n",
    "one_hot_columns=[\n",
    "    # \"customer_country\",\n",
    "    # \"business_subarea\",\n",
    "    \"business_area\",\n",
    "    \"business_unit\",\n",
    "    \"customer_type\",\n",
    "    \"enterprise\",\n",
    "    # \"customer_job\",\n",
    "    # \"inquiry_type\",\n",
    "    # \"product_category\",\n",
    "    # \"product_subcategory\",\n",
    "    # \"product_modelname\",\n",
    "    # \"customer_country.1\",\n",
    "    # \"customer_position\",\n",
    "    # \"response_corporate\",\n",
    "    # \"expected_timeline\",    \n",
    "]\n",
    "for col in label_columns:\n",
    "    if col in df_all.columns:\n",
    "        df_all[col] = label_encoding(df_all[col])\n",
    "one_hot_real_columns = one_hot_columns.copy()\n",
    "for col in one_hot_columns:\n",
    "    if col not in df_all.columns:\n",
    "        one_hot_real_columns.remove(col) \n",
    "        print(col)    \n",
    "df_all = pd.get_dummies(df_all, columns=one_hot_real_columns)"
   ]
  },
  {
   "cell_type": "markdown",
   "id": "3a477f93",
   "metadata": {},
   "source": [
    "### 다시 학습 데이터와 제출 데이터를 분리"
   ]
  },
  {
   "cell_type": "code",
   "execution_count": 524,
   "id": "ff10c5fb",
   "metadata": {},
   "outputs": [],
   "source": [
    "df_train = df_all.iloc[: len(df_train)]\n",
    "df_test = df_all.iloc[len(df_train) :]"
   ]
  },
  {
   "cell_type": "code",
   "execution_count": 525,
   "id": "f429b824",
   "metadata": {},
   "outputs": [],
   "source": [
    "df_train=df_train.drop(columns=\"id\")"
   ]
  },
  {
   "cell_type": "code",
   "execution_count": 526,
   "id": "191d2065",
   "metadata": {},
   "outputs": [],
   "source": [
    "X_train= df_train.drop(\"is_converted\", axis=1)\n",
    "y_train= df_train[\"is_converted\"]\n",
    "X_test = df_test.drop([\"is_converted\", \"id\"], axis=1)"
   ]
  },
  {
   "cell_type": "code",
   "execution_count": 527,
   "id": "581b7c95",
   "metadata": {},
   "outputs": [],
   "source": [
    "X_train.reset_index(drop=True, inplace=True)\n",
    "y_train.reset_index(drop=True, inplace=True)"
   ]
  },
  {
   "cell_type": "code",
   "execution_count": 528,
   "id": "8030f7a9",
   "metadata": {},
   "outputs": [
    {
     "data": {
      "text/plain": [
       "is_converted\n",
       "0    49534\n",
       "1     2140\n",
       "Name: count, dtype: int64"
      ]
     },
     "execution_count": 528,
     "metadata": {},
     "output_type": "execute_result"
    }
   ],
   "source": [
    "y_train.value_counts()"
   ]
  },
  {
   "cell_type": "markdown",
   "id": "79ecfa9b",
   "metadata": {},
   "source": [
    "## 3. 모델 학습"
   ]
  },
  {
   "cell_type": "markdown",
   "id": "06bf0407",
   "metadata": {},
   "source": [
    "### 베이스라인 모델 - OOF LGBM"
   ]
  },
  {
   "cell_type": "code",
   "execution_count": 529,
   "id": "dbb6ca94",
   "metadata": {},
   "outputs": [
    {
     "name": "stdout",
     "output_type": "stream",
     "text": [
      "######################################## 폴드1 / 폴드5 ########################################\n",
      "[LightGBM] [Warning] Found whitespace in feature_names, replace with underlines\n",
      "[LightGBM] [Info] Number of positive: 1712, number of negative: 39627\n",
      "[LightGBM] [Info] Auto-choosing row-wise multi-threading, the overhead of testing was 0.003278 seconds.\n",
      "You can set `force_row_wise=true` to remove the overhead.\n",
      "And if memory is not enough, you can set `force_col_wise=true`.\n",
      "[LightGBM] [Info] Total Bins 2523\n",
      "[LightGBM] [Info] Number of data points in the train set: 41339, number of used features: 53\n",
      "[LightGBM] [Warning] Found whitespace in feature_names, replace with underlines\n",
      "[LightGBM] [Info] [binary:BoostFromScore]: pavg=0.041414 -> initscore=-3.141848\n",
      "[LightGBM] [Info] Start training from score -3.141848\n",
      "Training until validation scores don't improve for 200 rounds\n"
     ]
    },
    {
     "name": "stdout",
     "output_type": "stream",
     "text": [
      "Early stopping, best iteration is:\n",
      "[173]\tvalid_0's binary_logloss: 0.0814544\tvalid_0's f1: 0.720904\n",
      "폴드 1 f1 score: 0.72090395480226\n",
      "\n",
      "######################################## 폴드2 / 폴드5 ########################################\n",
      "[LightGBM] [Warning] Found whitespace in feature_names, replace with underlines\n",
      "[LightGBM] [Info] Number of positive: 1712, number of negative: 39627\n",
      "[LightGBM] [Info] Auto-choosing row-wise multi-threading, the overhead of testing was 0.002402 seconds.\n",
      "You can set `force_row_wise=true` to remove the overhead.\n",
      "And if memory is not enough, you can set `force_col_wise=true`.\n",
      "[LightGBM] [Info] Total Bins 2532\n",
      "[LightGBM] [Info] Number of data points in the train set: 41339, number of used features: 53\n",
      "[LightGBM] [Warning] Found whitespace in feature_names, replace with underlines\n",
      "[LightGBM] [Info] [binary:BoostFromScore]: pavg=0.041414 -> initscore=-3.141848\n",
      "[LightGBM] [Info] Start training from score -3.141848\n",
      "Training until validation scores don't improve for 200 rounds\n",
      "Early stopping, best iteration is:\n",
      "[175]\tvalid_0's binary_logloss: 0.0835716\tvalid_0's f1: 0.713043\n",
      "폴드 2 f1 score: 0.7130434782608696\n",
      "\n",
      "######################################## 폴드3 / 폴드5 ########################################\n",
      "[LightGBM] [Warning] Found whitespace in feature_names, replace with underlines\n",
      "[LightGBM] [Info] Number of positive: 1712, number of negative: 39627\n",
      "[LightGBM] [Info] Auto-choosing row-wise multi-threading, the overhead of testing was 0.002796 seconds.\n",
      "You can set `force_row_wise=true` to remove the overhead.\n",
      "And if memory is not enough, you can set `force_col_wise=true`.\n",
      "[LightGBM] [Info] Total Bins 2535\n",
      "[LightGBM] [Info] Number of data points in the train set: 41339, number of used features: 53\n",
      "[LightGBM] [Warning] Found whitespace in feature_names, replace with underlines\n",
      "[LightGBM] [Info] [binary:BoostFromScore]: pavg=0.041414 -> initscore=-3.141848\n",
      "[LightGBM] [Info] Start training from score -3.141848\n",
      "Training until validation scores don't improve for 200 rounds\n",
      "Early stopping, best iteration is:\n",
      "[170]\tvalid_0's binary_logloss: 0.0824583\tvalid_0's f1: 0.694712\n",
      "폴드 3 f1 score: 0.6947115384615384\n",
      "\n",
      "######################################## 폴드4 / 폴드5 ########################################\n",
      "[LightGBM] [Warning] Found whitespace in feature_names, replace with underlines\n",
      "[LightGBM] [Info] Number of positive: 1712, number of negative: 39627\n",
      "[LightGBM] [Info] Auto-choosing row-wise multi-threading, the overhead of testing was 0.002665 seconds.\n",
      "You can set `force_row_wise=true` to remove the overhead.\n",
      "And if memory is not enough, you can set `force_col_wise=true`.\n",
      "[LightGBM] [Info] Total Bins 2527\n",
      "[LightGBM] [Info] Number of data points in the train set: 41339, number of used features: 53\n",
      "[LightGBM] [Warning] Found whitespace in feature_names, replace with underlines\n",
      "[LightGBM] [Info] [binary:BoostFromScore]: pavg=0.041414 -> initscore=-3.141848\n",
      "[LightGBM] [Info] Start training from score -3.141848\n",
      "Training until validation scores don't improve for 200 rounds\n",
      "Early stopping, best iteration is:\n",
      "[160]\tvalid_0's binary_logloss: 0.0825985\tvalid_0's f1: 0.723881\n",
      "폴드 4 f1 score: 0.7238805970149255\n",
      "\n",
      "######################################## 폴드5 / 폴드5 ########################################\n",
      "[LightGBM] [Warning] Found whitespace in feature_names, replace with underlines\n",
      "[LightGBM] [Info] Number of positive: 1712, number of negative: 39628\n",
      "[LightGBM] [Info] Auto-choosing row-wise multi-threading, the overhead of testing was 0.002271 seconds.\n",
      "You can set `force_row_wise=true` to remove the overhead.\n",
      "And if memory is not enough, you can set `force_col_wise=true`.\n",
      "[LightGBM] [Info] Total Bins 2508\n",
      "[LightGBM] [Info] Number of data points in the train set: 41340, number of used features: 53\n",
      "[LightGBM] [Warning] Found whitespace in feature_names, replace with underlines\n",
      "[LightGBM] [Info] [binary:BoostFromScore]: pavg=0.041413 -> initscore=-3.141874\n",
      "[LightGBM] [Info] Start training from score -3.141874\n",
      "Training until validation scores don't improve for 200 rounds\n",
      "Early stopping, best iteration is:\n",
      "[188]\tvalid_0's binary_logloss: 0.0821758\tvalid_0's f1: 0.700309\n",
      "폴드 5 f1 score: 0.7003089598352213\n",
      "\n",
      "검증 평균 f1 score: 0.7105697056749629\n"
     ]
    }
   ],
   "source": [
    "folds = StratifiedKFold(n_splits=5, shuffle=True, random_state=0)\n",
    "\n",
    "oof_lgb_val_preds = np.zeros(X_train.shape[0])\n",
    "oof_lgb_test_preds = np.zeros(X_test.shape[0])\n",
    "\n",
    "def f1score(preds, d_train):\n",
    "    labels = d_train.get_label()\n",
    "    return 'f1', f1_score(labels, np.round(preds)), True\n",
    "\n",
    "params={\n",
    "    'objective': 'binary',\n",
    "    'learning_rate':0.005,\n",
    "    \"random_state\":0,\n",
    "    \"early_stopping_rounds\":200,\n",
    "    \"scale_pos_weight\": 10\n",
    "}\n",
    "\n",
    "f1_score_lgb_list=[]\n",
    "feature_importance_lgb_list=[]\n",
    "\n",
    "for idx, (train_idx, valid_idx) in enumerate(folds.split(X_train, y_train)):\n",
    "    print('#'*40, f'폴드{idx+1} / 폴드{folds.n_splits}', \"#\"*40)\n",
    "    X_tr, y_tr = X_train.iloc[train_idx], y_train.iloc[train_idx]\n",
    "    X_val, y_val = X_train.iloc[valid_idx], y_train.iloc[valid_idx]\n",
    "\n",
    "    d_train = lgb.Dataset(X_tr, y_tr)\n",
    "    d_valid = lgb.Dataset(X_val, y_val)\n",
    "\n",
    "    lgb_model = lgb.train(params=params,\n",
    "                          train_set=d_train,\n",
    "                          num_boost_round=1000,\n",
    "                          valid_sets=d_valid,\n",
    "                          feval=f1score)\n",
    "\n",
    "    oof_lgb_test_preds += lgb_model.predict(X_test) / folds.get_n_splits()\n",
    "    oof_lgb_val_preds[valid_idx] += lgb_model.predict(X_val)\n",
    "\n",
    "    f1 = f1_score(y_val, np.round(oof_lgb_val_preds[valid_idx]))\n",
    "    f1_score_lgb_list.append(f1)\n",
    "    print(f'폴드 {idx+1} f1 score: {f1}\\n')\n",
    "\n",
    "    feature_importance_lgb_list.append(lgb_model.feature_importance())\n",
    "\n",
    "print(f'검증 평균 f1 score: {np.mean(f1_score_lgb_list)}')\n",
    "# 검증 평균 f1 score: 0.6872572592159079"
   ]
  },
  {
   "cell_type": "code",
   "execution_count": 530,
   "id": "09872b56",
   "metadata": {},
   "outputs": [
    {
     "data": {
      "image/png": "[encoded data removed]",
      "text/plain": [
       "<Figure size 1000x600 with 1 Axes>"
      ]
     },
     "metadata": {},
     "output_type": "display_data"
    }
   ],
   "source": [
    "# 특징 중요도와 특징 이름을 정렬\n",
    "top_features = 40\n",
    "sorted_indices = np.argsort(-np.mean(feature_importance_lgb_list, axis=0))[::-1]\n",
    "sorted_feature_names = [lgb_model.feature_name()[i] for i in sorted_indices][-top_features:]\n",
    "sorted_mean_importance = np.mean(feature_importance_lgb_list, axis=0)[sorted_indices][-top_features:]\n",
    "\n",
    "# 바 차트 그리기\n",
    "plt.figure(figsize=(10, 6))\n",
    "plt.barh(sorted_feature_names, sorted_mean_importance)\n",
    "plt.xlabel('Mean Importance')\n",
    "plt.ylabel('Features')\n",
    "plt.title('Mean Feature Importance')\n",
    "plt.show()"
   ]
  },
  {
   "cell_type": "markdown",
   "id": "9d0b6e17",
   "metadata": {},
   "source": [
    "### 테스트 데이터 예측"
   ]
  },
  {
   "cell_type": "code",
   "execution_count": 531,
   "id": "6a1f6534",
   "metadata": {},
   "outputs": [],
   "source": [
    "oof_test_preds = oof_lgb_test_preds"
   ]
  },
  {
   "cell_type": "code",
   "execution_count": 536,
   "id": "43daa73c",
   "metadata": {},
   "outputs": [],
   "source": [
    "# 예측에 필요한 데이터 분리\n",
    "test_pred = np.where(oof_test_preds >= 0.3, 1, 0)"
   ]
  },
  {
   "cell_type": "code",
   "execution_count": 537,
   "id": "d13f7a6e",
   "metadata": {},
   "outputs": [
    {
     "data": {
      "text/plain": [
       "2187"
      ]
     },
     "execution_count": 537,
     "metadata": {},
     "output_type": "execute_result"
    }
   ],
   "source": [
    "sum(test_pred) # True로 예측된 개수 1038"
   ]
  },
  {
   "cell_type": "markdown",
   "id": "7adf8300",
   "metadata": {},
   "source": [
    "## 4. 제출하기"
   ]
  },
  {
   "cell_type": "markdown",
   "id": "47f18e6a",
   "metadata": {},
   "source": [
    "### 제출 파일 작성"
   ]
  },
  {
   "cell_type": "code",
   "execution_count": 538,
   "id": "11eb7117",
   "metadata": {},
   "outputs": [
    {
     "name": "stderr",
     "output_type": "stream",
     "text": [
      "C:\\Users\\baseoki\\AppData\\Local\\Temp\\ipykernel_5484\\2136695156.py:1: SettingWithCopyWarning: \n",
      "A value is trying to be set on a copy of a slice from a DataFrame.\n",
      "Try using .loc[row_indexer,col_indexer] = value instead\n",
      "\n",
      "See the caveats in the documentation: https://pandas.pydata.org/pandas-docs/stable/user_guide/indexing.html#returning-a-view-versus-a-copy\n",
      "  df_test[\"is_converted\"] = test_pred\n"
     ]
    }
   ],
   "source": [
    "df_test[\"is_converted\"] = test_pred"
   ]
  },
  {
   "cell_type": "code",
   "execution_count": 539,
   "id": "3128a458",
   "metadata": {},
   "outputs": [],
   "source": [
    "# 제출 데이터 읽어오기 (df_test는 전처리된 데이터가 저장됨)\n",
    "df_sub = pd.read_csv(\"submission.csv\")\n",
    "df_sub[\"is_converted\"]=df_test[\"is_converted\"]\n",
    "\n",
    "# 제출 파일 저장\n",
    "df_sub.to_csv(\"submission.csv\", index=False)"
   ]
  },
  {
   "cell_type": "markdown",
   "id": "ec7867ce",
   "metadata": {},
   "source": [
    "**우측 상단의 제출 버튼을 클릭해 결과를 확인하세요**"
   ]
  }
 ],
 "metadata": {
  "kernelspec": {
   "display_name": "Python 3 (ipykernel)",
   "language": "python",
   "name": "python3"
  },
  "language_info": {
   "codemirror_mode": {
    "name": "ipython",
    "version": 3
   },
   "file_extension": ".py",
   "mimetype": "text/x-python",
   "name": "python",
   "nbconvert_exporter": "python",
   "pygments_lexer": "ipython3",
   "version": "3.11.5"
  }
 },
 "nbformat": 4,
 "nbformat_minor": 5
}
