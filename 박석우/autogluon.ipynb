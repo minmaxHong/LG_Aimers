{
  "nbformat": 4,
  "nbformat_minor": 0,
  "metadata": {
    "colab": {
      "provenance": []
    },
    "kernelspec": {
      "name": "python3",
      "display_name": "Python 3"
    },
    "language_info": {
      "name": "python"
    }
  },
  "cells": [
    {
      "cell_type": "markdown",
      "source": [
        "# Autogluon 설치 + 필요한 모듈 불러오기"
      ],
      "metadata": {
        "id": "6f-9tJWjOs5Q"
      }
    },
    {
      "cell_type": "code",
      "execution_count": null,
      "metadata": {
        "id": "kIm_KdXNFLb2",
        "colab": {
          "base_uri": "https://localhost:8080/"
        },
        "outputId": "752ddfd0-58d7-48fe-8763-06d80a56337c"
      },
      "outputs": [
        {
          "output_type": "stream",
          "name": "stdout",
          "text": [
            "Drive already mounted at /content/drive; to attempt to forcibly remount, call drive.mount(\"/content/drive\", force_remount=True).\n"
          ]
        }
      ],
      "source": [
        "from google.colab import drive\n",
        "drive.mount('/content/drive')"
      ]
    },
    {
      "cell_type": "code",
      "source": [
        "# !pip install --upgrade mxnet\n",
        "# !pip install autogluon --use-deprecated=legacy-resolver"
      ],
      "metadata": {
        "id": "1HGGF503OjRG"
      },
      "execution_count": null,
      "outputs": []
    },
    {
      "cell_type": "code",
      "source": [
        "from sklearn.model_selection import StratifiedKFold\n",
        "from sklearn.preprocessing import MinMaxScaler\n",
        "from sklearn.metrics import f1_score\n",
        "\n",
        "import lightgbm as lgb\n",
        "\n",
        "import matplotlib.pyplot as plt\n",
        "import pandas as pd\n",
        "import numpy as np\n",
        "\n",
        "import warnings\n",
        "warnings.filterwarnings('ignore')\n",
        "\n",
        "import autogluon as ag\n",
        "from autogluon.tabular import TabularPredictor as task"
      ],
      "metadata": {
        "id": "m3kFE2DEMXNg"
      },
      "execution_count": null,
      "outputs": []
    },
    {
      "cell_type": "markdown",
      "source": [
        "# 1. 데이터 확인"
      ],
      "metadata": {
        "id": "34miWfFKO6Bb"
      }
    },
    {
      "cell_type": "code",
      "source": [
        "df_train = pd.read_csv('/content/drive/MyDrive/train.csv') # 학습용 데이터\n",
        "df_test = pd.read_csv('/content/drive/MyDrive/submission.csv') # 테스트 데이터(제출파일의 데이터)"
      ],
      "metadata": {
        "id": "7Hx5tgTnO3ba"
      },
      "execution_count": null,
      "outputs": []
    },
    {
      "cell_type": "code",
      "source": [
        "## 정제 전\n",
        "print(df_train.shape, df_test.shape)"
      ],
      "metadata": {
        "colab": {
          "base_uri": "https://localhost:8080/"
        },
        "id": "L0VEMuHIO8TB",
        "outputId": "a539a03f-adb3-43f7-9bc1-2fef7efdbac6"
      },
      "execution_count": null,
      "outputs": [
        {
          "output_type": "stream",
          "name": "stdout",
          "text": [
            "(59299, 29) (5271, 30)\n"
          ]
        }
      ]
    },
    {
      "cell_type": "code",
      "source": [
        "## 복제된 행 제거\n",
        "df_train.drop_duplicates(inplace=True)\n",
        "\n",
        "# 무조건 converted하면서 test에 없는 회사인 25096은 삭제\n",
        "del_cus_id=[25096, 47466]\n",
        "df_train=df_train[~df_train[\"customer_idx\"].isin(del_cus_id)]"
      ],
      "metadata": {
        "id": "QeJ9_YTuQM3D"
      },
      "execution_count": null,
      "outputs": []
    },
    {
      "cell_type": "code",
      "source": [
        "## 복제된 행 제거, 25096 제거\n",
        "print(df_train.shape, df_test.shape)"
      ],
      "metadata": {
        "colab": {
          "base_uri": "https://localhost:8080/"
        },
        "id": "h_qn-M9iQPXB",
        "outputId": "a9d3bba8-dbed-4750-98f3-b46365e79b85"
      },
      "execution_count": null,
      "outputs": [
        {
          "output_type": "stream",
          "name": "stdout",
          "text": [
            "(46523, 29) (5271, 30)\n"
          ]
        }
      ]
    },
    {
      "cell_type": "markdown",
      "source": [
        "## 2. 결측치 채우기전 파생변수"
      ],
      "metadata": {
        "id": "oLeE0T_oQ3qU"
      }
    },
    {
      "cell_type": "markdown",
      "source": [
        "### 파생변수 1. bn_submit: band_submit에서 customer_position이랑 expected timeline 작성한 경우 제거\n"
      ],
      "metadata": {
        "id": "ZsRr_qNCQ9fj"
      }
    },
    {
      "cell_type": "code",
      "source": [
        "import pandas as pd\n",
        "\n",
        "# df_train과 df_test를 합친다\n",
        "df_all = pd.concat([df_train, df_test])\n",
        "df_all['bn_submit'] = 0\n",
        "\n",
        "# customer_position이 'none'이 아닌 경우를 체크\n",
        "condition_position = df_all['customer_position'] != 'none'\n",
        "\n",
        "df_all[\"customer_position\"]=df_all['customer_position'].replace('none', np.nan)\n",
        "\n",
        "# expected_timeline이 null이 아닌 경우를 체크\n",
        "condition_timeline = pd.notnull(df_all['expected_timeline'])\n",
        "\n",
        "# 조건에 따라 tt 값을 계산\n",
        "tt = condition_position.astype(int) + condition_timeline.astype(int)\n",
        "\n",
        "# bn_submit 컬럼 업데이트\n",
        "df_all['bn_submit'] = df_all['bant_submit'] - (tt / 4)\n",
        "\n",
        "df_all['customer_position'].replace('none', np.nan)\n",
        "\n",
        "# df_train과 df_test로 다시 분리\n",
        "df_train = df_all.iloc[:len(df_train)]\n",
        "df_test = df_all.iloc[len(df_train):]\n",
        "\n",
        "df_train = df_train.drop('id', axis=1)"
      ],
      "metadata": {
        "id": "MhJloASlQRC7"
      },
      "execution_count": null,
      "outputs": []
    },
    {
      "cell_type": "markdown",
      "source": [
        "### 파생변수 2. num_missing: 각 행별로 결측치의 개수 count"
      ],
      "metadata": {
        "id": "R7uAO0l1RCZI"
      }
    },
    {
      "cell_type": "code",
      "source": [
        "df_all = pd.concat([df_train, df_test])\n",
        "df_all['num_missing'] = df_all.isnull().sum(axis=1) - 1\n",
        "\n",
        "df_train = df_all.iloc[: len(df_train)]\n",
        "df_test = df_all.iloc[len(df_train) :]\n",
        "df_train = df_train.drop('id', axis=1)"
      ],
      "metadata": {
        "id": "5mMMaIWRRG34"
      },
      "execution_count": null,
      "outputs": []
    },
    {
      "cell_type": "markdown",
      "source": [
        "## 3. 오타 잡고 묶기"
      ],
      "metadata": {
        "id": "MukiQvGGWEGs"
      }
    },
    {
      "cell_type": "markdown",
      "source": [
        "### 3.1. customer_country"
      ],
      "metadata": {
        "id": "tq8mKv3-WNld"
      }
    },
    {
      "cell_type": "code",
      "source": [
        "## 2. customer_country 오타 제어 함수\n",
        "def extract_country_name(x):\n",
        "    if pd.isnull(x):\n",
        "        return np.nan\n",
        "    else:\n",
        "        idx=-1\n",
        "        a = x.split(\"/\")[idx].strip()\n",
        "        while a=='':\n",
        "            idx-=1\n",
        "            if idx == -4 :\n",
        "                return 'others'\n",
        "            a = x.split(\"/\")[idx].strip()\n",
        "        if idx != -1:\n",
        "            if a in ['Richmond Hill', 'Vancouver', 'Pickering', 'Winnipeg']:\n",
        "                return 'Canada'\n",
        "            elif a in ['ROURKELA', 'Guna mp', 'MADURAI', 'KOLKATA', 'Ahmedabad', 'Madurai'\n",
        "                       'Mathura', 'Delhi', 'Solan', 'Bengaluru', 'Kanchipuram', 'Erode',\n",
        "                       'NEARAMBEDKAR HOSPET', 'Bhubaneswar', 'LATEHAR', 'Malur', 'Ackerman',\n",
        "                       'Faridabad', 'Vasal', 'Ballia', 'Ludhiana', 'Rajkot']:\n",
        "                return 'India'\n",
        "            elif a in ['Bergdietikon']:\n",
        "                return 'Switzerland'\n",
        "            elif a in ['Lagos, Nigeria', 'Ikoyi', 'Abuja', 'Windhoek']:\n",
        "                return 'Nigeria'\n",
        "            elif a in ['Monrovia']:\n",
        "                return 'Liberia'\n",
        "            elif a in ['Malvern', 'Cambridge', 'Danbury', 'Dundee', 'Boulder', 'Liverpool', 'Winston']:\n",
        "                return 'United Kingdom'\n",
        "            elif a in ['San Jose', 'Bulacan', 'Makati City', 'Manila', 'Cebu', 'Pasig',\n",
        "                       'CALOOCAN CITY', 'dasmarinas city', 'Mandaluyong City','Angeles' 'makati', 'Angeles City',\n",
        "                        'Bataan', 'TAYTAY', 'Las Piñas - Muntinlupa', 'Quezon City' ,'Valenzuela City',\n",
        "                        '314 G. Araneta Ave., Quezon City', 'PASIG CITY', 'Manila', 'San Fernando City, La Union', 'Valenzuela'\n",
        "                        'CAINTA', 'Quezon City', 'Camarines Sur', 'Mandaluyong', 'San Juan city', 'Qc', 'Meycauayan City, Bulacan',\n",
        "                        'Parañaque','Rizal', 'Makati city', 'CITY OF IMUS', 'laGrange', 'Sanford', 'Chilhowie', 'Chesterfield', 'Amherst',\n",
        "                        'Paranaque', 'Cavite', 'CITY OF MARIKINA', 'Bocaue, Bukacan, Philippines']:\n",
        "                return 'Philippines'\n",
        "\n",
        "            elif a in ['Atlanta', 'Tbilisi'] :\n",
        "                return \"Georgia\"\n",
        "            elif a in ['Oslo']:\n",
        "                return 'Norway'\n",
        "            elif a in ['Arroyo Hondo Viejo'] :\n",
        "                return 'Dominican Republic'\n",
        "            elif a in ['Midrand']:\n",
        "                return 'South Africa'\n",
        "            elif a in ['Olsztyn', 'Przemysłowa 4, 37-450 Stalowa Wola']:\n",
        "                return \"Poland\"\n",
        "            elif a in ['San Juan']:\n",
        "                return 'Puerto Rico'\n",
        "            elif a in ['Berlin', 'Weikersheim', 'Herdwangen-Schönach']:\n",
        "                return 'Germany'\n",
        "            elif a in ['Nassau']:\n",
        "                return 'Bahamas'\n",
        "            elif a in ['Sapphire', \"Mission Hills\", 'North Haven', 'Melbourne']:\n",
        "                return 'Australia'\n",
        "            elif a in ['Madrid, Spain', 'Madrid', 'Barrio Viejo De Callosa De Segura']:\n",
        "                return 'Spain'\n",
        "            elif a in ['Kuwait city'] :\n",
        "                return 'Kuwait'\n",
        "            elif a in ['Esch-sur-Alzette']:\n",
        "                return 'Luxembourg'\n",
        "            elif a in ['Tashkent']:\n",
        "                return 'Uzbekistan'\n",
        "            elif a in ['Taipei city']:\n",
        "                return 'Taiwan'\n",
        "            elif a in ['Tokyo']:\n",
        "                return 'Japan'\n",
        "            elif a in ['Thai Binh', 'Hai Duong']:\n",
        "                return 'Vietnam'\n",
        "            elif a in ['Buengkum']:\n",
        "                return 'Thailand'\n",
        "            elif a in ['Gardabaer']:\n",
        "                return 'Iceland'\n",
        "            elif a in ['Riyadh', \"Makkah\", 'Riyadh'] :\n",
        "                return 'Saudi Arabia'\n",
        "            elif a in ['Králův Dvůr Levín']:\n",
        "                return 'Czech Republic'\n",
        "            elif a in ['Cairo', 'Bloch']:\n",
        "                return 'Egypt'\n",
        "            elif a in ['Maseru']:\n",
        "                return 'Lesotho'\n",
        "            elif a in ['Colombo 03']:\n",
        "                return 'Sri Lanka'\n",
        "            elif a in [\"Tirana\"]:\n",
        "                return 'Albania'\n",
        "            elif a in ['70']:\n",
        "                return 'others'\n",
        "            elif a in ['Jakarta'] :\n",
        "                return 'Indonesia'\n",
        "            elif a in ['Paramaribo'] :\n",
        "                return 'Suriname'\n",
        "            elif a in ['Kampala']:\n",
        "                return 'Uganda'\n",
        "            elif a in ['DUBAI', 'Dubai']:\n",
        "                return 'U.A.E.'\n",
        "            elif a in ['Paradera']:\n",
        "                return 'Aruba'\n",
        "            elif a in ['上海', 'Shenzhen']:\n",
        "                return 'China'\n",
        "            elif a in ['Suva']:\n",
        "                return 'Fiji'\n",
        "            elif a in ['Budapest']:\n",
        "                return 'Hungary'\n",
        "            elif a in ['Amman']:\n",
        "                return 'Jordan'\n",
        "            elif a in ['QURUM']:\n",
        "                return 'Oman'\n",
        "            else:\n",
        "                return 'United States'\n",
        "        if a in ['5555', '48201', 'country', 'A'] :\n",
        "            return 'others'\n",
        "        elif '@' in a:\n",
        "            return 'others'\n",
        "        else:\n",
        "            return a\n"
      ],
      "metadata": {
        "id": "1ZsStWqHWCt6"
      },
      "execution_count": null,
      "outputs": []
    },
    {
      "cell_type": "code",
      "source": [
        "def cus_cty(df) :\n",
        "  replace_values = {'US' : 'United States',\n",
        "                    '700 Patroon Creek BlvdAlbanyNY12206' : 'United States',\n",
        "                    '239 Court St, Brooklyn, NY 11201, United States' : 'United States',\n",
        "                    'Little Rock, Arkansas, United States' : 'United States',\n",
        "                    'CA 91915-6002' : 'United States',\n",
        "                    '430 N Hamilton RdWhitehall, OH 43213, USA' : 'United States',\n",
        "                    '1110 Morse Rd, Columbus, Ohio, 43229, United States' : 'United States',\n",
        "                    '1755 North Brown Rd. Suite 200 Lawrenceville, GA 30043' : 'United States',\n",
        "                    'Miami, Florida, United States' : 'United States',\n",
        "                    '1100 Lee Ave, Lafayette, LA 70501' : 'United States',\n",
        "                    '85 W Main St Suite C, Canton, GA 30114' : 'United States',\n",
        "                    '101 MetLife Way, Cary, NC, 27513 – MET1' : 'United States',\n",
        "                    '7105 Northland Terrace N, Minneapolis, MN 55428' : 'United States',\n",
        "                    'CA 95814' : 'United States',\n",
        "                    '1275 Sister Grove Rd Van Alstyne, TX 75495' : 'United States',\n",
        "                    '100 Vestavia ParkwayBirminghamAL35216' : 'United States',\n",
        "                    'CA 92618 United States' : 'United States',\n",
        "                    'Rio de Janeiro' : 'Brazil',\n",
        "                    '1605 Ave. Ponce de León, Suite 400 San Juan, 00909, Puerto Rico' : 'Puerto Rico',\n",
        "                    'IL 60069' : 'United States',\n",
        "                    '28001 238th St, Le Claire, IA 52753, USA' : 'United States',\n",
        "                    'Grapevine, Texas, United States United States' : 'United States',\n",
        "                    '700 District Dr, Itasca, IL 60143 United States' : 'United States',\n",
        "                    '6398 College Blvd, Overland Park, KS 66211, United States' : 'United States',\n",
        "                    '3804 W Broadway St, Ardmore, OK 73401, United States' : 'United States',\n",
        "                    'New York City Metropolitan Area, United States': 'United States',\n",
        "                    '2529 W Busch Blvd Suite 1000, Tampa, FL 33618, United States' : 'United States',\n",
        "                    '1100 ITBProvoUT84602' : 'United States',\n",
        "                    'Telangana' : 'India',\n",
        "                    'Jeffersonville, IN United States' : 'United States',\n",
        "                    '6564 Headquarters DrPlanoTX7505' : 'United States',\n",
        "                    '1817 S Washington AveTitusville, FL 32780, USA' : 'United States',\n",
        "                    '63 Flushing Ave Bldg 303, Suite 804, Brooklyn, NY 11205, United States' : 'United States',\n",
        "                    '717 General Booth BlvdVirginia Beach, VA 23451, USA' : 'United States',\n",
        "                    '2877 Prospect Rd, Fort Lauderdale, FL 33309' : 'United States',\n",
        "                    'bangalore' : 'India',\n",
        "                    'MI 48827' : 'United States',\n",
        "                    '810 N KINGSTON DR PEORIA, IL 61604-2145' : 'United States',\n",
        "                    'OH 45215, USA' : 'United States',\n",
        "                    '3801 E Willow St, Long Beach, CA 90815, EE. UU.' : 'United States',\n",
        "                    'Clinton, OK 73601' : 'United States',\n",
        "                    'Ha Noi' : 'Vietnam',\n",
        "                    'ARGENTINA' : 'Argentina',\n",
        "                    '3100 Shore Drive Virginia Beach, VA 23451' : 'United States',\n",
        "                    'Los Angeles, California, United States' : 'United States',\n",
        "                    'West Caldwell NJ 07960 United States' : 'United States',\n",
        "                    '881 S Division St, Buffalo, NY 14210, United States' : 'United States',\n",
        "                    '12718 Kitten Trail, Hudson, FL 34669' : 'United States',\n",
        "                    'FL 33772' : 'United States',\n",
        "                    '13351 Dovers St, Waverly, NE 68462, United States' : 'United States',\n",
        "                    'Jacksonville Florida' : 'United States',\n",
        "                    'Ohio United States' : 'United States',\n",
        "                    '1100 Lee Ave, Lafayette, LA 70501' : 'United States',\n",
        "                    '6564 Headquarters DrPlanoTX75051' : 'United States',\n",
        "                    'RJ' : 'Brazil',\n",
        "                    'TX 78572 United States' : 'United States',\n",
        "                    '117 Bernal Rd Ste70-422San JoseSan JoseCA95119 ' : 'United States',\n",
        "                    '993 Niagara Ave, San Diego, CA 92107 United States' : 'United States',\n",
        "                    'Four Embarcadero Center Suite 1400 #85, San Francisco, CA 94111 United States' : 'United States',\n",
        "                    'odisha' : 'India',\n",
        "                    'lucknow' : 'India',\n",
        "                    '1036 n nalder st' : 'United States',\n",
        "                    'United States 32901' : 'United States',\n",
        "                    '2100 Engineer Rd, Oakland, CA 94607, United States' : 'United States',\n",
        "                    'Via E. De Amicis, 23 . 90044 Carini (PA)' : 'Italy',\n",
        "                    '136 S IndustrialSalineMI48176' : 'United States',\n",
        "                    '335 League St S, Sulphur Springs, TX 75482' : 'United States',\n",
        "                    'United States 14503.' : 'United States',\n",
        "                    'gurgaon' : 'India',\n",
        "                    '30 Winter Street Boston, MA 02108' : 'United States',\n",
        "                    '275 John Hancock Rd. Taunton, MA, 02780' : 'United States',\n",
        "                    'MA 02062 United States' : 'United States',\n",
        "                    'Pune' : 'India',\n",
        "                    'FL 33025' : 'United States',\n",
        "                    'Bari, Italy' : 'Italy',\n",
        "                    '8 Gay St, Christiana, PA 17509 United States' : 'United States', # 게이 뭐노 ㅋ,\n",
        "                    '500 N Highway 89 North, Prescott AZ 86313 United States' : 'United States',\n",
        "                    '609 Medical Center Dr. Decatur, Texas, 76234'  : 'United States',\n",
        "                    '7703 Floyd Curl Dr MC 7800, San Antonio TX 78229 United States' : 'United States',\n",
        "                    'St Cloud, MN 56303' : 'United States',\n",
        "                    '7581 S Franklin Way, Centennial, CO 80122, United States' : 'United States',\n",
        "                    # '' : 'United States',\n",
        "                    'Honduras' : 'Honduras',\n",
        "                    'CARRERA 11A 94-46 EDIFICIO CHICO 3000 PISO 3 BOGOTA' : 'Colombia',\n",
        "                    'Netherlands Antilles' : 'Netherlands',\n",
        "                    '823 Gateway Center Way, San Diego, CA 92102' : 'United States',\n",
        "                    'Colombia  Cartagena' : 'Colombia',\n",
        "                    'Cuiabá' : 'Brazil',\n",
        "                    'CO 80127' : 'United States',\n",
        "                    'TX 75098' : 'United States',\n",
        "                    'MO 64506' : 'United States',\n",
        "                    '1222 Eastwick CirMurphy, TX 75094, United States' : 'United States',\n",
        "                    '545 West 111th st Suite 7C' : 'United States',\n",
        "                    'P.O. Box 291992, Port Orange, FL 32129' : 'United States',\n",
        "                    'Isle of Man' : 'United Kingdom', # 아일랜드해안에 있지만, 영국왕국과 결합되어 있다함(사실 별도의 영토는 맞긴한데, 일단 영국으로)\n",
        "                    'NY 10566 United States' : 'United States',\n",
        "                    'GA 30039' : 'United States',\n",
        "                    'Centro de Produção Audiovisual - Sesc São Paulo' : 'Brazil',\n",
        "                    'Aparecida' : 'Brazil',\n",
        "                    'Colombia - cartagena' : 'Colombia',\n",
        "                    'Capão da canoa' : 'Brazil',\n",
        "                    'São Paulo' : 'Brazil',\n",
        "                    '1919 Minnesota Ct, Mississauga, ON L5N' : 'Canada',\n",
        "                    '54 Sugar Creek Center Blvd #300, Sugar Land, TX 77478, United States' : 'United States',\n",
        "                    'João Pessoa' : 'Brazil',\n",
        "                    'PerU' : 'Peru',\n",
        "                    'TN 38120' : 'United States',\n",
        "                    'Richardson, Texas, United States' : 'United States',\n",
        "                    'Sao Paulo' : 'Brazil',\n",
        "                    '2367 N 2650 WFarr WestUT84404' : 'United States',\n",
        "                    '4880 Stevens Creek BlvdSan JoseCA95129' : 'United States',\n",
        "                    '3131 BriarPark Dr Suite 200HoustonTX77042' : 'United States',\n",
        "                    '450 Riverchase PkwyBirminghamAL35186' : 'United States',\n",
        "                    '450 Riverchase PkwyBirminghamAL35186' : 'United States',\n",
        "                    '1397 Etowah DriveAtlantaGA30319' : 'United States',\n",
        "                    '3 Nasson Avenue' : 'United States',\n",
        "                    'Largo, Florida, United States United States' : 'United States',\n",
        "                    'FL 33013' : 'United States',\n",
        "                    'Bucaramanga' : 'Colombia',\n",
        "                    '7610 Market St, Canton, MI 48187, United States' : 'United States',\n",
        "                    '116 Village Blvd Suite 200, Princeton, NJ 08540 United States' : 'United States',\n",
        "                    'Dourados' : 'Brazil',\n",
        "                    'Foz de Iguaçu - PR Avenida Tancredo Neves 6731 Jardim Itaipu' : 'Brazil',\n",
        "                    'St Maarten' : 'France', # 프랑스, 네델란드간 분쟁 지역 (프랑스가 더 쌤)\n",
        "                    'Recife' : 'Brazil',\n",
        "                    'São Paulo, Pinheiros' : 'Brazil',\n",
        "                    'Cartagena' : 'Colombia',\n",
        "                    'Firenze, Italy' : 'Italy',\n",
        "                    'OR 97128' : 'United States',\n",
        "                    'Colombia C2: Solo información' : 'Colombia',\n",
        "                    'Ironhorse Customs LLC 4443 Genella Way North Las Vegas, NV 89031' : 'United States',\n",
        "                    'San Francisco, CA 94128, United States' : 'United States',\n",
        "                    '14700 Caribbean Way' : 'United States',\n",
        "                    'Bus Shed, 6501 Red Hook Rd #201, Nazareth, St Thomas 00802, U.S. Virgin Islands' : 'United States',\n",
        "                    '1600 Rosecrans Ave bldg 7 ste 101, Manhattan Beach, CA 90266,' : 'United States',\n",
        "                    'FL 32703' : 'United States',\n",
        "                    'AGOST, ALICANTE' : 'Spain',\n",
        "                    'Ohio' : 'United States',\n",
        "                    'NV 89119' : 'United States',\n",
        "                    'VA 22209' : 'United States',\n",
        "                    'NY' : 'United States',\n",
        "                    'Θέση Πέτσα Βακαλοπούλου ΒΙΟΠΑ Παλλήνης  153 51 ' : 'Greece',\n",
        "                    'SPAIN ' : 'Spain',\n",
        "                    'MADRID' : 'Spain',\n",
        "                    'ELCHE, ALICANTE' : 'Spain',\n",
        "                    '1800 Congress Ave., Austin, TX 78701' : 'United States',\n",
        "                    'CA 92657 United States' : 'United States',\n",
        "                    '9631 Liberty Rd B, Randallstown, MD 21133' : 'United States',\n",
        "                    'Benbrook, TX 76126' : 'United States',\n",
        "                    'SC 29555' : 'United States',\n",
        "                    '6252 E Grant Rd suite 150 Tucson, AZ 85712' : 'United States',\n",
        "                    'MO 64802 ' : 'United States',\n",
        "                    'gujarat' : 'India',\n",
        "                    'IN 46601, EE. UU.' : 'United States',\n",
        "                    'Warren, OH 44483.' : 'United States',\n",
        "                    '1 Hoag Dr.' : 'United States',\n",
        "                    '210 Route 4 East Fl 4' : 'United States',\n",
        "                    '21903 Ranier Ln' : 'United States',\n",
        "                    'NY 11358' : 'United States',\n",
        "                    'CA 95618' : 'United States',\n",
        "                    'New Hampshire' : 'United States',\n",
        "                    'GA 31405' : 'United States',\n",
        "                    'Wyckoff, NJ 07481, USA' : 'United States',\n",
        "                    '750 Florida Central Parkway Suite #100 Longwood, FL 32750' : 'United States',\n",
        "                    'FL 33404' : 'United States',\n",
        "                    '101 Clyde Ave Longwood, FL 32750, USA' : 'United States',\n",
        "                    'CA' : 'United States',\n",
        "                    'IL 61615' : 'United States',\n",
        "                    'Herndon, VA 20170' : 'United States',\n",
        "                    '724 W Business US Highway 60, Dexter, MO 63841,' : 'United States',\n",
        "                    'Square at, 2662 Gateway Rd Suite 165, Carlsbad, CA 92009' : 'United States',\n",
        "                    '1156 W Armitage Ave suite b, Chicago, IL 60614, US.' : 'United States',\n",
        "                    'MO 63103, USA' : 'United States',\n",
        "                    'MO 63103' : 'United States',\n",
        "                    'GRAN CANARIAS PLAYA DEL INGLES' : 'Spain',\n",
        "                    'CACERES' : 'Spain',\n",
        "                    '4278 S Buffalo St  Orchard Park, NY 14127' : 'United States',\n",
        "                    '1775 Liberty Dr, Fort Belvoir, VA 22060, United States' : 'United States',\n",
        "                    '8569 Sudley Rd Ste C Historic District, Manassas, VA 20110, USA' : 'United States',\n",
        "                    'MA 02780' : 'United States',\n",
        "                    'MN 55024' : 'United States',\n",
        "                    'Delmar, NY 12054 United States' : 'United States',\n",
        "                    'IL 60638 United States' : 'United States',\n",
        "                    'MO 64108' : 'United States',\n",
        "                    'CA 92078' : 'United States',\n",
        "                    'IL 60563United States' :  'United States',\n",
        "                    'SD 57751' : 'United States',\n",
        "                    '990 S Madera Ave, Kerman, CA 93630, United States' : 'United States',\n",
        "                    '135 Broadway, Schenectady, NY 12305, United States' : 'United States',\n",
        "                    '1491 Furnace St, Montgomery, AL 36104, United States' : 'United States',\n",
        "                    '1385 N Weber Rd, Romeoville, IL 60446,' : 'United States',\n",
        "                    '463 Industrial Park Rd, Elysburg, PA 17824, US' : 'United States',\n",
        "                    'CA 94555 United States' : 'United States',\n",
        "                    'UT 84116' : 'United States',\n",
        "                    '990 Biscayne Dr, Concord, NC 28027, United States' : 'United States',\n",
        "                    'Nicolosi (CT), Italy' : 'Italy',\n",
        "                    'FL 33442' : 'United States',\n",
        "                    'FL 33716' : 'United States',\n",
        "                    '3440 Rockefeller Ct Waldorf, MD 20602' : 'United States',\n",
        "                    'Arlington, NY 12603' : 'United States',\n",
        "                    '65 Grove Street, Suite 204  Watertown, MA 02472' : 'United States',\n",
        "                    '13854 Lakeside Cir Sterling Heights, MI 48313' : 'United States',\n",
        "                    '9110 Forest CrossingThe WoodlandsTX77381' : 'United States',\n",
        "                    'OK 73601 United States' : 'United States',\n",
        "                    'Hacienda Heights, California, United States' : 'United States',\n",
        "                    'Connecticut United States' : 'United States',\n",
        "                    'Caldwell, New Jersey, United States United States' : 'United States',\n",
        "                    'Gujarat' : 'India',\n",
        "                    'Chennai' : 'India',\n",
        "                    'Jamaica, NY 11417, USA' : 'United States',\n",
        "                    'indore' : 'India',\n",
        "                    'US Virgin Islands' : 'United Kingdom', # 영국이랑 가까워서 영국으로 해놓음\n",
        "                    'KS 66217' : 'United States',\n",
        "                    'NJ 07013' : 'United States',\n",
        "                    'TX 77024' : 'United States',\n",
        "                    '30 Cambria Ave, Pleasantville, NJ 08232' : 'United States',\n",
        "                    '4278 S Buffalo St Orchard Park, NY 14127' : 'United States',\n",
        "                    '723 S Valley Way, Palmer, AK 99645' : 'United States',\n",
        "                    'Zip 98433' : 'United States',\n",
        "                    'bhilwara' : 'India',\n",
        "                    'ND' : 'United States', # 노스다코타주(미국 도시이름) 줄임말 같음\n",
        "                    'VT 05672' : 'United States',\n",
        "                    '800 3rd Ave 3rd floor, New York, NY 10022' : 'United States',\n",
        "                    'BR' : 'Brazil', # 브라질 iso국가부호\n",
        "                    'kerela' : 'India',\n",
        "                    'uttar pradesh' : 'India',\n",
        "                    'Anand Vihar Delhi' : 'India',\n",
        "                    'hyderabad' : 'India',\n",
        "                    \"Via dell'informatica 10 - 37036 San Martino Buon Albergo (Veneto), Italy\" : ' Italy',\n",
        "                    'Belo Horizonte' : 'Brazil',\n",
        "                    '15806 Longship Ct' : 'United States',\n",
        "                    '2350 Airport FrwyBedfordTX76022' : 'United States',\n",
        "                    '1999 S Bascomb AveSuite 1000CampbellCA95008' : 'United States',\n",
        "                    '9716 McFarring DrFort WorthTX76244' : 'United States',\n",
        "                    '200 cabelLouisvilleKY40206' : 'United States',\n",
        "                    '1112 Badger Vine LaneArlingtonTX76005' : 'United States',\n",
        "                    '6111 W Plano Pkwy #2100PlanoTX75093' : 'United States',\n",
        "                    '100 Sabine River Dr.HuttoTX78634' : 'United States',\n",
        "                    '6300 Harry Hines BlvdSte. 1400DallasTX75235' : 'United States',\n",
        "                    '100 first stSan FranciscoCA94015' : 'United States',\n",
        "                    '899 Kifer RoadSunnyvaleCA94086' : 'United States',\n",
        "                    '2217 HOUSTON DRIVEMelissaTX75454' : 'United States',\n",
        "                    '829 Jackson ave' : 'United States',\n",
        "                    '3027 West Bay Villa Ave' : 'United States',\n",
        "                    '126 Diablo Ranch Court' : 'United States',\n",
        "                    '1537 Rolling Hills Dr.' : 'United States',\n",
        "                    '1715 Forest Cove Drive,  Apt 201' : 'United States',\n",
        "                    '410 Baylor StAustinTX78703' : 'United States',\n",
        "                    '9111 cypress waters blvdDallasTX75038' : 'United States',\n",
        "                    '9420 West Sam Houston Pkwy NHoustonTX77018' : 'United States',\n",
        "                    '6 Kimball LaneLynnfieldMA1940' : 'United States',\n",
        "                    '9820 Northcross Center CtHuntersvilleNC28078' : 'United States',\n",
        "                    '9800 S. Monroe StreetSandyUT84070' : 'United States',\n",
        "                    '2475 Washington BlvdOgdenUT84401' : 'United States',\n",
        "                    '400 Centre StNewtonMA2458' : 'United States',\n",
        "                    '400 Centre StreetNewtonMA2458' : 'United States',\n",
        "                    '36 Margin StPeabodyMA1960' : 'United States',\n",
        "                    '77 Massachusetts AveCambridgeMA2139' : 'United States',\n",
        "                    '160 Gould St Ste 300, Needham Heights, Massachusetts 02494NeedhamMA2721' : 'United States',\n",
        "                    '9 Landsdowne StreetBostonMA2215' : 'United States',\n",
        "                    '1209 Derby Run Carrollton, TX 75007CarrolltonTX75007' : 'United States',\n",
        "                    'One Constitution RoadBostonMA2129' : 'United States',\n",
        "                    '252 Beech AvenueMelroseMA2176' : 'United States',\n",
        "                    '5301 Stevens Creek BlvdSanta ClaraCA95051' : 'United States',\n",
        "                    '230 Highland Ave, Suite 531SomervilleMA2143' : 'United States',\n",
        "                    '7700 West Sunrise BlvdPlantationFL33322' : 'United States',\n",
        "                    '602 Saber Creek Drive' : 'United States',\n",
        "                    '11330 Clay RdHoustonTX77041' : 'United States',\n",
        "                    '1 Skyview drFort WorthTX76155' : 'United States',\n",
        "                    '416 Panzano Drive' : 'United States',\n",
        "                    '5501 Headquarters DrPlanoTX75024' : 'United States',\n",
        "                    '2266 Palmer Dr.' : 'United States',\n",
        "                    '1380 Enterprise Dr' : 'United States',\n",
        "                    '6601 Carroll Highlands Rd' : 'United States',\n",
        "                    '275 Mishawum Road' : 'United States',\n",
        "                    '222 Maxine Dr' : 'United States',\n",
        "                    '2900 Highway 280Suite 250BirminghamAL35223' : 'United States',\n",
        "                    '305 John Street' : 'United States',\n",
        "                    'MA 01851' : 'United States',\n",
        "                    '600 5th Street' : 'United States',\n",
        "                    'IL 60191' : 'United States',\n",
        "                    'Cra. 51 #12 sur-75, San Fernando, Itagüi, Medellín, Guayabal, Medellín, Antioquia, Colombia' : 'Colombia',\n",
        "                    '3000 Montour Church Road' : 'United States',\n",
        "                    '9820HuntersvilleNC28078' : 'United States',\n",
        "                    '152 Bowdoin Street' : 'United States',\n",
        "                    'PO Box 112292CarrolltonTX75011' : 'United States',\n",
        "                    '825 Eastlake Ave E' : 'United States',\n",
        "                    '955 Powell Ave SW' : 'United States',\n",
        "                    '2047  w summerdale ave' : 'United States',\n",
        "                    '1560 Chance Ct' : 'United States',\n",
        "                    '8454 Muirwood TrlFort WorthTX76137' : 'United States',\n",
        "                    '1503 LBJ ParkwaySuite 700Farmers BranchTX75234' : 'United States',\n",
        "                    '7673 HEMPSTON CIR' : 'United States',\n",
        "                    '1808 Lithgow RdCelinaTX75009' : 'United States',\n",
        "                    '1001 Main St' : 'United States',\n",
        "                    '1909 Forest Knoll DrHooverAL35244' : 'United States',\n",
        "                    '106 Lakeview DrHomewoodAL35209' : 'United States',\n",
        "                    '24082 Carmel Dr' : 'United States',\n",
        "                    '417 20th St NBirminghamAL35203' : 'United States',\n",
        "                    '594 Howard StSan FranciscoCA94105' : 'United States',\n",
        "                    '594 Howard StSan FranciscoCA94106' : 'United States',\n",
        "                    '31700 Temecula Parkway, Temecula CA 92592 United States' : 'United States',\n",
        "                    '300 East Park Drive' : 'United States',\n",
        "                    'Manaus' : 'Brazil',\n",
        "                    'SPAIN' : 'Spain',\n",
        "                    ', MO 64802' : 'United States',\n",
        "                    'Columbia' : 'Colombia',\n",
        "                    'Canda' : 'Canada',\n",
        "                    'Θέση Πέτσα Βακαλοπούλου ΒΙΟΠΑ Παλλήνης  153 51' : 'Greece',\n",
        "                    '117 Bernal Rd Ste70-422San JoseSan JoseCA95119' : 'United States',\n",
        "                    '6005 Commerce Dr. Ste. 300' : 'United States',\n",
        "                    '17215 Welby Way' : 'United States',\n",
        "                    '45 n 200 wWillardUT84340' : 'United States',\n",
        "                    'Swaziland' : 'Switzerland',\n",
        "                    'Nevada' : 'United States',\n",
        "                    '1100 Lee Ave, Lafayette, LA 70501,' : 'United States',\n",
        "                    'MO 64108.' : 'United States',\n",
        "                    'mumbai' : 'India',\n",
        "                    'Barranquilla' : 'Colombia',\n",
        "                    'UAE Dubai' : 'U.A.E.',\n",
        "                    'COLOMBIA' : 'Colombia',\n",
        "                    'Türkiye' : 'Turkey',\n",
        "                    'EGYPT' : ' Egypt',\n",
        "                    'Democratic Republic of the Congo' : 'Congo',\n",
        "                    'St Kitts' : 'Saint Kitts and Nevis',\n",
        "                    'Antigua' : 'Antigua and Barbuda',\n",
        "                    'Ivory Coast' : \"Cote d'Ivoire\",\n",
        "                    'British Virgin Islands' : 'United Kingdom',\n",
        "                    '85 W Main St Suite C, Canton, GA 30114,' : 'United States',\n",
        "                    'Turks and Caicos Islands' : 'United Kingdom',\n",
        "                    'VALENCIA' : 'Spain',\n",
        "                    'Dominican republic': 'Dominican Republic',\n",
        "                    'UNITED STATES': 'United States',\n",
        "                    'NE' : 'United States',\n",
        "                    'FL' : 'United States',\n",
        "                    'TX' : 'United States',\n",
        "                    'NJ' : 'United States',\n",
        "                    'NIM' : 'United States',\n",
        "                    'NM' : 'United States',\n",
        "                    'Englewood, CO' : 'United States',\n",
        "                    'W126 N7449 Flint Drive Menomonee Falls VA' : 'United States',\n",
        "                    '3 Center Plz Suite 330 Boston, MA 02108' : 'United States',\n",
        "                    'Curaçao': 'Netherlands',\n",
        "                    '5003 Lady Of The Lake Dr  Raleigh NC': 'United States',\n",
        "                    '233 South Beaudry Avenue  Los Angeles CA': 'United States',\n",
        "                    '603 Heritage Drive  Mount Juliet': 'United States',\n",
        "                    'Sandford': 'United Kingdom',\n",
        "                    'BLOOMSBURY': 'United Kingdom',\n",
        "                    'Southfield': 'United States',\n",
        "                    'Indianapolis': 'United States',\n",
        "                    'maharashtra': 'India',\n",
        "                    'Salt Lake City': 'United States',\n",
        "                    'New York': 'United States',\n",
        "                    'Soufriere': 'Saint Lucia',\n",
        "                    'Mumbai': 'India',\n",
        "                    'San Diego': 'United States',\n",
        "                    'Batavia': 'Indonesia',\n",
        "                    'Bangalore': 'India',\n",
        "                    'Houston': 'United States',\n",
        "                    }\n",
        "\n",
        "  df['customer_country'] = df['customer_country'].replace(replace_values)\n",
        "  return df"
      ],
      "metadata": {
        "id": "wAAI324zQo4v"
      },
      "execution_count": null,
      "outputs": []
    },
    {
      "cell_type": "code",
      "source": [
        "## 2. customer_country\n",
        "df_train[\"customer_country\"] = df_train[\"customer_country\"].apply(extract_country_name)\n",
        "df_test = df_test.copy()\n",
        "df_test[\"customer_country\"] = df_test[\"customer_country\"].apply(extract_country_name)\n",
        "\n",
        "df_train = cus_cty(df_train)\n",
        "df_test = cus_cty(df_test)"
      ],
      "metadata": {
        "id": "SkNLHI_2Wr55"
      },
      "execution_count": null,
      "outputs": []
    },
    {
      "cell_type": "code",
      "source": [
        "# df_country 결측치 채우기 -> 담당 자사 법인명 기준으로 많이 의뢰한 국가로 채워보자\n",
        "'''\n",
        "df_all = pd.concat([df_train, df_test])\n",
        "df_c = df_all.groupby(['response_corporate', 'customer_country'])[\"is_converted\"].count().reset_index()\n",
        "\n",
        "def get_max_group(group):\n",
        "    max_row = group.loc[group['is_converted'].idxmax()]\n",
        "    return max_row['customer_country']\n",
        "\n",
        "result = df_c.groupby('response_corporate').apply(get_max_group)\n",
        "\n",
        "zero_indices = df_train.index[df_train['customer_country']==0]\n",
        "for index in zero_indices:\n",
        "    df_train.loc[index, 'customer_country']=result[df_train.loc[index, \"response_corporate\"]]\n",
        "\n",
        "'''"
      ],
      "metadata": {
        "colab": {
          "base_uri": "https://localhost:8080/",
          "height": 144
        },
        "id": "SRshgYGRWupl",
        "outputId": "fe535bff-b924-4ff4-d130-024cac599632"
      },
      "execution_count": null,
      "outputs": [
        {
          "output_type": "execute_result",
          "data": {
            "text/plain": [
              "'\\ndf_all = pd.concat([df_train, df_test])\\ndf_c = df_all.groupby([\\'response_corporate\\', \\'customer_country\\'])[\"is_converted\"].count().reset_index()\\n\\ndef get_max_group(group):\\n    max_row = group.loc[group[\\'is_converted\\'].idxmax()]\\n    return max_row[\\'customer_country\\']\\n\\nresult = df_c.groupby(\\'response_corporate\\').apply(get_max_group)\\n\\nzero_indices = df_train.index[df_train[\\'customer_country\\']==0]\\nfor index in zero_indices:\\n    df_train.loc[index, \\'customer_country\\']=result[df_train.loc[index, \"response_corporate\"]]\\n\\n'"
            ],
            "application/vnd.google.colaboratory.intrinsic+json": {
              "type": "string"
            }
          },
          "metadata": {},
          "execution_count": 269
        }
      ]
    },
    {
      "cell_type": "markdown",
      "source": [
        "### 3.2 custoer_position"
      ],
      "metadata": {
        "id": "_udTNTv4W1j8"
      }
    },
    {
      "cell_type": "code",
      "source": [
        "def position_refine(df):\n",
        "    replace_words={\n",
        "        'other': 'other',\n",
        "        'this is a consume display requirement for home purpose.':'other',\n",
        "        'vicepresident': 'vice president',\n",
        "        'bulgaria' : 'other',\n",
        "        'lider de desarrollo': 'ceo/founder',\n",
        "        'decision-influencer': 'ceo/founder',\n",
        "        'decision-maker': 'ceo/founder',\n",
        "        'architecture/consult' : 'architect/consultant',\n",
        "        'software /solution provider' :  'software/solution provider',\n",
        "        'vp' : 'vice president',\n",
        "        'prof.' : 'professor',\n",
        "        'pgt Physcis': \"post graduate teacher in physics\",\n",
        "        'asst prof.': 'assistant professor',\n",
        "        'ceo/fundador': 'ceo/founder',\n",
        "        'gerente': 'manager',\n",
        "        'tierarzt': 'veterinarian',\n",
        "        'técnico' : 'technician',\n",
        "        'exhibitiontv' : 'other',\n",
        "        'proprietário(a)' : 'owner',\n",
        "        'genel müdür' : 'ceo/founder',\n",
        "        'mindenes' : 'other',\n",
        "        'főorvos' : 'chief physician',\n",
        "        'surgery professional' : 'surgeon',\n",
        "        'research': 'researcher',\n",
        "        'the big boss': 'ceo/founder',\n",
        "        'radiology professional' : 'radiologist',\n",
        "        'associate professor in electornics engg': 'associate professor',\n",
        "        'assistant professor of enlish': 'assistant professor',\n",
        "        'consulting': 'consultant',\n",
        "        'education': 'educator',\n",
        "        'education professional': 'educator',\n",
        "        'english trainer for ielts,toefl,pte,gre,sat exams.' : 'english trainer',\n",
        "        'entrylevel': 'entry level',\n",
        "        'exhibitiontv': 'exhibitiontv',\n",
        "        'founder': 'ceo/founder',\n",
        "        'no influence': 'other',\n",
        "        'c-levelexecutive': 'c-level executive',\n",
        "        'others': 'other',\n",
        "        'none': 'other',\n",
        "    ## 상위 10개로 분류\n",
        "        'leader': 'ceo/founder',\n",
        "        'av management': 'manager',\n",
        "        'business partner': 'partner',\n",
        "        'business unit director': 'director',\n",
        "        'chairman': 'manager',\n",
        "        'chief executive officer': 'ceo/founder',\n",
        "        'commercial end-user': 'end-user',\n",
        "        'decision influencer': 'ceo/founder',\n",
        "        'decision maker' : 'leader',\n",
        "        'leadership/executive office/owner': 'ceo/founder',\n",
        "        'market intelligence/research': 'associate/analyst',\n",
        "        'owner': 'ceo/founder',\n",
        "        'principal & director': 'director',\n",
        "        'product management': 'manager',\n",
        "        'intern': 'trainee'\n",
        "    }\n",
        "\n",
        "    df['customer_position'].replace(replace_words, inplace=True)\n",
        "\n",
        "    return df"
      ],
      "metadata": {
        "id": "0YQDpkPcWv3k"
      },
      "execution_count": null,
      "outputs": []
    },
    {
      "cell_type": "code",
      "source": [
        "df_train = position_refine(df_train)\n",
        "df_test = position_refine(df_test)"
      ],
      "metadata": {
        "id": "LfB07jkgW7w2"
      },
      "execution_count": null,
      "outputs": []
    },
    {
      "cell_type": "code",
      "source": [
        "def preprocess_customer_position(df):\n",
        "\n",
        "    top10_positions = df['customer_position'].value_counts().index[:10]\n",
        "\n",
        "    df['customer_position'] = df['customer_position'].apply(lambda x: x if x in top10_positions and pd.notnull(x) else 'other')\n",
        "\n",
        "    return df\n",
        "\n",
        "# 함수를 훈련 데이터와 테스트 데이터에 적용\n",
        "df_train = preprocess_customer_position(df_train)\n",
        "df_test = preprocess_customer_position(df_test)"
      ],
      "metadata": {
        "id": "zaY9vdkFW9C8"
      },
      "execution_count": null,
      "outputs": []
    },
    {
      "cell_type": "code",
      "source": [
        "df_train['customer_position'].value_counts()"
      ],
      "metadata": {
        "colab": {
          "base_uri": "https://localhost:8080/"
        },
        "id": "vD6gGGwtXBHc",
        "outputId": "40493ca7-ac89-40ac-aee3-4b9e1d235a92"
      },
      "execution_count": null,
      "outputs": [
        {
          "output_type": "execute_result",
          "data": {
            "text/plain": [
              "customer_position\n",
              "other                20080\n",
              "manager               7121\n",
              "ceo/founder           6785\n",
              "director              3904\n",
              "associate/analyst     2266\n",
              "partner               2187\n",
              "entry level           1968\n",
              "trainee               1066\n",
              "c-level executive      720\n",
              "end-user               426\n",
              "Name: count, dtype: int64"
            ]
          },
          "metadata": {},
          "execution_count": 273
        }
      ]
    },
    {
      "cell_type": "code",
      "source": [
        "df_test['customer_position'].value_counts()"
      ],
      "metadata": {
        "colab": {
          "base_uri": "https://localhost:8080/"
        },
        "id": "PuYS7H9CXE0g",
        "outputId": "fab23299-d229-44b7-d25c-47349bab5601"
      },
      "execution_count": null,
      "outputs": [
        {
          "output_type": "execute_result",
          "data": {
            "text/plain": [
              "customer_position\n",
              "other                2633\n",
              "manager               726\n",
              "ceo/founder           593\n",
              "director              343\n",
              "associate/analyst     279\n",
              "entry level           225\n",
              "partner               224\n",
              "trainee               109\n",
              "c-level executive      85\n",
              "vice president         54\n",
              "Name: count, dtype: int64"
            ]
          },
          "metadata": {},
          "execution_count": 274
        }
      ]
    },
    {
      "cell_type": "markdown",
      "source": [
        "### 3.3 customer_type"
      ],
      "metadata": {
        "id": "mPibTrg1X_e-"
      }
    },
    {
      "cell_type": "code",
      "source": [
        "def cus_type_typo(df) :\n",
        "\n",
        "  #  == 오타 먼저 전처리 ==\n",
        "  replace_values_typo = {\n",
        "      'End-Customer' : 'End Customer',\n",
        "      'Other' : 'Others',\n",
        "      'Etc.' : 'Others',\n",
        "      'End-user' : 'End Customer',\n",
        "      'Specifier / Influencer' : 'Specifier/ Influencer',\n",
        "      'Home Owner' : 'Homeowner',\n",
        "      'Corporate' : 'Installer/Contractor',\n",
        "      'Software / Solution Provider' : 'Software/Solution Provider',\n",
        "  }\n",
        "\n",
        "  # == 대체하기 ==\n",
        "  replace_values =  {\n",
        "      'Solution Eco-Partner' : 'Service Partner',\n",
        "      'Engineer' : 'Specifier/ Influencer',\n",
        "      'HVAC Engineer' : 'Specifier/ Influencer',\n",
        "      'Technician' : 'Specifier/ Influencer',\n",
        "      'Consultant' : 'Service Partner',\n",
        "      'Developer' : 'Specifier/ Influencer',\n",
        "      'Homeowner' : 'End Customer',\n",
        "      'Software/Solution Provider' : 'Service Partner', # 종합적인 solution을 제공한다고 생각하여 SP\n",
        "      'Software / Solution Provider' : 'Service Partner', #\n",
        "      'Manager / Director' : 'Specifier/ Influencer',\n",
        "      'Installer' : 'Channel Partner', # 설치업자는 현장 설치를 전문적으로 수행한다고 생각함\n",
        "      'Installer/Contractor' : 'Channel Partner',\n",
        "      'Architect/Consultant' : 'Service Partner',\n",
        "      'Distributor' : 'Channel Partner',\n",
        "      'Reseller' : 'Channel Partner',\n",
        "      'Dealer/Distributor' : 'Channel Partner',\n",
        "      'System Integrator' : 'Service Partner',\n",
        "      'Technical Assistant' : 'Service Partner',\n",
        "      'Commercial end-user' : 'End Customer',\n",
        "      'Administrator' : 'Channel Partner',\n",
        "      'Interior Designer' : 'Specifier/ Influencer'\n",
        "  }\n",
        "  df['customer_type'] = df['customer_type'].replace(replace_values_typo)\n",
        "  df['customer_type'] = df['customer_type'].replace(replace_values)\n",
        "\n",
        "  # 결측치 처리\n",
        "\n",
        "  return df\n",
        "\n",
        "df_train = cus_type_typo(df_train)\n",
        "df_test = cus_type_typo(df_test)"
      ],
      "metadata": {
        "id": "E4zrczVVXHDy"
      },
      "execution_count": null,
      "outputs": []
    },
    {
      "cell_type": "code",
      "source": [
        "df_train['customer_type'].value_counts()"
      ],
      "metadata": {
        "colab": {
          "base_uri": "https://localhost:8080/"
        },
        "id": "X5BLaixdYN8Z",
        "outputId": "c815b5e3-880f-45dd-c3a9-4049be79fcbc"
      },
      "execution_count": null,
      "outputs": [
        {
          "output_type": "execute_result",
          "data": {
            "text/plain": [
              "customer_type\n",
              "End Customer             8593\n",
              "Specifier/ Influencer    2438\n",
              "Channel Partner          1358\n",
              "Service Partner           472\n",
              "Others                     20\n",
              "Name: count, dtype: int64"
            ]
          },
          "metadata": {},
          "execution_count": 276
        }
      ]
    },
    {
      "cell_type": "code",
      "source": [
        "df_test['customer_type'].value_counts()"
      ],
      "metadata": {
        "colab": {
          "base_uri": "https://localhost:8080/"
        },
        "id": "AI2rIsMuYOAK",
        "outputId": "83813631-1c9e-4685-ba75-dcab924565c6"
      },
      "execution_count": null,
      "outputs": [
        {
          "output_type": "execute_result",
          "data": {
            "text/plain": [
              "customer_type\n",
              "End Customer             2454\n",
              "Specifier/ Influencer     789\n",
              "Channel Partner           327\n",
              "Service Partner           244\n",
              "Name: count, dtype: int64"
            ]
          },
          "metadata": {},
          "execution_count": 277
        }
      ]
    },
    {
      "cell_type": "markdown",
      "source": [
        "### 3.4 customer_job"
      ],
      "metadata": {
        "id": "J1Bk34chZ3s8"
      }
    },
    {
      "cell_type": "code",
      "source": [
        "def cus_job_typo(df):\n",
        "\n",
        "  # == 오타 먼저 전처리 ==\n",
        "  replace_values = {\n",
        "      'graphic/color art' : 'arts and design',\n",
        "      '3d/vfx art' : 'arts and design',\n",
        "      'clinical specialist' : 'healthcare services',\n",
        "      'radiology professional' : 'healthcare services',\n",
        "      'medical imaging specialist' : 'engineering',\n",
        "      'surgery professional' : 'healthcare services',\n",
        "      'pathologist' : 'healthcare services',\n",
        "      'art and design' : 'arts and design',\n",
        "      'programm-_und_projektmanagement' : 'program and project management',\n",
        "      'engineering & technical' : 'engineering',\n",
        "      'technical' : 'engineering',\n",
        "      'medien_und_kommunikation' : 'media and communication',\n",
        "      'finanzen' : 'finance',\n",
        "      'designer' : 'arts and design',\n",
        "      'information_technology' : 'information technology',\n",
        "      'kreation_und_design' : 'arts and design',\n",
        "      'sonstiges' : 'other',\n",
        "      'arts_and_design' : 'arts and design',\n",
        "      'otro' : 'other',\n",
        "      'computing & it' : 'information technology',\n",
        "      'it director' : 'information technology',\n",
        "      'engineer' : 'engineering',\n",
        "      'program_and_project_management' : 'program and project management',\n",
        "      'surgery professional' : 'healthcare services',\n",
        "      'clinic' : 'healthcare services',\n",
        "      'projektmenedzsment\\tprogram and project management' : 'program and project management',\n",
        "      'information technology​' : 'information technology',\n",
        "      'it' : 'information technology',\n",
        "      'healthcare_services' : 'healthcare services',\n",
        "      'amministrativo' : 'administrative',\n",
        "      'surgery professional​' : 'healthcare services',\n",
        "      'adminisztráció' : 'administrative',\n",
        "      'pénzügy' : 'finance',\n",
        "      'radiology  professional' : 'healthcare services',\n",
        "      'healthcare professionals' : 'healthcare services',\n",
        "      'it - information technology' : 'information technology',\n",
        "      'engineering & technical executive' : 'engineering',\n",
        "      'program_and_project_manager' : 'program and project management',\n",
        "      'administration' : 'administrative',\n",
        "      'tech' : 'engineering',\n",
        "      'it/software' : 'information technology',\n",
        "      'arte_e_design' : 'arts and design',\n",
        "      'program-_és_projektmenedzsment' : 'program and project management',\n",
        "      'others' : 'other',\n",
        "      'medical solution provider' : 'engineering',\n",
        "      'owner' : 'entrepreneurship',\n",
        "      'manager' : 'product management',\n",
        "      'project manager' : 'program and project management',\n",
        "      'curation' : 'arts and design',\n",
        "      'quality assurance' : 'engineering',\n",
        "      'general management' : 'business development',\n",
        "      'architect' : 'engineering',\n",
        "      'gm' : 'business development',\n",
        "      'decision maker' : 'business development',\n",
        "      'ceo' : 'entrepreneurship',\n",
        "      'lead' : 'entrepreneurship',\n",
        "      'director' : 'business development',\n",
        "      'purchaser' : 'purchasing',\n",
        "      'buyer' : 'purchasing',\n",
        "      'arquitecto/consultor' : 'consulting',\n",
        "      'executive' : 'entrepreneurship',\n",
        "      'vertrieb' : 'marketing',\n",
        "      'ceo/founder' : 'entrepreneurship',\n",
        "      'general manager' : 'operations',\n",
        "      'arquitecto/consultor' : 'consulting',\n",
        "      'military and protective services' : 'other',\n",
        "      'community_and_social_services' : 'other',\n",
        "      'installer' : 'operations',\n",
        "      'consultant' : 'consulting',\n",
        "      'revendedor' : 'sales',\n",
        "      'research & development' : 'research',\n",
        "      'procurement' : 'operations',\n",
        "      'coordinator' : 'entrepreneurship',\n",
        "      'integrador' : 'operations',\n",
        "      'integrator' : 'operations',\n",
        "      'operations manager ' : 'operations',\n",
        "      'it manager' : 'information technology',\n",
        "      'advertising' : 'marketing',\n",
        "      'chief engineer' : 'engineering',\n",
        "      'business_development' : 'business development',\n",
        "      'project coordinator' : 'program and project management',\n",
        "      'vendite' : 'sales',\n",
        "      'medical solution  provider' : 'healthcare services',\n",
        "      'media_e_comunicazione' : 'media and communication',\n",
        "      'egyéb' : 'other',\n",
        "      'pm' : 'program and project management',\n",
        "      'account management' : 'accounting',\n",
        "      'quality_assurance' : 'sales',\n",
        "      'associate/analyst' : 'finance',\n",
        "      'general contractor' : 'operations',\n",
        "      'contractor' : 'operations',\n",
        "      'reseller' : 'sales',\n",
        "      'institute & academy' :  'education',\n",
        "      'other stores' : 'other',\n",
        "      'educator' : 'education',\n",
        "      'distributor' : 'sales',\n",
        "      'medical imaging  specialist' : 'engineering',\n",
        "      'sales manager' : 'sales',\n",
        "      'purchasing agent' : 'purchasing',\n",
        "      'művészet_és_design' : 'arts and design',\n",
        "      'av tech' : 'information technology',\n",
        "      'administrative assistant' : 'administrative',\n",
        "      'média_és_kommunikáció' : 'media and communication',\n",
        "      'sales manager' : 'product management',\n",
        "      'purchase' : 'purchasing',\n",
        "      'sales operations' : 'sales',\n",
        "      'procurement specialist' : 'purchasing',\n",
        "      'distribuidor' : 'sales',\n",
        "      'marketing executive' : 'marketing',\n",
        "      'coo' : 'entrepreneurship',\n",
        "      'field marketing' : 'marketing',\n",
        "      'vice president' : 'other',\n",
        "      'technical director' : 'engineering',\n",
        "      'planner' : 'operations',\n",
        "      'producer' : 'product management',\n",
        "      'product marketing' : 'marketing',\n",
        "      'project architect' : 'engineering',\n",
        "      'operations executive' : 'operations',\n",
        "      'operations manager' : 'operations',\n",
        "      'higher education (college & university)' : 'education',\n",
        "      'director of it' : 'information technology',\n",
        "      'design' : 'arts and design',\n",
        "      'project lead' : 'program and project management',\n",
        "      'recommend (you recommend specific products or technologies for the solution)' : 'consulting',\n",
        "      'project head' : 'program and project management',\n",
        "      'medios_de_comunicación' : 'media and communication',\n",
        "      'sales executive' : 'sales',\n",
        "      'solution provider'  : 'consulting',\n",
        "      'üzemeltetés' : 'operations',\n",
        "      'értékesítés' : 'sales',\n",
        "      'influencer' : 'marketing',\n",
        "      'interior designer' : 'arts and design',\n",
        "      'leader' : 'entrepreneurship',\n",
        "      'implement' : 'operations',\n",
        "      # 'hr' : '' 보류\n",
        "      'marketing operations' : 'operations',\n",
        "      'following up' : 'sales',\n",
        "      'supervisor' : 'operations',\n",
        "      'management' : 'program and project management',\n",
        "      'user' : 'sales',\n",
        "      'cliente final' : 'sales',\n",
        "      'president' : 'other',\n",
        "      'event marketing' : 'marketing',\n",
        "      'collaboration & web apps' : 'information technology',\n",
        "      'sales engineering' : 'engineering',\n",
        "      'estimator' : 'engineering',\n",
        "      'end user' : 'sales',\n",
        "      'altro' : 'other',\n",
        "      'project director' : 'program and project management',\n",
        "      'admin' : 'administrative',\n",
        "      'technical marketing' : 'marketing',\n",
        "      'railway & metro station' : 'operations',\n",
        "      'graphic design' : 'arts and design',\n",
        "      'fashion' : 'arts and design',\n",
        "      'account exec/manager' : 'accounting',\n",
        "      'purchasing manager' : 'purchasing',\n",
        "      'details send' : 'operations',\n",
        "      'pacs administrator' : 'healthcare services',\n",
        "      'it specialist' : 'information technology',\n",
        "      'autres' : 'other',\n",
        "      'electronics & telco' : 'engineering',\n",
        "      'medical solution provider' : 'healthcare services',\n",
        "      'emerging technology / innovation' : 'engineering',\n",
        "      'infrastructure' : 'operations',\n",
        "      'designer/ project manager' : 'other', # 너무 애매함\n",
        "      'restaurant display' : 'other',\n",
        "      'test4' : 'other',\n",
        "      'energy' : 'engineering',\n",
        "      'broadcasting & media' : 'media and communication',\n",
        "      'systems administrator' : 'administrative',\n",
        "      'customer experience' : 'other',\n",
        "      'field / outside sales' : 'sales',\n",
        "      'sourcing / procurement' : 'operations',\n",
        "      'chief of engineering' : 'engineering',\n",
        "      'designers' : 'arts and design',\n",
        "      'design/build' : 'arts and design',\n",
        "      'it hardware technician ' : 'engineering',\n",
        "      'electrical contractor' : 'operations',\n",
        "      'systems design' : 'arts and design',\n",
        "      'it admin' : 'information technology',\n",
        "      'property owner' : 'real estate',\n",
        "      'menu' : 'other',\n",
        "      'sme' : 'entrepreneurship',\n",
        "      'design/install/training/support' : 'arts and design',\n",
        "      'electronics evaluator' : 'operations',\n",
        "      'assist in serving food' : 'support',\n",
        "      'underboss' : 'entrepreneurship',\n",
        "      'community theater' : 'support',\n",
        "      'cintractor' : 'operations',\n",
        "      'it support' : 'information technology',\n",
        "      'building owner' : 'real estate',\n",
        "      'teacher' : 'education',\n",
        "      'it project lead' : 'information technology',\n",
        "      'hardware design engineer' : 'engineering',\n",
        "      'it dairector' : 'information technology',\n",
        "      'designer/ engineer' : 'other',  # 경계 모호\n",
        "      'design and install' : 'arts and design',\n",
        "      'designer, creative technologist' : 'arts and design',\n",
        "      'primary end-user' : 'sales',\n",
        "      'it department' : 'information technology',\n",
        "      'designer/installer' : 'arts and design',\n",
        "      'medical solution provider​' : 'healthcare services',\n",
        "      'photographer' : 'arts and design',\n",
        "      'no respoxse on phone will try again ' : 'other',\n",
        "      'product_management' : 'product management',\n",
        "      'solution engineer' : 'engineering',\n",
        "      'reseller/integrator' : 'sales',\n",
        "      'facilitator installation services' : 'operations',\n",
        "      'display' : 'engineering',\n",
        "      'media and communications' : 'media and communication',\n",
        "      'av project manager' : 'program and project management',\n",
        "      'otros' : 'other',\n",
        "      'architect ass interiores' : 'arts and design',\n",
        "      'requirement close' : 'other',\n",
        "      'system designer, integrator' : 'arts and design',\n",
        "      'no requirment' : 'other',\n",
        "      'corporate / office' : 'entrepreneurship',\n",
        "      'colorist' : 'arts and design',\n",
        "      'engineering, design, and install' : 'other',  # 경계 모호\n",
        "      'software solution' : 'consulting',\n",
        "      'serving food' : 'support',\n",
        "      'doctor' : 'healthcare services',\n",
        "      'manufacturing factory / plant' : 'operations',\n",
        "      'waiter' : 'support',\n",
        "      'chief' : 'entrepreneurship',\n",
        "      'contributor' : 'support',\n",
        "      'purchsing' : 'purchasing',\n",
        "      'chef' : 'other',\n",
        "      'designer purchaser' : 'arts and design',\n",
        "      'authorize (you are responsible for making the final decision)' : 'business development',\n",
        "      'a/v project manager' : 'program and project management',\n",
        "      'final approval' : 'other',\n",
        "      'design engineer' : 'arts and design',\n",
        "      'inquiry-to-buy/contact-us test' : 'operations',\n",
        "      'director of lodging' : 'operations',\n",
        "      'lead engineer' : 'engineering',\n",
        "      'design/purchaser' : 'other', # 경계 모호\n",
        "      'technology consultant' : 'consulting',\n",
        "      'project manager/designer' : 'program and project management',\n",
        "      'no respoxse on phone will try again' : 'other',\n",
        "      'consultent' : 'consulting',\n",
        "      'elevator company' : 'entrepreneurship',\n",
        "      'for confrence' : 'operations',\n",
        "      'distributor quotation' : 'operations',\n",
        "      'quoting project' : 'administrative',\n",
        "      'manger' : 'product management', # 임의로 넣어둠\n",
        "      'design consultant' : 'consulting',\n",
        "      'project engineer' : 'engineering',\n",
        "      'conference room' : 'other',\n",
        "      'it hardware technician' : 'information technology',\n",
        "      'designer/pm/gc' : 'other',\n",
        "      'furnish and install' : 'other',\n",
        "      'videowall' : 'other',\n",
        "      'it tech.' : 'information technology',\n",
        "      'projectr mgmt' : 'program and project management',\n",
        "      'facility administrator' : 'administrative',\n",
        "      'software developer' : 'information technology',\n",
        "      'principal' : 'education',\n",
        "      'home theater' : 'other',\n",
        "      'team lead' : 'program and project management',\n",
        "      'serving robot' : 'operations',\n",
        "      'nothing' : 'other',\n",
        "      'cctv view' : 'operations',\n",
        "      'product researcher' : 'research',\n",
        "      'purchase dept' : 'sales',\n",
        "      'instructor' : 'education',\n",
        "      'decider' : 'business development',\n",
        "      'seller installer' : 'sales',\n",
        "      'general manager (decision maker)' : 'business development',\n",
        "      'procurment' : 'operations',\n",
        "      'f&b director for bicycle casino' : 'other',\n",
        "      'supplier and installation ' : 'sales',\n",
        "      'managing director' : 'program and project management',\n",
        "      'sales rep' : 'sales',\n",
        "      'installer/sales rep' : 'sales',\n",
        "      'cctv monetoring' : 'operations',\n",
        "      'department secretary' : 'administrative',\n",
        "      'r&d project manager' : 'program and project management',\n",
        "      'facilities and operations' : 'operations',\n",
        "      'component of video wall' : 'other',\n",
        "      'systems engineer' : 'engineering',\n",
        "      'installer.' : 'operations',\n",
        "      'principal in charge' : 'program and project management',\n",
        "      'fixing tv' : 'other',\n",
        "      'director of engineering' : 'engineering',\n",
        "      'regional director of operations' : 'operations',\n",
        "      'chief eng.' : 'engineering',\n",
        "      'supplier and installation' : 'entrepreneurship',\n",
        "      'sale' : 'sales',\n",
        "      'installation and purchaser' : 'purchasing',\n",
        "      'maintenance technician' : 'engineering',\n",
        "      'purchasing supervisor' : 'consulting',\n",
        "      'we are in iceland' : 'other', # 뭐냐이건 ㅋㅋㅋㅋㅋ\n",
        "      'part of video wall' : 'other',\n",
        "      'mental health' : 'healthcare services',\n",
        "      'technical / decision maker' : 'operations',\n",
        "      'ops mgr' : 'operations',\n",
        "      'research products and prices' : 'research',\n",
        "      'for presentations' : 'other',\n",
        "      'managing partner' : 'program and project management',\n",
        "      'store promotions' : 'marketing',\n",
        "      'owner / project manager' : 'other',  # 경계 모호\n",
        "      'installer/ system integrater' : 'operations',\n",
        "      'office it' : 'entrepreneurship',\n",
        "      'principal engineer ' : 'engineering',\n",
        "      'tradeshow event' : 'marketing',\n",
        "      'serving ' : 'support',\n",
        "      'deputy cio' : 'entrepreneurship',\n",
        "      'project manage' : 'program and project management',\n",
        "      'recommender' : 'other',\n",
        "      'resource manager' : 'product management',\n",
        "      'display screen from control' : 'other',\n",
        "      'general manager - project manager' : 'program and project management',\n",
        "      'sourcing/procurement' : 'operations',\n",
        "      'parts coordinator' : 'support',\n",
        "      'accounts payable' : 'sales',\n",
        "      'main end user of the product' : 'product management',\n",
        "      'ranger 2 ' : 'other',\n",
        "      'pricing ' : 'sales',\n",
        "      'purchasers' : 'purchasing',\n",
        "      'av estimator' : 'sales',\n",
        "      'appliance specialist' : 'consulting',\n",
        "      'consultant,cabinet fabricator' : 'other', # 경계 모호\n",
        "      'director of operations' : 'operations',\n",
        "      'construction manager' : 'program and project management',\n",
        "      'research and developement' : 'research',\n",
        "      'imaging administrator' : 'administrative',\n",
        "      'design/decision maker' : 'operations',\n",
        "      'signage manager' : 'product management',\n",
        "      'planning and installation' : 'operations',\n",
        "      'network administrator' : 'administrative',\n",
        "      'reseorot general manager' : 'program and project management',\n",
        "      'correspondence' : 'other',\n",
        "      'director of finance' : 'finance',\n",
        "      'intergrator' : 'other',\n",
        "      'quote gathering/proposer to owner' : 'sales',\n",
        "      'owner representation' : 'real estate',\n",
        "      'digital display vs signage need' : 'other',\n",
        "      'principal engineer' : 'engineering',\n",
        "      'technical sales' : 'sales',\n",
        "      'producer/project manager' : 'program and project management',\n",
        "      'submitting proposal' : 'operations',\n",
        "      'program directors' : 'program and project management',\n",
        "      'costar av team' : 'real estate',\n",
        "      'conference table' : 'other',\n",
        "      'serving' : 'other',\n",
        "      'genera manager' : 'business development',\n",
        "      'hardware' : 'engineering',\n",
        "      'repair uhd 120 hz units' : 'support',\n",
        "      'recommendation' : 'other',\n",
        "      'equipment and app provider' : 'information technology',\n",
        "      'ranger 2' : 'other',\n",
        "      'pricing ' : 'sales',\n",
        "      'project researcher' : 'research',\n",
        "      'post install support and service' : 'support',\n",
        "      'sign company' : 'entrepreneurship',\n",
        "      'content creation, eq consultant' : 'consulting',\n",
        "      'buyer, coordinating' : 'purchasing',\n",
        "      'project designer' : 'program and project management',\n",
        "      'cloud / mobility' : 'information technology',\n",
        "      'teaching' : 'education',\n",
        "      'equipment planner' : 'purchasing',\n",
        "      'interior stylist' : 'arts and design',\n",
        "      'project sales/manage' : 'sales',\n",
        "      'master mind' : 'entrepreneurship',\n",
        "      'quotation curator' : 'arts and design',\n",
        "      'service coordinator' : 'entrepreneurship',\n",
        "      'creative director' : 'arts and design',\n",
        "      'tester' : 'operations',\n",
        "      'studio manager' : 'program and project management',\n",
        "      'purchase and install' : 'operations',\n",
        "      'asking for quote for client' : 'other',\n",
        "      'general manager- purchaser' : 'other', # 경계 모호\n",
        "      'purchasing authority' : 'purchasing',\n",
        "      'product research' : 'research',\n",
        "      'pricing' : 'sales',\n",
        "      'salesman' : 'sales',\n",
        "      'hotel manager' : 'operations',\n",
        "      'var' : 'sales',\n",
        "      'sho lyrics' : 'other',\n",
        "      'hardware selection' : 'engineering',\n",
        "      'it administrator' : 'information technology',\n",
        "      'replacement tv' : 'other',\n",
        "      'platform administrator' : 'administrative',\n",
        "      'drop, purchase maxhub' : 'other',\n",
        "      'asset management' : 'accounting',\n",
        "      'digital signage' : 'other',\n",
        "      'solution advisor' : 'consulting',\n",
        "      'purchasing director' : 'purchasing',\n",
        "      'facilities' : 'other',\n",
        "      'federal government contractor' : 'other',\n",
        "      'stakeholder' : 'program and project management',\n",
        "      'sourcing & quoting for end user' : 'sales',\n",
        "      'integration' : 'operations',\n",
        "      'contractor/owner' : 'real estate',\n",
        "      'advertising and promotions team' : 'marketing',\n",
        "      'sourcing' : 'administrative',\n",
        "      'photos' : 'arts and design',\n",
        "      'facility manager' : 'program and project management',\n",
        "      'project manager / principal' : 'program and project management',\n",
        "      'managing contractor' : 'program and project management',\n",
        "      'signage subcontractor p/m' : 'product management',\n",
        "      'solutions provider and specifier' : 'consulting',\n",
        "      'informatics, touch capability' : 'other',\n",
        "      'guestroom tv' : 'other',\n",
        "      'application development' : 'information technology',\n",
        "      'developer' : 'information technology',\n",
        "      'profesional de cirugía' : 'healthcare services',\n",
        "      'spécialiste_en_imagerie_médicale' : 'healthcare services',\n",
        "      'chirurgien' : 'healthcare services',\n",
        "      'cirugano' : 'healthcare services',\n",
        "      'media_and_communication' : 'media and communication',\n",
        "      'tierarzt' : 'media and communication',\n",
        "      'digital project manager' : 'program and project management',\n",
        "      'entry level' : 'other',\n",
        "      'si' : 'other',\n",
        "      'director comercial' : 'sales',\n",
        "      'car dealership' : 'sales',\n",
        "      'proprietário(a)' : 'real estate',\n",
        "      'genel müdür' : 'program and project management',\n",
        "      'mindenes' : 'other', # 만능인 ㅇㅈㄹ\n",
        "      'főorvos' : 'healthcare services',\n",
        "      'intern' : 'other',\n",
        "      'the big boss' : 'entrepreneurship',\n",
        "      'strategic communications' : 'program and project management',\n",
        "      'renewable energy' : 'engineering',\n",
        "      'museum / gallery' : 'arts and design',\n",
        "      'profesional de radiología' : 'healthcare services',\n",
        "      'military_and_protective_services ' : 'other',\n",
        "      'project administrator' : 'program and project management',\n",
        "      'radiology_professional' : 'healthcare services',\n",
        "      'signage for an attraction' : 'other',\n",
        "      'equipment selection' : 'other',\n",
        "      'system engineer' : 'engineering',\n",
        "      'designere / budget' : 'arts and design',\n",
        "      'n.a' : 'other',\n",
        "      'commander' : 'other',\n",
        "      'enterprise resource planning' : 'administrative',\n",
        "      'help desk / desktop services' : 'support',\n",
        "      'finance executive' : 'finance',\n",
        "      'senior design engineer' : 'engineering',\n",
        "      'directeur technique' : 'program and project management',\n",
        "      'c-level executive' : 'entrepreneurship',\n",
        "      'programm- und projektmanagement' : 'program and project management',\n",
        "      'kreation und design' : 'arts and design',\n",
        "      'operaciones' : 'operations',\n",
        "      'administración' : 'administrative',\n",
        "      'gestión_de_proyectos' : 'program and project management',\n",
        "      'finanzas' : 'finance',\n",
        "      'arte y diseño' : 'arts and design',\n",
        "      'investigator' : 'administrative',\n",
        "      'marketing coordinator' : 'marketing',\n",
        "      'vendor / reseller' : 'sales',\n",
        "      'maintenance supervisor' : 'consulting',\n",
        "      'head of technology' : 'engineering',\n",
        "      'sliding pictures of beauty salon' : 'other',\n",
        "      'gm/part owner' : 'program and project management',\n",
        "      'project manager / estimator' : 'program and project management',\n",
        "      'managing employee' : 'entrepreneurship',\n",
        "      'designer, producer' : 'other',\n",
        "      'display our products' : 'other',\n",
        "      'lead designer' : 'arts and design',\n",
        "      'architect/owner' : 'other',\n",
        "      'planner/purchaser' : 'other',\n",
        "      'global lead of production' : 'product management',\n",
        "      'liason' : 'other',\n",
        "      'maintenance' : 'product management',\n",
        "      'product owner' : 'product management',\n",
        "      'helpdesk specialist' : 'support',\n",
        "      'the person with the credit card' : 'other',\n",
        "      'projection manager' : 'program and project management',\n",
        "      'need one tv' : 'other',\n",
        "      'gc' : 'entrepreneurship',\n",
        "      'ownner-marketing director' : 'marketing',\n",
        "      'hotel tv' : 'other',\n",
        "      'video wall' : 'other',\n",
        "      'managgere' : 'program and project management',\n",
        "      'engagement executive' : 'entrepreneurship',\n",
        "      'military_and_protective_services ' : 'other',\n",
        "      'solutions architect' : 'consulting',\n",
        "      'project team member' : 'program and project management',\n",
        "      'director purchaser' : 'purchasing',\n",
        "      'head' : 'entrepreneurship',\n",
        "      'reviewer' : 'marketing',\n",
        "      'admin assistant' : 'administrative',\n",
        "      'development coordinator/procurement' : 'operations',\n",
        "      'ordering manager' : 'program and project management',\n",
        "      'facilitator' : 'program and project management',\n",
        "      'sub contractor' : 'operations',\n",
        "      'primary' : 'entrepreneurship',\n",
        "      'retailer/installer' : 'purchasing',\n",
        "      '5% of hotel needs' : 'other',\n",
        "      'av technician' : 'engineering',\n",
        "      'overseer' : 'program and project management',\n",
        "      'business owner' : 'business development',\n",
        "      'display screen' : 'other',\n",
        "      'obtain quotes, process purchase' : 'other',\n",
        "      'tv studio manager' : 'program and project management',\n",
        "      'purchasing coordinator' : 'other',\n",
        "      'it integrator' : 'information technology',\n",
        "      'design and installation company' : 'entrepreneurship',\n",
        "      'replacing tv' : 'support',\n",
        "      'manufacturer' : 'other',\n",
        "      'art installation' : 'arts and design',\n",
        "      'support/facilitator, designer' :  'other',\n",
        "      'supplier' : 'sales',\n",
        "      'design and provide equipment' : 'arts and design',\n",
        "      'director,it' : 'information technology',\n",
        "      'team leader' : 'program and project management',\n",
        "      'purchaser, it and installer' : 'other',\n",
        "      'need 1 tv 55\" edge led 4k uhd' : 'other',\n",
        "      'site manager' : 'program and project management',\n",
        "      \"i'm directing it\" : 'information technology',\n",
        "      'military_and_protective_services' : 'other',\n",
        "      'strategy & operations specialist' : 'operations',\n",
        "      'change tv' : 'support',\n",
        "      'wall mounted screen mirroring' : 'other',\n",
        "      'organizer' : 'entrepreneurship',\n",
        "      'using for window display' : 'other',\n",
        "      'project facilitator' : 'program and project management',\n",
        "      'equipment custodian' : 'product management',\n",
        "      'comanager' : 'program and project management',\n",
        "      'tech service' : 'support',\n",
        "      'requisition' : 'sales',\n",
        "      'engineering director' : 'engineering',\n",
        "      'testing and troubleshooting' : 'other',\n",
        "      'office manager' : 'other',\n",
        "      'requirements and buyer' : 'purchasing',\n",
        "      'research and instalaltion' : 'research',\n",
        "      'vp/gm' : 'other',\n",
        "      'technology designer' : 'arts and design',\n",
        "      'systems designer' : 'arts and design',\n",
        "      'artist, lead on equipment selection' : 'arts and design',\n",
        "      'owning company' : 'entrepreneurship',\n",
        "      'execution' : 'other',\n",
        "      'director it' : 'information technology',\n",
        "      'research' : 'research',\n",
        "      'hr' : 'administrative',\n",
        "      'human resources' : 'administrative',\n",
        "      'hr posting' : 'administrative',\n",
        "      'human_resources' : 'administrative',\n",
        "      'healthcare': 'healthcare services'\n",
        "  }\n",
        "\n",
        "  # == 대체하기 ==\n",
        "  df['customer_job'] = df['customer_job'].replace(replace_values)\n",
        "\n",
        "  # 결측치는 unknown\n",
        "  counts = df['customer_job'].value_counts()\n",
        "  df['customer_job'] = df['customer_job'].apply(lambda x: 'other' if pd.notnull(x) and counts[x] == 1 else x)\n",
        "\n",
        "  return df\n",
        "\n",
        "df_train = cus_job_typo(df_train)\n",
        "df_test = cus_job_typo(df_test)"
      ],
      "metadata": {
        "id": "0IA3K0KaYRVn"
      },
      "execution_count": null,
      "outputs": []
    },
    {
      "cell_type": "code",
      "source": [
        "def preprocess_customer_job(df):\n",
        "\n",
        "    top15_jobs = df['customer_job'].value_counts().index[:15]\n",
        "\n",
        "    df['customer_job'] = df['customer_job'].apply(lambda x: x if x in top15_jobs and pd.notnull(x) else 'other')\n",
        "\n",
        "    return df\n",
        "\n",
        "# 함수를 훈련 데이터와 테스트 데이터에 적용\n",
        "df_train = preprocess_customer_job(df_train)\n",
        "df_test = preprocess_customer_job(df_test)"
      ],
      "metadata": {
        "id": "w-NI24_DbxG7"
      },
      "execution_count": null,
      "outputs": []
    },
    {
      "cell_type": "code",
      "source": [
        "df_train['customer_job'].value_counts()"
      ],
      "metadata": {
        "colab": {
          "base_uri": "https://localhost:8080/"
        },
        "id": "YGfJn7r9Z-jl",
        "outputId": "3656afa3-27eb-4f65-cf98-c073bfc6c35e"
      },
      "execution_count": null,
      "outputs": [
        {
          "output_type": "execute_result",
          "data": {
            "text/plain": [
              "customer_job\n",
              "other                             18189\n",
              "engineering                        5995\n",
              "administrative                     3212\n",
              "education                          2177\n",
              "sales                              2104\n",
              "operations                         1894\n",
              "arts and design                    1865\n",
              "purchasing                         1778\n",
              "information technology             1756\n",
              "business development               1707\n",
              "healthcare services                1313\n",
              "consulting                         1258\n",
              "entrepreneurship                   1229\n",
              "marketing                          1050\n",
              "program and project management      996\n",
              "Name: count, dtype: int64"
            ]
          },
          "metadata": {},
          "execution_count": 280
        }
      ]
    },
    {
      "cell_type": "code",
      "source": [
        "df_test['customer_job'].value_counts()"
      ],
      "metadata": {
        "colab": {
          "base_uri": "https://localhost:8080/"
        },
        "id": "E-3E7wcQaLL9",
        "outputId": "ccd328b8-8b97-4355-eaaf-cdea214bc000"
      },
      "execution_count": null,
      "outputs": [
        {
          "output_type": "execute_result",
          "data": {
            "text/plain": [
              "customer_job\n",
              "other                             2237\n",
              "engineering                        737\n",
              "education                          408\n",
              "administrative                     321\n",
              "information technology             231\n",
              "operations                         195\n",
              "purchasing                         180\n",
              "consulting                         166\n",
              "business development               164\n",
              "sales                              162\n",
              "entrepreneurship                   119\n",
              "arts and design                    107\n",
              "program and project management      96\n",
              "marketing                           94\n",
              "healthcare services                 54\n",
              "Name: count, dtype: int64"
            ]
          },
          "metadata": {},
          "execution_count": 281
        }
      ]
    },
    {
      "cell_type": "markdown",
      "source": [
        "### 3.5 product_category"
      ],
      "metadata": {
        "id": "KZ8gnOX8Z3vl"
      }
    },
    {
      "cell_type": "code",
      "source": [
        "replace_pc_words={\n",
        "    'etc.': 'others',\n",
        "    'other': 'others',\n",
        "    'noteboook': 'laptop',\n",
        "    'teto ou cassete inverter': 'ventilation',\n",
        "    'all lg vrf systems' : 'vrf',\n",
        "    'residential air conditioner': 'rac',\n",
        "    'חימום': 'heating',\n",
        "    'idb': 'interactive signage',\n",
        "    'video wall': 'video wall signage',\n",
        "    'lg one:quick': 'one:quick series',\n",
        "    'aio | one quick': 'one:quick series',\n",
        "    'high brightness': 'high brightness signage',\n",
        "    '43us660h0sd.awz': 'hotel tv',\n",
        "    'fhd series': 'commercial tv',\n",
        "    'led 顯示屏': 'led signage',\n",
        "    '酒店電視': 'hotel tv',\n",
        "    'one:quick flex': 'one:quick series',\n",
        "    'ultra stretch series': 'digital signage',\n",
        "    'tv signage': 'commercial tv',\n",
        "    'collaboration displays': 'digital signage',\n",
        "    'oled 顯示屏': 'oled signage',\n",
        "    'meeting & screen sharedirect view leddirect view led': 'led signage',\n",
        "    'window facing display': 'digital signage',\n",
        "    'lg customer care program': 'others',\n",
        "    'led': 'led signage',\n",
        "    'pendingin': 'heating',\n",
        "    'cmulti v 5 air': 'heating',\n",
        "    'ar condicionado residencial' : 'rac',\n",
        "    'مبرد (تشيلر)': 'heating',\n",
        "    'multi v water 5': 'heating',\n",
        "    'single split': 'single-split',\n",
        "    'ahu': 'ventilation',\n",
        "    'multi split': 'multi-split',\n",
        "    'lainnya': 'others',\n",
        "    'lg home bliss air solution': 'ventilation',\n",
        "    'lg paradise air solution': 'ventilation',\n",
        "    'isıtma': 'heating',\n",
        "    'تكييفات': 'multi-split',\n",
        "    'פיצול מרובה': 'multi-split',\n",
        "    'تكييف وتبريد': 'heating',\n",
        "    'אחר': 'others',\n",
        "    'vrf,multi-split': 'vrf',\n",
        "    'vrf,multi-split,chiller': 'vrf',\n",
        "    'vrf,multi-split,single-split,chiller,heatin': 'vrf',\n",
        "    '28mq780': 'monitor',\n",
        "    'computer monitor': 'monitor',\n",
        "    'monitor & pc': 'monitor',\n",
        "    'medical monitor': 'medical display',\n",
        "    'videwall': 'video wall signage',\n",
        "    'ultra stretch signage': 'digital signage',\n",
        "    'digital signage or commercial tvs': 'digital signage',\n",
        "    'onequick series': 'one:quick series',\n",
        "    'education createboard': 'digital signage',\n",
        "    'virtual production': 'others',\n",
        "    'laec015': 'led signage',\n",
        "    '55us660h0sd.bwz': 'commercial tv',\n",
        "    'transparent oled': 'oled signage',\n",
        "    'medical- surgical': 'medical display',\n",
        "    'radiology displays': 'medical display',\n",
        "    'high inch 86 / 98 or 110': 'digital signage',\n",
        "    'leadallin': 'led signage',\n",
        "    'ฯลฯ': 'others',\n",
        "    'taa lcd lfd displays': 'digital signage',\n",
        "    'rac/cac': 'rac',\n",
        "    'حلول التدفئة': 'heating',\n",
        "    'otros': 'others',\n",
        "    'sac': 'heating',\n",
        "    'laec015-gn.awz': 'led signage',\n",
        "    'gscd046' : 'led signage',\n",
        "    '32lq621cbsb.awz': 'commercial tv',\n",
        "    '43uh5f-h.awzm': 'commercial tv',\n",
        "    '49vl5g-m.awzm': 'commercial tv',\n",
        "    '55uq801c0sb.bwz': 'commercial tv',\n",
        "    'tv': 'commercial tv',\n",
        "    '43uq751c0sf.bwz': 'commercial tv',\n",
        "    '32 / 43 pol': 'commercial tv',\n",
        "    'htv': 'commercial tv',\n",
        "    '43uq751c0sb.bwz': 'commercial tv',\n",
        "    '49uh / 49xf': 'commercial tv',\n",
        "    '50us660h0sd.bwz': 'commercial tv',\n",
        "    'tv 60\"': 'commercial tv',\n",
        "    'medical monitor': 'medical display',\n",
        "    'unitario':'single-split',\n",
        "    'cac': 'ventilation',\n",
        "    'vrf,chiller': 'vrf',\n",
        "    'single package': \"single-split\",\n",
        "    'điều hòa trung tâm multi': 'multi-split',\n",
        "    'ogrzewanie (pompy ciepła)': 'heating',\n",
        "    'soğutucu': 'heating',\n",
        "    'điều hòa gia dụng': 'rac',\n",
        "    'نظام التدفق المتغيرvrf': 'vrf',\n",
        "    'chiller/enfriadoras': 'chiller',\n",
        "    '49vl5g-m': 'digital signage',\n",
        "    'lg led bloc': 'led signage',\n",
        "    'uh': 'commercial tv',\n",
        "    '55vm5e-a': 'digital signage',\n",
        "    'laec15': 'led signage',\n",
        "    '55vm5j-h': 'digital signage',\n",
        "    '49vl5f': 'digital signage',\n",
        "    'standalone': 'others',\n",
        "    'corpouh5f': 'digital signage',\n",
        "    'ledallinone': 'led signage',\n",
        "    'monitorindustrial_rmk': 'monitor',\n",
        "    'lg magnit': 'led signage',\n",
        "    '特別顯示屏': 'digital signage',\n",
        "    'signage': 'others',\n",
        "    'videowall_rmk': 'digital signage',\n",
        "    'bu50nst': 'projector',\n",
        "    'comercial tv': 'commercial tv',\n",
        "    'corpuh5f-': 'others',\n",
        "    'allinone_rmk': 'monitor',\n",
        "    'hoteleria_us670h': 'commercial tv',\n",
        "    'retaildigital': 'digital signage',\n",
        "    '標準顯示屏': 'digital signage',\n",
        "    '互動式顯示屏': 'interactive signage',\n",
        "    '軟體': 'software',\n",
        "    '醫院電視': 'hospital tv',\n",
        "    'ctv': 'commercial tv',\n",
        "    'ac rumah': 'rac',\n",
        "    'climatiseur résidentiel': 'rac',\n",
        "    'aire acondicionado residencial': 'rac',\n",
        "    'aquecimento': 'heating',\n",
        "    'khác': 'others',\n",
        "    'lg salang air solution for dream homes' : 'rac',\n",
        "    'เครื่องปรับอากาศเผื่อที่อยู่อาศัย': 'rac',\n",
        "    'calefacción': 'heating',\n",
        "    'rac single cac': 'rac',\n",
        "    'vb.': 'others',\n",
        "    'services': 'software/service',\n",
        "    'autre': 'others',\n",
        "    'آخر': 'others',\n",
        "    'vrf,single-split':'vrf',\n",
        "    'vrf,multi-split,single-split,chiller,etc.':'vrf',\n",
        "    'multi-split,single-split':'vrf',\n",
        "    'vrf,multi-split,single-split':'vrf',\n",
        "    'vrf,multi-split,etc.':'vrf',\n",
        "    'vrf,multi-split,heating':'vrf',\n",
        "    'on or several reversible ac': 'rac',\n",
        "    'vrf,multi-split,single-split,chiller':'vrf',\n",
        "    'vrf,multi-split,single-split,heating':'vrf',\n",
        "    'vrf,single-split,chiller':'vrf',\n",
        "    'error': 'others',\n",
        "    'pantalla led outdoor': 'led signage',\n",
        "    'klimatyzacja multi-split': 'multi-split',\n",
        "    'not specified': 'others',\n",
        "    'single cac': 'ventilation',\n",
        "    'aio': 'monitor',\n",
        "    'kimatyzacja vrf': 'vrf',\n",
        "    '55svh7f-a': 'digital signage',\n",
        "    'tr3' : 'digital signage',\n",
        "    '98uh5e': 'digital signage',\n",
        "    'inne': 'others',\n",
        "    'điều hòa trung tâm vrf': 'vrf',\n",
        "    'vrf,heating':'vrf',\n",
        "    'smart tv': 'commercial tv',\n",
        "    'tv 55\"': 'commercial tv',\n",
        "    'surgical monitor': 'monitor',\n",
        "    'gsca046': 'led signage',\n",
        "    'gscd100': 'led signage',\n",
        "    '50uq801c0sb.bwz': 'commercial tv',\n",
        "    'procentric': 'commercial tv',\n",
        "    '32 pol': 'commercial tv',\n",
        "    'tv 43 pol': 'commercial tv',\n",
        "    '43 pol': 'commercial tv',\n",
        "    'multi v': 'ventilation',\n",
        "    'a definir': 'others',\n",
        "    'điều hòa trung tâm chiller': 'multi-split',\n",
        "    'điều hòa cục bộ': 'single-split',\n",
        "    'lsca039' : 'led signage',\n",
        "    'essential series': 'others',\n",
        "    'parts': 'others',\n",
        "    'multi-inverter': 'multi inverter',\n",
        "    'a thermodynamic water heater': 'heating',\n",
        "    'lg one:quick series': 'one:quick series',\n",
        "    'ur640s': 'commercial tv',\n",
        "    'outros': 'others',\n",
        "    'multi v 5 air': 'heating',\n",
        "    'ur640': 'commercial tv',\n",
        "    'smart tv signage': 'digital signage',\n",
        "    'medical displays': 'medical display',\n",
        "    'uhd signage': 'digital signage',\n",
        "    'digitial_signage': 'digital signage ',\n",
        "    'id': 'others',\n",
        "    'sales inquiry': 'others',\n",
        "    'multi v5 vrf': 'vrf',\n",
        "    'vrf,multi-split,single-split,chiller,heating': 'vrf',\n",
        "    'standard': 'standard signage',\n",
        "    'computer monitors': 'monitor',\n",
        "    'medical monitors': 'monitor',\n",
        "    'signage care solutions': 'signage care solution',\n",
        "    'split tunggal': 'single-split',\n",
        "    'interactive digital board': 'interactive signage'\n",
        "}\n",
        "\n",
        "\n",
        "def replace_pc(df):\n",
        "    replace_pc_words={\n",
        "        'etc.': 'others',\n",
        "        'other': 'others',\n",
        "        'noteboook': 'laptop',\n",
        "        'teto ou cassete inverter': 'ventilation',\n",
        "        'all lg vrf systems' : 'vrf',\n",
        "        'residential air conditioner': 'rac',\n",
        "        'חימום': 'heating',\n",
        "        'idb': 'interactive signage',\n",
        "        'video wall': 'video wall signage',\n",
        "        'lg one:quick': 'one:quick series',\n",
        "        'aio | one quick': 'one:quick series',\n",
        "        'high brightness': 'high brightness signage',\n",
        "        '43us660h0sd.awz': 'hotel tv',\n",
        "        'fhd series': 'commercial tv',\n",
        "        'led 顯示屏': 'led signage',\n",
        "        '酒店電視': 'hotel tv',\n",
        "        'one:quick flex': 'one:quick series',\n",
        "        'ultra stretch series': 'digital signage',\n",
        "        'tv signage': 'commercial tv',\n",
        "        'collaboration displays': 'digital signage',\n",
        "        'oled 顯示屏': 'oled signage',\n",
        "        'meeting & screen sharedirect view leddirect view led': 'led signage',\n",
        "        'window facing display': 'digital signage',\n",
        "        'lg customer care program': 'others',\n",
        "        'led': 'led signage',\n",
        "        'pendingin': 'heating',\n",
        "        'cmulti v 5 air': 'heating',\n",
        "        'ar condicionado residencial' : 'rac',\n",
        "        'مبرد (تشيلر)': 'heating',\n",
        "        'multi v water 5': 'heating',\n",
        "        'single split': 'single-split',\n",
        "        'ahu': 'ventilation',\n",
        "        'multi split': 'multi-split',\n",
        "        'lainnya': 'others',\n",
        "        'lg home bliss air solution': 'ventilation',\n",
        "        'lg paradise air solution': 'ventilation',\n",
        "        'isıtma': 'heating',\n",
        "        'تكييفات': 'multi-split',\n",
        "        'פיצול מרובה': 'multi-split',\n",
        "        'تكييف وتبريد': 'heating',\n",
        "        'אחר': 'others',\n",
        "        'vrf,multi-split': 'vrf',\n",
        "        'vrf,multi-split,chiller': 'vrf',\n",
        "        'vrf,multi-split,single-split,chiller,heatin': 'vrf',\n",
        "        '28mq780': 'monitor',\n",
        "        'computer monitor': 'monitor',\n",
        "        'monitor & pc': 'monitor',\n",
        "        'medical monitor': 'medical display',\n",
        "        'videwall': 'video wall signage',\n",
        "        'ultra stretch signage': 'digital signage',\n",
        "        'digital signage or commercial tvs': 'digital signage',\n",
        "        'onequick series': 'one:quick series',\n",
        "        'education createboard': 'digital signage',\n",
        "        'virtual production': 'others',\n",
        "        'laec015': 'led signage',\n",
        "        '55us660h0sd.bwz': 'commercial tv',\n",
        "        'transparent oled': 'oled signage',\n",
        "        'medical- surgical': 'medical display',\n",
        "        'radiology displays': 'medical display',\n",
        "        'high inch 86 / 98 or 110': 'digital signage',\n",
        "        'leadallin': 'led signage',\n",
        "        'ฯลฯ': 'others',\n",
        "        'taa lcd lfd displays': 'digital signage',\n",
        "        'rac/cac': 'rac',\n",
        "        'حلول التدفئة': 'heating',\n",
        "        'otros': 'others',\n",
        "        'sac': 'heating',\n",
        "        'laec015-gn.awz': 'led signage',\n",
        "        'gscd046' : 'led signage',\n",
        "        '32lq621cbsb.awz': 'commercial tv',\n",
        "        '43uh5f-h.awzm': 'commercial tv',\n",
        "        '49vl5g-m.awzm': 'commercial tv',\n",
        "        '55uq801c0sb.bwz': 'commercial tv',\n",
        "        'tv': 'commercial tv',\n",
        "        '43uq751c0sf.bwz': 'commercial tv',\n",
        "        '32 / 43 pol': 'commercial tv',\n",
        "        'htv': 'commercial tv',\n",
        "        '43uq751c0sb.bwz': 'commercial tv',\n",
        "        '49uh / 49xf': 'commercial tv',\n",
        "        '50us660h0sd.bwz': 'commercial tv',\n",
        "        'tv 60\"': 'commercial tv',\n",
        "        'medical monitor': 'medical display',\n",
        "        'unitario':'single-split',\n",
        "        'cac': 'ventilation',\n",
        "        'vrf,chiller': 'vrf',\n",
        "        'single package': \"single-split\",\n",
        "        'điều hòa trung tâm multi': 'multi-split',\n",
        "        'ogrzewanie (pompy ciepła)': 'heating',\n",
        "        'soğutucu': 'heating',\n",
        "        'điều hòa gia dụng': 'rac',\n",
        "        'نظام التدفق المتغيرvrf': 'vrf',\n",
        "        'chiller/enfriadoras': 'chiller',\n",
        "        '49vl5g-m': 'digital signage',\n",
        "        'lg led bloc': 'led signage',\n",
        "        'uh': 'commercial tv',\n",
        "        '55vm5e-a': 'digital signage',\n",
        "        'laec15': 'led signage',\n",
        "        '55vm5j-h': 'digital signage',\n",
        "        '49vl5f': 'digital signage',\n",
        "        'standalone': 'others',\n",
        "        'corpouh5f': 'digital signage',\n",
        "        'ledallinone': 'led signage',\n",
        "        'monitorindustrial_rmk': 'monitor',\n",
        "        'lg magnit': 'led signage',\n",
        "        '特別顯示屏': 'digital signage',\n",
        "        'signage': 'others',\n",
        "        'videowall_rmk': 'digital signage',\n",
        "        'bu50nst': 'projector',\n",
        "        'comercial tv': 'commercial tv',\n",
        "        'corpuh5f-': 'others',\n",
        "        'allinone_rmk': 'monitor',\n",
        "        'hoteleria_us670h': 'commercial tv',\n",
        "        'retaildigital': 'digital signage',\n",
        "        '標準顯示屏': 'digital signage',\n",
        "        '互動式顯示屏': 'interactive signage',\n",
        "        '軟體': 'software',\n",
        "        '醫院電視': 'hospital tv',\n",
        "        'ctv': 'commercial tv',\n",
        "        'ac rumah': 'rac',\n",
        "        'climatiseur résidentiel': 'rac',\n",
        "        'aire acondicionado residencial': 'rac',\n",
        "        'aquecimento': 'heating',\n",
        "        'khác': 'others',\n",
        "        'lg salang air solution for dream homes' : 'rac',\n",
        "        'เครื่องปรับอากาศเผื่อที่อยู่อาศัย': 'rac',\n",
        "        'calefacción': 'heating',\n",
        "        'rac single cac': 'rac',\n",
        "        'vb.': 'others',\n",
        "        'services': 'software/service',\n",
        "        'autre': 'others',\n",
        "        'آخر': 'others',\n",
        "        'vrf,single-split':'vrf',\n",
        "        'vrf,multi-split,single-split,chiller,etc.':'vrf',\n",
        "        'multi-split,single-split':'vrf',\n",
        "        'vrf,multi-split,single-split':'vrf',\n",
        "        'vrf,multi-split,etc.':'vrf',\n",
        "        'vrf,multi-split,heating':'vrf',\n",
        "        'on or several reversible ac': 'rac',\n",
        "        'vrf,multi-split,single-split,chiller':'vrf',\n",
        "        'vrf,multi-split,single-split,heating':'vrf',\n",
        "        'vrf,single-split,chiller':'vrf',\n",
        "        'error': 'others',\n",
        "        'pantalla led outdoor': 'led signage',\n",
        "        'klimatyzacja multi-split': 'multi-split',\n",
        "        'not specified': 'others',\n",
        "        'single cac': 'ventilation',\n",
        "        'aio': 'monitor',\n",
        "        'kimatyzacja vrf': 'vrf',\n",
        "        '55svh7f-a': 'digital signage',\n",
        "        'tr3' : 'digital signage',\n",
        "        '98uh5e': 'digital signage',\n",
        "        'inne': 'others',\n",
        "        'điều hòa trung tâm vrf': 'vrf',\n",
        "        'vrf,heating':'vrf',\n",
        "        'smart tv': 'commercial tv',\n",
        "        'tv 55\"': 'commercial tv',\n",
        "        'surgical monitor': 'monitor',\n",
        "        'gsca046': 'led signage',\n",
        "        'gscd100': 'led signage',\n",
        "        '50uq801c0sb.bwz': 'commercial tv',\n",
        "        'procentric': 'commercial tv',\n",
        "        '32 pol': 'commercial tv',\n",
        "        'tv 43 pol': 'commercial tv',\n",
        "        '43 pol': 'commercial tv',\n",
        "        'multi v': 'ventilation',\n",
        "        'a definir': 'others',\n",
        "        'điều hòa trung tâm chiller': 'multi-split',\n",
        "        'điều hòa cục bộ': 'single-split',\n",
        "        'lsca039' : 'led signage',\n",
        "        'essential series': 'others',\n",
        "        'parts': 'others',\n",
        "        'multi-inverter': 'multi inverter',\n",
        "        'a thermodynamic water heater': 'heating',\n",
        "        'lg one:quick series': 'one:quick series',\n",
        "        'ur640s': 'commercial tv',\n",
        "        'outros': 'others',\n",
        "        'multi v 5 air': 'heating',\n",
        "        'ur640': 'commercial tv',\n",
        "        'smart tv signage': 'digital signage',\n",
        "        'medical displays': 'medical display',\n",
        "        'uhd signage': 'digital signage',\n",
        "        'digitial_signage': 'digital signage ',\n",
        "        'id': 'others',\n",
        "        'sales inquiry': 'others',\n",
        "        'multi v5 vrf': 'vrf',\n",
        "        'vrf,multi-split,single-split,chiller,heating': 'vrf',\n",
        "        'standard': 'standard signage',\n",
        "        'computer monitors': 'monitor',\n",
        "        'medical monitors': 'monitor',\n",
        "        'signage care solutions': 'signage care solution',\n",
        "        'split tunggal': 'single-split',\n",
        "        'interactive digital board': 'interactive signage'\n",
        "    }\n",
        "    df['product_category'] = df['product_category'].replace(replace_pc_words)\n",
        "    return df"
      ],
      "metadata": {
        "id": "2bgbk3yWaBKI"
      },
      "execution_count": null,
      "outputs": []
    },
    {
      "cell_type": "code",
      "source": [
        "# sub_category랑 modelname 결측치 채우기\n",
        "\n",
        "# subcategory가 비어 있고, product category의 내용이 수정된 단어들에 속하지 않으면 subcategory에 product category를 담는다.\n",
        "df_train['product_subcategory'] = df_train.apply(lambda row: row['product_category']\n",
        "                                                 if pd.isnull(row['product_subcategory']) and row['product_category'] not in replace_pc_words.values() else row['product_subcategory'], axis=1)\n",
        "\n",
        "df_train['product_modelname'] = df_train.apply(lambda row: row['product_subcategory']\n",
        "                                               if pd.isnull(row['product_modelname'])\n",
        "                                               else row['product_modelname'], axis=1)\n",
        "\n",
        "df_test['product_subcategory'] = df_test.apply(lambda row: row['product_category']\n",
        "                                               if pd.isnull(row['product_subcategory'])\n",
        "                                               and row['product_category'] not in replace_pc_words.values()\n",
        "                                               else row['product_subcategory'], axis=1)\n",
        "\n",
        "df_test['product_modelname'] = df_test.apply(lambda row: row['product_subcategory']\n",
        "                                               if pd.isnull(row['product_modelname'])\n",
        "                                               else row['product_modelname'], axis=1)\n",
        "\n",
        "df_train = replace_pc(df_train)\n",
        "df_test = replace_pc(df_test)"
      ],
      "metadata": {
        "id": "I7VWgxmqcHRQ"
      },
      "execution_count": null,
      "outputs": []
    },
    {
      "cell_type": "code",
      "source": [
        "def cat_pc(x):\n",
        "    if x in ['vrf', 'single-split', 'chiller', 'heating', 'multi-split',\n",
        "             'rac']:\n",
        "        return 'building_facilities'\n",
        "    elif x in ['ventilation']:\n",
        "        return 'building_facilities'\n",
        "    elif x in ['control']:\n",
        "        return 'technology_and_software'\n",
        "    elif x in ['interactive signage', 'video wall signage', 'standard signage',\n",
        "               'high brightness signage',\n",
        "               'one:quick series', 'digital signage', 'ledsignage', 'oled signage']:\n",
        "        return 'display_technology'\n",
        "    elif x in ['hotel tv', 'hospital tv', 'special signage', 'accessories',\n",
        "               'pro:centric', 'commercial tv']:\n",
        "        return 'display_technology' ## digital_signage에 속하긴 함.\n",
        "    elif x in ['monitior', 'medicla_displays']:\n",
        "        return 'monitors'\n",
        "    elif x in ['laptop', 'notebook']:\n",
        "        return 'technology_and_software'\n",
        "    elif x in ['webos', 'software solution', 'signage care solution', 'software',\n",
        "               'technical support ', 'cloud_service' ]:\n",
        "        return 'technology_and_software'\n",
        "    elif x in ['projector']:\n",
        "        return 'technology_and_software'\n",
        "    else:\n",
        "        return 'others'\n",
        "\n",
        "df_train['product_large_category']=df_train['product_category'].apply(cat_pc)\n",
        "df_test['product_large_category']=df_test['product_category'].apply(cat_pc)"
      ],
      "metadata": {
        "id": "qWZrdy9pe9mf"
      },
      "execution_count": null,
      "outputs": []
    },
    {
      "cell_type": "code",
      "source": [
        "df_train['product_large_category'].value_counts()"
      ],
      "metadata": {
        "colab": {
          "base_uri": "https://localhost:8080/"
        },
        "id": "-pSxC3mxeVjT",
        "outputId": "553814e9-9781-4579-a87b-8210c7a4b774"
      },
      "execution_count": null,
      "outputs": [
        {
          "output_type": "execute_result",
          "data": {
            "text/plain": [
              "product_large_category\n",
              "others                     21972\n",
              "display_technology         13326\n",
              "building_facilities        10565\n",
              "technology_and_software      660\n",
              "Name: count, dtype: int64"
            ]
          },
          "metadata": {},
          "execution_count": 285
        }
      ]
    },
    {
      "cell_type": "code",
      "source": [
        "df_test['product_large_category'].value_counts()"
      ],
      "metadata": {
        "colab": {
          "base_uri": "https://localhost:8080/"
        },
        "id": "KqwqiaN4eq6v",
        "outputId": "14254b7f-6a2a-4950-88f8-830b10871209"
      },
      "execution_count": null,
      "outputs": [
        {
          "output_type": "execute_result",
          "data": {
            "text/plain": [
              "product_large_category\n",
              "others                     2466\n",
              "building_facilities        1646\n",
              "display_technology         1094\n",
              "technology_and_software      65\n",
              "Name: count, dtype: int64"
            ]
          },
          "metadata": {},
          "execution_count": 286
        }
      ]
    },
    {
      "cell_type": "markdown",
      "source": [
        "### 3.6 inquiry type"
      ],
      "metadata": {
        "id": "JToUIZKLZ3yZ"
      }
    },
    {
      "cell_type": "code",
      "source": [
        "def modify_variables(dataframe):\n",
        "    # 모든 변수를 소문자로 변환\n",
        "    dataframe['inquiry_type'] = dataframe['inquiry_type'].str.lower()\n",
        "    replace_inqury_words={\n",
        "        'other': 'others',\n",
        "        'other_': 'others',\n",
        "        'etc.': 'others',\n",
        "        'not specified': 'others',\n",
        "        'quotation_or_purchase_consultation': 'quotation or purchase consultation',\n",
        "        'quotation_': 'quotation or purchase consultation',\n",
        "        'usage_or_technical_consultation': 'usage or technical consultation',\n",
        "        'technical_consultation': 'usage or technical consultation',\n",
        "        'technical consultation': 'usage or technical consultation',\n",
        "        'sales inquiry' : 'quotation or purchase consultation'\n",
        "    }\n",
        "\n",
        "    # 'inquiry_type' 열의 상위 7개 값을 추출\n",
        "    top_values = [\n",
        "        'quotation or purchase consultation', 'usage or technical consultation', 'product information'\n",
        "    ]\n",
        "\n",
        "    # # 'inquiry_type' 열의 값이 상위 7개에 속하는 경우는 그대로 두고, 아닌 경우 'others'로 변경\n",
        "    dataframe['inquiry_type'] = dataframe['inquiry_type'].replace(replace_inqury_words)\n",
        "    dataframe['inquiry_type'] = dataframe['inquiry_type'].apply(lambda x: x if x in top_values and pd.notnull(x) else 'others')\n",
        "\n",
        "    return dataframe\n",
        "\n",
        "df_train = modify_variables(df_train)\n",
        "df_test = modify_variables(df_test)"
      ],
      "metadata": {
        "id": "gDb3VuvsgNRL"
      },
      "execution_count": null,
      "outputs": []
    },
    {
      "cell_type": "code",
      "source": [
        "df_train['inquiry_type'].value_counts()"
      ],
      "metadata": {
        "colab": {
          "base_uri": "https://localhost:8080/"
        },
        "id": "P3bIHIZXgOtk",
        "outputId": "286eee3b-a9ec-42bb-a985-9a90bce50ceb"
      },
      "execution_count": null,
      "outputs": [
        {
          "output_type": "execute_result",
          "data": {
            "text/plain": [
              "inquiry_type\n",
              "quotation or purchase consultation    40112\n",
              "others                                 3856\n",
              "usage or technical consultation        1463\n",
              "product information                    1092\n",
              "Name: count, dtype: int64"
            ]
          },
          "metadata": {},
          "execution_count": 288
        }
      ]
    },
    {
      "cell_type": "code",
      "source": [
        "df_test['inquiry_type'].value_counts()"
      ],
      "metadata": {
        "colab": {
          "base_uri": "https://localhost:8080/"
        },
        "id": "6UhESV48gOws",
        "outputId": "255b0b2d-b3b8-4063-dbad-95e510c06524"
      },
      "execution_count": null,
      "outputs": [
        {
          "output_type": "execute_result",
          "data": {
            "text/plain": [
              "inquiry_type\n",
              "quotation or purchase consultation    3465\n",
              "others                                1551\n",
              "usage or technical consultation        187\n",
              "product information                     68\n",
              "Name: count, dtype: int64"
            ]
          },
          "metadata": {},
          "execution_count": 289
        }
      ]
    },
    {
      "cell_type": "markdown",
      "source": [
        "### 3.7 expected timeline"
      ],
      "metadata": {
        "id": "RRhuGacRZ31R"
      }
    },
    {
      "cell_type": "code",
      "source": [
        "nogada_dict = {584: 'less than 3 months',\n",
        " 886: 'less than 3 months',\n",
        " 1872: 'less than 3 months',\n",
        " 1876: 'less than 3 months',\n",
        " 1935: '3 months ~ 6 months',\n",
        " 2084: 'less than 3 months',\n",
        " 2168: 'less than 3 months',\n",
        " 2169: 'less than 3 months',\n",
        " 2280: 'less than 3 months',\n",
        " 2281: 'less than 3 months',\n",
        " 2283: 'less than 3 months',\n",
        " 2323: 'less than 3 months',\n",
        " 2402: 'less than 3 months',\n",
        " 2421: 'less than 3 months',\n",
        " 2430: 'less than 3 months',\n",
        " 2445: 'less than 3 months',\n",
        " 3628: 'less than 3 months',\n",
        " 4238: 'less than 3 months',\n",
        " 4637: 'less than 3 months',\n",
        " 4702: 'less than 3 months',\n",
        " 4706: '3 months ~ 6 months',\n",
        " 6635: 'less than 3 months',\n",
        " 9899: 'less than 3 months',\n",
        " 22792: 'less than 3 months',\n",
        " 23159: 'less than 3 months',\n",
        " 23233: 'less than 3 months',\n",
        " 23256: 'less than 3 months',\n",
        " 23358: 'less than 3 months',\n",
        " 23918: 'less than 3 months',\n",
        " 25093: 'more than a year',\n",
        " 25642: 'less than 3 months',\n",
        " 27032: 'less than 3 months',\n",
        " 27415: '3 months ~ 6 months',\n",
        " 28521: 'less than 3 months',\n",
        " 28599: 'less than 3 months',\n",
        " 29116: 'less than 3 months',\n",
        " 32239: '3 months ~ 6 months',\n",
        " 33141: 'less than 3 months',\n",
        " 35582: 'more than a year'}\n",
        "df_original = pd.DataFrame(df_train['expected_timeline'])\n",
        "\n",
        "# 괜찮은건 일단 빼놓자 보기 편하게\n",
        "conditions = ['less than 3 months', '3 months ~ 6 months', 'more than a year',\n",
        "              '9 months ~ 1 year', '6 months ~ 9 months']\n",
        "df = df_original[~df_original.isin(conditions)]\n",
        "df.dropna(inplace = True)\n",
        "# merge하기 위한 new_index\n",
        "df['new_index'] = df.index\n",
        "df = df.reset_index(drop=True)\n",
        "\n",
        "\n",
        "\n",
        "def categorize_timeline_refined(description):\n",
        "    description = description.lower()\n",
        "\n",
        "    # Explicit matches and interpretations based on train.csv insights\n",
        "    if 'less than 3 months' in description or 'less_than_3_months' in description:\n",
        "        return 'less than 3 months'\n",
        "    elif any(x in description for x in ['3 months ~ 6 months', '3_months_~_6_months']):\n",
        "        return '3 months ~ 6 months'\n",
        "    elif any(x in description for x in ['less then 6 months','less than 6 months']):\n",
        "        return '3 months ~ 6 months'\n",
        "    elif 'more than a year' in description or 'more then 3 months' in description:\n",
        "        return 'more than a year'\n",
        "    elif any(x in description for x in ['9 months - 1 year', '9_months_~_1_year']):\n",
        "        return '9 months ~ 1 year'\n",
        "    elif 'etc.' in description or 'being followed up' in description:\n",
        "        return 'Uncategorized'\n",
        "    elif any(keyword in description for keyword in ['less than 3 months', 'less_than_3_months', '< 3 months', 'short term', 'immediate']):\n",
        "        return 'less than 3 months'\n",
        "    elif any(keyword in description for keyword in ['3 months ~ 6 months', '3 to 6 months', '3-6 months', 'quarterly']):\n",
        "        return '3 months ~ 6 months'\n",
        "    elif any(keyword in description for keyword in ['more than a year', '> 1 year', 'long term','more_than_a_year']):\n",
        "        return 'more than a year'\n",
        "    elif any(keyword in description for keyword in ['9 months ~ 1 year', '9-12 months', '9 to 12 months']):\n",
        "        return '9 months ~ 1 year'\n",
        "    elif any(keyword in description for keyword in ['6 months ~ 9 months', '6-9 months', '6 to 9 months','6_months_~_9_months']):\n",
        "        return '6 months ~ 9 months'\n",
        "    return 'Uncategorized'\n",
        "\n",
        "# Re-apply the refined categorization function to the dfset\n",
        "df['category_refined'] = df['expected_timeline'].apply(categorize_timeline_refined)\n",
        "\n",
        "df = df[['new_index','expected_timeline'   ,'category_refined'   ]]\n",
        "#df_original = df_original.apply(categorize_timeline_refined)\n",
        "df_original['new_index'] = df_original.index\n",
        "df_original = df_original.reset_index(drop=True)\n",
        "\n",
        "\n",
        "\n",
        "# df와 df_original을 'new_index'를 기준으로 병합\n",
        "# how='left'를 사용하여 df_original의 모든 행을 유지하고 해당하는 행에만 category_refined 값을 채웁니다.\n",
        "df_merged = pd.merge(df_original, df[['new_index', 'category_refined']], on='new_index', how='left')\n",
        "# category_refined의 NaN 값을 expected_timeline의 값으로 채움\n",
        "df_merged['category_refined'] = df_merged['category_refined'].fillna(df_merged['expected_timeline'])\n",
        "\n",
        "df_merged['category_refined'] = df_merged['new_index'].map(nogada_dict).fillna(df_merged['category_refined'])\n",
        "df_train['expected_timeline'] = df_merged['category_refined']"
      ],
      "metadata": {
        "id": "KUj2LICPmPUN"
      },
      "execution_count": null,
      "outputs": []
    },
    {
      "cell_type": "markdown",
      "source": [
        "### 3.8 test에 없는 명목형 피처들 제거"
      ],
      "metadata": {
        "id": "JWbQP2mNmnnh"
      }
    },
    {
      "cell_type": "code",
      "source": [
        "refin_col_list=[\n",
        "                     'business_unit',\n",
        "                     'business_area',\n",
        "                     'product_large_category',\n",
        "]\n",
        "\n",
        "for col in refin_col_list:\n",
        "    # df_train의 값이 df_test에 없는 행을 삭제하는 코드\n",
        "    df_train = df_train[df_train[col].isin(df_test[col])]"
      ],
      "metadata": {
        "id": "F_caoEyDmPiS"
      },
      "execution_count": null,
      "outputs": []
    },
    {
      "cell_type": "markdown",
      "source": [
        "## 4. 전처리 후 파생변수"
      ],
      "metadata": {
        "id": "7xyAl992Z34r"
      }
    },
    {
      "cell_type": "markdown",
      "source": [
        "### 4.1. converted 비율을 회사별로 계산"
      ],
      "metadata": {
        "id": "zKVBAE-esPoe"
      }
    },
    {
      "cell_type": "code",
      "source": [
        "df_cus = df_train.groupby(\"customer_idx\")[\"is_converted\"].count().reset_index() # 회사가 몇 번을 의뢰했는가?\n",
        "\n",
        "df_real_cus = df_train.groupby(\"customer_idx\")[\"is_converted\"].sum().reset_index() # 회사가 몇 번을 영업전환 했는가?\n",
        "\n",
        "# == 회사 id를 기준으로 merge한다 ==\n",
        "df_cus_ratio = pd.merge(df_cus, df_real_cus, on=\"customer_idx\")\n",
        "df_cus_ratio[\"cus_ratio\"] = df_cus_ratio[\"is_converted_y\"] / df_cus_ratio[\"is_converted_x\"] # is_converted가 2개의 변수로 인해서 x,y로 생성되었다고한다. (위가 x, 아래가 y)\n",
        "df_cus_ratio = df_cus_ratio.rename(columns={\"is_converted_x\": \"cus_query_cnt\", \"is_converted_y\" : \"cus_converted_cnt\"}) # query_cnt가 몇 번을 의뢰, converted_cnt가 몇 번을 영업전환\n",
        "\n",
        "m = df_cus_ratio['cus_ratio'].mean()\n",
        "lc = 2\n",
        "c  = df_cus_ratio['cus_query_cnt']\n",
        "\n",
        "df_cus_ratio['cus_ratio'] = c / (c+lc) * df_cus_ratio['cus_ratio'] + lc / (c+lc)  * m\n",
        "df_cus_ratio = df_cus_ratio[df_cus_ratio['cus_query_cnt']>=lc]\n",
        "df_cus_ratio = df_cus_ratio[['customer_idx', 'cus_ratio']]\n",
        "\n",
        "df_train = pd.merge(df_train, df_cus_ratio, on='customer_idx', how=\"left\")\n",
        "df_test = pd.merge(df_test, df_cus_ratio, on='customer_idx', how=\"left\")"
      ],
      "metadata": {
        "id": "QvIb-fjLsNPF"
      },
      "execution_count": null,
      "outputs": []
    },
    {
      "cell_type": "markdown",
      "source": [
        "### 4.2 converted 비율을 담당자별로 계산"
      ],
      "metadata": {
        "id": "afLROh5vsfVF"
      }
    },
    {
      "cell_type": "code",
      "source": [
        "df_lo = df_train.groupby(\"lead_owner\")[\"is_converted\"].count().reset_index()\n",
        "df_real_lo = df_train.groupby(\"lead_owner\")[\"is_converted\"].sum().reset_index()\n",
        "\n",
        "df_lead_ratio = pd.merge(df_lo, df_real_lo, on=\"lead_owner\")\n",
        "df_lead_ratio[\"lead_ratio\"] = df_lead_ratio[\"is_converted_y\"] / df_lead_ratio[\"is_converted_x\"]\n",
        "df_lead_ratio = df_lead_ratio.rename(columns={\"is_converted_x\": \"lead_query_cnt\", \"is_converted_y\" : \"lead_converted_cnt\"})\n",
        "\n",
        "m = df_lead_ratio['lead_ratio'].mean()\n",
        "lc = df_lead_ratio['lead_query_cnt'].quantile(0.25)\n",
        "c  = df_lead_ratio['lead_query_cnt']\n",
        "\n",
        "df_lead_ratio['lead_ratio'] = c / (c+lc) * df_lead_ratio['lead_ratio'] + lc / (c+lc)  * m\n",
        "df_lead_ratio = df_lead_ratio[df_lead_ratio['lead_query_cnt']>=lc]\n",
        "df_lead_ratio = df_lead_ratio[['lead_owner', 'lead_ratio']]\n",
        "\n",
        "df_train = pd.merge(df_train, df_lead_ratio, on='lead_owner', how=\"left\")\n",
        "df_test = pd.merge(df_test, df_lead_ratio, on='lead_owner', how=\"left\")"
      ],
      "metadata": {
        "id": "QH5OptYDsNzf"
      },
      "execution_count": null,
      "outputs": []
    },
    {
      "cell_type": "markdown",
      "source": [
        "### 4.3 converted 비율을 담당 부서별로 계산"
      ],
      "metadata": {
        "id": "YGEJc5HAuC1p"
      }
    },
    {
      "cell_type": "code",
      "source": [
        "df_rc = df_train.groupby(\"response_corporate\")[\"is_converted\"].count().reset_index()\n",
        "df_real_rc = df_train.groupby(\"response_corporate\")[\"is_converted\"].sum().reset_index()\n",
        "\n",
        "df = pd.merge(df_rc, df_real_rc, on=\"response_corporate\")\n",
        "df[\"rc_ratio\"] = df[\"is_converted_y\"] / df[\"is_converted_x\"]\n",
        "df = df.rename(columns={\"is_converted_x\": \"rc_query_cnt\", \"is_converted_y\" : \"rc_converted_cnt\"})\n",
        "\n",
        "m = df['rc_ratio'].mean()\n",
        "lc = df['rc_query_cnt'].quantile(0.25)\n",
        "c  = df['rc_query_cnt']\n",
        "\n",
        "df['rc_ratio'] = c / (c+lc) * df['rc_ratio'] + lc / (c+lc)  * m\n",
        "df = df[df['rc_query_cnt']>=lc]\n",
        "df = df[['response_corporate', 'rc_ratio']]\n",
        "\n",
        "df_train = pd.merge(df_train, df, on='response_corporate', how=\"left\")\n",
        "df_test = pd.merge(df_test, df, on='response_corporate', how=\"left\")"
      ],
      "metadata": {
        "id": "NpO-MFuiuAbk"
      },
      "execution_count": null,
      "outputs": []
    },
    {
      "cell_type": "markdown",
      "source": [
        "### 4.4 conveted 비율을 product large category 별로 계산"
      ],
      "metadata": {
        "id": "oOg3QUlruJYT"
      }
    },
    {
      "cell_type": "code",
      "source": [
        "df_pc = df_train.groupby(\"product_large_category\")[\"is_converted\"].count().reset_index()\n",
        "df_real_pc = df_train.groupby(\"product_large_category\")[\"is_converted\"].sum().reset_index()\n",
        "\n",
        "df = pd.merge(df_pc, df_real_pc, on=\"product_large_category\")\n",
        "df[\"pc_ratio\"] = df[\"is_converted_y\"] / df[\"is_converted_x\"]\n",
        "df = df.rename(columns={\"is_converted_x\": \"pc_query_cnt\", \"is_converted_y\" : \"pc_converted_cnt\"})\n",
        "\n",
        "m = df['pc_ratio'].mean()\n",
        "lc = df['pc_query_cnt'].quantile(0.6)\n",
        "c  = df['pc_query_cnt']\n",
        "\n",
        "df['pc_ratio'] = c / (c+lc) * df['pc_ratio'] + lc / (c+lc)  * m\n",
        "df = df[df['pc_query_cnt']>=lc]\n",
        "df = df[['product_large_category','pc_ratio']]\n",
        "\n",
        "df_train = pd.merge(df_train, df, on='product_large_category', how=\"left\")\n",
        "df_test = pd.merge(df_test, df, on='product_large_category', how=\"left\")"
      ],
      "metadata": {
        "id": "rYZFmTxlsN2Y"
      },
      "execution_count": null,
      "outputs": []
    },
    {
      "cell_type": "markdown",
      "source": [
        "## 4.5  간절함의 정도"
      ],
      "metadata": {
        "id": "Ix0NCGUHu6lU"
      }
    },
    {
      "cell_type": "code",
      "source": [
        "scaler = MinMaxScaler()\n",
        "\n",
        "df_train['lead_desc_length'] = scaler.fit_transform(df_train[['lead_desc_length']])\n",
        "df_test['lead_desc_length'] = scaler.fit_transform(df_test[['lead_desc_length']])\n",
        "\n",
        "et_map={\n",
        "    'less than 3 months': 1,\n",
        "    '3 months ~ 6 months': 0.8,\n",
        "    '6 months ~ 9 months': 0.6,\n",
        "    '9 months ~ 1 year': 0.4,\n",
        "    'more than a year': 0.2,\n",
        "    'Uncategorized': 0.5\n",
        "}\n",
        "\n",
        "df_train['length_ratio'] = df_train['expected_timeline'].map(et_map)*df_train['lead_desc_length']\n",
        "df_test['length_ratio'] = df_test['expected_timeline'].map(et_map)*df_test['lead_desc_length']"
      ],
      "metadata": {
        "id": "KTtZT8eGsN5z"
      },
      "execution_count": null,
      "outputs": []
    },
    {
      "cell_type": "markdown",
      "source": [
        "### 4.6 숫자를 계산해보자"
      ],
      "metadata": {
        "id": "RGYGVVXhyVXV"
      }
    },
    {
      "cell_type": "code",
      "source": [
        "df_all = pd.concat([df_train, df_test])\n",
        "\n",
        "df_cus = df_all.groupby(\"customer_idx\")[\"is_converted\"].count().reset_index()\n",
        "df_lead = df_all.groupby(\"lead_owner\")[\"is_converted\"].count().reset_index()\n",
        "df_rc = df_all.groupby(\"response_corporate\")[\"is_converted\"].count().reset_index()\n",
        "df_pc = df_all.groupby(\"product_category\")[\"is_converted\"].count().reset_index()\n",
        "\n",
        "df_cus = df_cus.rename(columns={\"is_converted\": \"cus_query_cnt\"})\n",
        "df_lead = df_lead.rename(columns={\"is_converted\": \"lead_query_cnt\"})\n",
        "df_rc = df_rc.rename(columns={\"is_converted\": \"rc_query_cnt\"})\n",
        "df_pc = df_pc.rename(columns={\"is_converted\": \"pc_query_cnt\"})\n",
        "\n",
        "df_all = pd.merge(df_all, df_cus, on='customer_idx', how=\"left\")\n",
        "df_all = pd.merge(df_all, df_lead, on='lead_owner', how=\"left\")\n",
        "df_all = pd.merge(df_all, df_rc, on='response_corporate', how=\"left\")\n",
        "df_all = pd.merge(df_all, df_pc, on='product_category', how=\"left\")\n",
        "\n",
        "df_train = df_all.iloc[: len(df_train)]\n",
        "df_test = df_all.iloc[len(df_train) :]\n",
        "df_train = df_train.drop('id', axis=1)"
      ],
      "metadata": {
        "id": "I4PMhBRhsN9T"
      },
      "execution_count": null,
      "outputs": []
    },
    {
      "cell_type": "markdown",
      "source": [
        "### 4.7 파생 변수 추가 후 크기"
      ],
      "metadata": {
        "id": "dghY5wBqzR0m"
      }
    },
    {
      "cell_type": "code",
      "source": [
        "## 파생변수 추가 후\n",
        "print(df_train.shape, df_test.shape)"
      ],
      "metadata": {
        "colab": {
          "base_uri": "https://localhost:8080/"
        },
        "id": "Nx9YWvD8zQX4",
        "outputId": "8e04ceb2-50ca-4996-c3ae-5d5aa3dd9f88"
      },
      "execution_count": null,
      "outputs": [
        {
          "output_type": "stream",
          "name": "stdout",
          "text": [
            "(46246, 41) (5271, 42)\n"
          ]
        }
      ]
    },
    {
      "cell_type": "markdown",
      "source": [
        "## 5. 컬럼 드랍 및 결측치 채우기"
      ],
      "metadata": {
        "id": "pNKvgc1KzdZ8"
      }
    },
    {
      "cell_type": "code",
      "source": [
        "drop_columns=[\n",
        "    # 'bant_submit',\n",
        "    # 'customer_country',\n",
        "    # 'business_unit',\n",
        "    # 'com_reg_ver_win_rate',\n",
        "    # 'customer_idx',\n",
        "    # 'customer_type',\n",
        "    # 'enterprise',\n",
        "    'historical_existing_cnt',\n",
        "    'id_strategic_ver',\n",
        "    'it_strategic_ver',\n",
        "    # 'idit_strategic_ver',\n",
        "    # 'customer_job',\n",
        "    'lead_desc_length',\n",
        "    # 'inquiry_type',\n",
        "    'product_category',\n",
        "    'product_subcategory',\n",
        "    'product_modelname',\n",
        "    'customer_country.1',\n",
        "    # 'customer_position',\n",
        "    # 'response_corporate',\n",
        "    # 'expected_timeline',\n",
        "    # 'ver_cus',\n",
        "    # 'ver_pro',\n",
        "    # 'ver_win_rate_x',\n",
        "    # 'ver_win_ratio_per_bu',\n",
        "    # 'business_area',\n",
        "    'business_subarea',\n",
        "    # 'lead_owner',\n",
        "    # 'is_converted',\n",
        "    # 'bn_submit',\n",
        "    # 'num_missing',\n",
        "    # 'product_large_category',\n",
        "    # 'cus_ratio',\n",
        "    # 'lead_ratio',\n",
        "    # 'rc_ratio',\n",
        "    # 'pc_ratio',\n",
        "    # 'length_ratio',\n",
        "    # 'cus_query_cnt',\n",
        "    # 'lead_query_cnt',\n",
        "    # 'rc_query_cnt',\n",
        "    # 'pc_query_cnt'\n",
        "]\n",
        "\n",
        "df_all = pd.concat([df_train, df_test])\n",
        "for column in drop_columns:\n",
        "    df_all.drop(columns=column, inplace=True)\n",
        "\n",
        "df_train = df_all.iloc[: len(df_train)]\n",
        "df_test = df_all.iloc[len(df_train) :]\n",
        "df_train = df_train.drop('id', axis=1)"
      ],
      "metadata": {
        "id": "rRCJB26czc4F"
      },
      "execution_count": null,
      "outputs": []
    },
    {
      "cell_type": "markdown",
      "source": [
        "### 5.1 드랍후 크기"
      ],
      "metadata": {
        "id": "gWGXfO-q0RoO"
      }
    },
    {
      "cell_type": "code",
      "source": [
        "## 컬럼 드랍 후\n",
        "print(df_train.shape, df_test.shape)"
      ],
      "metadata": {
        "colab": {
          "base_uri": "https://localhost:8080/"
        },
        "id": "odazvotizKwF",
        "outputId": "e0b84792-ee35-47c8-abcd-1ddae11a1462"
      },
      "execution_count": null,
      "outputs": [
        {
          "output_type": "stream",
          "name": "stdout",
          "text": [
            "(46246, 32) (5271, 33)\n"
          ]
        }
      ]
    },
    {
      "cell_type": "code",
      "source": [
        "df_train.info()"
      ],
      "metadata": {
        "colab": {
          "base_uri": "https://localhost:8080/"
        },
        "id": "dDnxUlaW1DoE",
        "outputId": "4c3eccfd-a210-4ea4-caee-0509128d343d"
      },
      "execution_count": null,
      "outputs": [
        {
          "output_type": "stream",
          "name": "stdout",
          "text": [
            "<class 'pandas.core.frame.DataFrame'>\n",
            "RangeIndex: 46246 entries, 0 to 46245\n",
            "Data columns (total 32 columns):\n",
            " #   Column                  Non-Null Count  Dtype  \n",
            "---  ------                  --------------  -----  \n",
            " 0   bant_submit             46246 non-null  float64\n",
            " 1   customer_country        45367 non-null  object \n",
            " 2   business_unit           46246 non-null  object \n",
            " 3   com_reg_ver_win_rate    13911 non-null  float64\n",
            " 4   customer_idx            46246 non-null  int64  \n",
            " 5   customer_type           12880 non-null  object \n",
            " 6   enterprise              46246 non-null  object \n",
            " 7   idit_strategic_ver      4421 non-null   float64\n",
            " 8   customer_job            46246 non-null  object \n",
            " 9   inquiry_type            46246 non-null  object \n",
            " 10  customer_position       46246 non-null  object \n",
            " 11  response_corporate      46246 non-null  object \n",
            " 12  expected_timeline       16599 non-null  object \n",
            " 13  ver_cus                 46246 non-null  int64  \n",
            " 14  ver_pro                 46246 non-null  int64  \n",
            " 15  ver_win_rate_x          17362 non-null  float64\n",
            " 16  ver_win_ratio_per_bu    14656 non-null  float64\n",
            " 17  business_area           17362 non-null  object \n",
            " 18  lead_owner              46246 non-null  int64  \n",
            " 19  is_converted            46246 non-null  int64  \n",
            " 20  bn_submit               46246 non-null  float64\n",
            " 21  num_missing             46246 non-null  int64  \n",
            " 22  product_large_category  46246 non-null  object \n",
            " 23  cus_ratio               17933 non-null  float64\n",
            " 24  lead_ratio              45965 non-null  float64\n",
            " 25  rc_ratio                46054 non-null  float64\n",
            " 26  pc_ratio                35023 non-null  float64\n",
            " 27  length_ratio            16599 non-null  float64\n",
            " 28  cus_query_cnt           46246 non-null  int64  \n",
            " 29  lead_query_cnt          46246 non-null  int64  \n",
            " 30  rc_query_cnt            46246 non-null  int64  \n",
            " 31  pc_query_cnt            30198 non-null  float64\n",
            "dtypes: float64(12), int64(9), object(11)\n",
            "memory usage: 11.3+ MB\n"
          ]
        }
      ]
    },
    {
      "cell_type": "code",
      "source": [
        "df_test.info()"
      ],
      "metadata": {
        "colab": {
          "base_uri": "https://localhost:8080/"
        },
        "id": "oJCl9kB5GcEW",
        "outputId": "2499e986-655c-4e86-ac8a-f971c41e2dc2"
      },
      "execution_count": null,
      "outputs": [
        {
          "output_type": "stream",
          "name": "stdout",
          "text": [
            "<class 'pandas.core.frame.DataFrame'>\n",
            "RangeIndex: 5271 entries, 46246 to 51516\n",
            "Data columns (total 33 columns):\n",
            " #   Column                  Non-Null Count  Dtype  \n",
            "---  ------                  --------------  -----  \n",
            " 0   bant_submit             5271 non-null   float64\n",
            " 1   customer_country        5271 non-null   object \n",
            " 2   business_unit           5271 non-null   object \n",
            " 3   com_reg_ver_win_rate    1788 non-null   float64\n",
            " 4   customer_idx            5271 non-null   int64  \n",
            " 5   customer_type           3814 non-null   object \n",
            " 6   enterprise              5271 non-null   object \n",
            " 7   idit_strategic_ver      646 non-null    float64\n",
            " 8   customer_job            5271 non-null   object \n",
            " 9   inquiry_type            5271 non-null   object \n",
            " 10  customer_position       5271 non-null   object \n",
            " 11  response_corporate      5271 non-null   object \n",
            " 12  expected_timeline       2863 non-null   object \n",
            " 13  ver_cus                 5271 non-null   int64  \n",
            " 14  ver_pro                 5271 non-null   int64  \n",
            " 15  ver_win_rate_x          2373 non-null   float64\n",
            " 16  ver_win_ratio_per_bu    1906 non-null   float64\n",
            " 17  business_area           2373 non-null   object \n",
            " 18  lead_owner              5271 non-null   int64  \n",
            " 19  is_converted            5271 non-null   int64  \n",
            " 20  bn_submit               5271 non-null   float64\n",
            " 21  num_missing             5271 non-null   int64  \n",
            " 22  product_large_category  5271 non-null   object \n",
            " 23  cus_ratio               502 non-null    float64\n",
            " 24  lead_ratio              4660 non-null   float64\n",
            " 25  rc_ratio                5255 non-null   float64\n",
            " 26  pc_ratio                3560 non-null   float64\n",
            " 27  length_ratio            2863 non-null   float64\n",
            " 28  cus_query_cnt           5271 non-null   int64  \n",
            " 29  lead_query_cnt          5271 non-null   int64  \n",
            " 30  rc_query_cnt            5271 non-null   int64  \n",
            " 31  pc_query_cnt            3413 non-null   float64\n",
            " 32  id                      5271 non-null   float64\n",
            "dtypes: float64(13), int64(9), object(11)\n",
            "memory usage: 1.3+ MB\n"
          ]
        }
      ]
    },
    {
      "cell_type": "markdown",
      "source": [
        "### 5.2 결측치"
      ],
      "metadata": {
        "id": "UgDlshnr0dli"
      }
    },
    {
      "cell_type": "code",
      "source": [
        "df_train = df_train.fillna(-1)\n",
        "df_test = df_test.fillna(-1)"
      ],
      "metadata": {
        "id": "oRRZZiQC09k6"
      },
      "execution_count": null,
      "outputs": []
    },
    {
      "cell_type": "code",
      "source": [
        "df_train.isnull().sum().sum()"
      ],
      "metadata": {
        "colab": {
          "base_uri": "https://localhost:8080/"
        },
        "id": "PT_aDMey0a3v",
        "outputId": "46121ecc-6738-401b-f225-c7a183e91c7a"
      },
      "execution_count": null,
      "outputs": [
        {
          "output_type": "execute_result",
          "data": {
            "text/plain": [
              "0"
            ]
          },
          "metadata": {},
          "execution_count": 304
        }
      ]
    },
    {
      "cell_type": "code",
      "source": [
        "df_test= df_test.drop([\"id\"], axis=1)"
      ],
      "metadata": {
        "id": "WmSw1eF52hcC"
      },
      "execution_count": null,
      "outputs": []
    },
    {
      "cell_type": "code",
      "source": [
        "print(df_train.shape, df_test.shape)"
      ],
      "metadata": {
        "colab": {
          "base_uri": "https://localhost:8080/"
        },
        "id": "Y7Fpwf5C1xXA",
        "outputId": "20fda9d5-a8c0-4488-ddd4-e6965848a652"
      },
      "execution_count": null,
      "outputs": [
        {
          "output_type": "stream",
          "name": "stdout",
          "text": [
            "(46246, 32) (5271, 32)\n"
          ]
        }
      ]
    },
    {
      "cell_type": "code",
      "source": [
        "X_train= df_train.drop(\"is_converted\", axis=1)\n",
        "y_train= df_train[\"is_converted\"].astype('bool')\n",
        "X_test = df_test.drop([\"is_converted\"], axis=1)"
      ],
      "metadata": {
        "id": "S56V4kh4u9Bu"
      },
      "execution_count": null,
      "outputs": []
    },
    {
      "cell_type": "code",
      "source": [
        "X_train.reset_index(drop=True, inplace=True)\n",
        "y_train.reset_index(drop=True, inplace=True)"
      ],
      "metadata": {
        "id": "Lp5XNUIcu_QI"
      },
      "execution_count": null,
      "outputs": []
    },
    {
      "cell_type": "code",
      "source": [
        "y_train.value_counts()"
      ],
      "metadata": {
        "colab": {
          "base_uri": "https://localhost:8080/"
        },
        "id": "b73hUr9ku_TT",
        "outputId": "6c228bb7-05a0-44b9-a9ee-5c083af68307"
      },
      "execution_count": null,
      "outputs": [
        {
          "output_type": "execute_result",
          "data": {
            "text/plain": [
              "is_converted\n",
              "False    44092\n",
              "True      2154\n",
              "Name: count, dtype: int64"
            ]
          },
          "metadata": {},
          "execution_count": 309
        }
      ]
    },
    {
      "cell_type": "code",
      "source": [
        "def label_encoding(series: pd.Series) -> pd.Series:\n",
        "    \"\"\"범주형 데이터를 시리즈 형태로 받아 숫자형 데이터로 변환합니다.\"\"\"\n",
        "\n",
        "    my_dict = {}\n",
        "\n",
        "    # 모든 요소를 문자열로 변환\n",
        "    series = series.astype(str)\n",
        "\n",
        "    for idx, value in enumerate(sorted(series.unique())):\n",
        "        my_dict[value] = idx\n",
        "    series = series.map(my_dict)\n",
        "\n",
        "    return series"
      ],
      "metadata": {
        "id": "hlDATr1Zu_ZD"
      },
      "execution_count": null,
      "outputs": []
    },
    {
      "cell_type": "code",
      "source": [
        "def encoding(df) :\n",
        "    # 레이블 인코딩할 칼럼들\n",
        "    label_columns = ['customer_country',# label\n",
        "                     # 'business_unit',\n",
        "                     # 'customer_type',\n",
        "                     # 'enterprise',\n",
        "                     # 'customer_job',\n",
        "                     # 'inquiry_type',\n",
        "                     # 'customer_position',\n",
        "                     'product_category',\n",
        "                     'product_subcategory',\n",
        "                     'product_modelname',\n",
        "                     'response_corporate',\n",
        "                     # 'expected_timeline',\n",
        "                     'business_subarea',\n",
        "                     'lead_owner',\n",
        "                     # 'bn_submit',\n",
        "                     # 'product_large_category',\n",
        "    ]\n",
        "\n",
        "    # 인코딩할 칼럼들\n",
        "    one_hot_columns=[\n",
        "                     'business_unit',\n",
        "                     'customer_type',\n",
        "                     'enterprise',\n",
        "                     'customer_job',\n",
        "                     'inquiry_type',\n",
        "                     'customer_position',\n",
        "                     'expected_timeline',\n",
        "                     'business_area',\n",
        "                     'bn_submit',\n",
        "                     'product_large_category',\n",
        "    ]\n",
        "\n",
        "    for col in label_columns:\n",
        "        if col in df.columns:\n",
        "            df[col] = label_encoding(df[col])\n",
        "        else:\n",
        "            print(col)\n",
        "    print(\"\")\n",
        "    one_hot_real_columns = one_hot_columns.copy()\n",
        "\n",
        "    for col in one_hot_columns:\n",
        "        if col not in df.columns:\n",
        "            one_hot_real_columns.remove(col)\n",
        "            print(col)\n",
        "    df = pd.get_dummies(df, columns=one_hot_real_columns)\n",
        "\n",
        "    return df\n",
        "\n",
        "X_train = encoding(X_train.copy())\n",
        "X_test = encoding(X_test.copy())"
      ],
      "metadata": {
        "colab": {
          "base_uri": "https://localhost:8080/"
        },
        "id": "u6RDFAwDu_ct",
        "outputId": "1a650d60-b499-4fe3-92e6-4ade594a9a41"
      },
      "execution_count": null,
      "outputs": [
        {
          "output_type": "stream",
          "name": "stdout",
          "text": [
            "product_category\n",
            "product_subcategory\n",
            "product_modelname\n",
            "business_subarea\n",
            "\n",
            "product_category\n",
            "product_subcategory\n",
            "product_modelname\n",
            "business_subarea\n",
            "\n"
          ]
        }
      ]
    },
    {
      "cell_type": "code",
      "source": [
        "X_train.columns"
      ],
      "metadata": {
        "colab": {
          "base_uri": "https://localhost:8080/"
        },
        "id": "_D5vX3NLvz8t",
        "outputId": "8a2d8508-ec3c-4dc4-a941-05e92bfdec38"
      },
      "execution_count": null,
      "outputs": [
        {
          "output_type": "execute_result",
          "data": {
            "text/plain": [
              "Index(['bant_submit', 'customer_country', 'com_reg_ver_win_rate',\n",
              "       'customer_idx', 'idit_strategic_ver', 'response_corporate', 'ver_cus',\n",
              "       'ver_pro', 'ver_win_rate_x', 'ver_win_ratio_per_bu', 'lead_owner',\n",
              "       'num_missing', 'cus_ratio', 'lead_ratio', 'rc_ratio', 'pc_ratio',\n",
              "       'length_ratio', 'cus_query_cnt', 'lead_query_cnt', 'rc_query_cnt',\n",
              "       'pc_query_cnt', 'business_unit_AS', 'business_unit_ID',\n",
              "       'business_unit_IT', 'customer_type_-1', 'customer_type_Channel Partner',\n",
              "       'customer_type_End Customer', 'customer_type_Others',\n",
              "       'customer_type_Service Partner', 'customer_type_Specifier/ Influencer',\n",
              "       'enterprise_Enterprise', 'enterprise_SMB',\n",
              "       'customer_job_administrative', 'customer_job_arts and design',\n",
              "       'customer_job_business development', 'customer_job_consulting',\n",
              "       'customer_job_education', 'customer_job_engineering',\n",
              "       'customer_job_entrepreneurship', 'customer_job_healthcare services',\n",
              "       'customer_job_information technology', 'customer_job_marketing',\n",
              "       'customer_job_operations', 'customer_job_other',\n",
              "       'customer_job_program and project management',\n",
              "       'customer_job_purchasing', 'customer_job_sales', 'inquiry_type_others',\n",
              "       'inquiry_type_product information',\n",
              "       'inquiry_type_quotation or purchase consultation',\n",
              "       'inquiry_type_usage or technical consultation',\n",
              "       'customer_position_associate/analyst',\n",
              "       'customer_position_c-level executive', 'customer_position_ceo/founder',\n",
              "       'customer_position_director', 'customer_position_end-user',\n",
              "       'customer_position_entry level', 'customer_position_manager',\n",
              "       'customer_position_other', 'customer_position_partner',\n",
              "       'customer_position_trainee', 'expected_timeline_-1',\n",
              "       'expected_timeline_3 months ~ 6 months',\n",
              "       'expected_timeline_6 months ~ 9 months',\n",
              "       'expected_timeline_9 months ~ 1 year',\n",
              "       'expected_timeline_Uncategorized',\n",
              "       'expected_timeline_less than 3 months',\n",
              "       'expected_timeline_more than a year', 'business_area_-1',\n",
              "       'business_area_corporate / office', 'business_area_education',\n",
              "       'business_area_factory', 'business_area_government department',\n",
              "       'business_area_hospital & health care',\n",
              "       'business_area_hotel & accommodation',\n",
              "       'business_area_power plant / renewable energy',\n",
              "       'business_area_public facility', 'business_area_residential (home)',\n",
              "       'business_area_retail', 'business_area_special purpose',\n",
              "       'business_area_transportation', 'bn_submit_0.0', 'bn_submit_0.25',\n",
              "       'bn_submit_0.5', 'product_large_category_building_facilities',\n",
              "       'product_large_category_display_technology',\n",
              "       'product_large_category_others',\n",
              "       'product_large_category_technology_and_software'],\n",
              "      dtype='object')"
            ]
          },
          "metadata": {},
          "execution_count": 312
        }
      ]
    },
    {
      "cell_type": "code",
      "source": [
        "X_test.columns"
      ],
      "metadata": {
        "colab": {
          "base_uri": "https://localhost:8080/"
        },
        "id": "YawaFdUev3gC",
        "outputId": "40d6c4e2-9fe4-46f0-9abc-84950a3b02e3"
      },
      "execution_count": null,
      "outputs": [
        {
          "output_type": "execute_result",
          "data": {
            "text/plain": [
              "Index(['bant_submit', 'customer_country', 'com_reg_ver_win_rate',\n",
              "       'customer_idx', 'idit_strategic_ver', 'response_corporate', 'ver_cus',\n",
              "       'ver_pro', 'ver_win_rate_x', 'ver_win_ratio_per_bu', 'lead_owner',\n",
              "       'num_missing', 'cus_ratio', 'lead_ratio', 'rc_ratio', 'pc_ratio',\n",
              "       'length_ratio', 'cus_query_cnt', 'lead_query_cnt', 'rc_query_cnt',\n",
              "       'pc_query_cnt', 'business_unit_AS', 'business_unit_ID',\n",
              "       'business_unit_IT', 'customer_type_-1', 'customer_type_Channel Partner',\n",
              "       'customer_type_End Customer', 'customer_type_Service Partner',\n",
              "       'customer_type_Specifier/ Influencer', 'enterprise_Enterprise',\n",
              "       'enterprise_SMB', 'customer_job_administrative',\n",
              "       'customer_job_arts and design', 'customer_job_business development',\n",
              "       'customer_job_consulting', 'customer_job_education',\n",
              "       'customer_job_engineering', 'customer_job_entrepreneurship',\n",
              "       'customer_job_healthcare services',\n",
              "       'customer_job_information technology', 'customer_job_marketing',\n",
              "       'customer_job_operations', 'customer_job_other',\n",
              "       'customer_job_program and project management',\n",
              "       'customer_job_purchasing', 'customer_job_sales', 'inquiry_type_others',\n",
              "       'inquiry_type_product information',\n",
              "       'inquiry_type_quotation or purchase consultation',\n",
              "       'inquiry_type_usage or technical consultation',\n",
              "       'customer_position_associate/analyst',\n",
              "       'customer_position_c-level executive', 'customer_position_ceo/founder',\n",
              "       'customer_position_director', 'customer_position_entry level',\n",
              "       'customer_position_manager', 'customer_position_other',\n",
              "       'customer_position_partner', 'customer_position_trainee',\n",
              "       'customer_position_vice president', 'expected_timeline_-1',\n",
              "       'expected_timeline_3 months ~ 6 months',\n",
              "       'expected_timeline_6 months ~ 9 months',\n",
              "       'expected_timeline_9 months ~ 1 year',\n",
              "       'expected_timeline_less than 3 months',\n",
              "       'expected_timeline_more than a year', 'business_area_-1',\n",
              "       'business_area_corporate / office', 'business_area_education',\n",
              "       'business_area_factory', 'business_area_government department',\n",
              "       'business_area_hospital & health care',\n",
              "       'business_area_hotel & accommodation',\n",
              "       'business_area_power plant / renewable energy',\n",
              "       'business_area_public facility', 'business_area_residential (home)',\n",
              "       'business_area_retail', 'business_area_special purpose',\n",
              "       'business_area_transportation', 'bn_submit_0.0', 'bn_submit_0.25',\n",
              "       'bn_submit_0.5', 'product_large_category_building_facilities',\n",
              "       'product_large_category_display_technology',\n",
              "       'product_large_category_others',\n",
              "       'product_large_category_technology_and_software'],\n",
              "      dtype='object')"
            ]
          },
          "metadata": {},
          "execution_count": 313
        }
      ]
    },
    {
      "cell_type": "code",
      "source": [
        "for col in X_test.columns:\n",
        "    if col not in X_train.columns:\n",
        "        X_train[col] = 0"
      ],
      "metadata": {
        "id": "dYgSu3lovGre"
      },
      "execution_count": null,
      "outputs": []
    },
    {
      "cell_type": "code",
      "source": [
        "for col in X_train.columns:\n",
        "    if col not in X_test.columns:\n",
        "        X_test[col] = 0"
      ],
      "metadata": {
        "id": "kS66oIzXwAsy"
      },
      "execution_count": null,
      "outputs": []
    },
    {
      "cell_type": "code",
      "source": [
        "from sklearn.model_selection import train_test_split\n",
        "\n",
        "X_tr_op, X_val_op, y_tr_op, y_val_op = train_test_split(X_train, y_train, test_size=0.1, stratify=y_train, shuffle=True, random_state=42)"
      ],
      "metadata": {
        "id": "YmnLYvbovIlH"
      },
      "execution_count": null,
      "outputs": []
    },
    {
      "cell_type": "code",
      "source": [
        "X_test = X_test[X_train.columns]"
      ],
      "metadata": {
        "id": "7YfGEizGvXc4"
      },
      "execution_count": null,
      "outputs": []
    },
    {
      "cell_type": "code",
      "source": [
        "import optuna\n",
        "from sklearn.metrics import f1_score\n",
        "from lightgbm import LGBMClassifier, early_stopping\n",
        "\n",
        "def objective(trial):\n",
        "    param = {\n",
        "        'objective': 'binary',\n",
        "        'metric': 'binary_logloss',\n",
        "        'verbosity': -1,\n",
        "        'boosting_type': 'gbdt',\n",
        "        'learning_rate': trial.suggest_float('learning_rate', 0.01, 0.05), # 더 낮은 학습률로 수정\n",
        "        'num_leaves': trial.suggest_int('num_leaves', 20, 100), # 범위 축소\n",
        "        'max_depth': trial.suggest_int('max_depth', 4, 10), # 최대 깊이 감소\n",
        "        'subsample': trial.suggest_float('subsample', 0.6, 0.8), # 샘플링 비율 감소\n",
        "        'colsample_bytree': trial.suggest_float('colsample_bytree', 0.6, 0.8), # 피처 샘플링 비율 감소\n",
        "        'lambda_l1': trial.suggest_float('lambda_l1', 0.01, 10.0, log=True), # 정규화 강화\n",
        "        'lambda_l2': trial.suggest_float('lambda_l2', 0.01, 10.0, log=True), # 정규화 강화\n",
        "        'min_child_samples': trial.suggest_int('min_child_samples', 20, 100), # 값 증가\n",
        "        'min_child_weight': trial.suggest_float('min_child_weight', 1e-3, 1e-1, log=True), # 값 증가\n",
        "        'min_split_gain': trial.suggest_float('min_split_gain', 0.01, 0.1), # 분할을 위한 최소 이득 증가\n",
        "        'random_state': 0,\n",
        "        'n_jobs': -1\n",
        "    }\n",
        "\n",
        "    f1_scores = []\n",
        "\n",
        "    lgb_model = LGBMClassifier(**param)\n",
        "    lgb_model.fit(X_tr_op, y_tr_op, eval_set=[(X_val_op, y_val_op)], callbacks=[early_stopping(stopping_rounds=200)])\n",
        "\n",
        "    threshold = 0.5  # 적절한 임계값으로 조정\n",
        "    preds_proba = lgb_model.predict_proba(X_val_op)[:, 1]  # 클래스 1에 대한 확률을 얻음\n",
        "    preds = (preds_proba > threshold).astype(int)  # 임계값을 기준으로 이진 클래스로 변환\n",
        "\n",
        "    # 이진 클래스 예측을 사용하여 F1 스코어 계산\n",
        "    f1 = f1_score(y_val_op, preds)\n",
        "    f1_scores.append(f1)\n",
        "\n",
        "    return np.mean(f1_scores)\n",
        "\n",
        "study1 = optuna.create_study(direction='maximize')\n",
        "study1.optimize(objective, n_trials=50, n_jobs=-1)  # 시행 횟수를 조정하여 탐색 시간 관리\n",
        "\n",
        "print('Number of finished trials:', len(study1.trials))\n",
        "print('Best trial:', study1.best_trial.params)"
      ],
      "metadata": {
        "colab": {
          "base_uri": "https://localhost:8080/"
        },
        "id": "NlMNudLMuND0",
        "outputId": "cab93a2b-abd4-4c6e-8e59-6cfa518d9d97"
      },
      "execution_count": null,
      "outputs": [
        {
          "output_type": "stream",
          "name": "stderr",
          "text": [
            "[I 2024-02-25 14:55:17,443] A new study created in memory with name: no-name-50040727-f560-4e8d-8d09-a0163715e1b8\n"
          ]
        },
        {
          "output_type": "stream",
          "name": "stdout",
          "text": [
            "Training until validation scores don't improve for 200 rounds\n",
            "Training until validation scores don't improve for 200 rounds\n"
          ]
        },
        {
          "output_type": "stream",
          "name": "stderr",
          "text": [
            "[I 2024-02-25 14:55:20,351] Trial 1 finished with value: 0.6723646723646723 and parameters: {'learning_rate': 0.025188794203482197, 'num_leaves': 95, 'max_depth': 4, 'subsample': 0.7155484243893883, 'colsample_bytree': 0.7510038850948225, 'lambda_l1': 0.34130670720940104, 'lambda_l2': 0.05947152474151137, 'min_child_samples': 24, 'min_child_weight': 0.00584286932347365, 'min_split_gain': 0.039138643685666746}. Best is trial 1 with value: 0.6723646723646723.\n"
          ]
        },
        {
          "output_type": "stream",
          "name": "stdout",
          "text": [
            "Did not meet early stopping. Best iteration is:\n",
            "[100]\tvalid_0's binary_logloss: 0.0638593\n"
          ]
        },
        {
          "output_type": "stream",
          "name": "stderr",
          "text": [
            "[I 2024-02-25 14:55:20,745] Trial 0 finished with value: 0.5968253968253968 and parameters: {'learning_rate': 0.010055973288021, 'num_leaves': 32, 'max_depth': 10, 'subsample': 0.6306094940845978, 'colsample_bytree': 0.7967849032283388, 'lambda_l1': 2.3255367181289825, 'lambda_l2': 0.019562117125376872, 'min_child_samples': 73, 'min_child_weight': 0.0013273707535620355, 'min_split_gain': 0.07669380742538466}. Best is trial 1 with value: 0.6723646723646723.\n"
          ]
        },
        {
          "output_type": "stream",
          "name": "stdout",
          "text": [
            "Did not meet early stopping. Best iteration is:\n",
            "[100]\tvalid_0's binary_logloss: 0.0818074\n",
            "Training until validation scores don't improve for 200 rounds\n",
            "Training until validation scores don't improve for 200 rounds\n"
          ]
        },
        {
          "output_type": "stream",
          "name": "stderr",
          "text": [
            "[I 2024-02-25 14:55:22,448] Trial 3 finished with value: 0.6868131868131868 and parameters: {'learning_rate': 0.03526277990806144, 'num_leaves': 90, 'max_depth': 5, 'subsample': 0.6353415759247002, 'colsample_bytree': 0.692714584237978, 'lambda_l1': 5.172054988224375, 'lambda_l2': 0.015821076033168915, 'min_child_samples': 80, 'min_child_weight': 0.013532658543991575, 'min_split_gain': 0.09065577542312953}. Best is trial 3 with value: 0.6868131868131868.\n"
          ]
        },
        {
          "output_type": "stream",
          "name": "stdout",
          "text": [
            "Did not meet early stopping. Best iteration is:\n",
            "[100]\tvalid_0's binary_logloss: 0.0595781\n",
            "Did not meet early stopping. Best iteration is:\n",
            "[100]\tvalid_0's binary_logloss: 0.0586924\n"
          ]
        },
        {
          "output_type": "stream",
          "name": "stderr",
          "text": [
            "[I 2024-02-25 14:55:22,662] Trial 2 finished with value: 0.7010869565217391 and parameters: {'learning_rate': 0.03762323965632579, 'num_leaves': 68, 'max_depth': 10, 'subsample': 0.7684264328021398, 'colsample_bytree': 0.6451418654160476, 'lambda_l1': 7.2179387699399165, 'lambda_l2': 0.025879691280688507, 'min_child_samples': 43, 'min_child_weight': 0.013264714239342066, 'min_split_gain': 0.09051510848190822}. Best is trial 2 with value: 0.7010869565217391.\n"
          ]
        },
        {
          "output_type": "stream",
          "name": "stdout",
          "text": [
            "Training until validation scores don't improve for 200 rounds\n",
            "Training until validation scores don't improve for 200 rounds\n"
          ]
        },
        {
          "output_type": "stream",
          "name": "stderr",
          "text": [
            "[I 2024-02-25 14:55:24,140] Trial 5 finished with value: 0.6467065868263473 and parameters: {'learning_rate': 0.01737264339734014, 'num_leaves': 54, 'max_depth': 4, 'subsample': 0.7333361451430569, 'colsample_bytree': 0.6518757588590489, 'lambda_l1': 0.011826042863158501, 'lambda_l2': 5.588536891075635, 'min_child_samples': 64, 'min_child_weight': 0.006461631162497012, 'min_split_gain': 0.09289688413278173}. Best is trial 2 with value: 0.7010869565217391.\n"
          ]
        },
        {
          "output_type": "stream",
          "name": "stdout",
          "text": [
            "Did not meet early stopping. Best iteration is:\n",
            "[100]\tvalid_0's binary_logloss: 0.0730616\n",
            "Training until validation scores don't improve for 200 rounds\n"
          ]
        },
        {
          "output_type": "stream",
          "name": "stderr",
          "text": [
            "[I 2024-02-25 14:55:24,993] Trial 4 finished with value: 0.6744186046511628 and parameters: {'learning_rate': 0.01591393667777899, 'num_leaves': 49, 'max_depth': 10, 'subsample': 0.6887218512340095, 'colsample_bytree': 0.7567232937050654, 'lambda_l1': 0.05128534006056187, 'lambda_l2': 0.020925316684422313, 'min_child_samples': 78, 'min_child_weight': 0.005490992761851868, 'min_split_gain': 0.015562694527770803}. Best is trial 2 with value: 0.7010869565217391.\n"
          ]
        },
        {
          "output_type": "stream",
          "name": "stdout",
          "text": [
            "Did not meet early stopping. Best iteration is:\n",
            "[100]\tvalid_0's binary_logloss: 0.0675414\n",
            "Training until validation scores don't improve for 200 rounds\n"
          ]
        },
        {
          "output_type": "stream",
          "name": "stderr",
          "text": [
            "[I 2024-02-25 14:55:26,676] Trial 7 finished with value: 0.672514619883041 and parameters: {'learning_rate': 0.016453821141516098, 'num_leaves': 61, 'max_depth': 5, 'subsample': 0.7008175210209557, 'colsample_bytree': 0.7085031735370515, 'lambda_l1': 2.702667207299962, 'lambda_l2': 0.06930667142595873, 'min_child_samples': 32, 'min_child_weight': 0.023820590763068764, 'min_split_gain': 0.08773724110214817}. Best is trial 2 with value: 0.7010869565217391.\n",
            "[I 2024-02-25 14:55:26,762] Trial 6 finished with value: 0.7131367292225201 and parameters: {'learning_rate': 0.032521954442963685, 'num_leaves': 97, 'max_depth': 9, 'subsample': 0.6129429381647313, 'colsample_bytree': 0.7820706892706626, 'lambda_l1': 0.7044449978102234, 'lambda_l2': 0.021554158339941735, 'min_child_samples': 37, 'min_child_weight': 0.03540471514683685, 'min_split_gain': 0.07112946375292065}. Best is trial 6 with value: 0.7131367292225201.\n"
          ]
        },
        {
          "output_type": "stream",
          "name": "stdout",
          "text": [
            "Did not meet early stopping. Best iteration is:\n",
            "[100]\tvalid_0's binary_logloss: 0.0713934\n",
            "Did not meet early stopping. Best iteration is:\n",
            "[100]\tvalid_0's binary_logloss: 0.0561089\n",
            "Training until validation scores don't improve for 200 rounds\n",
            "Training until validation scores don't improve for 200 rounds\n"
          ]
        },
        {
          "output_type": "stream",
          "name": "stderr",
          "text": [
            "[I 2024-02-25 14:55:28,762] Trial 8 finished with value: 0.6972972972972973 and parameters: {'learning_rate': 0.03316055561258937, 'num_leaves': 31, 'max_depth': 8, 'subsample': 0.7505392879951668, 'colsample_bytree': 0.6931513439013065, 'lambda_l1': 0.045632060846619346, 'lambda_l2': 0.6817168898324651, 'min_child_samples': 36, 'min_child_weight': 0.04030016428191242, 'min_split_gain': 0.050262398349577804}. Best is trial 6 with value: 0.7131367292225201.\n"
          ]
        },
        {
          "output_type": "stream",
          "name": "stdout",
          "text": [
            "Did not meet early stopping. Best iteration is:\n",
            "[100]\tvalid_0's binary_logloss: 0.0567132\n"
          ]
        },
        {
          "output_type": "stream",
          "name": "stderr",
          "text": [
            "[I 2024-02-25 14:55:29,444] Trial 9 finished with value: 0.7008086253369272 and parameters: {'learning_rate': 0.024976647395677825, 'num_leaves': 72, 'max_depth': 10, 'subsample': 0.709188148473008, 'colsample_bytree': 0.6564156432863635, 'lambda_l1': 0.13041597124443727, 'lambda_l2': 0.28809743883024624, 'min_child_samples': 26, 'min_child_weight': 0.06682445309183636, 'min_split_gain': 0.042514154297012496}. Best is trial 6 with value: 0.7131367292225201.\n"
          ]
        },
        {
          "output_type": "stream",
          "name": "stdout",
          "text": [
            "Training until validation scores don't improve for 200 rounds\n",
            "Did not meet early stopping. Best iteration is:\n",
            "[100]\tvalid_0's binary_logloss: 0.0589433\n",
            "Training until validation scores don't improve for 200 rounds\n"
          ]
        },
        {
          "output_type": "stream",
          "name": "stderr",
          "text": [
            "[I 2024-02-25 14:55:31,406] Trial 10 finished with value: 0.6740331491712708 and parameters: {'learning_rate': 0.03314298476569135, 'num_leaves': 92, 'max_depth': 5, 'subsample': 0.6668126105348664, 'colsample_bytree': 0.7571248118611817, 'lambda_l1': 0.27614308864545317, 'lambda_l2': 0.9123391137162157, 'min_child_samples': 56, 'min_child_weight': 0.022024531598536345, 'min_split_gain': 0.0889269899556557}. Best is trial 6 with value: 0.7131367292225201.\n"
          ]
        },
        {
          "output_type": "stream",
          "name": "stdout",
          "text": [
            "Did not meet early stopping. Best iteration is:\n",
            "[100]\tvalid_0's binary_logloss: 0.0593655\n",
            "Training until validation scores don't improve for 200 rounds\n",
            "Did not meet early stopping. Best iteration is:\n",
            "[100]\tvalid_0's binary_logloss: 0.0534931\n"
          ]
        },
        {
          "output_type": "stream",
          "name": "stderr",
          "text": [
            "[I 2024-02-25 14:55:33,312] Trial 11 finished with value: 0.7263427109974424 and parameters: {'learning_rate': 0.04926927562920728, 'num_leaves': 82, 'max_depth': 8, 'subsample': 0.6006557618963381, 'colsample_bytree': 0.7986960426664715, 'lambda_l1': 0.6230637023115322, 'lambda_l2': 0.33511819736103854, 'min_child_samples': 97, 'min_child_weight': 0.09313390939692577, 'min_split_gain': 0.06550269781640373}. Best is trial 11 with value: 0.7263427109974424.\n"
          ]
        },
        {
          "output_type": "stream",
          "name": "stdout",
          "text": [
            "Training until validation scores don't improve for 200 rounds\n"
          ]
        },
        {
          "output_type": "stream",
          "name": "stderr",
          "text": [
            "[I 2024-02-25 14:55:35,548] Trial 12 finished with value: 0.7068062827225131 and parameters: {'learning_rate': 0.046455051401426375, 'num_leaves': 76, 'max_depth': 8, 'subsample': 0.7995880255488139, 'colsample_bytree': 0.6050226656593437, 'lambda_l1': 0.9308902373170422, 'lambda_l2': 0.07927998869069375, 'min_child_samples': 46, 'min_child_weight': 0.07085819911114154, 'min_split_gain': 0.06885584848336906}. Best is trial 11 with value: 0.7263427109974424.\n"
          ]
        },
        {
          "output_type": "stream",
          "name": "stdout",
          "text": [
            "Did not meet early stopping. Best iteration is:\n",
            "[100]\tvalid_0's binary_logloss: 0.0543968\n",
            "Training until validation scores don't improve for 200 rounds\n"
          ]
        },
        {
          "output_type": "stream",
          "name": "stderr",
          "text": [
            "[I 2024-02-25 14:55:36,851] Trial 13 finished with value: 0.7319587628865979 and parameters: {'learning_rate': 0.04902225190260861, 'num_leaves': 80, 'max_depth': 8, 'subsample': 0.6006328628998356, 'colsample_bytree': 0.7984318661955921, 'lambda_l1': 0.8296738915284368, 'lambda_l2': 0.1700999237061902, 'min_child_samples': 99, 'min_child_weight': 0.08525743848782877, 'min_split_gain': 0.0655271358970154}. Best is trial 13 with value: 0.7319587628865979.\n"
          ]
        },
        {
          "output_type": "stream",
          "name": "stdout",
          "text": [
            "Did not meet early stopping. Best iteration is:\n",
            "[100]\tvalid_0's binary_logloss: 0.0540394\n",
            "Training until validation scores don't improve for 200 rounds\n"
          ]
        },
        {
          "output_type": "stream",
          "name": "stderr",
          "text": [
            "[I 2024-02-25 14:55:38,184] Trial 14 finished with value: 0.7376623376623377 and parameters: {'learning_rate': 0.043764874204006314, 'num_leaves': 82, 'max_depth': 8, 'subsample': 0.6021087691247893, 'colsample_bytree': 0.7972649657831353, 'lambda_l1': 0.8594887724784808, 'lambda_l2': 0.30032736521619663, 'min_child_samples': 100, 'min_child_weight': 0.09176485807033641, 'min_split_gain': 0.0654624174115529}. Best is trial 14 with value: 0.7376623376623377.\n"
          ]
        },
        {
          "output_type": "stream",
          "name": "stdout",
          "text": [
            "Did not meet early stopping. Best iteration is:\n",
            "[100]\tvalid_0's binary_logloss: 0.0543951\n",
            "Training until validation scores don't improve for 200 rounds\n",
            "Did not meet early stopping. Best iteration is:\n",
            "[100]\tvalid_0's binary_logloss: 0.0542857\n"
          ]
        },
        {
          "output_type": "stream",
          "name": "stderr",
          "text": [
            "[I 2024-02-25 14:55:39,018] Trial 15 finished with value: 0.7324675324675325 and parameters: {'learning_rate': 0.04794315432926738, 'num_leaves': 81, 'max_depth': 7, 'subsample': 0.6007855528645046, 'colsample_bytree': 0.7990023726378445, 'lambda_l1': 1.1712435312417968, 'lambda_l2': 0.2127040777932507, 'min_child_samples': 100, 'min_child_weight': 0.0984698912739538, 'min_split_gain': 0.05907170499789444}. Best is trial 14 with value: 0.7376623376623377.\n"
          ]
        },
        {
          "output_type": "stream",
          "name": "stdout",
          "text": [
            "Training until validation scores don't improve for 200 rounds\n"
          ]
        },
        {
          "output_type": "stream",
          "name": "stderr",
          "text": [
            "[I 2024-02-25 14:55:40,428] Trial 16 finished with value: 0.7315789473684211 and parameters: {'learning_rate': 0.04260145311633704, 'num_leaves': 81, 'max_depth': 7, 'subsample': 0.6560649516100119, 'colsample_bytree': 0.738308348577997, 'lambda_l1': 1.491383984109055, 'lambda_l2': 3.070405613194708, 'min_child_samples': 94, 'min_child_weight': 0.0013751569123665645, 'min_split_gain': 0.05888848656211812}. Best is trial 14 with value: 0.7376623376623377.\n"
          ]
        },
        {
          "output_type": "stream",
          "name": "stdout",
          "text": [
            "Did not meet early stopping. Best iteration is:\n",
            "[100]\tvalid_0's binary_logloss: 0.056035\n"
          ]
        },
        {
          "output_type": "stream",
          "name": "stderr",
          "text": [
            "[I 2024-02-25 14:55:41,081] Trial 17 finished with value: 0.7335092348284961 and parameters: {'learning_rate': 0.04270447035881335, 'num_leaves': 44, 'max_depth': 7, 'subsample': 0.6603474913067124, 'colsample_bytree': 0.7262230727655049, 'lambda_l1': 2.0934772284059218, 'lambda_l2': 1.8911441101714772, 'min_child_samples': 89, 'min_child_weight': 0.0016843136708942364, 'min_split_gain': 0.02704816791539494}. Best is trial 14 with value: 0.7376623376623377.\n"
          ]
        },
        {
          "output_type": "stream",
          "name": "stdout",
          "text": [
            "Did not meet early stopping. Best iteration is:\n",
            "[100]\tvalid_0's binary_logloss: 0.0558535\n",
            "Training until validation scores don't improve for 200 rounds\n",
            "Training until validation scores don't improve for 200 rounds\n"
          ]
        },
        {
          "output_type": "stream",
          "name": "stderr",
          "text": [
            "[I 2024-02-25 14:55:42,780] Trial 18 finished with value: 0.7195767195767195 and parameters: {'learning_rate': 0.04151136967246856, 'num_leaves': 63, 'max_depth': 7, 'subsample': 0.6356597746367303, 'colsample_bytree': 0.7228723228058925, 'lambda_l1': 0.17194752328170124, 'lambda_l2': 1.3400720959648416, 'min_child_samples': 86, 'min_child_weight': 0.042088352543311676, 'min_split_gain': 0.02819242839201995}. Best is trial 14 with value: 0.7376623376623377.\n"
          ]
        },
        {
          "output_type": "stream",
          "name": "stdout",
          "text": [
            "Did not meet early stopping. Best iteration is:\n",
            "[100]\tvalid_0's binary_logloss: 0.0553073\n"
          ]
        },
        {
          "output_type": "stream",
          "name": "stderr",
          "text": [
            "[I 2024-02-25 14:55:43,043] Trial 19 finished with value: 0.6991869918699187 and parameters: {'learning_rate': 0.040730049015260755, 'num_leaves': 41, 'max_depth': 6, 'subsample': 0.6631706640392329, 'colsample_bytree': 0.7218441415747135, 'lambda_l1': 3.3746569643254194, 'lambda_l2': 1.7929788760321497, 'min_child_samples': 89, 'min_child_weight': 0.0024358722530456833, 'min_split_gain': 0.02394501255074392}. Best is trial 14 with value: 0.7376623376623377.\n"
          ]
        },
        {
          "output_type": "stream",
          "name": "stdout",
          "text": [
            "Did not meet early stopping. Best iteration is:\n",
            "[100]\tvalid_0's binary_logloss: 0.0574453\n",
            "Training until validation scores don't improve for 200 rounds\n",
            "Training until validation scores don't improve for 200 rounds\n"
          ]
        },
        {
          "output_type": "stream",
          "name": "stderr",
          "text": [
            "[I 2024-02-25 14:55:44,599] Trial 20 finished with value: 0.7027027027027027 and parameters: {'learning_rate': 0.0413388274146987, 'num_leaves': 44, 'max_depth': 6, 'subsample': 0.6740551061219907, 'colsample_bytree': 0.7718599698711737, 'lambda_l1': 4.100026455993997, 'lambda_l2': 2.2301096399629152, 'min_child_samples': 88, 'min_child_weight': 0.0030419261491860254, 'min_split_gain': 0.011182889868796501}. Best is trial 14 with value: 0.7376623376623377.\n"
          ]
        },
        {
          "output_type": "stream",
          "name": "stdout",
          "text": [
            "Did not meet early stopping. Best iteration is:\n",
            "[100]\tvalid_0's binary_logloss: 0.0571473\n"
          ]
        },
        {
          "output_type": "stream",
          "name": "stderr",
          "text": [
            "[I 2024-02-25 14:55:45,031] Trial 21 finished with value: 0.6935483870967742 and parameters: {'learning_rate': 0.04471588983191667, 'num_leaves': 20, 'max_depth': 6, 'subsample': 0.6828007655193177, 'colsample_bytree': 0.7710797531531884, 'lambda_l1': 8.443776626953003, 'lambda_l2': 8.327340375042686, 'min_child_samples': 68, 'min_child_weight': 0.0032058848876948703, 'min_split_gain': 0.012225281021164124}. Best is trial 14 with value: 0.7376623376623377.\n"
          ]
        },
        {
          "output_type": "stream",
          "name": "stdout",
          "text": [
            "Did not meet early stopping. Best iteration is:\n",
            "[100]\tvalid_0's binary_logloss: 0.0589677\n",
            "Training until validation scores don't improve for 200 rounds\n",
            "Training until validation scores don't improve for 200 rounds\n"
          ]
        },
        {
          "output_type": "stream",
          "name": "stderr",
          "text": [
            "[I 2024-02-25 14:55:47,238] Trial 22 finished with value: 0.7244094488188977 and parameters: {'learning_rate': 0.04542556007917078, 'num_leaves': 23, 'max_depth': 7, 'subsample': 0.6227985028005635, 'colsample_bytree': 0.774890010729445, 'lambda_l1': 9.953493940284543, 'lambda_l2': 0.3172256791169695, 'min_child_samples': 100, 'min_child_weight': 0.053036206044650175, 'min_split_gain': 0.05107641765458104}. Best is trial 14 with value: 0.7376623376623377.\n"
          ]
        },
        {
          "output_type": "stream",
          "name": "stdout",
          "text": [
            "Did not meet early stopping. Best iteration is:\n",
            "[100]\tvalid_0's binary_logloss: 0.0576796\n"
          ]
        },
        {
          "output_type": "stream",
          "name": "stderr",
          "text": [
            "[I 2024-02-25 14:55:48,466] Trial 23 finished with value: 0.7180851063829787 and parameters: {'learning_rate': 0.038108228602336126, 'num_leaves': 87, 'max_depth': 7, 'subsample': 0.6190816686788141, 'colsample_bytree': 0.6784596317426012, 'lambda_l1': 1.1154789580374151, 'lambda_l2': 0.4235908835981896, 'min_child_samples': 98, 'min_child_weight': 0.05860606452181645, 'min_split_gain': 0.050970833555932585}. Best is trial 14 with value: 0.7376623376623377.\n"
          ]
        },
        {
          "output_type": "stream",
          "name": "stdout",
          "text": [
            "Training until validation scores don't improve for 200 rounds\n",
            "Did not meet early stopping. Best iteration is:\n",
            "[100]\tvalid_0's binary_logloss: 0.056238\n",
            "Training until validation scores don't improve for 200 rounds\n"
          ]
        },
        {
          "output_type": "stream",
          "name": "stderr",
          "text": [
            "[I 2024-02-25 14:55:51,065] Trial 24 finished with value: 0.7296587926509186 and parameters: {'learning_rate': 0.038296096069774306, 'num_leaves': 87, 'max_depth': 9, 'subsample': 0.6480061904869291, 'colsample_bytree': 0.7387348106230927, 'lambda_l1': 1.4823275350326737, 'lambda_l2': 0.14369422152621783, 'min_child_samples': 91, 'min_child_weight': 0.02448595690702063, 'min_split_gain': 0.07921233772619574}. Best is trial 14 with value: 0.7376623376623377.\n"
          ]
        },
        {
          "output_type": "stream",
          "name": "stdout",
          "text": [
            "Did not meet early stopping. Best iteration is:\n",
            "[100]\tvalid_0's binary_logloss: 0.0554749\n",
            "Training until validation scores don't improve for 200 rounds\n"
          ]
        },
        {
          "output_type": "stream",
          "name": "stderr",
          "text": [
            "[I 2024-02-25 14:55:52,489] Trial 25 finished with value: 0.7165775401069518 and parameters: {'learning_rate': 0.028303112183673554, 'num_leaves': 55, 'max_depth': 9, 'subsample': 0.6483785780638405, 'colsample_bytree': 0.7390862246041575, 'lambda_l1': 1.6369192021083532, 'lambda_l2': 0.1339356347945361, 'min_child_samples': 82, 'min_child_weight': 0.023944310207472074, 'min_split_gain': 0.039493628378175716}. Best is trial 14 with value: 0.7376623376623377.\n"
          ]
        },
        {
          "output_type": "stream",
          "name": "stdout",
          "text": [
            "Did not meet early stopping. Best iteration is:\n",
            "[100]\tvalid_0's binary_logloss: 0.0584764\n",
            "Training until validation scores don't improve for 200 rounds\n"
          ]
        },
        {
          "output_type": "stream",
          "name": "stderr",
          "text": [
            "[I 2024-02-25 14:55:53,967] Trial 26 finished with value: 0.7300771208226221 and parameters: {'learning_rate': 0.047324470015763745, 'num_leaves': 68, 'max_depth': 9, 'subsample': 0.6453501522269043, 'colsample_bytree': 0.7817508275434027, 'lambda_l1': 0.4190202960119665, 'lambda_l2': 0.7353070020697646, 'min_child_samples': 83, 'min_child_weight': 0.0010452095630546284, 'min_split_gain': 0.04022217753468147}. Best is trial 14 with value: 0.7376623376623377.\n"
          ]
        },
        {
          "output_type": "stream",
          "name": "stdout",
          "text": [
            "Did not meet early stopping. Best iteration is:\n",
            "[100]\tvalid_0's binary_logloss: 0.0537425\n"
          ]
        },
        {
          "output_type": "stream",
          "name": "stderr",
          "text": [
            "[I 2024-02-25 14:55:54,515] Trial 27 finished with value: 0.712401055408971 and parameters: {'learning_rate': 0.049860942948796075, 'num_leaves': 68, 'max_depth': 6, 'subsample': 0.6133246600361045, 'colsample_bytree': 0.7837993075114474, 'lambda_l1': 0.32609492042689814, 'lambda_l2': 0.6500542215800462, 'min_child_samples': 92, 'min_child_weight': 0.001841924187555875, 'min_split_gain': 0.058869362382223275}. Best is trial 14 with value: 0.7376623376623377.\n"
          ]
        },
        {
          "output_type": "stream",
          "name": "stdout",
          "text": [
            "Did not meet early stopping. Best iteration is:\n",
            "[100]\tvalid_0's binary_logloss: 0.054586\n",
            "Training until validation scores don't improve for 200 rounds\n",
            "Training until validation scores don't improve for 200 rounds\n"
          ]
        },
        {
          "output_type": "stream",
          "name": "stderr",
          "text": [
            "[I 2024-02-25 14:55:56,046] Trial 28 finished with value: 0.7127659574468085 and parameters: {'learning_rate': 0.043502566919316595, 'num_leaves': 36, 'max_depth': 6, 'subsample': 0.6132568071756398, 'colsample_bytree': 0.6691793946812515, 'lambda_l1': 0.4496417731212469, 'lambda_l2': 3.3132225166834406, 'min_child_samples': 73, 'min_child_weight': 0.09916864851651173, 'min_split_gain': 0.060619469529569876}. Best is trial 14 with value: 0.7376623376623377.\n"
          ]
        },
        {
          "output_type": "stream",
          "name": "stdout",
          "text": [
            "Did not meet early stopping. Best iteration is:\n",
            "[100]\tvalid_0's binary_logloss: 0.0565951\n"
          ]
        },
        {
          "output_type": "stream",
          "name": "stderr",
          "text": [
            "[I 2024-02-25 14:55:56,793] Trial 29 finished with value: 0.7176781002638523 and parameters: {'learning_rate': 0.04314572814689366, 'num_leaves': 99, 'max_depth': 8, 'subsample': 0.6031978036592079, 'colsample_bytree': 0.7612380796769038, 'lambda_l1': 2.0229597220182747, 'lambda_l2': 3.950566911732222, 'min_child_samples': 76, 'min_child_weight': 0.008759258999629217, 'min_split_gain': 0.025609274108088834}. Best is trial 14 with value: 0.7376623376623377.\n"
          ]
        },
        {
          "output_type": "stream",
          "name": "stdout",
          "text": [
            "Training until validation scores don't improve for 200 rounds\n",
            "Did not meet early stopping. Best iteration is:\n",
            "[100]\tvalid_0's binary_logloss: 0.0559942\n",
            "Training until validation scores don't improve for 200 rounds\n",
            "Did not meet early stopping. Best iteration is:\n",
            "[100]\tvalid_0's binary_logloss: 0.0823982\n"
          ]
        },
        {
          "output_type": "stream",
          "name": "stderr",
          "text": [
            "[I 2024-02-25 14:55:58,836] Trial 30 finished with value: 0.5760517799352751 and parameters: {'learning_rate': 0.010528422688849723, 'num_leaves': 54, 'max_depth': 8, 'subsample': 0.631024508998244, 'colsample_bytree': 0.6060599101305579, 'lambda_l1': 2.1678604015921406, 'lambda_l2': 0.18857234858148672, 'min_child_samples': 74, 'min_child_weight': 0.008392136590750372, 'min_split_gain': 0.07664429992909846}. Best is trial 14 with value: 0.7376623376623377.\n",
            "[I 2024-02-25 14:55:59,587] Trial 31 finished with value: 0.720626631853786 and parameters: {'learning_rate': 0.04659213529754732, 'num_leaves': 56, 'max_depth': 7, 'subsample': 0.6308343735888599, 'colsample_bytree': 0.6163916731679846, 'lambda_l1': 2.575367760461028, 'lambda_l2': 0.04350099944242518, 'min_child_samples': 71, 'min_child_weight': 0.0038051320322310994, 'min_split_gain': 0.0770478281400886}. Best is trial 14 with value: 0.7376623376623377.\n"
          ]
        },
        {
          "output_type": "stream",
          "name": "stdout",
          "text": [
            "Did not meet early stopping. Best iteration is:\n",
            "[100]\tvalid_0's binary_logloss: 0.0557809\n",
            "Training until validation scores don't improve for 200 rounds\n",
            "Training until validation scores don't improve for 200 rounds\n",
            "Did not meet early stopping. Best iteration is:\n",
            "[99]\tvalid_0's binary_logloss: 0.053683\n"
          ]
        },
        {
          "output_type": "stream",
          "name": "stderr",
          "text": [
            "[I 2024-02-25 14:56:03,419] Trial 32 finished with value: 0.7310704960835509 and parameters: {'learning_rate': 0.048419662710199686, 'num_leaves': 78, 'max_depth': 7, 'subsample': 0.60100013064913, 'colsample_bytree': 0.7992487937802693, 'lambda_l1': 0.8886179036920346, 'lambda_l2': 0.040895709307236655, 'min_child_samples': 100, 'min_child_weight': 0.08121525719444876, 'min_split_gain': 0.07604509211018715}. Best is trial 14 with value: 0.7376623376623377.\n"
          ]
        },
        {
          "output_type": "stream",
          "name": "stdout",
          "text": [
            "Did not meet early stopping. Best iteration is:\n",
            "[100]\tvalid_0's binary_logloss: 0.0532041\n"
          ]
        },
        {
          "output_type": "stream",
          "name": "stderr",
          "text": [
            "[I 2024-02-25 14:56:05,135] Trial 33 finished with value: 0.7305699481865285 and parameters: {'learning_rate': 0.04867243075151655, 'num_leaves': 78, 'max_depth': 8, 'subsample': 0.6014718575868567, 'colsample_bytree': 0.7951410935317378, 'lambda_l1': 0.7942783565712164, 'lambda_l2': 0.11047590172149291, 'min_child_samples': 100, 'min_child_weight': 0.07992387584628888, 'min_split_gain': 0.09923925120831789}. Best is trial 14 with value: 0.7376623376623377.\n"
          ]
        },
        {
          "output_type": "stream",
          "name": "stdout",
          "text": [
            "Training until validation scores don't improve for 200 rounds\n",
            "Training until validation scores don't improve for 200 rounds\n"
          ]
        },
        {
          "output_type": "stream",
          "name": "stderr",
          "text": [
            "[I 2024-02-25 14:56:10,009] Trial 34 finished with value: 0.7229551451187335 and parameters: {'learning_rate': 0.039147468392292654, 'num_leaves': 74, 'max_depth': 8, 'subsample': 0.6202894401765423, 'colsample_bytree': 0.7888495634680243, 'lambda_l1': 0.5792068522158456, 'lambda_l2': 0.10735874309927755, 'min_child_samples': 94, 'min_child_weight': 0.04483511557066782, 'min_split_gain': 0.06477414469664353}. Best is trial 14 with value: 0.7376623376623377.\n"
          ]
        },
        {
          "output_type": "stream",
          "name": "stdout",
          "text": [
            "Did not meet early stopping. Best iteration is:\n",
            "[100]\tvalid_0's binary_logloss: 0.0548584\n"
          ]
        },
        {
          "output_type": "stream",
          "name": "stderr",
          "text": [
            "[I 2024-02-25 14:56:10,847] Trial 35 finished with value: 0.7239583333333334 and parameters: {'learning_rate': 0.03931059880877699, 'num_leaves': 74, 'max_depth': 8, 'subsample': 0.6224072002422278, 'colsample_bytree': 0.7912200517572958, 'lambda_l1': 1.3050932365437844, 'lambda_l2': 0.2310179400305347, 'min_child_samples': 94, 'min_child_weight': 0.05069280703767267, 'min_split_gain': 0.046438594770044396}. Best is trial 14 with value: 0.7376623376623377.\n"
          ]
        },
        {
          "output_type": "stream",
          "name": "stdout",
          "text": [
            "Did not meet early stopping. Best iteration is:\n",
            "[100]\tvalid_0's binary_logloss: 0.0553981\n",
            "Training until validation scores don't improve for 200 rounds\n",
            "Training until validation scores don't improve for 200 rounds\n"
          ]
        },
        {
          "output_type": "stream",
          "name": "stderr",
          "text": [
            "[I 2024-02-25 14:56:13,705] Trial 36 finished with value: 0.7244094488188977 and parameters: {'learning_rate': 0.04560422502247303, 'num_leaves': 85, 'max_depth': 7, 'subsample': 0.6392863497713817, 'colsample_bytree': 0.768574983442659, 'lambda_l1': 5.224063789410734, 'lambda_l2': 0.19537355252424296, 'min_child_samples': 85, 'min_child_weight': 0.03158370397866047, 'min_split_gain': 0.04705447048154854}. Best is trial 14 with value: 0.7376623376623377.\n"
          ]
        },
        {
          "output_type": "stream",
          "name": "stdout",
          "text": [
            "Did not meet early stopping. Best iteration is:\n",
            "[100]\tvalid_0's binary_logloss: 0.0561081\n"
          ]
        },
        {
          "output_type": "stream",
          "name": "stderr",
          "text": [
            "[I 2024-02-25 14:56:14,757] Trial 37 finished with value: 0.7225130890052356 and parameters: {'learning_rate': 0.044418389082923074, 'num_leaves': 88, 'max_depth': 7, 'subsample': 0.7248374257317834, 'colsample_bytree': 0.7686160463451668, 'lambda_l1': 0.20426733550414625, 'lambda_l2': 0.44887021030079366, 'min_child_samples': 84, 'min_child_weight': 0.012407009276990996, 'min_split_gain': 0.05466818119666243}. Best is trial 14 with value: 0.7376623376623377.\n"
          ]
        },
        {
          "output_type": "stream",
          "name": "stdout",
          "text": [
            "Did not meet early stopping. Best iteration is:\n",
            "[100]\tvalid_0's binary_logloss: 0.0545234\n",
            "Training until validation scores don't improve for 200 rounds\n",
            "Training until validation scores don't improve for 200 rounds\n",
            "Did not meet early stopping. Best iteration is:\n",
            "[100]\tvalid_0's binary_logloss: 0.0533898\n"
          ]
        },
        {
          "output_type": "stream",
          "name": "stderr",
          "text": [
            "[I 2024-02-25 14:56:18,503] Trial 38 finished with value: 0.7329842931937173 and parameters: {'learning_rate': 0.04407689459696748, 'num_leaves': 93, 'max_depth': 9, 'subsample': 0.7241498835885691, 'colsample_bytree': 0.7460331347264817, 'lambda_l1': 0.22940531253853144, 'lambda_l2': 0.4745921813908742, 'min_child_samples': 56, 'min_child_weight': 0.017245899691010654, 'min_split_gain': 0.03415130300543523}. Best is trial 14 with value: 0.7376623376623377.\n",
            "[I 2024-02-25 14:56:19,998] Trial 39 finished with value: 0.707774798927614 and parameters: {'learning_rate': 0.03622657758837613, 'num_leaves': 94, 'max_depth': 9, 'subsample': 0.6880147043373063, 'colsample_bytree': 0.7487006150685528, 'lambda_l1': 5.438083838851343, 'lambda_l2': 1.1430686893158748, 'min_child_samples': 55, 'min_child_weight': 0.016507510183083024, 'min_split_gain': 0.03156125954929841}. Best is trial 14 with value: 0.7376623376623377.\n"
          ]
        },
        {
          "output_type": "stream",
          "name": "stdout",
          "text": [
            "Did not meet early stopping. Best iteration is:\n",
            "[100]\tvalid_0's binary_logloss: 0.0574744\n",
            "Training until validation scores don't improve for 200 rounds\n",
            "Training until validation scores don't improve for 200 rounds\n"
          ]
        },
        {
          "output_type": "stream",
          "name": "stderr",
          "text": [
            "[I 2024-02-25 14:56:25,103] Trial 40 finished with value: 0.7157894736842105 and parameters: {'learning_rate': 0.036456277818288856, 'num_leaves': 97, 'max_depth': 9, 'subsample': 0.7430534945386387, 'colsample_bytree': 0.7464797878923557, 'lambda_l1': 0.0977282171015212, 'lambda_l2': 0.011129249678997937, 'min_child_samples': 53, 'min_child_weight': 0.005562267829945909, 'min_split_gain': 0.0343425444908564}. Best is trial 14 with value: 0.7376623376623377.\n"
          ]
        },
        {
          "output_type": "stream",
          "name": "stdout",
          "text": [
            "Did not meet early stopping. Best iteration is:\n",
            "[100]\tvalid_0's binary_logloss: 0.0544369\n"
          ]
        },
        {
          "output_type": "stream",
          "name": "stderr",
          "text": [
            "[I 2024-02-25 14:56:26,164] Trial 41 finished with value: 0.7214854111405835 and parameters: {'learning_rate': 0.035004374784816335, 'num_leaves': 96, 'max_depth': 10, 'subsample': 0.7440775933617269, 'colsample_bytree': 0.710949890784865, 'lambda_l1': 0.10392542016071743, 'lambda_l2': 0.49670353864704925, 'min_child_samples': 60, 'min_child_weight': 0.004646157445955134, 'min_split_gain': 0.03192963091411936}. Best is trial 14 with value: 0.7376623376623377.\n"
          ]
        },
        {
          "output_type": "stream",
          "name": "stdout",
          "text": [
            "Did not meet early stopping. Best iteration is:\n",
            "[100]\tvalid_0's binary_logloss: 0.0550965\n",
            "Training until validation scores don't improve for 200 rounds\n",
            "Training until validation scores don't improve for 200 rounds\n"
          ]
        },
        {
          "output_type": "stream",
          "name": "stderr",
          "text": [
            "[I 2024-02-25 14:56:29,173] Trial 42 finished with value: 0.7235142118863049 and parameters: {'learning_rate': 0.04721338014428569, 'num_leaves': 92, 'max_depth': 10, 'subsample': 0.7234009877266389, 'colsample_bytree': 0.7201593512446461, 'lambda_l1': 0.49407919394918315, 'lambda_l2': 0.490603190142048, 'min_child_samples': 62, 'min_child_weight': 0.06411496031648453, 'min_split_gain': 0.020283523615575567}. Best is trial 14 with value: 0.7376623376623377.\n"
          ]
        },
        {
          "output_type": "stream",
          "name": "stdout",
          "text": [
            "Did not meet early stopping. Best iteration is:\n",
            "[100]\tvalid_0's binary_logloss: 0.054307\n"
          ]
        },
        {
          "output_type": "stream",
          "name": "stderr",
          "text": [
            "[I 2024-02-25 14:56:29,663] Trial 43 finished with value: 0.6834733893557423 and parameters: {'learning_rate': 0.0205271577086406, 'num_leaves': 83, 'max_depth': 9, 'subsample': 0.7028166327484391, 'colsample_bytree': 0.726872392713793, 'lambda_l1': 0.48316245405782654, 'lambda_l2': 0.224204814612685, 'min_child_samples': 44, 'min_child_weight': 0.03177227969496453, 'min_split_gain': 0.01984307527055646}. Best is trial 14 with value: 0.7376623376623377.\n"
          ]
        },
        {
          "output_type": "stream",
          "name": "stdout",
          "text": [
            "Did not meet early stopping. Best iteration is:\n",
            "[100]\tvalid_0's binary_logloss: 0.0624561\n",
            "Training until validation scores don't improve for 200 rounds\n",
            "Training until validation scores don't improve for 200 rounds\n"
          ]
        },
        {
          "output_type": "stream",
          "name": "stderr",
          "text": [
            "[I 2024-02-25 14:56:31,728] Trial 44 finished with value: 0.6958904109589041 and parameters: {'learning_rate': 0.025266264677949884, 'num_leaves': 81, 'max_depth': 8, 'subsample': 0.7005667961714667, 'colsample_bytree': 0.7806584361281798, 'lambda_l1': 0.016377981734356457, 'lambda_l2': 0.24623744018760582, 'min_child_samples': 47, 'min_child_weight': 0.09860313828849394, 'min_split_gain': 0.08250326295453903}. Best is trial 14 with value: 0.7376623376623377.\n"
          ]
        },
        {
          "output_type": "stream",
          "name": "stdout",
          "text": [
            "Did not meet early stopping. Best iteration is:\n",
            "[100]\tvalid_0's binary_logloss: 0.058831\n"
          ]
        },
        {
          "output_type": "stream",
          "name": "stderr",
          "text": [
            "[I 2024-02-25 14:56:31,975] Trial 45 finished with value: 0.7161803713527851 and parameters: {'learning_rate': 0.040471948820894714, 'num_leaves': 65, 'max_depth': 8, 'subsample': 0.6087976985605118, 'colsample_bytree': 0.7037486683178172, 'lambda_l1': 0.2503714021500225, 'lambda_l2': 0.14755957431646488, 'min_child_samples': 51, 'min_child_weight': 0.017782181677268916, 'min_split_gain': 0.0680829296977791}. Best is trial 14 with value: 0.7376623376623377.\n"
          ]
        },
        {
          "output_type": "stream",
          "name": "stdout",
          "text": [
            "Did not meet early stopping. Best iteration is:\n",
            "[100]\tvalid_0's binary_logloss: 0.0539931\n",
            "Training until validation scores don't improve for 200 rounds\n",
            "Training until validation scores don't improve for 200 rounds\n"
          ]
        },
        {
          "output_type": "stream",
          "name": "stderr",
          "text": [
            "[I 2024-02-25 14:56:33,971] Trial 46 finished with value: 0.7176781002638523 and parameters: {'learning_rate': 0.04043155436717637, 'num_leaves': 63, 'max_depth': 8, 'subsample': 0.769803264898579, 'colsample_bytree': 0.7006919835072295, 'lambda_l1': 0.24764453041093684, 'lambda_l2': 0.08421423734848663, 'min_child_samples': 96, 'min_child_weight': 0.018958580337397214, 'min_split_gain': 0.07158768699023489}. Best is trial 14 with value: 0.7376623376623377.\n"
          ]
        },
        {
          "output_type": "stream",
          "name": "stdout",
          "text": [
            "Did not meet early stopping. Best iteration is:\n",
            "[100]\tvalid_0's binary_logloss: 0.0543929\n"
          ]
        },
        {
          "output_type": "stream",
          "name": "stderr",
          "text": [
            "[I 2024-02-25 14:56:34,533] Trial 47 finished with value: 0.7286821705426356 and parameters: {'learning_rate': 0.04282220610327772, 'num_leaves': 49, 'max_depth': 9, 'subsample': 0.7155693064243253, 'colsample_bytree': 0.757667748113999, 'lambda_l1': 0.9886111166516097, 'lambda_l2': 0.061654828093919936, 'min_child_samples': 96, 'min_child_weight': 0.06699786422639904, 'min_split_gain': 0.062054499728868916}. Best is trial 14 with value: 0.7376623376623377.\n"
          ]
        },
        {
          "output_type": "stream",
          "name": "stdout",
          "text": [
            "Did not meet early stopping. Best iteration is:\n",
            "[100]\tvalid_0's binary_logloss: 0.0542953\n",
            "Training until validation scores don't improve for 200 rounds\n",
            "Training until validation scores don't improve for 200 rounds\n"
          ]
        },
        {
          "output_type": "stream",
          "name": "stderr",
          "text": [
            "[I 2024-02-25 14:56:38,731] Trial 48 finished with value: 0.734375 and parameters: {'learning_rate': 0.04273076116849866, 'num_leaves': 90, 'max_depth': 9, 'subsample': 0.7598576587616284, 'colsample_bytree': 0.7606659558821265, 'lambda_l1': 1.0874156814379903, 'lambda_l2': 1.0056588143845384, 'min_child_samples': 67, 'min_child_weight': 0.07844552870495525, 'min_split_gain': 0.06261224864303536}. Best is trial 14 with value: 0.7376623376623377.\n"
          ]
        },
        {
          "output_type": "stream",
          "name": "stdout",
          "text": [
            "Did not meet early stopping. Best iteration is:\n",
            "[100]\tvalid_0's binary_logloss: 0.0545154\n"
          ]
        },
        {
          "output_type": "stream",
          "name": "stderr",
          "text": [
            "[I 2024-02-25 14:56:39,041] Trial 49 finished with value: 0.7029972752043597 and parameters: {'learning_rate': 0.030972469670854173, 'num_leaves': 91, 'max_depth': 7, 'subsample': 0.7647505000875018, 'colsample_bytree': 0.7316518725203243, 'lambda_l1': 0.7125925601632525, 'lambda_l2': 1.461141854414604, 'min_child_samples': 90, 'min_child_weight': 0.08467815245241889, 'min_split_gain': 0.05651448758997803}. Best is trial 14 with value: 0.7376623376623377.\n"
          ]
        },
        {
          "output_type": "stream",
          "name": "stdout",
          "text": [
            "Did not meet early stopping. Best iteration is:\n",
            "[100]\tvalid_0's binary_logloss: 0.0582748\n",
            "Number of finished trials: 50\n",
            "Best trial: {'learning_rate': 0.043764874204006314, 'num_leaves': 82, 'max_depth': 8, 'subsample': 0.6021087691247893, 'colsample_bytree': 0.7972649657831353, 'lambda_l1': 0.8594887724784808, 'lambda_l2': 0.30032736521619663, 'min_child_samples': 100, 'min_child_weight': 0.09176485807033641, 'min_split_gain': 0.0654624174115529}\n"
          ]
        }
      ]
    },
    {
      "cell_type": "code",
      "source": [
        "from sklearn.model_selection import StratifiedKFold\n",
        "from lightgbm import LGBMClassifier, early_stopping\n",
        "from sklearn.metrics import f1_score\n",
        "\n",
        "folds = StratifiedKFold(n_splits=5, shuffle=True, random_state=0)\n",
        "\n",
        "oof_lgb_val_preds = np.zeros(X_train.shape[0])\n",
        "oof_lgb_test_preds = np.zeros(X_test.shape[0])\n",
        "\n",
        "params = study1.best_trial.params\n",
        "\n",
        "f1_score_lgb_list=[]\n",
        "feature_importance_lgb_list=[]\n",
        "\n",
        "for idx, (train_idx, valid_idx) in enumerate(folds.split(X_train, y_train)):\n",
        "    print('#'*40, f'폴드{idx+1} / 폴드{folds.n_splits}', \"#\"*40)\n",
        "    X_tr, y_tr = X_train.iloc[train_idx], y_train.iloc[train_idx]\n",
        "    X_val, y_val = X_train.iloc[valid_idx], y_train.iloc[valid_idx]\n",
        "    lgb_model = LGBMClassifier(**params, verbosity=-1)\n",
        "    lgb_model.fit(X_tr, y_tr, eval_set=[(X_val, y_val)], eval_metric='f1', callbacks=[early_stopping(stopping_rounds=200)])\n",
        "\n",
        "    oof_lgb_test_preds += lgb_model.predict_proba(X_test)[:,1] / folds.get_n_splits()\n",
        "    oof_lgb_val_preds[valid_idx] += lgb_model.predict_proba(X_val)[:,1]\n",
        "\n",
        "    f1 = f1_score(y_val, np.where(oof_lgb_val_preds[valid_idx]> 0.5, 1, 0))\n",
        "    f1_score_lgb_list.append(f1)\n",
        "    print(f'폴드 {idx+1} f1 score: {f1}\\n')\n",
        "\n",
        "    feature_importance_lgb_list.append(lgb_model.feature_importances_)\n",
        "\n",
        "print(f'검증 평균 f1 score: {np.mean(f1_score_lgb_list)}')"
      ],
      "metadata": {
        "colab": {
          "base_uri": "https://localhost:8080/"
        },
        "id": "raL57OtdvP01",
        "outputId": "763a6f29-ffda-405a-d916-4ac7a62eeb9b"
      },
      "execution_count": null,
      "outputs": [
        {
          "output_type": "stream",
          "name": "stdout",
          "text": [
            "######################################## 폴드1 / 폴드5 ########################################\n",
            "Training until validation scores don't improve for 200 rounds\n",
            "Did not meet early stopping. Best iteration is:\n",
            "[100]\tvalid_0's binary_logloss: 0.0562869\n",
            "폴드 1 f1 score: 0.6979166666666666\n",
            "\n",
            "######################################## 폴드2 / 폴드5 ########################################\n",
            "Training until validation scores don't improve for 200 rounds\n",
            "Did not meet early stopping. Best iteration is:\n",
            "[100]\tvalid_0's binary_logloss: 0.0597794\n",
            "폴드 2 f1 score: 0.6956521739130435\n",
            "\n",
            "######################################## 폴드3 / 폴드5 ########################################\n",
            "Training until validation scores don't improve for 200 rounds\n",
            "Did not meet early stopping. Best iteration is:\n",
            "[100]\tvalid_0's binary_logloss: 0.0562693\n",
            "폴드 3 f1 score: 0.717741935483871\n",
            "\n",
            "######################################## 폴드4 / 폴드5 ########################################\n",
            "Training until validation scores don't improve for 200 rounds\n",
            "Did not meet early stopping. Best iteration is:\n",
            "[100]\tvalid_0's binary_logloss: 0.058908\n",
            "폴드 4 f1 score: 0.6756756756756757\n",
            "\n",
            "######################################## 폴드5 / 폴드5 ########################################\n",
            "Training until validation scores don't improve for 200 rounds\n",
            "Did not meet early stopping. Best iteration is:\n",
            "[100]\tvalid_0's binary_logloss: 0.0546177\n",
            "폴드 5 f1 score: 0.6923076923076923\n",
            "\n",
            "검증 평균 f1 score: 0.6958588288093898\n"
          ]
        }
      ]
    },
    {
      "cell_type": "code",
      "source": [
        "import optuna\n",
        "from sklearn.metrics import f1_score\n",
        "from catboost import CatBoostClassifier, Pool\n",
        "from sklearn.model_selection import StratifiedKFold\n",
        "import numpy as np\n",
        "\n",
        "def objective(trial):\n",
        "    param = {\n",
        "        'objective': 'Logloss',  # Objective function for binary classification\n",
        "        'eval_metric': 'Logloss',  # Metric for evaluation\n",
        "        'learning_rate': trial.suggest_float('learning_rate', 0.01, 0.05),  # Adjust learning rate\n",
        "        'depth': trial.suggest_int('depth', 4, 10),  # Depth of trees\n",
        "        'l2_leaf_reg': trial.suggest_float('l2_leaf_reg', 1, 10),  # L2 regularization term\n",
        "        'border_count': trial.suggest_int('border_count', 50, 200),  # Number of splits for numerical features\n",
        "        'bagging_temperature': trial.suggest_float('bagging_temperature', 0, 1),  # Bagging temperature for Bayesian bootstrap\n",
        "        'random_strength': trial.suggest_float('random_strength', 1e-9, 10, log=True),  # Random strength for scoring splits\n",
        "        'min_data_in_leaf': trial.suggest_int('min_data_in_leaf', 1, 100),  # Minimum sum of instance weight needed in a leaf\n",
        "        'leaf_estimation_iterations': trial.suggest_int('leaf_estimation_iterations', 1, 10),  # Number of steps in the gradient descent\n",
        "        'bootstrap_type': 'Bayesian',  # Bootstrap type\n",
        "        'random_seed': 0,  # Random seed for reproducibility\n",
        "        'verbose': False,  # Turn off verbose output\n",
        "        'thread_count': -1  # Use all available threads\n",
        "    }\n",
        "\n",
        "    f1_scores = []\n",
        "\n",
        "    train_pool = Pool(X_tr_op, y_tr_op)\n",
        "    validate_pool = Pool(X_val_op, y_val_op)\n",
        "\n",
        "    cat_model = CatBoostClassifier(**param)\n",
        "    cat_model.fit(train_pool, eval_set=validate_pool, early_stopping_rounds=200, use_best_model=True)\n",
        "\n",
        "    threshold = 0.5  # Appropriate threshold adjustment\n",
        "    preds_proba = cat_model.predict_proba(X_val_op)[:, 1]  # Get probabilities for class 1\n",
        "    preds = (preds_proba > threshold).astype(int)  # Convert to binary class based on threshold\n",
        "\n",
        "    f1 = f1_score(y_val_op, preds)\n",
        "    f1_scores.append(f1)\n",
        "\n",
        "    return np.mean(f1_scores)\n",
        "\n",
        "study2 = optuna.create_study(direction='maximize')\n",
        "study2.optimize(objective, n_trials=20, n_jobs=-1)  # Adjust the number of trials as needed\n",
        "\n",
        "print('Number of finished trials:', len(study2.trials))\n",
        "print('Best trial:', study2.best_trial.params)"
      ],
      "metadata": {
        "colab": {
          "base_uri": "https://localhost:8080/",
          "height": 534
        },
        "id": "OC3jSaWPw_rR",
        "outputId": "c7f8b04d-27a2-486c-e90e-c613fea85350"
      },
      "execution_count": null,
      "outputs": [
        {
          "output_type": "stream",
          "name": "stderr",
          "text": [
            "[I 2024-02-25 14:57:09,949] A new study created in memory with name: no-name-20b03878-a73c-41cc-95ad-b3e87b424473\n"
          ]
        },
        {
          "output_type": "error",
          "ename": "KeyboardInterrupt",
          "evalue": "",
          "traceback": [
            "\u001b[0;31m---------------------------------------------------------------------------\u001b[0m",
            "\u001b[0;31mKeyboardInterrupt\u001b[0m                         Traceback (most recent call last)",
            "\u001b[0;32m/usr/local/lib/python3.10/dist-packages/optuna/study/_optimize.py\u001b[0m in \u001b[0;36m_optimize\u001b[0;34m(study, func, n_trials, timeout, n_jobs, catch, callbacks, gc_after_trial, show_progress_bar)\u001b[0m\n\u001b[1;32m     99\u001b[0m                     \u001b[0;32mif\u001b[0m \u001b[0mlen\u001b[0m\u001b[0;34m(\u001b[0m\u001b[0mfutures\u001b[0m\u001b[0;34m)\u001b[0m \u001b[0;34m>=\u001b[0m \u001b[0mn_jobs\u001b[0m\u001b[0;34m:\u001b[0m\u001b[0;34m\u001b[0m\u001b[0;34m\u001b[0m\u001b[0m\n\u001b[0;32m--> 100\u001b[0;31m                         \u001b[0mcompleted\u001b[0m\u001b[0;34m,\u001b[0m \u001b[0mfutures\u001b[0m \u001b[0;34m=\u001b[0m \u001b[0mwait\u001b[0m\u001b[0;34m(\u001b[0m\u001b[0mfutures\u001b[0m\u001b[0;34m,\u001b[0m \u001b[0mreturn_when\u001b[0m\u001b[0;34m=\u001b[0m\u001b[0mFIRST_COMPLETED\u001b[0m\u001b[0;34m)\u001b[0m\u001b[0;34m\u001b[0m\u001b[0;34m\u001b[0m\u001b[0m\n\u001b[0m\u001b[1;32m    101\u001b[0m                         \u001b[0;31m# Raise if exception occurred in executing the completed futures.\u001b[0m\u001b[0;34m\u001b[0m\u001b[0;34m\u001b[0m\u001b[0m\n",
            "\u001b[0;32m/usr/lib/python3.10/concurrent/futures/_base.py\u001b[0m in \u001b[0;36mwait\u001b[0;34m(fs, timeout, return_when)\u001b[0m\n\u001b[1;32m    306\u001b[0m \u001b[0;34m\u001b[0m\u001b[0m\n\u001b[0;32m--> 307\u001b[0;31m     \u001b[0mwaiter\u001b[0m\u001b[0;34m.\u001b[0m\u001b[0mevent\u001b[0m\u001b[0;34m.\u001b[0m\u001b[0mwait\u001b[0m\u001b[0;34m(\u001b[0m\u001b[0mtimeout\u001b[0m\u001b[0;34m)\u001b[0m\u001b[0;34m\u001b[0m\u001b[0;34m\u001b[0m\u001b[0m\n\u001b[0m\u001b[1;32m    308\u001b[0m     \u001b[0;32mfor\u001b[0m \u001b[0mf\u001b[0m \u001b[0;32min\u001b[0m \u001b[0mfs\u001b[0m\u001b[0;34m:\u001b[0m\u001b[0;34m\u001b[0m\u001b[0;34m\u001b[0m\u001b[0m\n",
            "\u001b[0;32m/usr/lib/python3.10/threading.py\u001b[0m in \u001b[0;36mwait\u001b[0;34m(self, timeout)\u001b[0m\n\u001b[1;32m    606\u001b[0m             \u001b[0;32mif\u001b[0m \u001b[0;32mnot\u001b[0m \u001b[0msignaled\u001b[0m\u001b[0;34m:\u001b[0m\u001b[0;34m\u001b[0m\u001b[0;34m\u001b[0m\u001b[0m\n\u001b[0;32m--> 607\u001b[0;31m                 \u001b[0msignaled\u001b[0m \u001b[0;34m=\u001b[0m \u001b[0mself\u001b[0m\u001b[0;34m.\u001b[0m\u001b[0m_cond\u001b[0m\u001b[0;34m.\u001b[0m\u001b[0mwait\u001b[0m\u001b[0;34m(\u001b[0m\u001b[0mtimeout\u001b[0m\u001b[0;34m)\u001b[0m\u001b[0;34m\u001b[0m\u001b[0;34m\u001b[0m\u001b[0m\n\u001b[0m\u001b[1;32m    608\u001b[0m             \u001b[0;32mreturn\u001b[0m \u001b[0msignaled\u001b[0m\u001b[0;34m\u001b[0m\u001b[0;34m\u001b[0m\u001b[0m\n",
            "\u001b[0;32m/usr/lib/python3.10/threading.py\u001b[0m in \u001b[0;36mwait\u001b[0;34m(self, timeout)\u001b[0m\n\u001b[1;32m    319\u001b[0m             \u001b[0;32mif\u001b[0m \u001b[0mtimeout\u001b[0m \u001b[0;32mis\u001b[0m \u001b[0;32mNone\u001b[0m\u001b[0;34m:\u001b[0m\u001b[0;34m\u001b[0m\u001b[0;34m\u001b[0m\u001b[0m\n\u001b[0;32m--> 320\u001b[0;31m                 \u001b[0mwaiter\u001b[0m\u001b[0;34m.\u001b[0m\u001b[0macquire\u001b[0m\u001b[0;34m(\u001b[0m\u001b[0;34m)\u001b[0m\u001b[0;34m\u001b[0m\u001b[0;34m\u001b[0m\u001b[0m\n\u001b[0m\u001b[1;32m    321\u001b[0m                 \u001b[0mgotit\u001b[0m \u001b[0;34m=\u001b[0m \u001b[0;32mTrue\u001b[0m\u001b[0;34m\u001b[0m\u001b[0;34m\u001b[0m\u001b[0m\n",
            "\u001b[0;31mKeyboardInterrupt\u001b[0m: ",
            "\nDuring handling of the above exception, another exception occurred:\n",
            "\u001b[0;31mKeyboardInterrupt\u001b[0m                         Traceback (most recent call last)",
            "\u001b[0;32m<ipython-input-321-4a43a56e18f5>\u001b[0m in \u001b[0;36m<cell line: 43>\u001b[0;34m()\u001b[0m\n\u001b[1;32m     41\u001b[0m \u001b[0;34m\u001b[0m\u001b[0m\n\u001b[1;32m     42\u001b[0m \u001b[0mstudy2\u001b[0m \u001b[0;34m=\u001b[0m \u001b[0moptuna\u001b[0m\u001b[0;34m.\u001b[0m\u001b[0mcreate_study\u001b[0m\u001b[0;34m(\u001b[0m\u001b[0mdirection\u001b[0m\u001b[0;34m=\u001b[0m\u001b[0;34m'maximize'\u001b[0m\u001b[0;34m)\u001b[0m\u001b[0;34m\u001b[0m\u001b[0;34m\u001b[0m\u001b[0m\n\u001b[0;32m---> 43\u001b[0;31m \u001b[0mstudy2\u001b[0m\u001b[0;34m.\u001b[0m\u001b[0moptimize\u001b[0m\u001b[0;34m(\u001b[0m\u001b[0mobjective\u001b[0m\u001b[0;34m,\u001b[0m \u001b[0mn_trials\u001b[0m\u001b[0;34m=\u001b[0m\u001b[0;36m20\u001b[0m\u001b[0;34m,\u001b[0m \u001b[0mn_jobs\u001b[0m\u001b[0;34m=\u001b[0m\u001b[0;34m-\u001b[0m\u001b[0;36m1\u001b[0m\u001b[0;34m)\u001b[0m  \u001b[0;31m# Adjust the number of trials as needed\u001b[0m\u001b[0;34m\u001b[0m\u001b[0;34m\u001b[0m\u001b[0m\n\u001b[0m\u001b[1;32m     44\u001b[0m \u001b[0;34m\u001b[0m\u001b[0m\n\u001b[1;32m     45\u001b[0m \u001b[0mprint\u001b[0m\u001b[0;34m(\u001b[0m\u001b[0;34m'Number of finished trials:'\u001b[0m\u001b[0;34m,\u001b[0m \u001b[0mlen\u001b[0m\u001b[0;34m(\u001b[0m\u001b[0mstudy2\u001b[0m\u001b[0;34m.\u001b[0m\u001b[0mtrials\u001b[0m\u001b[0;34m)\u001b[0m\u001b[0;34m)\u001b[0m\u001b[0;34m\u001b[0m\u001b[0;34m\u001b[0m\u001b[0m\n",
            "\u001b[0;32m/usr/local/lib/python3.10/dist-packages/optuna/study/study.py\u001b[0m in \u001b[0;36moptimize\u001b[0;34m(self, func, n_trials, timeout, n_jobs, catch, callbacks, gc_after_trial, show_progress_bar)\u001b[0m\n\u001b[1;32m    449\u001b[0m                 \u001b[0mIf\u001b[0m \u001b[0mnested\u001b[0m \u001b[0minvocation\u001b[0m \u001b[0mof\u001b[0m \u001b[0mthis\u001b[0m \u001b[0mmethod\u001b[0m \u001b[0moccurs\u001b[0m\u001b[0;34m.\u001b[0m\u001b[0;34m\u001b[0m\u001b[0;34m\u001b[0m\u001b[0m\n\u001b[1;32m    450\u001b[0m         \"\"\"\n\u001b[0;32m--> 451\u001b[0;31m         _optimize(\n\u001b[0m\u001b[1;32m    452\u001b[0m             \u001b[0mstudy\u001b[0m\u001b[0;34m=\u001b[0m\u001b[0mself\u001b[0m\u001b[0;34m,\u001b[0m\u001b[0;34m\u001b[0m\u001b[0;34m\u001b[0m\u001b[0m\n\u001b[1;32m    453\u001b[0m             \u001b[0mfunc\u001b[0m\u001b[0;34m=\u001b[0m\u001b[0mfunc\u001b[0m\u001b[0;34m,\u001b[0m\u001b[0;34m\u001b[0m\u001b[0;34m\u001b[0m\u001b[0m\n",
            "\u001b[0;32m/usr/local/lib/python3.10/dist-packages/optuna/study/_optimize.py\u001b[0m in \u001b[0;36m_optimize\u001b[0;34m(study, func, n_trials, timeout, n_jobs, catch, callbacks, gc_after_trial, show_progress_bar)\u001b[0m\n\u001b[1;32m     83\u001b[0m             \u001b[0mfutures\u001b[0m\u001b[0;34m:\u001b[0m \u001b[0mSet\u001b[0m\u001b[0;34m[\u001b[0m\u001b[0mFuture\u001b[0m\u001b[0;34m]\u001b[0m \u001b[0;34m=\u001b[0m \u001b[0mset\u001b[0m\u001b[0;34m(\u001b[0m\u001b[0;34m)\u001b[0m\u001b[0;34m\u001b[0m\u001b[0;34m\u001b[0m\u001b[0m\n\u001b[1;32m     84\u001b[0m \u001b[0;34m\u001b[0m\u001b[0m\n\u001b[0;32m---> 85\u001b[0;31m             \u001b[0;32mwith\u001b[0m \u001b[0mThreadPoolExecutor\u001b[0m\u001b[0;34m(\u001b[0m\u001b[0mmax_workers\u001b[0m\u001b[0;34m=\u001b[0m\u001b[0mn_jobs\u001b[0m\u001b[0;34m)\u001b[0m \u001b[0;32mas\u001b[0m \u001b[0mexecutor\u001b[0m\u001b[0;34m:\u001b[0m\u001b[0;34m\u001b[0m\u001b[0;34m\u001b[0m\u001b[0m\n\u001b[0m\u001b[1;32m     86\u001b[0m                 \u001b[0;32mfor\u001b[0m \u001b[0mn_submitted_trials\u001b[0m \u001b[0;32min\u001b[0m \u001b[0mitertools\u001b[0m\u001b[0;34m.\u001b[0m\u001b[0mcount\u001b[0m\u001b[0;34m(\u001b[0m\u001b[0;34m)\u001b[0m\u001b[0;34m:\u001b[0m\u001b[0;34m\u001b[0m\u001b[0;34m\u001b[0m\u001b[0m\n\u001b[1;32m     87\u001b[0m                     \u001b[0;32mif\u001b[0m \u001b[0mstudy\u001b[0m\u001b[0;34m.\u001b[0m\u001b[0m_stop_flag\u001b[0m\u001b[0;34m:\u001b[0m\u001b[0;34m\u001b[0m\u001b[0;34m\u001b[0m\u001b[0m\n",
            "\u001b[0;32m/usr/lib/python3.10/concurrent/futures/_base.py\u001b[0m in \u001b[0;36m__exit__\u001b[0;34m(self, exc_type, exc_val, exc_tb)\u001b[0m\n\u001b[1;32m    647\u001b[0m \u001b[0;34m\u001b[0m\u001b[0m\n\u001b[1;32m    648\u001b[0m     \u001b[0;32mdef\u001b[0m \u001b[0m__exit__\u001b[0m\u001b[0;34m(\u001b[0m\u001b[0mself\u001b[0m\u001b[0;34m,\u001b[0m \u001b[0mexc_type\u001b[0m\u001b[0;34m,\u001b[0m \u001b[0mexc_val\u001b[0m\u001b[0;34m,\u001b[0m \u001b[0mexc_tb\u001b[0m\u001b[0;34m)\u001b[0m\u001b[0;34m:\u001b[0m\u001b[0;34m\u001b[0m\u001b[0;34m\u001b[0m\u001b[0m\n\u001b[0;32m--> 649\u001b[0;31m         \u001b[0mself\u001b[0m\u001b[0;34m.\u001b[0m\u001b[0mshutdown\u001b[0m\u001b[0;34m(\u001b[0m\u001b[0mwait\u001b[0m\u001b[0;34m=\u001b[0m\u001b[0;32mTrue\u001b[0m\u001b[0;34m)\u001b[0m\u001b[0;34m\u001b[0m\u001b[0;34m\u001b[0m\u001b[0m\n\u001b[0m\u001b[1;32m    650\u001b[0m         \u001b[0;32mreturn\u001b[0m \u001b[0;32mFalse\u001b[0m\u001b[0;34m\u001b[0m\u001b[0;34m\u001b[0m\u001b[0m\n\u001b[1;32m    651\u001b[0m \u001b[0;34m\u001b[0m\u001b[0m\n",
            "\u001b[0;32m/usr/lib/python3.10/concurrent/futures/thread.py\u001b[0m in \u001b[0;36mshutdown\u001b[0;34m(self, wait, cancel_futures)\u001b[0m\n\u001b[1;32m    233\u001b[0m         \u001b[0;32mif\u001b[0m \u001b[0mwait\u001b[0m\u001b[0;34m:\u001b[0m\u001b[0;34m\u001b[0m\u001b[0;34m\u001b[0m\u001b[0m\n\u001b[1;32m    234\u001b[0m             \u001b[0;32mfor\u001b[0m \u001b[0mt\u001b[0m \u001b[0;32min\u001b[0m \u001b[0mself\u001b[0m\u001b[0;34m.\u001b[0m\u001b[0m_threads\u001b[0m\u001b[0;34m:\u001b[0m\u001b[0;34m\u001b[0m\u001b[0;34m\u001b[0m\u001b[0m\n\u001b[0;32m--> 235\u001b[0;31m                 \u001b[0mt\u001b[0m\u001b[0;34m.\u001b[0m\u001b[0mjoin\u001b[0m\u001b[0;34m(\u001b[0m\u001b[0;34m)\u001b[0m\u001b[0;34m\u001b[0m\u001b[0;34m\u001b[0m\u001b[0m\n\u001b[0m\u001b[1;32m    236\u001b[0m     \u001b[0mshutdown\u001b[0m\u001b[0;34m.\u001b[0m\u001b[0m__doc__\u001b[0m \u001b[0;34m=\u001b[0m \u001b[0m_base\u001b[0m\u001b[0;34m.\u001b[0m\u001b[0mExecutor\u001b[0m\u001b[0;34m.\u001b[0m\u001b[0mshutdown\u001b[0m\u001b[0;34m.\u001b[0m\u001b[0m__doc__\u001b[0m\u001b[0;34m\u001b[0m\u001b[0;34m\u001b[0m\u001b[0m\n",
            "\u001b[0;32m/usr/lib/python3.10/threading.py\u001b[0m in \u001b[0;36mjoin\u001b[0;34m(self, timeout)\u001b[0m\n\u001b[1;32m   1094\u001b[0m \u001b[0;34m\u001b[0m\u001b[0m\n\u001b[1;32m   1095\u001b[0m         \u001b[0;32mif\u001b[0m \u001b[0mtimeout\u001b[0m \u001b[0;32mis\u001b[0m \u001b[0;32mNone\u001b[0m\u001b[0;34m:\u001b[0m\u001b[0;34m\u001b[0m\u001b[0;34m\u001b[0m\u001b[0m\n\u001b[0;32m-> 1096\u001b[0;31m             \u001b[0mself\u001b[0m\u001b[0;34m.\u001b[0m\u001b[0m_wait_for_tstate_lock\u001b[0m\u001b[0;34m(\u001b[0m\u001b[0;34m)\u001b[0m\u001b[0;34m\u001b[0m\u001b[0;34m\u001b[0m\u001b[0m\n\u001b[0m\u001b[1;32m   1097\u001b[0m         \u001b[0;32melse\u001b[0m\u001b[0;34m:\u001b[0m\u001b[0;34m\u001b[0m\u001b[0;34m\u001b[0m\u001b[0m\n\u001b[1;32m   1098\u001b[0m             \u001b[0;31m# the behavior of a negative timeout isn't documented, but\u001b[0m\u001b[0;34m\u001b[0m\u001b[0;34m\u001b[0m\u001b[0m\n",
            "\u001b[0;32m/usr/lib/python3.10/threading.py\u001b[0m in \u001b[0;36m_wait_for_tstate_lock\u001b[0;34m(self, block, timeout)\u001b[0m\n\u001b[1;32m   1114\u001b[0m \u001b[0;34m\u001b[0m\u001b[0m\n\u001b[1;32m   1115\u001b[0m         \u001b[0;32mtry\u001b[0m\u001b[0;34m:\u001b[0m\u001b[0;34m\u001b[0m\u001b[0;34m\u001b[0m\u001b[0m\n\u001b[0;32m-> 1116\u001b[0;31m             \u001b[0;32mif\u001b[0m \u001b[0mlock\u001b[0m\u001b[0;34m.\u001b[0m\u001b[0macquire\u001b[0m\u001b[0;34m(\u001b[0m\u001b[0mblock\u001b[0m\u001b[0;34m,\u001b[0m \u001b[0mtimeout\u001b[0m\u001b[0;34m)\u001b[0m\u001b[0;34m:\u001b[0m\u001b[0;34m\u001b[0m\u001b[0;34m\u001b[0m\u001b[0m\n\u001b[0m\u001b[1;32m   1117\u001b[0m                 \u001b[0mlock\u001b[0m\u001b[0;34m.\u001b[0m\u001b[0mrelease\u001b[0m\u001b[0;34m(\u001b[0m\u001b[0;34m)\u001b[0m\u001b[0;34m\u001b[0m\u001b[0;34m\u001b[0m\u001b[0m\n\u001b[1;32m   1118\u001b[0m                 \u001b[0mself\u001b[0m\u001b[0;34m.\u001b[0m\u001b[0m_stop\u001b[0m\u001b[0;34m(\u001b[0m\u001b[0;34m)\u001b[0m\u001b[0;34m\u001b[0m\u001b[0;34m\u001b[0m\u001b[0m\n",
            "\u001b[0;31mKeyboardInterrupt\u001b[0m: "
          ]
        }
      ]
    },
    {
      "cell_type": "code",
      "source": [
        "from sklearn.model_selection import StratifiedKFold\n",
        "from catboost import CatBoostClassifier, Pool\n",
        "from sklearn.metrics import f1_score\n",
        "import numpy as np\n",
        "\n",
        "# Assuming X_train, y_train, X_test are defined, and 'study2.best_trial.params' contains the optimized parameters\n",
        "folds = StratifiedKFold(n_splits=5, shuffle=True, random_state=0)\n",
        "\n",
        "oof_cb_val_preds = np.zeros(X_train.shape[0])\n",
        "oof_cb_test_preds = np.zeros(X_test.shape[0])\n",
        "\n",
        "params = study2.best_trial.params  # Adjust this line to convert params to XGBoost format\n",
        "# params ={'learning_rate': 0.04384298465634804, 'depth': 9, 'l2_leaf_reg': 1.7753330077626464, 'border_count': 90, 'bagging_temperature': 0.33991462001896655, 'random_strength': 3.96484788867488e-05, 'min_data_in_leaf': 50, 'leaf_estimation_iterations': 7}\n",
        "params['verbose'] = False  # Turn off verbose output for each iteration\n",
        "params['eval_metric'] = 'F1'  # Use F1 score as the evaluation metric\n",
        "params['loss_function'] = 'Logloss'  # Objective function for binary classification\n",
        "\n",
        "f1_score_cb_list = []\n",
        "feature_importance_cb_list = []\n",
        "\n",
        "for idx, (train_idx, valid_idx) in enumerate(folds.split(X_train, y_train)):\n",
        "    print('#'*40, f'Fold {idx+1} / {folds.n_splits}', \"#\"*40)\n",
        "    X_tr, y_tr = X_train.iloc[train_idx], y_train.iloc[train_idx]\n",
        "    X_val, y_val = X_train.iloc[valid_idx], y_train.iloc[valid_idx]\n",
        "\n",
        "    train_pool = Pool(X_tr, y_tr)\n",
        "    validate_pool = Pool(X_val, y_val)\n",
        "\n",
        "    cb_model = CatBoostClassifier(**params)\n",
        "    cb_model.fit(train_pool, eval_set=validate_pool, early_stopping_rounds=200, use_best_model=True)\n",
        "\n",
        "    oof_cb_val_preds[valid_idx] = cb_model.predict_proba(X_val)[:, 1]\n",
        "    oof_cb_test_preds += cb_model.predict_proba(X_test)[:, 1] / folds.get_n_splits()\n",
        "\n",
        "    f1 = f1_score(y_val, np.where(oof_cb_val_preds[valid_idx] > 0.5, 1, 0))\n",
        "    f1_score_cb_list.append(f1)\n",
        "    print(f'Fold {idx+1} F1 score: {f1}\\n')\n",
        "\n",
        "    feature_importance_cb_list.append(cb_model.get_feature_importance())\n",
        "\n",
        "print(f'Validation average F1 score: {np.mean(f1_score_cb_list)}')"
      ],
      "metadata": {
        "id": "0sGwxzOrxAM_"
      },
      "execution_count": null,
      "outputs": []
    },
    {
      "cell_type": "code",
      "source": [
        "# 예측에 필요한 데이터 분리\n",
        "oof_test_preds = oof_lgb_test_preds\n",
        "test_pred = np.where(oof_test_preds >= 0.15, 1, 0)"
      ],
      "metadata": {
        "id": "zbvpITAuwpEv"
      },
      "execution_count": null,
      "outputs": []
    },
    {
      "cell_type": "code",
      "source": [
        "sum(test_pred)"
      ],
      "metadata": {
        "colab": {
          "base_uri": "https://localhost:8080/"
        },
        "id": "CNymrcBBws1r",
        "outputId": "68e6a10c-645e-47ac-d3ea-d67527d73db5"
      },
      "execution_count": null,
      "outputs": [
        {
          "output_type": "execute_result",
          "data": {
            "text/plain": [
              "1832"
            ]
          },
          "metadata": {},
          "execution_count": 338
        }
      ]
    },
    {
      "cell_type": "code",
      "source": [
        "# 제출 데이터 읽어오기 (df_test는 전처리된 데이터가 저장됨)\n",
        "df_sub = pd.read_csv(\"/content/drive/MyDrive/submission.csv\")\n",
        "df_sub[\"is_converted\"]=test_pred\n",
        "df_sub[\"is_converted\"].value_counts()"
      ],
      "metadata": {
        "colab": {
          "base_uri": "https://localhost:8080/"
        },
        "id": "5PSIq6Q8wuLl",
        "outputId": "3037fbd5-4199-49ad-a9e9-70ce2b2d0394"
      },
      "execution_count": null,
      "outputs": [
        {
          "output_type": "execute_result",
          "data": {
            "text/plain": [
              "is_converted\n",
              "0    3439\n",
              "1    1832\n",
              "Name: count, dtype: int64"
            ]
          },
          "metadata": {},
          "execution_count": 339
        }
      ]
    },
    {
      "cell_type": "code",
      "source": [
        "# 제출 파일 저장\n",
        "df_sub.to_csv(\"submission2.csv\", index=False)"
      ],
      "metadata": {
        "id": "yi-gLhUowuN9"
      },
      "execution_count": null,
      "outputs": []
    },
    {
      "cell_type": "code",
      "source": [
        "df_sub.head()"
      ],
      "metadata": {
        "colab": {
          "base_uri": "https://localhost:8080/",
          "height": 359
        },
        "id": "Iri_NGYYwuQn",
        "outputId": "a709e907-a2b9-483a-ae6b-576a814f3862"
      },
      "execution_count": null,
      "outputs": [
        {
          "output_type": "execute_result",
          "data": {
            "text/plain": [
              "      id  bant_submit  \\\n",
              "0  19844         0.00   \n",
              "1   9738         0.25   \n",
              "2   8491         1.00   \n",
              "3  19895         0.50   \n",
              "4  10465         1.00   \n",
              "\n",
              "                                                      customer_country  \\\n",
              "0                                                          /  / Brazil   \n",
              "1  400 N State Of Franklin Rd  Cloud IT / Johnson City / United States   \n",
              "2                                                           /  / U.A.E   \n",
              "3                                           / Madison  / United States   \n",
              "4                                                 / Sao Paulo / Brazil   \n",
              "\n",
              "  business_unit  com_reg_ver_win_rate  customer_idx          customer_type  \\\n",
              "0            ID              0.073248         47466           End Customer   \n",
              "1            IT                   NaN          5405           End Customer   \n",
              "2            ID                   NaN         13597  Specifier/ Influencer   \n",
              "3            ID              0.118644         17204                    NaN   \n",
              "4            ID              0.074949          2329           End Customer   \n",
              "\n",
              "   enterprise  historical_existing_cnt  id_strategic_ver  ...  \\\n",
              "0  Enterprise                     53.0               NaN  ...   \n",
              "1         SMB                      NaN               NaN  ...   \n",
              "2         SMB                      NaN               NaN  ...   \n",
              "3  Enterprise                      NaN               NaN  ...   \n",
              "4  Enterprise                      2.0               1.0  ...   \n",
              "\n",
              "   response_corporate   expected_timeline ver_cus  ver_pro ver_win_rate_x  \\\n",
              "0               LGESP                 NaN       1        0       0.001183   \n",
              "1               LGEUS                 NaN       0        0       0.000013   \n",
              "2               LGEGF  less than 3 months       0        0       0.000060   \n",
              "3               LGEUS    more than a year       0        0       0.001183   \n",
              "4               LGESP  less than 3 months       1        1       0.003079   \n",
              "\n",
              "  ver_win_ratio_per_bu           business_area     business_subarea  \\\n",
              "0             0.049840                  retail  Electronics & Telco   \n",
              "1                  NaN          transportation               Others   \n",
              "2             0.131148  hospital & health care     General Hospital   \n",
              "3             0.049840                  retail                  NaN   \n",
              "4             0.064566      corporate / office          Engineering   \n",
              "\n",
              "  lead_owner is_converted  \n",
              "0        278            1  \n",
              "1        437            1  \n",
              "2        874            1  \n",
              "3        194            0  \n",
              "4        167            1  \n",
              "\n",
              "[5 rows x 30 columns]"
            ],
            "text/html": [
              "\n",
              "  <div id=\"df-946cbd71-e84e-44b5-a58c-c61015722d32\" class=\"colab-df-container\">\n",
              "    <div>\n",
              "<style scoped>\n",
              "    .dataframe tbody tr th:only-of-type {\n",
              "        vertical-align: middle;\n",
              "    }\n",
              "\n",
              "    .dataframe tbody tr th {\n",
              "        vertical-align: top;\n",
              "    }\n",
              "\n",
              "    .dataframe thead th {\n",
              "        text-align: right;\n",
              "    }\n",
              "</style>\n",
              "<table border=\"1\" class=\"dataframe\">\n",
              "  <thead>\n",
              "    <tr style=\"text-align: right;\">\n",
              "      <th></th>\n",
              "      <th>id</th>\n",
              "      <th>bant_submit</th>\n",
              "      <th>customer_country</th>\n",
              "      <th>business_unit</th>\n",
              "      <th>com_reg_ver_win_rate</th>\n",
              "      <th>customer_idx</th>\n",
              "      <th>customer_type</th>\n",
              "      <th>enterprise</th>\n",
              "      <th>historical_existing_cnt</th>\n",
              "      <th>id_strategic_ver</th>\n",
              "      <th>...</th>\n",
              "      <th>response_corporate</th>\n",
              "      <th>expected_timeline</th>\n",
              "      <th>ver_cus</th>\n",
              "      <th>ver_pro</th>\n",
              "      <th>ver_win_rate_x</th>\n",
              "      <th>ver_win_ratio_per_bu</th>\n",
              "      <th>business_area</th>\n",
              "      <th>business_subarea</th>\n",
              "      <th>lead_owner</th>\n",
              "      <th>is_converted</th>\n",
              "    </tr>\n",
              "  </thead>\n",
              "  <tbody>\n",
              "    <tr>\n",
              "      <th>0</th>\n",
              "      <td>19844</td>\n",
              "      <td>0.00</td>\n",
              "      <td>/  / Brazil</td>\n",
              "      <td>ID</td>\n",
              "      <td>0.073248</td>\n",
              "      <td>47466</td>\n",
              "      <td>End Customer</td>\n",
              "      <td>Enterprise</td>\n",
              "      <td>53.0</td>\n",
              "      <td>NaN</td>\n",
              "      <td>...</td>\n",
              "      <td>LGESP</td>\n",
              "      <td>NaN</td>\n",
              "      <td>1</td>\n",
              "      <td>0</td>\n",
              "      <td>0.001183</td>\n",
              "      <td>0.049840</td>\n",
              "      <td>retail</td>\n",
              "      <td>Electronics &amp; Telco</td>\n",
              "      <td>278</td>\n",
              "      <td>1</td>\n",
              "    </tr>\n",
              "    <tr>\n",
              "      <th>1</th>\n",
              "      <td>9738</td>\n",
              "      <td>0.25</td>\n",
              "      <td>400 N State Of Franklin Rd  Cloud IT / Johnson City / United States</td>\n",
              "      <td>IT</td>\n",
              "      <td>NaN</td>\n",
              "      <td>5405</td>\n",
              "      <td>End Customer</td>\n",
              "      <td>SMB</td>\n",
              "      <td>NaN</td>\n",
              "      <td>NaN</td>\n",
              "      <td>...</td>\n",
              "      <td>LGEUS</td>\n",
              "      <td>NaN</td>\n",
              "      <td>0</td>\n",
              "      <td>0</td>\n",
              "      <td>0.000013</td>\n",
              "      <td>NaN</td>\n",
              "      <td>transportation</td>\n",
              "      <td>Others</td>\n",
              "      <td>437</td>\n",
              "      <td>1</td>\n",
              "    </tr>\n",
              "    <tr>\n",
              "      <th>2</th>\n",
              "      <td>8491</td>\n",
              "      <td>1.00</td>\n",
              "      <td>/  / U.A.E</td>\n",
              "      <td>ID</td>\n",
              "      <td>NaN</td>\n",
              "      <td>13597</td>\n",
              "      <td>Specifier/ Influencer</td>\n",
              "      <td>SMB</td>\n",
              "      <td>NaN</td>\n",
              "      <td>NaN</td>\n",
              "      <td>...</td>\n",
              "      <td>LGEGF</td>\n",
              "      <td>less than 3 months</td>\n",
              "      <td>0</td>\n",
              "      <td>0</td>\n",
              "      <td>0.000060</td>\n",
              "      <td>0.131148</td>\n",
              "      <td>hospital &amp; health care</td>\n",
              "      <td>General Hospital</td>\n",
              "      <td>874</td>\n",
              "      <td>1</td>\n",
              "    </tr>\n",
              "    <tr>\n",
              "      <th>3</th>\n",
              "      <td>19895</td>\n",
              "      <td>0.50</td>\n",
              "      <td>/ Madison  / United States</td>\n",
              "      <td>ID</td>\n",
              "      <td>0.118644</td>\n",
              "      <td>17204</td>\n",
              "      <td>NaN</td>\n",
              "      <td>Enterprise</td>\n",
              "      <td>NaN</td>\n",
              "      <td>NaN</td>\n",
              "      <td>...</td>\n",
              "      <td>LGEUS</td>\n",
              "      <td>more than a year</td>\n",
              "      <td>0</td>\n",
              "      <td>0</td>\n",
              "      <td>0.001183</td>\n",
              "      <td>0.049840</td>\n",
              "      <td>retail</td>\n",
              "      <td>NaN</td>\n",
              "      <td>194</td>\n",
              "      <td>0</td>\n",
              "    </tr>\n",
              "    <tr>\n",
              "      <th>4</th>\n",
              "      <td>10465</td>\n",
              "      <td>1.00</td>\n",
              "      <td>/ Sao Paulo / Brazil</td>\n",
              "      <td>ID</td>\n",
              "      <td>0.074949</td>\n",
              "      <td>2329</td>\n",
              "      <td>End Customer</td>\n",
              "      <td>Enterprise</td>\n",
              "      <td>2.0</td>\n",
              "      <td>1.0</td>\n",
              "      <td>...</td>\n",
              "      <td>LGESP</td>\n",
              "      <td>less than 3 months</td>\n",
              "      <td>1</td>\n",
              "      <td>1</td>\n",
              "      <td>0.003079</td>\n",
              "      <td>0.064566</td>\n",
              "      <td>corporate / office</td>\n",
              "      <td>Engineering</td>\n",
              "      <td>167</td>\n",
              "      <td>1</td>\n",
              "    </tr>\n",
              "  </tbody>\n",
              "</table>\n",
              "<p>5 rows × 30 columns</p>\n",
              "</div>\n",
              "    <div class=\"colab-df-buttons\">\n",
              "\n",
              "  <div class=\"colab-df-container\">\n",
              "    <button class=\"colab-df-convert\" onclick=\"convertToInteractive('df-946cbd71-e84e-44b5-a58c-c61015722d32')\"\n",
              "            title=\"Convert this dataframe to an interactive table.\"\n",
              "            style=\"display:none;\">\n",
              "\n",
              "  <svg xmlns=\"http://www.w3.org/2000/svg\" height=\"24px\" viewBox=\"0 -960 960 960\">\n",
              "    <path d=\"M120-120v-720h720v720H120Zm60-500h600v-160H180v160Zm220 220h160v-160H400v160Zm0 220h160v-160H400v160ZM180-400h160v-160H180v160Zm440 0h160v-160H620v160ZM180-180h160v-160H180v160Zm440 0h160v-160H620v160Z\"/>\n",
              "  </svg>\n",
              "    </button>\n",
              "\n",
              "  <style>\n",
              "    .colab-df-container {\n",
              "      display:flex;\n",
              "      gap: 12px;\n",
              "    }\n",
              "\n",
              "    .colab-df-convert {\n",
              "      background-color: #E8F0FE;\n",
              "      border: none;\n",
              "      border-radius: 50%;\n",
              "      cursor: pointer;\n",
              "      display: none;\n",
              "      fill: #1967D2;\n",
              "      height: 32px;\n",
              "      padding: 0 0 0 0;\n",
              "      width: 32px;\n",
              "    }\n",
              "\n",
              "    .colab-df-convert:hover {\n",
              "      background-color: #E2EBFA;\n",
              "      box-shadow: 0px 1px 2px rgba(60, 64, 67, 0.3), 0px 1px 3px 1px rgba(60, 64, 67, 0.15);\n",
              "      fill: #174EA6;\n",
              "    }\n",
              "\n",
              "    .colab-df-buttons div {\n",
              "      margin-bottom: 4px;\n",
              "    }\n",
              "\n",
              "    [theme=dark] .colab-df-convert {\n",
              "      background-color: #3B4455;\n",
              "      fill: #D2E3FC;\n",
              "    }\n",
              "\n",
              "    [theme=dark] .colab-df-convert:hover {\n",
              "      background-color: #434B5C;\n",
              "      box-shadow: 0px 1px 3px 1px rgba(0, 0, 0, 0.15);\n",
              "      filter: drop-shadow(0px 1px 2px rgba(0, 0, 0, 0.3));\n",
              "      fill: #FFFFFF;\n",
              "    }\n",
              "  </style>\n",
              "\n",
              "    <script>\n",
              "      const buttonEl =\n",
              "        document.querySelector('#df-946cbd71-e84e-44b5-a58c-c61015722d32 button.colab-df-convert');\n",
              "      buttonEl.style.display =\n",
              "        google.colab.kernel.accessAllowed ? 'block' : 'none';\n",
              "\n",
              "      async function convertToInteractive(key) {\n",
              "        const element = document.querySelector('#df-946cbd71-e84e-44b5-a58c-c61015722d32');\n",
              "        const dataTable =\n",
              "          await google.colab.kernel.invokeFunction('convertToInteractive',\n",
              "                                                    [key], {});\n",
              "        if (!dataTable) return;\n",
              "\n",
              "        const docLinkHtml = 'Like what you see? Visit the ' +\n",
              "          '<a target=\"_blank\" href=https://colab.research.google.com/notebooks/data_table.ipynb>data table notebook</a>'\n",
              "          + ' to learn more about interactive tables.';\n",
              "        element.innerHTML = '';\n",
              "        dataTable['output_type'] = 'display_data';\n",
              "        await google.colab.output.renderOutput(dataTable, element);\n",
              "        const docLink = document.createElement('div');\n",
              "        docLink.innerHTML = docLinkHtml;\n",
              "        element.appendChild(docLink);\n",
              "      }\n",
              "    </script>\n",
              "  </div>\n",
              "\n",
              "\n",
              "<div id=\"df-bc972a79-c8ee-4cb5-b158-7bab2c2cb82e\">\n",
              "  <button class=\"colab-df-quickchart\" onclick=\"quickchart('df-bc972a79-c8ee-4cb5-b158-7bab2c2cb82e')\"\n",
              "            title=\"Suggest charts\"\n",
              "            style=\"display:none;\">\n",
              "\n",
              "<svg xmlns=\"http://www.w3.org/2000/svg\" height=\"24px\"viewBox=\"0 0 24 24\"\n",
              "     width=\"24px\">\n",
              "    <g>\n",
              "        <path d=\"M19 3H5c-1.1 0-2 .9-2 2v14c0 1.1.9 2 2 2h14c1.1 0 2-.9 2-2V5c0-1.1-.9-2-2-2zM9 17H7v-7h2v7zm4 0h-2V7h2v10zm4 0h-2v-4h2v4z\"/>\n",
              "    </g>\n",
              "</svg>\n",
              "  </button>\n",
              "\n",
              "<style>\n",
              "  .colab-df-quickchart {\n",
              "      --bg-color: #E8F0FE;\n",
              "      --fill-color: #1967D2;\n",
              "      --hover-bg-color: #E2EBFA;\n",
              "      --hover-fill-color: #174EA6;\n",
              "      --disabled-fill-color: #AAA;\n",
              "      --disabled-bg-color: #DDD;\n",
              "  }\n",
              "\n",
              "  [theme=dark] .colab-df-quickchart {\n",
              "      --bg-color: #3B4455;\n",
              "      --fill-color: #D2E3FC;\n",
              "      --hover-bg-color: #434B5C;\n",
              "      --hover-fill-color: #FFFFFF;\n",
              "      --disabled-bg-color: #3B4455;\n",
              "      --disabled-fill-color: #666;\n",
              "  }\n",
              "\n",
              "  .colab-df-quickchart {\n",
              "    background-color: var(--bg-color);\n",
              "    border: none;\n",
              "    border-radius: 50%;\n",
              "    cursor: pointer;\n",
              "    display: none;\n",
              "    fill: var(--fill-color);\n",
              "    height: 32px;\n",
              "    padding: 0;\n",
              "    width: 32px;\n",
              "  }\n",
              "\n",
              "  .colab-df-quickchart:hover {\n",
              "    background-color: var(--hover-bg-color);\n",
              "    box-shadow: 0 1px 2px rgba(60, 64, 67, 0.3), 0 1px 3px 1px rgba(60, 64, 67, 0.15);\n",
              "    fill: var(--button-hover-fill-color);\n",
              "  }\n",
              "\n",
              "  .colab-df-quickchart-complete:disabled,\n",
              "  .colab-df-quickchart-complete:disabled:hover {\n",
              "    background-color: var(--disabled-bg-color);\n",
              "    fill: var(--disabled-fill-color);\n",
              "    box-shadow: none;\n",
              "  }\n",
              "\n",
              "  .colab-df-spinner {\n",
              "    border: 2px solid var(--fill-color);\n",
              "    border-color: transparent;\n",
              "    border-bottom-color: var(--fill-color);\n",
              "    animation:\n",
              "      spin 1s steps(1) infinite;\n",
              "  }\n",
              "\n",
              "  @keyframes spin {\n",
              "    0% {\n",
              "      border-color: transparent;\n",
              "      border-bottom-color: var(--fill-color);\n",
              "      border-left-color: var(--fill-color);\n",
              "    }\n",
              "    20% {\n",
              "      border-color: transparent;\n",
              "      border-left-color: var(--fill-color);\n",
              "      border-top-color: var(--fill-color);\n",
              "    }\n",
              "    30% {\n",
              "      border-color: transparent;\n",
              "      border-left-color: var(--fill-color);\n",
              "      border-top-color: var(--fill-color);\n",
              "      border-right-color: var(--fill-color);\n",
              "    }\n",
              "    40% {\n",
              "      border-color: transparent;\n",
              "      border-right-color: var(--fill-color);\n",
              "      border-top-color: var(--fill-color);\n",
              "    }\n",
              "    60% {\n",
              "      border-color: transparent;\n",
              "      border-right-color: var(--fill-color);\n",
              "    }\n",
              "    80% {\n",
              "      border-color: transparent;\n",
              "      border-right-color: var(--fill-color);\n",
              "      border-bottom-color: var(--fill-color);\n",
              "    }\n",
              "    90% {\n",
              "      border-color: transparent;\n",
              "      border-bottom-color: var(--fill-color);\n",
              "    }\n",
              "  }\n",
              "</style>\n",
              "\n",
              "  <script>\n",
              "    async function quickchart(key) {\n",
              "      const quickchartButtonEl =\n",
              "        document.querySelector('#' + key + ' button');\n",
              "      quickchartButtonEl.disabled = true;  // To prevent multiple clicks.\n",
              "      quickchartButtonEl.classList.add('colab-df-spinner');\n",
              "      try {\n",
              "        const charts = await google.colab.kernel.invokeFunction(\n",
              "            'suggestCharts', [key], {});\n",
              "      } catch (error) {\n",
              "        console.error('Error during call to suggestCharts:', error);\n",
              "      }\n",
              "      quickchartButtonEl.classList.remove('colab-df-spinner');\n",
              "      quickchartButtonEl.classList.add('colab-df-quickchart-complete');\n",
              "    }\n",
              "    (() => {\n",
              "      let quickchartButtonEl =\n",
              "        document.querySelector('#df-bc972a79-c8ee-4cb5-b158-7bab2c2cb82e button');\n",
              "      quickchartButtonEl.style.display =\n",
              "        google.colab.kernel.accessAllowed ? 'block' : 'none';\n",
              "    })();\n",
              "  </script>\n",
              "</div>\n",
              "    </div>\n",
              "  </div>\n"
            ],
            "application/vnd.google.colaboratory.intrinsic+json": {
              "type": "dataframe",
              "variable_name": "df_sub"
            }
          },
          "metadata": {},
          "execution_count": 341
        }
      ]
    },
    {
      "cell_type": "code",
      "source": [],
      "metadata": {
        "id": "hXZ574GgwuTd"
      },
      "execution_count": null,
      "outputs": []
    }
  ]
}