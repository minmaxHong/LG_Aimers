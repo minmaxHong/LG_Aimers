{
 "cells": [
  {
   "cell_type": "markdown",
   "id": "017e9265",
   "metadata": {},
   "source": [
    "# 영업 성공 여부 분류 경진대회"
   ]
  },
  {
   "cell_type": "markdown",
   "id": "acdab431",
   "metadata": {},
   "source": [
    "## 1. 데이터 확인"
   ]
  },
  {
   "cell_type": "markdown",
   "id": "2b8341e8",
   "metadata": {},
   "source": [
    "### 필수 라이브러리"
   ]
  },
  {
   "cell_type": "code",
   "execution_count": 314,
   "id": "a315cc58",
   "metadata": {},
   "outputs": [],
   "source": [
    "import pandas as pd\n",
    "import numpy as np\n",
    "from sklearn.metrics import (\n",
    "    accuracy_score,\n",
    "    confusion_matrix,\n",
    "    f1_score,\n",
    "    precision_score,\n",
    "    recall_score,\n",
    ")\n",
    "from sklearn.model_selection import train_test_split"
   ]
  },
  {
   "cell_type": "markdown",
   "id": "412f98cc",
   "metadata": {},
   "source": [
    "### 데이터 셋 읽어오기"
   ]
  },
  {
   "cell_type": "code",
   "execution_count": 315,
   "id": "7ada941e",
   "metadata": {},
   "outputs": [],
   "source": [
    "df_train = pd.read_csv(\"train.csv\") # 학습용 데이터\n",
    "df_test = pd.read_csv(\"submission.csv\") # 테스트 데이터(제출파일의 데이터)"
   ]
  },
  {
   "cell_type": "code",
   "execution_count": 316,
   "id": "be9af12a",
   "metadata": {},
   "outputs": [
    {
     "data": {
      "text/html": [
       "<div>\n",
       "<style scoped>\n",
       "    .dataframe tbody tr th:only-of-type {\n",
       "        vertical-align: middle;\n",
       "    }\n",
       "\n",
       "    .dataframe tbody tr th {\n",
       "        vertical-align: top;\n",
       "    }\n",
       "\n",
       "    .dataframe thead th {\n",
       "        text-align: right;\n",
       "    }\n",
       "</style>\n",
       "<table border=\"1\" class=\"dataframe\">\n",
       "  <thead>\n",
       "    <tr style=\"text-align: right;\">\n",
       "      <th></th>\n",
       "      <th>bant_submit</th>\n",
       "      <th>customer_country</th>\n",
       "      <th>business_unit</th>\n",
       "      <th>com_reg_ver_win_rate</th>\n",
       "      <th>customer_idx</th>\n",
       "      <th>customer_type</th>\n",
       "      <th>enterprise</th>\n",
       "      <th>historical_existing_cnt</th>\n",
       "      <th>id_strategic_ver</th>\n",
       "      <th>it_strategic_ver</th>\n",
       "      <th>idit_strategic_ver</th>\n",
       "      <th>customer_job</th>\n",
       "      <th>lead_desc_length</th>\n",
       "      <th>inquiry_type</th>\n",
       "      <th>product_category</th>\n",
       "      <th>product_subcategory</th>\n",
       "      <th>product_modelname</th>\n",
       "      <th>customer_country.1</th>\n",
       "      <th>customer_position</th>\n",
       "      <th>response_corporate</th>\n",
       "      <th>expected_timeline</th>\n",
       "      <th>ver_cus</th>\n",
       "      <th>ver_pro</th>\n",
       "      <th>ver_win_rate_x</th>\n",
       "      <th>ver_win_ratio_per_bu</th>\n",
       "      <th>business_area</th>\n",
       "      <th>business_subarea</th>\n",
       "      <th>lead_owner</th>\n",
       "      <th>is_converted</th>\n",
       "    </tr>\n",
       "  </thead>\n",
       "  <tbody>\n",
       "    <tr>\n",
       "      <th>0</th>\n",
       "      <td>1.0</td>\n",
       "      <td>/Quezon City/Philippines</td>\n",
       "      <td>AS</td>\n",
       "      <td>0.066667</td>\n",
       "      <td>32160</td>\n",
       "      <td>End-Customer</td>\n",
       "      <td>Enterprise</td>\n",
       "      <td>NaN</td>\n",
       "      <td>NaN</td>\n",
       "      <td>NaN</td>\n",
       "      <td>NaN</td>\n",
       "      <td>purchasing</td>\n",
       "      <td>62</td>\n",
       "      <td>Quotation or purchase consultation</td>\n",
       "      <td>multi-split</td>\n",
       "      <td>NaN</td>\n",
       "      <td>NaN</td>\n",
       "      <td>/Quezon City/Philippines</td>\n",
       "      <td>entry level</td>\n",
       "      <td>LGEPH</td>\n",
       "      <td>less than 3 months</td>\n",
       "      <td>1</td>\n",
       "      <td>0</td>\n",
       "      <td>0.003079</td>\n",
       "      <td>0.026846</td>\n",
       "      <td>corporate / office</td>\n",
       "      <td>Engineering</td>\n",
       "      <td>0</td>\n",
       "      <td>True</td>\n",
       "    </tr>\n",
       "    <tr>\n",
       "      <th>1</th>\n",
       "      <td>1.0</td>\n",
       "      <td>/PH-00/Philippines</td>\n",
       "      <td>AS</td>\n",
       "      <td>0.066667</td>\n",
       "      <td>23122</td>\n",
       "      <td>End-Customer</td>\n",
       "      <td>Enterprise</td>\n",
       "      <td>12.0</td>\n",
       "      <td>NaN</td>\n",
       "      <td>NaN</td>\n",
       "      <td>NaN</td>\n",
       "      <td>media and communication</td>\n",
       "      <td>96</td>\n",
       "      <td>Quotation or purchase consultation</td>\n",
       "      <td>multi-split</td>\n",
       "      <td>NaN</td>\n",
       "      <td>NaN</td>\n",
       "      <td>/PH-00/Philippines</td>\n",
       "      <td>ceo/founder</td>\n",
       "      <td>LGEPH</td>\n",
       "      <td>less than 3 months</td>\n",
       "      <td>1</td>\n",
       "      <td>0</td>\n",
       "      <td>0.003079</td>\n",
       "      <td>0.026846</td>\n",
       "      <td>corporate / office</td>\n",
       "      <td>Advertising</td>\n",
       "      <td>1</td>\n",
       "      <td>True</td>\n",
       "    </tr>\n",
       "    <tr>\n",
       "      <th>2</th>\n",
       "      <td>1.0</td>\n",
       "      <td>/Kolkata /India</td>\n",
       "      <td>AS</td>\n",
       "      <td>0.088889</td>\n",
       "      <td>1755</td>\n",
       "      <td>End-Customer</td>\n",
       "      <td>Enterprise</td>\n",
       "      <td>144.0</td>\n",
       "      <td>NaN</td>\n",
       "      <td>NaN</td>\n",
       "      <td>NaN</td>\n",
       "      <td>engineering</td>\n",
       "      <td>56</td>\n",
       "      <td>Product Information</td>\n",
       "      <td>single-split</td>\n",
       "      <td>NaN</td>\n",
       "      <td>NaN</td>\n",
       "      <td>/Kolkata /India</td>\n",
       "      <td>partner</td>\n",
       "      <td>LGEIL</td>\n",
       "      <td>less than 3 months</td>\n",
       "      <td>1</td>\n",
       "      <td>0</td>\n",
       "      <td>0.003079</td>\n",
       "      <td>0.026846</td>\n",
       "      <td>corporate / office</td>\n",
       "      <td>Construction</td>\n",
       "      <td>2</td>\n",
       "      <td>True</td>\n",
       "    </tr>\n",
       "    <tr>\n",
       "      <th>3</th>\n",
       "      <td>1.0</td>\n",
       "      <td>/Bhubaneswar/India</td>\n",
       "      <td>AS</td>\n",
       "      <td>0.088889</td>\n",
       "      <td>4919</td>\n",
       "      <td>End-Customer</td>\n",
       "      <td>Enterprise</td>\n",
       "      <td>NaN</td>\n",
       "      <td>NaN</td>\n",
       "      <td>NaN</td>\n",
       "      <td>NaN</td>\n",
       "      <td>entrepreneurship</td>\n",
       "      <td>44</td>\n",
       "      <td>Quotation or purchase consultation</td>\n",
       "      <td>vrf</td>\n",
       "      <td>NaN</td>\n",
       "      <td>NaN</td>\n",
       "      <td>/Bhubaneswar/India</td>\n",
       "      <td>ceo/founder</td>\n",
       "      <td>LGEIL</td>\n",
       "      <td>less than 3 months</td>\n",
       "      <td>1</td>\n",
       "      <td>0</td>\n",
       "      <td>0.003079</td>\n",
       "      <td>0.026846</td>\n",
       "      <td>corporate / office</td>\n",
       "      <td>IT/Software</td>\n",
       "      <td>3</td>\n",
       "      <td>True</td>\n",
       "    </tr>\n",
       "    <tr>\n",
       "      <th>4</th>\n",
       "      <td>1.0</td>\n",
       "      <td>/Hyderabad/India</td>\n",
       "      <td>AS</td>\n",
       "      <td>0.088889</td>\n",
       "      <td>17126</td>\n",
       "      <td>Specifier/ Influencer</td>\n",
       "      <td>Enterprise</td>\n",
       "      <td>NaN</td>\n",
       "      <td>NaN</td>\n",
       "      <td>NaN</td>\n",
       "      <td>NaN</td>\n",
       "      <td>consulting</td>\n",
       "      <td>97</td>\n",
       "      <td>Quotation or purchase consultation</td>\n",
       "      <td>multi-split</td>\n",
       "      <td>NaN</td>\n",
       "      <td>NaN</td>\n",
       "      <td>/Hyderabad/India</td>\n",
       "      <td>partner</td>\n",
       "      <td>LGEIL</td>\n",
       "      <td>less than 3 months</td>\n",
       "      <td>0</td>\n",
       "      <td>0</td>\n",
       "      <td>0.003079</td>\n",
       "      <td>0.026846</td>\n",
       "      <td>corporate / office</td>\n",
       "      <td>NaN</td>\n",
       "      <td>4</td>\n",
       "      <td>True</td>\n",
       "    </tr>\n",
       "  </tbody>\n",
       "</table>\n",
       "</div>"
      ],
      "text/plain": [
       "   bant_submit          customer_country business_unit  com_reg_ver_win_rate  \\\n",
       "0          1.0  /Quezon City/Philippines            AS              0.066667   \n",
       "1          1.0        /PH-00/Philippines            AS              0.066667   \n",
       "2          1.0           /Kolkata /India            AS              0.088889   \n",
       "3          1.0        /Bhubaneswar/India            AS              0.088889   \n",
       "4          1.0          /Hyderabad/India            AS              0.088889   \n",
       "\n",
       "   customer_idx          customer_type  enterprise  historical_existing_cnt  \\\n",
       "0         32160           End-Customer  Enterprise                      NaN   \n",
       "1         23122           End-Customer  Enterprise                     12.0   \n",
       "2          1755           End-Customer  Enterprise                    144.0   \n",
       "3          4919           End-Customer  Enterprise                      NaN   \n",
       "4         17126  Specifier/ Influencer  Enterprise                      NaN   \n",
       "\n",
       "   id_strategic_ver  it_strategic_ver  idit_strategic_ver  \\\n",
       "0               NaN               NaN                 NaN   \n",
       "1               NaN               NaN                 NaN   \n",
       "2               NaN               NaN                 NaN   \n",
       "3               NaN               NaN                 NaN   \n",
       "4               NaN               NaN                 NaN   \n",
       "\n",
       "              customer_job  lead_desc_length  \\\n",
       "0               purchasing                62   \n",
       "1  media and communication                96   \n",
       "2              engineering                56   \n",
       "3         entrepreneurship                44   \n",
       "4               consulting                97   \n",
       "\n",
       "                         inquiry_type product_category product_subcategory  \\\n",
       "0  Quotation or purchase consultation      multi-split                 NaN   \n",
       "1  Quotation or purchase consultation      multi-split                 NaN   \n",
       "2                 Product Information     single-split                 NaN   \n",
       "3  Quotation or purchase consultation              vrf                 NaN   \n",
       "4  Quotation or purchase consultation      multi-split                 NaN   \n",
       "\n",
       "  product_modelname        customer_country.1 customer_position  \\\n",
       "0               NaN  /Quezon City/Philippines       entry level   \n",
       "1               NaN        /PH-00/Philippines       ceo/founder   \n",
       "2               NaN           /Kolkata /India           partner   \n",
       "3               NaN        /Bhubaneswar/India       ceo/founder   \n",
       "4               NaN          /Hyderabad/India           partner   \n",
       "\n",
       "  response_corporate   expected_timeline  ver_cus  ver_pro  ver_win_rate_x  \\\n",
       "0              LGEPH  less than 3 months        1        0        0.003079   \n",
       "1              LGEPH  less than 3 months        1        0        0.003079   \n",
       "2              LGEIL  less than 3 months        1        0        0.003079   \n",
       "3              LGEIL  less than 3 months        1        0        0.003079   \n",
       "4              LGEIL  less than 3 months        0        0        0.003079   \n",
       "\n",
       "   ver_win_ratio_per_bu       business_area business_subarea  lead_owner  \\\n",
       "0              0.026846  corporate / office      Engineering           0   \n",
       "1              0.026846  corporate / office      Advertising           1   \n",
       "2              0.026846  corporate / office     Construction           2   \n",
       "3              0.026846  corporate / office      IT/Software           3   \n",
       "4              0.026846  corporate / office              NaN           4   \n",
       "\n",
       "   is_converted  \n",
       "0          True  \n",
       "1          True  \n",
       "2          True  \n",
       "3          True  \n",
       "4          True  "
      ]
     },
     "execution_count": 316,
     "metadata": {},
     "output_type": "execute_result"
    }
   ],
   "source": [
    "df_train.head() # 학습용 데이터 살펴보기"
   ]
  },
  {
   "cell_type": "markdown",
   "id": "af526c13",
   "metadata": {},
   "source": [
    "## 2. 데이터 전처리"
   ]
  },
  {
   "cell_type": "code",
   "execution_count": 317,
   "id": "cd64b902",
   "metadata": {},
   "outputs": [
    {
     "name": "stdout",
     "output_type": "stream",
     "text": [
      "(59299, 29) (5271, 30)\n"
     ]
    }
   ],
   "source": [
    "print(df_train.shape, df_test.shape)"
   ]
  },
  {
   "cell_type": "markdown",
   "id": "19cf79a6",
   "metadata": {},
   "source": [
    "# 중복 제거"
   ]
  },
  {
   "cell_type": "code",
   "execution_count": 318,
   "id": "f92135fa",
   "metadata": {},
   "outputs": [],
   "source": [
    "df_train.drop_duplicates(inplace=True)"
   ]
  },
  {
   "cell_type": "code",
   "execution_count": 319,
   "id": "f2f99b4d",
   "metadata": {},
   "outputs": [
    {
     "name": "stdout",
     "output_type": "stream",
     "text": [
      "(55780, 29) (5271, 30)\n"
     ]
    }
   ],
   "source": [
    "print(df_train.shape, df_test.shape)"
   ]
  },
  {
   "cell_type": "markdown",
   "id": "2f978109",
   "metadata": {},
   "source": [
    "### 무조건 converted하면서 test에 없는 회사인 25096은 삭제"
   ]
  },
  {
   "cell_type": "code",
   "execution_count": 320,
   "id": "e7152bcb",
   "metadata": {},
   "outputs": [],
   "source": [
    "del_id=[25096]\n",
    "df_train=df_train[~df_train[\"customer_idx\"].isin(del_id)]"
   ]
  },
  {
   "cell_type": "code",
   "execution_count": 321,
   "id": "0cdd6afa",
   "metadata": {},
   "outputs": [],
   "source": [
    "df_train = df_train[(df_train[\"business_unit\"] != \"CM\") & (df_train[\"business_unit\"] != \"Solution\")]"
   ]
  },
  {
   "cell_type": "code",
   "execution_count": 322,
   "id": "daaed440",
   "metadata": {},
   "outputs": [],
   "source": [
    "def preprocess_customer_position(x):\n",
    "    if x == 'c-levelexecutive' :\n",
    "        return 'c-level executive'\n",
    "    elif x == 'other':\n",
    "        return 'others'\n",
    "    else:\n",
    "        return x\n",
    "    \n",
    "df_train['customer_position'] = df_train['customer_position'].apply(preprocess_customer_position)\n",
    "df_test['customer_position'] = df_test['customer_position'].apply(preprocess_customer_position)"
   ]
  },
  {
   "cell_type": "code",
   "execution_count": 323,
   "id": "364cc31b",
   "metadata": {},
   "outputs": [],
   "source": [
    "def preprocess_customer_position(df):\n",
    "    # 가장 많이 나오는 변수 상위 5개를 저장\n",
    "    top3_positions = df['customer_position'].value_counts().index[:15]\n",
    "\n",
    "    # 상위 3개에 속하지 않는 경우 'others'로 변경\n",
    "    df['customer_position'] = df['customer_position'].apply(lambda x: x if x in top3_positions else 'others')\n",
    "\n",
    "    return df\n",
    "\n",
    "# 함수를 훈련 데이터와 테스트 데이터에 적용\n",
    "df_train = preprocess_customer_position(df_train)\n",
    "df_test = preprocess_customer_position(df_test)"
   ]
  },
  {
   "cell_type": "code",
   "execution_count": 324,
   "id": "b3ffd85b",
   "metadata": {},
   "outputs": [],
   "source": [
    "# 뭔가 train에 없는 것들 없애보려고 했는데 그닥\n",
    "refin_col_list=[\n",
    "    # 'business_area',\n",
    "    # 'business_subarea',\n",
    "    # 'response_corporate',\n",
    "    # 'product_category',\n",
    "    # 'product_subcategory',\n",
    "    # 'product_modelname',\n",
    "    'customer_position',\n",
    "    'customer_type',\n",
    "    # 'customer_job',\n",
    "    # 'inquiry_type',\n",
    "    # 'customer_position'\n",
    "]\n",
    "for col in refin_col_list:\n",
    "    # df_train의 값이 df_test에 없는 행을 삭제하는 코드\n",
    "    df_train = df_train[df_train[col].isin(df_test[col])]\n"
   ]
  },
  {
   "cell_type": "code",
   "execution_count": 325,
   "id": "b7d6d417",
   "metadata": {},
   "outputs": [
    {
     "name": "stdout",
     "output_type": "stream",
     "text": [
      "(52155, 29) (5271, 30)\n"
     ]
    }
   ],
   "source": [
    "print(df_train.shape, df_test.shape)"
   ]
  },
  {
   "cell_type": "markdown",
   "id": "0c15e60d",
   "metadata": {},
   "source": [
    "### 문의를 한 횟수, 문의하면서 converted 한 횟수, converted한 비율을 회사별로 계산"
   ]
  },
  {
   "cell_type": "code",
   "execution_count": 326,
   "id": "2a39db10",
   "metadata": {},
   "outputs": [],
   "source": [
    "df_cus = df_train.groupby(\"customer_idx\")[\"is_converted\"].count().reset_index()\n",
    "df_real_cus = df_train.groupby(\"customer_idx\")[\"is_converted\"].sum().reset_index()\n",
    "df = pd.merge(df_cus, df_real_cus, on=\"customer_idx\")\n",
    "df[\"cus_ratio\"] = df[\"is_converted_y\"] / df[\"is_converted_x\"]\n",
    "df = df.rename(columns={\"is_converted_x\": \"cus_query_cnt\", \"is_converted_y\" : \"cus_converted_cnt\"})\n",
    "df = df[df[\"cus_query_cnt\"]>=2] \n",
    "df_train = pd.merge(df_train, df, on='customer_idx', how=\"left\")\n",
    "df_test = pd.merge(df_test, df, on='customer_idx', how=\"left\")"
   ]
  },
  {
   "cell_type": "markdown",
   "id": "d951507b",
   "metadata": {},
   "source": [
    "### 문의를 받은 횟수, 문의 중에 converted 된 횟수, converted한 비율을 담당자 별로 계산"
   ]
  },
  {
   "cell_type": "code",
   "execution_count": 327,
   "id": "717f9975",
   "metadata": {},
   "outputs": [],
   "source": [
    "df_cus = df_train.groupby(\"lead_owner\")[\"is_converted\"].count().reset_index()\n",
    "df_real_cus = df_train.groupby(\"lead_owner\")[\"is_converted\"].sum().reset_index()\n",
    "df = pd.merge(df_cus, df_real_cus, on=\"lead_owner\")\n",
    "df[\"lead_ratio\"] = df[\"is_converted_y\"] / df[\"is_converted_x\"]\n",
    "df = df.rename(columns={\"is_converted_x\": \"lead_query_cnt\", \"is_converted_y\" : \"lead_converted_cnt\"})\n",
    "df=df[df[\"lead_query_cnt\"]>=2]  \n",
    "df_train = pd.merge(df_train, df, on='lead_owner', how=\"left\")\n",
    "df_test = pd.merge(df_test, df, on='lead_owner', how=\"left\")"
   ]
  },
  {
   "cell_type": "markdown",
   "id": "73c81ee2",
   "metadata": {},
   "source": [
    "### 문의를 받은 횟수, 문의 중에 converted 된 횟수, converted한 비율을 담당 부서 별로 계산"
   ]
  },
  {
   "cell_type": "code",
   "execution_count": 328,
   "id": "c6d3da78",
   "metadata": {},
   "outputs": [
    {
     "name": "stdout",
     "output_type": "stream",
     "text": [
      "  response_corporate  rc_query_cnt  rc_converted_cnt  rc_ratio\n",
      "0              LGEAF           180                28  0.155556\n",
      "1              LGEAG             8                 0  0.000000\n",
      "2              LGEAP           320                28  0.087500\n",
      "3              LGEAR           468                65  0.138889\n",
      "4              LGEAS            32                 1  0.031250\n"
     ]
    }
   ],
   "source": [
    "df_cus = df_train.groupby(\"response_corporate\")[\"is_converted\"].count().reset_index()\n",
    "df_real_cus = df_train.groupby(\"response_corporate\")[\"is_converted\"].sum().reset_index()\n",
    "df = pd.merge(df_cus, df_real_cus, on=\"response_corporate\")\n",
    "df[\"rc_ratio\"] = df[\"is_converted_y\"] / df[\"is_converted_x\"]\n",
    "df = df.rename(columns={\"is_converted_x\": \"rc_query_cnt\", \"is_converted_y\" : \"rc_converted_cnt\"})\n",
    "print(df.head())\n",
    "df=df[df[\"rc_query_cnt\"]>=2]  \n",
    "df_train = pd.merge(df_train, df, on='response_corporate', how=\"left\")\n",
    "df_test = pd.merge(df_test, df, on='response_corporate', how=\"left\")"
   ]
  },
  {
   "cell_type": "code",
   "execution_count": 329,
   "id": "7c423a55",
   "metadata": {},
   "outputs": [
    {
     "data": {
      "text/plain": [
       "Index(['bant_submit', 'customer_country', 'business_unit',\n",
       "       'com_reg_ver_win_rate', 'customer_idx', 'customer_type', 'enterprise',\n",
       "       'historical_existing_cnt', 'id_strategic_ver', 'it_strategic_ver',\n",
       "       'idit_strategic_ver', 'customer_job', 'lead_desc_length',\n",
       "       'inquiry_type', 'product_category', 'product_subcategory',\n",
       "       'product_modelname', 'customer_country.1', 'customer_position',\n",
       "       'response_corporate', 'expected_timeline', 'ver_cus', 'ver_pro',\n",
       "       'ver_win_rate_x', 'ver_win_ratio_per_bu', 'business_area',\n",
       "       'business_subarea', 'lead_owner', 'is_converted', 'cus_query_cnt',\n",
       "       'cus_converted_cnt', 'cus_ratio', 'lead_query_cnt',\n",
       "       'lead_converted_cnt', 'lead_ratio', 'rc_query_cnt', 'rc_converted_cnt',\n",
       "       'rc_ratio'],\n",
       "      dtype='object')"
      ]
     },
     "execution_count": 329,
     "metadata": {},
     "output_type": "execute_result"
    }
   ],
   "source": [
    "df_train.columns"
   ]
  },
  {
   "cell_type": "code",
   "execution_count": 330,
   "id": "32280ac5",
   "metadata": {},
   "outputs": [
    {
     "name": "stdout",
     "output_type": "stream",
     "text": [
      "   customer_position  cus_pos_query_cnt  cus_pos_converted_cnt  cus_pos_ratio\n",
      "0  associate/analyst               2291                    135       0.058926\n",
      "1  c-level executive                770                     32       0.041558\n",
      "2        ceo/founder               7261                    270       0.037185\n",
      "3           director               4427                    169       0.038175\n",
      "4        entry level               2057                     51       0.024793\n"
     ]
    }
   ],
   "source": [
    "df_cus = df_train.groupby(\"customer_position\")[\"is_converted\"].count().reset_index()\n",
    "df_real_cus = df_train.groupby(\"customer_position\")[\"is_converted\"].sum().reset_index()\n",
    "df = pd.merge(df_cus, df_real_cus, on=\"customer_position\")\n",
    "df[\"cus_pos_ratio\"] = df[\"is_converted_y\"] / df[\"is_converted_x\"]\n",
    "df = df.rename(columns={\"is_converted_x\": \"cus_pos_query_cnt\", \"is_converted_y\" : \"cus_pos_converted_cnt\"})\n",
    "print(df.head())\n",
    "df=df[df[\"cus_pos_query_cnt\"]>=2]  \n",
    "df_train = pd.merge(df_train, df, on='customer_position', how=\"left\")\n",
    "df_test = pd.merge(df_test, df, on='customer_position', how=\"left\")"
   ]
  },
  {
   "cell_type": "markdown",
   "id": "5c4835bf",
   "metadata": {},
   "source": [
    "### 47466 도 이상한 회사야 그래서 이 회사인지 아닌지 "
   ]
  },
  {
   "cell_type": "code",
   "execution_count": 331,
   "id": "4d241a71",
   "metadata": {},
   "outputs": [],
   "source": [
    "def change_value(x):\n",
    "    if x == 47466:\n",
    "        return 1\n",
    "    else:\n",
    "        return 0\n",
    "\n",
    "df_train['customer_idx_47466'] = df_train['customer_idx'].apply(change_value)\n",
    "df_test['customer_idx_r_47466'] = df_test['customer_idx'].apply(change_value)"
   ]
  },
  {
   "cell_type": "markdown",
   "id": "06836d72",
   "metadata": {},
   "source": [
    "coutnry_name 쪼개는 코드"
   ]
  },
  {
   "cell_type": "code",
   "execution_count": 332,
   "id": "7d8303b0",
   "metadata": {},
   "outputs": [],
   "source": [
    "# 대충 한거임 좀더 신경써야함\n",
    "def country_name(x):\n",
    "    if pd.isnull(x):\n",
    "        return 0\n",
    "    else:\n",
    "        a = x.split(\"/\")[-1].strip()\n",
    "        if 'Congo' in a:\n",
    "            return 'Congo'\n",
    "        elif '@' in a:\n",
    "            return 'email'\n",
    "        elif any(state in a for state in ['United States', 'CA', 'MO', 'FL', 'IL', \n",
    "                                          'SD', 'TX', 'NY', 'MA', 'UT', 'CO',\n",
    "                                          'MI', 'TN', 'RJ', 'GA', 'SC', 'OR', 'NV',\n",
    "                                          'NJ', 'VT', 'ND', 'KS', 'MN', 'VA']):\n",
    "            return 'United States'\n",
    "        elif 'Türkiye' in a:\n",
    "            return 'Turkey'\n",
    "        elif any(city in a for city in ['mumbai', 'odisha', 'lucknow', 'kerela', 'bangalore', 'gurgaon']):\n",
    "            return 'India'\n",
    "        elif a in ['5555', '48201', 'country', 'A'] :\n",
    "            return 0\n",
    "        elif a in [\"Zip 98433\", '9820HuntersvilleNC28078', '200 cabelLouisvilleKY40206', 'Jacksonville Florida'] :\n",
    "            return 'United States'\n",
    "        else:\n",
    "            words = a.split()\n",
    "            count_a = sum(1 for word in words)\n",
    "            if count_a >= 3:\n",
    "                return 'United States'\n",
    "            else:\n",
    "                return a\n",
    "\n",
    "df_train[\"customer_country\"]=df_train[\"customer_country\"].apply(country_name)\n",
    "df_train[\"customer_country.1\"]=df_train[\"customer_country.1\"].apply(country_name)\n",
    "df_test[\"customer_country\"]=df_test[\"customer_country\"].apply(country_name)\n",
    "df_test[\"customer_country.1\"]=df_test[\"customer_country.1\"].apply(country_name)"
   ]
  },
  {
   "cell_type": "code",
   "execution_count": 333,
   "id": "de63cc0f",
   "metadata": {},
   "outputs": [
    {
     "data": {
      "text/plain": [
       "184"
      ]
     },
     "execution_count": 333,
     "metadata": {},
     "output_type": "execute_result"
    }
   ],
   "source": [
    "df_train['customer_country'].nunique()"
   ]
  },
  {
   "cell_type": "markdown",
   "id": "e7ada3e9",
   "metadata": {},
   "source": [
    "### 6 customer_type: 이상한 것들 묶기"
   ]
  },
  {
   "cell_type": "code",
   "execution_count": 334,
   "id": "4ccf5a98",
   "metadata": {},
   "outputs": [],
   "source": [
    "def preprocess_customer_type(x):\n",
    "    if x == 'End-Customer' :\n",
    "        return 'End Customer'\n",
    "    elif x == 'Specifier/ Influencer' :\n",
    "        return 'Specifier / Influencer'\n",
    "    elif x =='Other' or x=='Others':\n",
    "        return 'Etc.'\n",
    "    elif x == 'Software/Soultion Provider' :\n",
    "        return 'Software / Solution Provider'\n",
    "    else:\n",
    "        return x\n",
    "    \n",
    "df_train['customer_type'] = df_train['customer_type'].apply(preprocess_customer_type)\n",
    "df_test['customer_type'] = df_test['customer_type'].apply(preprocess_customer_type)"
   ]
  },
  {
   "cell_type": "code",
   "execution_count": 335,
   "id": "093479db",
   "metadata": {},
   "outputs": [],
   "source": [
    "def preprocess_customer_type(df):\n",
    "    # 'End-Customer'를 'End Customer'로 변경\n",
    "    df['customer_type'] = df['customer_type'].replace('End-Customer', 'End Customer')\n",
    "\n",
    "    # 가장 많이 나오는 변수 상위 5개를 저장\n",
    "    top3_types = df['customer_type'].value_counts().index[:5]\n",
    "\n",
    "    # 상위 3개에 속하지 않는 경우 'others'로 변경\n",
    "    df['customer_type'] = df['customer_type'].apply(lambda x: x if x in top3_types else 'others')\n",
    "\n",
    "    return df\n",
    "\n",
    "# 함수를 훈련 데이터와 테스트 데이터에 적용\n",
    "df_train = preprocess_customer_type(df_train)\n",
    "df_test = preprocess_customer_type(df_test)"
   ]
  },
  {
   "cell_type": "code",
   "execution_count": 336,
   "id": "8d77f437",
   "metadata": {},
   "outputs": [
    {
     "name": "stdout",
     "output_type": "stream",
     "text": [
      "            customer_type  cus_type_query_cnt  cus_type_converted_cnt  \\\n",
      "0         Channel Partner                1282                     145   \n",
      "1            End Customer               10097                    1337   \n",
      "2         Service Partner                 316                      39   \n",
      "3    Solution Eco-Partner                 128                      30   \n",
      "4  Specifier / Influencer                2328                     181   \n",
      "\n",
      "   cus_type_ratio  \n",
      "0        0.113105  \n",
      "1        0.132416  \n",
      "2        0.123418  \n",
      "3        0.234375  \n",
      "4        0.077749  \n"
     ]
    }
   ],
   "source": [
    "df_cus = df_train.groupby(\"customer_type\")[\"is_converted\"].count().reset_index()\n",
    "df_real_cus = df_train.groupby(\"customer_type\")[\"is_converted\"].sum().reset_index()\n",
    "df = pd.merge(df_cus, df_real_cus, on=\"customer_type\")\n",
    "df[\"cus_type_ratio\"] = df[\"is_converted_y\"] / df[\"is_converted_x\"]\n",
    "df = df.rename(columns={\"is_converted_x\": \"cus_type_query_cnt\", \"is_converted_y\" : \"cus_type_converted_cnt\"})\n",
    "print(df.head())\n",
    "df=df[df[\"cus_type_query_cnt\"]>=2]  \n",
    "df_train = pd.merge(df_train, df, on='customer_type', how=\"left\")\n",
    "df_test = pd.merge(df_test, df, on='customer_type', how=\"left\")"
   ]
  },
  {
   "cell_type": "markdown",
   "id": "9e5db4dc",
   "metadata": {},
   "source": [
    "### 8. historical_existing_cnt : 지금 query의 합계로 나눠 주어 정규화"
   ]
  },
  {
   "cell_type": "code",
   "execution_count": 337,
   "id": "f83d2199",
   "metadata": {},
   "outputs": [],
   "source": [
    "df_train['historical_existing_ratio'] = df_train['historical_existing_cnt'] / df_train['cus_query_cnt']\n",
    "df=df_train.groupby('customer_idx')['historical_existing_ratio'].mean().reset_index()\n",
    "df_test = pd.merge(df_test, df, on='customer_idx', how='left')"
   ]
  },
  {
   "cell_type": "markdown",
   "id": "db7a0a7a",
   "metadata": {},
   "source": [
    "### 10. Lead_desc_length: min max sclaer 하고 정보를 제공한 비율인 length_ratio 만듦 "
   ]
  },
  {
   "cell_type": "code",
   "execution_count": 338,
   "id": "767f13c8",
   "metadata": {},
   "outputs": [],
   "source": [
    "from sklearn.preprocessing import MinMaxScaler\n",
    "\n",
    "# MinMaxScaler 객체 생성\n",
    "scaler = MinMaxScaler()\n",
    "\n",
    "# 'lead_desc_length' 열에 대해 MinMaxScaler를 적용하고, 결과를 새로운 열에 저장\n",
    "df_train['lead_desc_length'] = scaler.fit_transform(df_train[['lead_desc_length']])\n",
    "df_train['lead_desc_length'] = scaler.fit_transform(df_train[['lead_desc_length']])"
   ]
  },
  {
   "cell_type": "code",
   "execution_count": 339,
   "id": "b55bd4b5",
   "metadata": {},
   "outputs": [],
   "source": [
    "df_train['length_ratio'] = df_train['bant_submit']*df_train['lead_desc_length']\n",
    "df_test['length_ratio'] = df_test['bant_submit']*df_test['lead_desc_length']"
   ]
  },
  {
   "cell_type": "markdown",
   "id": "e0573415",
   "metadata": {},
   "source": []
  },
  {
   "cell_type": "code",
   "execution_count": null,
   "id": "f4a9e833",
   "metadata": {},
   "outputs": [],
   "source": []
  },
  {
   "cell_type": "markdown",
   "id": "125c4cfa",
   "metadata": {},
   "source": []
  },
  {
   "cell_type": "code",
   "execution_count": null,
   "id": "f86b7d45",
   "metadata": {},
   "outputs": [],
   "source": []
  },
  {
   "cell_type": "markdown",
   "id": "233db0c3",
   "metadata": {},
   "source": []
  },
  {
   "cell_type": "code",
   "execution_count": null,
   "id": "e4acafe6",
   "metadata": {},
   "outputs": [],
   "source": []
  },
  {
   "cell_type": "markdown",
   "id": "4bd47e00",
   "metadata": {},
   "source": [
    "### 레이블 인코딩"
   ]
  },
  {
   "cell_type": "code",
   "execution_count": 340,
   "id": "0b42b1a1",
   "metadata": {},
   "outputs": [],
   "source": [
    "def label_encoding(series: pd.Series) -> pd.Series:\n",
    "    \"\"\"범주형 데이터를 시리즈 형태로 받아 숫자형 데이터로 변환합니다.\"\"\"\n",
    "\n",
    "    my_dict = {}\n",
    "\n",
    "    # 모든 요소를 문자열로 변환\n",
    "    series = series.astype(str)\n",
    "\n",
    "    for idx, value in enumerate(sorted(series.unique())):\n",
    "        my_dict[value] = idx\n",
    "    series = series.map(my_dict)\n",
    "\n",
    "    return series"
   ]
  },
  {
   "cell_type": "code",
   "execution_count": 341,
   "id": "881a4612",
   "metadata": {},
   "outputs": [],
   "source": [
    "# 레이블 인코딩할 칼럼들\n",
    "label_columns = [\n",
    "    \"customer_country\",\n",
    "    \"business_subarea\",\n",
    "    # \"business_area\",\n",
    "    # \"business_unit\",\n",
    "    # \"customer_type\",\n",
    "    # \"enterprise\",\n",
    "    \"customer_job\",\n",
    "    \"inquiry_type\",\n",
    "    \"product_category\",\n",
    "    \"product_subcategory\",\n",
    "    \"product_modelname\",\n",
    "    \"customer_country.1\",\n",
    "    \"customer_position\",\n",
    "    \"response_corporate\",\n",
    "    \"expected_timeline\",\n",
    "]\n",
    "\n",
    "#원핫 인코딩할 칼럼들\n",
    "one_hot_columns=[\n",
    "    \"bant_submit\",\n",
    "    # \"customer_country\",\n",
    "    # \"business_subarea\",\n",
    "    \"business_area\",\n",
    "    \"business_unit\",\n",
    "    \"customer_type\",\n",
    "    \"enterprise\",\n",
    "    # \"customer_job\",\n",
    "    # \"inquiry_type\",\n",
    "    # \"product_category\",\n",
    "    # \"product_subcategory\",\n",
    "    # \"product_modelname\",\n",
    "    # \"customer_country.1\",\n",
    "    # \"customer_position\",\n",
    "    # \"response_corporate\",\n",
    "    # \"expected_timeline\",    \n",
    "]\n",
    "\n",
    "df_all = pd.concat([df_train, df_test])\n",
    "\n",
    "for col in label_columns:\n",
    "    df_all[col] = label_encoding(df_all[col])\n",
    "    \n",
    "df_all = pd.get_dummies(df_all, columns=one_hot_columns)"
   ]
  },
  {
   "cell_type": "code",
   "execution_count": 342,
   "id": "4d4377e9",
   "metadata": {},
   "outputs": [],
   "source": [
    "drop_columns=[ \n",
    "            # \"id_strategic_ver\", \n",
    "            # \"it_strategic_ver\", \n",
    "            # \"idit_strategic_ver\",\n",
    "            # \"ver_cus\",\n",
    "            # \"ver_pro\", \n",
    "            # \"ver_win_rate_x\", \n",
    "            # \"ver_win_ratio_per_bu\",\n",
    "            # \"expected_timeline\",\n",
    "            # \"com_reg_ver_win_rate\",\n",
    "            # 'historical_existing_cnt'\n",
    "            'lead_owner'\n",
    "            ]\n",
    "\n",
    "for column in drop_columns:\n",
    "    df_all.drop(columns=column, inplace=True)"
   ]
  },
  {
   "cell_type": "markdown",
   "id": "3a477f93",
   "metadata": {},
   "source": [
    "다시 학습 데이터와 제출 데이터를 분리합니다."
   ]
  },
  {
   "cell_type": "code",
   "execution_count": 343,
   "id": "ff10c5fb",
   "metadata": {},
   "outputs": [],
   "source": [
    "df_train = df_all.iloc[: len(df_train)]\n",
    "df_test = df_all.iloc[len(df_train) :]"
   ]
  },
  {
   "cell_type": "code",
   "execution_count": 344,
   "id": "88cd43cf",
   "metadata": {},
   "outputs": [],
   "source": [
    "df_train = df_train.fillna(0)\n",
    "df_test = df_test.fillna(0)"
   ]
  },
  {
   "cell_type": "code",
   "execution_count": 345,
   "id": "f429b824",
   "metadata": {},
   "outputs": [],
   "source": [
    "df_train=df_train.drop(columns=\"id\")"
   ]
  },
  {
   "cell_type": "code",
   "execution_count": 346,
   "id": "ed33b6f0",
   "metadata": {},
   "outputs": [
    {
     "data": {
      "text/plain": [
       "(52155, 70)"
      ]
     },
     "execution_count": 346,
     "metadata": {},
     "output_type": "execute_result"
    }
   ],
   "source": [
    "df_train.shape"
   ]
  },
  {
   "cell_type": "code",
   "execution_count": 347,
   "id": "191d2065",
   "metadata": {},
   "outputs": [],
   "source": [
    "X_train= df_train.drop(\"is_converted\", axis=1)\n",
    "y_train= df_train[\"is_converted\"]\n",
    "X_test = df_test.drop([\"is_converted\", \"id\"], axis=1)"
   ]
  },
  {
   "cell_type": "code",
   "execution_count": 348,
   "id": "581b7c95",
   "metadata": {},
   "outputs": [],
   "source": [
    "X_train.reset_index(drop=True, inplace=True)\n",
    "y_train.reset_index(drop=True, inplace=True)"
   ]
  },
  {
   "cell_type": "markdown",
   "id": "79ecfa9b",
   "metadata": {},
   "source": [
    "## 3. 모델 학습"
   ]
  },
  {
   "cell_type": "code",
   "execution_count": 349,
   "id": "1d404f18",
   "metadata": {},
   "outputs": [
    {
     "name": "stdout",
     "output_type": "stream",
     "text": [
      "<class 'pandas.core.frame.DataFrame'>\n",
      "Index: 52155 entries, 0 to 52154\n",
      "Data columns (total 70 columns):\n",
      " #   Column                                        Non-Null Count  Dtype  \n",
      "---  ------                                        --------------  -----  \n",
      " 0   customer_country                              52155 non-null  int64  \n",
      " 1   com_reg_ver_win_rate                          52155 non-null  float64\n",
      " 2   customer_idx                                  52155 non-null  int64  \n",
      " 3   historical_existing_cnt                       52155 non-null  float64\n",
      " 4   id_strategic_ver                              52155 non-null  float64\n",
      " 5   it_strategic_ver                              52155 non-null  float64\n",
      " 6   idit_strategic_ver                            52155 non-null  float64\n",
      " 7   customer_job                                  52155 non-null  int64  \n",
      " 8   lead_desc_length                              52155 non-null  float64\n",
      " 9   inquiry_type                                  52155 non-null  int64  \n",
      " 10  product_category                              52155 non-null  int64  \n",
      " 11  product_subcategory                           52155 non-null  int64  \n",
      " 12  product_modelname                             52155 non-null  int64  \n",
      " 13  customer_country.1                            52155 non-null  int64  \n",
      " 14  customer_position                             52155 non-null  int64  \n",
      " 15  response_corporate                            52155 non-null  int64  \n",
      " 16  expected_timeline                             52155 non-null  int64  \n",
      " 17  ver_cus                                       52155 non-null  int64  \n",
      " 18  ver_pro                                       52155 non-null  int64  \n",
      " 19  ver_win_rate_x                                52155 non-null  float64\n",
      " 20  ver_win_ratio_per_bu                          52155 non-null  float64\n",
      " 21  business_subarea                              52155 non-null  int64  \n",
      " 22  is_converted                                  52155 non-null  int64  \n",
      " 23  cus_query_cnt                                 52155 non-null  float64\n",
      " 24  cus_converted_cnt                             52155 non-null  float64\n",
      " 25  cus_ratio                                     52155 non-null  float64\n",
      " 26  lead_query_cnt                                52155 non-null  float64\n",
      " 27  lead_converted_cnt                            52155 non-null  float64\n",
      " 28  lead_ratio                                    52155 non-null  float64\n",
      " 29  rc_query_cnt                                  52155 non-null  float64\n",
      " 30  rc_converted_cnt                              52155 non-null  float64\n",
      " 31  rc_ratio                                      52155 non-null  float64\n",
      " 32  cus_pos_query_cnt                             52155 non-null  float64\n",
      " 33  cus_pos_converted_cnt                         52155 non-null  float64\n",
      " 34  cus_pos_ratio                                 52155 non-null  float64\n",
      " 35  customer_idx_47466                            52155 non-null  float64\n",
      " 36  cus_type_query_cnt                            52155 non-null  int64  \n",
      " 37  cus_type_converted_cnt                        52155 non-null  int64  \n",
      " 38  cus_type_ratio                                52155 non-null  float64\n",
      " 39  historical_existing_ratio                     52155 non-null  float64\n",
      " 40  length_ratio                                  52155 non-null  float64\n",
      " 41  customer_idx_r_47466                          52155 non-null  float64\n",
      " 42  bant_submit_0.0                               52155 non-null  bool   \n",
      " 43  bant_submit_0.25                              52155 non-null  bool   \n",
      " 44  bant_submit_0.5                               52155 non-null  bool   \n",
      " 45  bant_submit_0.75                              52155 non-null  bool   \n",
      " 46  bant_submit_1.0                               52155 non-null  bool   \n",
      " 47  business_area_corporate / office              52155 non-null  bool   \n",
      " 48  business_area_education                       52155 non-null  bool   \n",
      " 49  business_area_factory                         52155 non-null  bool   \n",
      " 50  business_area_government department           52155 non-null  bool   \n",
      " 51  business_area_hospital & health care          52155 non-null  bool   \n",
      " 52  business_area_hotel & accommodation           52155 non-null  bool   \n",
      " 53  business_area_power plant / renewable energy  52155 non-null  bool   \n",
      " 54  business_area_public facility                 52155 non-null  bool   \n",
      " 55  business_area_residential (home)              52155 non-null  bool   \n",
      " 56  business_area_retail                          52155 non-null  bool   \n",
      " 57  business_area_special purpose                 52155 non-null  bool   \n",
      " 58  business_area_transportation                  52155 non-null  bool   \n",
      " 59  business_unit_AS                              52155 non-null  bool   \n",
      " 60  business_unit_ID                              52155 non-null  bool   \n",
      " 61  business_unit_IT                              52155 non-null  bool   \n",
      " 62  customer_type_Channel Partner                 52155 non-null  bool   \n",
      " 63  customer_type_End Customer                    52155 non-null  bool   \n",
      " 64  customer_type_Service Partner                 52155 non-null  bool   \n",
      " 65  customer_type_Solution Eco-Partner            52155 non-null  bool   \n",
      " 66  customer_type_Specifier / Influencer          52155 non-null  bool   \n",
      " 67  customer_type_others                          52155 non-null  bool   \n",
      " 68  enterprise_Enterprise                         52155 non-null  bool   \n",
      " 69  enterprise_SMB                                52155 non-null  bool   \n",
      "dtypes: bool(28), float64(25), int64(17)\n",
      "memory usage: 18.5 MB\n"
     ]
    }
   ],
   "source": [
    "df_train.info()"
   ]
  },
  {
   "cell_type": "markdown",
   "id": "3caf257b",
   "metadata": {},
   "source": [
    "### 모델 정의 "
   ]
  },
  {
   "cell_type": "code",
   "execution_count": 350,
   "id": "3ea295fe",
   "metadata": {},
   "outputs": [
    {
     "data": {
      "text/plain": [
       "is_converted\n",
       "0    49978\n",
       "1     2177\n",
       "Name: count, dtype: int64"
      ]
     },
     "execution_count": 350,
     "metadata": {},
     "output_type": "execute_result"
    }
   ],
   "source": [
    "y_train.value_counts()"
   ]
  },
  {
   "cell_type": "markdown",
   "id": "06bf0407",
   "metadata": {},
   "source": [
    "## 베이스라인 모델"
   ]
  },
  {
   "cell_type": "code",
   "execution_count": 351,
   "id": "dbb6ca94",
   "metadata": {},
   "outputs": [
    {
     "name": "stdout",
     "output_type": "stream",
     "text": [
      "######################################## 폴드1 / 폴드5 ########################################\n",
      "[LightGBM] [Warning] Found whitespace in feature_names, replace with underlines\n",
      "[LightGBM] [Info] Number of positive: 1741, number of negative: 39983\n",
      "[LightGBM] [Info] Auto-choosing row-wise multi-threading, the overhead of testing was 0.003724 seconds.\n",
      "You can set `force_row_wise=true` to remove the overhead.\n",
      "And if memory is not enough, you can set `force_col_wise=true`.\n",
      "[LightGBM] [Info] Total Bins 3201\n",
      "[LightGBM] [Info] Number of data points in the train set: 41724, number of used features: 68\n",
      "[LightGBM] [Warning] Found whitespace in feature_names, replace with underlines\n",
      "[LightGBM] [Info] [binary:BoostFromScore]: pavg=0.041727 -> initscore=-3.133995\n",
      "[LightGBM] [Info] Start training from score -3.133995\n",
      "Training until validation scores don't improve for 100 rounds\n",
      "Early stopping, best iteration is:\n",
      "[80]\tvalid_0's binary_logloss: 0.0954011\tvalid_0's f1: 0.678952\n",
      "폴드 1 f1 score: 0.6789524733268671\n",
      "\n",
      "######################################## 폴드2 / 폴드5 ########################################\n",
      "[LightGBM] [Warning] Found whitespace in feature_names, replace with underlines\n",
      "[LightGBM] [Info] Number of positive: 1741, number of negative: 39983\n",
      "[LightGBM] [Info] Auto-choosing row-wise multi-threading, the overhead of testing was 0.003754 seconds.\n",
      "You can set `force_row_wise=true` to remove the overhead.\n",
      "And if memory is not enough, you can set `force_col_wise=true`.\n",
      "[LightGBM] [Info] Total Bins 3194\n",
      "[LightGBM] [Info] Number of data points in the train set: 41724, number of used features: 68\n",
      "[LightGBM] [Warning] Found whitespace in feature_names, replace with underlines\n",
      "[LightGBM] [Info] [binary:BoostFromScore]: pavg=0.041727 -> initscore=-3.133995\n",
      "[LightGBM] [Info] Start training from score -3.133995\n",
      "Training until validation scores don't improve for 100 rounds\n",
      "Early stopping, best iteration is:\n",
      "[73]\tvalid_0's binary_logloss: 0.0969698\tvalid_0's f1: 0.680663\n",
      "폴드 2 f1 score: 0.6806629834254143\n",
      "\n",
      "######################################## 폴드3 / 폴드5 ########################################\n",
      "[LightGBM] [Warning] Found whitespace in feature_names, replace with underlines\n",
      "[LightGBM] [Info] Number of positive: 1742, number of negative: 39982\n",
      "[LightGBM] [Info] Auto-choosing row-wise multi-threading, the overhead of testing was 0.003150 seconds.\n",
      "You can set `force_row_wise=true` to remove the overhead.\n",
      "And if memory is not enough, you can set `force_col_wise=true`.\n",
      "[LightGBM] [Info] Total Bins 3203\n",
      "[LightGBM] [Info] Number of data points in the train set: 41724, number of used features: 68\n",
      "[LightGBM] [Warning] Found whitespace in feature_names, replace with underlines\n",
      "[LightGBM] [Info] [binary:BoostFromScore]: pavg=0.041751 -> initscore=-3.133395\n",
      "[LightGBM] [Info] Start training from score -3.133395\n",
      "Training until validation scores don't improve for 100 rounds\n",
      "Early stopping, best iteration is:\n",
      "[72]\tvalid_0's binary_logloss: 0.0969959\tvalid_0's f1: 0.67908\n",
      "폴드 3 f1 score: 0.6790799561883899\n",
      "\n",
      "######################################## 폴드4 / 폴드5 ########################################\n",
      "[LightGBM] [Warning] Found whitespace in feature_names, replace with underlines\n",
      "[LightGBM] [Info] Number of positive: 1742, number of negative: 39982\n",
      "[LightGBM] [Info] Auto-choosing row-wise multi-threading, the overhead of testing was 0.003484 seconds.\n",
      "You can set `force_row_wise=true` to remove the overhead.\n",
      "And if memory is not enough, you can set `force_col_wise=true`.\n",
      "[LightGBM] [Info] Total Bins 3206\n",
      "[LightGBM] [Info] Number of data points in the train set: 41724, number of used features: 68\n",
      "[LightGBM] [Warning] Found whitespace in feature_names, replace with underlines\n",
      "[LightGBM] [Info] [binary:BoostFromScore]: pavg=0.041751 -> initscore=-3.133395\n",
      "[LightGBM] [Info] Start training from score -3.133395\n",
      "Training until validation scores don't improve for 100 rounds\n",
      "Early stopping, best iteration is:\n",
      "[77]\tvalid_0's binary_logloss: 0.0936695\tvalid_0's f1: 0.688421\n",
      "폴드 4 f1 score: 0.6884210526315789\n",
      "\n",
      "######################################## 폴드5 / 폴드5 ########################################\n",
      "[LightGBM] [Warning] Found whitespace in feature_names, replace with underlines\n",
      "[LightGBM] [Info] Number of positive: 1742, number of negative: 39982\n",
      "[LightGBM] [Info] Auto-choosing col-wise multi-threading, the overhead of testing was 0.007638 seconds.\n",
      "You can set `force_col_wise=true` to remove the overhead.\n",
      "[LightGBM] [Info] Total Bins 3200\n",
      "[LightGBM] [Info] Number of data points in the train set: 41724, number of used features: 68\n",
      "[LightGBM] [Warning] Found whitespace in feature_names, replace with underlines\n",
      "[LightGBM] [Info] [binary:BoostFromScore]: pavg=0.041751 -> initscore=-3.133395\n",
      "[LightGBM] [Info] Start training from score -3.133395\n",
      "Training until validation scores don't improve for 100 rounds\n",
      "Early stopping, best iteration is:\n",
      "[77]\tvalid_0's binary_logloss: 0.0924947\tvalid_0's f1: 0.704197\n",
      "폴드 5 f1 score: 0.7041965199590583\n",
      "\n",
      "검증 평균 f1 score: 0.6862625971062618\n"
     ]
    }
   ],
   "source": [
    "from sklearn. model_selection import StratifiedKFold\n",
    "import lightgbm as lgb\n",
    "from sklearn.metrics import f1_score\n",
    "\n",
    "folds = StratifiedKFold(n_splits=5, shuffle=True, random_state=0)\n",
    "\n",
    "oof_val_preds = np.zeros(X_train.shape[0])\n",
    "oof_test_preds = np.zeros(X_test.shape[0])\n",
    "\n",
    "def f1score(preds, d_train):\n",
    "    labels = d_train.get_label()\n",
    "    return 'f1', f1_score(labels, np.round(preds)), True\n",
    "\n",
    "params={\n",
    "    'objective': 'binary',\n",
    "    'learning_rate':0.01,\n",
    "    \"random_state\":0,\n",
    "    \"early_stopping_rounds\":100,\n",
    "    \"scale_pos_weight\": 22\n",
    "}\n",
    "\n",
    "f1_score_list=[]\n",
    "feature_importance_list=[]\n",
    "threshold_list=[]\n",
    "\n",
    "for idx, (train_idx, valid_idx) in enumerate(folds.split(X_train, y_train)):\n",
    "    print('#'*40, f'폴드{idx+1} / 폴드{folds.n_splits}', \"#\"*40)\n",
    "    X_tr, y_tr = X_train.iloc[train_idx], y_train.iloc[train_idx]\n",
    "    X_val, y_val = X_train.iloc[valid_idx], y_train.iloc[valid_idx]\n",
    "    \n",
    "    d_train = lgb.Dataset(X_tr, y_tr)\n",
    "    d_valid = lgb.Dataset(X_val, y_val)\n",
    "    \n",
    "    lgb_model = lgb.train(params=params,\n",
    "                          train_set=d_train,\n",
    "                          num_boost_round=1000,\n",
    "                          valid_sets=d_valid,\n",
    "                          feval=f1score)\n",
    "    \n",
    "    oof_test_preds += lgb_model.predict(X_test) / folds.get_n_splits()\n",
    "    oof_val_preds[valid_idx] += lgb_model.predict(X_val)\n",
    "    \n",
    "    f1 = f1_score(y_val, np.round(oof_val_preds[valid_idx]))\n",
    "    f1_score_list.append(f1)\n",
    "    print(f'폴드 {idx+1} f1 score: {f1}\\n')\n",
    "    \n",
    "    feature_importance_list.append(lgb_model.feature_importance())\n",
    "\n",
    "print(f'검증 평균 f1 score: {np.mean(f1_score_list)}')\n",
    "# 검증 평균 f1 score:  0.70"
   ]
  },
  {
   "cell_type": "code",
   "execution_count": 352,
   "id": "09872b56",
   "metadata": {},
   "outputs": [
    {
     "data": {
      "image/png": "[encoded data removed]",
      "text/plain": [
       "<Figure size 1000x600 with 1 Axes>"
      ]
     },
     "metadata": {},
     "output_type": "display_data"
    }
   ],
   "source": [
    "import numpy as np\n",
    "import matplotlib.pyplot as plt\n",
    "\n",
    "# 특징 중요도와 특징 이름을 정렬\n",
    "top_features = 30\n",
    "sorted_indices = np.argsort(-np.mean(feature_importance_list, axis=0))[::-1]\n",
    "sorted_feature_names = [lgb_model.feature_name()[i] for i in sorted_indices][-top_features:]\n",
    "sorted_mean_importance = np.mean(feature_importance_list, axis=0)[sorted_indices][-top_features:]\n",
    "\n",
    "# 바 차트 그리기\n",
    "plt.figure(figsize=(10, 6))\n",
    "plt.barh(sorted_feature_names, sorted_mean_importance)\n",
    "plt.xlabel('Mean Importance')\n",
    "plt.ylabel('Features')\n",
    "plt.title('Mean Feature Importance')\n",
    "plt.show()"
   ]
  },
  {
   "cell_type": "markdown",
   "id": "9d0b6e17",
   "metadata": {},
   "source": [
    "### 테스트 데이터 예측"
   ]
  },
  {
   "cell_type": "code",
   "execution_count": 353,
   "id": "43daa73c",
   "metadata": {},
   "outputs": [],
   "source": [
    "# 예측에 필요한 데이터 분리 0.3으로 했을 때 가장 많이 나옴.. 이게 맞나\n",
    "test_pred = np.where(oof_test_preds >= 0.3, 1, 0)"
   ]
  },
  {
   "cell_type": "code",
   "execution_count": 354,
   "id": "d13f7a6e",
   "metadata": {},
   "outputs": [
    {
     "data": {
      "text/plain": [
       "2371"
      ]
     },
     "execution_count": 354,
     "metadata": {},
     "output_type": "execute_result"
    }
   ],
   "source": [
    "sum(test_pred) # True로 예측된 개수 2064"
   ]
  },
  {
   "cell_type": "markdown",
   "id": "7adf8300",
   "metadata": {},
   "source": [
    "## 4. 제출하기"
   ]
  },
  {
   "cell_type": "markdown",
   "id": "47f18e6a",
   "metadata": {},
   "source": [
    "### 제출 파일 작성"
   ]
  },
  {
   "cell_type": "code",
   "execution_count": 355,
   "id": "11eb7117",
   "metadata": {},
   "outputs": [],
   "source": [
    "df_test[\"is_converted\"] = test_pred"
   ]
  },
  {
   "cell_type": "code",
   "execution_count": 356,
   "id": "3128a458",
   "metadata": {},
   "outputs": [],
   "source": [
    "# 제출 데이터 읽어오기 (df_test는 전처리된 데이터가 저장됨)\n",
    "df_sub = pd.read_csv(\"submission.csv\")\n",
    "df_sub[\"is_converted\"]=df_test[\"is_converted\"]\n",
    "\n",
    "# 제출 파일 저장\n",
    "df_sub.to_csv(\"submission.csv\", index=False)"
   ]
  },
  {
   "cell_type": "markdown",
   "id": "ec7867ce",
   "metadata": {},
   "source": [
    "**우측 상단의 제출 버튼을 클릭해 결과를 확인하세요**"
   ]
  },
  {
   "cell_type": "markdown",
   "id": "1872aa23",
   "metadata": {},
   "source": []
  }
 ],
 "metadata": {
  "kernelspec": {
   "display_name": "Python 3 (ipykernel)",
   "language": "python",
   "name": "python3"
  },
  "language_info": {
   "codemirror_mode": {
    "name": "ipython",
    "version": 3
   },
   "file_extension": ".py",
   "mimetype": "text/x-python",
   "name": "python",
   "nbconvert_exporter": "python",
   "pygments_lexer": "ipython3",
   "version": "3.11.5"
  }
 },
 "nbformat": 4,
 "nbformat_minor": 5
}
